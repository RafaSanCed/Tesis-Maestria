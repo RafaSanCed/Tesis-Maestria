{
 "cells": [
  {
   "cell_type": "code",
   "execution_count": 4,
   "id": "10551b59",
   "metadata": {
    "ExecuteTime": {
     "end_time": "2023-04-25T19:19:48.484694Z",
     "start_time": "2023-04-25T19:19:46.762495Z"
    }
   },
   "outputs": [],
   "source": [
    "import tensorflow as tf\n",
    "import pathlib\n",
    "import os\n",
    "import matplotlib.pyplot as plt\n",
    "import pandas as pd\n",
    "import numpy as np\n",
    "import keras"
   ]
  },
  {
   "cell_type": "code",
   "execution_count": 5,
   "id": "6eff787f",
   "metadata": {
    "ExecuteTime": {
     "end_time": "2023-04-25T19:19:48.531590Z",
     "start_time": "2023-04-25T19:19:48.517585Z"
    }
   },
   "outputs": [],
   "source": [
    "def custom_loss2(y_true2, y_pred2):\n",
    "    campvec = []\n",
    "    # constantes\n",
    "    a1 = y_true2[0]\n",
    "\n",
    "    a2 =y_true2[1]\n",
    "    \n",
    "    b1 = y_true2[2]\n",
    "    \n",
    "    b2 = y_true2[3]\n",
    "\n",
    "    d1 = y_true2[4]\n",
    "\n",
    "    d2 = y_true2[5]\n",
    "\n",
    "    n = y_true2[5]\n",
    "    def f(t, y):\n",
    "\n",
    "        # asignar a cada ODE a un elemento de vector\n",
    "        X = y[0]\n",
    "        Y = y[1]\n",
    "\n",
    "        # definimos cada ODE\n",
    "        dX_dt = a1/(1+Y**n)-d1*X+b1\n",
    "        dY_dt = a2/(1+X**n)-d2*Y+b1\n",
    "\n",
    "        return [dX_dt, dY_dt]\n",
    "\n",
    "    x_range_neg = 0\n",
    "    x_range_pos = 5\n",
    "    y_range_neg = 0\n",
    "    y_range_pos =5\n",
    "\n",
    "    y1 = np.linspace(x_range_neg, x_range_pos, 100)\n",
    "    y2 = np.linspace(y_range_neg, y_range_pos, 100)\n",
    "\n",
    "    Y1, Y2 = np.meshgrid(y1, y2)\n",
    "    \n",
    "    t1 = 0\n",
    "\n",
    "    u, v = np.zeros(Y1.shape), np.zeros(Y2.shape)\n",
    "\n",
    "    NI, NJ = Y1.shape\n",
    "\n",
    "    u1, v1 = f(t1, [Y1, Y2])\n",
    "    u, v = f(t1, [Y1, Y2])\n",
    "    M = (np.hypot(u, v))\n",
    "    u /= M\n",
    "    v /= M\n",
    "# ----------------------------------------------------------------------------\n",
    "    campvec2 = []\n",
    "    # constantes\n",
    "    a12 = y_pred2[0]\n",
    "\n",
    "    a22 =y_pred2[1]\n",
    "    \n",
    "    b12 = y_pred2[2]\n",
    "    \n",
    "    b22 = y_pred2[3]\n",
    "\n",
    "    d12 = y_pred2[4]\n",
    "\n",
    "    d22 = y_pred2[5]\n",
    "\n",
    "    n2 = y_pred2[5]\n",
    "    def f2(t2, ye2):\n",
    "\n",
    "        # asignar a cada ODE a un elemento de vector\n",
    "        X2 = ye2[0]\n",
    "        Y2 = ye2[1]\n",
    "\n",
    "        # definimos cada ODE\n",
    "        dX2_dt = a12/(1+Y2**n2)-d12*X2+b12\n",
    "        dY2_dt = a22/(1+X2**n2)-d22*Y2+b12\n",
    "        return [dX2_dt, dY2_dt]\n",
    "\n",
    "    y12 = np.linspace(x_range_neg, x_range_pos, 100)\n",
    "    y22 = np.linspace(y_range_neg, y_range_pos, 100)\n",
    "    Y12, Y22 = np.meshgrid(y12, y22)\n",
    "    u2, v2 = np.zeros(Y12.shape), np.zeros(Y22.shape)\n",
    "    u2, v2 = f2(t1, [Y12, Y22])\n",
    "    M2 = np.sqrt(np.square(u2) + np.square(v2))\n",
    "    u2 /= M2\n",
    "    v2 /= M2\n",
    "    campvecx = u- u2\n",
    "    campvecy = v - v2    \n",
    "    \n",
    "    \n",
    "    #loss = tf.reduce_mean(campvectotal)\n",
    "    return u,v, u2,v2, campvecx, campvecy,Y1,Y2,Y12,Y22,M,M2"
   ]
  },
  {
   "cell_type": "code",
   "execution_count": 6,
   "id": "f9418d9c",
   "metadata": {
    "ExecuteTime": {
     "end_time": "2023-04-25T19:19:48.593928Z",
     "start_time": "2023-04-25T19:19:48.563032Z"
    }
   },
   "outputs": [
    {
     "ename": "NameError",
     "evalue": "name 'Y1' is not defined",
     "output_type": "error",
     "traceback": [
      "\u001b[1;31m---------------------------------------------------------------------------\u001b[0m",
      "\u001b[1;31mNameError\u001b[0m                                 Traceback (most recent call last)",
      "Input \u001b[1;32mIn [6]\u001b[0m, in \u001b[0;36m<cell line: 6>\u001b[1;34m()\u001b[0m\n\u001b[0;32m      4\u001b[0m y_range_pos \u001b[38;5;241m=\u001b[39m\u001b[38;5;241m5\u001b[39m\n\u001b[0;32m      5\u001b[0m plt\u001b[38;5;241m.\u001b[39mfigure(figsize\u001b[38;5;241m=\u001b[39m(\u001b[38;5;241m10\u001b[39m, \u001b[38;5;241m10\u001b[39m))\n\u001b[1;32m----> 6\u001b[0m Q \u001b[38;5;241m=\u001b[39m plt\u001b[38;5;241m.\u001b[39mquiver(\u001b[43mY1\u001b[49m, Y2, u, v, M, angles\u001b[38;5;241m=\u001b[39m\u001b[38;5;124m'\u001b[39m\u001b[38;5;124mxy\u001b[39m\u001b[38;5;124m'\u001b[39m)\n\u001b[0;32m      7\u001b[0m plt\u001b[38;5;241m.\u001b[39mtitle(\u001b[38;5;124m'\u001b[39m\u001b[38;5;124mCampo vectorial espacio fase Toggle Swich\u001b[39m\u001b[38;5;124m'\u001b[39m, fontsize\u001b[38;5;241m=\u001b[39m\u001b[38;5;241m20\u001b[39m)\n\u001b[0;32m      8\u001b[0m plt\u001b[38;5;241m.\u001b[39mxlim([x_range_neg, x_range_pos])\n",
      "\u001b[1;31mNameError\u001b[0m: name 'Y1' is not defined"
     ]
    },
    {
     "data": {
      "text/plain": [
       "<Figure size 1000x1000 with 0 Axes>"
      ]
     },
     "metadata": {},
     "output_type": "display_data"
    }
   ],
   "source": [
    "x_range_neg = 0\n",
    "x_range_pos = 5\n",
    "y_range_neg = 0\n",
    "y_range_pos =5\n",
    "plt.figure(figsize=(10, 10))\n",
    "Q = plt.quiver(Y1, Y2, u, v, M, angles='xy')\n",
    "plt.title('Campo vectorial espacio fase Toggle Swich', fontsize=20)\n",
    "plt.xlim([x_range_neg, x_range_pos])\n",
    "plt.ylim([y_range_neg, y_range_pos])\n",
    "plt.xlabel('Concentración X')\n",
    "plt.ylabel('Concentración Y')"
   ]
  },
  {
   "cell_type": "code",
   "execution_count": null,
   "id": "af4ee8d1",
   "metadata": {},
   "outputs": [],
   "source": []
  }
 ],
 "metadata": {
  "hide_input": false,
  "kernelspec": {
   "display_name": "Python 3 (ipykernel)",
   "language": "python",
   "name": "python3"
  },
  "language_info": {
   "codemirror_mode": {
    "name": "ipython",
    "version": 3
   },
   "file_extension": ".py",
   "mimetype": "text/x-python",
   "name": "python",
   "nbconvert_exporter": "python",
   "pygments_lexer": "ipython3",
   "version": "3.9.13"
  },
  "toc": {
   "base_numbering": 1,
   "nav_menu": {},
   "number_sections": true,
   "sideBar": true,
   "skip_h1_title": false,
   "title_cell": "Table of Contents",
   "title_sidebar": "Contents",
   "toc_cell": false,
   "toc_position": {},
   "toc_section_display": true,
   "toc_window_display": false
  },
  "varInspector": {
   "cols": {
    "lenName": 16,
    "lenType": 16,
    "lenVar": 40
   },
   "kernels_config": {
    "python": {
     "delete_cmd_postfix": "",
     "delete_cmd_prefix": "del ",
     "library": "var_list.py",
     "varRefreshCmd": "print(var_dic_list())"
    },
    "r": {
     "delete_cmd_postfix": ") ",
     "delete_cmd_prefix": "rm(",
     "library": "var_list.r",
     "varRefreshCmd": "cat(var_dic_list()) "
    }
   },
   "types_to_exclude": [
    "module",
    "function",
    "builtin_function_or_method",
    "instance",
    "_Feature"
   ],
   "window_display": false
  }
 },
 "nbformat": 4,
 "nbformat_minor": 5
}
