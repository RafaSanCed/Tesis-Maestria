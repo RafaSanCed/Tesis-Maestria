{
 "cells": [
  {
   "cell_type": "markdown",
   "id": "0067cad0",
   "metadata": {},
   "source": [
    "# Importamos librerías"
   ]
  },
  {
   "cell_type": "code",
   "execution_count": 1,
   "id": "b2d4f30f",
   "metadata": {
    "ExecuteTime": {
     "end_time": "2023-05-02T02:25:20.747437Z",
     "start_time": "2023-05-02T02:25:19.032369Z"
    }
   },
   "outputs": [],
   "source": [
    "import tensorflow as tf\n",
    "import pathlib\n",
    "import os\n",
    "import matplotlib.pyplot as plt\n",
    "import pandas as pd\n",
    "import numpy as np\n",
    "import keras"
   ]
  },
  {
   "cell_type": "code",
   "execution_count": 2,
   "id": "20fccfc6",
   "metadata": {
    "ExecuteTime": {
     "end_time": "2023-05-02T02:25:20.793135Z",
     "start_time": "2023-05-02T02:25:20.778373Z"
    }
   },
   "outputs": [],
   "source": [
    "from tensorflow.keras import Sequential\n",
    "from tensorflow.keras.layers import Conv2D\n",
    "from tensorflow.keras.layers import MaxPooling2D\n",
    "from tensorflow.keras.layers import AveragePooling2D\n",
    "from tensorflow.keras.layers import Dense\n",
    "from tensorflow.keras.layers import Flatten\n",
    "from tensorflow.keras.layers import Dropout, BatchNormalization"
   ]
  },
  {
   "cell_type": "code",
   "execution_count": 3,
   "id": "1c769735",
   "metadata": {
    "ExecuteTime": {
     "end_time": "2023-05-02T02:25:20.903369Z",
     "start_time": "2023-05-02T02:25:20.824369Z"
    }
   },
   "outputs": [
    {
     "name": "stdout",
     "output_type": "stream",
     "text": [
      "WARNING:tensorflow:From C:\\Users\\rafae\\AppData\\Local\\Temp\\ipykernel_22792\\337460670.py:1: is_gpu_available (from tensorflow.python.framework.test_util) is deprecated and will be removed in a future version.\n",
      "Instructions for updating:\n",
      "Use `tf.config.list_physical_devices('GPU')` instead.\n"
     ]
    },
    {
     "data": {
      "text/plain": [
       "True"
      ]
     },
     "execution_count": 3,
     "metadata": {},
     "output_type": "execute_result"
    }
   ],
   "source": [
    "tf.test.is_gpu_available()"
   ]
  },
  {
   "cell_type": "markdown",
   "id": "d94b2fbd",
   "metadata": {},
   "source": [
    "# Importamos los datos"
   ]
  },
  {
   "cell_type": "code",
   "execution_count": 4,
   "id": "2cdd79aa",
   "metadata": {
    "ExecuteTime": {
     "end_time": "2023-05-02T02:25:21.309755Z",
     "start_time": "2023-05-02T02:25:21.306367Z"
    }
   },
   "outputs": [],
   "source": [
    "path = '../../../Base de datos/Trayectorias 200 eval'"
   ]
  },
  {
   "cell_type": "markdown",
   "id": "39beab0c",
   "metadata": {},
   "source": [
    "## Datos de entrenamiento"
   ]
  },
  {
   "cell_type": "markdown",
   "id": "ca636b58",
   "metadata": {},
   "source": [
    "### Datos"
   ]
  },
  {
   "cell_type": "code",
   "execution_count": 5,
   "id": "ac8ee3cc",
   "metadata": {
    "ExecuteTime": {
     "end_time": "2023-05-02T02:25:22.642400Z",
     "start_time": "2023-05-02T02:25:22.578369Z"
    }
   },
   "outputs": [],
   "source": [
    "varftrain = np.load(path + '/varftrain.npy')"
   ]
  },
  {
   "cell_type": "code",
   "execution_count": 6,
   "id": "a2977931",
   "metadata": {
    "ExecuteTime": {
     "end_time": "2023-05-02T02:25:22.941502Z",
     "start_time": "2023-05-02T02:25:22.936763Z"
    }
   },
   "outputs": [
    {
     "data": {
      "text/plain": [
       "(7000, 10, 2, 200)"
      ]
     },
     "execution_count": 6,
     "metadata": {},
     "output_type": "execute_result"
    }
   ],
   "source": [
    "np.shape(varftrain)"
   ]
  },
  {
   "cell_type": "markdown",
   "id": "4a0e5fa2",
   "metadata": {},
   "source": [
    "### Coeficientes"
   ]
  },
  {
   "cell_type": "code",
   "execution_count": 7,
   "id": "45e5d25a",
   "metadata": {
    "ExecuteTime": {
     "end_time": "2023-05-02T02:25:23.582737Z",
     "start_time": "2023-05-02T02:25:23.574217Z"
    }
   },
   "outputs": [],
   "source": [
    "coefvarftrain = np.load(path + '/coefvarftrain.npy')"
   ]
  },
  {
   "cell_type": "code",
   "execution_count": 8,
   "id": "88f0323d",
   "metadata": {
    "ExecuteTime": {
     "end_time": "2023-05-02T02:25:24.641513Z",
     "start_time": "2023-05-02T02:25:24.635549Z"
    }
   },
   "outputs": [
    {
     "data": {
      "text/plain": [
       "(7000, 7)"
      ]
     },
     "execution_count": 8,
     "metadata": {},
     "output_type": "execute_result"
    }
   ],
   "source": [
    "np.shape(coefvarftrain)"
   ]
  },
  {
   "cell_type": "markdown",
   "id": "c89d3216",
   "metadata": {},
   "source": [
    "## Datos de prueba"
   ]
  },
  {
   "cell_type": "markdown",
   "id": "df843cea",
   "metadata": {},
   "source": [
    "### Datos"
   ]
  },
  {
   "cell_type": "code",
   "execution_count": 9,
   "id": "74030537",
   "metadata": {
    "ExecuteTime": {
     "end_time": "2023-05-02T02:25:25.446121Z",
     "start_time": "2023-05-02T02:25:25.413366Z"
    }
   },
   "outputs": [],
   "source": [
    "varftest = np.load(path + '/varftest.npy')"
   ]
  },
  {
   "cell_type": "code",
   "execution_count": 10,
   "id": "d6196850",
   "metadata": {
    "ExecuteTime": {
     "end_time": "2023-05-02T02:25:25.697454Z",
     "start_time": "2023-05-02T02:25:25.689455Z"
    }
   },
   "outputs": [
    {
     "data": {
      "text/plain": [
       "(2000, 10, 2, 200)"
      ]
     },
     "execution_count": 10,
     "metadata": {},
     "output_type": "execute_result"
    }
   ],
   "source": [
    "np.shape(varftest)"
   ]
  },
  {
   "cell_type": "markdown",
   "id": "46a3e36d",
   "metadata": {},
   "source": [
    "### Coeficientes"
   ]
  },
  {
   "cell_type": "code",
   "execution_count": 11,
   "id": "cf22c486",
   "metadata": {
    "ExecuteTime": {
     "end_time": "2023-05-02T02:25:26.137371Z",
     "start_time": "2023-05-02T02:25:26.126371Z"
    }
   },
   "outputs": [],
   "source": [
    "coefvarftest = np.load(path + '/coefvarftest.npy')"
   ]
  },
  {
   "cell_type": "code",
   "execution_count": 12,
   "id": "545559ea",
   "metadata": {
    "ExecuteTime": {
     "end_time": "2023-05-02T02:25:26.371201Z",
     "start_time": "2023-05-02T02:25:26.361369Z"
    }
   },
   "outputs": [
    {
     "data": {
      "text/plain": [
       "(2000, 7)"
      ]
     },
     "execution_count": 12,
     "metadata": {},
     "output_type": "execute_result"
    }
   ],
   "source": [
    "np.shape(coefvarftest)"
   ]
  },
  {
   "cell_type": "markdown",
   "id": "63024745",
   "metadata": {},
   "source": [
    "## Datos de validación"
   ]
  },
  {
   "cell_type": "markdown",
   "id": "9e38f1d7",
   "metadata": {},
   "source": [
    "### Datos"
   ]
  },
  {
   "cell_type": "code",
   "execution_count": 13,
   "id": "6e5768b7",
   "metadata": {
    "ExecuteTime": {
     "end_time": "2023-05-02T02:25:27.046920Z",
     "start_time": "2023-05-02T02:25:27.031370Z"
    }
   },
   "outputs": [],
   "source": [
    "varfval = np.load(path + '/varfval.npy')"
   ]
  },
  {
   "cell_type": "code",
   "execution_count": 14,
   "id": "a29f5ec0",
   "metadata": {
    "ExecuteTime": {
     "end_time": "2023-05-02T02:25:27.300179Z",
     "start_time": "2023-05-02T02:25:27.294179Z"
    }
   },
   "outputs": [
    {
     "data": {
      "text/plain": [
       "(1000, 10, 2, 200)"
      ]
     },
     "execution_count": 14,
     "metadata": {},
     "output_type": "execute_result"
    }
   ],
   "source": [
    "np.shape(varfval)"
   ]
  },
  {
   "cell_type": "markdown",
   "id": "ffc618a2",
   "metadata": {},
   "source": [
    "### Coeficienes"
   ]
  },
  {
   "cell_type": "code",
   "execution_count": 15,
   "id": "b323751c",
   "metadata": {
    "ExecuteTime": {
     "end_time": "2023-05-02T02:25:27.709367Z",
     "start_time": "2023-05-02T02:25:27.706367Z"
    }
   },
   "outputs": [],
   "source": [
    "coefvarfval = np.load(path + '/coefvarfval.npy')"
   ]
  },
  {
   "cell_type": "code",
   "execution_count": 16,
   "id": "60df7d7d",
   "metadata": {
    "ExecuteTime": {
     "end_time": "2023-05-02T02:25:27.913369Z",
     "start_time": "2023-05-02T02:25:27.900370Z"
    }
   },
   "outputs": [
    {
     "data": {
      "text/plain": [
       "(1000, 7)"
      ]
     },
     "execution_count": 16,
     "metadata": {},
     "output_type": "execute_result"
    }
   ],
   "source": [
    "np.shape(coefvarfval)"
   ]
  },
  {
   "cell_type": "markdown",
   "id": "e069562d",
   "metadata": {},
   "source": [
    "# Unimos coeficientes con los datos"
   ]
  },
  {
   "cell_type": "code",
   "execution_count": 17,
   "id": "a973df40",
   "metadata": {
    "ExecuteTime": {
     "end_time": "2023-05-02T02:25:28.604366Z",
     "start_time": "2023-05-02T02:25:28.327843Z"
    }
   },
   "outputs": [],
   "source": [
    "train_dataset = tf.data.Dataset.from_tensor_slices((varftrain, coefvarftrain))\n",
    "test_dataset = tf.data.Dataset.from_tensor_slices((varftest, coefvarftest))\n",
    "val_dataset = tf.data.Dataset.from_tensor_slices((varfval, coefvarfval))"
   ]
  },
  {
   "cell_type": "code",
   "execution_count": 18,
   "id": "bc7ee207",
   "metadata": {
    "ExecuteTime": {
     "end_time": "2023-05-02T02:25:28.698367Z",
     "start_time": "2023-05-02T02:25:28.689366Z"
    }
   },
   "outputs": [
    {
     "data": {
      "text/plain": [
       "<TensorSliceDataset element_spec=(TensorSpec(shape=(10, 2, 200), dtype=tf.float64, name=None), TensorSpec(shape=(7,), dtype=tf.int32, name=None))>"
      ]
     },
     "execution_count": 18,
     "metadata": {},
     "output_type": "execute_result"
    }
   ],
   "source": [
    "train_dataset"
   ]
  },
  {
   "cell_type": "markdown",
   "id": "05ebcd40",
   "metadata": {
    "ExecuteTime": {
     "end_time": "2023-02-07T19:36:45.065835Z",
     "start_time": "2023-02-07T19:36:45.042683Z"
    }
   },
   "source": [
    "# Mezclar y procesar por lotes los conjuntos de datos"
   ]
  },
  {
   "cell_type": "code",
   "execution_count": 19,
   "id": "eca4c6bc",
   "metadata": {
    "ExecuteTime": {
     "end_time": "2023-05-02T02:25:31.704737Z",
     "start_time": "2023-05-02T02:25:31.696053Z"
    }
   },
   "outputs": [],
   "source": [
    "BATCH_SIZE = 100\n",
    "SHUFFLE_BUFFER_SIZE = 100\n",
    "\n",
    "train_dataset = train_dataset.shuffle(SHUFFLE_BUFFER_SIZE).batch(BATCH_SIZE)\n",
    "test_dataset = test_dataset.batch(BATCH_SIZE)\n",
    "val_dataset = val_dataset.batch(BATCH_SIZE)"
   ]
  },
  {
   "cell_type": "code",
   "execution_count": 20,
   "id": "08eedfc4",
   "metadata": {
    "ExecuteTime": {
     "end_time": "2023-05-02T02:32:45.783367Z",
     "start_time": "2023-05-02T02:32:45.773367Z"
    }
   },
   "outputs": [
    {
     "data": {
      "text/plain": [
       "<BatchDataset element_spec=(TensorSpec(shape=(None, 10, 2, 200), dtype=tf.float64, name=None), TensorSpec(shape=(None, 7), dtype=tf.int32, name=None))>"
      ]
     },
     "execution_count": 20,
     "metadata": {},
     "output_type": "execute_result"
    }
   ],
   "source": [
    "train_dataset"
   ]
  },
  {
   "cell_type": "markdown",
   "id": "46c62479",
   "metadata": {},
   "source": [
    "# Creamos la función de costo"
   ]
  },
  {
   "cell_type": "code",
   "execution_count": 20,
   "id": "f81457b1",
   "metadata": {
    "ExecuteTime": {
     "end_time": "2023-04-13T04:48:41.320048Z",
     "start_time": "2023-04-13T04:48:41.305048Z"
    }
   },
   "outputs": [],
   "source": [
    "from scipy.integrate import solve_ivp\n",
    "def custom_loss(y_true, y_pred):\n",
    "    campvec = []\n",
    "    # constantes\n",
    "    a1 = tf.cast(y_true[:, 0], tf.float64)\n",
    "    #tf.print(a1)\n",
    "    a1 = tf.reshape(a1, shape=(-1, 1, 1))\n",
    "\n",
    "    a2 = tf.cast(y_true[:, 1], tf.float64)\n",
    "    a2 = tf.reshape(a2, shape=(-1, 1, 1))\n",
    "    \n",
    "    b1 = tf.cast(y_true[:, 2], tf.float64)\n",
    "    b1 = tf.reshape(b1,shape = (-1,1,1))\n",
    "    \n",
    "    b2 = tf.cast(y_true[:, 3], tf.float64)\n",
    "    b2 = tf.reshape(b2,shape = (-1,1,1))\n",
    "\n",
    "    d1 = tf.cast(y_true[:, 4], tf.float64)\n",
    "    d1 = tf.reshape(d1, shape=(-1, 1, 1))\n",
    "\n",
    "    d2 = tf.cast(y_true[:, 5], tf.float64)\n",
    "    d2 = tf.reshape(d2, shape=(-1, 1, 1))\n",
    "\n",
    "    n = tf.cast(y_true[:, 6], tf.float64)\n",
    "    n = tf.reshape(n, shape=(-1, 1, 1))\n",
    "\n",
    "    def f(t, y):\n",
    "\n",
    "        # asignar a cada ODE a un elemento de vector\n",
    "        X = y[0]\n",
    "        X = tf.cast(X, tf.float64)\n",
    "        X = tf.reshape(X, shape=(1, 100,100))\n",
    "        Y = y[1]\n",
    "        Y = tf.cast(Y, tf.float64)\n",
    "        Y = tf.reshape(Y, shape=(1, 100,100))\n",
    "        \n",
    "        # definimos cada ODE\n",
    "        dX_dt = tf.divide(a1,(1 + tf.math.pow(Y, n)+1e-5)) - tf.multiply(d1,X) + b1\n",
    "        dY_dt = tf.divide(a2,(1 + tf.math.pow(X, n)+1e-7)) - tf.multiply(d2,Y) + b2\n",
    "        return [dX_dt, dY_dt]\n",
    "\n",
    "    varfci2 = []\n",
    "    for i_ci in range(0, 10):\n",
    "        # Definimos las condiciones iniciales\n",
    "        y0 = tf.random.uniform(shape=(2,), minval=0, maxval=11, dtype=tf.float32)\n",
    "        y0 = tf.cast(y0, tf.int32)\n",
    "        # Resolvemos\n",
    "        # Modificar manualmente el intervalo de tiempo\n",
    "        sol = solve_ivp(f, t_span, y0, t_eval=times)\n",
    "        # sol=solve_ivp(f, t_span, y0) #Dejar que la librería elija el mejor intervalo\n",
    "        tiempo = sol.t\n",
    "        var1 = sol.y[0]\n",
    "        var2 = sol.y[1]\n",
    "\n",
    "        varfci = np.append([var1], [var2], axis=0)\n",
    "        varfci2.append(varfci)\n",
    "\n",
    "# ----------------------------------------------------------------------------\n",
    "    campvec2 = []\n",
    "    # constantes\n",
    "    a12 = tf.cast(y_pred[:, 0], tf.float64)\n",
    "    a12 = tf.reshape(a12, shape=(-1, 1, 1))\n",
    "\n",
    "    a22 = tf.cast(y_pred[:, 1], tf.float64)\n",
    "    a22 = tf.reshape(a22, shape=(-1, 1, 1))\n",
    "    \n",
    "    b12 = tf.cast(y_pred[:, 2], tf.float64)\n",
    "    b12 = tf.reshape(b12,shape = (-1,1,1))\n",
    "    \n",
    "    b22 = tf.cast(y_pred[:, 3], tf.float64)\n",
    "    b22 = tf.reshape(b22,shape = (-1,1,1))\n",
    "\n",
    "    d12 = tf.cast(y_pred[:, 4], tf.float64)\n",
    "    d12 = tf.reshape(d12, shape=(-1, 1, 1))\n",
    "\n",
    "    d22 = tf.cast(y_pred[:, 5], tf.float64)\n",
    "    d22 = tf.reshape(d22, shape=(-1, 1, 1))\n",
    "\n",
    "    n2 = tf.cast(y_pred[:, 6], tf.float64)\n",
    "    n2 = tf.reshape(n2, shape=(-1, 1, 1))\n",
    "    \n",
    "    def f2(t2, ye2):\n",
    "\n",
    "        # asignar a cada ODE a un elemento de vector\n",
    "        X2 = ye2[0]\n",
    "        X2 = tf.cast(X2, tf.float64)\n",
    "        X2 = tf.reshape(X2, shape=(1, 100,100))\n",
    "        Y2 = ye2[1]\n",
    "        Y2 = tf.cast(Y2, tf.float64)\n",
    "        Y2 = tf.reshape(Y2, shape=(1, 100,100))\n",
    "\n",
    "        # definimos cada ODE\n",
    "        dX2_dt = tf.divide(a12,(1 + tf.math.pow(Y2, n2)+1e-8)) - tf.multiply(d12,X2) + b12\n",
    "        dY2_dt = tf.divide(a22,(1 + tf.math.pow(X2, n2)+1e-8)) - tf.multiply(d22,Y2) + b22\n",
    "        return [dX2_dt, dY2_dt]\n",
    "\n",
    "    y12 = tf.linspace(x_range_neg, x_range_pos, 100)\n",
    "    y22 = tf.linspace(y_range_neg, y_range_pos, 100)\n",
    "    Y12, Y22 = tf.meshgrid(y12, y22)\n",
    "    u2, v2 = tf.zeros(Y12.shape), tf.zeros(Y22.shape)\n",
    "    u2, v2 = f2(t, [Y12, Y22])\n",
    "\n",
    "    campvecx = tf.abs(tf.subtract(u,u2))\n",
    "    campvecy = tf.abs(tf.subtract(v,v2))\n",
    "    campvec_magnitude = tf.add(campvecx,campvecy)\n",
    "    loss = tf.reduce_mean(campvec_magnitude)\n",
    "    #tf.print(y_pred)\n",
    "    return loss"
   ]
  },
  {
   "cell_type": "markdown",
   "id": "76914f6c",
   "metadata": {},
   "source": [
    "# Creación del modelo"
   ]
  },
  {
   "cell_type": "code",
   "execution_count": 55,
   "id": "e4f113f9",
   "metadata": {
    "ExecuteTime": {
     "end_time": "2023-04-13T04:58:13.042208Z",
     "start_time": "2023-04-13T04:58:12.982397Z"
    }
   },
   "outputs": [],
   "source": [
    "#model = Sequential()\n",
    "\n",
    "model = tf.keras.Sequential([\n",
    "    tf.keras.layers.Flatten(input_shape=(10,2,200)),\n",
    "    tf.keras.layers.BatchNormalization(),\n",
    "    tf.keras.layers.Dense(128, activation='relu'),\n",
    "    tf.keras.layers.Dense(64, activation='relu'),\n",
    "    tf.keras.layers.Dense(128, activation='relu'),\n",
    "    tf.keras.layers.Dense(64, activation='relu'),\n",
    "    tf.keras.layers.Dropout(0.2),\n",
    "    tf.keras.layers.BatchNormalization(),\n",
    "    tf.keras.layers.Dense(7)])\n"
   ]
  },
  {
   "cell_type": "code",
   "execution_count": 56,
   "id": "45fd641f",
   "metadata": {
    "ExecuteTime": {
     "end_time": "2023-04-13T04:58:13.388760Z",
     "start_time": "2023-04-13T04:58:13.373746Z"
    }
   },
   "outputs": [
    {
     "name": "stdout",
     "output_type": "stream",
     "text": [
      "Model: \"sequential_3\"\n",
      "_________________________________________________________________\n",
      " Layer (type)                Output Shape              Param #   \n",
      "=================================================================\n",
      " flatten_3 (Flatten)         (None, 4000)              0         \n",
      "                                                                 \n",
      " batch_normalization_6 (Batc  (None, 4000)             16000     \n",
      " hNormalization)                                                 \n",
      "                                                                 \n",
      " dense_15 (Dense)            (None, 128)               512128    \n",
      "                                                                 \n",
      " dense_16 (Dense)            (None, 64)                8256      \n",
      "                                                                 \n",
      " dense_17 (Dense)            (None, 128)               8320      \n",
      "                                                                 \n",
      " dense_18 (Dense)            (None, 64)                8256      \n",
      "                                                                 \n",
      " dropout_3 (Dropout)         (None, 64)                0         \n",
      "                                                                 \n",
      " batch_normalization_7 (Batc  (None, 64)               256       \n",
      " hNormalization)                                                 \n",
      "                                                                 \n",
      " dense_19 (Dense)            (None, 7)                 455       \n",
      "                                                                 \n",
      "=================================================================\n",
      "Total params: 553,671\n",
      "Trainable params: 545,543\n",
      "Non-trainable params: 8,128\n",
      "_________________________________________________________________\n"
     ]
    }
   ],
   "source": [
    "model.summary()"
   ]
  },
  {
   "cell_type": "markdown",
   "id": "b761554a",
   "metadata": {},
   "source": [
    "# Entrenamos el modelo"
   ]
  },
  {
   "cell_type": "code",
   "execution_count": 57,
   "id": "4316785f",
   "metadata": {
    "ExecuteTime": {
     "end_time": "2023-04-13T04:58:13.722325Z",
     "start_time": "2023-04-13T04:58:13.708323Z"
    }
   },
   "outputs": [],
   "source": [
    "model.compile(optimizer='adam',\n",
    "              loss='MSE',\n",
    "              metrics=['accuracy'])"
   ]
  },
  {
   "cell_type": "code",
   "execution_count": 61,
   "id": "d1303e8d",
   "metadata": {
    "ExecuteTime": {
     "end_time": "2023-04-13T05:01:19.369425Z",
     "start_time": "2023-04-13T05:01:19.364425Z"
    }
   },
   "outputs": [],
   "source": [
    "def scheduler(epoch, lr):\n",
    "  if epoch < 100:\n",
    "    return lr\n",
    "  else:\n",
    "    return 1e-3 - 1e-6*(epoch-100)"
   ]
  },
  {
   "cell_type": "code",
   "execution_count": 60,
   "id": "88d710c6",
   "metadata": {
    "ExecuteTime": {
     "end_time": "2023-04-13T05:01:01.616086Z",
     "start_time": "2023-04-13T04:58:20.516455Z"
    }
   },
   "outputs": [
    {
     "name": "stdout",
     "output_type": "stream",
     "text": [
      "Epoch 1/300\n",
      "70/70 [==============================] - 1s 7ms/step - loss: 6.3740 - accuracy: 0.3489 - val_loss: 6.0955 - val_accuracy: 0.3530 - lr: 0.0010\n",
      "Epoch 2/300\n",
      "70/70 [==============================] - 1s 8ms/step - loss: 6.2096 - accuracy: 0.3433 - val_loss: 6.4206 - val_accuracy: 0.3480 - lr: 0.0010\n",
      "Epoch 3/300\n",
      "70/70 [==============================] - 1s 8ms/step - loss: 6.0961 - accuracy: 0.3504 - val_loss: 5.7150 - val_accuracy: 0.3460 - lr: 0.0010\n",
      "Epoch 4/300\n",
      "70/70 [==============================] - 1s 8ms/step - loss: 5.9757 - accuracy: 0.3566 - val_loss: 5.7774 - val_accuracy: 0.3430 - lr: 0.0010\n",
      "Epoch 5/300\n",
      "70/70 [==============================] - 1s 8ms/step - loss: 5.9295 - accuracy: 0.3583 - val_loss: 5.6335 - val_accuracy: 0.3440 - lr: 0.0010\n",
      "Epoch 6/300\n",
      "70/70 [==============================] - 1s 8ms/step - loss: 5.7722 - accuracy: 0.3594 - val_loss: 5.3760 - val_accuracy: 0.3600 - lr: 0.0010\n",
      "Epoch 7/300\n",
      "70/70 [==============================] - 1s 8ms/step - loss: 5.7229 - accuracy: 0.3701 - val_loss: 5.2066 - val_accuracy: 0.3840 - lr: 0.0010\n",
      "Epoch 8/300\n",
      "70/70 [==============================] - 1s 8ms/step - loss: 5.5298 - accuracy: 0.3781 - val_loss: 5.4667 - val_accuracy: 0.3780 - lr: 0.0010\n",
      "Epoch 9/300\n",
      "70/70 [==============================] - 1s 8ms/step - loss: 5.4248 - accuracy: 0.3897 - val_loss: 5.4807 - val_accuracy: 0.3670 - lr: 0.0010\n",
      "Epoch 10/300\n",
      "70/70 [==============================] - 1s 8ms/step - loss: 5.4769 - accuracy: 0.3924 - val_loss: 5.3458 - val_accuracy: 0.3820 - lr: 0.0010\n",
      "Epoch 11/300\n",
      "70/70 [==============================] - 1s 8ms/step - loss: 5.4961 - accuracy: 0.3843 - val_loss: 5.3858 - val_accuracy: 0.3570 - lr: 0.0010\n",
      "Epoch 12/300\n",
      "70/70 [==============================] - 1s 7ms/step - loss: 5.4098 - accuracy: 0.3920 - val_loss: 5.1956 - val_accuracy: 0.3740 - lr: 0.0010\n",
      "Epoch 13/300\n",
      "70/70 [==============================] - 1s 8ms/step - loss: 5.3772 - accuracy: 0.3983 - val_loss: 5.4911 - val_accuracy: 0.4320 - lr: 0.0010\n",
      "Epoch 14/300\n",
      "70/70 [==============================] - 1s 8ms/step - loss: 5.2328 - accuracy: 0.4097 - val_loss: 5.4336 - val_accuracy: 0.3770 - lr: 0.0010\n",
      "Epoch 15/300\n",
      "70/70 [==============================] - 1s 8ms/step - loss: 5.2411 - accuracy: 0.4096 - val_loss: 7.8326 - val_accuracy: 0.3830 - lr: 0.0010\n",
      "Epoch 16/300\n",
      "70/70 [==============================] - 1s 7ms/step - loss: 5.1832 - accuracy: 0.4143 - val_loss: 4.8444 - val_accuracy: 0.4080 - lr: 0.0010\n",
      "Epoch 17/300\n",
      "70/70 [==============================] - 1s 8ms/step - loss: 5.1612 - accuracy: 0.4196 - val_loss: 4.7706 - val_accuracy: 0.4040 - lr: 0.0010\n",
      "Epoch 18/300\n",
      "70/70 [==============================] - 1s 8ms/step - loss: 5.2019 - accuracy: 0.4211 - val_loss: 5.0433 - val_accuracy: 0.3950 - lr: 0.0010\n",
      "Epoch 19/300\n",
      "70/70 [==============================] - 1s 7ms/step - loss: 5.0943 - accuracy: 0.4256 - val_loss: 4.8480 - val_accuracy: 0.4200 - lr: 0.0010\n",
      "Epoch 20/300\n",
      "70/70 [==============================] - 1s 8ms/step - loss: 5.0323 - accuracy: 0.4287 - val_loss: 5.2279 - val_accuracy: 0.4050 - lr: 0.0010\n",
      "Epoch 21/300\n",
      "70/70 [==============================] - 1s 7ms/step - loss: 5.0331 - accuracy: 0.4347 - val_loss: 4.8946 - val_accuracy: 0.4220 - lr: 0.0010\n",
      "Epoch 22/300\n",
      "70/70 [==============================] - 1s 8ms/step - loss: 5.0403 - accuracy: 0.4351 - val_loss: 4.6547 - val_accuracy: 0.4350 - lr: 0.0010\n",
      "Epoch 23/300\n",
      "70/70 [==============================] - 1s 7ms/step - loss: 4.9855 - accuracy: 0.4426 - val_loss: 4.9433 - val_accuracy: 0.4030 - lr: 0.0010\n",
      "Epoch 24/300\n",
      "70/70 [==============================] - 1s 8ms/step - loss: 4.9826 - accuracy: 0.4370 - val_loss: 4.8296 - val_accuracy: 0.4040 - lr: 0.0010\n",
      "Epoch 25/300\n",
      "70/70 [==============================] - 1s 8ms/step - loss: 4.9414 - accuracy: 0.4407 - val_loss: 4.5563 - val_accuracy: 0.4420 - lr: 0.0010\n",
      "Epoch 26/300\n",
      "70/70 [==============================] - 1s 8ms/step - loss: 4.8924 - accuracy: 0.4423 - val_loss: 4.6095 - val_accuracy: 0.4280 - lr: 0.0010\n",
      "Epoch 27/300\n",
      "70/70 [==============================] - 1s 7ms/step - loss: 4.9485 - accuracy: 0.4413 - val_loss: 4.5630 - val_accuracy: 0.4120 - lr: 0.0010\n",
      "Epoch 28/300\n",
      "70/70 [==============================] - 1s 8ms/step - loss: 4.8728 - accuracy: 0.4467 - val_loss: 4.6315 - val_accuracy: 0.4330 - lr: 0.0010\n",
      "Epoch 29/300\n",
      "70/70 [==============================] - 1s 7ms/step - loss: 4.9212 - accuracy: 0.4426 - val_loss: 4.5476 - val_accuracy: 0.4150 - lr: 0.0010\n",
      "Epoch 30/300\n",
      "70/70 [==============================] - 1s 8ms/step - loss: 4.8633 - accuracy: 0.4484 - val_loss: 4.8201 - val_accuracy: 0.4000 - lr: 0.0010\n",
      "Epoch 31/300\n",
      "70/70 [==============================] - 1s 7ms/step - loss: 4.8761 - accuracy: 0.4490 - val_loss: 4.7241 - val_accuracy: 0.4040 - lr: 0.0010\n",
      "Epoch 32/300\n",
      "70/70 [==============================] - 1s 8ms/step - loss: 4.8733 - accuracy: 0.4483 - val_loss: 4.8437 - val_accuracy: 0.4410 - lr: 0.0010\n",
      "Epoch 33/300\n",
      "70/70 [==============================] - 1s 8ms/step - loss: 4.8816 - accuracy: 0.4467 - val_loss: 4.5738 - val_accuracy: 0.4260 - lr: 0.0010\n",
      "Epoch 34/300\n",
      "70/70 [==============================] - 1s 7ms/step - loss: 4.8451 - accuracy: 0.4407 - val_loss: 4.5088 - val_accuracy: 0.4380 - lr: 0.0010\n",
      "Epoch 35/300\n",
      "70/70 [==============================] - 1s 8ms/step - loss: 4.8238 - accuracy: 0.4539 - val_loss: 4.4321 - val_accuracy: 0.4500 - lr: 0.0010\n",
      "Epoch 36/300\n",
      "70/70 [==============================] - 1s 8ms/step - loss: 4.8148 - accuracy: 0.4503 - val_loss: 4.7631 - val_accuracy: 0.4400 - lr: 0.0010\n",
      "Epoch 37/300\n",
      "70/70 [==============================] - 1s 8ms/step - loss: 4.7495 - accuracy: 0.4589 - val_loss: 4.6094 - val_accuracy: 0.4190 - lr: 0.0010\n",
      "Epoch 38/300\n",
      "70/70 [==============================] - 1s 7ms/step - loss: 4.8501 - accuracy: 0.4500 - val_loss: 4.4537 - val_accuracy: 0.4370 - lr: 0.0010\n",
      "Epoch 39/300\n",
      "70/70 [==============================] - 1s 8ms/step - loss: 4.7546 - accuracy: 0.4569 - val_loss: 4.5813 - val_accuracy: 0.4370 - lr: 0.0010\n",
      "Epoch 40/300\n",
      "70/70 [==============================] - 1s 7ms/step - loss: 4.7405 - accuracy: 0.4563 - val_loss: 4.7954 - val_accuracy: 0.4180 - lr: 0.0010\n",
      "Epoch 41/300\n",
      "70/70 [==============================] - 1s 8ms/step - loss: 4.7232 - accuracy: 0.4559 - val_loss: 4.5103 - val_accuracy: 0.4440 - lr: 0.0010\n",
      "Epoch 42/300\n",
      "70/70 [==============================] - 1s 7ms/step - loss: 4.7822 - accuracy: 0.4480 - val_loss: 4.4027 - val_accuracy: 0.4400 - lr: 0.0010\n",
      "Epoch 43/300\n",
      "70/70 [==============================] - 1s 8ms/step - loss: 4.7644 - accuracy: 0.4621 - val_loss: 4.4756 - val_accuracy: 0.4370 - lr: 0.0010\n",
      "Epoch 44/300\n",
      "70/70 [==============================] - 1s 8ms/step - loss: 4.7276 - accuracy: 0.4579 - val_loss: 4.3854 - val_accuracy: 0.4570 - lr: 0.0010\n",
      "Epoch 45/300\n",
      "70/70 [==============================] - 1s 8ms/step - loss: 4.7548 - accuracy: 0.4616 - val_loss: 4.4791 - val_accuracy: 0.4190 - lr: 0.0010\n",
      "Epoch 46/300\n",
      "70/70 [==============================] - 1s 8ms/step - loss: 4.7510 - accuracy: 0.4623 - val_loss: 4.5509 - val_accuracy: 0.4300 - lr: 0.0010\n",
      "Epoch 47/300\n",
      "70/70 [==============================] - 1s 7ms/step - loss: 4.7046 - accuracy: 0.4576 - val_loss: 4.4263 - val_accuracy: 0.4530 - lr: 0.0010\n",
      "Epoch 48/300\n",
      "70/70 [==============================] - 1s 8ms/step - loss: 4.6589 - accuracy: 0.4610 - val_loss: 4.4822 - val_accuracy: 0.4720 - lr: 0.0010\n",
      "Epoch 49/300\n",
      "70/70 [==============================] - 1s 7ms/step - loss: 4.6985 - accuracy: 0.4559 - val_loss: 4.4668 - val_accuracy: 0.4490 - lr: 0.0010\n",
      "Epoch 50/300\n",
      "70/70 [==============================] - 1s 8ms/step - loss: 4.7108 - accuracy: 0.4616 - val_loss: 4.3687 - val_accuracy: 0.4480 - lr: 0.0010\n",
      "Epoch 51/300\n",
      "70/70 [==============================] - 1s 7ms/step - loss: 4.7112 - accuracy: 0.4639 - val_loss: 4.4321 - val_accuracy: 0.4380 - lr: 0.0010\n",
      "Epoch 52/300\n",
      "70/70 [==============================] - 1s 8ms/step - loss: 4.6697 - accuracy: 0.4714 - val_loss: 4.3198 - val_accuracy: 0.4780 - lr: 0.0010\n",
      "Epoch 53/300\n",
      "70/70 [==============================] - 1s 7ms/step - loss: 4.7415 - accuracy: 0.4577 - val_loss: 4.2635 - val_accuracy: 0.4730 - lr: 0.0010\n"
     ]
    },
    {
     "name": "stdout",
     "output_type": "stream",
     "text": [
      "Epoch 54/300\n",
      "70/70 [==============================] - 1s 8ms/step - loss: 4.6561 - accuracy: 0.4640 - val_loss: 4.3405 - val_accuracy: 0.4330 - lr: 0.0010\n",
      "Epoch 55/300\n",
      "70/70 [==============================] - 1s 7ms/step - loss: 4.6458 - accuracy: 0.4691 - val_loss: 4.3673 - val_accuracy: 0.4600 - lr: 0.0010\n",
      "Epoch 56/300\n",
      "70/70 [==============================] - 1s 8ms/step - loss: 4.6592 - accuracy: 0.4707 - val_loss: 4.3208 - val_accuracy: 0.4620 - lr: 0.0010\n",
      "Epoch 57/300\n",
      "70/70 [==============================] - 1s 7ms/step - loss: 4.6396 - accuracy: 0.4649 - val_loss: 4.3637 - val_accuracy: 0.4610 - lr: 0.0010\n",
      "Epoch 58/300\n",
      "70/70 [==============================] - 1s 8ms/step - loss: 4.7054 - accuracy: 0.4683 - val_loss: 4.2887 - val_accuracy: 0.4620 - lr: 0.0010\n",
      "Epoch 59/300\n",
      "70/70 [==============================] - 1s 7ms/step - loss: 4.5898 - accuracy: 0.4770 - val_loss: 4.2085 - val_accuracy: 0.4580 - lr: 0.0010\n",
      "Epoch 60/300\n",
      "70/70 [==============================] - 1s 8ms/step - loss: 4.6140 - accuracy: 0.4764 - val_loss: 4.2631 - val_accuracy: 0.4590 - lr: 0.0010\n",
      "Epoch 61/300\n",
      "70/70 [==============================] - 1s 7ms/step - loss: 4.6464 - accuracy: 0.4677 - val_loss: 4.2646 - val_accuracy: 0.4850 - lr: 0.0010\n",
      "Epoch 62/300\n",
      "70/70 [==============================] - 1s 7ms/step - loss: 4.6499 - accuracy: 0.4711 - val_loss: 4.3226 - val_accuracy: 0.4730 - lr: 0.0010\n",
      "Epoch 63/300\n",
      "70/70 [==============================] - 1s 8ms/step - loss: 4.6557 - accuracy: 0.4604 - val_loss: 4.3145 - val_accuracy: 0.4660 - lr: 0.0010\n",
      "Epoch 64/300\n",
      "70/70 [==============================] - 1s 7ms/step - loss: 4.6314 - accuracy: 0.4707 - val_loss: 4.2902 - val_accuracy: 0.4770 - lr: 0.0010\n",
      "Epoch 65/300\n",
      "70/70 [==============================] - 1s 8ms/step - loss: 4.6306 - accuracy: 0.4660 - val_loss: 4.2915 - val_accuracy: 0.4740 - lr: 0.0010\n",
      "Epoch 66/300\n",
      "70/70 [==============================] - 1s 7ms/step - loss: 4.6212 - accuracy: 0.4709 - val_loss: 4.2742 - val_accuracy: 0.4740 - lr: 0.0010\n",
      "Epoch 67/300\n",
      "70/70 [==============================] - 1s 8ms/step - loss: 4.6006 - accuracy: 0.4729 - val_loss: 4.2893 - val_accuracy: 0.4480 - lr: 0.0010\n",
      "Epoch 68/300\n",
      "70/70 [==============================] - 1s 7ms/step - loss: 4.5857 - accuracy: 0.4726 - val_loss: 4.3057 - val_accuracy: 0.4690 - lr: 0.0010\n",
      "Epoch 69/300\n",
      "70/70 [==============================] - 1s 8ms/step - loss: 4.6154 - accuracy: 0.4756 - val_loss: 4.3427 - val_accuracy: 0.4510 - lr: 0.0010\n",
      "Epoch 70/300\n",
      "70/70 [==============================] - 1s 8ms/step - loss: 4.6112 - accuracy: 0.4760 - val_loss: 4.3144 - val_accuracy: 0.4770 - lr: 0.0010\n",
      "Epoch 71/300\n",
      "70/70 [==============================] - 1s 8ms/step - loss: 4.6224 - accuracy: 0.4723 - val_loss: 4.3516 - val_accuracy: 0.4810 - lr: 0.0010\n",
      "Epoch 72/300\n",
      "70/70 [==============================] - 1s 7ms/step - loss: 4.5986 - accuracy: 0.4786 - val_loss: 4.2858 - val_accuracy: 0.4870 - lr: 0.0010\n",
      "Epoch 73/300\n",
      "70/70 [==============================] - 1s 8ms/step - loss: 4.5505 - accuracy: 0.4763 - val_loss: 4.3447 - val_accuracy: 0.4750 - lr: 0.0010\n",
      "Epoch 74/300\n",
      "70/70 [==============================] - 1s 8ms/step - loss: 4.5589 - accuracy: 0.4796 - val_loss: 4.3438 - val_accuracy: 0.4750 - lr: 0.0010\n",
      "Epoch 75/300\n",
      "70/70 [==============================] - 1s 8ms/step - loss: 4.5402 - accuracy: 0.4774 - val_loss: 4.1746 - val_accuracy: 0.4760 - lr: 0.0010\n",
      "Epoch 76/300\n",
      "70/70 [==============================] - 1s 8ms/step - loss: 4.5417 - accuracy: 0.4733 - val_loss: 4.2569 - val_accuracy: 0.4890 - lr: 0.0010\n",
      "Epoch 77/300\n",
      "70/70 [==============================] - 1s 7ms/step - loss: 4.5665 - accuracy: 0.4754 - val_loss: 4.2891 - val_accuracy: 0.4910 - lr: 0.0010\n",
      "Epoch 78/300\n",
      "70/70 [==============================] - 1s 8ms/step - loss: 4.5624 - accuracy: 0.4826 - val_loss: 4.2927 - val_accuracy: 0.4950 - lr: 0.0010\n",
      "Epoch 79/300\n",
      "70/70 [==============================] - 1s 7ms/step - loss: 4.5251 - accuracy: 0.4803 - val_loss: 4.2550 - val_accuracy: 0.4550 - lr: 0.0010\n",
      "Epoch 80/300\n",
      "70/70 [==============================] - 1s 8ms/step - loss: 4.5151 - accuracy: 0.4803 - val_loss: 4.2130 - val_accuracy: 0.4900 - lr: 0.0010\n",
      "Epoch 81/300\n",
      "70/70 [==============================] - 1s 7ms/step - loss: 4.5242 - accuracy: 0.4809 - val_loss: 4.2643 - val_accuracy: 0.4670 - lr: 0.0010\n",
      "Epoch 82/300\n",
      "70/70 [==============================] - 1s 8ms/step - loss: 4.4844 - accuracy: 0.4806 - val_loss: 4.3066 - val_accuracy: 0.4920 - lr: 0.0010\n",
      "Epoch 83/300\n",
      "70/70 [==============================] - 1s 7ms/step - loss: 4.4979 - accuracy: 0.4816 - val_loss: 4.3279 - val_accuracy: 0.4850 - lr: 0.0010\n",
      "Epoch 84/300\n",
      "70/70 [==============================] - 1s 8ms/step - loss: 4.5366 - accuracy: 0.4781 - val_loss: 4.2737 - val_accuracy: 0.4920 - lr: 0.0010\n",
      "Epoch 85/300\n",
      "70/70 [==============================] - 1s 7ms/step - loss: 4.4892 - accuracy: 0.4846 - val_loss: 4.1992 - val_accuracy: 0.4900 - lr: 0.0010\n",
      "Epoch 86/300\n",
      "70/70 [==============================] - 1s 10ms/step - loss: 4.5235 - accuracy: 0.4846 - val_loss: 4.2392 - val_accuracy: 0.4680 - lr: 0.0010\n",
      "Epoch 87/300\n",
      "70/70 [==============================] - 1s 8ms/step - loss: 4.5219 - accuracy: 0.4854 - val_loss: 4.3346 - val_accuracy: 0.4770 - lr: 0.0010\n",
      "Epoch 88/300\n",
      "70/70 [==============================] - 1s 8ms/step - loss: 4.5021 - accuracy: 0.4829 - val_loss: 4.2449 - val_accuracy: 0.4670 - lr: 0.0010\n",
      "Epoch 89/300\n",
      "70/70 [==============================] - 1s 8ms/step - loss: 4.5072 - accuracy: 0.4831 - val_loss: 4.3401 - val_accuracy: 0.4810 - lr: 0.0010\n",
      "Epoch 90/300\n",
      "70/70 [==============================] - 1s 8ms/step - loss: 4.4970 - accuracy: 0.4831 - val_loss: 4.3162 - val_accuracy: 0.5010 - lr: 0.0010\n",
      "Epoch 91/300\n",
      "70/70 [==============================] - 1s 8ms/step - loss: 4.4998 - accuracy: 0.4811 - val_loss: 4.2498 - val_accuracy: 0.4690 - lr: 0.0010\n",
      "Epoch 92/300\n",
      "70/70 [==============================] - 1s 7ms/step - loss: 4.4850 - accuracy: 0.4797 - val_loss: 4.3666 - val_accuracy: 0.4770 - lr: 0.0010\n",
      "Epoch 93/300\n",
      "70/70 [==============================] - 1s 8ms/step - loss: 4.4762 - accuracy: 0.4899 - val_loss: 4.4376 - val_accuracy: 0.4920 - lr: 0.0010\n",
      "Epoch 94/300\n",
      "70/70 [==============================] - 1s 8ms/step - loss: 4.4721 - accuracy: 0.4850 - val_loss: 4.2519 - val_accuracy: 0.4950 - lr: 0.0010\n",
      "Epoch 95/300\n",
      "70/70 [==============================] - 1s 7ms/step - loss: 4.4390 - accuracy: 0.4909 - val_loss: 4.3202 - val_accuracy: 0.4980 - lr: 0.0010\n",
      "Epoch 96/300\n",
      "70/70 [==============================] - 1s 8ms/step - loss: 4.4529 - accuracy: 0.4804 - val_loss: 4.2361 - val_accuracy: 0.4870 - lr: 0.0010\n",
      "Epoch 97/300\n",
      "70/70 [==============================] - 1s 8ms/step - loss: 4.5330 - accuracy: 0.4770 - val_loss: 4.4522 - val_accuracy: 0.4800 - lr: 0.0010\n",
      "Epoch 98/300\n",
      "70/70 [==============================] - 1s 7ms/step - loss: 4.4308 - accuracy: 0.4863 - val_loss: 4.2572 - val_accuracy: 0.4940 - lr: 0.0010\n",
      "Epoch 99/300\n",
      "70/70 [==============================] - 1s 8ms/step - loss: 4.4470 - accuracy: 0.4877 - val_loss: 4.2694 - val_accuracy: 0.4900 - lr: 0.0010\n",
      "Epoch 100/300\n",
      "70/70 [==============================] - 1s 8ms/step - loss: 4.4311 - accuracy: 0.4830 - val_loss: 4.2962 - val_accuracy: 0.4720 - lr: 0.0010\n",
      "Epoch 101/300\n",
      "70/70 [==============================] - 1s 7ms/step - loss: 4.4415 - accuracy: 0.4929 - val_loss: 4.2337 - val_accuracy: 0.4810 - lr: 0.0010\n",
      "Epoch 102/300\n",
      "70/70 [==============================] - 1s 8ms/step - loss: 4.4179 - accuracy: 0.4869 - val_loss: 4.1991 - val_accuracy: 0.5110 - lr: 0.0010\n",
      "Epoch 103/300\n",
      "70/70 [==============================] - 1s 7ms/step - loss: 4.4106 - accuracy: 0.4893 - val_loss: 4.3138 - val_accuracy: 0.4910 - lr: 0.0010\n",
      "Epoch 104/300\n",
      "70/70 [==============================] - 1s 8ms/step - loss: 4.4331 - accuracy: 0.4926 - val_loss: 4.3553 - val_accuracy: 0.4790 - lr: 0.0010\n",
      "Epoch 105/300\n",
      "70/70 [==============================] - 1s 7ms/step - loss: 4.4019 - accuracy: 0.4943 - val_loss: 4.3431 - val_accuracy: 0.4930 - lr: 0.0010\n",
      "Epoch 106/300\n",
      "70/70 [==============================] - 1s 8ms/step - loss: 4.4122 - accuracy: 0.4873 - val_loss: 4.3097 - val_accuracy: 0.4690 - lr: 0.0010\n"
     ]
    },
    {
     "name": "stdout",
     "output_type": "stream",
     "text": [
      "Epoch 107/300\n",
      "70/70 [==============================] - 1s 7ms/step - loss: 4.3973 - accuracy: 0.4879 - val_loss: 4.3296 - val_accuracy: 0.4780 - lr: 0.0010\n",
      "Epoch 108/300\n",
      "70/70 [==============================] - 1s 8ms/step - loss: 4.3885 - accuracy: 0.4914 - val_loss: 4.3028 - val_accuracy: 0.4910 - lr: 0.0010\n",
      "Epoch 109/300\n",
      "70/70 [==============================] - 1s 8ms/step - loss: 4.4111 - accuracy: 0.4900 - val_loss: 4.3233 - val_accuracy: 0.4810 - lr: 0.0010\n",
      "Epoch 110/300\n",
      "70/70 [==============================] - 1s 8ms/step - loss: 4.4065 - accuracy: 0.4864 - val_loss: 4.3138 - val_accuracy: 0.4930 - lr: 0.0010\n",
      "Epoch 111/300\n",
      "70/70 [==============================] - 1s 8ms/step - loss: 4.3647 - accuracy: 0.4920 - val_loss: 4.2368 - val_accuracy: 0.5060 - lr: 0.0010\n",
      "Epoch 112/300\n",
      "70/70 [==============================] - 1s 8ms/step - loss: 4.3624 - accuracy: 0.4991 - val_loss: 4.4054 - val_accuracy: 0.4810 - lr: 0.0010\n",
      "Epoch 113/300\n",
      "70/70 [==============================] - 1s 8ms/step - loss: 4.4070 - accuracy: 0.4917 - val_loss: 4.4682 - val_accuracy: 0.4800 - lr: 0.0010\n",
      "Epoch 114/300\n",
      "70/70 [==============================] - 1s 8ms/step - loss: 4.3537 - accuracy: 0.4920 - val_loss: 4.3229 - val_accuracy: 0.4850 - lr: 0.0010\n",
      "Epoch 115/300\n",
      "70/70 [==============================] - 1s 8ms/step - loss: 4.3681 - accuracy: 0.4934 - val_loss: 4.4819 - val_accuracy: 0.4710 - lr: 0.0010\n",
      "Epoch 116/300\n",
      "70/70 [==============================] - 1s 7ms/step - loss: 4.3614 - accuracy: 0.4944 - val_loss: 4.2948 - val_accuracy: 0.4820 - lr: 0.0010\n",
      "Epoch 117/300\n",
      "70/70 [==============================] - 1s 8ms/step - loss: 4.3646 - accuracy: 0.4987 - val_loss: 4.3052 - val_accuracy: 0.4680 - lr: 0.0010\n",
      "Epoch 118/300\n",
      "70/70 [==============================] - 1s 8ms/step - loss: 4.3494 - accuracy: 0.4891 - val_loss: 4.2865 - val_accuracy: 0.4930 - lr: 0.0010\n",
      "Epoch 119/300\n",
      "70/70 [==============================] - 1s 7ms/step - loss: 4.3350 - accuracy: 0.4873 - val_loss: 4.3411 - val_accuracy: 0.4870 - lr: 0.0010\n",
      "Epoch 120/300\n",
      "70/70 [==============================] - 1s 8ms/step - loss: 4.3596 - accuracy: 0.4944 - val_loss: 4.2158 - val_accuracy: 0.4800 - lr: 0.0010\n",
      "Epoch 121/300\n",
      "70/70 [==============================] - 1s 7ms/step - loss: 4.3271 - accuracy: 0.4989 - val_loss: 4.3535 - val_accuracy: 0.4880 - lr: 0.0010\n",
      "Epoch 122/300\n",
      "70/70 [==============================] - 1s 7ms/step - loss: 4.3860 - accuracy: 0.4927 - val_loss: 4.3464 - val_accuracy: 0.4890 - lr: 0.0010\n",
      "Epoch 123/300\n",
      "70/70 [==============================] - 1s 7ms/step - loss: 4.3116 - accuracy: 0.4996 - val_loss: 4.3262 - val_accuracy: 0.5000 - lr: 0.0010\n",
      "Epoch 124/300\n",
      "70/70 [==============================] - 1s 7ms/step - loss: 4.2993 - accuracy: 0.5050 - val_loss: 4.5546 - val_accuracy: 0.4780 - lr: 0.0010\n",
      "Epoch 125/300\n",
      "70/70 [==============================] - 1s 7ms/step - loss: 4.3278 - accuracy: 0.4907 - val_loss: 4.2667 - val_accuracy: 0.5060 - lr: 0.0010\n",
      "Epoch 126/300\n",
      "70/70 [==============================] - 1s 8ms/step - loss: 4.3357 - accuracy: 0.4924 - val_loss: 4.3305 - val_accuracy: 0.4900 - lr: 0.0010\n",
      "Epoch 127/300\n",
      "70/70 [==============================] - 1s 7ms/step - loss: 4.3034 - accuracy: 0.4979 - val_loss: 4.4021 - val_accuracy: 0.4750 - lr: 0.0010\n",
      "Epoch 128/300\n",
      "70/70 [==============================] - 1s 8ms/step - loss: 4.2776 - accuracy: 0.5010 - val_loss: 4.2566 - val_accuracy: 0.4870 - lr: 0.0010\n",
      "Epoch 129/300\n",
      "70/70 [==============================] - 1s 8ms/step - loss: 4.3169 - accuracy: 0.5000 - val_loss: 4.2743 - val_accuracy: 0.4920 - lr: 0.0010\n",
      "Epoch 130/300\n",
      "70/70 [==============================] - 1s 7ms/step - loss: 4.2877 - accuracy: 0.4951 - val_loss: 4.3381 - val_accuracy: 0.5010 - lr: 0.0010\n",
      "Epoch 131/300\n",
      "70/70 [==============================] - 1s 7ms/step - loss: 4.2704 - accuracy: 0.4986 - val_loss: 4.3113 - val_accuracy: 0.5030 - lr: 0.0010\n",
      "Epoch 132/300\n",
      "70/70 [==============================] - 1s 7ms/step - loss: 4.2432 - accuracy: 0.5024 - val_loss: 4.2690 - val_accuracy: 0.5010 - lr: 0.0010\n",
      "Epoch 133/300\n",
      "70/70 [==============================] - 1s 7ms/step - loss: 4.2643 - accuracy: 0.5044 - val_loss: 4.2668 - val_accuracy: 0.5100 - lr: 0.0010\n",
      "Epoch 134/300\n",
      "70/70 [==============================] - 1s 7ms/step - loss: 4.2805 - accuracy: 0.5009 - val_loss: 4.3081 - val_accuracy: 0.4860 - lr: 0.0010\n",
      "Epoch 135/300\n",
      "70/70 [==============================] - 1s 7ms/step - loss: 4.2584 - accuracy: 0.5013 - val_loss: 4.2772 - val_accuracy: 0.4650 - lr: 0.0010\n",
      "Epoch 136/300\n",
      "70/70 [==============================] - 1s 7ms/step - loss: 4.2525 - accuracy: 0.5007 - val_loss: 4.2307 - val_accuracy: 0.4970 - lr: 0.0010\n",
      "Epoch 137/300\n",
      "70/70 [==============================] - 1s 8ms/step - loss: 4.2240 - accuracy: 0.5047 - val_loss: 4.2806 - val_accuracy: 0.5080 - lr: 0.0010\n",
      "Epoch 138/300\n",
      "70/70 [==============================] - 1s 7ms/step - loss: 4.2563 - accuracy: 0.5020 - val_loss: 4.2827 - val_accuracy: 0.4970 - lr: 0.0010\n",
      "Epoch 139/300\n",
      "70/70 [==============================] - 1s 8ms/step - loss: 4.2130 - accuracy: 0.5020 - val_loss: 4.2650 - val_accuracy: 0.4980 - lr: 0.0010\n",
      "Epoch 140/300\n",
      "70/70 [==============================] - 1s 7ms/step - loss: 4.2228 - accuracy: 0.5029 - val_loss: 4.2818 - val_accuracy: 0.4910 - lr: 0.0010\n",
      "Epoch 141/300\n",
      "70/70 [==============================] - 1s 8ms/step - loss: 4.2233 - accuracy: 0.5039 - val_loss: 4.3130 - val_accuracy: 0.5100 - lr: 0.0010\n",
      "Epoch 142/300\n",
      "70/70 [==============================] - 1s 7ms/step - loss: 4.2294 - accuracy: 0.4993 - val_loss: 4.2773 - val_accuracy: 0.5030 - lr: 0.0010\n",
      "Epoch 143/300\n",
      "70/70 [==============================] - 1s 8ms/step - loss: 4.2186 - accuracy: 0.4986 - val_loss: 4.4376 - val_accuracy: 0.4990 - lr: 0.0010\n",
      "Epoch 144/300\n",
      "70/70 [==============================] - 1s 7ms/step - loss: 4.2130 - accuracy: 0.4994 - val_loss: 4.2756 - val_accuracy: 0.4970 - lr: 0.0010\n",
      "Epoch 145/300\n",
      "70/70 [==============================] - 1s 8ms/step - loss: 4.1950 - accuracy: 0.5067 - val_loss: 4.3374 - val_accuracy: 0.4920 - lr: 0.0010\n",
      "Epoch 146/300\n",
      "70/70 [==============================] - 1s 7ms/step - loss: 4.1609 - accuracy: 0.5076 - val_loss: 4.2962 - val_accuracy: 0.5070 - lr: 0.0010\n",
      "Epoch 147/300\n",
      "70/70 [==============================] - 1s 8ms/step - loss: 4.1792 - accuracy: 0.5099 - val_loss: 4.3574 - val_accuracy: 0.4990 - lr: 0.0010\n",
      "Epoch 148/300\n",
      "70/70 [==============================] - 1s 7ms/step - loss: 4.1701 - accuracy: 0.5087 - val_loss: 4.3224 - val_accuracy: 0.5090 - lr: 0.0010\n",
      "Epoch 149/300\n",
      "70/70 [==============================] - 1s 7ms/step - loss: 4.1234 - accuracy: 0.5131 - val_loss: 4.2573 - val_accuracy: 0.5020 - lr: 0.0010\n",
      "Epoch 150/300\n",
      "70/70 [==============================] - 1s 7ms/step - loss: 4.2040 - accuracy: 0.5001 - val_loss: 4.2723 - val_accuracy: 0.4840 - lr: 0.0010\n",
      "Epoch 151/300\n",
      "70/70 [==============================] - 1s 7ms/step - loss: 4.1546 - accuracy: 0.5043 - val_loss: 4.3599 - val_accuracy: 0.5000 - lr: 0.0010\n",
      "Epoch 152/300\n",
      "70/70 [==============================] - 1s 7ms/step - loss: 4.1469 - accuracy: 0.5031 - val_loss: 4.3943 - val_accuracy: 0.4840 - lr: 0.0010\n",
      "Epoch 153/300\n",
      "70/70 [==============================] - 1s 7ms/step - loss: 4.1482 - accuracy: 0.5141 - val_loss: 4.3856 - val_accuracy: 0.4790 - lr: 0.0010\n",
      "Epoch 154/300\n",
      "70/70 [==============================] - 1s 7ms/step - loss: 4.1464 - accuracy: 0.5124 - val_loss: 4.4051 - val_accuracy: 0.4850 - lr: 0.0010\n",
      "Epoch 155/300\n",
      "70/70 [==============================] - 1s 7ms/step - loss: 4.1316 - accuracy: 0.5089 - val_loss: 4.3339 - val_accuracy: 0.5080 - lr: 0.0010\n",
      "Epoch 156/300\n",
      "70/70 [==============================] - 1s 8ms/step - loss: 4.1224 - accuracy: 0.5071 - val_loss: 4.3154 - val_accuracy: 0.4820 - lr: 0.0010\n",
      "Epoch 157/300\n",
      "70/70 [==============================] - 1s 7ms/step - loss: 4.1363 - accuracy: 0.5103 - val_loss: 4.5347 - val_accuracy: 0.4860 - lr: 0.0010\n",
      "Epoch 158/300\n",
      "70/70 [==============================] - 1s 7ms/step - loss: 4.1400 - accuracy: 0.5091 - val_loss: 4.2923 - val_accuracy: 0.4920 - lr: 0.0010\n",
      "Epoch 159/300\n",
      "70/70 [==============================] - 1s 7ms/step - loss: 4.0791 - accuracy: 0.5143 - val_loss: 4.2469 - val_accuracy: 0.4800 - lr: 0.0010\n",
      "Epoch 160/300\n",
      "70/70 [==============================] - 1s 7ms/step - loss: 4.1136 - accuracy: 0.5064 - val_loss: 4.3909 - val_accuracy: 0.4800 - lr: 0.0010\n",
      "Epoch 161/300\n",
      "70/70 [==============================] - 1s 7ms/step - loss: 4.1142 - accuracy: 0.5126 - val_loss: 4.3917 - val_accuracy: 0.4870 - lr: 0.0010\n",
      "Epoch 162/300\n",
      "70/70 [==============================] - 1s 8ms/step - loss: 4.1113 - accuracy: 0.5109 - val_loss: 4.3878 - val_accuracy: 0.5020 - lr: 0.0010\n",
      "Epoch 163/300\n",
      "70/70 [==============================] - 1s 7ms/step - loss: 4.0610 - accuracy: 0.5109 - val_loss: 4.3425 - val_accuracy: 0.5000 - lr: 0.0010\n",
      "Epoch 164/300\n",
      "70/70 [==============================] - 1s 8ms/step - loss: 4.0681 - accuracy: 0.5137 - val_loss: 4.3992 - val_accuracy: 0.4810 - lr: 0.0010\n",
      "Epoch 165/300\n",
      "70/70 [==============================] - 1s 7ms/step - loss: 4.0271 - accuracy: 0.5241 - val_loss: 4.2645 - val_accuracy: 0.4970 - lr: 0.0010\n",
      "Epoch 166/300\n",
      "70/70 [==============================] - 1s 8ms/step - loss: 4.0471 - accuracy: 0.5166 - val_loss: 4.3448 - val_accuracy: 0.4890 - lr: 0.0010\n",
      "Epoch 167/300\n",
      "70/70 [==============================] - 1s 7ms/step - loss: 4.0308 - accuracy: 0.5156 - val_loss: 4.4329 - val_accuracy: 0.4750 - lr: 0.0010\n",
      "Epoch 168/300\n",
      "70/70 [==============================] - 1s 7ms/step - loss: 4.0251 - accuracy: 0.5177 - val_loss: 4.3713 - val_accuracy: 0.4850 - lr: 0.0010\n",
      "Epoch 169/300\n",
      "70/70 [==============================] - 1s 8ms/step - loss: 4.0491 - accuracy: 0.5146 - val_loss: 4.3903 - val_accuracy: 0.4990 - lr: 0.0010\n",
      "Epoch 170/300\n",
      "70/70 [==============================] - 1s 7ms/step - loss: 4.0344 - accuracy: 0.5199 - val_loss: 4.4597 - val_accuracy: 0.4920 - lr: 0.0010\n",
      "Epoch 171/300\n",
      "70/70 [==============================] - 1s 8ms/step - loss: 4.0686 - accuracy: 0.5081 - val_loss: 4.2904 - val_accuracy: 0.5230 - lr: 0.0010\n",
      "Epoch 172/300\n",
      "70/70 [==============================] - 1s 7ms/step - loss: 3.9968 - accuracy: 0.5156 - val_loss: 4.3555 - val_accuracy: 0.5170 - lr: 0.0010\n",
      "Epoch 173/300\n",
      "70/70 [==============================] - 1s 8ms/step - loss: 3.9928 - accuracy: 0.5150 - val_loss: 4.4351 - val_accuracy: 0.4800 - lr: 0.0010\n",
      "Epoch 174/300\n",
      "70/70 [==============================] - 1s 7ms/step - loss: 3.9941 - accuracy: 0.5106 - val_loss: 4.4293 - val_accuracy: 0.4870 - lr: 0.0010\n",
      "Epoch 175/300\n",
      "70/70 [==============================] - 1s 8ms/step - loss: 3.9734 - accuracy: 0.5189 - val_loss: 4.4407 - val_accuracy: 0.5040 - lr: 0.0010\n",
      "Epoch 176/300\n",
      "70/70 [==============================] - 1s 7ms/step - loss: 3.9895 - accuracy: 0.5249 - val_loss: 4.4870 - val_accuracy: 0.4790 - lr: 0.0010\n",
      "Epoch 177/300\n",
      "70/70 [==============================] - 1s 8ms/step - loss: 3.9744 - accuracy: 0.5223 - val_loss: 4.3552 - val_accuracy: 0.5020 - lr: 0.0010\n",
      "Epoch 178/300\n",
      "70/70 [==============================] - 1s 7ms/step - loss: 3.9789 - accuracy: 0.5133 - val_loss: 4.5179 - val_accuracy: 0.4960 - lr: 0.0010\n",
      "Epoch 179/300\n",
      "70/70 [==============================] - 1s 8ms/step - loss: 3.9397 - accuracy: 0.5189 - val_loss: 4.5087 - val_accuracy: 0.4820 - lr: 0.0010\n",
      "Epoch 180/300\n",
      "70/70 [==============================] - 1s 7ms/step - loss: 3.9423 - accuracy: 0.5163 - val_loss: 4.3374 - val_accuracy: 0.4860 - lr: 0.0010\n",
      "Epoch 181/300\n",
      "70/70 [==============================] - 1s 8ms/step - loss: 3.9279 - accuracy: 0.5264 - val_loss: 4.4831 - val_accuracy: 0.4840 - lr: 0.0010\n",
      "Epoch 182/300\n",
      "70/70 [==============================] - 1s 7ms/step - loss: 4.0019 - accuracy: 0.5169 - val_loss: 4.3881 - val_accuracy: 0.4890 - lr: 0.0010\n",
      "Epoch 183/300\n",
      "70/70 [==============================] - 1s 8ms/step - loss: 4.0005 - accuracy: 0.5149 - val_loss: 4.3809 - val_accuracy: 0.4860 - lr: 0.0010\n",
      "Epoch 184/300\n",
      "70/70 [==============================] - 1s 7ms/step - loss: 3.9698 - accuracy: 0.5224 - val_loss: 4.4114 - val_accuracy: 0.5000 - lr: 0.0010\n",
      "Epoch 185/300\n",
      "70/70 [==============================] - 1s 8ms/step - loss: 3.9324 - accuracy: 0.5117 - val_loss: 4.4659 - val_accuracy: 0.5100 - lr: 0.0010\n",
      "Epoch 186/300\n",
      "70/70 [==============================] - 1s 8ms/step - loss: 3.9132 - accuracy: 0.5199 - val_loss: 4.4371 - val_accuracy: 0.4920 - lr: 0.0010\n",
      "Epoch 187/300\n",
      "70/70 [==============================] - 1s 8ms/step - loss: 3.9249 - accuracy: 0.5286 - val_loss: 4.4247 - val_accuracy: 0.4990 - lr: 0.0010\n",
      "Epoch 188/300\n",
      "70/70 [==============================] - 1s 8ms/step - loss: 3.8850 - accuracy: 0.5249 - val_loss: 4.4217 - val_accuracy: 0.4980 - lr: 0.0010\n",
      "Epoch 189/300\n",
      "70/70 [==============================] - 1s 7ms/step - loss: 3.8758 - accuracy: 0.5213 - val_loss: 4.3273 - val_accuracy: 0.5070 - lr: 0.0010\n",
      "Epoch 190/300\n",
      "70/70 [==============================] - 1s 8ms/step - loss: 3.8923 - accuracy: 0.5350 - val_loss: 4.4916 - val_accuracy: 0.4910 - lr: 0.0010\n",
      "Epoch 191/300\n",
      "70/70 [==============================] - 1s 7ms/step - loss: 3.8765 - accuracy: 0.5263 - val_loss: 4.4844 - val_accuracy: 0.4930 - lr: 0.0010\n",
      "Epoch 192/300\n",
      "70/70 [==============================] - 1s 8ms/step - loss: 3.9061 - accuracy: 0.5260 - val_loss: 4.4791 - val_accuracy: 0.4900 - lr: 0.0010\n",
      "Epoch 193/300\n",
      "70/70 [==============================] - 1s 7ms/step - loss: 3.8708 - accuracy: 0.5226 - val_loss: 4.4589 - val_accuracy: 0.4930 - lr: 0.0010\n",
      "Epoch 194/300\n",
      "70/70 [==============================] - 1s 7ms/step - loss: 3.8920 - accuracy: 0.5290 - val_loss: 4.4853 - val_accuracy: 0.4710 - lr: 0.0010\n",
      "Epoch 195/300\n",
      "70/70 [==============================] - 1s 7ms/step - loss: 3.8860 - accuracy: 0.5256 - val_loss: 4.5280 - val_accuracy: 0.4790 - lr: 0.0010\n",
      "Epoch 196/300\n",
      "70/70 [==============================] - 1s 8ms/step - loss: 3.8181 - accuracy: 0.5287 - val_loss: 4.4839 - val_accuracy: 0.4980 - lr: 0.0010\n",
      "Epoch 197/300\n",
      "70/70 [==============================] - 1s 7ms/step - loss: 3.8169 - accuracy: 0.5260 - val_loss: 4.5659 - val_accuracy: 0.4800 - lr: 0.0010\n",
      "Epoch 198/300\n",
      "70/70 [==============================] - 1s 8ms/step - loss: 3.7719 - accuracy: 0.5266 - val_loss: 4.4394 - val_accuracy: 0.5040 - lr: 0.0010\n",
      "Epoch 199/300\n",
      "70/70 [==============================] - 1s 7ms/step - loss: 3.8225 - accuracy: 0.5283 - val_loss: 4.4428 - val_accuracy: 0.4870 - lr: 0.0010\n",
      "Epoch 200/300\n",
      "70/70 [==============================] - 1s 8ms/step - loss: 3.7855 - accuracy: 0.5373 - val_loss: 4.5351 - val_accuracy: 0.4940 - lr: 0.0010\n",
      "Epoch 201/300\n",
      "70/70 [==============================] - 1s 7ms/step - loss: 3.8309 - accuracy: 0.5250 - val_loss: 4.5234 - val_accuracy: 0.4970 - lr: 0.0010\n",
      "Epoch 202/300\n",
      "70/70 [==============================] - 1s 8ms/step - loss: 3.7816 - accuracy: 0.5304 - val_loss: 4.5603 - val_accuracy: 0.4910 - lr: 0.0010\n",
      "Epoch 203/300\n",
      "70/70 [==============================] - 1s 8ms/step - loss: 3.8227 - accuracy: 0.5230 - val_loss: 4.4615 - val_accuracy: 0.4890 - lr: 0.0010\n",
      "Epoch 204/300\n",
      "70/70 [==============================] - 1s 7ms/step - loss: 3.8329 - accuracy: 0.5277 - val_loss: 4.5267 - val_accuracy: 0.4990 - lr: 0.0010\n",
      "Epoch 205/300\n",
      "70/70 [==============================] - 1s 7ms/step - loss: 3.8105 - accuracy: 0.5297 - val_loss: 4.4316 - val_accuracy: 0.4810 - lr: 0.0010\n",
      "Epoch 206/300\n",
      "70/70 [==============================] - 1s 7ms/step - loss: 3.8067 - accuracy: 0.5237 - val_loss: 4.4750 - val_accuracy: 0.4910 - lr: 0.0010\n",
      "Epoch 207/300\n",
      "70/70 [==============================] - 1s 8ms/step - loss: 3.7748 - accuracy: 0.5274 - val_loss: 4.5921 - val_accuracy: 0.4760 - lr: 0.0010\n",
      "Epoch 208/300\n",
      "70/70 [==============================] - 1s 7ms/step - loss: 3.7648 - accuracy: 0.5289 - val_loss: 4.5105 - val_accuracy: 0.4870 - lr: 0.0010\n",
      "Epoch 209/300\n",
      "70/70 [==============================] - 1s 8ms/step - loss: 3.7418 - accuracy: 0.5316 - val_loss: 4.5502 - val_accuracy: 0.4900 - lr: 0.0010\n",
      "Epoch 210/300\n",
      "70/70 [==============================] - 1s 7ms/step - loss: 3.7893 - accuracy: 0.5269 - val_loss: 4.5184 - val_accuracy: 0.4910 - lr: 0.0010\n",
      "Epoch 211/300\n"
     ]
    },
    {
     "name": "stdout",
     "output_type": "stream",
     "text": [
      "70/70 [==============================] - 1s 8ms/step - loss: 3.7611 - accuracy: 0.5316 - val_loss: 4.5619 - val_accuracy: 0.4930 - lr: 0.0010\n",
      "Epoch 212/300\n",
      "70/70 [==============================] - 1s 7ms/step - loss: 3.6933 - accuracy: 0.5321 - val_loss: 4.5671 - val_accuracy: 0.4970 - lr: 0.0010\n",
      "Epoch 213/300\n",
      "70/70 [==============================] - 1s 8ms/step - loss: 3.7163 - accuracy: 0.5350 - val_loss: 4.5343 - val_accuracy: 0.4800 - lr: 0.0010\n",
      "Epoch 214/300\n",
      "70/70 [==============================] - 1s 7ms/step - loss: 3.7808 - accuracy: 0.5274 - val_loss: 4.6289 - val_accuracy: 0.4830 - lr: 0.0010\n",
      "Epoch 215/300\n",
      "70/70 [==============================] - 1s 8ms/step - loss: 3.8062 - accuracy: 0.5274 - val_loss: 4.5811 - val_accuracy: 0.4800 - lr: 0.0010\n",
      "Epoch 216/300\n",
      "70/70 [==============================] - 1s 7ms/step - loss: 3.7336 - accuracy: 0.5251 - val_loss: 4.5353 - val_accuracy: 0.4820 - lr: 0.0010\n",
      "Epoch 217/300\n",
      "70/70 [==============================] - 1s 8ms/step - loss: 3.7409 - accuracy: 0.5324 - val_loss: 4.6158 - val_accuracy: 0.4890 - lr: 0.0010\n",
      "Epoch 218/300\n",
      "70/70 [==============================] - 1s 7ms/step - loss: 3.6993 - accuracy: 0.5419 - val_loss: 4.6300 - val_accuracy: 0.4830 - lr: 0.0010\n",
      "Epoch 219/300\n",
      "70/70 [==============================] - 1s 8ms/step - loss: 3.7486 - accuracy: 0.5354 - val_loss: 4.7944 - val_accuracy: 0.4720 - lr: 0.0010\n",
      "Epoch 220/300\n",
      "70/70 [==============================] - 1s 8ms/step - loss: 3.7002 - accuracy: 0.5396 - val_loss: 4.6624 - val_accuracy: 0.4790 - lr: 0.0010\n",
      "Epoch 221/300\n",
      "70/70 [==============================] - 1s 8ms/step - loss: 3.6955 - accuracy: 0.5327 - val_loss: 4.6416 - val_accuracy: 0.4830 - lr: 0.0010\n",
      "Epoch 222/300\n",
      "70/70 [==============================] - 1s 8ms/step - loss: 3.6884 - accuracy: 0.5333 - val_loss: 4.5749 - val_accuracy: 0.4750 - lr: 0.0010\n",
      "Epoch 223/300\n",
      "70/70 [==============================] - 1s 7ms/step - loss: 3.6381 - accuracy: 0.5339 - val_loss: 4.5864 - val_accuracy: 0.4870 - lr: 0.0010\n",
      "Epoch 224/300\n",
      "70/70 [==============================] - 1s 8ms/step - loss: 3.6465 - accuracy: 0.5399 - val_loss: 4.6479 - val_accuracy: 0.4840 - lr: 0.0010\n",
      "Epoch 225/300\n",
      "70/70 [==============================] - 1s 7ms/step - loss: 3.6550 - accuracy: 0.5389 - val_loss: 4.5519 - val_accuracy: 0.4710 - lr: 0.0010\n",
      "Epoch 226/300\n",
      "70/70 [==============================] - 1s 8ms/step - loss: 3.6478 - accuracy: 0.5400 - val_loss: 4.6505 - val_accuracy: 0.4820 - lr: 0.0010\n",
      "Epoch 227/300\n",
      "70/70 [==============================] - 1s 7ms/step - loss: 3.6854 - accuracy: 0.5397 - val_loss: 4.6898 - val_accuracy: 0.4810 - lr: 0.0010\n",
      "Epoch 228/300\n",
      "70/70 [==============================] - 1s 8ms/step - loss: 3.6648 - accuracy: 0.5357 - val_loss: 4.7085 - val_accuracy: 0.5020 - lr: 0.0010\n",
      "Epoch 229/300\n",
      "70/70 [==============================] - 1s 7ms/step - loss: 3.6448 - accuracy: 0.5377 - val_loss: 4.7231 - val_accuracy: 0.4890 - lr: 0.0010\n",
      "Epoch 230/300\n",
      "70/70 [==============================] - 1s 8ms/step - loss: 3.5954 - accuracy: 0.5383 - val_loss: 4.6996 - val_accuracy: 0.4790 - lr: 0.0010\n",
      "Epoch 231/300\n",
      "70/70 [==============================] - 1s 7ms/step - loss: 3.6266 - accuracy: 0.5360 - val_loss: 4.7428 - val_accuracy: 0.4900 - lr: 0.0010\n",
      "Epoch 232/300\n",
      "70/70 [==============================] - 1s 8ms/step - loss: 3.6371 - accuracy: 0.5397 - val_loss: 4.6843 - val_accuracy: 0.4780 - lr: 0.0010\n",
      "Epoch 233/300\n",
      "70/70 [==============================] - 1s 7ms/step - loss: 3.6193 - accuracy: 0.5369 - val_loss: 4.7182 - val_accuracy: 0.4730 - lr: 0.0010\n",
      "Epoch 234/300\n",
      "70/70 [==============================] - 1s 8ms/step - loss: 3.5765 - accuracy: 0.5384 - val_loss: 4.7152 - val_accuracy: 0.4830 - lr: 0.0010\n",
      "Epoch 235/300\n",
      "70/70 [==============================] - 1s 8ms/step - loss: 3.5974 - accuracy: 0.5411 - val_loss: 4.6472 - val_accuracy: 0.4780 - lr: 0.0010\n",
      "Epoch 236/300\n",
      "70/70 [==============================] - 1s 8ms/step - loss: 3.5827 - accuracy: 0.5449 - val_loss: 4.6313 - val_accuracy: 0.4790 - lr: 0.0010\n",
      "Epoch 237/300\n",
      "70/70 [==============================] - 1s 8ms/step - loss: 3.5946 - accuracy: 0.5414 - val_loss: 4.6495 - val_accuracy: 0.4740 - lr: 0.0010\n",
      "Epoch 238/300\n",
      "70/70 [==============================] - 1s 8ms/step - loss: 3.5628 - accuracy: 0.5394 - val_loss: 4.7083 - val_accuracy: 0.4850 - lr: 0.0010\n",
      "Epoch 239/300\n",
      "70/70 [==============================] - 1s 8ms/step - loss: 3.5621 - accuracy: 0.5499 - val_loss: 4.7478 - val_accuracy: 0.4850 - lr: 0.0010\n",
      "Epoch 240/300\n",
      "70/70 [==============================] - 1s 7ms/step - loss: 3.5884 - accuracy: 0.5403 - val_loss: 4.7100 - val_accuracy: 0.4850 - lr: 0.0010\n",
      "Epoch 241/300\n",
      "70/70 [==============================] - 1s 8ms/step - loss: 3.5550 - accuracy: 0.5440 - val_loss: 4.6640 - val_accuracy: 0.4850 - lr: 0.0010\n",
      "Epoch 242/300\n",
      "70/70 [==============================] - 1s 8ms/step - loss: 3.6166 - accuracy: 0.5437 - val_loss: 4.6371 - val_accuracy: 0.4860 - lr: 0.0010\n",
      "Epoch 243/300\n",
      "70/70 [==============================] - 1s 8ms/step - loss: 3.5198 - accuracy: 0.5394 - val_loss: 4.8318 - val_accuracy: 0.4790 - lr: 0.0010\n",
      "Epoch 244/300\n",
      "70/70 [==============================] - 1s 7ms/step - loss: 3.5568 - accuracy: 0.5411 - val_loss: 4.9213 - val_accuracy: 0.4730 - lr: 0.0010\n",
      "Epoch 245/300\n",
      "70/70 [==============================] - 1s 7ms/step - loss: 3.5876 - accuracy: 0.5356 - val_loss: 4.7565 - val_accuracy: 0.4700 - lr: 0.0010\n",
      "Epoch 246/300\n",
      "70/70 [==============================] - 1s 8ms/step - loss: 3.5372 - accuracy: 0.5431 - val_loss: 4.7556 - val_accuracy: 0.4890 - lr: 0.0010\n",
      "Epoch 247/300\n",
      "70/70 [==============================] - 1s 8ms/step - loss: 3.5028 - accuracy: 0.5444 - val_loss: 4.8434 - val_accuracy: 0.4730 - lr: 0.0010\n",
      "Epoch 248/300\n",
      "70/70 [==============================] - 1s 8ms/step - loss: 3.5349 - accuracy: 0.5527 - val_loss: 4.8185 - val_accuracy: 0.4800 - lr: 0.0010\n",
      "Epoch 249/300\n",
      "70/70 [==============================] - 1s 8ms/step - loss: 3.5169 - accuracy: 0.5483 - val_loss: 4.7624 - val_accuracy: 0.4830 - lr: 0.0010\n",
      "Epoch 250/300\n",
      "70/70 [==============================] - 1s 8ms/step - loss: 3.5025 - accuracy: 0.5514 - val_loss: 4.7145 - val_accuracy: 0.4780 - lr: 0.0010\n",
      "Epoch 251/300\n",
      "70/70 [==============================] - 1s 7ms/step - loss: 3.5633 - accuracy: 0.5450 - val_loss: 4.8284 - val_accuracy: 0.4710 - lr: 0.0010\n",
      "Epoch 252/300\n",
      "70/70 [==============================] - 1s 8ms/step - loss: 3.5556 - accuracy: 0.5420 - val_loss: 4.8255 - val_accuracy: 0.4790 - lr: 0.0010\n",
      "Epoch 253/300\n",
      "70/70 [==============================] - 1s 7ms/step - loss: 3.4972 - accuracy: 0.5429 - val_loss: 4.7761 - val_accuracy: 0.4870 - lr: 0.0010\n",
      "Epoch 254/300\n",
      "70/70 [==============================] - 1s 8ms/step - loss: 3.4982 - accuracy: 0.5539 - val_loss: 4.8112 - val_accuracy: 0.4670 - lr: 0.0010\n",
      "Epoch 255/300\n",
      "70/70 [==============================] - 1s 8ms/step - loss: 3.4959 - accuracy: 0.5369 - val_loss: 4.8130 - val_accuracy: 0.4810 - lr: 0.0010\n",
      "Epoch 256/300\n",
      "70/70 [==============================] - 1s 8ms/step - loss: 3.5173 - accuracy: 0.5461 - val_loss: 4.7456 - val_accuracy: 0.4730 - lr: 0.0010\n",
      "Epoch 257/300\n",
      "70/70 [==============================] - 1s 8ms/step - loss: 3.4773 - accuracy: 0.5477 - val_loss: 4.8999 - val_accuracy: 0.4830 - lr: 0.0010\n",
      "Epoch 258/300\n",
      "70/70 [==============================] - 1s 8ms/step - loss: 3.4935 - accuracy: 0.5411 - val_loss: 4.7168 - val_accuracy: 0.4910 - lr: 0.0010\n",
      "Epoch 259/300\n",
      "70/70 [==============================] - 1s 8ms/step - loss: 3.4987 - accuracy: 0.5473 - val_loss: 4.7647 - val_accuracy: 0.4800 - lr: 0.0010\n",
      "Epoch 260/300\n",
      "70/70 [==============================] - 1s 8ms/step - loss: 3.4552 - accuracy: 0.5391 - val_loss: 4.8121 - val_accuracy: 0.4810 - lr: 0.0010\n",
      "Epoch 261/300\n",
      "70/70 [==============================] - 1s 8ms/step - loss: 3.3815 - accuracy: 0.5510 - val_loss: 4.7212 - val_accuracy: 0.4800 - lr: 0.0010\n",
      "Epoch 262/300\n",
      "70/70 [==============================] - 1s 8ms/step - loss: 3.4757 - accuracy: 0.5484 - val_loss: 4.9107 - val_accuracy: 0.4620 - lr: 0.0010\n",
      "Epoch 263/300\n",
      "70/70 [==============================] - 1s 8ms/step - loss: 3.4617 - accuracy: 0.5517 - val_loss: 4.7570 - val_accuracy: 0.4890 - lr: 0.0010\n",
      "Epoch 264/300\n",
      "70/70 [==============================] - 1s 8ms/step - loss: 3.4595 - accuracy: 0.5461 - val_loss: 4.7878 - val_accuracy: 0.4830 - lr: 0.0010\n",
      "Epoch 265/300\n",
      "70/70 [==============================] - 1s 8ms/step - loss: 3.4280 - accuracy: 0.5506 - val_loss: 4.7470 - val_accuracy: 0.4750 - lr: 0.0010\n",
      "Epoch 266/300\n",
      "70/70 [==============================] - 1s 8ms/step - loss: 3.4102 - accuracy: 0.5504 - val_loss: 4.8495 - val_accuracy: 0.4690 - lr: 0.0010\n",
      "Epoch 267/300\n",
      "70/70 [==============================] - 1s 8ms/step - loss: 3.3914 - accuracy: 0.5544 - val_loss: 4.8345 - val_accuracy: 0.4710 - lr: 0.0010\n",
      "Epoch 268/300\n",
      "70/70 [==============================] - 1s 8ms/step - loss: 3.4053 - accuracy: 0.5509 - val_loss: 4.8648 - val_accuracy: 0.4790 - lr: 0.0010\n",
      "Epoch 269/300\n",
      "70/70 [==============================] - 1s 7ms/step - loss: 3.3858 - accuracy: 0.5553 - val_loss: 4.8470 - val_accuracy: 0.4760 - lr: 0.0010\n",
      "Epoch 270/300\n",
      "70/70 [==============================] - 1s 8ms/step - loss: 3.3815 - accuracy: 0.5537 - val_loss: 4.8457 - val_accuracy: 0.4700 - lr: 0.0010\n",
      "Epoch 271/300\n",
      "70/70 [==============================] - 1s 7ms/step - loss: 3.3969 - accuracy: 0.5521 - val_loss: 4.8230 - val_accuracy: 0.4740 - lr: 0.0010\n",
      "Epoch 272/300\n",
      "70/70 [==============================] - 1s 8ms/step - loss: 3.3749 - accuracy: 0.5547 - val_loss: 4.7714 - val_accuracy: 0.4690 - lr: 0.0010\n",
      "Epoch 273/300\n",
      "70/70 [==============================] - 1s 7ms/step - loss: 3.3568 - accuracy: 0.5539 - val_loss: 4.9909 - val_accuracy: 0.4620 - lr: 0.0010\n",
      "Epoch 274/300\n",
      "70/70 [==============================] - 1s 8ms/step - loss: 3.4025 - accuracy: 0.5441 - val_loss: 4.9027 - val_accuracy: 0.4740 - lr: 0.0010\n",
      "Epoch 275/300\n",
      "70/70 [==============================] - 1s 7ms/step - loss: 3.3703 - accuracy: 0.5553 - val_loss: 4.8243 - val_accuracy: 0.4700 - lr: 0.0010\n",
      "Epoch 276/300\n",
      "70/70 [==============================] - 1s 8ms/step - loss: 3.3219 - accuracy: 0.5550 - val_loss: 4.9297 - val_accuracy: 0.4840 - lr: 0.0010\n",
      "Epoch 277/300\n",
      "70/70 [==============================] - 1s 7ms/step - loss: 3.3567 - accuracy: 0.5560 - val_loss: 4.9085 - val_accuracy: 0.4730 - lr: 0.0010\n",
      "Epoch 278/300\n",
      "70/70 [==============================] - 1s 8ms/step - loss: 3.3474 - accuracy: 0.5544 - val_loss: 5.0052 - val_accuracy: 0.4850 - lr: 0.0010\n",
      "Epoch 279/300\n",
      "70/70 [==============================] - 1s 7ms/step - loss: 3.3550 - accuracy: 0.5596 - val_loss: 4.9644 - val_accuracy: 0.4710 - lr: 0.0010\n",
      "Epoch 280/300\n",
      "70/70 [==============================] - 1s 8ms/step - loss: 3.3602 - accuracy: 0.5511 - val_loss: 4.9323 - val_accuracy: 0.4760 - lr: 0.0010\n",
      "Epoch 281/300\n",
      "70/70 [==============================] - 1s 8ms/step - loss: 3.3347 - accuracy: 0.5519 - val_loss: 4.9897 - val_accuracy: 0.4760 - lr: 0.0010\n",
      "Epoch 282/300\n",
      "70/70 [==============================] - 1s 7ms/step - loss: 3.3479 - accuracy: 0.5559 - val_loss: 4.9059 - val_accuracy: 0.4870 - lr: 0.0010\n",
      "Epoch 283/300\n",
      "70/70 [==============================] - 1s 8ms/step - loss: 3.3373 - accuracy: 0.5496 - val_loss: 4.8991 - val_accuracy: 0.4790 - lr: 0.0010\n",
      "Epoch 284/300\n",
      "70/70 [==============================] - 1s 8ms/step - loss: 3.3790 - accuracy: 0.5471 - val_loss: 4.9061 - val_accuracy: 0.4780 - lr: 0.0010\n",
      "Epoch 285/300\n",
      "70/70 [==============================] - 1s 8ms/step - loss: 3.3659 - accuracy: 0.5524 - val_loss: 4.9569 - val_accuracy: 0.4580 - lr: 0.0010\n",
      "Epoch 286/300\n",
      "70/70 [==============================] - 1s 8ms/step - loss: 3.2703 - accuracy: 0.5610 - val_loss: 5.0157 - val_accuracy: 0.4700 - lr: 0.0010\n",
      "Epoch 287/300\n",
      "70/70 [==============================] - 1s 8ms/step - loss: 3.3172 - accuracy: 0.5516 - val_loss: 4.9190 - val_accuracy: 0.4670 - lr: 0.0010\n",
      "Epoch 288/300\n",
      "70/70 [==============================] - 1s 7ms/step - loss: 3.4578 - accuracy: 0.5513 - val_loss: 4.9353 - val_accuracy: 0.4830 - lr: 0.0010\n",
      "Epoch 289/300\n",
      "70/70 [==============================] - 1s 8ms/step - loss: 3.4925 - accuracy: 0.5446 - val_loss: 4.9035 - val_accuracy: 0.4670 - lr: 0.0010\n",
      "Epoch 290/300\n",
      "70/70 [==============================] - 1s 8ms/step - loss: 3.4104 - accuracy: 0.5513 - val_loss: 4.9823 - val_accuracy: 0.4720 - lr: 0.0010\n",
      "Epoch 291/300\n",
      "70/70 [==============================] - 1s 8ms/step - loss: 3.3625 - accuracy: 0.5431 - val_loss: 4.9228 - val_accuracy: 0.4800 - lr: 0.0010\n",
      "Epoch 292/300\n",
      "70/70 [==============================] - 1s 7ms/step - loss: 3.3313 - accuracy: 0.5479 - val_loss: 4.8548 - val_accuracy: 0.4700 - lr: 0.0010\n",
      "Epoch 293/300\n",
      "70/70 [==============================] - 1s 8ms/step - loss: 3.2921 - accuracy: 0.5556 - val_loss: 4.8969 - val_accuracy: 0.4870 - lr: 0.0010\n",
      "Epoch 294/300\n",
      "70/70 [==============================] - 1s 8ms/step - loss: 3.3624 - accuracy: 0.5476 - val_loss: 4.9706 - val_accuracy: 0.4730 - lr: 0.0010\n",
      "Epoch 295/300\n",
      "70/70 [==============================] - 1s 8ms/step - loss: 3.3145 - accuracy: 0.5606 - val_loss: 4.9380 - val_accuracy: 0.4830 - lr: 0.0010\n",
      "Epoch 296/300\n",
      "70/70 [==============================] - 1s 8ms/step - loss: 3.2842 - accuracy: 0.5539 - val_loss: 4.8732 - val_accuracy: 0.4830 - lr: 0.0010\n",
      "Epoch 297/300\n",
      "70/70 [==============================] - 1s 7ms/step - loss: 3.2881 - accuracy: 0.5536 - val_loss: 4.9325 - val_accuracy: 0.4900 - lr: 0.0010\n",
      "Epoch 298/300\n",
      "70/70 [==============================] - 1s 8ms/step - loss: 3.2944 - accuracy: 0.5566 - val_loss: 4.9855 - val_accuracy: 0.4760 - lr: 0.0010\n",
      "Epoch 299/300\n",
      "70/70 [==============================] - 1s 7ms/step - loss: 3.2771 - accuracy: 0.5519 - val_loss: 4.9036 - val_accuracy: 0.4730 - lr: 0.0010\n",
      "Epoch 300/300\n",
      "70/70 [==============================] - 1s 8ms/step - loss: 3.2304 - accuracy: 0.5550 - val_loss: 4.8852 - val_accuracy: 0.4830 - lr: 0.0010\n"
     ]
    }
   ],
   "source": [
    "val_epochs = 300\n",
    "tf.compat.v1.global_variables_initializer()\n",
    "\n",
    "early_stop = tf.keras.callbacks.EarlyStopping( monitor = 'val_loss', patience = 1000,verbose = 1, \n",
    "                                              restore_best_weights = True)\n",
    "\n",
    "reduce_lr = tf.keras.callbacks.LearningRateScheduler(scheduler)\n",
    "history = model.fit(train_dataset, validation_data=val_dataset, epochs= val_epochs, callbacks=[reduce_lr, early_stop])"
   ]
  },
  {
   "cell_type": "markdown",
   "id": "7b9d5d5d",
   "metadata": {},
   "source": [
    "# Analizamos accuracy y loss"
   ]
  },
  {
   "cell_type": "code",
   "execution_count": 62,
   "id": "c2c35f5e",
   "metadata": {
    "ExecuteTime": {
     "end_time": "2023-04-13T05:01:21.739733Z",
     "start_time": "2023-04-13T05:01:21.598723Z"
    },
    "scrolled": true
   },
   "outputs": [
    {
     "data": {
      "image/png": "[encoded data removed]",
      "text/plain": [
       "<Figure size 800x800 with 2 Axes>"
      ]
     },
     "metadata": {},
     "output_type": "display_data"
    }
   ],
   "source": [
    "acc = history.history['accuracy']\n",
    "val_acc = history.history['val_accuracy']\n",
    "\n",
    "loss = history.history['loss']\n",
    "val_loss = history.history['val_loss']\n",
    "\n",
    "epochs_range = range(val_epochs)\n",
    "\n",
    "plt.figure(figsize=(8, 8))\n",
    "plt.subplot(1, 2, 1)\n",
    "plt.plot(epochs_range, acc, label='Training Accuracy')\n",
    "plt.plot(epochs_range, val_acc, label='Validation Accuracy')\n",
    "plt.legend(loc='lower right')\n",
    "plt.title('Training and Validation Accuracy')\n",
    "\n",
    "plt.subplot(1, 2, 2)\n",
    "plt.plot(epochs_range, loss, label='Training Loss')\n",
    "plt.plot(epochs_range, val_loss, label='Validation Loss')\n",
    "plt.legend(loc='upper right')\n",
    "plt.title('Training and Validation Loss')\n",
    "plt.show()"
   ]
  },
  {
   "cell_type": "markdown",
   "id": "429f1d9c",
   "metadata": {
    "ExecuteTime": {
     "end_time": "2023-03-30T04:23:26.452756Z",
     "start_time": "2023-03-30T04:23:26.444877Z"
    }
   },
   "source": [
    "# Guardamos los datos de Accuracy y Loss"
   ]
  },
  {
   "cell_type": "code",
   "execution_count": 63,
   "id": "b5e89bf4",
   "metadata": {
    "ExecuteTime": {
     "end_time": "2023-04-13T05:01:29.609232Z",
     "start_time": "2023-04-13T05:01:29.590722Z"
    }
   },
   "outputs": [],
   "source": [
    "df = pd.DataFrame.from_dict(history.history)\n",
    "df.to_csv('../../Gráficas finales/historytrayec200.csv', index=False)"
   ]
  },
  {
   "cell_type": "markdown",
   "id": "e1af1d19",
   "metadata": {},
   "source": [
    "# Guardamos el modelo"
   ]
  },
  {
   "cell_type": "code",
   "execution_count": 64,
   "id": "3a346828",
   "metadata": {
    "ExecuteTime": {
     "end_time": "2023-04-13T05:01:29.954323Z",
     "start_time": "2023-04-13T05:01:29.946323Z"
    }
   },
   "outputs": [],
   "source": [
    "path_to_save = 'D:/Documentos de trabajo/Maestría/Tesis Maestría/Trabajo Python Tesis/Github Tesis/Modelos/Modelos 100,200'"
   ]
  },
  {
   "cell_type": "code",
   "execution_count": 65,
   "id": "8e86a52a",
   "metadata": {
    "ExecuteTime": {
     "end_time": "2023-04-13T05:01:30.330716Z",
     "start_time": "2023-04-13T05:01:30.285408Z"
    }
   },
   "outputs": [],
   "source": [
    "model.save(path_to_save + '/trayectorias200.h5')"
   ]
  },
  {
   "cell_type": "markdown",
   "id": "efc9d48d",
   "metadata": {},
   "source": [
    "# Importamos el modelo"
   ]
  },
  {
   "cell_type": "code",
   "execution_count": 66,
   "id": "d1d4a1a9",
   "metadata": {
    "ExecuteTime": {
     "end_time": "2023-04-13T05:01:30.757241Z",
     "start_time": "2023-04-13T05:01:30.664704Z"
    }
   },
   "outputs": [],
   "source": [
    "new_model = keras.models.load_model('../../Modelos/Modelos 100,200/trayectorias200.h5')"
   ]
  },
  {
   "cell_type": "markdown",
   "id": "7f6d0ea9",
   "metadata": {},
   "source": [
    "# Probamos el modelo con datos nuevos"
   ]
  },
  {
   "cell_type": "markdown",
   "id": "6ad7f37d",
   "metadata": {},
   "source": [
    "## Creamos nuevos datos"
   ]
  },
  {
   "cell_type": "code",
   "execution_count": 67,
   "id": "b664f200",
   "metadata": {
    "ExecuteTime": {
     "end_time": "2023-04-13T05:01:31.759709Z",
     "start_time": "2023-04-13T05:01:31.642949Z"
    }
   },
   "outputs": [
    {
     "name": "stdout",
     "output_type": "stream",
     "text": [
      "--------------------------------------------\n",
      "[3, 1, 5, 1, 0, 6, 1]\n",
      "(10, 2, 200)\n",
      "1\n"
     ]
    }
   ],
   "source": [
    "import random\n",
    "from scipy.integrate import solve_ivp\n",
    "\n",
    "varf = []\n",
    "coef = []\n",
    "contador = 0\n",
    "for i in range(0, 1):\n",
    "    # constantes\n",
    "    a1 = random.randint(0, 10)\n",
    "    a2 = random.randint(0, 10)\n",
    "    b1 = random.randint(0, 10)\n",
    "    b2 = random.randint(0, 10)\n",
    "    d1 = random.randint(0, 10)\n",
    "    d2 = random.randint(0, 10)\n",
    "    n = random.randint(0, 5)\n",
    "\n",
    "    coef1 = [a1, a2, b1, b2, d1, d2, n]\n",
    "    coef.append(coef1)\n",
    "\n",
    "    def f(t, y):\n",
    "\n",
    "        # asignar a cada ODE a un elemento de vector\n",
    "        X = y[0]\n",
    "        Y = y[1]\n",
    "\n",
    "        # definimos cada ODE\n",
    "        # dX_dt=a1/(1+Y**n)-d1*X+b1\n",
    "        # dY_dt=a2/(1+X**n)-d2*Y+b2\n",
    "        dX_dt = a1/(1+Y**n)-d1*X+b1\n",
    "        dY_dt = a2/(1+X**n)-d2*Y+b1\n",
    "\n",
    "        return [dX_dt, dY_dt]\n",
    "\n",
    "    # Declaramos el vector de tiempo\n",
    "    t_span = [0, 5]\n",
    "    times = np.linspace(t_span[0], t_span[1], 200)\n",
    "\n",
    "    varfci2 = []\n",
    "    for i_ci in range(0, 10):\n",
    "        # Definimos las condiciones iniciales\n",
    "        y0 = np.array([random.randint(0, 10), random.randint(0, 10)])\n",
    "\n",
    "        # Resolvemos\n",
    "        # Modificar manualmente el intervalo de tiempo\n",
    "        sol = solve_ivp(f, t_span, y0, t_eval=times)\n",
    "        # sol=solve_ivp(f, t_span, y0) #Dejar que la librería elija el mejor intervalo\n",
    "        tiempo = sol.t\n",
    "        var1 = sol.y[0]\n",
    "        var2 = sol.y[1]\n",
    "\n",
    "        varfci = np.append([var1], [var2], axis=0)\n",
    "        varfci2.append(varfci)\n",
    "\n",
    "       \n",
    "\n",
    "    varf= varfci2\n",
    "    print('--------------------------------------------')\n",
    "    print(coef1)\n",
    "    print(np.shape(varf))\n",
    "    contador = contador+1\n",
    "    print(contador)\n",
    "\n",
    "varf = np.array(varf)\n",
    "coef = np.array(coef)"
   ]
  },
  {
   "cell_type": "code",
   "execution_count": 68,
   "id": "ffbe4d61",
   "metadata": {
    "ExecuteTime": {
     "end_time": "2023-04-13T05:01:32.342752Z",
     "start_time": "2023-04-13T05:01:32.338753Z"
    }
   },
   "outputs": [],
   "source": [
    "varfnone = varf[None, :]"
   ]
  },
  {
   "cell_type": "markdown",
   "id": "4ea4942b",
   "metadata": {},
   "source": [
    "## Predecimos con los datos nuevos"
   ]
  },
  {
   "cell_type": "code",
   "execution_count": 70,
   "id": "37dce68f",
   "metadata": {
    "ExecuteTime": {
     "end_time": "2023-04-13T05:01:53.995141Z",
     "start_time": "2023-04-13T05:01:53.941737Z"
    }
   },
   "outputs": [
    {
     "name": "stdout",
     "output_type": "stream",
     "text": [
      "1/1 [==============================] - 0s 15ms/step\n",
      "[[ 7.132368    5.155998   10.178742    5.2787805  -0.75970775 10.003747\n",
      "   2.4369528 ]]\n"
     ]
    }
   ],
   "source": [
    "new_predictions = new_model.predict(campvecnone)\n",
    "new_predictions = np.round(new_predictions)\n",
    "new_predictions = np.clip(new_predictions, 0, None)\n",
    "print(new_predictions)"
   ]
  },
  {
   "cell_type": "markdown",
   "id": "06c64a67",
   "metadata": {},
   "source": [
    "## Graficamos con los coeficientes reales"
   ]
  },
  {
   "cell_type": "code",
   "execution_count": 71,
   "id": "930a1b59",
   "metadata": {
    "ExecuteTime": {
     "end_time": "2023-04-13T05:02:49.372388Z",
     "start_time": "2023-04-13T05:02:49.284983Z"
    }
   },
   "outputs": [
    {
     "data": {
      "image/png": "[encoded data removed]",
      "text/plain": [
       "<Figure size 500x500 with 1 Axes>"
      ]
     },
     "metadata": {},
     "output_type": "display_data"
    }
   ],
   "source": [
    "t_span = [0, 5]\n",
    "times = np.linspace(t_span[0], t_span[1], 200)\n",
    "plt.figure(figsize=(5,5))\n",
    "plt.plot(times,np.array(varf)[0,0,:], label=\" Concentración X\")\n",
    "plt.plot(times,np.array(varf)[0,1,:], label=\"Concentración Y\")\n",
    "plt.xlabel('Tiempo')\n",
    "plt.ylabel('Concentración de genes')\n",
    "plt.title('Simulación Toggle Swich', fontsize=20)\n",
    "plt.legend()\n",
    "plt.show()"
   ]
  },
  {
   "cell_type": "code",
   "execution_count": 72,
   "id": "be8f3283",
   "metadata": {
    "ExecuteTime": {
     "end_time": "2023-04-13T05:02:49.779165Z",
     "start_time": "2023-04-13T05:02:49.761193Z"
    }
   },
   "outputs": [
    {
     "data": {
      "text/plain": [
       "(1, 7)"
      ]
     },
     "execution_count": 72,
     "metadata": {},
     "output_type": "execute_result"
    }
   ],
   "source": [
    "np.shape(new_predictions)"
   ]
  },
  {
   "cell_type": "markdown",
   "id": "beb6126d",
   "metadata": {},
   "source": [
    "## Graficamos con los coeficientes predecidos"
   ]
  },
  {
   "cell_type": "code",
   "execution_count": 73,
   "id": "84ae10b1",
   "metadata": {
    "ExecuteTime": {
     "end_time": "2023-04-13T05:02:50.517994Z",
     "start_time": "2023-04-13T05:02:50.420481Z"
    }
   },
   "outputs": [
    {
     "data": {
      "image/png": "[encoded data removed]",
      "text/plain": [
       "<Figure size 500x500 with 1 Axes>"
      ]
     },
     "metadata": {},
     "output_type": "display_data"
    }
   ],
   "source": [
    "a1 = new_predictions[0,0]\n",
    "a2 = new_predictions[0,1]\n",
    "b1 = new_predictions[0,2]\n",
    "b2 = new_predictions[0,3]\n",
    "d1 = new_predictions[0,4]\n",
    "d2 = new_predictions[0,5]\n",
    "n = new_predictions[0,6]\n",
    " \n",
    "def f(t, y):\n",
    "\n",
    "    # asignar a cada ODE a un elemento de vector\n",
    "    X = y[0]\n",
    "    Y = y[1]\n",
    "\n",
    "    # definimos cada ODE\n",
    "    dX_dt = a1/(1+Y**n)-d1*X+b1\n",
    "    dY_dt = a2/(1+X**n)-d2*Y+b1\n",
    "\n",
    "    return [dX_dt, dY_dt]\n",
    "\n",
    "# Declaramos el vector de tiempo\n",
    "t_span = [0, 5]\n",
    "times = np.linspace(t_span[0], t_span[1], 200)\n",
    "\n",
    "# Definimos las condiciones iniciales\n",
    "y0 = np.array([10,10])\n",
    "\n",
    "# Resolvemos\n",
    "# Modificar manualmente el intervalo de tiempo\n",
    "sol = solve_ivp(f, t_span, y0, t_eval=times)\n",
    "# sol=solve_ivp(f, t_span, y0) #Dejar que la librería elija el mejor intervalo\n",
    "tiempo = sol.t\n",
    "var1 = sol.y[0]\n",
    "var2 = sol.y[1]\n",
    "\n",
    "# Graficamos\n",
    "plt.figure(figsize=(5, 5))\n",
    "plt.plot(tiempo, var1, label=\" Concentración X\")\n",
    "plt.plot(tiempo, var2, label=\"Concentración Y\")\n",
    "plt.xlabel('Tiempo')\n",
    "plt.ylabel('Concentración de genes')\n",
    "plt.title('Simulación Toggle Swich', fontsize=20)\n",
    "plt.legend()\n",
    "plt.show()"
   ]
  }
 ],
 "metadata": {
  "hide_input": false,
  "kernelspec": {
   "display_name": "Python 3 (ipykernel)",
   "language": "python",
   "name": "python3"
  },
  "language_info": {
   "codemirror_mode": {
    "name": "ipython",
    "version": 3
   },
   "file_extension": ".py",
   "mimetype": "text/x-python",
   "name": "python",
   "nbconvert_exporter": "python",
   "pygments_lexer": "ipython3",
   "version": "3.10.11"
  },
  "toc": {
   "base_numbering": 1,
   "nav_menu": {},
   "number_sections": true,
   "sideBar": true,
   "skip_h1_title": false,
   "title_cell": "Table of Contents",
   "title_sidebar": "Contents",
   "toc_cell": false,
   "toc_position": {},
   "toc_section_display": true,
   "toc_window_display": false
  },
  "varInspector": {
   "cols": {
    "lenName": 16,
    "lenType": 16,
    "lenVar": 40
   },
   "kernels_config": {
    "python": {
     "delete_cmd_postfix": "",
     "delete_cmd_prefix": "del ",
     "library": "var_list.py",
     "varRefreshCmd": "print(var_dic_list())"
    },
    "r": {
     "delete_cmd_postfix": ") ",
     "delete_cmd_prefix": "rm(",
     "library": "var_list.r",
     "varRefreshCmd": "cat(var_dic_list()) "
    }
   },
   "types_to_exclude": [
    "module",
    "function",
    "builtin_function_or_method",
    "instance",
    "_Feature"
   ],
   "window_display": false
  }
 },
 "nbformat": 4,
 "nbformat_minor": 5
}
