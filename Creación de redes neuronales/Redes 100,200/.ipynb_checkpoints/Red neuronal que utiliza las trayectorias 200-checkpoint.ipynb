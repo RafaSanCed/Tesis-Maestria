{
 "cells": [
  {
   "cell_type": "markdown",
   "id": "0067cad0",
   "metadata": {},
   "source": [
    "# Importamos librerías"
   ]
  },
  {
   "cell_type": "code",
   "execution_count": 1,
   "id": "b2d4f30f",
   "metadata": {
    "ExecuteTime": {
     "end_time": "2023-03-30T06:20:25.915152Z",
     "start_time": "2023-03-30T06:20:24.096638Z"
    }
   },
   "outputs": [],
   "source": [
    "import tensorflow as tf\n",
    "import pathlib\n",
    "import os\n",
    "import matplotlib.pyplot as plt\n",
    "import pandas as pd\n",
    "import numpy as np\n",
    "import keras"
   ]
  },
  {
   "cell_type": "code",
   "execution_count": 2,
   "id": "20fccfc6",
   "metadata": {
    "ExecuteTime": {
     "end_time": "2023-03-30T06:20:25.962409Z",
     "start_time": "2023-03-30T06:20:25.947663Z"
    }
   },
   "outputs": [],
   "source": [
    "from tensorflow.keras import Sequential\n",
    "from tensorflow.keras.layers import Conv2D\n",
    "from tensorflow.keras.layers import MaxPooling2D\n",
    "from tensorflow.keras.layers import AveragePooling2D\n",
    "from tensorflow.keras.layers import Dense\n",
    "from tensorflow.keras.layers import Flatten\n",
    "from tensorflow.keras.layers import Dropout, BatchNormalization"
   ]
  },
  {
   "cell_type": "code",
   "execution_count": 3,
   "id": "1c769735",
   "metadata": {
    "ExecuteTime": {
     "end_time": "2023-03-30T06:20:26.054612Z",
     "start_time": "2023-03-30T06:20:25.994303Z"
    }
   },
   "outputs": [
    {
     "name": "stdout",
     "output_type": "stream",
     "text": [
      "WARNING:tensorflow:From C:\\Users\\rafae\\AppData\\Local\\Temp\\ipykernel_3832\\337460670.py:1: is_gpu_available (from tensorflow.python.framework.test_util) is deprecated and will be removed in a future version.\n",
      "Instructions for updating:\n",
      "Use `tf.config.list_physical_devices('GPU')` instead.\n"
     ]
    },
    {
     "data": {
      "text/plain": [
       "True"
      ]
     },
     "execution_count": 3,
     "metadata": {},
     "output_type": "execute_result"
    }
   ],
   "source": [
    "tf.test.is_gpu_available()"
   ]
  },
  {
   "cell_type": "markdown",
   "id": "d94b2fbd",
   "metadata": {},
   "source": [
    "# Importamos los datos"
   ]
  },
  {
   "cell_type": "code",
   "execution_count": 4,
   "id": "2cdd79aa",
   "metadata": {
    "ExecuteTime": {
     "end_time": "2023-03-30T06:20:26.101457Z",
     "start_time": "2023-03-30T06:20:26.088497Z"
    }
   },
   "outputs": [],
   "source": [
    "path = 'D:/Documentos de trabajo/Maestría/Tesis Maestría/Trabajo Python Tesis/Github Tesis/Base de datos/Trayectorias 200 eval'"
   ]
  },
  {
   "cell_type": "markdown",
   "id": "39beab0c",
   "metadata": {},
   "source": [
    "## Datos de entrenamiento"
   ]
  },
  {
   "cell_type": "markdown",
   "id": "ca636b58",
   "metadata": {},
   "source": [
    "### Datos"
   ]
  },
  {
   "cell_type": "code",
   "execution_count": 5,
   "id": "ac8ee3cc",
   "metadata": {
    "ExecuteTime": {
     "end_time": "2023-03-30T06:20:26.320579Z",
     "start_time": "2023-03-30T06:20:26.133856Z"
    }
   },
   "outputs": [],
   "source": [
    "varftrain = np.load(path + '/varftrain.npy')"
   ]
  },
  {
   "cell_type": "code",
   "execution_count": 6,
   "id": "a2977931",
   "metadata": {
    "ExecuteTime": {
     "end_time": "2023-03-30T06:20:26.367459Z",
     "start_time": "2023-03-30T06:20:26.353476Z"
    }
   },
   "outputs": [
    {
     "data": {
      "text/plain": [
       "(7000, 10, 2, 200)"
      ]
     },
     "execution_count": 6,
     "metadata": {},
     "output_type": "execute_result"
    }
   ],
   "source": [
    "np.shape(varftrain)"
   ]
  },
  {
   "cell_type": "markdown",
   "id": "4a0e5fa2",
   "metadata": {},
   "source": [
    "### Coeficientes"
   ]
  },
  {
   "cell_type": "code",
   "execution_count": 7,
   "id": "45e5d25a",
   "metadata": {
    "ExecuteTime": {
     "end_time": "2023-03-30T06:20:26.616951Z",
     "start_time": "2023-03-30T06:20:26.601968Z"
    }
   },
   "outputs": [],
   "source": [
    "coefvarftrain = np.load(path + '/coefvarftrain.npy')"
   ]
  },
  {
   "cell_type": "code",
   "execution_count": 8,
   "id": "88f0323d",
   "metadata": {
    "ExecuteTime": {
     "end_time": "2023-03-30T06:20:26.803389Z",
     "start_time": "2023-03-30T06:20:26.788437Z"
    }
   },
   "outputs": [
    {
     "data": {
      "text/plain": [
       "(7000, 7)"
      ]
     },
     "execution_count": 8,
     "metadata": {},
     "output_type": "execute_result"
    }
   ],
   "source": [
    "np.shape(coefvarftrain)"
   ]
  },
  {
   "cell_type": "markdown",
   "id": "c89d3216",
   "metadata": {},
   "source": [
    "## Datos de prueba"
   ]
  },
  {
   "cell_type": "markdown",
   "id": "df843cea",
   "metadata": {},
   "source": [
    "### Datos"
   ]
  },
  {
   "cell_type": "code",
   "execution_count": 9,
   "id": "74030537",
   "metadata": {
    "ExecuteTime": {
     "end_time": "2023-03-30T06:20:27.473618Z",
     "start_time": "2023-03-30T06:20:27.417978Z"
    }
   },
   "outputs": [],
   "source": [
    "varftest = np.load(path + '/varftest.npy')"
   ]
  },
  {
   "cell_type": "code",
   "execution_count": 10,
   "id": "d6196850",
   "metadata": {
    "ExecuteTime": {
     "end_time": "2023-03-30T06:20:27.659843Z",
     "start_time": "2023-03-30T06:20:27.647882Z"
    }
   },
   "outputs": [
    {
     "data": {
      "text/plain": [
       "(2000, 10, 2, 200)"
      ]
     },
     "execution_count": 10,
     "metadata": {},
     "output_type": "execute_result"
    }
   ],
   "source": [
    "np.shape(varftest)"
   ]
  },
  {
   "cell_type": "markdown",
   "id": "46a3e36d",
   "metadata": {},
   "source": [
    "### Coeficientes"
   ]
  },
  {
   "cell_type": "code",
   "execution_count": 11,
   "id": "cf22c486",
   "metadata": {
    "ExecuteTime": {
     "end_time": "2023-03-30T06:20:28.143610Z",
     "start_time": "2023-03-30T06:20:28.133643Z"
    }
   },
   "outputs": [],
   "source": [
    "coefvarftest = np.load(path + '/coefvarftest.npy')"
   ]
  },
  {
   "cell_type": "code",
   "execution_count": 12,
   "id": "545559ea",
   "metadata": {
    "ExecuteTime": {
     "end_time": "2023-03-30T06:20:28.359280Z",
     "start_time": "2023-03-30T06:20:28.342816Z"
    }
   },
   "outputs": [
    {
     "data": {
      "text/plain": [
       "(2000, 7)"
      ]
     },
     "execution_count": 12,
     "metadata": {},
     "output_type": "execute_result"
    }
   ],
   "source": [
    "np.shape(coefvarftest)"
   ]
  },
  {
   "cell_type": "markdown",
   "id": "63024745",
   "metadata": {},
   "source": [
    "## Datos de validación"
   ]
  },
  {
   "cell_type": "markdown",
   "id": "9e38f1d7",
   "metadata": {},
   "source": [
    "### Datos"
   ]
  },
  {
   "cell_type": "code",
   "execution_count": 13,
   "id": "6e5768b7",
   "metadata": {
    "ExecuteTime": {
     "end_time": "2023-03-30T06:20:29.047550Z",
     "start_time": "2023-03-30T06:20:29.009651Z"
    }
   },
   "outputs": [],
   "source": [
    "varfval = np.load(path + '/varfval.npy')"
   ]
  },
  {
   "cell_type": "code",
   "execution_count": 14,
   "id": "a29f5ec0",
   "metadata": {
    "ExecuteTime": {
     "end_time": "2023-03-30T06:20:29.246577Z",
     "start_time": "2023-03-30T06:20:29.231626Z"
    }
   },
   "outputs": [
    {
     "data": {
      "text/plain": [
       "(1000, 10, 2, 200)"
      ]
     },
     "execution_count": 14,
     "metadata": {},
     "output_type": "execute_result"
    }
   ],
   "source": [
    "np.shape(varfval)"
   ]
  },
  {
   "cell_type": "markdown",
   "id": "ffc618a2",
   "metadata": {},
   "source": [
    "### Coeficienes"
   ]
  },
  {
   "cell_type": "code",
   "execution_count": 15,
   "id": "b323751c",
   "metadata": {
    "ExecuteTime": {
     "end_time": "2023-03-30T06:20:29.978847Z",
     "start_time": "2023-03-30T06:20:29.971647Z"
    }
   },
   "outputs": [],
   "source": [
    "coefvarfval = np.load(path + '/coefvarfval.npy')"
   ]
  },
  {
   "cell_type": "code",
   "execution_count": 16,
   "id": "60df7d7d",
   "metadata": {
    "ExecuteTime": {
     "end_time": "2023-03-30T06:20:30.367665Z",
     "start_time": "2023-03-30T06:20:30.354709Z"
    }
   },
   "outputs": [
    {
     "data": {
      "text/plain": [
       "(1000, 7)"
      ]
     },
     "execution_count": 16,
     "metadata": {},
     "output_type": "execute_result"
    }
   ],
   "source": [
    "np.shape(coefvarfval)"
   ]
  },
  {
   "cell_type": "markdown",
   "id": "e069562d",
   "metadata": {},
   "source": [
    "# Unimos coeficientes con los datos"
   ]
  },
  {
   "cell_type": "code",
   "execution_count": 17,
   "id": "a973df40",
   "metadata": {
    "ExecuteTime": {
     "end_time": "2023-03-30T06:20:31.212357Z",
     "start_time": "2023-03-30T06:20:30.913061Z"
    }
   },
   "outputs": [],
   "source": [
    "train_dataset = tf.data.Dataset.from_tensor_slices((varftrain, coefvarftrain))\n",
    "test_dataset = tf.data.Dataset.from_tensor_slices((varftest, coefvarftest))\n",
    "val_dataset = tf.data.Dataset.from_tensor_slices((varfval, coefvarfval))"
   ]
  },
  {
   "cell_type": "code",
   "execution_count": 18,
   "id": "bc7ee207",
   "metadata": {
    "ExecuteTime": {
     "end_time": "2023-03-30T06:20:31.273727Z",
     "start_time": "2023-03-30T06:20:31.264659Z"
    }
   },
   "outputs": [
    {
     "data": {
      "text/plain": [
       "<TensorSliceDataset element_spec=(TensorSpec(shape=(10, 2, 200), dtype=tf.float64, name=None), TensorSpec(shape=(7,), dtype=tf.int32, name=None))>"
      ]
     },
     "execution_count": 18,
     "metadata": {},
     "output_type": "execute_result"
    }
   ],
   "source": [
    "train_dataset"
   ]
  },
  {
   "cell_type": "markdown",
   "id": "05ebcd40",
   "metadata": {
    "ExecuteTime": {
     "end_time": "2023-02-07T19:36:45.065835Z",
     "start_time": "2023-02-07T19:36:45.042683Z"
    }
   },
   "source": [
    "# Mezclar y procesar por lotes los conjuntos de datos"
   ]
  },
  {
   "cell_type": "code",
   "execution_count": 19,
   "id": "eca4c6bc",
   "metadata": {
    "ExecuteTime": {
     "end_time": "2023-03-30T06:20:32.021996Z",
     "start_time": "2023-03-30T06:20:32.010525Z"
    }
   },
   "outputs": [],
   "source": [
    "BATCH_SIZE = 100\n",
    "SHUFFLE_BUFFER_SIZE = 100\n",
    "\n",
    "train_dataset = train_dataset.shuffle(SHUFFLE_BUFFER_SIZE).batch(BATCH_SIZE)\n",
    "test_dataset = test_dataset.batch(BATCH_SIZE)\n",
    "val_dataset = val_dataset.batch(BATCH_SIZE)"
   ]
  },
  {
   "cell_type": "markdown",
   "id": "46c62479",
   "metadata": {},
   "source": [
    "# Creamos la función de costo"
   ]
  },
  {
   "cell_type": "markdown",
   "id": "76914f6c",
   "metadata": {},
   "source": [
    "# Creación del modelo"
   ]
  },
  {
   "cell_type": "code",
   "execution_count": 20,
   "id": "f81457b1",
   "metadata": {
    "ExecuteTime": {
     "end_time": "2023-03-30T06:20:32.864967Z",
     "start_time": "2023-03-30T06:20:32.844656Z"
    }
   },
   "outputs": [],
   "source": [
    "def custom_loss(y_true,y_pred):\n",
    "    ytruearray = ytrue.eval(session=tf.compat.v1.Session())\n",
    "    print(np.shape(y_true))\n",
    "    campvec = []\n",
    "    # constantes\n",
    "    a1 = y_true[0]\n",
    "    a2 = y_true[1]\n",
    "    b1 = y_true[2]\n",
    "    b2 = y_true[3]\n",
    "    d1 = y_true[4]\n",
    "    d2 = y_true[5]\n",
    "    n = y_true[6]\n",
    "\n",
    "    def f(t, y):\n",
    "\n",
    "        # asignar a cada ODE a un elemento de vector\n",
    "        X = y[0]\n",
    "        Y = y[1]\n",
    "\n",
    "        # definimos cada ODE\n",
    "        # dX_dt=a1/(1+Y**n)-d1*X+b1\n",
    "        # dY_dt=a2/(1+X**n)-d2*Y+b2\n",
    "        dX_dt = a1/(1+Y**n)-d1*X+b1\n",
    "        dY_dt = a2/(1+X**n)-d2*Y+b1\n",
    "\n",
    "        return [dX_dt, dY_dt]\n",
    "\n",
    "    x_range_neg = 0\n",
    "    x_range_pos = 50\n",
    "    y_range_neg = 0\n",
    "    y_range_pos =50\n",
    "\n",
    "    y1 = np.linspace(x_range_neg, x_range_pos, 100)\n",
    "    y2 = np.linspace(y_range_neg, y_range_pos, 100)\n",
    "\n",
    "    Y1, Y2 = np.meshgrid(y1, y2)\n",
    "    \n",
    "    t1 = 0\n",
    "\n",
    "    u, v = np.zeros(Y1.shape), np.zeros(Y2.shape)\n",
    "\n",
    "    NI, NJ = Y1.shape\n",
    "\n",
    "    u1, v1 = f(t1, [Y1, Y2])\n",
    "    u, v = f(t1, [Y1, Y2])\n",
    "    M = (np.hypot(u, v))\n",
    "    u /= M\n",
    "    v /= M\n",
    "\n",
    "    campvecci = np.append([u1], [v1], axis=0)\n",
    "\n",
    "    campvec = campvecci\n",
    "    campvec = np.array(campvec)\n",
    "\n",
    "# ----------------------------------------------------------------------------\n",
    "    campvec2 = []\n",
    "    # constantes\n",
    "    a12 = y_pred[0]\n",
    "    a22 = y_pred[1]\n",
    "    b12 = y_pred[2]\n",
    "    b22 = y_pred[3]\n",
    "    d12 = y_pred[4]\n",
    "    d22 = y_pred[5]\n",
    "    n2 = y_pred[6]\n",
    "\n",
    "    def f2(t2, y2):\n",
    "\n",
    "        # asignar a cada ODE a un elemento de vector\n",
    "        X2 = y2[0]\n",
    "        Y2 = y2[1]\n",
    "\n",
    "        # definimos cada ODE\n",
    "        # dX_dt=a1/(1+Y**n)-d1*X+b1\n",
    "        # dY_dt=a2/(1+X**n)-d2*Y+b2\n",
    "        dX2_dt = a12/(1+Y**n2)-d12*X+b12\n",
    "        dY2_dt = a22/(1+X**n2)-d22*Y+b12\n",
    "\n",
    "        return [dX2_dt, dY2_dt]\n",
    "\n",
    "    y12 = np.linspace(x_range_neg, x_range_pos, 100)\n",
    "    y22 = np.linspace(y_range_neg, y_range_pos, 100)\n",
    "\n",
    "    Y12, Y22 = np.meshgrid(y12, y22)\n",
    "    \n",
    "    t12 = 0\n",
    "\n",
    "    u2, v2 = np.zeros(Y12.shape), np.zeros(Y22.shape)\n",
    "\n",
    "    NI2, NJ2 = Y12.shape\n",
    "\n",
    "    u12, v12 = f(t12, [Y12, Y22])\n",
    "    u2, v2 = f(t12, [Y12, Y22])\n",
    "    M2 = (np.hypot(u2, v2))\n",
    "    u2 /= M2\n",
    "    v2 /= M2\n",
    "\n",
    "    campvecci2 = np.append([u12], [v12], axis=0)\n",
    "\n",
    "    campvec2 = campvecci2\n",
    "    campvec2 = np.array(campvec2)\n",
    "    tf.cast(campvec|campvec2, tf.int64|tf.int64)\n",
    "\n",
    "    \n",
    "    return (campvec-campvec2)\n"
   ]
  },
  {
   "cell_type": "code",
   "execution_count": 21,
   "id": "e4f113f9",
   "metadata": {
    "ExecuteTime": {
     "end_time": "2023-03-30T06:20:33.407834Z",
     "start_time": "2023-03-30T06:20:33.324111Z"
    }
   },
   "outputs": [],
   "source": [
    "#model = Sequential()\n",
    "\n",
    "model = tf.keras.Sequential([\n",
    "    tf.keras.layers.Flatten(input_shape=(10,2,200)),\n",
    "    tf.keras.layers.BatchNormalization(),\n",
    "    tf.keras.layers.Dense(128, activation='relu'),\n",
    "    tf.keras.layers.Dense(64, activation='relu'),\n",
    "    tf.keras.layers.Dense(128, activation='relu'),\n",
    "    tf.keras.layers.Dense(64, activation='relu'),\n",
    "    tf.keras.layers.Dropout(0.2),\n",
    "    tf.keras.layers.BatchNormalization(),\n",
    "    tf.keras.layers.Dense(7)\n",
    "])\n"
   ]
  },
  {
   "cell_type": "code",
   "execution_count": 22,
   "id": "45fd641f",
   "metadata": {
    "ExecuteTime": {
     "end_time": "2023-03-30T06:20:33.825922Z",
     "start_time": "2023-03-30T06:20:33.810658Z"
    }
   },
   "outputs": [
    {
     "name": "stdout",
     "output_type": "stream",
     "text": [
      "Model: \"sequential\"\n",
      "_________________________________________________________________\n",
      " Layer (type)                Output Shape              Param #   \n",
      "=================================================================\n",
      " flatten (Flatten)           (None, 4000)              0         \n",
      "                                                                 \n",
      " batch_normalization (BatchN  (None, 4000)             16000     \n",
      " ormalization)                                                   \n",
      "                                                                 \n",
      " dense (Dense)               (None, 128)               512128    \n",
      "                                                                 \n",
      " dense_1 (Dense)             (None, 64)                8256      \n",
      "                                                                 \n",
      " dense_2 (Dense)             (None, 128)               8320      \n",
      "                                                                 \n",
      " dense_3 (Dense)             (None, 64)                8256      \n",
      "                                                                 \n",
      " dropout (Dropout)           (None, 64)                0         \n",
      "                                                                 \n",
      " batch_normalization_1 (Batc  (None, 64)               256       \n",
      " hNormalization)                                                 \n",
      "                                                                 \n",
      " dense_4 (Dense)             (None, 7)                 455       \n",
      "                                                                 \n",
      "=================================================================\n",
      "Total params: 553,671\n",
      "Trainable params: 545,543\n",
      "Non-trainable params: 8,128\n",
      "_________________________________________________________________\n"
     ]
    }
   ],
   "source": [
    "model.summary()"
   ]
  },
  {
   "cell_type": "markdown",
   "id": "b761554a",
   "metadata": {},
   "source": [
    "# Entrenamos el modelo"
   ]
  },
  {
   "cell_type": "code",
   "execution_count": 23,
   "id": "4316785f",
   "metadata": {
    "ExecuteTime": {
     "end_time": "2023-03-30T06:20:34.406378Z",
     "start_time": "2023-03-30T06:20:34.390654Z"
    }
   },
   "outputs": [],
   "source": [
    "model.compile(optimizer='adam',\n",
    "              loss='MSE',\n",
    "              metrics=['mae'])"
   ]
  },
  {
   "cell_type": "code",
   "execution_count": 24,
   "id": "d1303e8d",
   "metadata": {
    "ExecuteTime": {
     "end_time": "2023-03-30T06:20:34.934770Z",
     "start_time": "2023-03-30T06:20:34.916902Z"
    }
   },
   "outputs": [],
   "source": [
    "def scheduler(epoch, lr):\n",
    "  if epoch < 500:\n",
    "    return lr\n",
    "  else:\n",
    "    return 1e-3 * 0.99 ** epoch"
   ]
  },
  {
   "cell_type": "code",
   "execution_count": 26,
   "id": "88d710c6",
   "metadata": {
    "ExecuteTime": {
     "end_time": "2023-03-30T06:24:59.072513Z",
     "start_time": "2023-03-30T06:20:41.940630Z"
    }
   },
   "outputs": [
    {
     "name": "stdout",
     "output_type": "stream",
     "text": [
      "Epoch 1/1000\n",
      "70/70 [==============================] - 0s 7ms/step - loss: 7.2108 - mae: 2.1831 - val_loss: 17.2132 - val_mae: 3.2988 - lr: 0.0010\n",
      "Epoch 2/1000\n",
      "70/70 [==============================] - 0s 7ms/step - loss: 7.0210 - mae: 2.1455 - val_loss: 10.9714 - val_mae: 2.7316 - lr: 0.0010\n",
      "Epoch 3/1000\n",
      "70/70 [==============================] - 1s 7ms/step - loss: 6.8128 - mae: 2.1177 - val_loss: 10.8472 - val_mae: 2.7290 - lr: 0.0010\n",
      "Epoch 4/1000\n",
      "70/70 [==============================] - 1s 7ms/step - loss: 6.6537 - mae: 2.0931 - val_loss: 11.1933 - val_mae: 2.7570 - lr: 0.0010\n",
      "Epoch 5/1000\n",
      "70/70 [==============================] - 1s 7ms/step - loss: 6.6088 - mae: 2.0805 - val_loss: 10.9073 - val_mae: 2.7300 - lr: 0.0010\n",
      "Epoch 6/1000\n",
      "70/70 [==============================] - 0s 7ms/step - loss: 6.5168 - mae: 2.0648 - val_loss: 15.0011 - val_mae: 3.1039 - lr: 0.0010\n",
      "Epoch 7/1000\n",
      "70/70 [==============================] - 0s 7ms/step - loss: 6.3381 - mae: 2.0310 - val_loss: 10.4410 - val_mae: 2.6890 - lr: 0.0010\n",
      "Epoch 8/1000\n",
      "70/70 [==============================] - 0s 7ms/step - loss: 6.3832 - mae: 2.0415 - val_loss: 10.7834 - val_mae: 2.7202 - lr: 0.0010\n",
      "Epoch 9/1000\n",
      "70/70 [==============================] - 0s 7ms/step - loss: 6.1993 - mae: 2.0038 - val_loss: 10.7031 - val_mae: 2.7114 - lr: 0.0010\n",
      "Epoch 10/1000\n",
      "70/70 [==============================] - 1s 7ms/step - loss: 6.2116 - mae: 2.0124 - val_loss: 12.6731 - val_mae: 2.8865 - lr: 0.0010\n",
      "Epoch 11/1000\n",
      "70/70 [==============================] - 1s 8ms/step - loss: 6.0023 - mae: 1.9678 - val_loss: 13.3096 - val_mae: 2.9529 - lr: 0.0010\n",
      "Epoch 12/1000\n",
      "70/70 [==============================] - 1s 7ms/step - loss: 6.0646 - mae: 1.9784 - val_loss: 12.9049 - val_mae: 2.9137 - lr: 0.0010\n",
      "Epoch 13/1000\n",
      "70/70 [==============================] - 1s 7ms/step - loss: 6.0230 - mae: 1.9648 - val_loss: 12.3714 - val_mae: 2.8636 - lr: 0.0010\n",
      "Epoch 14/1000\n",
      "70/70 [==============================] - 1s 7ms/step - loss: 5.9316 - mae: 1.9508 - val_loss: 11.1711 - val_mae: 2.7527 - lr: 0.0010\n",
      "Epoch 15/1000\n",
      "70/70 [==============================] - 1s 7ms/step - loss: 5.8334 - mae: 1.9334 - val_loss: 13.4885 - val_mae: 2.9612 - lr: 0.0010\n",
      "Epoch 16/1000\n",
      "70/70 [==============================] - 1s 8ms/step - loss: 5.7746 - mae: 1.9170 - val_loss: 11.9928 - val_mae: 2.8299 - lr: 0.0010\n",
      "Epoch 17/1000\n",
      "70/70 [==============================] - 1s 7ms/step - loss: 5.7282 - mae: 1.9068 - val_loss: 11.4937 - val_mae: 2.7821 - lr: 0.0010\n",
      "Epoch 18/1000\n",
      "70/70 [==============================] - 0s 7ms/step - loss: 5.6817 - mae: 1.9004 - val_loss: 11.1747 - val_mae: 2.7554 - lr: 0.0010\n",
      "Epoch 19/1000\n",
      "70/70 [==============================] - 0s 7ms/step - loss: 5.6173 - mae: 1.8854 - val_loss: 11.0426 - val_mae: 2.7426 - lr: 0.0010\n",
      "Epoch 20/1000\n",
      "70/70 [==============================] - 1s 7ms/step - loss: 5.6682 - mae: 1.9017 - val_loss: 11.6514 - val_mae: 2.7964 - lr: 0.0010\n",
      "Epoch 21/1000\n",
      "70/70 [==============================] - 1s 7ms/step - loss: 5.6003 - mae: 1.8859 - val_loss: 11.7615 - val_mae: 2.8077 - lr: 0.0010\n",
      "Epoch 22/1000\n",
      "70/70 [==============================] - 0s 7ms/step - loss: 5.5414 - mae: 1.8683 - val_loss: 11.8685 - val_mae: 2.8182 - lr: 0.0010\n",
      "Epoch 23/1000\n",
      "70/70 [==============================] - 1s 7ms/step - loss: 5.5118 - mae: 1.8666 - val_loss: 11.6634 - val_mae: 2.7970 - lr: 0.0010\n",
      "Epoch 24/1000\n",
      "70/70 [==============================] - 1s 7ms/step - loss: 5.4798 - mae: 1.8588 - val_loss: 12.3074 - val_mae: 2.8567 - lr: 0.0010\n",
      "Epoch 25/1000\n",
      "70/70 [==============================] - 1s 7ms/step - loss: 5.4424 - mae: 1.8460 - val_loss: 11.2621 - val_mae: 2.7618 - lr: 0.0010\n",
      "Epoch 26/1000\n",
      "70/70 [==============================] - 1s 7ms/step - loss: 5.4030 - mae: 1.8371 - val_loss: 11.6924 - val_mae: 2.8029 - lr: 0.0010\n",
      "Epoch 27/1000\n",
      "70/70 [==============================] - 0s 7ms/step - loss: 5.2851 - mae: 1.8128 - val_loss: 11.3920 - val_mae: 2.7736 - lr: 0.0010\n",
      "Epoch 28/1000\n",
      "70/70 [==============================] - 1s 8ms/step - loss: 5.2941 - mae: 1.8138 - val_loss: 11.8709 - val_mae: 2.8151 - lr: 0.0010\n",
      "Epoch 29/1000\n",
      "70/70 [==============================] - 1s 7ms/step - loss: 5.2906 - mae: 1.8142 - val_loss: 11.9998 - val_mae: 2.8297 - lr: 0.0010\n",
      "Epoch 30/1000\n",
      "70/70 [==============================] - 0s 7ms/step - loss: 5.1919 - mae: 1.7909 - val_loss: 12.9514 - val_mae: 2.9145 - lr: 0.0010\n",
      "Epoch 31/1000\n",
      "70/70 [==============================] - 0s 7ms/step - loss: 5.1887 - mae: 1.7937 - val_loss: 12.1880 - val_mae: 2.8479 - lr: 0.0010\n",
      "Epoch 32/1000\n",
      "70/70 [==============================] - 0s 7ms/step - loss: 5.1147 - mae: 1.7726 - val_loss: 12.6697 - val_mae: 2.8874 - lr: 0.0010\n",
      "Epoch 33/1000\n",
      "70/70 [==============================] - 0s 7ms/step - loss: 5.1950 - mae: 1.7929 - val_loss: 13.0096 - val_mae: 2.9164 - lr: 0.0010\n",
      "Epoch 34/1000\n",
      "70/70 [==============================] - 1s 7ms/step - loss: 5.1717 - mae: 1.7845 - val_loss: 12.3765 - val_mae: 2.8558 - lr: 0.0010\n",
      "Epoch 35/1000\n",
      "70/70 [==============================] - 1s 7ms/step - loss: 5.1050 - mae: 1.7671 - val_loss: 11.6843 - val_mae: 2.8021 - lr: 0.0010\n",
      "Epoch 36/1000\n",
      "70/70 [==============================] - 0s 7ms/step - loss: 5.0625 - mae: 1.7588 - val_loss: 12.3283 - val_mae: 2.8615 - lr: 0.0010\n",
      "Epoch 37/1000\n",
      "70/70 [==============================] - 1s 7ms/step - loss: 5.0359 - mae: 1.7515 - val_loss: 11.6607 - val_mae: 2.7971 - lr: 0.0010\n",
      "Epoch 38/1000\n",
      "70/70 [==============================] - 1s 7ms/step - loss: 5.0107 - mae: 1.7464 - val_loss: 12.0430 - val_mae: 2.8366 - lr: 0.0010\n",
      "Epoch 39/1000\n",
      "70/70 [==============================] - 1s 7ms/step - loss: 4.9966 - mae: 1.7441 - val_loss: 12.6988 - val_mae: 2.8976 - lr: 0.0010\n",
      "Epoch 40/1000\n",
      "70/70 [==============================] - 1s 7ms/step - loss: 4.9480 - mae: 1.7354 - val_loss: 12.0687 - val_mae: 2.8392 - lr: 0.0010\n",
      "Epoch 41/1000\n",
      "70/70 [==============================] - 0s 7ms/step - loss: 4.9866 - mae: 1.7411 - val_loss: 13.4513 - val_mae: 2.9054 - lr: 0.0010\n",
      "Epoch 42/1000\n",
      "70/70 [==============================] - 0s 7ms/step - loss: 4.9873 - mae: 1.7396 - val_loss: 11.8798 - val_mae: 2.8219 - lr: 0.0010\n",
      "Epoch 43/1000\n",
      "70/70 [==============================] - 1s 7ms/step - loss: 4.9900 - mae: 1.7437 - val_loss: 13.0586 - val_mae: 2.9304 - lr: 0.0010\n",
      "Epoch 44/1000\n",
      "70/70 [==============================] - 0s 7ms/step - loss: 4.9385 - mae: 1.7310 - val_loss: 12.0241 - val_mae: 2.8314 - lr: 0.0010\n",
      "Epoch 45/1000\n",
      "70/70 [==============================] - 1s 7ms/step - loss: 4.9639 - mae: 1.7373 - val_loss: 12.4216 - val_mae: 2.8717 - lr: 0.0010\n",
      "Epoch 46/1000\n",
      "70/70 [==============================] - 1s 7ms/step - loss: 4.9915 - mae: 1.7449 - val_loss: 11.6826 - val_mae: 2.8009 - lr: 0.0010\n",
      "Epoch 47/1000\n",
      "70/70 [==============================] - 0s 7ms/step - loss: 4.9163 - mae: 1.7264 - val_loss: 12.2638 - val_mae: 2.8565 - lr: 0.0010\n",
      "Epoch 48/1000\n",
      "70/70 [==============================] - 0s 7ms/step - loss: 4.8943 - mae: 1.7196 - val_loss: 11.9900 - val_mae: 2.8295 - lr: 0.0010\n",
      "Epoch 49/1000\n",
      "70/70 [==============================] - 1s 7ms/step - loss: 4.8247 - mae: 1.7041 - val_loss: 11.5967 - val_mae: 2.7922 - lr: 0.0010\n",
      "Epoch 50/1000\n",
      "70/70 [==============================] - 1s 7ms/step - loss: 4.8648 - mae: 1.7114 - val_loss: 12.0845 - val_mae: 2.8402 - lr: 0.0010\n",
      "Epoch 51/1000\n",
      "70/70 [==============================] - 1s 8ms/step - loss: 4.8465 - mae: 1.7073 - val_loss: 12.3921 - val_mae: 2.8670 - lr: 0.0010\n",
      "Epoch 52/1000\n",
      "70/70 [==============================] - 1s 8ms/step - loss: 4.8463 - mae: 1.7049 - val_loss: 11.5923 - val_mae: 2.7971 - lr: 0.0010\n",
      "Epoch 53/1000\n",
      "70/70 [==============================] - 0s 7ms/step - loss: 4.8892 - mae: 1.7204 - val_loss: 11.7519 - val_mae: 2.8045 - lr: 0.0010\n",
      "Epoch 54/1000\n",
      "70/70 [==============================] - 1s 7ms/step - loss: 4.8384 - mae: 1.7061 - val_loss: 11.8331 - val_mae: 2.8144 - lr: 0.0010\n",
      "Epoch 55/1000\n",
      "70/70 [==============================] - 0s 7ms/step - loss: 4.8352 - mae: 1.7053 - val_loss: 11.9676 - val_mae: 2.8311 - lr: 0.0010\n",
      "Epoch 56/1000\n",
      "70/70 [==============================] - 1s 7ms/step - loss: 4.8202 - mae: 1.7021 - val_loss: 12.9813 - val_mae: 2.9222 - lr: 0.0010\n"
     ]
    },
    {
     "name": "stdout",
     "output_type": "stream",
     "text": [
      "Epoch 57/1000\n",
      "70/70 [==============================] - 1s 7ms/step - loss: 4.8022 - mae: 1.6994 - val_loss: 12.4877 - val_mae: 2.8795 - lr: 0.0010\n",
      "Epoch 58/1000\n",
      "70/70 [==============================] - 1s 7ms/step - loss: 4.7850 - mae: 1.6931 - val_loss: 11.8695 - val_mae: 2.8187 - lr: 0.0010\n",
      "Epoch 59/1000\n",
      "70/70 [==============================] - 1s 7ms/step - loss: 4.8006 - mae: 1.6964 - val_loss: 11.9532 - val_mae: 2.8276 - lr: 0.0010\n",
      "Epoch 60/1000\n",
      "70/70 [==============================] - 0s 7ms/step - loss: 4.8364 - mae: 1.7060 - val_loss: 12.0564 - val_mae: 2.8355 - lr: 0.0010\n",
      "Epoch 61/1000\n",
      "70/70 [==============================] - 0s 7ms/step - loss: 4.7813 - mae: 1.6918 - val_loss: 12.4324 - val_mae: 2.8710 - lr: 0.0010\n",
      "Epoch 62/1000\n",
      "70/70 [==============================] - 1s 7ms/step - loss: 4.7878 - mae: 1.6941 - val_loss: 12.0439 - val_mae: 2.8357 - lr: 0.0010\n",
      "Epoch 63/1000\n",
      "70/70 [==============================] - 0s 7ms/step - loss: 4.7788 - mae: 1.6916 - val_loss: 11.7136 - val_mae: 2.8051 - lr: 0.0010\n",
      "Epoch 64/1000\n",
      "70/70 [==============================] - 1s 7ms/step - loss: 4.8167 - mae: 1.7040 - val_loss: 12.0250 - val_mae: 2.8315 - lr: 0.0010\n",
      "Epoch 65/1000\n",
      "70/70 [==============================] - 1s 7ms/step - loss: 4.7691 - mae: 1.6885 - val_loss: 12.5373 - val_mae: 2.8814 - lr: 0.0010\n",
      "Epoch 66/1000\n",
      "70/70 [==============================] - 0s 7ms/step - loss: 4.7406 - mae: 1.6855 - val_loss: 12.4420 - val_mae: 2.8707 - lr: 0.0010\n",
      "Epoch 67/1000\n",
      "70/70 [==============================] - 1s 7ms/step - loss: 4.7586 - mae: 1.6874 - val_loss: 12.5278 - val_mae: 2.8806 - lr: 0.0010\n",
      "Epoch 68/1000\n",
      "70/70 [==============================] - 1s 8ms/step - loss: 4.7625 - mae: 1.6898 - val_loss: 12.5702 - val_mae: 2.8865 - lr: 0.0010\n",
      "Epoch 69/1000\n",
      "70/70 [==============================] - 1s 7ms/step - loss: 4.7186 - mae: 1.6766 - val_loss: 12.2244 - val_mae: 2.8528 - lr: 0.0010\n",
      "Epoch 70/1000\n",
      "70/70 [==============================] - 1s 7ms/step - loss: 4.6863 - mae: 1.6697 - val_loss: 12.3603 - val_mae: 2.8663 - lr: 0.0010\n",
      "Epoch 71/1000\n",
      "70/70 [==============================] - 0s 7ms/step - loss: 4.7124 - mae: 1.6790 - val_loss: 11.9849 - val_mae: 2.8294 - lr: 0.0010\n",
      "Epoch 72/1000\n",
      "70/70 [==============================] - 0s 7ms/step - loss: 4.7305 - mae: 1.6805 - val_loss: 12.5066 - val_mae: 2.8787 - lr: 0.0010\n",
      "Epoch 73/1000\n",
      "70/70 [==============================] - 0s 7ms/step - loss: 4.7723 - mae: 1.6930 - val_loss: 11.9604 - val_mae: 2.8272 - lr: 0.0010\n",
      "Epoch 74/1000\n",
      "70/70 [==============================] - 0s 7ms/step - loss: 4.7365 - mae: 1.6788 - val_loss: 12.2073 - val_mae: 2.8467 - lr: 0.0010\n",
      "Epoch 75/1000\n",
      "70/70 [==============================] - 1s 7ms/step - loss: 4.6957 - mae: 1.6707 - val_loss: 12.5518 - val_mae: 2.8833 - lr: 0.0010\n",
      "Epoch 76/1000\n",
      "70/70 [==============================] - 1s 7ms/step - loss: 4.7394 - mae: 1.6843 - val_loss: 12.0689 - val_mae: 2.8382 - lr: 0.0010\n",
      "Epoch 77/1000\n",
      "70/70 [==============================] - 1s 7ms/step - loss: 4.7175 - mae: 1.6784 - val_loss: 12.6460 - val_mae: 2.8903 - lr: 0.0010\n",
      "Epoch 78/1000\n",
      "70/70 [==============================] - 1s 7ms/step - loss: 4.7397 - mae: 1.6796 - val_loss: 12.2276 - val_mae: 2.8544 - lr: 0.0010\n",
      "Epoch 79/1000\n",
      "70/70 [==============================] - 1s 7ms/step - loss: 4.7224 - mae: 1.6794 - val_loss: 12.8756 - val_mae: 2.9156 - lr: 0.0010\n",
      "Epoch 80/1000\n",
      "70/70 [==============================] - 0s 7ms/step - loss: 4.6958 - mae: 1.6738 - val_loss: 12.6352 - val_mae: 2.8902 - lr: 0.0010\n",
      "Epoch 81/1000\n",
      "70/70 [==============================] - 0s 7ms/step - loss: 4.6835 - mae: 1.6723 - val_loss: 12.2117 - val_mae: 2.8543 - lr: 0.0010\n",
      "Epoch 82/1000\n",
      "70/70 [==============================] - 0s 7ms/step - loss: 4.6751 - mae: 1.6656 - val_loss: 12.3568 - val_mae: 2.8658 - lr: 0.0010\n",
      "Epoch 83/1000\n",
      "70/70 [==============================] - 0s 7ms/step - loss: 4.6770 - mae: 1.6682 - val_loss: 12.2287 - val_mae: 2.8537 - lr: 0.0010\n",
      "Epoch 84/1000\n",
      "70/70 [==============================] - 0s 7ms/step - loss: 4.6430 - mae: 1.6594 - val_loss: 12.5298 - val_mae: 2.8838 - lr: 0.0010\n",
      "Epoch 85/1000\n",
      "70/70 [==============================] - 1s 7ms/step - loss: 4.7154 - mae: 1.6787 - val_loss: 12.5922 - val_mae: 2.8865 - lr: 0.0010\n",
      "Epoch 86/1000\n",
      "70/70 [==============================] - 0s 7ms/step - loss: 4.6535 - mae: 1.6617 - val_loss: 12.0633 - val_mae: 2.8392 - lr: 0.0010\n",
      "Epoch 87/1000\n",
      "70/70 [==============================] - 0s 7ms/step - loss: 4.6845 - mae: 1.6712 - val_loss: 12.3841 - val_mae: 2.8654 - lr: 0.0010\n",
      "Epoch 88/1000\n",
      "70/70 [==============================] - 0s 7ms/step - loss: 4.6401 - mae: 1.6580 - val_loss: 12.5237 - val_mae: 2.8828 - lr: 0.0010\n",
      "Epoch 89/1000\n",
      "70/70 [==============================] - 0s 7ms/step - loss: 4.6789 - mae: 1.6680 - val_loss: 12.1196 - val_mae: 2.8471 - lr: 0.0010\n",
      "Epoch 90/1000\n",
      "70/70 [==============================] - 0s 7ms/step - loss: 4.6488 - mae: 1.6643 - val_loss: 12.3449 - val_mae: 2.8641 - lr: 0.0010\n",
      "Epoch 91/1000\n",
      "70/70 [==============================] - 0s 7ms/step - loss: 4.6615 - mae: 1.6639 - val_loss: 12.0579 - val_mae: 2.8376 - lr: 0.0010\n",
      "Epoch 92/1000\n",
      "70/70 [==============================] - 0s 7ms/step - loss: 4.6463 - mae: 1.6618 - val_loss: 12.7902 - val_mae: 2.9051 - lr: 0.0010\n",
      "Epoch 93/1000\n",
      "70/70 [==============================] - 0s 7ms/step - loss: 4.6303 - mae: 1.6576 - val_loss: 12.3375 - val_mae: 2.8641 - lr: 0.0010\n",
      "Epoch 94/1000\n",
      "70/70 [==============================] - 0s 7ms/step - loss: 4.6796 - mae: 1.6676 - val_loss: 12.8394 - val_mae: 2.9086 - lr: 0.0010\n",
      "Epoch 95/1000\n",
      "70/70 [==============================] - 0s 7ms/step - loss: 4.6055 - mae: 1.6482 - val_loss: 12.1582 - val_mae: 2.8506 - lr: 0.0010\n",
      "Epoch 96/1000\n",
      "70/70 [==============================] - 0s 7ms/step - loss: 4.6025 - mae: 1.6499 - val_loss: 12.4842 - val_mae: 2.8769 - lr: 0.0010\n",
      "Epoch 97/1000\n",
      "70/70 [==============================] - 0s 7ms/step - loss: 4.6528 - mae: 1.6635 - val_loss: 12.2912 - val_mae: 2.8596 - lr: 0.0010\n",
      "Epoch 98/1000\n",
      "70/70 [==============================] - 0s 7ms/step - loss: 4.6145 - mae: 1.6537 - val_loss: 12.5824 - val_mae: 2.8882 - lr: 0.0010\n",
      "Epoch 99/1000\n",
      "70/70 [==============================] - 1s 7ms/step - loss: 4.5796 - mae: 1.6439 - val_loss: 12.1761 - val_mae: 2.8516 - lr: 0.0010\n",
      "Epoch 100/1000\n",
      "70/70 [==============================] - 1s 7ms/step - loss: 4.5853 - mae: 1.6472 - val_loss: 13.3753 - val_mae: 2.9611 - lr: 0.0010\n",
      "Epoch 101/1000\n",
      "70/70 [==============================] - 0s 7ms/step - loss: 4.6512 - mae: 1.6617 - val_loss: 12.5631 - val_mae: 2.8849 - lr: 0.0010\n",
      "Epoch 102/1000\n",
      "70/70 [==============================] - 0s 7ms/step - loss: 4.6390 - mae: 1.6623 - val_loss: 12.5049 - val_mae: 2.8822 - lr: 0.0010\n",
      "Epoch 103/1000\n",
      "70/70 [==============================] - 1s 7ms/step - loss: 4.6127 - mae: 1.6563 - val_loss: 12.5514 - val_mae: 2.8827 - lr: 0.0010\n",
      "Epoch 104/1000\n",
      "70/70 [==============================] - 0s 7ms/step - loss: 4.6212 - mae: 1.6568 - val_loss: 12.4751 - val_mae: 2.8788 - lr: 0.0010\n",
      "Epoch 105/1000\n",
      "70/70 [==============================] - 0s 7ms/step - loss: 4.5951 - mae: 1.6467 - val_loss: 12.0815 - val_mae: 2.8439 - lr: 0.0010\n",
      "Epoch 106/1000\n",
      "70/70 [==============================] - 0s 7ms/step - loss: 4.6046 - mae: 1.6539 - val_loss: 12.4645 - val_mae: 2.8772 - lr: 0.0010\n",
      "Epoch 107/1000\n",
      "70/70 [==============================] - 0s 7ms/step - loss: 4.5777 - mae: 1.6483 - val_loss: 12.4724 - val_mae: 2.8769 - lr: 0.0010\n",
      "Epoch 108/1000\n",
      "70/70 [==============================] - 0s 7ms/step - loss: 4.5999 - mae: 1.6510 - val_loss: 12.5458 - val_mae: 2.8836 - lr: 0.0010\n",
      "Epoch 109/1000\n",
      "70/70 [==============================] - 0s 7ms/step - loss: 4.5862 - mae: 1.6475 - val_loss: 12.1914 - val_mae: 2.8507 - lr: 0.0010\n",
      "Epoch 110/1000\n",
      "70/70 [==============================] - 0s 7ms/step - loss: 4.5787 - mae: 1.6453 - val_loss: 12.3099 - val_mae: 2.8585 - lr: 0.0010\n",
      "Epoch 111/1000\n",
      "70/70 [==============================] - 0s 7ms/step - loss: 4.5304 - mae: 1.6320 - val_loss: 12.6657 - val_mae: 2.8945 - lr: 0.0010\n",
      "Epoch 112/1000\n",
      "70/70 [==============================] - 1s 7ms/step - loss: 4.5774 - mae: 1.6455 - val_loss: 12.3588 - val_mae: 2.8658 - lr: 0.0010\n"
     ]
    },
    {
     "name": "stdout",
     "output_type": "stream",
     "text": [
      "Epoch 113/1000\n",
      "70/70 [==============================] - 0s 7ms/step - loss: 4.5568 - mae: 1.6409 - val_loss: 12.5919 - val_mae: 2.8882 - lr: 0.0010\n",
      "Epoch 114/1000\n",
      "70/70 [==============================] - 0s 7ms/step - loss: 4.6115 - mae: 1.6541 - val_loss: 12.2708 - val_mae: 2.8617 - lr: 0.0010\n",
      "Epoch 115/1000\n",
      "70/70 [==============================] - 1s 7ms/step - loss: 4.5624 - mae: 1.6408 - val_loss: 12.3115 - val_mae: 2.8651 - lr: 0.0010\n",
      "Epoch 116/1000\n",
      "70/70 [==============================] - 1s 7ms/step - loss: 4.5282 - mae: 1.6362 - val_loss: 12.4923 - val_mae: 2.8792 - lr: 0.0010\n",
      "Epoch 117/1000\n",
      "70/70 [==============================] - 0s 7ms/step - loss: 4.6144 - mae: 1.6571 - val_loss: 13.0017 - val_mae: 2.9263 - lr: 0.0010\n",
      "Epoch 118/1000\n",
      "70/70 [==============================] - 0s 7ms/step - loss: 4.6561 - mae: 1.6626 - val_loss: 12.5756 - val_mae: 2.8857 - lr: 0.0010\n",
      "Epoch 119/1000\n",
      "70/70 [==============================] - 0s 7ms/step - loss: 4.5899 - mae: 1.6468 - val_loss: 12.6586 - val_mae: 2.8940 - lr: 0.0010\n",
      "Epoch 120/1000\n",
      "70/70 [==============================] - 0s 7ms/step - loss: 4.5629 - mae: 1.6434 - val_loss: 12.3722 - val_mae: 2.8672 - lr: 0.0010\n",
      "Epoch 121/1000\n",
      "70/70 [==============================] - 0s 7ms/step - loss: 4.5210 - mae: 1.6334 - val_loss: 12.6100 - val_mae: 2.8896 - lr: 0.0010\n",
      "Epoch 122/1000\n",
      "70/70 [==============================] - 0s 7ms/step - loss: 4.5570 - mae: 1.6418 - val_loss: 12.1436 - val_mae: 2.8472 - lr: 0.0010\n",
      "Epoch 123/1000\n",
      "70/70 [==============================] - 0s 7ms/step - loss: 4.5896 - mae: 1.6511 - val_loss: 12.1274 - val_mae: 2.8457 - lr: 0.0010\n",
      "Epoch 124/1000\n",
      "70/70 [==============================] - 0s 7ms/step - loss: 4.5410 - mae: 1.6409 - val_loss: 12.1300 - val_mae: 2.8465 - lr: 0.0010\n",
      "Epoch 125/1000\n",
      "70/70 [==============================] - 0s 7ms/step - loss: 4.5060 - mae: 1.6296 - val_loss: 12.1034 - val_mae: 2.8462 - lr: 0.0010\n",
      "Epoch 126/1000\n",
      "70/70 [==============================] - 0s 7ms/step - loss: 4.5074 - mae: 1.6332 - val_loss: 12.3451 - val_mae: 2.8676 - lr: 0.0010\n",
      "Epoch 127/1000\n",
      "70/70 [==============================] - 0s 7ms/step - loss: 4.4764 - mae: 1.6223 - val_loss: 12.4172 - val_mae: 2.8723 - lr: 0.0010\n",
      "Epoch 128/1000\n",
      "70/70 [==============================] - 0s 7ms/step - loss: 4.4947 - mae: 1.6270 - val_loss: 12.5888 - val_mae: 2.8918 - lr: 0.0010\n",
      "Epoch 129/1000\n",
      "70/70 [==============================] - 0s 7ms/step - loss: 4.5365 - mae: 1.6361 - val_loss: 12.8365 - val_mae: 2.9110 - lr: 0.0010\n",
      "Epoch 130/1000\n",
      "70/70 [==============================] - 1s 7ms/step - loss: 4.5561 - mae: 1.6438 - val_loss: 13.0738 - val_mae: 2.9317 - lr: 0.0010\n",
      "Epoch 131/1000\n",
      "70/70 [==============================] - 1s 7ms/step - loss: 4.5013 - mae: 1.6292 - val_loss: 12.6154 - val_mae: 2.8936 - lr: 0.0010\n",
      "Epoch 132/1000\n",
      "70/70 [==============================] - 0s 7ms/step - loss: 4.5159 - mae: 1.6316 - val_loss: 12.5043 - val_mae: 2.8800 - lr: 0.0010\n",
      "Epoch 133/1000\n",
      "70/70 [==============================] - 1s 7ms/step - loss: 4.4828 - mae: 1.6238 - val_loss: 12.8934 - val_mae: 2.9130 - lr: 0.0010\n",
      "Epoch 134/1000\n",
      "70/70 [==============================] - 0s 7ms/step - loss: 4.4712 - mae: 1.6203 - val_loss: 12.7251 - val_mae: 2.9012 - lr: 0.0010\n",
      "Epoch 135/1000\n",
      "70/70 [==============================] - 0s 7ms/step - loss: 4.4498 - mae: 1.6154 - val_loss: 12.0672 - val_mae: 2.8405 - lr: 0.0010\n",
      "Epoch 136/1000\n",
      "70/70 [==============================] - 0s 7ms/step - loss: 4.5093 - mae: 1.6323 - val_loss: 12.5326 - val_mae: 2.8828 - lr: 0.0010\n",
      "Epoch 137/1000\n",
      "70/70 [==============================] - 1s 9ms/step - loss: 4.5456 - mae: 1.6417 - val_loss: 12.7825 - val_mae: 2.9053 - lr: 0.0010\n",
      "Epoch 138/1000\n",
      "70/70 [==============================] - 0s 7ms/step - loss: 4.4567 - mae: 1.6182 - val_loss: 12.7545 - val_mae: 2.9012 - lr: 0.0010\n",
      "Epoch 139/1000\n",
      "70/70 [==============================] - 1s 7ms/step - loss: 4.4924 - mae: 1.6261 - val_loss: 12.6905 - val_mae: 2.8950 - lr: 0.0010\n",
      "Epoch 140/1000\n",
      "70/70 [==============================] - 0s 7ms/step - loss: 4.4629 - mae: 1.6222 - val_loss: 12.5589 - val_mae: 2.8835 - lr: 0.0010\n",
      "Epoch 141/1000\n",
      "70/70 [==============================] - 0s 7ms/step - loss: 4.4320 - mae: 1.6132 - val_loss: 12.7488 - val_mae: 2.9037 - lr: 0.0010\n",
      "Epoch 142/1000\n",
      "70/70 [==============================] - 0s 7ms/step - loss: 4.4724 - mae: 1.6227 - val_loss: 12.8240 - val_mae: 2.9074 - lr: 0.0010\n",
      "Epoch 143/1000\n",
      "70/70 [==============================] - 0s 7ms/step - loss: 4.5265 - mae: 1.6350 - val_loss: 12.6522 - val_mae: 2.8951 - lr: 0.0010\n",
      "Epoch 144/1000\n",
      "70/70 [==============================] - 0s 7ms/step - loss: 4.4839 - mae: 1.6268 - val_loss: 12.8094 - val_mae: 2.9078 - lr: 0.0010\n",
      "Epoch 145/1000\n",
      "70/70 [==============================] - 0s 7ms/step - loss: 4.4694 - mae: 1.6198 - val_loss: 12.5971 - val_mae: 2.8890 - lr: 0.0010\n",
      "Epoch 146/1000\n",
      "70/70 [==============================] - 0s 7ms/step - loss: 4.4226 - mae: 1.6114 - val_loss: 12.6943 - val_mae: 2.8969 - lr: 0.0010\n",
      "Epoch 147/1000\n",
      "70/70 [==============================] - 0s 7ms/step - loss: 4.4058 - mae: 1.6089 - val_loss: 12.4218 - val_mae: 2.8749 - lr: 0.0010\n",
      "Epoch 148/1000\n",
      "70/70 [==============================] - 0s 7ms/step - loss: 4.4026 - mae: 1.6088 - val_loss: 12.5458 - val_mae: 2.8864 - lr: 0.0010\n",
      "Epoch 149/1000\n",
      "70/70 [==============================] - 0s 7ms/step - loss: 4.4833 - mae: 1.6258 - val_loss: 12.9322 - val_mae: 2.9205 - lr: 0.0010\n",
      "Epoch 150/1000\n",
      "70/70 [==============================] - 0s 7ms/step - loss: 4.3660 - mae: 1.6018 - val_loss: 12.6005 - val_mae: 2.8902 - lr: 0.0010\n",
      "Epoch 151/1000\n",
      "70/70 [==============================] - 1s 7ms/step - loss: 4.4051 - mae: 1.6080 - val_loss: 12.5954 - val_mae: 2.8916 - lr: 0.0010\n",
      "Epoch 152/1000\n",
      "70/70 [==============================] - 0s 7ms/step - loss: 4.4097 - mae: 1.6090 - val_loss: 13.3172 - val_mae: 2.9542 - lr: 0.0010\n",
      "Epoch 153/1000\n",
      "70/70 [==============================] - 0s 7ms/step - loss: 4.4031 - mae: 1.6107 - val_loss: 12.6137 - val_mae: 2.8910 - lr: 0.0010\n",
      "Epoch 154/1000\n",
      "70/70 [==============================] - 0s 7ms/step - loss: 4.4350 - mae: 1.6161 - val_loss: 12.6938 - val_mae: 2.8966 - lr: 0.0010\n",
      "Epoch 155/1000\n",
      "70/70 [==============================] - 0s 7ms/step - loss: 4.4018 - mae: 1.6088 - val_loss: 12.6570 - val_mae: 2.8946 - lr: 0.0010\n",
      "Epoch 156/1000\n",
      "70/70 [==============================] - 0s 7ms/step - loss: 4.3812 - mae: 1.6029 - val_loss: 12.8664 - val_mae: 2.9161 - lr: 0.0010\n",
      "Epoch 157/1000\n",
      "70/70 [==============================] - 0s 7ms/step - loss: 4.4129 - mae: 1.6101 - val_loss: 12.5230 - val_mae: 2.8847 - lr: 0.0010\n",
      "Epoch 158/1000\n",
      "70/70 [==============================] - 1s 7ms/step - loss: 4.3808 - mae: 1.6029 - val_loss: 12.7137 - val_mae: 2.8982 - lr: 0.0010\n",
      "Epoch 159/1000\n",
      "70/70 [==============================] - 0s 7ms/step - loss: 4.3424 - mae: 1.5933 - val_loss: 13.2472 - val_mae: 2.9491 - lr: 0.0010\n",
      "Epoch 160/1000\n",
      "70/70 [==============================] - 1s 7ms/step - loss: 4.3944 - mae: 1.6070 - val_loss: 12.9934 - val_mae: 2.9263 - lr: 0.0010\n",
      "Epoch 161/1000\n",
      "70/70 [==============================] - 0s 7ms/step - loss: 4.3874 - mae: 1.6037 - val_loss: 12.6669 - val_mae: 2.8940 - lr: 0.0010\n",
      "Epoch 162/1000\n",
      "70/70 [==============================] - 0s 7ms/step - loss: 4.3607 - mae: 1.6005 - val_loss: 12.6302 - val_mae: 2.8909 - lr: 0.0010\n",
      "Epoch 163/1000\n",
      "70/70 [==============================] - 0s 7ms/step - loss: 4.3400 - mae: 1.5964 - val_loss: 12.8168 - val_mae: 2.9116 - lr: 0.0010\n",
      "Epoch 164/1000\n",
      "70/70 [==============================] - 1s 7ms/step - loss: 4.3944 - mae: 1.6064 - val_loss: 12.9356 - val_mae: 2.9182 - lr: 0.0010\n",
      "Epoch 165/1000\n",
      "70/70 [==============================] - 1s 7ms/step - loss: 4.3608 - mae: 1.5981 - val_loss: 12.7581 - val_mae: 2.9062 - lr: 0.0010\n",
      "Epoch 166/1000\n",
      "70/70 [==============================] - 1s 7ms/step - loss: 4.3627 - mae: 1.6016 - val_loss: 12.5224 - val_mae: 2.8809 - lr: 0.0010\n",
      "Epoch 167/1000\n",
      "70/70 [==============================] - 0s 7ms/step - loss: 4.3542 - mae: 1.6009 - val_loss: 12.5199 - val_mae: 2.8825 - lr: 0.0010\n",
      "Epoch 168/1000\n"
     ]
    },
    {
     "name": "stdout",
     "output_type": "stream",
     "text": [
      "70/70 [==============================] - 1s 7ms/step - loss: 4.3418 - mae: 1.5987 - val_loss: 12.7602 - val_mae: 2.9017 - lr: 0.0010\n",
      "Epoch 169/1000\n",
      "70/70 [==============================] - 0s 7ms/step - loss: 4.3394 - mae: 1.5936 - val_loss: 12.6539 - val_mae: 2.8943 - lr: 0.0010\n",
      "Epoch 170/1000\n",
      "70/70 [==============================] - 0s 7ms/step - loss: 4.3237 - mae: 1.5931 - val_loss: 12.9050 - val_mae: 2.9180 - lr: 0.0010\n",
      "Epoch 171/1000\n",
      "70/70 [==============================] - 0s 7ms/step - loss: 4.3573 - mae: 1.5981 - val_loss: 13.0728 - val_mae: 2.9308 - lr: 0.0010\n",
      "Epoch 172/1000\n",
      "70/70 [==============================] - 0s 7ms/step - loss: 4.3270 - mae: 1.5957 - val_loss: 12.7992 - val_mae: 2.9069 - lr: 0.0010\n",
      "Epoch 173/1000\n",
      "70/70 [==============================] - 0s 7ms/step - loss: 4.3205 - mae: 1.5907 - val_loss: 12.5067 - val_mae: 2.8817 - lr: 0.0010\n",
      "Epoch 174/1000\n",
      "70/70 [==============================] - 0s 7ms/step - loss: 4.3595 - mae: 1.6019 - val_loss: 12.5690 - val_mae: 2.8849 - lr: 0.0010\n",
      "Epoch 175/1000\n",
      "70/70 [==============================] - 0s 7ms/step - loss: 4.2915 - mae: 1.5854 - val_loss: 13.4961 - val_mae: 2.9687 - lr: 0.0010\n",
      "Epoch 176/1000\n",
      "70/70 [==============================] - 0s 7ms/step - loss: 4.3470 - mae: 1.5975 - val_loss: 13.3504 - val_mae: 2.9525 - lr: 0.0010\n",
      "Epoch 177/1000\n",
      "70/70 [==============================] - 0s 7ms/step - loss: 4.3167 - mae: 1.5923 - val_loss: 13.1627 - val_mae: 2.9372 - lr: 0.0010\n",
      "Epoch 178/1000\n",
      "70/70 [==============================] - 0s 7ms/step - loss: 4.2470 - mae: 1.5763 - val_loss: 12.6326 - val_mae: 2.8911 - lr: 0.0010\n",
      "Epoch 179/1000\n",
      "70/70 [==============================] - 0s 7ms/step - loss: 4.3110 - mae: 1.5905 - val_loss: 12.7094 - val_mae: 2.9021 - lr: 0.0010\n",
      "Epoch 180/1000\n",
      "70/70 [==============================] - 0s 7ms/step - loss: 4.3015 - mae: 1.5901 - val_loss: 12.9466 - val_mae: 2.9198 - lr: 0.0010\n",
      "Epoch 181/1000\n",
      "70/70 [==============================] - 1s 7ms/step - loss: 4.2679 - mae: 1.5832 - val_loss: 12.8071 - val_mae: 2.9083 - lr: 0.0010\n",
      "Epoch 182/1000\n",
      "70/70 [==============================] - 0s 7ms/step - loss: 4.2603 - mae: 1.5805 - val_loss: 12.7086 - val_mae: 2.8953 - lr: 0.0010\n",
      "Epoch 183/1000\n",
      "70/70 [==============================] - 0s 7ms/step - loss: 4.2646 - mae: 1.5812 - val_loss: 12.6031 - val_mae: 2.8902 - lr: 0.0010\n",
      "Epoch 184/1000\n",
      "70/70 [==============================] - 1s 7ms/step - loss: 4.2838 - mae: 1.5855 - val_loss: 13.3167 - val_mae: 2.9525 - lr: 0.0010\n",
      "Epoch 185/1000\n",
      "70/70 [==============================] - 1s 7ms/step - loss: 4.2412 - mae: 1.5758 - val_loss: 12.9967 - val_mae: 2.9242 - lr: 0.0010\n",
      "Epoch 186/1000\n",
      "70/70 [==============================] - 1s 7ms/step - loss: 4.2647 - mae: 1.5815 - val_loss: 12.8487 - val_mae: 2.9093 - lr: 0.0010\n",
      "Epoch 187/1000\n",
      "70/70 [==============================] - 1s 7ms/step - loss: 4.2156 - mae: 1.5704 - val_loss: 12.8180 - val_mae: 2.9084 - lr: 0.0010\n",
      "Epoch 188/1000\n",
      "70/70 [==============================] - 1s 7ms/step - loss: 4.2492 - mae: 1.5776 - val_loss: 13.1436 - val_mae: 2.9351 - lr: 0.0010\n",
      "Epoch 189/1000\n",
      "70/70 [==============================] - 0s 7ms/step - loss: 4.2342 - mae: 1.5747 - val_loss: 12.8619 - val_mae: 2.9097 - lr: 0.0010\n",
      "Epoch 190/1000\n",
      "70/70 [==============================] - 1s 7ms/step - loss: 4.2003 - mae: 1.5658 - val_loss: 12.7385 - val_mae: 2.9006 - lr: 0.0010\n",
      "Epoch 191/1000\n",
      "70/70 [==============================] - 0s 7ms/step - loss: 4.2041 - mae: 1.5695 - val_loss: 13.0648 - val_mae: 2.9289 - lr: 0.0010\n",
      "Epoch 192/1000\n",
      "70/70 [==============================] - 1s 7ms/step - loss: 4.2370 - mae: 1.5760 - val_loss: 13.2178 - val_mae: 2.9427 - lr: 0.0010\n",
      "Epoch 193/1000\n",
      "70/70 [==============================] - 1s 7ms/step - loss: 4.2705 - mae: 1.5868 - val_loss: 12.8789 - val_mae: 2.9139 - lr: 0.0010\n",
      "Epoch 194/1000\n",
      "70/70 [==============================] - 1s 7ms/step - loss: 4.2210 - mae: 1.5743 - val_loss: 12.7831 - val_mae: 2.9014 - lr: 0.0010\n",
      "Epoch 195/1000\n",
      "70/70 [==============================] - 1s 8ms/step - loss: 4.2386 - mae: 1.5742 - val_loss: 12.9646 - val_mae: 2.9227 - lr: 0.0010\n",
      "Epoch 196/1000\n",
      "70/70 [==============================] - 0s 7ms/step - loss: 4.2128 - mae: 1.5717 - val_loss: 12.9636 - val_mae: 2.9221 - lr: 0.0010\n",
      "Epoch 197/1000\n",
      "70/70 [==============================] - 0s 7ms/step - loss: 4.2046 - mae: 1.5698 - val_loss: 13.0780 - val_mae: 2.9287 - lr: 0.0010\n",
      "Epoch 198/1000\n",
      "70/70 [==============================] - 1s 7ms/step - loss: 4.1861 - mae: 1.5654 - val_loss: 13.3409 - val_mae: 2.9571 - lr: 0.0010\n",
      "Epoch 199/1000\n",
      "70/70 [==============================] - 1s 7ms/step - loss: 4.1797 - mae: 1.5626 - val_loss: 12.9131 - val_mae: 2.9172 - lr: 0.0010\n",
      "Epoch 200/1000\n",
      "70/70 [==============================] - 1s 7ms/step - loss: 4.2139 - mae: 1.5724 - val_loss: 12.7457 - val_mae: 2.9046 - lr: 0.0010\n",
      "Epoch 201/1000\n",
      "70/70 [==============================] - 0s 7ms/step - loss: 4.2055 - mae: 1.5712 - val_loss: 12.8787 - val_mae: 2.9147 - lr: 0.0010\n",
      "Epoch 202/1000\n",
      "70/70 [==============================] - 0s 7ms/step - loss: 4.2199 - mae: 1.5767 - val_loss: 12.9878 - val_mae: 2.9218 - lr: 0.0010\n",
      "Epoch 203/1000\n",
      "70/70 [==============================] - 0s 7ms/step - loss: 4.1618 - mae: 1.5621 - val_loss: 12.9022 - val_mae: 2.9196 - lr: 0.0010\n",
      "Epoch 204/1000\n",
      "70/70 [==============================] - 0s 7ms/step - loss: 4.1828 - mae: 1.5643 - val_loss: 12.9458 - val_mae: 2.9193 - lr: 0.0010\n",
      "Epoch 205/1000\n",
      "70/70 [==============================] - 0s 7ms/step - loss: 4.2361 - mae: 1.5791 - val_loss: 12.9329 - val_mae: 2.9183 - lr: 0.0010\n",
      "Epoch 206/1000\n",
      "70/70 [==============================] - 0s 7ms/step - loss: 4.1227 - mae: 1.5525 - val_loss: 13.0673 - val_mae: 2.9276 - lr: 0.0010\n",
      "Epoch 207/1000\n",
      "70/70 [==============================] - 0s 7ms/step - loss: 4.1420 - mae: 1.5575 - val_loss: 13.0577 - val_mae: 2.9311 - lr: 0.0010\n",
      "Epoch 208/1000\n",
      "70/70 [==============================] - 0s 7ms/step - loss: 4.1257 - mae: 1.5539 - val_loss: 12.7290 - val_mae: 2.9008 - lr: 0.0010\n",
      "Epoch 209/1000\n",
      "70/70 [==============================] - 0s 7ms/step - loss: 4.1937 - mae: 1.5689 - val_loss: 13.0385 - val_mae: 2.9277 - lr: 0.0010\n",
      "Epoch 210/1000\n",
      "70/70 [==============================] - 0s 7ms/step - loss: 4.1684 - mae: 1.5654 - val_loss: 12.8746 - val_mae: 2.9117 - lr: 0.0010\n",
      "Epoch 211/1000\n",
      "70/70 [==============================] - 0s 7ms/step - loss: 4.1227 - mae: 1.5555 - val_loss: 12.6875 - val_mae: 2.8980 - lr: 0.0010\n",
      "Epoch 212/1000\n",
      "70/70 [==============================] - 0s 7ms/step - loss: 4.1216 - mae: 1.5539 - val_loss: 12.6888 - val_mae: 2.8988 - lr: 0.0010\n",
      "Epoch 213/1000\n",
      "70/70 [==============================] - 0s 7ms/step - loss: 4.1574 - mae: 1.5628 - val_loss: 12.9547 - val_mae: 2.9210 - lr: 0.0010\n",
      "Epoch 214/1000\n",
      "70/70 [==============================] - 0s 7ms/step - loss: 4.1365 - mae: 1.5584 - val_loss: 12.7179 - val_mae: 2.8975 - lr: 0.0010\n",
      "Epoch 215/1000\n",
      "70/70 [==============================] - 0s 7ms/step - loss: 4.0813 - mae: 1.5446 - val_loss: 12.7223 - val_mae: 2.9007 - lr: 0.0010\n",
      "Epoch 216/1000\n",
      "70/70 [==============================] - 0s 7ms/step - loss: 4.0970 - mae: 1.5472 - val_loss: 12.6333 - val_mae: 2.8914 - lr: 0.0010\n",
      "Epoch 217/1000\n",
      "70/70 [==============================] - 0s 7ms/step - loss: 4.0734 - mae: 1.5429 - val_loss: 13.2626 - val_mae: 2.9478 - lr: 0.0010\n",
      "Epoch 218/1000\n",
      "70/70 [==============================] - 0s 7ms/step - loss: 4.1112 - mae: 1.5516 - val_loss: 13.1650 - val_mae: 2.9408 - lr: 0.0010\n",
      "Epoch 219/1000\n",
      "70/70 [==============================] - 0s 7ms/step - loss: 4.1001 - mae: 1.5488 - val_loss: 12.8194 - val_mae: 2.9095 - lr: 0.0010\n",
      "Epoch 220/1000\n",
      "70/70 [==============================] - 0s 7ms/step - loss: 4.1105 - mae: 1.5535 - val_loss: 12.9217 - val_mae: 2.9174 - lr: 0.0010\n",
      "Epoch 221/1000\n",
      "70/70 [==============================] - 0s 7ms/step - loss: 4.1049 - mae: 1.5525 - val_loss: 12.8209 - val_mae: 2.9078 - lr: 0.0010\n",
      "Epoch 222/1000\n",
      "70/70 [==============================] - 0s 7ms/step - loss: 4.1004 - mae: 1.5531 - val_loss: 12.6365 - val_mae: 2.8912 - lr: 0.0010\n",
      "Epoch 223/1000\n"
     ]
    },
    {
     "name": "stdout",
     "output_type": "stream",
     "text": [
      "70/70 [==============================] - 0s 7ms/step - loss: 4.0795 - mae: 1.5461 - val_loss: 12.7993 - val_mae: 2.9055 - lr: 0.0010\n",
      "Epoch 224/1000\n",
      "70/70 [==============================] - 1s 7ms/step - loss: 4.0820 - mae: 1.5503 - val_loss: 12.6909 - val_mae: 2.8963 - lr: 0.0010\n",
      "Epoch 225/1000\n",
      "70/70 [==============================] - 1s 7ms/step - loss: 4.0851 - mae: 1.5486 - val_loss: 12.8521 - val_mae: 2.9147 - lr: 0.0010\n",
      "Epoch 226/1000\n",
      "70/70 [==============================] - 1s 7ms/step - loss: 4.0285 - mae: 1.5348 - val_loss: 13.0456 - val_mae: 2.9277 - lr: 0.0010\n",
      "Epoch 227/1000\n",
      "70/70 [==============================] - 1s 8ms/step - loss: 4.0690 - mae: 1.5443 - val_loss: 12.9213 - val_mae: 2.9174 - lr: 0.0010\n",
      "Epoch 228/1000\n",
      "70/70 [==============================] - 1s 7ms/step - loss: 4.0380 - mae: 1.5364 - val_loss: 13.0385 - val_mae: 2.9257 - lr: 0.0010\n",
      "Epoch 229/1000\n",
      "70/70 [==============================] - 0s 7ms/step - loss: 4.0486 - mae: 1.5427 - val_loss: 13.1814 - val_mae: 2.9443 - lr: 0.0010\n",
      "Epoch 230/1000\n",
      "70/70 [==============================] - 1s 7ms/step - loss: 4.0486 - mae: 1.5421 - val_loss: 13.0680 - val_mae: 2.9293 - lr: 0.0010\n",
      "Epoch 231/1000\n",
      "70/70 [==============================] - 0s 7ms/step - loss: 4.0198 - mae: 1.5355 - val_loss: 12.8251 - val_mae: 2.9082 - lr: 0.0010\n",
      "Epoch 232/1000\n",
      "70/70 [==============================] - 0s 7ms/step - loss: 4.0234 - mae: 1.5322 - val_loss: 12.8466 - val_mae: 2.9107 - lr: 0.0010\n",
      "Epoch 233/1000\n",
      "70/70 [==============================] - 1s 7ms/step - loss: 4.0526 - mae: 1.5379 - val_loss: 13.4617 - val_mae: 2.9657 - lr: 0.0010\n",
      "Epoch 234/1000\n",
      "70/70 [==============================] - 1s 7ms/step - loss: 4.0531 - mae: 1.5396 - val_loss: 12.7476 - val_mae: 2.9037 - lr: 0.0010\n",
      "Epoch 235/1000\n",
      "70/70 [==============================] - 1s 7ms/step - loss: 3.9954 - mae: 1.5298 - val_loss: 12.8012 - val_mae: 2.9096 - lr: 0.0010\n",
      "Epoch 236/1000\n",
      "70/70 [==============================] - 0s 7ms/step - loss: 4.0221 - mae: 1.5363 - val_loss: 12.9446 - val_mae: 2.9207 - lr: 0.0010\n",
      "Epoch 237/1000\n",
      "70/70 [==============================] - 0s 7ms/step - loss: 4.0352 - mae: 1.5362 - val_loss: 13.1289 - val_mae: 2.9340 - lr: 0.0010\n",
      "Epoch 238/1000\n",
      "70/70 [==============================] - 0s 7ms/step - loss: 4.0466 - mae: 1.5420 - val_loss: 12.7847 - val_mae: 2.9033 - lr: 0.0010\n",
      "Epoch 239/1000\n",
      "70/70 [==============================] - 1s 7ms/step - loss: 4.0209 - mae: 1.5339 - val_loss: 13.3531 - val_mae: 2.9584 - lr: 0.0010\n",
      "Epoch 240/1000\n",
      "70/70 [==============================] - 0s 7ms/step - loss: 3.9758 - mae: 1.5264 - val_loss: 13.0449 - val_mae: 2.9262 - lr: 0.0010\n",
      "Epoch 241/1000\n",
      "70/70 [==============================] - 1s 7ms/step - loss: 4.0124 - mae: 1.5354 - val_loss: 13.0629 - val_mae: 2.9305 - lr: 0.0010\n",
      "Epoch 242/1000\n",
      "70/70 [==============================] - 1s 7ms/step - loss: 3.9276 - mae: 1.5126 - val_loss: 12.7581 - val_mae: 2.9024 - lr: 0.0010\n",
      "Epoch 243/1000\n",
      "70/70 [==============================] - 1s 7ms/step - loss: 3.9862 - mae: 1.5294 - val_loss: 12.9063 - val_mae: 2.9153 - lr: 0.0010\n",
      "Epoch 244/1000\n",
      "70/70 [==============================] - 1s 7ms/step - loss: 3.9418 - mae: 1.5186 - val_loss: 13.0846 - val_mae: 2.9277 - lr: 0.0010\n",
      "Epoch 245/1000\n",
      "70/70 [==============================] - 0s 7ms/step - loss: 3.9980 - mae: 1.5338 - val_loss: 13.3904 - val_mae: 2.9585 - lr: 0.0010\n",
      "Epoch 246/1000\n",
      "70/70 [==============================] - 0s 7ms/step - loss: 3.9480 - mae: 1.5198 - val_loss: 13.0680 - val_mae: 2.9291 - lr: 0.0010\n",
      "Epoch 247/1000\n",
      "70/70 [==============================] - 0s 7ms/step - loss: 3.9898 - mae: 1.5315 - val_loss: 12.7579 - val_mae: 2.9029 - lr: 0.0010\n",
      "Epoch 248/1000\n",
      "70/70 [==============================] - 0s 7ms/step - loss: 3.9123 - mae: 1.5108 - val_loss: 13.2250 - val_mae: 2.9438 - lr: 0.0010\n",
      "Epoch 249/1000\n",
      "70/70 [==============================] - 0s 7ms/step - loss: 3.8932 - mae: 1.5096 - val_loss: 13.0209 - val_mae: 2.9258 - lr: 0.0010\n",
      "Epoch 250/1000\n",
      "70/70 [==============================] - 0s 7ms/step - loss: 3.9043 - mae: 1.5096 - val_loss: 13.3236 - val_mae: 2.9518 - lr: 0.0010\n",
      "Epoch 251/1000\n",
      "70/70 [==============================] - 1s 7ms/step - loss: 3.9389 - mae: 1.5183 - val_loss: 13.0835 - val_mae: 2.9327 - lr: 0.0010\n",
      "Epoch 252/1000\n",
      "70/70 [==============================] - 1s 7ms/step - loss: 3.9243 - mae: 1.5151 - val_loss: 12.9714 - val_mae: 2.9205 - lr: 0.0010\n",
      "Epoch 253/1000\n",
      "70/70 [==============================] - 0s 7ms/step - loss: 3.9068 - mae: 1.5102 - val_loss: 13.0548 - val_mae: 2.9285 - lr: 0.0010\n",
      "Epoch 254/1000\n",
      "70/70 [==============================] - 0s 7ms/step - loss: 3.9414 - mae: 1.5203 - val_loss: 13.2468 - val_mae: 2.9460 - lr: 0.0010\n",
      "Epoch 255/1000\n",
      "70/70 [==============================] - 0s 7ms/step - loss: 3.8736 - mae: 1.5037 - val_loss: 13.0990 - val_mae: 2.9336 - lr: 0.0010\n",
      "Epoch 256/1000\n",
      "70/70 [==============================] - 0s 7ms/step - loss: 3.9217 - mae: 1.5180 - val_loss: 12.9556 - val_mae: 2.9194 - lr: 0.0010\n",
      "Epoch 257/1000\n",
      "70/70 [==============================] - 0s 7ms/step - loss: 3.8857 - mae: 1.5096 - val_loss: 13.4583 - val_mae: 2.9642 - lr: 0.0010\n",
      "Epoch 258/1000\n",
      "70/70 [==============================] - 0s 7ms/step - loss: 3.8846 - mae: 1.5076 - val_loss: 12.9026 - val_mae: 2.9143 - lr: 0.0010\n",
      "Epoch 259/1000\n",
      "70/70 [==============================] - 1s 7ms/step - loss: 3.8601 - mae: 1.4993 - val_loss: 13.0144 - val_mae: 2.9267 - lr: 0.0010\n",
      "Epoch 260/1000\n",
      "70/70 [==============================] - 0s 7ms/step - loss: 3.8750 - mae: 1.5033 - val_loss: 13.1481 - val_mae: 2.9355 - lr: 0.0010\n",
      "Epoch 261/1000\n",
      "70/70 [==============================] - 0s 7ms/step - loss: 3.8958 - mae: 1.5111 - val_loss: 13.1867 - val_mae: 2.9421 - lr: 0.0010\n",
      "Epoch 262/1000\n",
      "70/70 [==============================] - 0s 7ms/step - loss: 3.9236 - mae: 1.5163 - val_loss: 13.1320 - val_mae: 2.9354 - lr: 0.0010\n",
      "Epoch 263/1000\n",
      "70/70 [==============================] - 0s 7ms/step - loss: 3.8511 - mae: 1.5005 - val_loss: 13.1166 - val_mae: 2.9319 - lr: 0.0010\n",
      "Epoch 264/1000\n",
      "70/70 [==============================] - 1s 7ms/step - loss: 3.8958 - mae: 1.5085 - val_loss: 13.1821 - val_mae: 2.9373 - lr: 0.0010\n",
      "Epoch 265/1000\n",
      "70/70 [==============================] - 0s 7ms/step - loss: 3.8961 - mae: 1.5118 - val_loss: 13.3073 - val_mae: 2.9508 - lr: 0.0010\n",
      "Epoch 266/1000\n",
      "70/70 [==============================] - 1s 7ms/step - loss: 3.8495 - mae: 1.5000 - val_loss: 13.2263 - val_mae: 2.9438 - lr: 0.0010\n",
      "Epoch 267/1000\n",
      "70/70 [==============================] - 1s 7ms/step - loss: 3.8160 - mae: 1.4945 - val_loss: 13.3826 - val_mae: 2.9559 - lr: 0.0010\n",
      "Epoch 268/1000\n",
      "70/70 [==============================] - 1s 7ms/step - loss: 3.8515 - mae: 1.5040 - val_loss: 13.2673 - val_mae: 2.9471 - lr: 0.0010\n",
      "Epoch 269/1000\n",
      "70/70 [==============================] - 1s 7ms/step - loss: 3.8811 - mae: 1.5082 - val_loss: 12.8880 - val_mae: 2.9139 - lr: 0.0010\n",
      "Epoch 270/1000\n",
      "70/70 [==============================] - 1s 7ms/step - loss: 3.8522 - mae: 1.5022 - val_loss: 13.0402 - val_mae: 2.9263 - lr: 0.0010\n",
      "Epoch 271/1000\n",
      "70/70 [==============================] - 1s 7ms/step - loss: 3.8455 - mae: 1.4976 - val_loss: 13.1777 - val_mae: 2.9370 - lr: 0.0010\n",
      "Epoch 272/1000\n",
      "70/70 [==============================] - 0s 7ms/step - loss: 3.8252 - mae: 1.4983 - val_loss: 13.3526 - val_mae: 2.9530 - lr: 0.0010\n",
      "Epoch 273/1000\n",
      "70/70 [==============================] - 0s 7ms/step - loss: 3.8039 - mae: 1.4915 - val_loss: 13.3926 - val_mae: 2.9613 - lr: 0.0010\n",
      "Epoch 274/1000\n",
      "70/70 [==============================] - 1s 7ms/step - loss: 3.7536 - mae: 1.4812 - val_loss: 12.9820 - val_mae: 2.9260 - lr: 0.0010\n",
      "Epoch 275/1000\n",
      "70/70 [==============================] - 0s 7ms/step - loss: 3.7839 - mae: 1.4899 - val_loss: 13.0855 - val_mae: 2.9312 - lr: 0.0010\n",
      "Epoch 276/1000\n",
      "70/70 [==============================] - 0s 7ms/step - loss: 3.7753 - mae: 1.4871 - val_loss: 13.3115 - val_mae: 2.9534 - lr: 0.0010\n",
      "Epoch 277/1000\n",
      "70/70 [==============================] - 0s 7ms/step - loss: 3.7780 - mae: 1.4877 - val_loss: 13.1044 - val_mae: 2.9296 - lr: 0.0010\n",
      "Epoch 278/1000\n"
     ]
    },
    {
     "name": "stdout",
     "output_type": "stream",
     "text": [
      "70/70 [==============================] - 1s 7ms/step - loss: 3.7639 - mae: 1.4851 - val_loss: 13.3101 - val_mae: 2.9506 - lr: 0.0010\n",
      "Epoch 279/1000\n",
      "70/70 [==============================] - 0s 7ms/step - loss: 3.7939 - mae: 1.4915 - val_loss: 13.0956 - val_mae: 2.9317 - lr: 0.0010\n",
      "Epoch 280/1000\n",
      "70/70 [==============================] - 0s 7ms/step - loss: 3.7965 - mae: 1.4946 - val_loss: 13.1778 - val_mae: 2.9391 - lr: 0.0010\n",
      "Epoch 281/1000\n",
      "70/70 [==============================] - 0s 7ms/step - loss: 3.7277 - mae: 1.4787 - val_loss: 13.3712 - val_mae: 2.9559 - lr: 0.0010\n",
      "Epoch 282/1000\n",
      "70/70 [==============================] - 0s 7ms/step - loss: 3.7687 - mae: 1.4840 - val_loss: 13.2383 - val_mae: 2.9451 - lr: 0.0010\n",
      "Epoch 283/1000\n",
      "70/70 [==============================] - 0s 7ms/step - loss: 3.7706 - mae: 1.4867 - val_loss: 13.2188 - val_mae: 2.9448 - lr: 0.0010\n",
      "Epoch 284/1000\n",
      "70/70 [==============================] - 0s 7ms/step - loss: 3.7327 - mae: 1.4756 - val_loss: 13.1025 - val_mae: 2.9284 - lr: 0.0010\n",
      "Epoch 285/1000\n",
      "70/70 [==============================] - 0s 7ms/step - loss: 3.7253 - mae: 1.4764 - val_loss: 13.2247 - val_mae: 2.9427 - lr: 0.0010\n",
      "Epoch 286/1000\n",
      "70/70 [==============================] - 0s 7ms/step - loss: 3.7616 - mae: 1.4846 - val_loss: 12.8239 - val_mae: 2.9070 - lr: 0.0010\n",
      "Epoch 287/1000\n",
      "70/70 [==============================] - 0s 7ms/step - loss: 3.7560 - mae: 1.4852 - val_loss: 13.0980 - val_mae: 2.9308 - lr: 0.0010\n",
      "Epoch 288/1000\n",
      "70/70 [==============================] - 1s 7ms/step - loss: 3.7289 - mae: 1.4776 - val_loss: 13.1608 - val_mae: 2.9381 - lr: 0.0010\n",
      "Epoch 289/1000\n",
      "70/70 [==============================] - 1s 7ms/step - loss: 3.7033 - mae: 1.4741 - val_loss: 13.2203 - val_mae: 2.9444 - lr: 0.0010\n",
      "Epoch 290/1000\n",
      "70/70 [==============================] - 0s 7ms/step - loss: 3.6499 - mae: 1.4601 - val_loss: 13.2356 - val_mae: 2.9436 - lr: 0.0010\n",
      "Epoch 291/1000\n",
      "70/70 [==============================] - 1s 7ms/step - loss: 3.7698 - mae: 1.4888 - val_loss: 13.5079 - val_mae: 2.9691 - lr: 0.0010\n",
      "Epoch 292/1000\n",
      "70/70 [==============================] - 1s 7ms/step - loss: 3.7112 - mae: 1.4749 - val_loss: 13.2183 - val_mae: 2.9420 - lr: 0.0010\n",
      "Epoch 293/1000\n",
      "70/70 [==============================] - 0s 7ms/step - loss: 3.7569 - mae: 1.4860 - val_loss: 13.1923 - val_mae: 2.9414 - lr: 0.0010\n",
      "Epoch 294/1000\n",
      "70/70 [==============================] - 1s 7ms/step - loss: 3.7073 - mae: 1.4772 - val_loss: 13.2878 - val_mae: 2.9487 - lr: 0.0010\n",
      "Epoch 295/1000\n",
      "70/70 [==============================] - 1s 7ms/step - loss: 3.6745 - mae: 1.4665 - val_loss: 13.0886 - val_mae: 2.9317 - lr: 0.0010\n",
      "Epoch 296/1000\n",
      "70/70 [==============================] - 1s 7ms/step - loss: 3.6599 - mae: 1.4661 - val_loss: 13.2935 - val_mae: 2.9488 - lr: 0.0010\n",
      "Epoch 297/1000\n",
      "70/70 [==============================] - 0s 7ms/step - loss: 3.6982 - mae: 1.4753 - val_loss: 13.0877 - val_mae: 2.9315 - lr: 0.0010\n",
      "Epoch 298/1000\n",
      "70/70 [==============================] - 0s 7ms/step - loss: 3.6301 - mae: 1.4565 - val_loss: 13.1372 - val_mae: 2.9362 - lr: 0.0010\n",
      "Epoch 299/1000\n",
      "70/70 [==============================] - 0s 7ms/step - loss: 3.6128 - mae: 1.4543 - val_loss: 13.0067 - val_mae: 2.9216 - lr: 0.0010\n",
      "Epoch 300/1000\n",
      "70/70 [==============================] - 0s 7ms/step - loss: 3.6990 - mae: 1.4725 - val_loss: 13.3589 - val_mae: 2.9541 - lr: 0.0010\n",
      "Epoch 301/1000\n",
      "70/70 [==============================] - 0s 7ms/step - loss: 3.7198 - mae: 1.4778 - val_loss: 13.6625 - val_mae: 2.9788 - lr: 0.0010\n",
      "Epoch 302/1000\n",
      "70/70 [==============================] - 0s 7ms/step - loss: 3.6498 - mae: 1.4614 - val_loss: 13.4766 - val_mae: 2.9660 - lr: 0.0010\n",
      "Epoch 303/1000\n",
      "70/70 [==============================] - 0s 7ms/step - loss: 3.6494 - mae: 1.4642 - val_loss: 13.0279 - val_mae: 2.9242 - lr: 0.0010\n",
      "Epoch 304/1000\n",
      "70/70 [==============================] - 1s 7ms/step - loss: 3.6172 - mae: 1.4577 - val_loss: 13.3234 - val_mae: 2.9508 - lr: 0.0010\n",
      "Epoch 305/1000\n",
      "70/70 [==============================] - 1s 7ms/step - loss: 3.6054 - mae: 1.4532 - val_loss: 13.3072 - val_mae: 2.9510 - lr: 0.0010\n",
      "Epoch 306/1000\n",
      "70/70 [==============================] - 1s 7ms/step - loss: 3.5973 - mae: 1.4510 - val_loss: 13.1726 - val_mae: 2.9348 - lr: 0.0010\n",
      "Epoch 307/1000\n",
      "70/70 [==============================] - 1s 7ms/step - loss: 3.6427 - mae: 1.4634 - val_loss: 13.4299 - val_mae: 2.9602 - lr: 0.0010\n",
      "Epoch 308/1000\n",
      "70/70 [==============================] - 0s 7ms/step - loss: 3.6630 - mae: 1.4692 - val_loss: 13.2986 - val_mae: 2.9508 - lr: 0.0010\n",
      "Epoch 309/1000\n",
      "70/70 [==============================] - 1s 7ms/step - loss: 3.6365 - mae: 1.4623 - val_loss: 13.2493 - val_mae: 2.9444 - lr: 0.0010\n",
      "Epoch 310/1000\n",
      "70/70 [==============================] - 0s 7ms/step - loss: 3.6187 - mae: 1.4591 - val_loss: 13.3385 - val_mae: 2.9525 - lr: 0.0010\n",
      "Epoch 311/1000\n",
      "70/70 [==============================] - 1s 7ms/step - loss: 3.6041 - mae: 1.4538 - val_loss: 13.4319 - val_mae: 2.9603 - lr: 0.0010\n",
      "Epoch 312/1000\n",
      "70/70 [==============================] - 0s 7ms/step - loss: 3.6444 - mae: 1.4632 - val_loss: 13.0665 - val_mae: 2.9257 - lr: 0.0010\n",
      "Epoch 313/1000\n",
      "70/70 [==============================] - 0s 7ms/step - loss: 3.6200 - mae: 1.4582 - val_loss: 13.0484 - val_mae: 2.9251 - lr: 0.0010\n",
      "Epoch 314/1000\n",
      "70/70 [==============================] - 1s 7ms/step - loss: 3.5854 - mae: 1.4520 - val_loss: 13.4139 - val_mae: 2.9573 - lr: 0.0010\n",
      "Epoch 315/1000\n",
      "70/70 [==============================] - 1s 7ms/step - loss: 3.5809 - mae: 1.4492 - val_loss: 13.2668 - val_mae: 2.9435 - lr: 0.0010\n",
      "Epoch 316/1000\n",
      "70/70 [==============================] - 1s 7ms/step - loss: 3.5963 - mae: 1.4535 - val_loss: 13.4687 - val_mae: 2.9647 - lr: 0.0010\n",
      "Epoch 317/1000\n",
      "70/70 [==============================] - 1s 7ms/step - loss: 3.5930 - mae: 1.4528 - val_loss: 13.7139 - val_mae: 2.9901 - lr: 0.0010\n",
      "Epoch 318/1000\n",
      "70/70 [==============================] - 1s 7ms/step - loss: 3.5957 - mae: 1.4536 - val_loss: 13.3875 - val_mae: 2.9558 - lr: 0.0010\n",
      "Epoch 319/1000\n",
      "70/70 [==============================] - 1s 7ms/step - loss: 3.6114 - mae: 1.4569 - val_loss: 13.4149 - val_mae: 2.9610 - lr: 0.0010\n",
      "Epoch 320/1000\n",
      "70/70 [==============================] - 0s 7ms/step - loss: 3.5683 - mae: 1.4479 - val_loss: 13.1096 - val_mae: 2.9322 - lr: 0.0010\n",
      "Epoch 321/1000\n",
      "70/70 [==============================] - 1s 7ms/step - loss: 3.5448 - mae: 1.4405 - val_loss: 13.4513 - val_mae: 2.9618 - lr: 0.0010\n",
      "Epoch 322/1000\n",
      "70/70 [==============================] - 1s 7ms/step - loss: 3.5446 - mae: 1.4426 - val_loss: 13.1362 - val_mae: 2.9344 - lr: 0.0010\n",
      "Epoch 323/1000\n",
      "70/70 [==============================] - 1s 7ms/step - loss: 3.5512 - mae: 1.4461 - val_loss: 12.9309 - val_mae: 2.9139 - lr: 0.0010\n",
      "Epoch 324/1000\n",
      "70/70 [==============================] - 1s 7ms/step - loss: 3.5488 - mae: 1.4436 - val_loss: 13.2354 - val_mae: 2.9447 - lr: 0.0010\n",
      "Epoch 325/1000\n",
      "70/70 [==============================] - 1s 7ms/step - loss: 3.5598 - mae: 1.4468 - val_loss: 13.3686 - val_mae: 2.9578 - lr: 0.0010\n",
      "Epoch 326/1000\n",
      "70/70 [==============================] - 1s 7ms/step - loss: 3.4724 - mae: 1.4271 - val_loss: 13.3325 - val_mae: 2.9518 - lr: 0.0010\n",
      "Epoch 327/1000\n",
      "70/70 [==============================] - 0s 7ms/step - loss: 3.5462 - mae: 1.4443 - val_loss: 13.5278 - val_mae: 2.9708 - lr: 0.0010\n",
      "Epoch 328/1000\n",
      "70/70 [==============================] - 0s 7ms/step - loss: 3.5131 - mae: 1.4356 - val_loss: 13.4440 - val_mae: 2.9617 - lr: 0.0010\n",
      "Epoch 329/1000\n",
      "70/70 [==============================] - 0s 7ms/step - loss: 3.5571 - mae: 1.4476 - val_loss: 13.4102 - val_mae: 2.9582 - lr: 0.0010\n",
      "Epoch 330/1000\n",
      "70/70 [==============================] - 1s 7ms/step - loss: 3.5003 - mae: 1.4366 - val_loss: 13.1447 - val_mae: 2.9320 - lr: 0.0010\n",
      "Epoch 331/1000\n",
      "70/70 [==============================] - 0s 7ms/step - loss: 3.5370 - mae: 1.4460 - val_loss: 13.3794 - val_mae: 2.9574 - lr: 0.0010\n",
      "Epoch 332/1000\n",
      "70/70 [==============================] - 1s 7ms/step - loss: 3.5560 - mae: 1.4501 - val_loss: 13.2381 - val_mae: 2.9422 - lr: 0.0010\n",
      "Epoch 333/1000\n"
     ]
    },
    {
     "name": "stdout",
     "output_type": "stream",
     "text": [
      "70/70 [==============================] - 1s 7ms/step - loss: 3.5298 - mae: 1.4394 - val_loss: 13.3711 - val_mae: 2.9532 - lr: 0.0010\n",
      "Epoch 334/1000\n",
      "70/70 [==============================] - 0s 7ms/step - loss: 3.4907 - mae: 1.4297 - val_loss: 13.3966 - val_mae: 2.9579 - lr: 0.0010\n",
      "Epoch 335/1000\n",
      "70/70 [==============================] - 1s 7ms/step - loss: 3.4683 - mae: 1.4283 - val_loss: 13.7905 - val_mae: 2.9947 - lr: 0.0010\n",
      "Epoch 336/1000\n",
      "70/70 [==============================] - 0s 7ms/step - loss: 3.4978 - mae: 1.4332 - val_loss: 13.2631 - val_mae: 2.9447 - lr: 0.0010\n",
      "Epoch 337/1000\n",
      "70/70 [==============================] - 0s 7ms/step - loss: 3.4808 - mae: 1.4332 - val_loss: 13.3949 - val_mae: 2.9563 - lr: 0.0010\n",
      "Epoch 338/1000\n",
      "70/70 [==============================] - 0s 7ms/step - loss: 3.4853 - mae: 1.4330 - val_loss: 13.5154 - val_mae: 2.9692 - lr: 0.0010\n",
      "Epoch 339/1000\n",
      "70/70 [==============================] - 0s 7ms/step - loss: 3.4643 - mae: 1.4309 - val_loss: 13.5723 - val_mae: 2.9734 - lr: 0.0010\n",
      "Epoch 340/1000\n",
      "70/70 [==============================] - 1s 7ms/step - loss: 3.4602 - mae: 1.4274 - val_loss: 13.1809 - val_mae: 2.9407 - lr: 0.0010\n",
      "Epoch 341/1000\n",
      "70/70 [==============================] - 1s 7ms/step - loss: 3.4914 - mae: 1.4334 - val_loss: 13.5871 - val_mae: 2.9726 - lr: 0.0010\n",
      "Epoch 342/1000\n",
      "70/70 [==============================] - 1s 7ms/step - loss: 3.4919 - mae: 1.4359 - val_loss: 13.4869 - val_mae: 2.9616 - lr: 0.0010\n",
      "Epoch 343/1000\n",
      "70/70 [==============================] - 1s 7ms/step - loss: 3.4739 - mae: 1.4295 - val_loss: 13.3444 - val_mae: 2.9527 - lr: 0.0010\n",
      "Epoch 344/1000\n",
      "70/70 [==============================] - 1s 7ms/step - loss: 3.4610 - mae: 1.4273 - val_loss: 13.6755 - val_mae: 2.9817 - lr: 0.0010\n",
      "Epoch 345/1000\n",
      "70/70 [==============================] - 0s 7ms/step - loss: 3.5134 - mae: 1.4376 - val_loss: 13.4766 - val_mae: 2.9659 - lr: 0.0010\n",
      "Epoch 346/1000\n",
      "70/70 [==============================] - 0s 7ms/step - loss: 3.3848 - mae: 1.4138 - val_loss: 13.5397 - val_mae: 2.9663 - lr: 0.0010\n",
      "Epoch 347/1000\n",
      "70/70 [==============================] - 0s 7ms/step - loss: 3.4669 - mae: 1.4299 - val_loss: 13.5316 - val_mae: 2.9700 - lr: 0.0010\n",
      "Epoch 348/1000\n",
      "70/70 [==============================] - 0s 7ms/step - loss: 3.4469 - mae: 1.4274 - val_loss: 13.6586 - val_mae: 2.9830 - lr: 0.0010\n",
      "Epoch 349/1000\n",
      "70/70 [==============================] - 0s 7ms/step - loss: 3.3979 - mae: 1.4154 - val_loss: 13.3184 - val_mae: 2.9501 - lr: 0.0010\n",
      "Epoch 350/1000\n",
      "70/70 [==============================] - 1s 7ms/step - loss: 3.4531 - mae: 1.4269 - val_loss: 13.2709 - val_mae: 2.9444 - lr: 0.0010\n",
      "Epoch 351/1000\n",
      "70/70 [==============================] - 0s 7ms/step - loss: 3.4764 - mae: 1.4340 - val_loss: 13.5170 - val_mae: 2.9686 - lr: 0.0010\n",
      "Epoch 352/1000\n",
      "70/70 [==============================] - 0s 7ms/step - loss: 3.4003 - mae: 1.4180 - val_loss: 13.8093 - val_mae: 2.9949 - lr: 0.0010\n",
      "Epoch 353/1000\n",
      "70/70 [==============================] - 0s 7ms/step - loss: 3.4166 - mae: 1.4179 - val_loss: 13.3708 - val_mae: 2.9509 - lr: 0.0010\n",
      "Epoch 354/1000\n",
      "70/70 [==============================] - 1s 12ms/step - loss: 3.4516 - mae: 1.4265 - val_loss: 13.8580 - val_mae: 2.9994 - lr: 0.0010\n",
      "Epoch 355/1000\n",
      "70/70 [==============================] - 0s 7ms/step - loss: 3.4518 - mae: 1.4278 - val_loss: 13.2192 - val_mae: 2.9347 - lr: 0.0010\n",
      "Epoch 356/1000\n",
      "70/70 [==============================] - 1s 7ms/step - loss: 3.4111 - mae: 1.4191 - val_loss: 13.5418 - val_mae: 2.9649 - lr: 0.0010\n",
      "Epoch 357/1000\n",
      "70/70 [==============================] - 0s 7ms/step - loss: 3.4061 - mae: 1.4187 - val_loss: 13.5885 - val_mae: 2.9743 - lr: 0.0010\n",
      "Epoch 358/1000\n",
      "70/70 [==============================] - 0s 7ms/step - loss: 3.4521 - mae: 1.4292 - val_loss: 13.2714 - val_mae: 2.9426 - lr: 0.0010\n",
      "Epoch 359/1000\n",
      "70/70 [==============================] - 0s 7ms/step - loss: 3.4167 - mae: 1.4179 - val_loss: 13.4739 - val_mae: 2.9626 - lr: 0.0010\n",
      "Epoch 360/1000\n",
      "70/70 [==============================] - 1s 7ms/step - loss: 3.3722 - mae: 1.4139 - val_loss: 13.5945 - val_mae: 2.9731 - lr: 0.0010\n",
      "Epoch 361/1000\n",
      "70/70 [==============================] - 1s 8ms/step - loss: 3.4030 - mae: 1.4154 - val_loss: 13.9813 - val_mae: 3.0081 - lr: 0.0010\n",
      "Epoch 362/1000\n",
      "70/70 [==============================] - 1s 8ms/step - loss: 3.3765 - mae: 1.4099 - val_loss: 13.6705 - val_mae: 2.9816 - lr: 0.0010\n",
      "Epoch 363/1000\n",
      "70/70 [==============================] - 1s 8ms/step - loss: 3.4032 - mae: 1.4166 - val_loss: 13.4398 - val_mae: 2.9605 - lr: 0.0010\n",
      "Epoch 364/1000\n",
      "70/70 [==============================] - 1s 8ms/step - loss: 3.3480 - mae: 1.4072 - val_loss: 13.4896 - val_mae: 2.9648 - lr: 0.0010\n",
      "Epoch 365/1000\n",
      "70/70 [==============================] - 1s 8ms/step - loss: 3.3642 - mae: 1.4065 - val_loss: 13.2351 - val_mae: 2.9403 - lr: 0.0010\n",
      "Epoch 366/1000\n",
      "70/70 [==============================] - 1s 7ms/step - loss: 3.3590 - mae: 1.4087 - val_loss: 13.7125 - val_mae: 2.9868 - lr: 0.0010\n",
      "Epoch 367/1000\n",
      "70/70 [==============================] - 1s 8ms/step - loss: 3.3656 - mae: 1.4092 - val_loss: 13.5286 - val_mae: 2.9674 - lr: 0.0010\n",
      "Epoch 368/1000\n",
      "70/70 [==============================] - 1s 7ms/step - loss: 3.3664 - mae: 1.4082 - val_loss: 13.3331 - val_mae: 2.9508 - lr: 0.0010\n",
      "Epoch 369/1000\n",
      "70/70 [==============================] - 1s 7ms/step - loss: 3.3550 - mae: 1.4090 - val_loss: 13.4630 - val_mae: 2.9559 - lr: 0.0010\n",
      "Epoch 370/1000\n",
      "70/70 [==============================] - 1s 8ms/step - loss: 3.3859 - mae: 1.4148 - val_loss: 13.5675 - val_mae: 2.9718 - lr: 0.0010\n",
      "Epoch 371/1000\n",
      "70/70 [==============================] - 1s 8ms/step - loss: 3.3345 - mae: 1.4019 - val_loss: 13.2752 - val_mae: 2.9454 - lr: 0.0010\n",
      "Epoch 372/1000\n",
      "70/70 [==============================] - 1s 7ms/step - loss: 3.3375 - mae: 1.4060 - val_loss: 13.5813 - val_mae: 2.9749 - lr: 0.0010\n",
      "Epoch 373/1000\n",
      "70/70 [==============================] - 1s 7ms/step - loss: 3.3328 - mae: 1.4027 - val_loss: 13.3515 - val_mae: 2.9531 - lr: 0.0010\n",
      "Epoch 374/1000\n",
      "70/70 [==============================] - 1s 7ms/step - loss: 3.3555 - mae: 1.4080 - val_loss: 13.4931 - val_mae: 2.9678 - lr: 0.0010\n",
      "Epoch 375/1000\n",
      "70/70 [==============================] - 1s 7ms/step - loss: 3.3471 - mae: 1.4078 - val_loss: 13.6634 - val_mae: 2.9807 - lr: 0.0010\n",
      "Epoch 376/1000\n",
      "70/70 [==============================] - 1s 7ms/step - loss: 3.2939 - mae: 1.3926 - val_loss: 13.5616 - val_mae: 2.9712 - lr: 0.0010\n",
      "Epoch 377/1000\n",
      "70/70 [==============================] - 1s 7ms/step - loss: 3.2425 - mae: 1.3833 - val_loss: 13.7138 - val_mae: 2.9848 - lr: 0.0010\n",
      "Epoch 378/1000\n",
      "70/70 [==============================] - 1s 7ms/step - loss: 3.3657 - mae: 1.4111 - val_loss: 13.3946 - val_mae: 2.9525 - lr: 0.0010\n",
      "Epoch 379/1000\n",
      "70/70 [==============================] - 1s 7ms/step - loss: 3.2859 - mae: 1.3954 - val_loss: 13.6504 - val_mae: 2.9756 - lr: 0.0010\n",
      "Epoch 380/1000\n",
      "70/70 [==============================] - 1s 7ms/step - loss: 3.3006 - mae: 1.3979 - val_loss: 13.4908 - val_mae: 2.9622 - lr: 0.0010\n",
      "Epoch 381/1000\n",
      "70/70 [==============================] - 1s 7ms/step - loss: 3.3013 - mae: 1.3965 - val_loss: 13.7460 - val_mae: 2.9878 - lr: 0.0010\n",
      "Epoch 382/1000\n",
      "70/70 [==============================] - 1s 7ms/step - loss: 3.2783 - mae: 1.3922 - val_loss: 13.5573 - val_mae: 2.9710 - lr: 0.0010\n",
      "Epoch 383/1000\n",
      "70/70 [==============================] - 1s 7ms/step - loss: 3.2798 - mae: 1.3946 - val_loss: 13.5818 - val_mae: 2.9704 - lr: 0.0010\n",
      "Epoch 384/1000\n",
      "70/70 [==============================] - 0s 7ms/step - loss: 3.2654 - mae: 1.3911 - val_loss: 13.9281 - val_mae: 3.0047 - lr: 0.0010\n",
      "Epoch 385/1000\n",
      "70/70 [==============================] - 1s 7ms/step - loss: 3.2944 - mae: 1.3968 - val_loss: 13.5066 - val_mae: 2.9679 - lr: 0.0010\n",
      "Epoch 386/1000\n",
      "70/70 [==============================] - 1s 8ms/step - loss: 3.3226 - mae: 1.4035 - val_loss: 13.5759 - val_mae: 2.9714 - lr: 0.0010\n",
      "Epoch 387/1000\n",
      "70/70 [==============================] - 1s 8ms/step - loss: 3.2162 - mae: 1.3785 - val_loss: 13.3885 - val_mae: 2.9551 - lr: 0.0010\n",
      "Epoch 388/1000\n"
     ]
    },
    {
     "name": "stdout",
     "output_type": "stream",
     "text": [
      "70/70 [==============================] - 1s 7ms/step - loss: 3.2591 - mae: 1.3906 - val_loss: 13.4326 - val_mae: 2.9584 - lr: 0.0010\n",
      "Epoch 389/1000\n",
      "70/70 [==============================] - 1s 8ms/step - loss: 3.2658 - mae: 1.3896 - val_loss: 13.7275 - val_mae: 2.9859 - lr: 0.0010\n",
      "Epoch 390/1000\n",
      "70/70 [==============================] - 1s 8ms/step - loss: 3.2458 - mae: 1.3857 - val_loss: 13.4439 - val_mae: 2.9584 - lr: 0.0010\n",
      "Epoch 391/1000\n",
      "70/70 [==============================] - 1s 7ms/step - loss: 3.2760 - mae: 1.3875 - val_loss: 13.4726 - val_mae: 2.9609 - lr: 0.0010\n",
      "Epoch 392/1000\n",
      "70/70 [==============================] - 1s 7ms/step - loss: 3.2884 - mae: 1.3987 - val_loss: 13.7043 - val_mae: 2.9861 - lr: 0.0010\n",
      "Epoch 393/1000\n",
      "70/70 [==============================] - 1s 7ms/step - loss: 3.2377 - mae: 1.3827 - val_loss: 13.6387 - val_mae: 2.9762 - lr: 0.0010\n",
      "Epoch 394/1000\n",
      "70/70 [==============================] - 1s 7ms/step - loss: 3.2603 - mae: 1.3881 - val_loss: 13.6960 - val_mae: 2.9804 - lr: 0.0010\n",
      "Epoch 395/1000\n",
      "70/70 [==============================] - 1s 7ms/step - loss: 3.2297 - mae: 1.3854 - val_loss: 13.5853 - val_mae: 2.9710 - lr: 0.0010\n",
      "Epoch 396/1000\n",
      "70/70 [==============================] - 1s 7ms/step - loss: 3.2230 - mae: 1.3802 - val_loss: 13.5182 - val_mae: 2.9671 - lr: 0.0010\n",
      "Epoch 397/1000\n",
      "70/70 [==============================] - 1s 8ms/step - loss: 3.2324 - mae: 1.3830 - val_loss: 13.6233 - val_mae: 2.9777 - lr: 0.0010\n",
      "Epoch 398/1000\n",
      "70/70 [==============================] - 0s 7ms/step - loss: 3.2650 - mae: 1.3891 - val_loss: 13.7495 - val_mae: 2.9859 - lr: 0.0010\n",
      "Epoch 399/1000\n",
      "70/70 [==============================] - 0s 7ms/step - loss: 3.2455 - mae: 1.3864 - val_loss: 13.3416 - val_mae: 2.9490 - lr: 0.0010\n",
      "Epoch 400/1000\n",
      "70/70 [==============================] - 0s 7ms/step - loss: 3.2139 - mae: 1.3787 - val_loss: 13.5094 - val_mae: 2.9624 - lr: 0.0010\n",
      "Epoch 401/1000\n",
      "70/70 [==============================] - 1s 7ms/step - loss: 3.2536 - mae: 1.3896 - val_loss: 13.6551 - val_mae: 2.9767 - lr: 0.0010\n",
      "Epoch 402/1000\n",
      "70/70 [==============================] - 0s 7ms/step - loss: 3.2332 - mae: 1.3850 - val_loss: 13.4988 - val_mae: 2.9610 - lr: 0.0010\n",
      "Epoch 403/1000\n",
      "70/70 [==============================] - 0s 7ms/step - loss: 3.1875 - mae: 1.3731 - val_loss: 13.6463 - val_mae: 2.9812 - lr: 0.0010\n",
      "Epoch 404/1000\n",
      "70/70 [==============================] - 0s 7ms/step - loss: 3.2516 - mae: 1.3868 - val_loss: 13.4893 - val_mae: 2.9618 - lr: 0.0010\n",
      "Epoch 405/1000\n",
      "70/70 [==============================] - 0s 7ms/step - loss: 3.1798 - mae: 1.3726 - val_loss: 13.5224 - val_mae: 2.9682 - lr: 0.0010\n",
      "Epoch 406/1000\n",
      "70/70 [==============================] - 0s 7ms/step - loss: 3.1494 - mae: 1.3643 - val_loss: 13.3832 - val_mae: 2.9512 - lr: 0.0010\n",
      "Epoch 407/1000\n",
      "70/70 [==============================] - 0s 7ms/step - loss: 3.1696 - mae: 1.3728 - val_loss: 13.7439 - val_mae: 2.9884 - lr: 0.0010\n",
      "Epoch 408/1000\n",
      "70/70 [==============================] - 0s 7ms/step - loss: 3.1705 - mae: 1.3690 - val_loss: 13.3523 - val_mae: 2.9560 - lr: 0.0010\n",
      "Epoch 409/1000\n",
      "70/70 [==============================] - 0s 7ms/step - loss: 3.1848 - mae: 1.3772 - val_loss: 13.5025 - val_mae: 2.9659 - lr: 0.0010\n",
      "Epoch 410/1000\n",
      "70/70 [==============================] - 0s 7ms/step - loss: 3.1985 - mae: 1.3755 - val_loss: 13.3899 - val_mae: 2.9567 - lr: 0.0010\n",
      "Epoch 411/1000\n",
      "70/70 [==============================] - 0s 7ms/step - loss: 3.2129 - mae: 1.3799 - val_loss: 13.6755 - val_mae: 2.9791 - lr: 0.0010\n",
      "Epoch 412/1000\n",
      "70/70 [==============================] - 0s 7ms/step - loss: 3.2007 - mae: 1.3772 - val_loss: 13.5366 - val_mae: 2.9669 - lr: 0.0010\n",
      "Epoch 413/1000\n",
      "70/70 [==============================] - 0s 7ms/step - loss: 3.1279 - mae: 1.3631 - val_loss: 13.5938 - val_mae: 2.9780 - lr: 0.0010\n",
      "Epoch 414/1000\n",
      "70/70 [==============================] - 0s 7ms/step - loss: 3.1544 - mae: 1.3678 - val_loss: 13.7365 - val_mae: 2.9897 - lr: 0.0010\n",
      "Epoch 415/1000\n",
      "70/70 [==============================] - 0s 7ms/step - loss: 3.1560 - mae: 1.3684 - val_loss: 13.6036 - val_mae: 2.9773 - lr: 0.0010\n",
      "Epoch 416/1000\n",
      "70/70 [==============================] - 0s 7ms/step - loss: 3.2018 - mae: 1.3794 - val_loss: 13.5304 - val_mae: 2.9731 - lr: 0.0010\n",
      "Epoch 417/1000\n",
      "70/70 [==============================] - 0s 7ms/step - loss: 3.1956 - mae: 1.3787 - val_loss: 13.8392 - val_mae: 2.9957 - lr: 0.0010\n",
      "Epoch 418/1000\n",
      "70/70 [==============================] - 0s 7ms/step - loss: 3.2479 - mae: 1.3939 - val_loss: 13.4470 - val_mae: 2.9644 - lr: 0.0010\n",
      "Epoch 419/1000\n",
      "70/70 [==============================] - 0s 7ms/step - loss: 3.1588 - mae: 1.3698 - val_loss: 13.6766 - val_mae: 2.9833 - lr: 0.0010\n",
      "Epoch 420/1000\n",
      "70/70 [==============================] - 0s 7ms/step - loss: 3.1258 - mae: 1.3640 - val_loss: 13.6818 - val_mae: 2.9800 - lr: 0.0010\n",
      "Epoch 421/1000\n",
      "70/70 [==============================] - 1s 7ms/step - loss: 3.1666 - mae: 1.3731 - val_loss: 13.5878 - val_mae: 2.9757 - lr: 0.0010\n",
      "Epoch 422/1000\n",
      "70/70 [==============================] - 0s 7ms/step - loss: 3.1780 - mae: 1.3754 - val_loss: 13.7316 - val_mae: 2.9863 - lr: 0.0010\n",
      "Epoch 423/1000\n",
      "70/70 [==============================] - 0s 7ms/step - loss: 3.0915 - mae: 1.3546 - val_loss: 13.7052 - val_mae: 2.9846 - lr: 0.0010\n",
      "Epoch 424/1000\n",
      "70/70 [==============================] - 0s 7ms/step - loss: 3.2246 - mae: 1.3847 - val_loss: 13.5290 - val_mae: 2.9695 - lr: 0.0010\n",
      "Epoch 425/1000\n",
      "70/70 [==============================] - 1s 7ms/step - loss: 3.1138 - mae: 1.3579 - val_loss: 13.7024 - val_mae: 2.9887 - lr: 0.0010\n",
      "Epoch 426/1000\n",
      "70/70 [==============================] - 0s 7ms/step - loss: 3.1521 - mae: 1.3705 - val_loss: 13.6406 - val_mae: 2.9793 - lr: 0.0010\n",
      "Epoch 427/1000\n",
      "70/70 [==============================] - 0s 7ms/step - loss: 3.1232 - mae: 1.3612 - val_loss: 13.7152 - val_mae: 2.9873 - lr: 0.0010\n",
      "Epoch 428/1000\n",
      "70/70 [==============================] - 1s 7ms/step - loss: 3.1629 - mae: 1.3693 - val_loss: 13.8248 - val_mae: 2.9954 - lr: 0.0010\n",
      "Epoch 429/1000\n",
      "70/70 [==============================] - 1s 7ms/step - loss: 3.1445 - mae: 1.3659 - val_loss: 13.6506 - val_mae: 2.9761 - lr: 0.0010\n",
      "Epoch 430/1000\n",
      "70/70 [==============================] - 1s 7ms/step - loss: 3.1530 - mae: 1.3734 - val_loss: 13.6522 - val_mae: 2.9792 - lr: 0.0010\n",
      "Epoch 431/1000\n",
      "70/70 [==============================] - 1s 7ms/step - loss: 3.1167 - mae: 1.3563 - val_loss: 13.5898 - val_mae: 2.9772 - lr: 0.0010\n",
      "Epoch 432/1000\n",
      "70/70 [==============================] - 1s 7ms/step - loss: 3.1077 - mae: 1.3585 - val_loss: 13.6923 - val_mae: 2.9855 - lr: 0.0010\n",
      "Epoch 433/1000\n",
      "70/70 [==============================] - 1s 7ms/step - loss: 3.1211 - mae: 1.3617 - val_loss: 13.7747 - val_mae: 2.9898 - lr: 0.0010\n",
      "Epoch 434/1000\n",
      "70/70 [==============================] - 1s 7ms/step - loss: 3.1034 - mae: 1.3597 - val_loss: 13.7182 - val_mae: 2.9856 - lr: 0.0010\n",
      "Epoch 435/1000\n",
      "70/70 [==============================] - 1s 8ms/step - loss: 3.0772 - mae: 1.3522 - val_loss: 13.8145 - val_mae: 2.9922 - lr: 0.0010\n",
      "Epoch 436/1000\n",
      "70/70 [==============================] - 1s 7ms/step - loss: 3.1200 - mae: 1.3617 - val_loss: 13.7934 - val_mae: 2.9896 - lr: 0.0010\n",
      "Epoch 437/1000\n",
      "70/70 [==============================] - 0s 7ms/step - loss: 3.0998 - mae: 1.3556 - val_loss: 13.5309 - val_mae: 2.9677 - lr: 0.0010\n",
      "Epoch 438/1000\n",
      "70/70 [==============================] - 0s 7ms/step - loss: 3.0913 - mae: 1.3555 - val_loss: 13.6281 - val_mae: 2.9778 - lr: 0.0010\n",
      "Epoch 439/1000\n",
      "70/70 [==============================] - 0s 7ms/step - loss: 3.0917 - mae: 1.3564 - val_loss: 13.6844 - val_mae: 2.9838 - lr: 0.0010\n",
      "Epoch 440/1000\n",
      "70/70 [==============================] - 0s 7ms/step - loss: 3.0664 - mae: 1.3501 - val_loss: 13.6737 - val_mae: 2.9813 - lr: 0.0010\n",
      "Epoch 441/1000\n",
      "70/70 [==============================] - 1s 7ms/step - loss: 3.0693 - mae: 1.3514 - val_loss: 13.6976 - val_mae: 2.9845 - lr: 0.0010\n",
      "Epoch 442/1000\n",
      "70/70 [==============================] - 1s 7ms/step - loss: 3.0479 - mae: 1.3442 - val_loss: 13.6692 - val_mae: 2.9800 - lr: 0.0010\n",
      "Epoch 443/1000\n"
     ]
    },
    {
     "name": "stdout",
     "output_type": "stream",
     "text": [
      "70/70 [==============================] - 0s 7ms/step - loss: 3.0941 - mae: 1.3539 - val_loss: 13.6643 - val_mae: 2.9740 - lr: 0.0010\n",
      "Epoch 444/1000\n",
      "70/70 [==============================] - 0s 7ms/step - loss: 3.1244 - mae: 1.3646 - val_loss: 13.7400 - val_mae: 2.9892 - lr: 0.0010\n",
      "Epoch 445/1000\n",
      "70/70 [==============================] - 0s 7ms/step - loss: 3.0395 - mae: 1.3452 - val_loss: 13.5998 - val_mae: 2.9740 - lr: 0.0010\n",
      "Epoch 446/1000\n",
      "70/70 [==============================] - 0s 7ms/step - loss: 3.0731 - mae: 1.3514 - val_loss: 13.6617 - val_mae: 2.9837 - lr: 0.0010\n",
      "Epoch 447/1000\n",
      "70/70 [==============================] - 0s 7ms/step - loss: 3.0454 - mae: 1.3488 - val_loss: 13.9510 - val_mae: 3.0077 - lr: 0.0010\n",
      "Epoch 448/1000\n",
      "70/70 [==============================] - 0s 7ms/step - loss: 3.0806 - mae: 1.3518 - val_loss: 13.8162 - val_mae: 2.9970 - lr: 0.0010\n",
      "Epoch 449/1000\n",
      "70/70 [==============================] - 0s 7ms/step - loss: 3.0058 - mae: 1.3361 - val_loss: 13.8622 - val_mae: 3.0058 - lr: 0.0010\n",
      "Epoch 450/1000\n",
      "70/70 [==============================] - 0s 7ms/step - loss: 3.0583 - mae: 1.3505 - val_loss: 13.8984 - val_mae: 3.0063 - lr: 0.0010\n",
      "Epoch 451/1000\n",
      "70/70 [==============================] - 0s 7ms/step - loss: 3.0431 - mae: 1.3446 - val_loss: 13.7835 - val_mae: 2.9908 - lr: 0.0010\n",
      "Epoch 452/1000\n",
      "70/70 [==============================] - 0s 7ms/step - loss: 3.0757 - mae: 1.3573 - val_loss: 13.4673 - val_mae: 2.9645 - lr: 0.0010\n",
      "Epoch 453/1000\n",
      "70/70 [==============================] - 1s 7ms/step - loss: 3.0411 - mae: 1.3475 - val_loss: 13.7842 - val_mae: 2.9947 - lr: 0.0010\n",
      "Epoch 454/1000\n",
      "70/70 [==============================] - 1s 7ms/step - loss: 3.0586 - mae: 1.3493 - val_loss: 13.7704 - val_mae: 2.9921 - lr: 0.0010\n",
      "Epoch 455/1000\n",
      "70/70 [==============================] - 0s 7ms/step - loss: 3.0484 - mae: 1.3445 - val_loss: 13.4465 - val_mae: 2.9622 - lr: 0.0010\n",
      "Epoch 456/1000\n",
      "70/70 [==============================] - 0s 7ms/step - loss: 2.9877 - mae: 1.3375 - val_loss: 13.8274 - val_mae: 2.9992 - lr: 0.0010\n",
      "Epoch 457/1000\n",
      "70/70 [==============================] - 0s 7ms/step - loss: 3.0334 - mae: 1.3421 - val_loss: 13.7275 - val_mae: 2.9911 - lr: 0.0010\n",
      "Epoch 458/1000\n",
      "70/70 [==============================] - 1s 7ms/step - loss: 3.0928 - mae: 1.3543 - val_loss: 13.5954 - val_mae: 2.9790 - lr: 0.0010\n",
      "Epoch 459/1000\n",
      "70/70 [==============================] - 1s 7ms/step - loss: 3.0298 - mae: 1.3443 - val_loss: 14.0037 - val_mae: 3.0163 - lr: 0.0010\n",
      "Epoch 460/1000\n",
      "70/70 [==============================] - 1s 7ms/step - loss: 3.0091 - mae: 1.3382 - val_loss: 13.6071 - val_mae: 2.9793 - lr: 0.0010\n",
      "Epoch 461/1000\n",
      "70/70 [==============================] - 1s 7ms/step - loss: 3.0164 - mae: 1.3427 - val_loss: 14.0453 - val_mae: 3.0226 - lr: 0.0010\n",
      "Epoch 462/1000\n",
      "70/70 [==============================] - 1s 7ms/step - loss: 3.0043 - mae: 1.3348 - val_loss: 13.7180 - val_mae: 2.9927 - lr: 0.0010\n",
      "Epoch 463/1000\n",
      "70/70 [==============================] - 1s 7ms/step - loss: 3.0630 - mae: 1.3472 - val_loss: 13.6585 - val_mae: 2.9898 - lr: 0.0010\n",
      "Epoch 464/1000\n",
      "70/70 [==============================] - 1s 7ms/step - loss: 2.9804 - mae: 1.3323 - val_loss: 13.6094 - val_mae: 2.9745 - lr: 0.0010\n",
      "Epoch 465/1000\n",
      "70/70 [==============================] - 1s 8ms/step - loss: 2.9847 - mae: 1.3329 - val_loss: 13.9068 - val_mae: 3.0092 - lr: 0.0010\n",
      "Epoch 466/1000\n",
      "70/70 [==============================] - 1s 7ms/step - loss: 2.9597 - mae: 1.3256 - val_loss: 13.8668 - val_mae: 3.0069 - lr: 0.0010\n",
      "Epoch 467/1000\n",
      "70/70 [==============================] - 1s 7ms/step - loss: 3.0747 - mae: 1.3514 - val_loss: 13.8584 - val_mae: 3.0049 - lr: 0.0010\n",
      "Epoch 468/1000\n",
      "70/70 [==============================] - 1s 7ms/step - loss: 2.9772 - mae: 1.3325 - val_loss: 13.7852 - val_mae: 3.0003 - lr: 0.0010\n",
      "Epoch 469/1000\n",
      "70/70 [==============================] - 1s 8ms/step - loss: 2.9975 - mae: 1.3364 - val_loss: 13.9292 - val_mae: 3.0120 - lr: 0.0010\n",
      "Epoch 470/1000\n",
      "70/70 [==============================] - 1s 8ms/step - loss: 3.0191 - mae: 1.3414 - val_loss: 13.6893 - val_mae: 2.9838 - lr: 0.0010\n",
      "Epoch 471/1000\n",
      "70/70 [==============================] - 1s 8ms/step - loss: 3.0134 - mae: 1.3418 - val_loss: 13.5088 - val_mae: 2.9718 - lr: 0.0010\n",
      "Epoch 472/1000\n",
      "70/70 [==============================] - 1s 8ms/step - loss: 2.9687 - mae: 1.3340 - val_loss: 13.6366 - val_mae: 2.9834 - lr: 0.0010\n",
      "Epoch 473/1000\n",
      "70/70 [==============================] - 1s 7ms/step - loss: 2.9388 - mae: 1.3194 - val_loss: 14.0093 - val_mae: 3.0199 - lr: 0.0010\n",
      "Epoch 474/1000\n",
      "70/70 [==============================] - 1s 8ms/step - loss: 2.9973 - mae: 1.3356 - val_loss: 14.0201 - val_mae: 3.0218 - lr: 0.0010\n",
      "Epoch 475/1000\n",
      "70/70 [==============================] - 1s 7ms/step - loss: 2.9848 - mae: 1.3350 - val_loss: 13.5718 - val_mae: 2.9776 - lr: 0.0010\n",
      "Epoch 476/1000\n",
      "70/70 [==============================] - 1s 7ms/step - loss: 2.9366 - mae: 1.3213 - val_loss: 13.9426 - val_mae: 3.0099 - lr: 0.0010\n",
      "Epoch 477/1000\n",
      "70/70 [==============================] - 1s 7ms/step - loss: 2.9501 - mae: 1.3284 - val_loss: 13.7457 - val_mae: 2.9925 - lr: 0.0010\n",
      "Epoch 478/1000\n",
      "70/70 [==============================] - 1s 7ms/step - loss: 2.9778 - mae: 1.3323 - val_loss: 14.0415 - val_mae: 3.0212 - lr: 0.0010\n",
      "Epoch 479/1000\n",
      "70/70 [==============================] - 1s 7ms/step - loss: 2.9510 - mae: 1.3258 - val_loss: 13.9351 - val_mae: 3.0128 - lr: 0.0010\n",
      "Epoch 480/1000\n",
      "70/70 [==============================] - 1s 7ms/step - loss: 2.9837 - mae: 1.3352 - val_loss: 13.8571 - val_mae: 3.0024 - lr: 0.0010\n",
      "Epoch 481/1000\n",
      "70/70 [==============================] - 1s 7ms/step - loss: 2.9466 - mae: 1.3230 - val_loss: 13.8529 - val_mae: 3.0070 - lr: 0.0010\n",
      "Epoch 482/1000\n",
      "70/70 [==============================] - 0s 7ms/step - loss: 2.9218 - mae: 1.3168 - val_loss: 13.8198 - val_mae: 2.9998 - lr: 0.0010\n",
      "Epoch 483/1000\n",
      "70/70 [==============================] - 1s 7ms/step - loss: 2.9513 - mae: 1.3249 - val_loss: 13.8929 - val_mae: 3.0045 - lr: 0.0010\n",
      "Epoch 484/1000\n",
      "70/70 [==============================] - 1s 7ms/step - loss: 2.9413 - mae: 1.3240 - val_loss: 13.9693 - val_mae: 3.0146 - lr: 0.0010\n",
      "Epoch 485/1000\n",
      "70/70 [==============================] - 1s 7ms/step - loss: 2.9198 - mae: 1.3193 - val_loss: 13.7802 - val_mae: 2.9990 - lr: 0.0010\n",
      "Epoch 486/1000\n",
      "70/70 [==============================] - 1s 7ms/step - loss: 2.8937 - mae: 1.3136 - val_loss: 13.9105 - val_mae: 3.0082 - lr: 0.0010\n",
      "Epoch 487/1000\n",
      "70/70 [==============================] - 1s 7ms/step - loss: 2.9371 - mae: 1.3220 - val_loss: 14.1164 - val_mae: 3.0258 - lr: 0.0010\n",
      "Epoch 488/1000\n",
      "70/70 [==============================] - 1s 7ms/step - loss: 2.8952 - mae: 1.3126 - val_loss: 13.7841 - val_mae: 2.9941 - lr: 0.0010\n",
      "Epoch 489/1000\n",
      "70/70 [==============================] - 0s 7ms/step - loss: 3.0230 - mae: 1.3426 - val_loss: 13.7113 - val_mae: 2.9915 - lr: 0.0010\n",
      "Epoch 490/1000\n",
      "70/70 [==============================] - 1s 7ms/step - loss: 2.9048 - mae: 1.3155 - val_loss: 13.9636 - val_mae: 3.0144 - lr: 0.0010\n",
      "Epoch 491/1000\n",
      "70/70 [==============================] - 0s 7ms/step - loss: 2.9864 - mae: 1.3370 - val_loss: 13.7916 - val_mae: 2.9971 - lr: 0.0010\n",
      "Epoch 492/1000\n",
      "70/70 [==============================] - 1s 7ms/step - loss: 2.9322 - mae: 1.3265 - val_loss: 13.8455 - val_mae: 2.9991 - lr: 0.0010\n",
      "Epoch 493/1000\n",
      "70/70 [==============================] - 1s 8ms/step - loss: 2.9584 - mae: 1.3320 - val_loss: 13.8998 - val_mae: 3.0091 - lr: 0.0010\n",
      "Epoch 494/1000\n",
      "70/70 [==============================] - 1s 7ms/step - loss: 2.9138 - mae: 1.3178 - val_loss: 14.0722 - val_mae: 3.0243 - lr: 0.0010\n",
      "Epoch 495/1000\n",
      "70/70 [==============================] - 1s 7ms/step - loss: 2.8712 - mae: 1.3082 - val_loss: 13.9418 - val_mae: 3.0133 - lr: 0.0010\n",
      "Epoch 496/1000\n",
      "70/70 [==============================] - 0s 7ms/step - loss: 2.9558 - mae: 1.3269 - val_loss: 13.6915 - val_mae: 2.9906 - lr: 0.0010\n",
      "Epoch 497/1000\n",
      "70/70 [==============================] - 1s 7ms/step - loss: 2.9676 - mae: 1.3302 - val_loss: 13.9771 - val_mae: 3.0167 - lr: 0.0010\n",
      "Epoch 498/1000\n"
     ]
    },
    {
     "name": "stdout",
     "output_type": "stream",
     "text": [
      "70/70 [==============================] - 1s 7ms/step - loss: 2.9275 - mae: 1.3203 - val_loss: 13.8784 - val_mae: 3.0080 - lr: 0.0010\n",
      "Epoch 499/1000\n",
      "70/70 [==============================] - 0s 7ms/step - loss: 2.9460 - mae: 1.3284 - val_loss: 13.8126 - val_mae: 3.0030 - lr: 0.0010\n",
      "Epoch 500/1000\n",
      "70/70 [==============================] - 0s 7ms/step - loss: 2.9072 - mae: 1.3146 - val_loss: 13.9803 - val_mae: 3.0143 - lr: 0.0010\n",
      "Epoch 501/1000\n",
      "70/70 [==============================] - 0s 7ms/step - loss: 2.9108 - mae: 1.3186 - val_loss: 13.9968 - val_mae: 3.0152 - lr: 6.5705e-06\n",
      "Epoch 502/1000\n",
      "70/70 [==============================] - 0s 7ms/step - loss: 2.9014 - mae: 1.3144 - val_loss: 14.0337 - val_mae: 3.0175 - lr: 6.5048e-06\n",
      "Epoch 503/1000\n",
      "70/70 [==============================] - 0s 7ms/step - loss: 2.8725 - mae: 1.3067 - val_loss: 14.0394 - val_mae: 3.0174 - lr: 6.4397e-06\n",
      "Epoch 504/1000\n",
      "70/70 [==============================] - 0s 7ms/step - loss: 2.8842 - mae: 1.3119 - val_loss: 14.0420 - val_mae: 3.0171 - lr: 6.3753e-06\n",
      "Epoch 505/1000\n",
      "70/70 [==============================] - 0s 7ms/step - loss: 2.8453 - mae: 1.3066 - val_loss: 14.0415 - val_mae: 3.0168 - lr: 6.3116e-06\n",
      "Epoch 506/1000\n",
      "70/70 [==============================] - 0s 7ms/step - loss: 2.8245 - mae: 1.2975 - val_loss: 14.0435 - val_mae: 3.0168 - lr: 6.2485e-06\n",
      "Epoch 507/1000\n",
      "65/70 [==========================>...] - ETA: 0s - loss: 2.7756 - mae: 1.2862Restoring model weights from the end of the best epoch: 7.\n",
      "70/70 [==============================] - 1s 7ms/step - loss: 2.7667 - mae: 1.2840 - val_loss: 14.0427 - val_mae: 3.0168 - lr: 6.1860e-06\n",
      "Epoch 507: early stopping\n"
     ]
    }
   ],
   "source": [
    "val_epochs = 1000\n",
    "tf.compat.v1.global_variables_initializer()\n",
    "\n",
    "early_stop = tf.keras.callbacks.EarlyStopping( monitor = 'val_loss', patience = 500,verbose = 1, \n",
    "                                              restore_best_weights = True)\n",
    "\n",
    "reduce_lr = tf.keras.callbacks.LearningRateScheduler(scheduler)\n",
    "history = model.fit(train_dataset, validation_data=val_dataset, epochs= val_epochs, callbacks=[reduce_lr, early_stop])"
   ]
  },
  {
   "cell_type": "markdown",
   "id": "7b9d5d5d",
   "metadata": {},
   "source": [
    "# Analizamos accuracy y loss"
   ]
  },
  {
   "cell_type": "code",
   "execution_count": 29,
   "id": "c2c35f5e",
   "metadata": {
    "ExecuteTime": {
     "end_time": "2023-03-30T06:27:33.205896Z",
     "start_time": "2023-03-30T06:27:33.044055Z"
    }
   },
   "outputs": [
    {
     "data": {
      "image/png": "[encoded data removed]",
      "text/plain": [
       "<Figure size 800x800 with 2 Axes>"
      ]
     },
     "metadata": {},
     "output_type": "display_data"
    }
   ],
   "source": [
    "acc = history.history['mae']\n",
    "val_acc = history.history['val_mae']\n",
    "\n",
    "loss = history.history['loss']\n",
    "val_loss = history.history['val_loss']\n",
    "\n",
    "epochs_range = range(507)\n",
    "\n",
    "plt.figure(figsize=(8, 8))\n",
    "plt.subplot(1, 2, 1)\n",
    "plt.plot(epochs_range, acc, label='Training Accuracy')\n",
    "plt.plot(epochs_range, val_acc, label='Validation Accuracy')\n",
    "plt.legend(loc='lower right')\n",
    "plt.title('Training and Validation Accuracy')\n",
    "\n",
    "plt.subplot(1, 2, 2)\n",
    "plt.plot(epochs_range, loss, label='Training Loss')\n",
    "plt.plot(epochs_range, val_loss, label='Validation Loss')\n",
    "plt.legend(loc='upper right')\n",
    "plt.title('Training and Validation Loss')\n",
    "plt.show()"
   ]
  },
  {
   "cell_type": "markdown",
   "id": "429f1d9c",
   "metadata": {
    "ExecuteTime": {
     "end_time": "2023-03-30T04:23:26.452756Z",
     "start_time": "2023-03-30T04:23:26.444877Z"
    }
   },
   "source": [
    "# Guardamos los datos de Accuracy y Loss"
   ]
  },
  {
   "cell_type": "code",
   "execution_count": 30,
   "id": "b5e89bf4",
   "metadata": {
    "ExecuteTime": {
     "end_time": "2023-03-30T06:27:43.432522Z",
     "start_time": "2023-03-30T06:27:43.416662Z"
    }
   },
   "outputs": [],
   "source": [
    "df = pd.DataFrame.from_dict(history.history)\n",
    "df.to_csv('../../Gráficas finales/historytrayec200.csv', index=False)"
   ]
  },
  {
   "cell_type": "markdown",
   "id": "e1af1d19",
   "metadata": {},
   "source": [
    "# Guardamos el modelo"
   ]
  },
  {
   "cell_type": "code",
   "execution_count": 31,
   "id": "3a346828",
   "metadata": {
    "ExecuteTime": {
     "end_time": "2023-03-30T06:27:48.468701Z",
     "start_time": "2023-03-30T06:27:48.459629Z"
    }
   },
   "outputs": [],
   "source": [
    "path_to_save = 'D:/Documentos de trabajo/Maestría/Tesis Maestría/Trabajo Python Tesis/Github Tesis/Modelos/Modelos 100,200'"
   ]
  },
  {
   "cell_type": "code",
   "execution_count": 32,
   "id": "8e86a52a",
   "metadata": {
    "ExecuteTime": {
     "end_time": "2023-03-30T06:27:49.009646Z",
     "start_time": "2023-03-30T06:27:48.955859Z"
    }
   },
   "outputs": [],
   "source": [
    "model.save(path_to_save + '/trayectorias200.h5')"
   ]
  },
  {
   "cell_type": "markdown",
   "id": "efc9d48d",
   "metadata": {},
   "source": [
    "# Importamos el modelo"
   ]
  },
  {
   "cell_type": "code",
   "execution_count": 34,
   "id": "d1d4a1a9",
   "metadata": {
    "ExecuteTime": {
     "end_time": "2023-03-30T06:27:59.077751Z",
     "start_time": "2023-03-30T06:27:58.987052Z"
    }
   },
   "outputs": [],
   "source": [
    "new_model = keras.models.load_model('../../Modelos/Modelos 100,200/trayectorias200.h5')"
   ]
  },
  {
   "cell_type": "markdown",
   "id": "7f6d0ea9",
   "metadata": {},
   "source": [
    "# Probamos el modelo con datos nuevos"
   ]
  },
  {
   "cell_type": "markdown",
   "id": "6ad7f37d",
   "metadata": {},
   "source": [
    "## Creamos nuevos datos"
   ]
  },
  {
   "cell_type": "code",
   "execution_count": 35,
   "id": "b664f200",
   "metadata": {
    "ExecuteTime": {
     "end_time": "2023-03-30T06:28:09.397501Z",
     "start_time": "2023-03-30T06:28:09.096038Z"
    }
   },
   "outputs": [
    {
     "name": "stdout",
     "output_type": "stream",
     "text": [
      "--------------------------------------------\n",
      "[10, 3, 5, 10, 2, 0, 0]\n",
      "(10, 2, 200)\n",
      "1\n"
     ]
    }
   ],
   "source": [
    "import random\n",
    "from scipy.integrate import solve_ivp\n",
    "\n",
    "varf = []\n",
    "coef = []\n",
    "contador = 0\n",
    "for i in range(0, 1):\n",
    "    # constantes\n",
    "    a1 = random.randint(0, 10)\n",
    "    a2 = random.randint(0, 10)\n",
    "    b1 = random.randint(0, 10)\n",
    "    b2 = random.randint(0, 10)\n",
    "    d1 = random.randint(0, 10)\n",
    "    d2 = random.randint(0, 10)\n",
    "    n = random.randint(0, 5)\n",
    "\n",
    "    coef1 = [a1, a2, b1, b2, d1, d2, n]\n",
    "    coef.append(coef1)\n",
    "\n",
    "    def f(t, y):\n",
    "\n",
    "        # asignar a cada ODE a un elemento de vector\n",
    "        X = y[0]\n",
    "        Y = y[1]\n",
    "\n",
    "        # definimos cada ODE\n",
    "        # dX_dt=a1/(1+Y**n)-d1*X+b1\n",
    "        # dY_dt=a2/(1+X**n)-d2*Y+b2\n",
    "        dX_dt = a1/(1+Y**n)-d1*X+b1\n",
    "        dY_dt = a2/(1+X**n)-d2*Y+b1\n",
    "\n",
    "        return [dX_dt, dY_dt]\n",
    "\n",
    "    # Declaramos el vector de tiempo\n",
    "    t_span = [0, 100]\n",
    "    times = np.linspace(t_span[0], t_span[1], 200)\n",
    "\n",
    "    varfci2 = []\n",
    "    for i_ci in range(0, 10):\n",
    "        # Definimos las condiciones iniciales\n",
    "        y0 = np.array([random.randint(0, 10), random.randint(0, 10)])\n",
    "\n",
    "        # Resolvemos\n",
    "        # Modificar manualmente el intervalo de tiempo\n",
    "        sol = solve_ivp(f, t_span, y0, t_eval=times)\n",
    "        # sol=solve_ivp(f, t_span, y0) #Dejar que la librería elija el mejor intervalo\n",
    "        tiempo = sol.t\n",
    "        var1 = sol.y[0]\n",
    "        var2 = sol.y[1]\n",
    "\n",
    "        varfci = np.append([var1], [var2], axis=0)\n",
    "        varfci2.append(varfci)\n",
    "\n",
    "       \n",
    "\n",
    "    varf= varfci2\n",
    "    print('--------------------------------------------')\n",
    "    print(coef1)\n",
    "    print(np.shape(varf))\n",
    "    contador = contador+1\n",
    "    print(contador)\n",
    "\n",
    "varf = np.array(varf)\n",
    "coef = np.array(coef)"
   ]
  },
  {
   "cell_type": "code",
   "execution_count": 36,
   "id": "ffbe4d61",
   "metadata": {
    "ExecuteTime": {
     "end_time": "2023-03-30T06:28:11.179149Z",
     "start_time": "2023-03-30T06:28:11.171630Z"
    }
   },
   "outputs": [],
   "source": [
    "varfnone = varf[None, :]"
   ]
  },
  {
   "cell_type": "markdown",
   "id": "4ea4942b",
   "metadata": {},
   "source": [
    "## Predecimos con los datos nuevos"
   ]
  },
  {
   "cell_type": "code",
   "execution_count": 37,
   "id": "37dce68f",
   "metadata": {
    "ExecuteTime": {
     "end_time": "2023-03-30T06:28:11.866660Z",
     "start_time": "2023-03-30T06:28:11.746625Z"
    }
   },
   "outputs": [
    {
     "name": "stdout",
     "output_type": "stream",
     "text": [
      "1/1 [==============================] - 0s 70ms/step\n",
      "[[4.952989  4.919189  5.9428535 5.5322657 5.4105906 1.7480842 2.6104622]]\n"
     ]
    }
   ],
   "source": [
    "new_predictions = new_model.predict(varfnone)\n",
    "print(new_predictions)"
   ]
  },
  {
   "cell_type": "markdown",
   "id": "06c64a67",
   "metadata": {},
   "source": [
    "## Graficamos con los coeficientes reales"
   ]
  },
  {
   "cell_type": "code",
   "execution_count": 38,
   "id": "930a1b59",
   "metadata": {
    "ExecuteTime": {
     "end_time": "2023-03-30T06:28:18.280187Z",
     "start_time": "2023-03-30T06:28:18.192478Z"
    }
   },
   "outputs": [
    {
     "data": {
      "image/png": "[encoded data removed]",
      "text/plain": [
       "<Figure size 500x500 with 1 Axes>"
      ]
     },
     "metadata": {},
     "output_type": "display_data"
    }
   ],
   "source": [
    "t_span = [0, 100]\n",
    "times = np.linspace(t_span[0], t_span[1], 200)\n",
    "plt.figure(figsize=(5,5))\n",
    "plt.plot(times,np.array(varf)[0,0,:], label=\" Concentración X\")\n",
    "plt.plot(times,np.array(varf)[0,1,:], label=\"Concentración Y\")\n",
    "plt.xlabel('Tiempo')\n",
    "plt.ylabel('Concentración de genes')\n",
    "plt.title('Simulación Toggle Swich', fontsize=20)\n",
    "plt.legend()\n",
    "plt.show()"
   ]
  },
  {
   "cell_type": "code",
   "execution_count": 39,
   "id": "be8f3283",
   "metadata": {
    "ExecuteTime": {
     "end_time": "2023-03-30T06:28:20.908422Z",
     "start_time": "2023-03-30T06:28:20.892475Z"
    }
   },
   "outputs": [
    {
     "data": {
      "text/plain": [
       "(1, 7)"
      ]
     },
     "execution_count": 39,
     "metadata": {},
     "output_type": "execute_result"
    }
   ],
   "source": [
    "np.shape(new_predictions)"
   ]
  },
  {
   "cell_type": "markdown",
   "id": "beb6126d",
   "metadata": {},
   "source": [
    "## Graficamos con los coeficientes predecidos"
   ]
  },
  {
   "cell_type": "code",
   "execution_count": 40,
   "id": "84ae10b1",
   "metadata": {
    "ExecuteTime": {
     "end_time": "2023-03-30T06:28:21.858873Z",
     "start_time": "2023-03-30T06:28:21.773648Z"
    }
   },
   "outputs": [
    {
     "data": {
      "image/png": "[encoded data removed]",
      "text/plain": [
       "<Figure size 500x500 with 1 Axes>"
      ]
     },
     "metadata": {},
     "output_type": "display_data"
    }
   ],
   "source": [
    "a1 = new_predictions[0,0]\n",
    "a2 = new_predictions[0,1]\n",
    "b1 = new_predictions[0,2]\n",
    "b2 = new_predictions[0,3]\n",
    "d1 = new_predictions[0,4]\n",
    "d2 = new_predictions[0,5]\n",
    "n = new_predictions[0,6]\n",
    " \n",
    "def f(t, y):\n",
    "\n",
    "    # asignar a cada ODE a un elemento de vector\n",
    "    X = y[0]\n",
    "    Y = y[1]\n",
    "\n",
    "    # definimos cada ODE\n",
    "    dX_dt = a1/(1+Y**n)-d1*X+b1\n",
    "    dY_dt = a2/(1+X**n)-d2*Y+b1\n",
    "\n",
    "    return [dX_dt, dY_dt]\n",
    "\n",
    "# Declaramos el vector de tiempo\n",
    "t_span = [0, 50]\n",
    "times = np.linspace(t_span[0], t_span[1], 500)\n",
    "\n",
    "# Definimos las condiciones iniciales\n",
    "y0 = np.array([10,10])\n",
    "\n",
    "# Resolvemos\n",
    "# Modificar manualmente el intervalo de tiempo\n",
    "sol = solve_ivp(f, t_span, y0, t_eval=times)\n",
    "# sol=solve_ivp(f, t_span, y0) #Dejar que la librería elija el mejor intervalo\n",
    "tiempo = sol.t\n",
    "var1 = sol.y[0]\n",
    "var2 = sol.y[1]\n",
    "\n",
    "# Graficamos\n",
    "plt.figure(figsize=(5, 5))\n",
    "plt.plot(tiempo, var1, label=\" Concentración X\")\n",
    "plt.plot(tiempo, var2, label=\"Concentración Y\")\n",
    "plt.xlabel('Tiempo')\n",
    "plt.ylabel('Concentración de genes')\n",
    "plt.title('Simulación Toggle Swich', fontsize=20)\n",
    "plt.legend()\n",
    "plt.show()"
   ]
  },
  {
   "cell_type": "code",
   "execution_count": null,
   "id": "7cf6dd9e",
   "metadata": {},
   "outputs": [],
   "source": []
  },
  {
   "cell_type": "code",
   "execution_count": null,
   "id": "47613fd5",
   "metadata": {},
   "outputs": [],
   "source": []
  },
  {
   "cell_type": "code",
   "execution_count": null,
   "id": "b66242e3",
   "metadata": {},
   "outputs": [],
   "source": [
    "class InverseProblemSODE(Sequential):\n",
    "    def __init__(self, **kwargs):\n",
    "        super().__init__(**kwargs)\n",
    "        self.loss_tracker = keras.metrics.Mean(name=\"loss\")\n",
    "    @property\n",
    "    def metrics(self):\n",
    "        return [self.loss_tracker]\n",
    "\n",
    "    def train_step(self, data):\n",
    "        batch_size=tf.shape(data)[0]\n",
    "        x=tf.random.uniform((batch_size,1),minval=-5,maxval=5)\n",
    "    \n",
    "        with tf.GradientTape() as tape: \n",
    "            #Compute the loss value\n",
    "            with tf.GradientTape() as tape2: \n",
    "                tape2.watch(x)\n",
    "                y_pred = self(x, training=True)\n",
    "            dy = tape2.gradient(y_pred, x)\n",
    "            x_o = tf.zeros((batch_size, 1))\n",
    "            y_o = self(x_o, training = True)\n",
    "            eq = x*dy + y_pred-x**2*tf.cos(x)\n",
    "            ic = y_o\n",
    "            loss = keras.losses.mean_squared_error(0., eq) + keras.losses.mean_absolute_error(0., ic)\n",
    "        # Apply grads\n",
    "        grads = tape.gradient(loss, self.trainable_variables)\n",
    "        self.optimizer.apply_gradients(zip(grads, self.trainable_variables))\n",
    "        # Update metrics\n",
    "        self.loss_tracker.update_state(loss)\n",
    "        # Return a dict mapping metric names to current value\n",
    "        return {\"loss\": self.loss_tracker.result()}"
   ]
  }
 ],
 "metadata": {
  "hide_input": false,
  "kernelspec": {
   "display_name": "Python 3 (ipykernel)",
   "language": "python",
   "name": "python3"
  },
  "language_info": {
   "codemirror_mode": {
    "name": "ipython",
    "version": 3
   },
   "file_extension": ".py",
   "mimetype": "text/x-python",
   "name": "python",
   "nbconvert_exporter": "python",
   "pygments_lexer": "ipython3",
   "version": "3.9.13"
  },
  "toc": {
   "base_numbering": 1,
   "nav_menu": {},
   "number_sections": true,
   "sideBar": true,
   "skip_h1_title": false,
   "title_cell": "Table of Contents",
   "title_sidebar": "Contents",
   "toc_cell": false,
   "toc_position": {},
   "toc_section_display": true,
   "toc_window_display": false
  },
  "varInspector": {
   "cols": {
    "lenName": 16,
    "lenType": 16,
    "lenVar": 40
   },
   "kernels_config": {
    "python": {
     "delete_cmd_postfix": "",
     "delete_cmd_prefix": "del ",
     "library": "var_list.py",
     "varRefreshCmd": "print(var_dic_list())"
    },
    "r": {
     "delete_cmd_postfix": ") ",
     "delete_cmd_prefix": "rm(",
     "library": "var_list.r",
     "varRefreshCmd": "cat(var_dic_list()) "
    }
   },
   "types_to_exclude": [
    "module",
    "function",
    "builtin_function_or_method",
    "instance",
    "_Feature"
   ],
   "window_display": false
  }
 },
 "nbformat": 4,
 "nbformat_minor": 5
}
