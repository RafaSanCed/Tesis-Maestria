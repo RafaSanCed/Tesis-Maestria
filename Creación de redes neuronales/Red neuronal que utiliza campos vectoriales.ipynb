{
 "cells": [
  {
   "cell_type": "markdown",
   "id": "0067cad0",
   "metadata": {},
   "source": [
    "# Importamos librerías"
   ]
  },
  {
   "cell_type": "code",
   "execution_count": 1,
   "id": "b2d4f30f",
   "metadata": {
    "ExecuteTime": {
     "end_time": "2023-03-16T03:44:24.962676Z",
     "start_time": "2023-03-16T03:44:20.960566Z"
    }
   },
   "outputs": [],
   "source": [
    "import tensorflow as tf\n",
    "import pathlib\n",
    "import os\n",
    "import matplotlib.pyplot as plt\n",
    "import pandas as pd\n",
    "import numpy as np\n",
    "import keras"
   ]
  },
  {
   "cell_type": "code",
   "execution_count": 2,
   "id": "20fccfc6",
   "metadata": {
    "ExecuteTime": {
     "end_time": "2023-03-16T03:44:24.993197Z",
     "start_time": "2023-03-16T03:44:24.979447Z"
    }
   },
   "outputs": [],
   "source": [
    "from tensorflow.keras import Sequential\n",
    "from tensorflow.keras.layers import Dense\n",
    "from tensorflow.keras.layers import Flatten\n",
    "from tensorflow.keras.layers import Dropout, BatchNormalization"
   ]
  },
  {
   "cell_type": "code",
   "execution_count": 3,
   "id": "1c769735",
   "metadata": {
    "ExecuteTime": {
     "end_time": "2023-03-16T03:44:25.070418Z",
     "start_time": "2023-03-16T03:44:25.009040Z"
    }
   },
   "outputs": [
    {
     "name": "stdout",
     "output_type": "stream",
     "text": [
      "WARNING:tensorflow:From C:\\Users\\rafae\\AppData\\Local\\Temp\\ipykernel_21784\\337460670.py:1: is_gpu_available (from tensorflow.python.framework.test_util) is deprecated and will be removed in a future version.\n",
      "Instructions for updating:\n",
      "Use `tf.config.list_physical_devices('GPU')` instead.\n"
     ]
    },
    {
     "data": {
      "text/plain": [
       "True"
      ]
     },
     "execution_count": 3,
     "metadata": {},
     "output_type": "execute_result"
    }
   ],
   "source": [
    "tf.test.is_gpu_available()"
   ]
  },
  {
   "cell_type": "markdown",
   "id": "d94b2fbd",
   "metadata": {},
   "source": [
    "# Importamos los datos"
   ]
  },
  {
   "cell_type": "code",
   "execution_count": 4,
   "id": "2cdd79aa",
   "metadata": {
    "ExecuteTime": {
     "end_time": "2023-03-16T03:44:25.101273Z",
     "start_time": "2023-03-16T03:44:25.086805Z"
    }
   },
   "outputs": [],
   "source": [
    "path = 'D:/Documentos de trabajo/Maestría/Tesis Maestría/Trabajo Python Tesis/Github Tesis/Base de datos'"
   ]
  },
  {
   "cell_type": "markdown",
   "id": "39beab0c",
   "metadata": {},
   "source": [
    "## Datos de entrenamiento"
   ]
  },
  {
   "cell_type": "markdown",
   "id": "ca636b58",
   "metadata": {},
   "source": [
    "### Datos"
   ]
  },
  {
   "cell_type": "code",
   "execution_count": 5,
   "id": "ac8ee3cc",
   "metadata": {
    "ExecuteTime": {
     "end_time": "2023-03-16T03:44:26.044440Z",
     "start_time": "2023-03-16T03:44:25.116980Z"
    }
   },
   "outputs": [],
   "source": [
    "campvectrain = np.load(path + '/campvectrain.npy')"
   ]
  },
  {
   "cell_type": "code",
   "execution_count": 6,
   "id": "a2977931",
   "metadata": {
    "ExecuteTime": {
     "end_time": "2023-03-16T03:44:26.075605Z",
     "start_time": "2023-03-16T03:44:26.061059Z"
    }
   },
   "outputs": [
    {
     "data": {
      "text/plain": [
       "(7000, 2, 100, 100)"
      ]
     },
     "execution_count": 6,
     "metadata": {},
     "output_type": "execute_result"
    }
   ],
   "source": [
    "np.shape(campvectrain)"
   ]
  },
  {
   "cell_type": "markdown",
   "id": "4a0e5fa2",
   "metadata": {},
   "source": [
    "### Coeficientes"
   ]
  },
  {
   "cell_type": "code",
   "execution_count": 7,
   "id": "45e5d25a",
   "metadata": {
    "ExecuteTime": {
     "end_time": "2023-03-16T03:44:26.107061Z",
     "start_time": "2023-03-16T03:44:26.092461Z"
    }
   },
   "outputs": [],
   "source": [
    "coefcampvectrain = np.load(path + '/coefcampvectrain.npy')"
   ]
  },
  {
   "cell_type": "code",
   "execution_count": 8,
   "id": "88f0323d",
   "metadata": {
    "ExecuteTime": {
     "end_time": "2023-03-16T03:44:26.138397Z",
     "start_time": "2023-03-16T03:44:26.123925Z"
    }
   },
   "outputs": [
    {
     "data": {
      "text/plain": [
       "(7000, 7)"
      ]
     },
     "execution_count": 8,
     "metadata": {},
     "output_type": "execute_result"
    }
   ],
   "source": [
    "np.shape(coefcampvectrain)"
   ]
  },
  {
   "cell_type": "markdown",
   "id": "c89d3216",
   "metadata": {},
   "source": [
    "## Datos de prueba"
   ]
  },
  {
   "cell_type": "markdown",
   "id": "df843cea",
   "metadata": {},
   "source": [
    "### Datos"
   ]
  },
  {
   "cell_type": "code",
   "execution_count": 9,
   "id": "74030537",
   "metadata": {
    "ExecuteTime": {
     "end_time": "2023-03-16T03:44:26.418515Z",
     "start_time": "2023-03-16T03:44:26.154561Z"
    }
   },
   "outputs": [],
   "source": [
    "campvectest = np.load(path + '/campvectest.npy')"
   ]
  },
  {
   "cell_type": "code",
   "execution_count": 10,
   "id": "d6196850",
   "metadata": {
    "ExecuteTime": {
     "end_time": "2023-03-16T03:44:26.450138Z",
     "start_time": "2023-03-16T03:44:26.435558Z"
    }
   },
   "outputs": [
    {
     "data": {
      "text/plain": [
       "(2000, 2, 100, 100)"
      ]
     },
     "execution_count": 10,
     "metadata": {},
     "output_type": "execute_result"
    }
   ],
   "source": [
    "np.shape(campvectest)"
   ]
  },
  {
   "cell_type": "markdown",
   "id": "46a3e36d",
   "metadata": {},
   "source": [
    "### Coeficientes"
   ]
  },
  {
   "cell_type": "code",
   "execution_count": 11,
   "id": "cf22c486",
   "metadata": {
    "ExecuteTime": {
     "end_time": "2023-03-16T03:44:28.149376Z",
     "start_time": "2023-03-16T03:44:28.137380Z"
    }
   },
   "outputs": [],
   "source": [
    "coefcampvectest = np.load(path + '/coefcampvectest.npy')"
   ]
  },
  {
   "cell_type": "code",
   "execution_count": 12,
   "id": "545559ea",
   "metadata": {
    "ExecuteTime": {
     "end_time": "2023-03-16T03:44:28.475405Z",
     "start_time": "2023-03-16T03:44:28.470897Z"
    }
   },
   "outputs": [
    {
     "data": {
      "text/plain": [
       "(2000, 7)"
      ]
     },
     "execution_count": 12,
     "metadata": {},
     "output_type": "execute_result"
    }
   ],
   "source": [
    "np.shape(coefcampvectest)"
   ]
  },
  {
   "cell_type": "markdown",
   "id": "63024745",
   "metadata": {},
   "source": [
    "## Datos de validación"
   ]
  },
  {
   "cell_type": "markdown",
   "id": "9e38f1d7",
   "metadata": {},
   "source": [
    "### Datos"
   ]
  },
  {
   "cell_type": "code",
   "execution_count": 13,
   "id": "6e5768b7",
   "metadata": {
    "ExecuteTime": {
     "end_time": "2023-03-16T03:44:29.420970Z",
     "start_time": "2023-03-16T03:44:29.276944Z"
    }
   },
   "outputs": [],
   "source": [
    "campvecval = np.load(path + '/campvecval.npy')"
   ]
  },
  {
   "cell_type": "code",
   "execution_count": 14,
   "id": "a29f5ec0",
   "metadata": {
    "ExecuteTime": {
     "end_time": "2023-03-16T03:44:29.730742Z",
     "start_time": "2023-03-16T03:44:29.727794Z"
    }
   },
   "outputs": [
    {
     "data": {
      "text/plain": [
       "(1000, 2, 100, 100)"
      ]
     },
     "execution_count": 14,
     "metadata": {},
     "output_type": "execute_result"
    }
   ],
   "source": [
    "np.shape(campvecval)"
   ]
  },
  {
   "cell_type": "markdown",
   "id": "ffc618a2",
   "metadata": {},
   "source": [
    "### Coeficienes"
   ]
  },
  {
   "cell_type": "code",
   "execution_count": 15,
   "id": "b323751c",
   "metadata": {
    "ExecuteTime": {
     "end_time": "2023-03-16T03:44:30.398905Z",
     "start_time": "2023-03-16T03:44:30.382404Z"
    }
   },
   "outputs": [],
   "source": [
    "coefcampvecval = np.load(path + '/coefcampvecval.npy')"
   ]
  },
  {
   "cell_type": "code",
   "execution_count": 16,
   "id": "60df7d7d",
   "metadata": {
    "ExecuteTime": {
     "end_time": "2023-03-16T03:44:30.649668Z",
     "start_time": "2023-03-16T03:44:30.630861Z"
    }
   },
   "outputs": [
    {
     "data": {
      "text/plain": [
       "(1000, 7)"
      ]
     },
     "execution_count": 16,
     "metadata": {},
     "output_type": "execute_result"
    }
   ],
   "source": [
    "np.shape(coefcampvecval)"
   ]
  },
  {
   "cell_type": "markdown",
   "id": "e069562d",
   "metadata": {},
   "source": [
    "# Unimos coeficientes con los datos"
   ]
  },
  {
   "cell_type": "code",
   "execution_count": 17,
   "id": "a973df40",
   "metadata": {
    "ExecuteTime": {
     "end_time": "2023-03-16T03:44:32.679995Z",
     "start_time": "2023-03-16T03:44:31.306472Z"
    }
   },
   "outputs": [],
   "source": [
    "train_dataset = tf.data.Dataset.from_tensor_slices((campvectrain, coefcampvectrain))\n",
    "test_dataset = tf.data.Dataset.from_tensor_slices((campvectest, coefcampvectest))\n",
    "val_dataset = tf.data.Dataset.from_tensor_slices((campvecval, coefcampvecval))"
   ]
  },
  {
   "cell_type": "code",
   "execution_count": 18,
   "id": "bc7ee207",
   "metadata": {
    "ExecuteTime": {
     "end_time": "2023-03-16T03:44:32.710973Z",
     "start_time": "2023-03-16T03:44:32.696512Z"
    }
   },
   "outputs": [
    {
     "data": {
      "text/plain": [
       "<TensorSliceDataset element_spec=(TensorSpec(shape=(2, 100, 100), dtype=tf.float64, name=None), TensorSpec(shape=(7,), dtype=tf.int32, name=None))>"
      ]
     },
     "execution_count": 18,
     "metadata": {},
     "output_type": "execute_result"
    }
   ],
   "source": [
    "train_dataset"
   ]
  },
  {
   "cell_type": "markdown",
   "id": "05ebcd40",
   "metadata": {
    "ExecuteTime": {
     "end_time": "2023-02-07T19:36:45.065835Z",
     "start_time": "2023-02-07T19:36:45.042683Z"
    }
   },
   "source": [
    "# Mezclar y procesar por lotes los conjuntos de datos"
   ]
  },
  {
   "cell_type": "code",
   "execution_count": 19,
   "id": "eca4c6bc",
   "metadata": {
    "ExecuteTime": {
     "end_time": "2023-03-16T03:44:32.742415Z",
     "start_time": "2023-03-16T03:44:32.727945Z"
    }
   },
   "outputs": [],
   "source": [
    "BATCH_SIZE = 10\n",
    "SHUFFLE_BUFFER_SIZE = 10\n",
    "\n",
    "train_dataset = train_dataset.shuffle(SHUFFLE_BUFFER_SIZE).batch(BATCH_SIZE)\n",
    "test_dataset = test_dataset.batch(BATCH_SIZE)\n",
    "val_dataset = val_dataset.batch(BATCH_SIZE)"
   ]
  },
  {
   "cell_type": "markdown",
   "id": "dbe84fe8",
   "metadata": {},
   "source": [
    "# Creamos función de costo"
   ]
  },
  {
   "cell_type": "code",
   "execution_count": 20,
   "id": "775de8cd",
   "metadata": {
    "ExecuteTime": {
     "end_time": "2023-03-16T03:44:36.339048Z",
     "start_time": "2023-03-16T03:44:36.325523Z"
    },
    "code_folding": []
   },
   "outputs": [],
   "source": [
    "@tf.function\n",
    "def custom_loss(y_true,y_pred):\n",
    "    campvec = []\n",
    "    # constantes\n",
    "    a1 = tf.cast(y_true[:,0], tf.float64)\n",
    "    a2 = tf.cast(y_true[:,1], tf.float64)\n",
    "    b1 = tf.cast(y_true[:,2], tf.float64)\n",
    "    b2 = tf.cast(y_true[:,3], tf.float64)\n",
    "    d1 = tf.cast(y_true[:,4], tf.float64)\n",
    "    d2 = tf.cast(y_true[:,5], tf.float64)\n",
    "    n = tf.cast(y_true[:,6], tf.float64)\n",
    "    \n",
    "    def f(t, y):\n",
    "        \n",
    "        # asignar a cada ODE a un elemento de vector\n",
    "        X = y[0]\n",
    "        X = tf.cast(X, tf.float64)\n",
    "        Y = y[1]\n",
    "        Y = tf.cast(Y, tf.float64)\n",
    "        \n",
    "        # definimos cada ODE\n",
    "        dX_dt = a1 / (1 + tf.math.pow(Y, n)) - d1 * X + b1\n",
    "        dY_dt = a2 / (1 + tf.math.pow(X, n)) - d2 * Y + b2\n",
    "        return [dX_dt, dY_dt]\n",
    "\n",
    "    x_range_neg = 0\n",
    "    x_range_pos = 50\n",
    "    y_range_neg = 0\n",
    "    y_range_pos = 50\n",
    "    y1 = tf.linspace(x_range_neg, x_range_pos, 100)\n",
    "    y2 = tf.linspace(y_range_neg, y_range_pos, 100)\n",
    "    Y1, Y2 = tf.meshgrid(y1, y2)\n",
    "    t = 0\n",
    "    u, v = tf.zeros(Y1.shape), tf.zeros(Y2.shape)\n",
    "    pruebas1, pruebas2 = f(t,[0,0])\n",
    "    u, v = f(t, [Y1, Y2])\n",
    "    \n",
    "    \n",
    "    M = tf.sqrt(tf.square(u) + tf.square(v))\n",
    "    u /= M\n",
    "    v /= M\n",
    "# ----------------------------------------------------------------------------\n",
    "    campvec2 = []\n",
    "    # constantes\n",
    "    a12 = tf.cast(y_pred[:,0], tf.float64)\n",
    "    a22 = tf.cast(y_pred[:,1], tf.float64)\n",
    "    b12 = tf.cast(y_pred[:,2], tf.float64)\n",
    "    b22 = tf.cast(y_pred[:,3], tf.float64)\n",
    "    d12 = tf.cast(y_pred[:,4], tf.float64)\n",
    "    d22 = tf.cast(y_pred[:,5], tf.float64)\n",
    "    n2 = tf.cast(y_pred[:,6], tf.float64)\n",
    "    \n",
    "    def f2(t2, ye2):\n",
    "        \n",
    "        # asignar a cada ODE a un elemento de vector\n",
    "        X2 = ye2[0]\n",
    "        X2 = tf.cast(X2, tf.float64)\n",
    "        Y2 = ye2[1]\n",
    "        Y2 = tf.cast(Y2, tf.float64)\n",
    "       \n",
    "        # definimos cada ODE\n",
    "        dX2_dt = a12 / (1 + tf.math.pow(Y2, n2)) - d12 * X2 + b12\n",
    "        dY2_dt = a22 / (1 + tf.math.pow(X2, n2)) - d22 * Y2 + b22\n",
    "        \n",
    "        return [dX2_dt, dY2_dt]\n",
    "    \n",
    "\n",
    "    u2, v2 = tf.zeros(Y1.shape), tf.zeros(Y2.shape)\n",
    "    u2, v2 = f2(t, [Y1, Y2])\n",
    "    M2 = tf.sqrt(tf.square(u2) + tf.square(v2))\n",
    "    u2 /= M2\n",
    "    v2 /= M2\n",
    "\n",
    "    campvec =tf.experimental.numpy.append([u] ,[v], axis=0)\n",
    "    campvec2 = tf.experimental.numpy.append([u2] ,[v2], axis=0)\n",
    "    resta = campvec-campvec2\n",
    "    #cosine_sim = tf.keras.losses.cosine_similarity(campvec, campvec2)\n",
    "    loss = tf.reduce_mean(tf.square(resta))\n",
    "    return loss"
   ]
  },
  {
   "cell_type": "markdown",
   "id": "7a055590",
   "metadata": {},
   "source": [
    "# Funcion de costo prueba"
   ]
  },
  {
   "cell_type": "code",
   "execution_count": 29,
   "id": "2faf8256",
   "metadata": {
    "ExecuteTime": {
     "end_time": "2023-03-16T03:45:07.063552Z",
     "start_time": "2023-03-16T03:45:07.045105Z"
    }
   },
   "outputs": [],
   "source": [
    "def custom_loss(y_true,y_pred):\n",
    "    def meshgrid(x, y):\n",
    "        xx = tf.repeat(tf.expand_dims(x, 1), y.shape[0], axis=1)\n",
    "        yy = tf.repeat(tf.expand_dims(y, 0), x.shape[0], axis=0)\n",
    "        return xx, yy\n",
    "    \n",
    "    # Constantes\n",
    "    a1 = tf.cast(y_true[:,0], tf.float64)\n",
    "    a2 = tf.cast(y_true[:,1], tf.float64)\n",
    "    b1 = tf.cast(y_true[:,2], tf.float64)\n",
    "    b2 = tf.cast(y_true[:,3], tf.float64)\n",
    "    d1 = tf.cast(y_true[:,4], tf.float64)\n",
    "    d2 = tf.cast(y_true[:,5], tf.float64)\n",
    "    n = tf.cast(y_true[:,6], tf.float64)\n",
    "\n",
    "    def f(t, y):\n",
    "        # Asignar a cada ODE a un elemento de vector\n",
    "        X = y[0]\n",
    "        X = tf.cast(X, tf.float64)\n",
    "        Y = y[1]\n",
    "        Y = tf.cast(Y, tf.float64)\n",
    "\n",
    "        # Definimos cada ODE\n",
    "        dX_dt = a1 / (1 + tf.math.pow(Y, n)) - d1 * X + b1\n",
    "        dY_dt = a2 / (1 + tf.math.pow(X, n)) - d2 * Y + b2\n",
    "        return [dX_dt, dY_dt]\n",
    "\n",
    "    x_range_neg = 0\n",
    "    x_range_pos = 50\n",
    "    y_range_neg = 0\n",
    "    y_range_pos = 50\n",
    "    y1 = tf.linspace(x_range_neg, x_range_pos, 100)\n",
    "    y2 = tf.linspace(y_range_neg, y_range_pos, 100)\n",
    "    Y1, Y2 = meshgrid(y1, y2)\n",
    "    t = 0\n",
    "    u, v = tf.zeros(Y1.shape), tf.zeros(Y2.shape)\n",
    "    pruebas1, pruebas2 = f(t,[0,0])\n",
    "    u, v = f(t, [Y1, Y2])\n",
    "\n",
    "    M = tf.sqrt(tf.square(u) + tf.square(v))\n",
    "    u /= M\n",
    "    v /= M\n",
    "    \n",
    "# ----------------------------------------------------------------------------\n",
    "    campvec2 = []\n",
    "    # constantes\n",
    "    a12 = tf.cast(y_pred[:,0], tf.float64)\n",
    "    a22 = tf.cast(y_pred[:,1], tf.float64)\n",
    "    b12 = tf.cast(y_pred[:,2], tf.float64)\n",
    "    b22 = tf.cast(y_pred[:,3], tf.float64)\n",
    "    d12 = tf.cast(y_pred[:,4], tf.float64)\n",
    "    d22 = tf.cast(y_pred[:,5], tf.float64)\n",
    "    n2 = tf.cast(y_pred[:,6], tf.float64)\n",
    "    \n",
    "    def f2(t2, ye2):\n",
    "        \n",
    "        # asignar a cada ODE a un elemento de vector\n",
    "        X2 = ye2[0]\n",
    "        X2 = tf.cast(X2, tf.float64)\n",
    "        Y2 = ye2[1]\n",
    "        Y2 = tf.cast(Y2, tf.float64)\n",
    "       \n",
    "        # definimos cada ODE\n",
    "        dX2_dt = a12 / (1 + tf.math.pow(Y2, n2)) - d12 * X2 + b12\n",
    "        dY2_dt = a22 / (1 + tf.math.pow(X2, n2)) - d22 * Y2 + b22\n",
    "        \n",
    "        return [dX2_dt, dY2_dt]\n",
    "    \n",
    "\n",
    "    u2, v2 = tf.zeros(Y1.shape), tf.zeros(Y2.shape)\n",
    "    u2, v2 = f2(t, [Y1, Y2])\n",
    "    M2 = tf.sqrt(tf.square(u2) + tf.square(v2))\n",
    "    u2 /= M2\n",
    "    v2 /= M2\n",
    "\n",
    "    campvec =tf.experimental.numpy.append([u] ,[v], axis=0)\n",
    "    campvec2 = tf.experimental.numpy.append([u2] ,[v2], axis=0)\n",
    "    resta = campvec-campvec2\n",
    "    #cosine_sim = tf.keras.losses.cosine_similarity(campvec, campvec2)\n",
    "    loss = tf.reduce_mean(tf.square(resta))\n",
    "    print(loss)\n",
    "    return loss"
   ]
  },
  {
   "cell_type": "markdown",
   "id": "76914f6c",
   "metadata": {},
   "source": [
    "# Creación del modelo"
   ]
  },
  {
   "cell_type": "code",
   "execution_count": 30,
   "id": "e4f113f9",
   "metadata": {
    "ExecuteTime": {
     "end_time": "2023-03-16T03:45:07.515063Z",
     "start_time": "2023-03-16T03:45:07.483539Z"
    }
   },
   "outputs": [],
   "source": [
    "model = tf.keras.Sequential([\n",
    "    tf.keras.layers.Flatten(input_shape=(2,100,100)),\n",
    "    tf.keras.layers.Dense(128, activation='relu'),\n",
    "    tf.keras.layers.Dense(64, activation='relu'),\n",
    "    tf.keras.layers.Dense(128, activation='relu'),\n",
    "    tf.keras.layers.Dense(64, activation='relu'),\n",
    "    tf.keras.layers.Dropout(0.2),\n",
    "    tf.keras.layers.Dense(7)\n",
    "])\n"
   ]
  },
  {
   "cell_type": "code",
   "execution_count": 31,
   "id": "4867a6a1",
   "metadata": {
    "ExecuteTime": {
     "end_time": "2023-03-16T03:45:07.719104Z",
     "start_time": "2023-03-16T03:45:07.658329Z"
    }
   },
   "outputs": [],
   "source": [
    "model = Sequential()\n",
    "model.add(Flatten(input_shape=(2,100,100)))\n",
    "model.add(Dense(128,activation='relu'))\n",
    "model.add(Dropout(0.3))\n",
    "model.add(Dense(64,activation = 'relu'))\n",
    "model.add(Dense(128,activation = 'relu'))\n",
    "model.add(Dense(64,activation = 'relu'))\n",
    "model.add(Dropout(0.3))\n",
    "model.add(Dense(128,activation = 'relu'))\n",
    "model.add(Dense(64,activation = 'relu'))\n",
    "\n",
    "model.add(Dense(7))"
   ]
  },
  {
   "cell_type": "code",
   "execution_count": 32,
   "id": "45fd641f",
   "metadata": {
    "ExecuteTime": {
     "end_time": "2023-03-16T03:45:07.874898Z",
     "start_time": "2023-03-16T03:45:07.849892Z"
    }
   },
   "outputs": [
    {
     "name": "stdout",
     "output_type": "stream",
     "text": [
      "Model: \"sequential_3\"\n",
      "_________________________________________________________________\n",
      " Layer (type)                Output Shape              Param #   \n",
      "=================================================================\n",
      " flatten_3 (Flatten)         (None, 20000)             0         \n",
      "                                                                 \n",
      " dense_17 (Dense)            (None, 128)               2560128   \n",
      "                                                                 \n",
      " dropout_4 (Dropout)         (None, 128)               0         \n",
      "                                                                 \n",
      " dense_18 (Dense)            (None, 64)                8256      \n",
      "                                                                 \n",
      " dense_19 (Dense)            (None, 128)               8320      \n",
      "                                                                 \n",
      " dense_20 (Dense)            (None, 64)                8256      \n",
      "                                                                 \n",
      " dropout_5 (Dropout)         (None, 64)                0         \n",
      "                                                                 \n",
      " dense_21 (Dense)            (None, 128)               8320      \n",
      "                                                                 \n",
      " dense_22 (Dense)            (None, 64)                8256      \n",
      "                                                                 \n",
      " dense_23 (Dense)            (None, 7)                 455       \n",
      "                                                                 \n",
      "=================================================================\n",
      "Total params: 2,601,991\n",
      "Trainable params: 2,601,991\n",
      "Non-trainable params: 0\n",
      "_________________________________________________________________\n"
     ]
    }
   ],
   "source": [
    "model.summary()"
   ]
  },
  {
   "cell_type": "code",
   "execution_count": 33,
   "id": "78ca1c7f",
   "metadata": {
    "ExecuteTime": {
     "end_time": "2023-03-16T03:45:08.045568Z",
     "start_time": "2023-03-16T03:45:08.036554Z"
    }
   },
   "outputs": [
    {
     "name": "stdout",
     "output_type": "stream",
     "text": [
      "You must install pydot (`pip install pydot`) and install graphviz (see instructions at https://graphviz.gitlab.io/download/) for plot_model to work.\n"
     ]
    }
   ],
   "source": [
    "keras.utils.plot_model(model,show_shapes=True)"
   ]
  },
  {
   "cell_type": "markdown",
   "id": "b761554a",
   "metadata": {},
   "source": [
    "# Entrenamos el modelo"
   ]
  },
  {
   "cell_type": "code",
   "execution_count": 34,
   "id": "4316785f",
   "metadata": {
    "ExecuteTime": {
     "end_time": "2023-03-16T03:45:08.435391Z",
     "start_time": "2023-03-16T03:45:08.422903Z"
    }
   },
   "outputs": [],
   "source": [
    "model.compile(optimizer='Adam',\n",
    "              loss= custom_loss,\n",
    "              metrics=['accuracy'])"
   ]
  },
  {
   "cell_type": "code",
   "execution_count": 35,
   "id": "d1303e8d",
   "metadata": {
    "ExecuteTime": {
     "end_time": "2023-03-16T03:45:08.636032Z",
     "start_time": "2023-03-16T03:45:08.620047Z"
    }
   },
   "outputs": [],
   "source": [
    "def scheduler(epoch, lr):\n",
    "  if epoch < 500:\n",
    "    return lr\n",
    "  else:\n",
    "    return 1e-3 * 0.99 ** epoch"
   ]
  },
  {
   "cell_type": "code",
   "execution_count": 36,
   "id": "88d710c6",
   "metadata": {
    "ExecuteTime": {
     "end_time": "2023-03-16T03:45:09.714423Z",
     "start_time": "2023-03-16T03:45:08.869059Z"
    }
   },
   "outputs": [
    {
     "name": "stdout",
     "output_type": "stream",
     "text": [
      "Epoch 1/100\n",
      "Tensor(\"custom_loss/Mean:0\", shape=(), dtype=float64)\n",
      "Tensor(\"custom_loss/Mean:0\", shape=(), dtype=float64)\n"
     ]
    },
    {
     "ename": "InvalidArgumentError",
     "evalue": "Graph execution error:\n\nDetected at node 'custom_loss/mul_2' defined at (most recent call last):\n    File \"C:\\Users\\rafae\\anaconda3\\envs\\tfgpu\\lib\\runpy.py\", line 197, in _run_module_as_main\n      return _run_code(code, main_globals, None,\n    File \"C:\\Users\\rafae\\anaconda3\\envs\\tfgpu\\lib\\runpy.py\", line 87, in _run_code\n      exec(code, run_globals)\n    File \"C:\\Users\\rafae\\anaconda3\\envs\\tfgpu\\lib\\site-packages\\ipykernel_launcher.py\", line 17, in <module>\n      app.launch_new_instance()\n    File \"C:\\Users\\rafae\\anaconda3\\envs\\tfgpu\\lib\\site-packages\\traitlets\\config\\application.py\", line 846, in launch_instance\n      app.start()\n    File \"C:\\Users\\rafae\\anaconda3\\envs\\tfgpu\\lib\\site-packages\\ipykernel\\kernelapp.py\", line 712, in start\n      self.io_loop.start()\n    File \"C:\\Users\\rafae\\anaconda3\\envs\\tfgpu\\lib\\site-packages\\tornado\\platform\\asyncio.py\", line 215, in start\n      self.asyncio_loop.run_forever()\n    File \"C:\\Users\\rafae\\anaconda3\\envs\\tfgpu\\lib\\asyncio\\base_events.py\", line 601, in run_forever\n      self._run_once()\n    File \"C:\\Users\\rafae\\anaconda3\\envs\\tfgpu\\lib\\asyncio\\base_events.py\", line 1905, in _run_once\n      handle._run()\n    File \"C:\\Users\\rafae\\anaconda3\\envs\\tfgpu\\lib\\asyncio\\events.py\", line 80, in _run\n      self._context.run(self._callback, *self._args)\n    File \"C:\\Users\\rafae\\anaconda3\\envs\\tfgpu\\lib\\site-packages\\ipykernel\\kernelbase.py\", line 510, in dispatch_queue\n      await self.process_one()\n    File \"C:\\Users\\rafae\\anaconda3\\envs\\tfgpu\\lib\\site-packages\\ipykernel\\kernelbase.py\", line 499, in process_one\n      await dispatch(*args)\n    File \"C:\\Users\\rafae\\anaconda3\\envs\\tfgpu\\lib\\site-packages\\ipykernel\\kernelbase.py\", line 406, in dispatch_shell\n      await result\n    File \"C:\\Users\\rafae\\anaconda3\\envs\\tfgpu\\lib\\site-packages\\ipykernel\\kernelbase.py\", line 730, in execute_request\n      reply_content = await reply_content\n    File \"C:\\Users\\rafae\\anaconda3\\envs\\tfgpu\\lib\\site-packages\\ipykernel\\ipkernel.py\", line 383, in do_execute\n      res = shell.run_cell(\n    File \"C:\\Users\\rafae\\anaconda3\\envs\\tfgpu\\lib\\site-packages\\ipykernel\\zmqshell.py\", line 528, in run_cell\n      return super().run_cell(*args, **kwargs)\n    File \"C:\\Users\\rafae\\anaconda3\\envs\\tfgpu\\lib\\site-packages\\IPython\\core\\interactiveshell.py\", line 2881, in run_cell\n      result = self._run_cell(\n    File \"C:\\Users\\rafae\\anaconda3\\envs\\tfgpu\\lib\\site-packages\\IPython\\core\\interactiveshell.py\", line 2936, in _run_cell\n      return runner(coro)\n    File \"C:\\Users\\rafae\\anaconda3\\envs\\tfgpu\\lib\\site-packages\\IPython\\core\\async_helpers.py\", line 129, in _pseudo_sync_runner\n      coro.send(None)\n    File \"C:\\Users\\rafae\\anaconda3\\envs\\tfgpu\\lib\\site-packages\\IPython\\core\\interactiveshell.py\", line 3135, in run_cell_async\n      has_raised = await self.run_ast_nodes(code_ast.body, cell_name,\n    File \"C:\\Users\\rafae\\anaconda3\\envs\\tfgpu\\lib\\site-packages\\IPython\\core\\interactiveshell.py\", line 3338, in run_ast_nodes\n      if await self.run_code(code, result, async_=asy):\n    File \"C:\\Users\\rafae\\anaconda3\\envs\\tfgpu\\lib\\site-packages\\IPython\\core\\interactiveshell.py\", line 3398, in run_code\n      exec(code_obj, self.user_global_ns, self.user_ns)\n    File \"C:\\Users\\rafae\\AppData\\Local\\Temp\\ipykernel_21784\\2235049216.py\", line 8, in <cell line: 8>\n      history = model.fit(train_dataset, validation_data=val_dataset, epochs= val_epochs, callbacks=[reduce_lr, early_stop])\n    File \"C:\\Users\\rafae\\anaconda3\\envs\\tfgpu\\lib\\site-packages\\keras\\utils\\traceback_utils.py\", line 65, in error_handler\n      return fn(*args, **kwargs)\n    File \"C:\\Users\\rafae\\anaconda3\\envs\\tfgpu\\lib\\site-packages\\keras\\engine\\training.py\", line 1564, in fit\n      tmp_logs = self.train_function(iterator)\n    File \"C:\\Users\\rafae\\anaconda3\\envs\\tfgpu\\lib\\site-packages\\keras\\engine\\training.py\", line 1160, in train_function\n      return step_function(self, iterator)\n    File \"C:\\Users\\rafae\\anaconda3\\envs\\tfgpu\\lib\\site-packages\\keras\\engine\\training.py\", line 1146, in step_function\n      outputs = model.distribute_strategy.run(run_step, args=(data,))\n    File \"C:\\Users\\rafae\\anaconda3\\envs\\tfgpu\\lib\\site-packages\\keras\\engine\\training.py\", line 1135, in run_step\n      outputs = model.train_step(data)\n    File \"C:\\Users\\rafae\\anaconda3\\envs\\tfgpu\\lib\\site-packages\\keras\\engine\\training.py\", line 994, in train_step\n      loss = self.compute_loss(x, y, y_pred, sample_weight)\n    File \"C:\\Users\\rafae\\anaconda3\\envs\\tfgpu\\lib\\site-packages\\keras\\engine\\training.py\", line 1052, in compute_loss\n      return self.compiled_loss(\n    File \"C:\\Users\\rafae\\anaconda3\\envs\\tfgpu\\lib\\site-packages\\keras\\engine\\compile_utils.py\", line 265, in __call__\n      loss_value = loss_obj(y_t, y_p, sample_weight=sw)\n    File \"C:\\Users\\rafae\\anaconda3\\envs\\tfgpu\\lib\\site-packages\\keras\\losses.py\", line 152, in __call__\n      losses = call_fn(y_true, y_pred)\n    File \"C:\\Users\\rafae\\anaconda3\\envs\\tfgpu\\lib\\site-packages\\keras\\losses.py\", line 272, in call\n      return ag_fn(y_true, y_pred, **self._fn_kwargs)\n    File \"C:\\Users\\rafae\\AppData\\Local\\Temp\\ipykernel_21784\\84088061.py\", line 38, in custom_loss\n      u, v = f(t, [Y1, Y2])\n    File \"C:\\Users\\rafae\\AppData\\Local\\Temp\\ipykernel_21784\\84088061.py\", line 24, in f\n      dX_dt = a1 / (1 + tf.math.pow(Y, n)) - d1 * X + b1\nNode: 'custom_loss/mul_2'\nDetected at node 'custom_loss/mul_2' defined at (most recent call last):\n    File \"C:\\Users\\rafae\\anaconda3\\envs\\tfgpu\\lib\\runpy.py\", line 197, in _run_module_as_main\n      return _run_code(code, main_globals, None,\n    File \"C:\\Users\\rafae\\anaconda3\\envs\\tfgpu\\lib\\runpy.py\", line 87, in _run_code\n      exec(code, run_globals)\n    File \"C:\\Users\\rafae\\anaconda3\\envs\\tfgpu\\lib\\site-packages\\ipykernel_launcher.py\", line 17, in <module>\n      app.launch_new_instance()\n    File \"C:\\Users\\rafae\\anaconda3\\envs\\tfgpu\\lib\\site-packages\\traitlets\\config\\application.py\", line 846, in launch_instance\n      app.start()\n    File \"C:\\Users\\rafae\\anaconda3\\envs\\tfgpu\\lib\\site-packages\\ipykernel\\kernelapp.py\", line 712, in start\n      self.io_loop.start()\n    File \"C:\\Users\\rafae\\anaconda3\\envs\\tfgpu\\lib\\site-packages\\tornado\\platform\\asyncio.py\", line 215, in start\n      self.asyncio_loop.run_forever()\n    File \"C:\\Users\\rafae\\anaconda3\\envs\\tfgpu\\lib\\asyncio\\base_events.py\", line 601, in run_forever\n      self._run_once()\n    File \"C:\\Users\\rafae\\anaconda3\\envs\\tfgpu\\lib\\asyncio\\base_events.py\", line 1905, in _run_once\n      handle._run()\n    File \"C:\\Users\\rafae\\anaconda3\\envs\\tfgpu\\lib\\asyncio\\events.py\", line 80, in _run\n      self._context.run(self._callback, *self._args)\n    File \"C:\\Users\\rafae\\anaconda3\\envs\\tfgpu\\lib\\site-packages\\ipykernel\\kernelbase.py\", line 510, in dispatch_queue\n      await self.process_one()\n    File \"C:\\Users\\rafae\\anaconda3\\envs\\tfgpu\\lib\\site-packages\\ipykernel\\kernelbase.py\", line 499, in process_one\n      await dispatch(*args)\n    File \"C:\\Users\\rafae\\anaconda3\\envs\\tfgpu\\lib\\site-packages\\ipykernel\\kernelbase.py\", line 406, in dispatch_shell\n      await result\n    File \"C:\\Users\\rafae\\anaconda3\\envs\\tfgpu\\lib\\site-packages\\ipykernel\\kernelbase.py\", line 730, in execute_request\n      reply_content = await reply_content\n    File \"C:\\Users\\rafae\\anaconda3\\envs\\tfgpu\\lib\\site-packages\\ipykernel\\ipkernel.py\", line 383, in do_execute\n      res = shell.run_cell(\n    File \"C:\\Users\\rafae\\anaconda3\\envs\\tfgpu\\lib\\site-packages\\ipykernel\\zmqshell.py\", line 528, in run_cell\n      return super().run_cell(*args, **kwargs)\n    File \"C:\\Users\\rafae\\anaconda3\\envs\\tfgpu\\lib\\site-packages\\IPython\\core\\interactiveshell.py\", line 2881, in run_cell\n      result = self._run_cell(\n    File \"C:\\Users\\rafae\\anaconda3\\envs\\tfgpu\\lib\\site-packages\\IPython\\core\\interactiveshell.py\", line 2936, in _run_cell\n      return runner(coro)\n    File \"C:\\Users\\rafae\\anaconda3\\envs\\tfgpu\\lib\\site-packages\\IPython\\core\\async_helpers.py\", line 129, in _pseudo_sync_runner\n      coro.send(None)\n    File \"C:\\Users\\rafae\\anaconda3\\envs\\tfgpu\\lib\\site-packages\\IPython\\core\\interactiveshell.py\", line 3135, in run_cell_async\n      has_raised = await self.run_ast_nodes(code_ast.body, cell_name,\n    File \"C:\\Users\\rafae\\anaconda3\\envs\\tfgpu\\lib\\site-packages\\IPython\\core\\interactiveshell.py\", line 3338, in run_ast_nodes\n      if await self.run_code(code, result, async_=asy):\n    File \"C:\\Users\\rafae\\anaconda3\\envs\\tfgpu\\lib\\site-packages\\IPython\\core\\interactiveshell.py\", line 3398, in run_code\n      exec(code_obj, self.user_global_ns, self.user_ns)\n    File \"C:\\Users\\rafae\\AppData\\Local\\Temp\\ipykernel_21784\\2235049216.py\", line 8, in <cell line: 8>\n      history = model.fit(train_dataset, validation_data=val_dataset, epochs= val_epochs, callbacks=[reduce_lr, early_stop])\n    File \"C:\\Users\\rafae\\anaconda3\\envs\\tfgpu\\lib\\site-packages\\keras\\utils\\traceback_utils.py\", line 65, in error_handler\n      return fn(*args, **kwargs)\n    File \"C:\\Users\\rafae\\anaconda3\\envs\\tfgpu\\lib\\site-packages\\keras\\engine\\training.py\", line 1564, in fit\n      tmp_logs = self.train_function(iterator)\n    File \"C:\\Users\\rafae\\anaconda3\\envs\\tfgpu\\lib\\site-packages\\keras\\engine\\training.py\", line 1160, in train_function\n      return step_function(self, iterator)\n    File \"C:\\Users\\rafae\\anaconda3\\envs\\tfgpu\\lib\\site-packages\\keras\\engine\\training.py\", line 1146, in step_function\n      outputs = model.distribute_strategy.run(run_step, args=(data,))\n    File \"C:\\Users\\rafae\\anaconda3\\envs\\tfgpu\\lib\\site-packages\\keras\\engine\\training.py\", line 1135, in run_step\n      outputs = model.train_step(data)\n    File \"C:\\Users\\rafae\\anaconda3\\envs\\tfgpu\\lib\\site-packages\\keras\\engine\\training.py\", line 994, in train_step\n      loss = self.compute_loss(x, y, y_pred, sample_weight)\n    File \"C:\\Users\\rafae\\anaconda3\\envs\\tfgpu\\lib\\site-packages\\keras\\engine\\training.py\", line 1052, in compute_loss\n      return self.compiled_loss(\n    File \"C:\\Users\\rafae\\anaconda3\\envs\\tfgpu\\lib\\site-packages\\keras\\engine\\compile_utils.py\", line 265, in __call__\n      loss_value = loss_obj(y_t, y_p, sample_weight=sw)\n    File \"C:\\Users\\rafae\\anaconda3\\envs\\tfgpu\\lib\\site-packages\\keras\\losses.py\", line 152, in __call__\n      losses = call_fn(y_true, y_pred)\n    File \"C:\\Users\\rafae\\anaconda3\\envs\\tfgpu\\lib\\site-packages\\keras\\losses.py\", line 272, in call\n      return ag_fn(y_true, y_pred, **self._fn_kwargs)\n    File \"C:\\Users\\rafae\\AppData\\Local\\Temp\\ipykernel_21784\\84088061.py\", line 38, in custom_loss\n      u, v = f(t, [Y1, Y2])\n    File \"C:\\Users\\rafae\\AppData\\Local\\Temp\\ipykernel_21784\\84088061.py\", line 24, in f\n      dX_dt = a1 / (1 + tf.math.pow(Y, n)) - d1 * X + b1\nNode: 'custom_loss/mul_2'\n2 root error(s) found.\n  (0) INVALID_ARGUMENT:  Incompatible shapes: [10] vs. [100,100]\n\t [[{{node custom_loss/mul_2}}]]\n\t [[gradient_tape/custom_loss/mul_4/Sum/_124]]\n  (1) INVALID_ARGUMENT:  Incompatible shapes: [10] vs. [100,100]\n\t [[{{node custom_loss/mul_2}}]]\n0 successful operations.\n0 derived errors ignored. [Op:__inference_train_function_4574]",
     "output_type": "error",
     "traceback": [
      "\u001b[1;31m---------------------------------------------------------------------------\u001b[0m",
      "\u001b[1;31mInvalidArgumentError\u001b[0m                      Traceback (most recent call last)",
      "Input \u001b[1;32mIn [36]\u001b[0m, in \u001b[0;36m<cell line: 8>\u001b[1;34m()\u001b[0m\n\u001b[0;32m      4\u001b[0m early_stop \u001b[38;5;241m=\u001b[39m tf\u001b[38;5;241m.\u001b[39mkeras\u001b[38;5;241m.\u001b[39mcallbacks\u001b[38;5;241m.\u001b[39mEarlyStopping( monitor \u001b[38;5;241m=\u001b[39m \u001b[38;5;124m'\u001b[39m\u001b[38;5;124mval_loss\u001b[39m\u001b[38;5;124m'\u001b[39m, patience \u001b[38;5;241m=\u001b[39m \u001b[38;5;241m800\u001b[39m,verbose \u001b[38;5;241m=\u001b[39m \u001b[38;5;241m1\u001b[39m, \n\u001b[0;32m      5\u001b[0m                                               restore_best_weights \u001b[38;5;241m=\u001b[39m \u001b[38;5;28;01mTrue\u001b[39;00m)\n\u001b[0;32m      7\u001b[0m reduce_lr \u001b[38;5;241m=\u001b[39m tf\u001b[38;5;241m.\u001b[39mkeras\u001b[38;5;241m.\u001b[39mcallbacks\u001b[38;5;241m.\u001b[39mLearningRateScheduler(scheduler)\n\u001b[1;32m----> 8\u001b[0m history \u001b[38;5;241m=\u001b[39m \u001b[43mmodel\u001b[49m\u001b[38;5;241;43m.\u001b[39;49m\u001b[43mfit\u001b[49m\u001b[43m(\u001b[49m\u001b[43mtrain_dataset\u001b[49m\u001b[43m,\u001b[49m\u001b[43m \u001b[49m\u001b[43mvalidation_data\u001b[49m\u001b[38;5;241;43m=\u001b[39;49m\u001b[43mval_dataset\u001b[49m\u001b[43m,\u001b[49m\u001b[43m \u001b[49m\u001b[43mepochs\u001b[49m\u001b[38;5;241;43m=\u001b[39;49m\u001b[43m \u001b[49m\u001b[43mval_epochs\u001b[49m\u001b[43m,\u001b[49m\u001b[43m \u001b[49m\u001b[43mcallbacks\u001b[49m\u001b[38;5;241;43m=\u001b[39;49m\u001b[43m[\u001b[49m\u001b[43mreduce_lr\u001b[49m\u001b[43m,\u001b[49m\u001b[43m \u001b[49m\u001b[43mearly_stop\u001b[49m\u001b[43m]\u001b[49m\u001b[43m)\u001b[49m\n",
      "File \u001b[1;32m~\\anaconda3\\envs\\tfgpu\\lib\\site-packages\\keras\\utils\\traceback_utils.py:70\u001b[0m, in \u001b[0;36mfilter_traceback.<locals>.error_handler\u001b[1;34m(*args, **kwargs)\u001b[0m\n\u001b[0;32m     67\u001b[0m     filtered_tb \u001b[38;5;241m=\u001b[39m _process_traceback_frames(e\u001b[38;5;241m.\u001b[39m__traceback__)\n\u001b[0;32m     68\u001b[0m     \u001b[38;5;66;03m# To get the full stack trace, call:\u001b[39;00m\n\u001b[0;32m     69\u001b[0m     \u001b[38;5;66;03m# `tf.debugging.disable_traceback_filtering()`\u001b[39;00m\n\u001b[1;32m---> 70\u001b[0m     \u001b[38;5;28;01mraise\u001b[39;00m e\u001b[38;5;241m.\u001b[39mwith_traceback(filtered_tb) \u001b[38;5;28;01mfrom\u001b[39;00m \u001b[38;5;28mNone\u001b[39m\n\u001b[0;32m     71\u001b[0m \u001b[38;5;28;01mfinally\u001b[39;00m:\n\u001b[0;32m     72\u001b[0m     \u001b[38;5;28;01mdel\u001b[39;00m filtered_tb\n",
      "File \u001b[1;32m~\\anaconda3\\envs\\tfgpu\\lib\\site-packages\\tensorflow\\python\\eager\\execute.py:54\u001b[0m, in \u001b[0;36mquick_execute\u001b[1;34m(op_name, num_outputs, inputs, attrs, ctx, name)\u001b[0m\n\u001b[0;32m     52\u001b[0m \u001b[38;5;28;01mtry\u001b[39;00m:\n\u001b[0;32m     53\u001b[0m   ctx\u001b[38;5;241m.\u001b[39mensure_initialized()\n\u001b[1;32m---> 54\u001b[0m   tensors \u001b[38;5;241m=\u001b[39m pywrap_tfe\u001b[38;5;241m.\u001b[39mTFE_Py_Execute(ctx\u001b[38;5;241m.\u001b[39m_handle, device_name, op_name,\n\u001b[0;32m     55\u001b[0m                                       inputs, attrs, num_outputs)\n\u001b[0;32m     56\u001b[0m \u001b[38;5;28;01mexcept\u001b[39;00m core\u001b[38;5;241m.\u001b[39m_NotOkStatusException \u001b[38;5;28;01mas\u001b[39;00m e:\n\u001b[0;32m     57\u001b[0m   \u001b[38;5;28;01mif\u001b[39;00m name \u001b[38;5;129;01mis\u001b[39;00m \u001b[38;5;129;01mnot\u001b[39;00m \u001b[38;5;28;01mNone\u001b[39;00m:\n",
      "\u001b[1;31mInvalidArgumentError\u001b[0m: Graph execution error:\n\nDetected at node 'custom_loss/mul_2' defined at (most recent call last):\n    File \"C:\\Users\\rafae\\anaconda3\\envs\\tfgpu\\lib\\runpy.py\", line 197, in _run_module_as_main\n      return _run_code(code, main_globals, None,\n    File \"C:\\Users\\rafae\\anaconda3\\envs\\tfgpu\\lib\\runpy.py\", line 87, in _run_code\n      exec(code, run_globals)\n    File \"C:\\Users\\rafae\\anaconda3\\envs\\tfgpu\\lib\\site-packages\\ipykernel_launcher.py\", line 17, in <module>\n      app.launch_new_instance()\n    File \"C:\\Users\\rafae\\anaconda3\\envs\\tfgpu\\lib\\site-packages\\traitlets\\config\\application.py\", line 846, in launch_instance\n      app.start()\n    File \"C:\\Users\\rafae\\anaconda3\\envs\\tfgpu\\lib\\site-packages\\ipykernel\\kernelapp.py\", line 712, in start\n      self.io_loop.start()\n    File \"C:\\Users\\rafae\\anaconda3\\envs\\tfgpu\\lib\\site-packages\\tornado\\platform\\asyncio.py\", line 215, in start\n      self.asyncio_loop.run_forever()\n    File \"C:\\Users\\rafae\\anaconda3\\envs\\tfgpu\\lib\\asyncio\\base_events.py\", line 601, in run_forever\n      self._run_once()\n    File \"C:\\Users\\rafae\\anaconda3\\envs\\tfgpu\\lib\\asyncio\\base_events.py\", line 1905, in _run_once\n      handle._run()\n    File \"C:\\Users\\rafae\\anaconda3\\envs\\tfgpu\\lib\\asyncio\\events.py\", line 80, in _run\n      self._context.run(self._callback, *self._args)\n    File \"C:\\Users\\rafae\\anaconda3\\envs\\tfgpu\\lib\\site-packages\\ipykernel\\kernelbase.py\", line 510, in dispatch_queue\n      await self.process_one()\n    File \"C:\\Users\\rafae\\anaconda3\\envs\\tfgpu\\lib\\site-packages\\ipykernel\\kernelbase.py\", line 499, in process_one\n      await dispatch(*args)\n    File \"C:\\Users\\rafae\\anaconda3\\envs\\tfgpu\\lib\\site-packages\\ipykernel\\kernelbase.py\", line 406, in dispatch_shell\n      await result\n    File \"C:\\Users\\rafae\\anaconda3\\envs\\tfgpu\\lib\\site-packages\\ipykernel\\kernelbase.py\", line 730, in execute_request\n      reply_content = await reply_content\n    File \"C:\\Users\\rafae\\anaconda3\\envs\\tfgpu\\lib\\site-packages\\ipykernel\\ipkernel.py\", line 383, in do_execute\n      res = shell.run_cell(\n    File \"C:\\Users\\rafae\\anaconda3\\envs\\tfgpu\\lib\\site-packages\\ipykernel\\zmqshell.py\", line 528, in run_cell\n      return super().run_cell(*args, **kwargs)\n    File \"C:\\Users\\rafae\\anaconda3\\envs\\tfgpu\\lib\\site-packages\\IPython\\core\\interactiveshell.py\", line 2881, in run_cell\n      result = self._run_cell(\n    File \"C:\\Users\\rafae\\anaconda3\\envs\\tfgpu\\lib\\site-packages\\IPython\\core\\interactiveshell.py\", line 2936, in _run_cell\n      return runner(coro)\n    File \"C:\\Users\\rafae\\anaconda3\\envs\\tfgpu\\lib\\site-packages\\IPython\\core\\async_helpers.py\", line 129, in _pseudo_sync_runner\n      coro.send(None)\n    File \"C:\\Users\\rafae\\anaconda3\\envs\\tfgpu\\lib\\site-packages\\IPython\\core\\interactiveshell.py\", line 3135, in run_cell_async\n      has_raised = await self.run_ast_nodes(code_ast.body, cell_name,\n    File \"C:\\Users\\rafae\\anaconda3\\envs\\tfgpu\\lib\\site-packages\\IPython\\core\\interactiveshell.py\", line 3338, in run_ast_nodes\n      if await self.run_code(code, result, async_=asy):\n    File \"C:\\Users\\rafae\\anaconda3\\envs\\tfgpu\\lib\\site-packages\\IPython\\core\\interactiveshell.py\", line 3398, in run_code\n      exec(code_obj, self.user_global_ns, self.user_ns)\n    File \"C:\\Users\\rafae\\AppData\\Local\\Temp\\ipykernel_21784\\2235049216.py\", line 8, in <cell line: 8>\n      history = model.fit(train_dataset, validation_data=val_dataset, epochs= val_epochs, callbacks=[reduce_lr, early_stop])\n    File \"C:\\Users\\rafae\\anaconda3\\envs\\tfgpu\\lib\\site-packages\\keras\\utils\\traceback_utils.py\", line 65, in error_handler\n      return fn(*args, **kwargs)\n    File \"C:\\Users\\rafae\\anaconda3\\envs\\tfgpu\\lib\\site-packages\\keras\\engine\\training.py\", line 1564, in fit\n      tmp_logs = self.train_function(iterator)\n    File \"C:\\Users\\rafae\\anaconda3\\envs\\tfgpu\\lib\\site-packages\\keras\\engine\\training.py\", line 1160, in train_function\n      return step_function(self, iterator)\n    File \"C:\\Users\\rafae\\anaconda3\\envs\\tfgpu\\lib\\site-packages\\keras\\engine\\training.py\", line 1146, in step_function\n      outputs = model.distribute_strategy.run(run_step, args=(data,))\n    File \"C:\\Users\\rafae\\anaconda3\\envs\\tfgpu\\lib\\site-packages\\keras\\engine\\training.py\", line 1135, in run_step\n      outputs = model.train_step(data)\n    File \"C:\\Users\\rafae\\anaconda3\\envs\\tfgpu\\lib\\site-packages\\keras\\engine\\training.py\", line 994, in train_step\n      loss = self.compute_loss(x, y, y_pred, sample_weight)\n    File \"C:\\Users\\rafae\\anaconda3\\envs\\tfgpu\\lib\\site-packages\\keras\\engine\\training.py\", line 1052, in compute_loss\n      return self.compiled_loss(\n    File \"C:\\Users\\rafae\\anaconda3\\envs\\tfgpu\\lib\\site-packages\\keras\\engine\\compile_utils.py\", line 265, in __call__\n      loss_value = loss_obj(y_t, y_p, sample_weight=sw)\n    File \"C:\\Users\\rafae\\anaconda3\\envs\\tfgpu\\lib\\site-packages\\keras\\losses.py\", line 152, in __call__\n      losses = call_fn(y_true, y_pred)\n    File \"C:\\Users\\rafae\\anaconda3\\envs\\tfgpu\\lib\\site-packages\\keras\\losses.py\", line 272, in call\n      return ag_fn(y_true, y_pred, **self._fn_kwargs)\n    File \"C:\\Users\\rafae\\AppData\\Local\\Temp\\ipykernel_21784\\84088061.py\", line 38, in custom_loss\n      u, v = f(t, [Y1, Y2])\n    File \"C:\\Users\\rafae\\AppData\\Local\\Temp\\ipykernel_21784\\84088061.py\", line 24, in f\n      dX_dt = a1 / (1 + tf.math.pow(Y, n)) - d1 * X + b1\nNode: 'custom_loss/mul_2'\nDetected at node 'custom_loss/mul_2' defined at (most recent call last):\n    File \"C:\\Users\\rafae\\anaconda3\\envs\\tfgpu\\lib\\runpy.py\", line 197, in _run_module_as_main\n      return _run_code(code, main_globals, None,\n    File \"C:\\Users\\rafae\\anaconda3\\envs\\tfgpu\\lib\\runpy.py\", line 87, in _run_code\n      exec(code, run_globals)\n    File \"C:\\Users\\rafae\\anaconda3\\envs\\tfgpu\\lib\\site-packages\\ipykernel_launcher.py\", line 17, in <module>\n      app.launch_new_instance()\n    File \"C:\\Users\\rafae\\anaconda3\\envs\\tfgpu\\lib\\site-packages\\traitlets\\config\\application.py\", line 846, in launch_instance\n      app.start()\n    File \"C:\\Users\\rafae\\anaconda3\\envs\\tfgpu\\lib\\site-packages\\ipykernel\\kernelapp.py\", line 712, in start\n      self.io_loop.start()\n    File \"C:\\Users\\rafae\\anaconda3\\envs\\tfgpu\\lib\\site-packages\\tornado\\platform\\asyncio.py\", line 215, in start\n      self.asyncio_loop.run_forever()\n    File \"C:\\Users\\rafae\\anaconda3\\envs\\tfgpu\\lib\\asyncio\\base_events.py\", line 601, in run_forever\n      self._run_once()\n    File \"C:\\Users\\rafae\\anaconda3\\envs\\tfgpu\\lib\\asyncio\\base_events.py\", line 1905, in _run_once\n      handle._run()\n    File \"C:\\Users\\rafae\\anaconda3\\envs\\tfgpu\\lib\\asyncio\\events.py\", line 80, in _run\n      self._context.run(self._callback, *self._args)\n    File \"C:\\Users\\rafae\\anaconda3\\envs\\tfgpu\\lib\\site-packages\\ipykernel\\kernelbase.py\", line 510, in dispatch_queue\n      await self.process_one()\n    File \"C:\\Users\\rafae\\anaconda3\\envs\\tfgpu\\lib\\site-packages\\ipykernel\\kernelbase.py\", line 499, in process_one\n      await dispatch(*args)\n    File \"C:\\Users\\rafae\\anaconda3\\envs\\tfgpu\\lib\\site-packages\\ipykernel\\kernelbase.py\", line 406, in dispatch_shell\n      await result\n    File \"C:\\Users\\rafae\\anaconda3\\envs\\tfgpu\\lib\\site-packages\\ipykernel\\kernelbase.py\", line 730, in execute_request\n      reply_content = await reply_content\n    File \"C:\\Users\\rafae\\anaconda3\\envs\\tfgpu\\lib\\site-packages\\ipykernel\\ipkernel.py\", line 383, in do_execute\n      res = shell.run_cell(\n    File \"C:\\Users\\rafae\\anaconda3\\envs\\tfgpu\\lib\\site-packages\\ipykernel\\zmqshell.py\", line 528, in run_cell\n      return super().run_cell(*args, **kwargs)\n    File \"C:\\Users\\rafae\\anaconda3\\envs\\tfgpu\\lib\\site-packages\\IPython\\core\\interactiveshell.py\", line 2881, in run_cell\n      result = self._run_cell(\n    File \"C:\\Users\\rafae\\anaconda3\\envs\\tfgpu\\lib\\site-packages\\IPython\\core\\interactiveshell.py\", line 2936, in _run_cell\n      return runner(coro)\n    File \"C:\\Users\\rafae\\anaconda3\\envs\\tfgpu\\lib\\site-packages\\IPython\\core\\async_helpers.py\", line 129, in _pseudo_sync_runner\n      coro.send(None)\n    File \"C:\\Users\\rafae\\anaconda3\\envs\\tfgpu\\lib\\site-packages\\IPython\\core\\interactiveshell.py\", line 3135, in run_cell_async\n      has_raised = await self.run_ast_nodes(code_ast.body, cell_name,\n    File \"C:\\Users\\rafae\\anaconda3\\envs\\tfgpu\\lib\\site-packages\\IPython\\core\\interactiveshell.py\", line 3338, in run_ast_nodes\n      if await self.run_code(code, result, async_=asy):\n    File \"C:\\Users\\rafae\\anaconda3\\envs\\tfgpu\\lib\\site-packages\\IPython\\core\\interactiveshell.py\", line 3398, in run_code\n      exec(code_obj, self.user_global_ns, self.user_ns)\n    File \"C:\\Users\\rafae\\AppData\\Local\\Temp\\ipykernel_21784\\2235049216.py\", line 8, in <cell line: 8>\n      history = model.fit(train_dataset, validation_data=val_dataset, epochs= val_epochs, callbacks=[reduce_lr, early_stop])\n    File \"C:\\Users\\rafae\\anaconda3\\envs\\tfgpu\\lib\\site-packages\\keras\\utils\\traceback_utils.py\", line 65, in error_handler\n      return fn(*args, **kwargs)\n    File \"C:\\Users\\rafae\\anaconda3\\envs\\tfgpu\\lib\\site-packages\\keras\\engine\\training.py\", line 1564, in fit\n      tmp_logs = self.train_function(iterator)\n    File \"C:\\Users\\rafae\\anaconda3\\envs\\tfgpu\\lib\\site-packages\\keras\\engine\\training.py\", line 1160, in train_function\n      return step_function(self, iterator)\n    File \"C:\\Users\\rafae\\anaconda3\\envs\\tfgpu\\lib\\site-packages\\keras\\engine\\training.py\", line 1146, in step_function\n      outputs = model.distribute_strategy.run(run_step, args=(data,))\n    File \"C:\\Users\\rafae\\anaconda3\\envs\\tfgpu\\lib\\site-packages\\keras\\engine\\training.py\", line 1135, in run_step\n      outputs = model.train_step(data)\n    File \"C:\\Users\\rafae\\anaconda3\\envs\\tfgpu\\lib\\site-packages\\keras\\engine\\training.py\", line 994, in train_step\n      loss = self.compute_loss(x, y, y_pred, sample_weight)\n    File \"C:\\Users\\rafae\\anaconda3\\envs\\tfgpu\\lib\\site-packages\\keras\\engine\\training.py\", line 1052, in compute_loss\n      return self.compiled_loss(\n    File \"C:\\Users\\rafae\\anaconda3\\envs\\tfgpu\\lib\\site-packages\\keras\\engine\\compile_utils.py\", line 265, in __call__\n      loss_value = loss_obj(y_t, y_p, sample_weight=sw)\n    File \"C:\\Users\\rafae\\anaconda3\\envs\\tfgpu\\lib\\site-packages\\keras\\losses.py\", line 152, in __call__\n      losses = call_fn(y_true, y_pred)\n    File \"C:\\Users\\rafae\\anaconda3\\envs\\tfgpu\\lib\\site-packages\\keras\\losses.py\", line 272, in call\n      return ag_fn(y_true, y_pred, **self._fn_kwargs)\n    File \"C:\\Users\\rafae\\AppData\\Local\\Temp\\ipykernel_21784\\84088061.py\", line 38, in custom_loss\n      u, v = f(t, [Y1, Y2])\n    File \"C:\\Users\\rafae\\AppData\\Local\\Temp\\ipykernel_21784\\84088061.py\", line 24, in f\n      dX_dt = a1 / (1 + tf.math.pow(Y, n)) - d1 * X + b1\nNode: 'custom_loss/mul_2'\n2 root error(s) found.\n  (0) INVALID_ARGUMENT:  Incompatible shapes: [10] vs. [100,100]\n\t [[{{node custom_loss/mul_2}}]]\n\t [[gradient_tape/custom_loss/mul_4/Sum/_124]]\n  (1) INVALID_ARGUMENT:  Incompatible shapes: [10] vs. [100,100]\n\t [[{{node custom_loss/mul_2}}]]\n0 successful operations.\n0 derived errors ignored. [Op:__inference_train_function_4574]"
     ]
    }
   ],
   "source": [
    "val_epochs = 100\n",
    "tf.compat.v1.global_variables_initializer()\n",
    "\n",
    "early_stop = tf.keras.callbacks.EarlyStopping( monitor = 'val_loss', patience = 800,verbose = 1, \n",
    "                                              restore_best_weights = True)\n",
    "\n",
    "reduce_lr = tf.keras.callbacks.LearningRateScheduler(scheduler)\n",
    "history = model.fit(train_dataset, validation_data=val_dataset, epochs= val_epochs, callbacks=[reduce_lr, early_stop])"
   ]
  },
  {
   "cell_type": "markdown",
   "id": "7b9d5d5d",
   "metadata": {},
   "source": [
    "# Analizamos accuracy y loss"
   ]
  },
  {
   "cell_type": "code",
   "execution_count": null,
   "id": "c2c35f5e",
   "metadata": {
    "ExecuteTime": {
     "end_time": "2023-03-15T03:02:07.448382Z",
     "start_time": "2023-03-15T03:02:07.305388Z"
    }
   },
   "outputs": [],
   "source": [
    "acc = history.history['accuracy']\n",
    "val_acc = history.history['val_accuracy']\n",
    "\n",
    "loss = history.history['loss']\n",
    "val_loss = history.history['val_loss']\n",
    "\n",
    "epochs_range = range(val_epochs)\n",
    "\n",
    "plt.figure(figsize=(8, 8))\n",
    "plt.subplot(1, 2, 1)\n",
    "plt.plot(epochs_range, acc, label='Training Accuracy')\n",
    "plt.plot(epochs_range, val_acc, label='Validation Accuracy')\n",
    "plt.legend(loc='lower right')\n",
    "plt.title('Training and Validation Accuracy')\n",
    "\n",
    "plt.subplot(1, 2, 2)\n",
    "plt.plot(epochs_range, loss, label='Training Loss')\n",
    "plt.plot(epochs_range, val_loss, label='Validation Loss')\n",
    "plt.legend(loc='upper right')\n",
    "plt.title('Training and Validation Loss')\n",
    "plt.show()"
   ]
  },
  {
   "cell_type": "markdown",
   "id": "e1af1d19",
   "metadata": {},
   "source": [
    "# Guardamos el modelo"
   ]
  },
  {
   "cell_type": "code",
   "execution_count": null,
   "id": "3a346828",
   "metadata": {
    "ExecuteTime": {
     "end_time": "2023-03-15T03:02:11.545082Z",
     "start_time": "2023-03-15T03:02:11.530534Z"
    }
   },
   "outputs": [],
   "source": [
    "path_to_save = 'D:/Documentos de trabajo/Maestría/Tesis Maestría/Trabajo Python Tesis/Github Tesis/Modelos'"
   ]
  },
  {
   "cell_type": "code",
   "execution_count": null,
   "id": "8e86a52a",
   "metadata": {
    "ExecuteTime": {
     "end_time": "2023-03-15T03:02:11.959719Z",
     "start_time": "2023-03-15T03:02:11.886380Z"
    }
   },
   "outputs": [],
   "source": [
    "model.save(path_to_save + '/campovectorial.h5')"
   ]
  },
  {
   "cell_type": "code",
   "execution_count": null,
   "id": "c9e1fb0a",
   "metadata": {
    "ExecuteTime": {
     "end_time": "2023-03-15T03:06:06.509671Z",
     "start_time": "2023-03-15T03:06:06.493747Z"
    }
   },
   "outputs": [],
   "source": [
    "keras.experimental.export_saved_model(model, path_to_save + 'prueba')"
   ]
  },
  {
   "cell_type": "markdown",
   "id": "efc9d48d",
   "metadata": {},
   "source": [
    "# Importamos el modelo"
   ]
  },
  {
   "cell_type": "code",
   "execution_count": null,
   "id": "d1d4a1a9",
   "metadata": {
    "ExecuteTime": {
     "end_time": "2023-03-15T03:02:12.506142Z",
     "start_time": "2023-03-15T03:02:12.361786Z"
    }
   },
   "outputs": [],
   "source": [
    "new_model = keras.models.load_model('../Modelos/campovectorial.h5')"
   ]
  },
  {
   "cell_type": "code",
   "execution_count": null,
   "id": "81bec15d",
   "metadata": {},
   "outputs": [],
   "source": [
    "new_model = keras.experimental.load_from_saved_model('../Modelos/prueba')\n"
   ]
  },
  {
   "cell_type": "markdown",
   "id": "7f6d0ea9",
   "metadata": {},
   "source": [
    "# Probamos el modelo con datos nuevos"
   ]
  },
  {
   "cell_type": "markdown",
   "id": "6ad7f37d",
   "metadata": {},
   "source": [
    "## Creamos nuevos datos"
   ]
  },
  {
   "cell_type": "code",
   "execution_count": null,
   "id": "b664f200",
   "metadata": {
    "ExecuteTime": {
     "end_time": "2023-03-15T03:10:30.686666Z",
     "start_time": "2023-03-15T03:10:30.398694Z"
    }
   },
   "outputs": [],
   "source": [
    "import random\n",
    "from scipy.integrate import solve_ivp\n",
    "\n",
    "campvec = []\n",
    "coef = []\n",
    "contador = 0\n",
    "for i in range(0, 1):\n",
    "    # constantes\n",
    "    a1 = random.randint(0, 10)\n",
    "    a2 = random.randint(0, 10)\n",
    "    b1 = random.randint(0, 10)\n",
    "    b2 = random.randint(0, 10)\n",
    "    d1 = random.randint(0, 10)\n",
    "    d2 = random.randint(0, 10)\n",
    "    n = random.randint(0, 5)\n",
    "\n",
    "    coef1 = [a1, a2, b1, b2, d1, d2, n]\n",
    "    coef.append(coef1)\n",
    "\n",
    "    def f(t, y):\n",
    "\n",
    "        # asignar a cada ODE a un elemento de vector\n",
    "        X = y[0]\n",
    "        Y = y[1]\n",
    "\n",
    "        # definimos cada ODE\n",
    "        # dX_dt=a1/(1+Y**n)-d1*X+b1\n",
    "        # dY_dt=a2/(1+X**n)-d2*Y+b2\n",
    "        dX_dt = a1/(1+Y**n)-d1*X+b1\n",
    "        dY_dt = a2/(1+X**n)-d2*Y+b1\n",
    "\n",
    "        return [dX_dt, dY_dt]\n",
    "\n",
    "    x_range_neg = 0\n",
    "    x_range_pos = 50\n",
    "    y_range_neg = 0\n",
    "    y_range_pos =50\n",
    "\n",
    "    y1 = np.linspace(x_range_neg, x_range_pos, 100)\n",
    "    y2 = np.linspace(y_range_neg, y_range_pos, 100)\n",
    "\n",
    "    Y1, Y2 = np.meshgrid(y1, y2)\n",
    "    \n",
    "    t1 = 0\n",
    "\n",
    "    u, v = np.zeros(Y1.shape), np.zeros(Y2.shape)\n",
    "\n",
    "    NI, NJ = Y1.shape\n",
    "\n",
    "    u1, v1 = f(t1, [Y1, Y2])\n",
    "    u, v = f(t1, [Y1, Y2])\n",
    "    M = (np.hypot(u, v))\n",
    "    u /= M\n",
    "    v /= M\n",
    "\n",
    "    campvecci = np.append([u1], [v1], axis=0)\n",
    "\n",
    "    campvec = campvecci\n",
    "    print('--------------------------------------------')\n",
    "    print(coef1)\n",
    "    contador = contador+1\n",
    "    print(contador)\n",
    "    \n",
    "campvec = np.array(campvec)\n",
    "coef = np.array(coef)\n"
   ]
  },
  {
   "cell_type": "code",
   "execution_count": null,
   "id": "ffbe4d61",
   "metadata": {
    "ExecuteTime": {
     "end_time": "2023-03-15T03:10:31.226657Z",
     "start_time": "2023-03-15T03:10:31.216173Z"
    }
   },
   "outputs": [],
   "source": [
    "campvecnone = campvec[None, :]"
   ]
  },
  {
   "cell_type": "markdown",
   "id": "4ea4942b",
   "metadata": {},
   "source": [
    "## Predecimos con los datos nuevos"
   ]
  },
  {
   "cell_type": "code",
   "execution_count": null,
   "id": "37dce68f",
   "metadata": {
    "ExecuteTime": {
     "end_time": "2023-03-09T05:49:26.378401Z",
     "start_time": "2023-03-09T05:49:26.328318Z"
    }
   },
   "outputs": [],
   "source": [
    "new_predictions = new_model.predict(campvecnone)\n",
    "print(new_predictions)"
   ]
  },
  {
   "cell_type": "code",
   "execution_count": null,
   "id": "ea2ab8b2",
   "metadata": {
    "ExecuteTime": {
     "end_time": "2023-03-15T03:11:36.094704Z",
     "start_time": "2023-03-15T03:11:36.051747Z"
    }
   },
   "outputs": [],
   "source": [
    "new_predictions = (model.predict(campvecnone))\n",
    "print(new_predictions)\n"
   ]
  },
  {
   "cell_type": "markdown",
   "id": "06c64a67",
   "metadata": {},
   "source": [
    "## Graficamos con los coeficientes reales"
   ]
  },
  {
   "cell_type": "code",
   "execution_count": null,
   "id": "930a1b59",
   "metadata": {
    "ExecuteTime": {
     "end_time": "2023-03-15T03:11:39.505708Z",
     "start_time": "2023-03-15T03:11:39.275610Z"
    }
   },
   "outputs": [],
   "source": [
    "y1 = np.linspace(0, 50, 100)\n",
    "y2 = np.linspace(0, 50, 100)\n",
    "Y1, Y2 = np.meshgrid(y1, y2)\n",
    "t1 = 0\n",
    "u, v = np.zeros(Y1.shape), np.zeros(Y2.shape)\n",
    "NI, NJ = Y1.shape        \n",
    "u,v = np.array(campvec)[0,:,:], np.array(campvec)[1,:,:]\n",
    "M = (np.hypot(u,v))\n",
    "u /= M\n",
    "v /= M\n",
    "\n",
    "plt.figure(figsize=(10,10))\n",
    "Q = plt.quiver(Y1, Y2, u, v, M, angles='xy')\n",
    "plt.title('Campo vectorial espacio fase Toggle Swich', fontsize=20)\n",
    "plt.xlim([0, 50])\n",
    "plt.ylim([0, 50])\n",
    "plt.xlabel('Concentración X')\n",
    "plt.ylabel('Concentración Y')"
   ]
  },
  {
   "cell_type": "code",
   "execution_count": null,
   "id": "be8f3283",
   "metadata": {
    "ExecuteTime": {
     "end_time": "2023-03-15T03:11:42.843572Z",
     "start_time": "2023-03-15T03:11:42.828689Z"
    }
   },
   "outputs": [],
   "source": [
    "np.shape(new_predictions)"
   ]
  },
  {
   "cell_type": "markdown",
   "id": "beb6126d",
   "metadata": {},
   "source": [
    "## Graficamos con los coeficientes predecidos"
   ]
  },
  {
   "cell_type": "code",
   "execution_count": null,
   "id": "84ae10b1",
   "metadata": {
    "ExecuteTime": {
     "end_time": "2023-03-15T03:11:43.901700Z",
     "start_time": "2023-03-15T03:11:43.548508Z"
    }
   },
   "outputs": [],
   "source": [
    "a1 = new_predictions[0,0]\n",
    "a2 = new_predictions[0,1]\n",
    "b1 = new_predictions[0,2]\n",
    "b2 = new_predictions[0,3]\n",
    "d1 = new_predictions[0,4]\n",
    "d2 = new_predictions[0,5]\n",
    "n = new_predictions[0,6]\n",
    " \n",
    "def f(t, y):\n",
    "\n",
    "    # asignar a cada ODE a un elemento de vector\n",
    "    X = y[0]\n",
    "    Y = y[1]\n",
    "\n",
    "    # definimos cada ODE\n",
    "    dX_dt = a1/(1+Y**n)-d1*X+b1\n",
    "    dY_dt = a2/(1+X**n)-d2*Y+b1\n",
    "\n",
    "    return [dX_dt, dY_dt]\n",
    "\n",
    "x_range_neg = 0\n",
    "x_range_pos = 50\n",
    "y_range_neg = 0\n",
    "y_range_pos =50\n",
    "\n",
    "y1 = np.linspace(x_range_neg, x_range_pos, 100)\n",
    "y2 = np.linspace(y_range_neg, y_range_pos, 100)\n",
    "\n",
    "Y1, Y2 = np.meshgrid(y1, y2)\n",
    "    \n",
    "t1 = 0\n",
    "\n",
    "u, v = np.zeros(Y1.shape), np.zeros(Y2.shape)\n",
    "\n",
    "NI, NJ = Y1.shape\n",
    "\n",
    "u1, v1 = f(t1, [Y1, Y2])\n",
    "u, v = f(t1, [Y1, Y2])\n",
    "M = (np.hypot(u, v))\n",
    "u /= M\n",
    "v /= M\n",
    "    \n",
    "plt.figure(figsize=(10, 10))\n",
    "Q = plt.quiver(Y1, Y2, u, v, M, angles='xy')\n",
    "plt.title('Campo vectorial espacio fase Toggle Swich', fontsize=20)\n",
    "plt.xlim([x_range_neg, x_range_pos])\n",
    "plt.ylim([y_range_neg, y_range_pos])\n",
    "plt.xlabel('Concentración X')\n",
    "plt.ylabel('Concentración Y')"
   ]
  },
  {
   "cell_type": "code",
   "execution_count": null,
   "id": "7cf6dd9e",
   "metadata": {
    "ExecuteTime": {
     "end_time": "2023-02-14T04:33:26.760800Z",
     "start_time": "2023-02-14T04:33:26.748800Z"
    }
   },
   "outputs": [],
   "source": []
  },
  {
   "cell_type": "code",
   "execution_count": null,
   "id": "47613fd5",
   "metadata": {},
   "outputs": [],
   "source": []
  },
  {
   "cell_type": "code",
   "execution_count": null,
   "id": "b214083e",
   "metadata": {},
   "outputs": [],
   "source": []
  }
 ],
 "metadata": {
  "hide_input": false,
  "kernelspec": {
   "display_name": "Python 3 (ipykernel)",
   "language": "python",
   "name": "python3"
  },
  "language_info": {
   "codemirror_mode": {
    "name": "ipython",
    "version": 3
   },
   "file_extension": ".py",
   "mimetype": "text/x-python",
   "name": "python",
   "nbconvert_exporter": "python",
   "pygments_lexer": "ipython3",
   "version": "3.9.13"
  },
  "toc": {
   "base_numbering": 1,
   "nav_menu": {},
   "number_sections": true,
   "sideBar": true,
   "skip_h1_title": false,
   "title_cell": "Table of Contents",
   "title_sidebar": "Contents",
   "toc_cell": false,
   "toc_position": {},
   "toc_section_display": true,
   "toc_window_display": false
  },
  "varInspector": {
   "cols": {
    "lenName": 16,
    "lenType": 16,
    "lenVar": 40
   },
   "kernels_config": {
    "python": {
     "delete_cmd_postfix": "",
     "delete_cmd_prefix": "del ",
     "library": "var_list.py",
     "varRefreshCmd": "print(var_dic_list())"
    },
    "r": {
     "delete_cmd_postfix": ") ",
     "delete_cmd_prefix": "rm(",
     "library": "var_list.r",
     "varRefreshCmd": "cat(var_dic_list()) "
    }
   },
   "types_to_exclude": [
    "module",
    "function",
    "builtin_function_or_method",
    "instance",
    "_Feature"
   ],
   "window_display": false
  }
 },
 "nbformat": 4,
 "nbformat_minor": 5
}
