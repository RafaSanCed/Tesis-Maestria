{
 "cells": [
  {
   "cell_type": "markdown",
   "id": "0067cad0",
   "metadata": {},
   "source": [
    "# Importamos librerías"
   ]
  },
  {
   "cell_type": "code",
   "execution_count": 1,
   "id": "b2d4f30f",
   "metadata": {
    "ExecuteTime": {
     "end_time": "2023-03-17T01:28:48.350428Z",
     "start_time": "2023-03-17T01:28:38.775736Z"
    }
   },
   "outputs": [],
   "source": [
    "import tensorflow as tf\n",
    "import pathlib\n",
    "import os\n",
    "import matplotlib.pyplot as plt\n",
    "import pandas as pd\n",
    "import numpy as np\n",
    "import keras"
   ]
  },
  {
   "cell_type": "code",
   "execution_count": 2,
   "id": "20fccfc6",
   "metadata": {
    "ExecuteTime": {
     "end_time": "2023-03-17T01:28:48.385214Z",
     "start_time": "2023-03-17T01:28:48.368614Z"
    }
   },
   "outputs": [],
   "source": [
    "from tensorflow.keras import Sequential\n",
    "from tensorflow.keras.layers import Dense\n",
    "from tensorflow.keras.layers import Flatten\n",
    "from tensorflow.keras.layers import Dropout, BatchNormalization"
   ]
  },
  {
   "cell_type": "code",
   "execution_count": 3,
   "id": "1c769735",
   "metadata": {
    "ExecuteTime": {
     "end_time": "2023-03-17T01:28:48.447003Z",
     "start_time": "2023-03-17T01:28:48.417672Z"
    }
   },
   "outputs": [
    {
     "name": "stdout",
     "output_type": "stream",
     "text": [
      "WARNING:tensorflow:From C:\\Users\\Rafa\\AppData\\Local\\Temp\\ipykernel_5640\\337460670.py:1: is_gpu_available (from tensorflow.python.framework.test_util) is deprecated and will be removed in a future version.\n",
      "Instructions for updating:\n",
      "Use `tf.config.list_physical_devices('GPU')` instead.\n"
     ]
    },
    {
     "data": {
      "text/plain": [
       "False"
      ]
     },
     "execution_count": 3,
     "metadata": {},
     "output_type": "execute_result"
    }
   ],
   "source": [
    "tf.test.is_gpu_available()"
   ]
  },
  {
   "cell_type": "markdown",
   "id": "d94b2fbd",
   "metadata": {},
   "source": [
    "# Importamos los datos"
   ]
  },
  {
   "cell_type": "code",
   "execution_count": 4,
   "id": "2cdd79aa",
   "metadata": {
    "ExecuteTime": {
     "end_time": "2023-03-17T01:28:48.478094Z",
     "start_time": "2023-03-17T01:28:48.468089Z"
    }
   },
   "outputs": [],
   "source": [
    "path = 'E:\\Documentos de trabajo\\Maestría\\Tesis Maestria\\Tesis-Maestría-Github\\Base de datos'"
   ]
  },
  {
   "cell_type": "markdown",
   "id": "39beab0c",
   "metadata": {},
   "source": [
    "## Datos de entrenamiento"
   ]
  },
  {
   "cell_type": "markdown",
   "id": "ca636b58",
   "metadata": {},
   "source": [
    "### Datos"
   ]
  },
  {
   "cell_type": "code",
   "execution_count": 5,
   "id": "ac8ee3cc",
   "metadata": {
    "ExecuteTime": {
     "end_time": "2023-03-17T01:28:56.807921Z",
     "start_time": "2023-03-17T01:28:48.514617Z"
    }
   },
   "outputs": [],
   "source": [
    "campvectrain = np.load(path + '/campvectrain.npy')"
   ]
  },
  {
   "cell_type": "code",
   "execution_count": 6,
   "id": "a2977931",
   "metadata": {
    "ExecuteTime": {
     "end_time": "2023-03-17T01:28:56.856282Z",
     "start_time": "2023-03-17T01:28:56.840547Z"
    }
   },
   "outputs": [
    {
     "data": {
      "text/plain": [
       "(7000, 2, 100, 100)"
      ]
     },
     "execution_count": 6,
     "metadata": {},
     "output_type": "execute_result"
    }
   ],
   "source": [
    "np.shape(campvectrain)"
   ]
  },
  {
   "cell_type": "markdown",
   "id": "4a0e5fa2",
   "metadata": {},
   "source": [
    "### Coeficientes"
   ]
  },
  {
   "cell_type": "code",
   "execution_count": 7,
   "id": "45e5d25a",
   "metadata": {
    "ExecuteTime": {
     "end_time": "2023-03-17T01:28:56.927299Z",
     "start_time": "2023-03-17T01:28:56.897811Z"
    }
   },
   "outputs": [],
   "source": [
    "coefcampvectrain = np.load(path + '/coefcampvectrain.npy')"
   ]
  },
  {
   "cell_type": "code",
   "execution_count": 8,
   "id": "88f0323d",
   "metadata": {
    "ExecuteTime": {
     "end_time": "2023-03-17T01:28:56.969068Z",
     "start_time": "2023-03-17T01:28:56.961064Z"
    }
   },
   "outputs": [
    {
     "data": {
      "text/plain": [
       "(7000, 7)"
      ]
     },
     "execution_count": 8,
     "metadata": {},
     "output_type": "execute_result"
    }
   ],
   "source": [
    "np.shape(coefcampvectrain)"
   ]
  },
  {
   "cell_type": "markdown",
   "id": "c89d3216",
   "metadata": {},
   "source": [
    "## Datos de prueba"
   ]
  },
  {
   "cell_type": "markdown",
   "id": "df843cea",
   "metadata": {},
   "source": [
    "### Datos"
   ]
  },
  {
   "cell_type": "code",
   "execution_count": 9,
   "id": "74030537",
   "metadata": {
    "ExecuteTime": {
     "end_time": "2023-03-17T01:28:59.286346Z",
     "start_time": "2023-03-17T01:28:57.001109Z"
    }
   },
   "outputs": [],
   "source": [
    "campvectest = np.load(path + '/campvectest.npy')"
   ]
  },
  {
   "cell_type": "code",
   "execution_count": 10,
   "id": "d6196850",
   "metadata": {
    "ExecuteTime": {
     "end_time": "2023-03-17T01:28:59.354086Z",
     "start_time": "2023-03-17T01:28:59.337749Z"
    }
   },
   "outputs": [
    {
     "data": {
      "text/plain": [
       "(2000, 2, 100, 100)"
      ]
     },
     "execution_count": 10,
     "metadata": {},
     "output_type": "execute_result"
    }
   ],
   "source": [
    "np.shape(campvectest)"
   ]
  },
  {
   "cell_type": "markdown",
   "id": "46a3e36d",
   "metadata": {},
   "source": [
    "### Coeficientes"
   ]
  },
  {
   "cell_type": "code",
   "execution_count": 11,
   "id": "cf22c486",
   "metadata": {
    "ExecuteTime": {
     "end_time": "2023-03-17T01:28:59.430429Z",
     "start_time": "2023-03-17T01:28:59.397369Z"
    }
   },
   "outputs": [],
   "source": [
    "coefcampvectest = np.load(path + '/coefcampvectest.npy')"
   ]
  },
  {
   "cell_type": "code",
   "execution_count": 12,
   "id": "545559ea",
   "metadata": {
    "ExecuteTime": {
     "end_time": "2023-03-17T01:28:59.487522Z",
     "start_time": "2023-03-17T01:28:59.470827Z"
    }
   },
   "outputs": [
    {
     "data": {
      "text/plain": [
       "(2000, 7)"
      ]
     },
     "execution_count": 12,
     "metadata": {},
     "output_type": "execute_result"
    }
   ],
   "source": [
    "np.shape(coefcampvectest)"
   ]
  },
  {
   "cell_type": "markdown",
   "id": "63024745",
   "metadata": {},
   "source": [
    "## Datos de validación"
   ]
  },
  {
   "cell_type": "markdown",
   "id": "9e38f1d7",
   "metadata": {},
   "source": [
    "### Datos"
   ]
  },
  {
   "cell_type": "code",
   "execution_count": 13,
   "id": "6e5768b7",
   "metadata": {
    "ExecuteTime": {
     "end_time": "2023-03-17T01:29:00.674578Z",
     "start_time": "2023-03-17T01:28:59.527885Z"
    }
   },
   "outputs": [],
   "source": [
    "campvecval = np.load(path + '/campvecval.npy')"
   ]
  },
  {
   "cell_type": "code",
   "execution_count": 14,
   "id": "a29f5ec0",
   "metadata": {
    "ExecuteTime": {
     "end_time": "2023-03-17T01:29:00.754672Z",
     "start_time": "2023-03-17T01:29:00.738870Z"
    }
   },
   "outputs": [
    {
     "data": {
      "text/plain": [
       "(1000, 2, 100, 100)"
      ]
     },
     "execution_count": 14,
     "metadata": {},
     "output_type": "execute_result"
    }
   ],
   "source": [
    "np.shape(campvecval)"
   ]
  },
  {
   "cell_type": "markdown",
   "id": "ffc618a2",
   "metadata": {},
   "source": [
    "### Coeficienes"
   ]
  },
  {
   "cell_type": "code",
   "execution_count": 15,
   "id": "b323751c",
   "metadata": {
    "ExecuteTime": {
     "end_time": "2023-03-17T01:29:00.840461Z",
     "start_time": "2023-03-17T01:29:00.808463Z"
    }
   },
   "outputs": [],
   "source": [
    "coefcampvecval = np.load(path + '/coefcampvecval.npy')"
   ]
  },
  {
   "cell_type": "code",
   "execution_count": 16,
   "id": "60df7d7d",
   "metadata": {
    "ExecuteTime": {
     "end_time": "2023-03-17T01:29:00.916599Z",
     "start_time": "2023-03-17T01:29:00.899593Z"
    }
   },
   "outputs": [
    {
     "data": {
      "text/plain": [
       "(1000, 7)"
      ]
     },
     "execution_count": 16,
     "metadata": {},
     "output_type": "execute_result"
    }
   ],
   "source": [
    "np.shape(coefcampvecval)"
   ]
  },
  {
   "cell_type": "markdown",
   "id": "e069562d",
   "metadata": {},
   "source": [
    "# Unimos coeficientes con los datos"
   ]
  },
  {
   "cell_type": "code",
   "execution_count": 17,
   "id": "a973df40",
   "metadata": {
    "ExecuteTime": {
     "end_time": "2023-03-17T01:29:01.056201Z",
     "start_time": "2023-03-17T01:29:00.960201Z"
    }
   },
   "outputs": [],
   "source": [
    "train_dataset = tf.data.Dataset.from_tensor_slices((campvectrain, coefcampvectrain))\n",
    "test_dataset = tf.data.Dataset.from_tensor_slices((campvectest, coefcampvectest))\n",
    "val_dataset = tf.data.Dataset.from_tensor_slices((campvecval, coefcampvecval))"
   ]
  },
  {
   "cell_type": "code",
   "execution_count": 18,
   "id": "bc7ee207",
   "metadata": {
    "ExecuteTime": {
     "end_time": "2023-03-17T01:29:01.136682Z",
     "start_time": "2023-03-17T01:29:01.120683Z"
    }
   },
   "outputs": [
    {
     "data": {
      "text/plain": [
       "<TensorSliceDataset element_spec=(TensorSpec(shape=(2, 100, 100), dtype=tf.float64, name=None), TensorSpec(shape=(7,), dtype=tf.int32, name=None))>"
      ]
     },
     "execution_count": 18,
     "metadata": {},
     "output_type": "execute_result"
    }
   ],
   "source": [
    "train_dataset"
   ]
  },
  {
   "cell_type": "markdown",
   "id": "05ebcd40",
   "metadata": {
    "ExecuteTime": {
     "end_time": "2023-02-07T19:36:45.065835Z",
     "start_time": "2023-02-07T19:36:45.042683Z"
    }
   },
   "source": [
    "# Mezclar y procesar por lotes los conjuntos de datos"
   ]
  },
  {
   "cell_type": "code",
   "execution_count": 19,
   "id": "eca4c6bc",
   "metadata": {
    "ExecuteTime": {
     "end_time": "2023-03-17T01:29:01.227735Z",
     "start_time": "2023-03-17T01:29:01.195737Z"
    }
   },
   "outputs": [],
   "source": [
    "BATCH_SIZE = 7\n",
    "SHUFFLE_BUFFER_SIZE = 10\n",
    "\n",
    "train_dataset = train_dataset.shuffle(SHUFFLE_BUFFER_SIZE).batch(BATCH_SIZE)\n",
    "test_dataset = test_dataset.batch(BATCH_SIZE)\n",
    "val_dataset = val_dataset.batch(BATCH_SIZE)"
   ]
  },
  {
   "cell_type": "markdown",
   "id": "dbe84fe8",
   "metadata": {},
   "source": [
    "# Creamos función de costo"
   ]
  },
  {
   "cell_type": "code",
   "execution_count": 70,
   "id": "775de8cd",
   "metadata": {
    "ExecuteTime": {
     "end_time": "2023-03-17T01:46:51.744391Z",
     "start_time": "2023-03-17T01:46:51.708623Z"
    },
    "code_folding": []
   },
   "outputs": [],
   "source": [
    "@tf.function\n",
    "def custom_loss(y_true, y_pred):\n",
    "    campvec = []\n",
    "    # constantes\n",
    "    a1 = tf.cast(y_true[:, 0], tf.float64)\n",
    "    a1 = tf.reshape(a1, shape=(-1, 1, 1))\n",
    "    \n",
    "    a2 = tf.cast(y_true[:, 1], tf.float64)\n",
    "    a2 = tf.reshape(a2, shape=(-1, 1, 1))\n",
    "    \n",
    "    b1 = tf.cast(y_true[:, 2], tf.float64)\n",
    "    b1 = tf.reshape(b1,shape = (-1,1,1))\n",
    "    \n",
    "    b2 = tf.cast(y_true[:, 3], tf.float64)\n",
    "    b2 = tf.reshape(b2,shape = (-1,1,1))\n",
    "\n",
    "    d1 = tf.cast(y_true[:, 4], tf.float64)\n",
    "    d1 = tf.reshape(d1, shape=(-1, 1, 1))\n",
    "\n",
    "    d2 = tf.cast(y_true[:, 5], tf.float64)\n",
    "    d2 = tf.reshape(d2, shape=(-1, 1, 1))\n",
    "\n",
    "    n = tf.cast(y_true[:, 6], tf.float64)\n",
    "    n = tf.reshape(n, shape=(-1, 1, 1))\n",
    "\n",
    "    def f(t, y):\n",
    "\n",
    "        # asignar a cada ODE a un elemento de vector\n",
    "        X = y[0]\n",
    "        X = tf.cast(X, tf.float64)\n",
    "        X = tf.reshape(X, shape=(1, 100,100))\n",
    "        Y = y[1]\n",
    "        Y = tf.cast(Y, tf.float64)\n",
    "        Y = tf.reshape(Y, shape=(1, 100,100))\n",
    "        \n",
    "        # definimos cada ODE\n",
    "        dX_dt = tf.divide(a1,(1 + tf.math.pow(Y, n))) - tf.multiply(d1,X) + b1\n",
    "        dY_dt = tf.divide(a2,(1 + tf.math.pow(X, n))) - tf.multiply(d2,Y) + b2\n",
    "        return [dX_dt, dY_dt]\n",
    "\n",
    "    x_range_neg = 0\n",
    "    x_range_pos = 50\n",
    "    y_range_neg = 0\n",
    "    y_range_pos = 50\n",
    "    y1 = tf.linspace(x_range_neg, x_range_pos, 100)\n",
    "    y2 = tf.linspace(y_range_neg, y_range_pos, 100)\n",
    "    Y1, Y2 = tf.meshgrid(y1, y2)\n",
    "    t = 0\n",
    "    u, v = tf.zeros(Y1.shape), tf.zeros(Y2.shape)\n",
    "    u, v = f(t, [Y1, Y2])\n",
    "\n",
    "    M = tf.sqrt(tf.square(u) + tf.square(v))\n",
    "    u /= M\n",
    "    v /= M\n",
    "# ----------------------------------------------------------------------------\n",
    "    campvec2 = []\n",
    "    # constantes\n",
    "    a12 = tf.cast(y_pred[:, 0], tf.float64)\n",
    "    a12 = tf.reshape(a12, shape=(-1, 1, 1))\n",
    "    \n",
    "    a22 = tf.cast(y_pred[:, 1], tf.float64)\n",
    "    a22 = tf.reshape(a22, shape=(-1, 1, 1))\n",
    "    \n",
    "    b12 = tf.cast(y_pred[:, 2], tf.float64)\n",
    "    b12 = tf.reshape(b12,shape = (-1,1,1))\n",
    "    \n",
    "    b22 = tf.cast(y_pred[:, 3], tf.float64)\n",
    "    b22 = tf.reshape(b22,shape = (-1,1,1))\n",
    "\n",
    "    d12 = tf.cast(y_pred[:, 4], tf.float64)\n",
    "    d12 = tf.reshape(d12, shape=(-1, 1, 1))\n",
    "\n",
    "    d22 = tf.cast(y_pred[:, 5], tf.float64)\n",
    "    d22 = tf.reshape(d22, shape=(-1, 1, 1))\n",
    "\n",
    "    n2 = tf.cast(y_pred[:, 6], tf.float64)\n",
    "    n2 = tf.reshape(n2, shape=(-1, 1, 1))\n",
    "    \n",
    "    def f2(t2, ye2):\n",
    "\n",
    "        # asignar a cada ODE a un elemento de vector\n",
    "        X2 = ye2[0]\n",
    "        X2 = tf.cast(X2, tf.float64)\n",
    "        X2 = tf.reshape(X2, shape=(1, 100,100))\n",
    "        Y2 = ye2[1]\n",
    "        Y2 = tf.cast(Y2, tf.float64)\n",
    "        Y2 = tf.reshape(Y2, shape=(1, 100,100))\n",
    "\n",
    "        # definimos cada ODE\n",
    "        dX2_dt = tf.divide(a12,(1 + tf.math.pow(Y2, n2))) - tf.multiply(d12,X2) + b12\n",
    "        dY2_dt = tf.divide(a22,(1 + tf.math.pow(X2, n2))) - tf.multiply(d22,Y2) + b22\n",
    "        return [dX2_dt, dY2_dt]\n",
    "\n",
    "    y12 = tf.linspace(x_range_neg, x_range_pos, 100)\n",
    "    y22 = tf.linspace(y_range_neg, y_range_pos, 100)\n",
    "    Y12, Y22 = tf.meshgrid(y12, y22)\n",
    "    u2, v2 = tf.zeros(Y12.shape), tf.zeros(Y22.shape)\n",
    "    u2, v2 = f2(t, [Y12, Y22])\n",
    "    M2 = tf.sqrt(tf.square(u2) + tf.square(v2))\n",
    "    u2 /= M2\n",
    "    v2 /= M2\n",
    "\n",
    "    campvecx = u -u2\n",
    "    campvecy = v -v2\n",
    "    \n",
    "    total = campvecx + campvecy\n",
    "    loss = tf.reduce_mean(tf.square(total))\n",
    "    #cosine_sim = tf.keras.losses.cosine_similarity(campvec, campvec2)\n",
    "    loss = tf.reduce_mean(tf.square(total))\n",
    "    return loss"
   ]
  },
  {
   "cell_type": "markdown",
   "id": "7a055590",
   "metadata": {},
   "source": [
    "# Funcion de costo prueba"
   ]
  },
  {
   "cell_type": "markdown",
   "id": "76914f6c",
   "metadata": {},
   "source": [
    "# Creación del modelo"
   ]
  },
  {
   "cell_type": "code",
   "execution_count": 71,
   "id": "e4f113f9",
   "metadata": {
    "ExecuteTime": {
     "end_time": "2023-03-17T01:46:52.605298Z",
     "start_time": "2023-03-17T01:46:52.492679Z"
    }
   },
   "outputs": [],
   "source": [
    "model = tf.keras.Sequential([\n",
    "    tf.keras.layers.Flatten(input_shape=(2,100,100)),\n",
    "    tf.keras.layers.Dense(128, activation='relu'),\n",
    "    tf.keras.layers.Dense(64, activation='relu'),\n",
    "    tf.keras.layers.Dense(128, activation='relu'),\n",
    "    tf.keras.layers.Dense(64, activation='relu'),\n",
    "    tf.keras.layers.Dropout(0.2),\n",
    "    tf.keras.layers.Dense(7)\n",
    "])\n"
   ]
  },
  {
   "cell_type": "code",
   "execution_count": 72,
   "id": "4867a6a1",
   "metadata": {
    "ExecuteTime": {
     "end_time": "2023-03-17T01:46:52.945130Z",
     "start_time": "2023-03-17T01:46:52.826610Z"
    }
   },
   "outputs": [],
   "source": [
    "model = Sequential()\n",
    "model.add(Flatten(input_shape=(2,100,100)))\n",
    "model.add(Dense(128,activation='relu'))\n",
    "model.add(Dropout(0.3))\n",
    "model.add(Dense(64,activation = 'relu'))\n",
    "model.add(Dense(128,activation = 'relu'))\n",
    "model.add(Dense(64,activation = 'relu'))\n",
    "model.add(Dropout(0.3))\n",
    "model.add(Dense(128,activation = 'relu'))\n",
    "model.add(Dense(64,activation = 'relu'))\n",
    "\n",
    "model.add(Dense(7))"
   ]
  },
  {
   "cell_type": "code",
   "execution_count": 73,
   "id": "45fd641f",
   "metadata": {
    "ExecuteTime": {
     "end_time": "2023-03-17T01:46:53.092469Z",
     "start_time": "2023-03-17T01:46:53.067911Z"
    }
   },
   "outputs": [
    {
     "name": "stdout",
     "output_type": "stream",
     "text": [
      "Model: \"sequential_13\"\n",
      "_________________________________________________________________\n",
      " Layer (type)                Output Shape              Param #   \n",
      "=================================================================\n",
      " flatten_13 (Flatten)        (None, 20000)             0         \n",
      "                                                                 \n",
      " dense_77 (Dense)            (None, 128)               2560128   \n",
      "                                                                 \n",
      " dropout_19 (Dropout)        (None, 128)               0         \n",
      "                                                                 \n",
      " dense_78 (Dense)            (None, 64)                8256      \n",
      "                                                                 \n",
      " dense_79 (Dense)            (None, 128)               8320      \n",
      "                                                                 \n",
      " dense_80 (Dense)            (None, 64)                8256      \n",
      "                                                                 \n",
      " dropout_20 (Dropout)        (None, 64)                0         \n",
      "                                                                 \n",
      " dense_81 (Dense)            (None, 128)               8320      \n",
      "                                                                 \n",
      " dense_82 (Dense)            (None, 64)                8256      \n",
      "                                                                 \n",
      " dense_83 (Dense)            (None, 7)                 455       \n",
      "                                                                 \n",
      "=================================================================\n",
      "Total params: 2,601,991\n",
      "Trainable params: 2,601,991\n",
      "Non-trainable params: 0\n",
      "_________________________________________________________________\n"
     ]
    }
   ],
   "source": [
    "model.summary()"
   ]
  },
  {
   "cell_type": "code",
   "execution_count": 74,
   "id": "78ca1c7f",
   "metadata": {
    "ExecuteTime": {
     "end_time": "2023-03-17T01:46:53.436715Z",
     "start_time": "2023-03-17T01:46:53.426881Z"
    }
   },
   "outputs": [
    {
     "name": "stdout",
     "output_type": "stream",
     "text": [
      "You must install pydot (`pip install pydot`) and install graphviz (see instructions at https://graphviz.gitlab.io/download/) for plot_model to work.\n"
     ]
    }
   ],
   "source": [
    "keras.utils.plot_model(model,show_shapes=True)"
   ]
  },
  {
   "cell_type": "markdown",
   "id": "b761554a",
   "metadata": {},
   "source": [
    "# Entrenamos el modelo"
   ]
  },
  {
   "cell_type": "code",
   "execution_count": 78,
   "id": "4316785f",
   "metadata": {
    "ExecuteTime": {
     "end_time": "2023-03-17T01:47:18.942728Z",
     "start_time": "2023-03-17T01:47:18.925113Z"
    }
   },
   "outputs": [],
   "source": [
    "model.compile(optimizer='Adam',\n",
    "              loss= custom_loss,\n",
    "              metrics=['accuracy'])\n",
    "#model.compile(optimizer='Adam',\n",
    " #             loss= 'mse',\n",
    "  #            metrics=[custom_loss])"
   ]
  },
  {
   "cell_type": "code",
   "execution_count": 79,
   "id": "d1303e8d",
   "metadata": {
    "ExecuteTime": {
     "end_time": "2023-03-17T01:47:19.290071Z",
     "start_time": "2023-03-17T01:47:19.282087Z"
    }
   },
   "outputs": [],
   "source": [
    "def scheduler(epoch, lr):\n",
    "  if epoch < 500:\n",
    "    return lr\n",
    "  else:\n",
    "    return 1e-3 * 0.99 ** epoch"
   ]
  },
  {
   "cell_type": "code",
   "execution_count": 81,
   "id": "88d710c6",
   "metadata": {
    "ExecuteTime": {
     "end_time": "2023-03-17T01:52:15.023306Z",
     "start_time": "2023-03-17T01:51:34.920365Z"
    }
   },
   "outputs": [
    {
     "name": "stdout",
     "output_type": "stream",
     "text": [
      "Epoch 1/100\n",
      "1000/1000 [==============================] - 15s 15ms/step - loss: nan - accuracy: 0.2150 - val_loss: nan - val_accuracy: 0.1970 - lr: 0.0010\n",
      "Epoch 2/100\n",
      "1000/1000 [==============================] - 16s 16ms/step - loss: nan - accuracy: 0.2150 - val_loss: nan - val_accuracy: 0.1970 - lr: 0.0010\n",
      "Epoch 3/100\n",
      " 581/1000 [================>.............] - ETA: 6s - loss: nan - accuracy: 0.2206"
     ]
    },
    {
     "ename": "KeyboardInterrupt",
     "evalue": "",
     "output_type": "error",
     "traceback": [
      "\u001b[1;31m---------------------------------------------------------------------------\u001b[0m",
      "\u001b[1;31mKeyboardInterrupt\u001b[0m                         Traceback (most recent call last)",
      "\u001b[1;32m~\\AppData\\Local\\Temp\\ipykernel_5640\\2235049216.py\u001b[0m in \u001b[0;36m<module>\u001b[1;34m\u001b[0m\n\u001b[0;32m      6\u001b[0m \u001b[1;33m\u001b[0m\u001b[0m\n\u001b[0;32m      7\u001b[0m \u001b[0mreduce_lr\u001b[0m \u001b[1;33m=\u001b[0m \u001b[0mtf\u001b[0m\u001b[1;33m.\u001b[0m\u001b[0mkeras\u001b[0m\u001b[1;33m.\u001b[0m\u001b[0mcallbacks\u001b[0m\u001b[1;33m.\u001b[0m\u001b[0mLearningRateScheduler\u001b[0m\u001b[1;33m(\u001b[0m\u001b[0mscheduler\u001b[0m\u001b[1;33m)\u001b[0m\u001b[1;33m\u001b[0m\u001b[1;33m\u001b[0m\u001b[0m\n\u001b[1;32m----> 8\u001b[1;33m \u001b[0mhistory\u001b[0m \u001b[1;33m=\u001b[0m \u001b[0mmodel\u001b[0m\u001b[1;33m.\u001b[0m\u001b[0mfit\u001b[0m\u001b[1;33m(\u001b[0m\u001b[0mtrain_dataset\u001b[0m\u001b[1;33m,\u001b[0m \u001b[0mvalidation_data\u001b[0m\u001b[1;33m=\u001b[0m\u001b[0mval_dataset\u001b[0m\u001b[1;33m,\u001b[0m \u001b[0mepochs\u001b[0m\u001b[1;33m=\u001b[0m \u001b[0mval_epochs\u001b[0m\u001b[1;33m,\u001b[0m \u001b[0mcallbacks\u001b[0m\u001b[1;33m=\u001b[0m\u001b[1;33m[\u001b[0m\u001b[0mreduce_lr\u001b[0m\u001b[1;33m,\u001b[0m \u001b[0mearly_stop\u001b[0m\u001b[1;33m]\u001b[0m\u001b[1;33m)\u001b[0m\u001b[1;33m\u001b[0m\u001b[1;33m\u001b[0m\u001b[0m\n\u001b[0m",
      "\u001b[1;32m~\\Anaconda3\\lib\\site-packages\\keras\\utils\\traceback_utils.py\u001b[0m in \u001b[0;36merror_handler\u001b[1;34m(*args, **kwargs)\u001b[0m\n\u001b[0;32m     63\u001b[0m         \u001b[0mfiltered_tb\u001b[0m \u001b[1;33m=\u001b[0m \u001b[1;32mNone\u001b[0m\u001b[1;33m\u001b[0m\u001b[1;33m\u001b[0m\u001b[0m\n\u001b[0;32m     64\u001b[0m         \u001b[1;32mtry\u001b[0m\u001b[1;33m:\u001b[0m\u001b[1;33m\u001b[0m\u001b[1;33m\u001b[0m\u001b[0m\n\u001b[1;32m---> 65\u001b[1;33m             \u001b[1;32mreturn\u001b[0m \u001b[0mfn\u001b[0m\u001b[1;33m(\u001b[0m\u001b[1;33m*\u001b[0m\u001b[0margs\u001b[0m\u001b[1;33m,\u001b[0m \u001b[1;33m**\u001b[0m\u001b[0mkwargs\u001b[0m\u001b[1;33m)\u001b[0m\u001b[1;33m\u001b[0m\u001b[1;33m\u001b[0m\u001b[0m\n\u001b[0m\u001b[0;32m     66\u001b[0m         \u001b[1;32mexcept\u001b[0m \u001b[0mException\u001b[0m \u001b[1;32mas\u001b[0m \u001b[0me\u001b[0m\u001b[1;33m:\u001b[0m\u001b[1;33m\u001b[0m\u001b[1;33m\u001b[0m\u001b[0m\n\u001b[0;32m     67\u001b[0m             \u001b[0mfiltered_tb\u001b[0m \u001b[1;33m=\u001b[0m \u001b[0m_process_traceback_frames\u001b[0m\u001b[1;33m(\u001b[0m\u001b[0me\u001b[0m\u001b[1;33m.\u001b[0m\u001b[0m__traceback__\u001b[0m\u001b[1;33m)\u001b[0m\u001b[1;33m\u001b[0m\u001b[1;33m\u001b[0m\u001b[0m\n",
      "\u001b[1;32m~\\Anaconda3\\lib\\site-packages\\keras\\engine\\training.py\u001b[0m in \u001b[0;36mfit\u001b[1;34m(self, x, y, batch_size, epochs, verbose, callbacks, validation_split, validation_data, shuffle, class_weight, sample_weight, initial_epoch, steps_per_epoch, validation_steps, validation_batch_size, validation_freq, max_queue_size, workers, use_multiprocessing)\u001b[0m\n\u001b[0;32m   1562\u001b[0m                         ):\n\u001b[0;32m   1563\u001b[0m                             \u001b[0mcallbacks\u001b[0m\u001b[1;33m.\u001b[0m\u001b[0mon_train_batch_begin\u001b[0m\u001b[1;33m(\u001b[0m\u001b[0mstep\u001b[0m\u001b[1;33m)\u001b[0m\u001b[1;33m\u001b[0m\u001b[1;33m\u001b[0m\u001b[0m\n\u001b[1;32m-> 1564\u001b[1;33m                             \u001b[0mtmp_logs\u001b[0m \u001b[1;33m=\u001b[0m \u001b[0mself\u001b[0m\u001b[1;33m.\u001b[0m\u001b[0mtrain_function\u001b[0m\u001b[1;33m(\u001b[0m\u001b[0miterator\u001b[0m\u001b[1;33m)\u001b[0m\u001b[1;33m\u001b[0m\u001b[1;33m\u001b[0m\u001b[0m\n\u001b[0m\u001b[0;32m   1565\u001b[0m                             \u001b[1;32mif\u001b[0m \u001b[0mdata_handler\u001b[0m\u001b[1;33m.\u001b[0m\u001b[0mshould_sync\u001b[0m\u001b[1;33m:\u001b[0m\u001b[1;33m\u001b[0m\u001b[1;33m\u001b[0m\u001b[0m\n\u001b[0;32m   1566\u001b[0m                                 \u001b[0mcontext\u001b[0m\u001b[1;33m.\u001b[0m\u001b[0masync_wait\u001b[0m\u001b[1;33m(\u001b[0m\u001b[1;33m)\u001b[0m\u001b[1;33m\u001b[0m\u001b[1;33m\u001b[0m\u001b[0m\n",
      "\u001b[1;32m~\\Anaconda3\\lib\\site-packages\\tensorflow\\python\\util\\traceback_utils.py\u001b[0m in \u001b[0;36merror_handler\u001b[1;34m(*args, **kwargs)\u001b[0m\n\u001b[0;32m    148\u001b[0m     \u001b[0mfiltered_tb\u001b[0m \u001b[1;33m=\u001b[0m \u001b[1;32mNone\u001b[0m\u001b[1;33m\u001b[0m\u001b[1;33m\u001b[0m\u001b[0m\n\u001b[0;32m    149\u001b[0m     \u001b[1;32mtry\u001b[0m\u001b[1;33m:\u001b[0m\u001b[1;33m\u001b[0m\u001b[1;33m\u001b[0m\u001b[0m\n\u001b[1;32m--> 150\u001b[1;33m       \u001b[1;32mreturn\u001b[0m \u001b[0mfn\u001b[0m\u001b[1;33m(\u001b[0m\u001b[1;33m*\u001b[0m\u001b[0margs\u001b[0m\u001b[1;33m,\u001b[0m \u001b[1;33m**\u001b[0m\u001b[0mkwargs\u001b[0m\u001b[1;33m)\u001b[0m\u001b[1;33m\u001b[0m\u001b[1;33m\u001b[0m\u001b[0m\n\u001b[0m\u001b[0;32m    151\u001b[0m     \u001b[1;32mexcept\u001b[0m \u001b[0mException\u001b[0m \u001b[1;32mas\u001b[0m \u001b[0me\u001b[0m\u001b[1;33m:\u001b[0m\u001b[1;33m\u001b[0m\u001b[1;33m\u001b[0m\u001b[0m\n\u001b[0;32m    152\u001b[0m       \u001b[0mfiltered_tb\u001b[0m \u001b[1;33m=\u001b[0m \u001b[0m_process_traceback_frames\u001b[0m\u001b[1;33m(\u001b[0m\u001b[0me\u001b[0m\u001b[1;33m.\u001b[0m\u001b[0m__traceback__\u001b[0m\u001b[1;33m)\u001b[0m\u001b[1;33m\u001b[0m\u001b[1;33m\u001b[0m\u001b[0m\n",
      "\u001b[1;32m~\\Anaconda3\\lib\\site-packages\\tensorflow\\python\\eager\\def_function.py\u001b[0m in \u001b[0;36m__call__\u001b[1;34m(self, *args, **kwds)\u001b[0m\n\u001b[0;32m    913\u001b[0m \u001b[1;33m\u001b[0m\u001b[0m\n\u001b[0;32m    914\u001b[0m       \u001b[1;32mwith\u001b[0m \u001b[0mOptionalXlaContext\u001b[0m\u001b[1;33m(\u001b[0m\u001b[0mself\u001b[0m\u001b[1;33m.\u001b[0m\u001b[0m_jit_compile\u001b[0m\u001b[1;33m)\u001b[0m\u001b[1;33m:\u001b[0m\u001b[1;33m\u001b[0m\u001b[1;33m\u001b[0m\u001b[0m\n\u001b[1;32m--> 915\u001b[1;33m         \u001b[0mresult\u001b[0m \u001b[1;33m=\u001b[0m \u001b[0mself\u001b[0m\u001b[1;33m.\u001b[0m\u001b[0m_call\u001b[0m\u001b[1;33m(\u001b[0m\u001b[1;33m*\u001b[0m\u001b[0margs\u001b[0m\u001b[1;33m,\u001b[0m \u001b[1;33m**\u001b[0m\u001b[0mkwds\u001b[0m\u001b[1;33m)\u001b[0m\u001b[1;33m\u001b[0m\u001b[1;33m\u001b[0m\u001b[0m\n\u001b[0m\u001b[0;32m    916\u001b[0m \u001b[1;33m\u001b[0m\u001b[0m\n\u001b[0;32m    917\u001b[0m       \u001b[0mnew_tracing_count\u001b[0m \u001b[1;33m=\u001b[0m \u001b[0mself\u001b[0m\u001b[1;33m.\u001b[0m\u001b[0mexperimental_get_tracing_count\u001b[0m\u001b[1;33m(\u001b[0m\u001b[1;33m)\u001b[0m\u001b[1;33m\u001b[0m\u001b[1;33m\u001b[0m\u001b[0m\n",
      "\u001b[1;32m~\\Anaconda3\\lib\\site-packages\\tensorflow\\python\\eager\\def_function.py\u001b[0m in \u001b[0;36m_call\u001b[1;34m(self, *args, **kwds)\u001b[0m\n\u001b[0;32m    945\u001b[0m       \u001b[1;31m# In this case we have created variables on the first call, so we run the\u001b[0m\u001b[1;33m\u001b[0m\u001b[1;33m\u001b[0m\u001b[1;33m\u001b[0m\u001b[0m\n\u001b[0;32m    946\u001b[0m       \u001b[1;31m# defunned version which is guaranteed to never create variables.\u001b[0m\u001b[1;33m\u001b[0m\u001b[1;33m\u001b[0m\u001b[1;33m\u001b[0m\u001b[0m\n\u001b[1;32m--> 947\u001b[1;33m       \u001b[1;32mreturn\u001b[0m \u001b[0mself\u001b[0m\u001b[1;33m.\u001b[0m\u001b[0m_stateless_fn\u001b[0m\u001b[1;33m(\u001b[0m\u001b[1;33m*\u001b[0m\u001b[0margs\u001b[0m\u001b[1;33m,\u001b[0m \u001b[1;33m**\u001b[0m\u001b[0mkwds\u001b[0m\u001b[1;33m)\u001b[0m  \u001b[1;31m# pylint: disable=not-callable\u001b[0m\u001b[1;33m\u001b[0m\u001b[1;33m\u001b[0m\u001b[0m\n\u001b[0m\u001b[0;32m    948\u001b[0m     \u001b[1;32melif\u001b[0m \u001b[0mself\u001b[0m\u001b[1;33m.\u001b[0m\u001b[0m_stateful_fn\u001b[0m \u001b[1;32mis\u001b[0m \u001b[1;32mnot\u001b[0m \u001b[1;32mNone\u001b[0m\u001b[1;33m:\u001b[0m\u001b[1;33m\u001b[0m\u001b[1;33m\u001b[0m\u001b[0m\n\u001b[0;32m    949\u001b[0m       \u001b[1;31m# Release the lock early so that multiple threads can perform the call\u001b[0m\u001b[1;33m\u001b[0m\u001b[1;33m\u001b[0m\u001b[1;33m\u001b[0m\u001b[0m\n",
      "\u001b[1;32m~\\Anaconda3\\lib\\site-packages\\tensorflow\\python\\eager\\function.py\u001b[0m in \u001b[0;36m__call__\u001b[1;34m(self, *args, **kwargs)\u001b[0m\n\u001b[0;32m   2495\u001b[0m        filtered_flat_args) = self._maybe_define_function(args, kwargs)\n\u001b[0;32m   2496\u001b[0m     return graph_function._call_flat(\n\u001b[1;32m-> 2497\u001b[1;33m         filtered_flat_args, captured_inputs=graph_function.captured_inputs)  # pylint: disable=protected-access\n\u001b[0m\u001b[0;32m   2498\u001b[0m \u001b[1;33m\u001b[0m\u001b[0m\n\u001b[0;32m   2499\u001b[0m   \u001b[1;33m@\u001b[0m\u001b[0mproperty\u001b[0m\u001b[1;33m\u001b[0m\u001b[1;33m\u001b[0m\u001b[0m\n",
      "\u001b[1;32m~\\Anaconda3\\lib\\site-packages\\tensorflow\\python\\eager\\function.py\u001b[0m in \u001b[0;36m_call_flat\u001b[1;34m(self, args, captured_inputs, cancellation_manager)\u001b[0m\n\u001b[0;32m   1861\u001b[0m       \u001b[1;31m# No tape is watching; skip to running the function.\u001b[0m\u001b[1;33m\u001b[0m\u001b[1;33m\u001b[0m\u001b[1;33m\u001b[0m\u001b[0m\n\u001b[0;32m   1862\u001b[0m       return self._build_call_outputs(self._inference_function.call(\n\u001b[1;32m-> 1863\u001b[1;33m           ctx, args, cancellation_manager=cancellation_manager))\n\u001b[0m\u001b[0;32m   1864\u001b[0m     forward_backward = self._select_forward_and_backward_functions(\n\u001b[0;32m   1865\u001b[0m         \u001b[0margs\u001b[0m\u001b[1;33m,\u001b[0m\u001b[1;33m\u001b[0m\u001b[1;33m\u001b[0m\u001b[0m\n",
      "\u001b[1;32m~\\Anaconda3\\lib\\site-packages\\tensorflow\\python\\eager\\function.py\u001b[0m in \u001b[0;36mcall\u001b[1;34m(self, ctx, args, cancellation_manager)\u001b[0m\n\u001b[0;32m    502\u001b[0m               \u001b[0minputs\u001b[0m\u001b[1;33m=\u001b[0m\u001b[0margs\u001b[0m\u001b[1;33m,\u001b[0m\u001b[1;33m\u001b[0m\u001b[1;33m\u001b[0m\u001b[0m\n\u001b[0;32m    503\u001b[0m               \u001b[0mattrs\u001b[0m\u001b[1;33m=\u001b[0m\u001b[0mattrs\u001b[0m\u001b[1;33m,\u001b[0m\u001b[1;33m\u001b[0m\u001b[1;33m\u001b[0m\u001b[0m\n\u001b[1;32m--> 504\u001b[1;33m               ctx=ctx)\n\u001b[0m\u001b[0;32m    505\u001b[0m         \u001b[1;32melse\u001b[0m\u001b[1;33m:\u001b[0m\u001b[1;33m\u001b[0m\u001b[1;33m\u001b[0m\u001b[0m\n\u001b[0;32m    506\u001b[0m           outputs = execute.execute_with_cancellation(\n",
      "\u001b[1;32m~\\Anaconda3\\lib\\site-packages\\tensorflow\\python\\eager\\execute.py\u001b[0m in \u001b[0;36mquick_execute\u001b[1;34m(op_name, num_outputs, inputs, attrs, ctx, name)\u001b[0m\n\u001b[0;32m     53\u001b[0m     \u001b[0mctx\u001b[0m\u001b[1;33m.\u001b[0m\u001b[0mensure_initialized\u001b[0m\u001b[1;33m(\u001b[0m\u001b[1;33m)\u001b[0m\u001b[1;33m\u001b[0m\u001b[1;33m\u001b[0m\u001b[0m\n\u001b[0;32m     54\u001b[0m     tensors = pywrap_tfe.TFE_Py_Execute(ctx._handle, device_name, op_name,\n\u001b[1;32m---> 55\u001b[1;33m                                         inputs, attrs, num_outputs)\n\u001b[0m\u001b[0;32m     56\u001b[0m   \u001b[1;32mexcept\u001b[0m \u001b[0mcore\u001b[0m\u001b[1;33m.\u001b[0m\u001b[0m_NotOkStatusException\u001b[0m \u001b[1;32mas\u001b[0m \u001b[0me\u001b[0m\u001b[1;33m:\u001b[0m\u001b[1;33m\u001b[0m\u001b[1;33m\u001b[0m\u001b[0m\n\u001b[0;32m     57\u001b[0m     \u001b[1;32mif\u001b[0m \u001b[0mname\u001b[0m \u001b[1;32mis\u001b[0m \u001b[1;32mnot\u001b[0m \u001b[1;32mNone\u001b[0m\u001b[1;33m:\u001b[0m\u001b[1;33m\u001b[0m\u001b[1;33m\u001b[0m\u001b[0m\n",
      "\u001b[1;31mKeyboardInterrupt\u001b[0m: "
     ]
    }
   ],
   "source": [
    "val_epochs = 100\n",
    "tf.compat.v1.global_variables_initializer()\n",
    "\n",
    "early_stop = tf.keras.callbacks.EarlyStopping( monitor = 'val_loss', patience = 800,verbose = 1, \n",
    "                                              restore_best_weights = True)\n",
    "\n",
    "reduce_lr = tf.keras.callbacks.LearningRateScheduler(scheduler)\n",
    "history = model.fit(train_dataset, validation_data=val_dataset, epochs= val_epochs, callbacks=[reduce_lr, early_stop])"
   ]
  },
  {
   "cell_type": "markdown",
   "id": "7b9d5d5d",
   "metadata": {},
   "source": [
    "# Analizamos accuracy y loss"
   ]
  },
  {
   "cell_type": "code",
   "execution_count": null,
   "id": "c2c35f5e",
   "metadata": {
    "ExecuteTime": {
     "end_time": "2023-03-15T03:02:07.448382Z",
     "start_time": "2023-03-15T03:02:07.305388Z"
    }
   },
   "outputs": [],
   "source": [
    "acc = history.history['accuracy']\n",
    "val_acc = history.history['val_accuracy']\n",
    "\n",
    "loss = history.history['loss']\n",
    "val_loss = history.history['val_loss']\n",
    "\n",
    "epochs_range = range(val_epochs)\n",
    "\n",
    "plt.figure(figsize=(8, 8))\n",
    "plt.subplot(1, 2, 1)\n",
    "plt.plot(epochs_range, acc, label='Training Accuracy')\n",
    "plt.plot(epochs_range, val_acc, label='Validation Accuracy')\n",
    "plt.legend(loc='lower right')\n",
    "plt.title('Training and Validation Accuracy')\n",
    "\n",
    "plt.subplot(1, 2, 2)\n",
    "plt.plot(epochs_range, loss, label='Training Loss')\n",
    "plt.plot(epochs_range, val_loss, label='Validation Loss')\n",
    "plt.legend(loc='upper right')\n",
    "plt.title('Training and Validation Loss')\n",
    "plt.show()"
   ]
  },
  {
   "cell_type": "markdown",
   "id": "e1af1d19",
   "metadata": {},
   "source": [
    "# Guardamos el modelo"
   ]
  },
  {
   "cell_type": "code",
   "execution_count": null,
   "id": "3a346828",
   "metadata": {
    "ExecuteTime": {
     "end_time": "2023-03-15T03:02:11.545082Z",
     "start_time": "2023-03-15T03:02:11.530534Z"
    }
   },
   "outputs": [],
   "source": [
    "path_to_save = 'D:/Documentos de trabajo/Maestría/Tesis Maestría/Trabajo Python Tesis/Github Tesis/Modelos'"
   ]
  },
  {
   "cell_type": "code",
   "execution_count": null,
   "id": "8e86a52a",
   "metadata": {
    "ExecuteTime": {
     "end_time": "2023-03-15T03:02:11.959719Z",
     "start_time": "2023-03-15T03:02:11.886380Z"
    }
   },
   "outputs": [],
   "source": [
    "model.save(path_to_save + '/campovectorial.h5')"
   ]
  },
  {
   "cell_type": "code",
   "execution_count": null,
   "id": "c9e1fb0a",
   "metadata": {
    "ExecuteTime": {
     "end_time": "2023-03-15T03:06:06.509671Z",
     "start_time": "2023-03-15T03:06:06.493747Z"
    }
   },
   "outputs": [],
   "source": [
    "keras.experimental.export_saved_model(model, path_to_save + 'prueba')"
   ]
  },
  {
   "cell_type": "markdown",
   "id": "efc9d48d",
   "metadata": {},
   "source": [
    "# Importamos el modelo"
   ]
  },
  {
   "cell_type": "code",
   "execution_count": null,
   "id": "d1d4a1a9",
   "metadata": {
    "ExecuteTime": {
     "end_time": "2023-03-15T03:02:12.506142Z",
     "start_time": "2023-03-15T03:02:12.361786Z"
    }
   },
   "outputs": [],
   "source": [
    "new_model = keras.models.load_model('../Modelos/campovectorial.h5')"
   ]
  },
  {
   "cell_type": "code",
   "execution_count": null,
   "id": "81bec15d",
   "metadata": {},
   "outputs": [],
   "source": [
    "new_model = keras.experimental.load_from_saved_model('../Modelos/prueba')\n"
   ]
  },
  {
   "cell_type": "markdown",
   "id": "7f6d0ea9",
   "metadata": {},
   "source": [
    "# Probamos el modelo con datos nuevos"
   ]
  },
  {
   "cell_type": "markdown",
   "id": "6ad7f37d",
   "metadata": {},
   "source": [
    "## Creamos nuevos datos"
   ]
  },
  {
   "cell_type": "code",
   "execution_count": null,
   "id": "b664f200",
   "metadata": {
    "ExecuteTime": {
     "end_time": "2023-03-15T03:10:30.686666Z",
     "start_time": "2023-03-15T03:10:30.398694Z"
    }
   },
   "outputs": [],
   "source": [
    "import random\n",
    "from scipy.integrate import solve_ivp\n",
    "\n",
    "campvec = []\n",
    "coef = []\n",
    "contador = 0\n",
    "for i in range(0, 1):\n",
    "    # constantes\n",
    "    a1 = random.randint(0, 10)\n",
    "    a2 = random.randint(0, 10)\n",
    "    b1 = random.randint(0, 10)\n",
    "    b2 = random.randint(0, 10)\n",
    "    d1 = random.randint(0, 10)\n",
    "    d2 = random.randint(0, 10)\n",
    "    n = random.randint(0, 5)\n",
    "\n",
    "    coef1 = [a1, a2, b1, b2, d1, d2, n]\n",
    "    coef.append(coef1)\n",
    "\n",
    "    def f(t, y):\n",
    "\n",
    "        # asignar a cada ODE a un elemento de vector\n",
    "        X = y[0]\n",
    "        Y = y[1]\n",
    "\n",
    "        # definimos cada ODE\n",
    "        # dX_dt=a1/(1+Y**n)-d1*X+b1\n",
    "        # dY_dt=a2/(1+X**n)-d2*Y+b2\n",
    "        dX_dt = a1/(1+Y**n)-d1*X+b1\n",
    "        dY_dt = a2/(1+X**n)-d2*Y+b1\n",
    "\n",
    "        return [dX_dt, dY_dt]\n",
    "\n",
    "    x_range_neg = 0\n",
    "    x_range_pos = 50\n",
    "    y_range_neg = 0\n",
    "    y_range_pos =50\n",
    "\n",
    "    y1 = np.linspace(x_range_neg, x_range_pos, 100)\n",
    "    y2 = np.linspace(y_range_neg, y_range_pos, 100)\n",
    "\n",
    "    Y1, Y2 = np.meshgrid(y1, y2)\n",
    "    \n",
    "    t1 = 0\n",
    "\n",
    "    u, v = np.zeros(Y1.shape), np.zeros(Y2.shape)\n",
    "\n",
    "    NI, NJ = Y1.shape\n",
    "\n",
    "    u1, v1 = f(t1, [Y1, Y2])\n",
    "    u, v = f(t1, [Y1, Y2])\n",
    "    M = (np.hypot(u, v))\n",
    "    u /= M\n",
    "    v /= M\n",
    "\n",
    "    campvecci = np.append([u1], [v1], axis=0)\n",
    "\n",
    "    campvec = campvecci\n",
    "    print('--------------------------------------------')\n",
    "    print(coef1)\n",
    "    contador = contador+1\n",
    "    print(contador)\n",
    "    \n",
    "campvec = np.array(campvec)\n",
    "coef = np.array(coef)\n"
   ]
  },
  {
   "cell_type": "code",
   "execution_count": null,
   "id": "ffbe4d61",
   "metadata": {
    "ExecuteTime": {
     "end_time": "2023-03-15T03:10:31.226657Z",
     "start_time": "2023-03-15T03:10:31.216173Z"
    }
   },
   "outputs": [],
   "source": [
    "campvecnone = campvec[None, :]"
   ]
  },
  {
   "cell_type": "markdown",
   "id": "4ea4942b",
   "metadata": {},
   "source": [
    "## Predecimos con los datos nuevos"
   ]
  },
  {
   "cell_type": "code",
   "execution_count": null,
   "id": "37dce68f",
   "metadata": {
    "ExecuteTime": {
     "end_time": "2023-03-09T05:49:26.378401Z",
     "start_time": "2023-03-09T05:49:26.328318Z"
    }
   },
   "outputs": [],
   "source": [
    "new_predictions = new_model.predict(campvecnone)\n",
    "print(new_predictions)"
   ]
  },
  {
   "cell_type": "code",
   "execution_count": null,
   "id": "ea2ab8b2",
   "metadata": {
    "ExecuteTime": {
     "end_time": "2023-03-15T03:11:36.094704Z",
     "start_time": "2023-03-15T03:11:36.051747Z"
    }
   },
   "outputs": [],
   "source": [
    "new_predictions = (model.predict(campvecnone))\n",
    "print(new_predictions)\n"
   ]
  },
  {
   "cell_type": "markdown",
   "id": "06c64a67",
   "metadata": {},
   "source": [
    "## Graficamos con los coeficientes reales"
   ]
  },
  {
   "cell_type": "code",
   "execution_count": null,
   "id": "930a1b59",
   "metadata": {
    "ExecuteTime": {
     "end_time": "2023-03-15T03:11:39.505708Z",
     "start_time": "2023-03-15T03:11:39.275610Z"
    }
   },
   "outputs": [],
   "source": [
    "y1 = np.linspace(0, 50, 100)\n",
    "y2 = np.linspace(0, 50, 100)\n",
    "Y1, Y2 = np.meshgrid(y1, y2)\n",
    "t1 = 0\n",
    "u, v = np.zeros(Y1.shape), np.zeros(Y2.shape)\n",
    "NI, NJ = Y1.shape        \n",
    "u,v = np.array(campvec)[0,:,:], np.array(campvec)[1,:,:]\n",
    "M = (np.hypot(u,v))\n",
    "u /= M\n",
    "v /= M\n",
    "\n",
    "plt.figure(figsize=(10,10))\n",
    "Q = plt.quiver(Y1, Y2, u, v, M, angles='xy')\n",
    "plt.title('Campo vectorial espacio fase Toggle Swich', fontsize=20)\n",
    "plt.xlim([0, 50])\n",
    "plt.ylim([0, 50])\n",
    "plt.xlabel('Concentración X')\n",
    "plt.ylabel('Concentración Y')"
   ]
  },
  {
   "cell_type": "code",
   "execution_count": null,
   "id": "be8f3283",
   "metadata": {
    "ExecuteTime": {
     "end_time": "2023-03-15T03:11:42.843572Z",
     "start_time": "2023-03-15T03:11:42.828689Z"
    }
   },
   "outputs": [],
   "source": [
    "np.shape(new_predictions)"
   ]
  },
  {
   "cell_type": "markdown",
   "id": "beb6126d",
   "metadata": {},
   "source": [
    "## Graficamos con los coeficientes predecidos"
   ]
  },
  {
   "cell_type": "code",
   "execution_count": null,
   "id": "84ae10b1",
   "metadata": {
    "ExecuteTime": {
     "end_time": "2023-03-15T03:11:43.901700Z",
     "start_time": "2023-03-15T03:11:43.548508Z"
    }
   },
   "outputs": [],
   "source": [
    "a1 = new_predictions[0,0]\n",
    "a2 = new_predictions[0,1]\n",
    "b1 = new_predictions[0,2]\n",
    "b2 = new_predictions[0,3]\n",
    "d1 = new_predictions[0,4]\n",
    "d2 = new_predictions[0,5]\n",
    "n = new_predictions[0,6]\n",
    " \n",
    "def f(t, y):\n",
    "\n",
    "    # asignar a cada ODE a un elemento de vector\n",
    "    X = y[0]\n",
    "    Y = y[1]\n",
    "\n",
    "    # definimos cada ODE\n",
    "    dX_dt = a1/(1+Y**n)-d1*X+b1\n",
    "    dY_dt = a2/(1+X**n)-d2*Y+b1\n",
    "\n",
    "    return [dX_dt, dY_dt]\n",
    "\n",
    "x_range_neg = 0\n",
    "x_range_pos = 50\n",
    "y_range_neg = 0\n",
    "y_range_pos =50\n",
    "\n",
    "y1 = np.linspace(x_range_neg, x_range_pos, 100)\n",
    "y2 = np.linspace(y_range_neg, y_range_pos, 100)\n",
    "\n",
    "Y1, Y2 = np.meshgrid(y1, y2)\n",
    "    \n",
    "t1 = 0\n",
    "\n",
    "u, v = np.zeros(Y1.shape), np.zeros(Y2.shape)\n",
    "\n",
    "NI, NJ = Y1.shape\n",
    "\n",
    "u1, v1 = f(t1, [Y1, Y2])\n",
    "u, v = f(t1, [Y1, Y2])\n",
    "M = (np.hypot(u, v))\n",
    "u /= M\n",
    "v /= M\n",
    "    \n",
    "plt.figure(figsize=(10, 10))\n",
    "Q = plt.quiver(Y1, Y2, u, v, M, angles='xy')\n",
    "plt.title('Campo vectorial espacio fase Toggle Swich', fontsize=20)\n",
    "plt.xlim([x_range_neg, x_range_pos])\n",
    "plt.ylim([y_range_neg, y_range_pos])\n",
    "plt.xlabel('Concentración X')\n",
    "plt.ylabel('Concentración Y')"
   ]
  },
  {
   "cell_type": "code",
   "execution_count": 247,
   "id": "5250148f",
   "metadata": {
    "ExecuteTime": {
     "end_time": "2023-03-16T18:59:37.319129Z",
     "start_time": "2023-03-16T18:59:37.300225Z"
    }
   },
   "outputs": [],
   "source": [
    "y_true2 = [[1,2,3,4,5,1,2], [6,7,8,1,2,3,4], [1,2,3,4,5,8,2]]\n",
    "y_pred2 = [[2,5,4,3,7,2,1], [1,2,3,7,8,0,1], [2,5,4,3,7,2,5]]"
   ]
  },
  {
   "cell_type": "code",
   "execution_count": 248,
   "id": "b214083e",
   "metadata": {
    "ExecuteTime": {
     "end_time": "2023-03-16T18:59:38.014943Z",
     "start_time": "2023-03-16T18:59:37.977049Z"
    }
   },
   "outputs": [
    {
     "name": "stdout",
     "output_type": "stream",
     "text": [
      "[[1, 2, 3, 4, 5, 1, 2], [6, 7, 8, 1, 2, 3, 4], [1, 2, 3, 4, 5, 8, 2]]\n"
     ]
    },
    {
     "ename": "TypeError",
     "evalue": "in user code:\n\n    File \"C:\\Users\\Rafa\\AppData\\Local\\Temp\\ipykernel_49932\\1211891339.py\", line 6, in custom_loss  *\n        a1 = tf.cast(y_true[:, 0], tf.float64)\n\n    TypeError: list indices must be integers or slices, not tuple\n",
     "output_type": "error",
     "traceback": [
      "\u001b[1;31m---------------------------------------------------------------------------\u001b[0m",
      "\u001b[1;31mTypeError\u001b[0m                                 Traceback (most recent call last)",
      "\u001b[1;32m~\\AppData\\Local\\Temp\\ipykernel_49932\\673300787.py\u001b[0m in \u001b[0;36m<module>\u001b[1;34m\u001b[0m\n\u001b[1;32m----> 1\u001b[1;33m \u001b[0mcustom_loss\u001b[0m\u001b[1;33m(\u001b[0m\u001b[0my_true2\u001b[0m\u001b[1;33m,\u001b[0m \u001b[0my_pred2\u001b[0m\u001b[1;33m)\u001b[0m\u001b[1;33m\u001b[0m\u001b[1;33m\u001b[0m\u001b[0m\n\u001b[0m",
      "\u001b[1;32m~\\Anaconda3\\lib\\site-packages\\tensorflow\\python\\util\\traceback_utils.py\u001b[0m in \u001b[0;36merror_handler\u001b[1;34m(*args, **kwargs)\u001b[0m\n\u001b[0;32m    151\u001b[0m     \u001b[1;32mexcept\u001b[0m \u001b[0mException\u001b[0m \u001b[1;32mas\u001b[0m \u001b[0me\u001b[0m\u001b[1;33m:\u001b[0m\u001b[1;33m\u001b[0m\u001b[1;33m\u001b[0m\u001b[0m\n\u001b[0;32m    152\u001b[0m       \u001b[0mfiltered_tb\u001b[0m \u001b[1;33m=\u001b[0m \u001b[0m_process_traceback_frames\u001b[0m\u001b[1;33m(\u001b[0m\u001b[0me\u001b[0m\u001b[1;33m.\u001b[0m\u001b[0m__traceback__\u001b[0m\u001b[1;33m)\u001b[0m\u001b[1;33m\u001b[0m\u001b[1;33m\u001b[0m\u001b[0m\n\u001b[1;32m--> 153\u001b[1;33m       \u001b[1;32mraise\u001b[0m \u001b[0me\u001b[0m\u001b[1;33m.\u001b[0m\u001b[0mwith_traceback\u001b[0m\u001b[1;33m(\u001b[0m\u001b[0mfiltered_tb\u001b[0m\u001b[1;33m)\u001b[0m \u001b[1;32mfrom\u001b[0m \u001b[1;32mNone\u001b[0m\u001b[1;33m\u001b[0m\u001b[1;33m\u001b[0m\u001b[0m\n\u001b[0m\u001b[0;32m    154\u001b[0m     \u001b[1;32mfinally\u001b[0m\u001b[1;33m:\u001b[0m\u001b[1;33m\u001b[0m\u001b[1;33m\u001b[0m\u001b[0m\n\u001b[0;32m    155\u001b[0m       \u001b[1;32mdel\u001b[0m \u001b[0mfiltered_tb\u001b[0m\u001b[1;33m\u001b[0m\u001b[1;33m\u001b[0m\u001b[0m\n",
      "\u001b[1;32m~\\AppData\\Local\\Temp\\__autograph_generated_filecy_zv1s4.py\u001b[0m in \u001b[0;36mtf__custom_loss\u001b[1;34m(y_true, y_pred)\u001b[0m\n\u001b[0;32m     10\u001b[0m                 \u001b[0mcampvec\u001b[0m \u001b[1;33m=\u001b[0m \u001b[1;33m[\u001b[0m\u001b[1;33m]\u001b[0m\u001b[1;33m\u001b[0m\u001b[1;33m\u001b[0m\u001b[0m\n\u001b[0;32m     11\u001b[0m                 \u001b[0mag__\u001b[0m\u001b[1;33m.\u001b[0m\u001b[0mld\u001b[0m\u001b[1;33m(\u001b[0m\u001b[0mprint\u001b[0m\u001b[1;33m)\u001b[0m\u001b[1;33m(\u001b[0m\u001b[0mag__\u001b[0m\u001b[1;33m.\u001b[0m\u001b[0mld\u001b[0m\u001b[1;33m(\u001b[0m\u001b[0my_true\u001b[0m\u001b[1;33m)\u001b[0m\u001b[1;33m)\u001b[0m\u001b[1;33m\u001b[0m\u001b[1;33m\u001b[0m\u001b[0m\n\u001b[1;32m---> 12\u001b[1;33m                 \u001b[0ma1\u001b[0m \u001b[1;33m=\u001b[0m \u001b[0mag__\u001b[0m\u001b[1;33m.\u001b[0m\u001b[0mconverted_call\u001b[0m\u001b[1;33m(\u001b[0m\u001b[0mag__\u001b[0m\u001b[1;33m.\u001b[0m\u001b[0mld\u001b[0m\u001b[1;33m(\u001b[0m\u001b[0mtf\u001b[0m\u001b[1;33m)\u001b[0m\u001b[1;33m.\u001b[0m\u001b[0mcast\u001b[0m\u001b[1;33m,\u001b[0m \u001b[1;33m(\u001b[0m\u001b[0mag__\u001b[0m\u001b[1;33m.\u001b[0m\u001b[0mld\u001b[0m\u001b[1;33m(\u001b[0m\u001b[0my_true\u001b[0m\u001b[1;33m)\u001b[0m\u001b[1;33m[\u001b[0m\u001b[1;33m:\u001b[0m\u001b[1;33m,\u001b[0m \u001b[1;36m0\u001b[0m\u001b[1;33m]\u001b[0m\u001b[1;33m,\u001b[0m \u001b[0mag__\u001b[0m\u001b[1;33m.\u001b[0m\u001b[0mld\u001b[0m\u001b[1;33m(\u001b[0m\u001b[0mtf\u001b[0m\u001b[1;33m)\u001b[0m\u001b[1;33m.\u001b[0m\u001b[0mfloat64\u001b[0m\u001b[1;33m)\u001b[0m\u001b[1;33m,\u001b[0m \u001b[1;32mNone\u001b[0m\u001b[1;33m,\u001b[0m \u001b[0mfscope\u001b[0m\u001b[1;33m)\u001b[0m\u001b[1;33m\u001b[0m\u001b[1;33m\u001b[0m\u001b[0m\n\u001b[0m\u001b[0;32m     13\u001b[0m                 \u001b[0ma1\u001b[0m \u001b[1;33m=\u001b[0m \u001b[0mag__\u001b[0m\u001b[1;33m.\u001b[0m\u001b[0mconverted_call\u001b[0m\u001b[1;33m(\u001b[0m\u001b[0mag__\u001b[0m\u001b[1;33m.\u001b[0m\u001b[0mld\u001b[0m\u001b[1;33m(\u001b[0m\u001b[0mtf\u001b[0m\u001b[1;33m)\u001b[0m\u001b[1;33m.\u001b[0m\u001b[0mreshape\u001b[0m\u001b[1;33m,\u001b[0m \u001b[1;33m(\u001b[0m\u001b[0mag__\u001b[0m\u001b[1;33m.\u001b[0m\u001b[0mld\u001b[0m\u001b[1;33m(\u001b[0m\u001b[0ma1\u001b[0m\u001b[1;33m)\u001b[0m\u001b[1;33m,\u001b[0m\u001b[1;33m)\u001b[0m\u001b[1;33m,\u001b[0m \u001b[0mdict\u001b[0m\u001b[1;33m(\u001b[0m\u001b[0mshape\u001b[0m\u001b[1;33m=\u001b[0m\u001b[1;33m(\u001b[0m\u001b[1;33m(\u001b[0m\u001b[1;33m-\u001b[0m \u001b[1;36m1\u001b[0m\u001b[1;33m)\u001b[0m\u001b[1;33m,\u001b[0m \u001b[1;36m1\u001b[0m\u001b[1;33m,\u001b[0m \u001b[1;36m1\u001b[0m\u001b[1;33m)\u001b[0m\u001b[1;33m)\u001b[0m\u001b[1;33m,\u001b[0m \u001b[0mfscope\u001b[0m\u001b[1;33m)\u001b[0m\u001b[1;33m\u001b[0m\u001b[1;33m\u001b[0m\u001b[0m\n\u001b[0;32m     14\u001b[0m                 \u001b[0ma2\u001b[0m \u001b[1;33m=\u001b[0m \u001b[0mag__\u001b[0m\u001b[1;33m.\u001b[0m\u001b[0mconverted_call\u001b[0m\u001b[1;33m(\u001b[0m\u001b[0mag__\u001b[0m\u001b[1;33m.\u001b[0m\u001b[0mld\u001b[0m\u001b[1;33m(\u001b[0m\u001b[0mtf\u001b[0m\u001b[1;33m)\u001b[0m\u001b[1;33m.\u001b[0m\u001b[0mcast\u001b[0m\u001b[1;33m,\u001b[0m \u001b[1;33m(\u001b[0m\u001b[0mag__\u001b[0m\u001b[1;33m.\u001b[0m\u001b[0mld\u001b[0m\u001b[1;33m(\u001b[0m\u001b[0my_true\u001b[0m\u001b[1;33m)\u001b[0m\u001b[1;33m[\u001b[0m\u001b[1;33m:\u001b[0m\u001b[1;33m,\u001b[0m \u001b[1;36m1\u001b[0m\u001b[1;33m]\u001b[0m\u001b[1;33m,\u001b[0m \u001b[0mag__\u001b[0m\u001b[1;33m.\u001b[0m\u001b[0mld\u001b[0m\u001b[1;33m(\u001b[0m\u001b[0mtf\u001b[0m\u001b[1;33m)\u001b[0m\u001b[1;33m.\u001b[0m\u001b[0mfloat64\u001b[0m\u001b[1;33m)\u001b[0m\u001b[1;33m,\u001b[0m \u001b[1;32mNone\u001b[0m\u001b[1;33m,\u001b[0m \u001b[0mfscope\u001b[0m\u001b[1;33m)\u001b[0m\u001b[1;33m\u001b[0m\u001b[1;33m\u001b[0m\u001b[0m\n",
      "\u001b[1;31mTypeError\u001b[0m: in user code:\n\n    File \"C:\\Users\\Rafa\\AppData\\Local\\Temp\\ipykernel_49932\\1211891339.py\", line 6, in custom_loss  *\n        a1 = tf.cast(y_true[:, 0], tf.float64)\n\n    TypeError: list indices must be integers or slices, not tuple\n"
     ]
    }
   ],
   "source": [
    "custom_loss(y_true2, y_pred2)"
   ]
  },
  {
   "cell_type": "code",
   "execution_count": null,
   "id": "25013fd6",
   "metadata": {},
   "outputs": [],
   "source": []
  }
 ],
 "metadata": {
  "hide_input": false,
  "kernelspec": {
   "display_name": "Python 3 (ipykernel)",
   "language": "python",
   "name": "python3"
  },
  "language_info": {
   "codemirror_mode": {
    "name": "ipython",
    "version": 3
   },
   "file_extension": ".py",
   "mimetype": "text/x-python",
   "name": "python",
   "nbconvert_exporter": "python",
   "pygments_lexer": "ipython3",
   "version": "3.7.10"
  },
  "latex_envs": {
   "LaTeX_envs_menu_present": true,
   "autoclose": true,
   "autocomplete": true,
   "bibliofile": "biblio.bib",
   "cite_by": "apalike",
   "current_citInitial": 1,
   "eqLabelWithNumbers": true,
   "eqNumInitial": 1,
   "hotkeys": {
    "equation": "Ctrl-E",
    "itemize": "Ctrl-I"
   },
   "labels_anchors": false,
   "latex_user_defs": false,
   "report_style_numbering": true,
   "user_envs_cfg": false
  },
  "toc": {
   "base_numbering": 1,
   "nav_menu": {},
   "number_sections": true,
   "sideBar": true,
   "skip_h1_title": false,
   "title_cell": "Table of Contents",
   "title_sidebar": "Contents",
   "toc_cell": false,
   "toc_position": {},
   "toc_section_display": true,
   "toc_window_display": false
  },
  "varInspector": {
   "cols": {
    "lenName": 16,
    "lenType": 16,
    "lenVar": 40
   },
   "kernels_config": {
    "python": {
     "delete_cmd_postfix": "",
     "delete_cmd_prefix": "del ",
     "library": "var_list.py",
     "varRefreshCmd": "print(var_dic_list())"
    },
    "r": {
     "delete_cmd_postfix": ") ",
     "delete_cmd_prefix": "rm(",
     "library": "var_list.r",
     "varRefreshCmd": "cat(var_dic_list()) "
    }
   },
   "types_to_exclude": [
    "module",
    "function",
    "builtin_function_or_method",
    "instance",
    "_Feature"
   ],
   "window_display": false
  }
 },
 "nbformat": 4,
 "nbformat_minor": 5
}
