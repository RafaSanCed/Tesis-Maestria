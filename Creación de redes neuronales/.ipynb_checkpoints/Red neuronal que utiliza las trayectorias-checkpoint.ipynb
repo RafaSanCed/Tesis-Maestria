{
 "cells": [
  {
   "cell_type": "markdown",
   "id": "0067cad0",
   "metadata": {},
   "source": [
    "# Importamos librerías"
   ]
  },
  {
   "cell_type": "code",
   "execution_count": 1,
   "id": "b2d4f30f",
   "metadata": {
    "ExecuteTime": {
     "end_time": "2023-02-08T00:47:07.613615Z",
     "start_time": "2023-02-08T00:47:05.846365Z"
    }
   },
   "outputs": [],
   "source": [
    "import tensorflow as tf\n",
    "import pathlib\n",
    "import os\n",
    "import matplotlib.pyplot as plt\n",
    "import pandas as pd\n",
    "import numpy as np\n",
    "import keras"
   ]
  },
  {
   "cell_type": "code",
   "execution_count": 2,
   "id": "20fccfc6",
   "metadata": {
    "ExecuteTime": {
     "end_time": "2023-02-08T00:47:07.974567Z",
     "start_time": "2023-02-08T00:47:07.958393Z"
    }
   },
   "outputs": [],
   "source": [
    "from tensorflow.keras import Sequential\n",
    "from tensorflow.keras.layers import Conv2D\n",
    "from tensorflow.keras.layers import MaxPooling2D\n",
    "from tensorflow.keras.layers import AveragePooling2D\n",
    "from tensorflow.keras.layers import Dense\n",
    "from tensorflow.keras.layers import Flatten\n",
    "from tensorflow.keras.layers import Dropout, BatchNormalization"
   ]
  },
  {
   "cell_type": "code",
   "execution_count": 3,
   "id": "1c769735",
   "metadata": {
    "ExecuteTime": {
     "end_time": "2023-02-08T00:47:08.349439Z",
     "start_time": "2023-02-08T00:47:08.275625Z"
    }
   },
   "outputs": [
    {
     "name": "stdout",
     "output_type": "stream",
     "text": [
      "WARNING:tensorflow:From C:\\Users\\rafae\\AppData\\Local\\Temp\\ipykernel_27856\\337460670.py:1: is_gpu_available (from tensorflow.python.framework.test_util) is deprecated and will be removed in a future version.\n",
      "Instructions for updating:\n",
      "Use `tf.config.list_physical_devices('GPU')` instead.\n"
     ]
    },
    {
     "data": {
      "text/plain": [
       "True"
      ]
     },
     "execution_count": 3,
     "metadata": {},
     "output_type": "execute_result"
    }
   ],
   "source": [
    "tf.test.is_gpu_available()"
   ]
  },
  {
   "cell_type": "markdown",
   "id": "d94b2fbd",
   "metadata": {},
   "source": [
    "# Importamos los datos"
   ]
  },
  {
   "cell_type": "code",
   "execution_count": 4,
   "id": "2cdd79aa",
   "metadata": {
    "ExecuteTime": {
     "end_time": "2023-02-08T00:47:09.016192Z",
     "start_time": "2023-02-08T00:47:09.004836Z"
    }
   },
   "outputs": [],
   "source": [
    "path = 'D:/Documentos de trabajo/Maestría/Tesis Maestría/Trabajo Python Tesis/Github Tesis/Base de datos'"
   ]
  },
  {
   "cell_type": "markdown",
   "id": "39beab0c",
   "metadata": {},
   "source": [
    "## Datos de entrenamiento"
   ]
  },
  {
   "cell_type": "markdown",
   "id": "ca636b58",
   "metadata": {},
   "source": [
    "### Datos"
   ]
  },
  {
   "cell_type": "code",
   "execution_count": 5,
   "id": "ac8ee3cc",
   "metadata": {
    "ExecuteTime": {
     "end_time": "2023-02-08T00:47:10.102090Z",
     "start_time": "2023-02-08T00:47:10.039193Z"
    }
   },
   "outputs": [],
   "source": [
    "varftrain = np.load(path + '/varftrain.npy')"
   ]
  },
  {
   "cell_type": "code",
   "execution_count": 6,
   "id": "a2977931",
   "metadata": {
    "ExecuteTime": {
     "end_time": "2023-02-08T00:47:10.419285Z",
     "start_time": "2023-02-08T00:47:10.401141Z"
    }
   },
   "outputs": [
    {
     "data": {
      "text/plain": [
       "(7000, 10, 2, 200)"
      ]
     },
     "execution_count": 6,
     "metadata": {},
     "output_type": "execute_result"
    }
   ],
   "source": [
    "np.shape(varftrain)"
   ]
  },
  {
   "cell_type": "markdown",
   "id": "4a0e5fa2",
   "metadata": {},
   "source": [
    "### Coeficientes"
   ]
  },
  {
   "cell_type": "code",
   "execution_count": 7,
   "id": "45e5d25a",
   "metadata": {
    "ExecuteTime": {
     "end_time": "2023-02-08T00:47:11.049500Z",
     "start_time": "2023-02-08T00:47:11.038599Z"
    }
   },
   "outputs": [],
   "source": [
    "coefvarftrain = np.load(path + '/coefvarftrain.npy')"
   ]
  },
  {
   "cell_type": "code",
   "execution_count": 8,
   "id": "88f0323d",
   "metadata": {
    "ExecuteTime": {
     "end_time": "2023-02-08T00:47:11.386769Z",
     "start_time": "2023-02-08T00:47:11.378487Z"
    }
   },
   "outputs": [
    {
     "data": {
      "text/plain": [
       "(7000, 7)"
      ]
     },
     "execution_count": 8,
     "metadata": {},
     "output_type": "execute_result"
    }
   ],
   "source": [
    "np.shape(coefvarftrain)"
   ]
  },
  {
   "cell_type": "markdown",
   "id": "c89d3216",
   "metadata": {},
   "source": [
    "## Datos de prueba"
   ]
  },
  {
   "cell_type": "markdown",
   "id": "df843cea",
   "metadata": {},
   "source": [
    "### Datos"
   ]
  },
  {
   "cell_type": "code",
   "execution_count": 9,
   "id": "74030537",
   "metadata": {
    "ExecuteTime": {
     "end_time": "2023-02-08T00:47:12.516109Z",
     "start_time": "2023-02-08T00:47:12.490204Z"
    }
   },
   "outputs": [],
   "source": [
    "varftest = np.load(path + '/varftest.npy')"
   ]
  },
  {
   "cell_type": "code",
   "execution_count": 10,
   "id": "d6196850",
   "metadata": {
    "ExecuteTime": {
     "end_time": "2023-02-08T00:47:12.845102Z",
     "start_time": "2023-02-08T00:47:12.838126Z"
    }
   },
   "outputs": [
    {
     "data": {
      "text/plain": [
       "(2000, 10, 2, 200)"
      ]
     },
     "execution_count": 10,
     "metadata": {},
     "output_type": "execute_result"
    }
   ],
   "source": [
    "np.shape(varftest)"
   ]
  },
  {
   "cell_type": "markdown",
   "id": "46a3e36d",
   "metadata": {},
   "source": [
    "### Coeficientes"
   ]
  },
  {
   "cell_type": "code",
   "execution_count": 11,
   "id": "cf22c486",
   "metadata": {
    "ExecuteTime": {
     "end_time": "2023-02-08T00:47:13.455223Z",
     "start_time": "2023-02-08T00:47:13.448246Z"
    }
   },
   "outputs": [],
   "source": [
    "coefvarftest = np.load(path + '/coefvarftest.npy')"
   ]
  },
  {
   "cell_type": "code",
   "execution_count": 12,
   "id": "545559ea",
   "metadata": {
    "ExecuteTime": {
     "end_time": "2023-02-08T00:47:13.769024Z",
     "start_time": "2023-02-08T00:47:13.762048Z"
    }
   },
   "outputs": [
    {
     "data": {
      "text/plain": [
       "(2000, 7)"
      ]
     },
     "execution_count": 12,
     "metadata": {},
     "output_type": "execute_result"
    }
   ],
   "source": [
    "np.shape(coefvarftest)"
   ]
  },
  {
   "cell_type": "markdown",
   "id": "63024745",
   "metadata": {},
   "source": [
    "## Datos de validación"
   ]
  },
  {
   "cell_type": "markdown",
   "id": "9e38f1d7",
   "metadata": {},
   "source": [
    "### Datos"
   ]
  },
  {
   "cell_type": "code",
   "execution_count": 13,
   "id": "6e5768b7",
   "metadata": {
    "ExecuteTime": {
     "end_time": "2023-02-08T00:47:14.748029Z",
     "start_time": "2023-02-08T00:47:14.726131Z"
    }
   },
   "outputs": [],
   "source": [
    "varfval = np.load(path + '/varfval.npy')"
   ]
  },
  {
   "cell_type": "code",
   "execution_count": 14,
   "id": "a29f5ec0",
   "metadata": {
    "ExecuteTime": {
     "end_time": "2023-02-08T00:47:15.074757Z",
     "start_time": "2023-02-08T00:47:15.066538Z"
    }
   },
   "outputs": [
    {
     "data": {
      "text/plain": [
       "(1000, 10, 2, 200)"
      ]
     },
     "execution_count": 14,
     "metadata": {},
     "output_type": "execute_result"
    }
   ],
   "source": [
    "np.shape(varfval)"
   ]
  },
  {
   "cell_type": "markdown",
   "id": "ffc618a2",
   "metadata": {},
   "source": [
    "### Coeficienes"
   ]
  },
  {
   "cell_type": "code",
   "execution_count": 15,
   "id": "b323751c",
   "metadata": {
    "ExecuteTime": {
     "end_time": "2023-02-08T00:47:15.648302Z",
     "start_time": "2023-02-08T00:47:15.639332Z"
    }
   },
   "outputs": [],
   "source": [
    "coefvarfval = np.load(path + '/coefvarfval.npy')"
   ]
  },
  {
   "cell_type": "code",
   "execution_count": 16,
   "id": "60df7d7d",
   "metadata": {
    "ExecuteTime": {
     "end_time": "2023-02-08T00:47:15.923888Z",
     "start_time": "2023-02-08T00:47:15.913552Z"
    }
   },
   "outputs": [
    {
     "data": {
      "text/plain": [
       "(1000, 7)"
      ]
     },
     "execution_count": 16,
     "metadata": {},
     "output_type": "execute_result"
    }
   ],
   "source": [
    "np.shape(coefvarfval)"
   ]
  },
  {
   "cell_type": "markdown",
   "id": "e069562d",
   "metadata": {},
   "source": [
    "# Unimos coeficientes con los datos"
   ]
  },
  {
   "cell_type": "code",
   "execution_count": 17,
   "id": "a973df40",
   "metadata": {
    "ExecuteTime": {
     "end_time": "2023-02-08T00:47:16.841179Z",
     "start_time": "2023-02-08T00:47:16.573982Z"
    }
   },
   "outputs": [],
   "source": [
    "train_dataset = tf.data.Dataset.from_tensor_slices((varftrain, coefvarftrain))\n",
    "test_dataset = tf.data.Dataset.from_tensor_slices((varftest, coefvarftest))\n",
    "val_dataset = tf.data.Dataset.from_tensor_slices((varfval, coefvarfval))"
   ]
  },
  {
   "cell_type": "code",
   "execution_count": 18,
   "id": "bc7ee207",
   "metadata": {
    "ExecuteTime": {
     "end_time": "2023-02-08T00:47:17.031067Z",
     "start_time": "2023-02-08T00:47:17.017144Z"
    }
   },
   "outputs": [
    {
     "data": {
      "text/plain": [
       "<TensorSliceDataset element_spec=(TensorSpec(shape=(10, 2, 200), dtype=tf.float64, name=None), TensorSpec(shape=(7,), dtype=tf.int32, name=None))>"
      ]
     },
     "execution_count": 18,
     "metadata": {},
     "output_type": "execute_result"
    }
   ],
   "source": [
    "train_dataset"
   ]
  },
  {
   "cell_type": "markdown",
   "id": "05ebcd40",
   "metadata": {
    "ExecuteTime": {
     "end_time": "2023-02-07T19:36:45.065835Z",
     "start_time": "2023-02-07T19:36:45.042683Z"
    }
   },
   "source": [
    "# Mezclar y procesar por lotes los conjuntos de datos"
   ]
  },
  {
   "cell_type": "code",
   "execution_count": 19,
   "id": "eca4c6bc",
   "metadata": {
    "ExecuteTime": {
     "end_time": "2023-02-08T00:47:17.972768Z",
     "start_time": "2023-02-08T00:47:17.953403Z"
    }
   },
   "outputs": [],
   "source": [
    "BATCH_SIZE = 100\n",
    "SHUFFLE_BUFFER_SIZE = 100\n",
    "\n",
    "train_dataset = train_dataset.shuffle(SHUFFLE_BUFFER_SIZE).batch(BATCH_SIZE)\n",
    "test_dataset = test_dataset.batch(BATCH_SIZE)\n",
    "val_dataset = val_dataset.batch(BATCH_SIZE)"
   ]
  },
  {
   "cell_type": "markdown",
   "id": "76914f6c",
   "metadata": {},
   "source": [
    "# Creación del modelo"
   ]
  },
  {
   "cell_type": "code",
   "execution_count": 20,
   "id": "e4f113f9",
   "metadata": {
    "ExecuteTime": {
     "end_time": "2023-02-08T00:47:18.791520Z",
     "start_time": "2023-02-08T00:47:18.725074Z"
    }
   },
   "outputs": [],
   "source": [
    "#model = Sequential()\n",
    "\n",
    "model = tf.keras.Sequential([\n",
    "    tf.keras.layers.Flatten(input_shape=(10,2,200)),\n",
    "    tf.keras.layers.BatchNormalization(),\n",
    "    tf.keras.layers.Dense(128, activation='relu'),\n",
    "    tf.keras.layers.Dense(64, activation='relu'),\n",
    "    tf.keras.layers.Dense(128, activation='relu'),\n",
    "    tf.keras.layers.Dense(64, activation='relu'),\n",
    "    tf.keras.layers.Dropout(0.2),\n",
    "    tf.keras.layers.BatchNormalization(),\n",
    "    tf.keras.layers.Dense(7)\n",
    "])\n"
   ]
  },
  {
   "cell_type": "code",
   "execution_count": 21,
   "id": "45fd641f",
   "metadata": {
    "ExecuteTime": {
     "end_time": "2023-02-08T00:47:19.463970Z",
     "start_time": "2023-02-08T00:47:19.452011Z"
    }
   },
   "outputs": [
    {
     "name": "stdout",
     "output_type": "stream",
     "text": [
      "Model: \"sequential\"\n",
      "_________________________________________________________________\n",
      " Layer (type)                Output Shape              Param #   \n",
      "=================================================================\n",
      " flatten (Flatten)           (None, 4000)              0         \n",
      "                                                                 \n",
      " batch_normalization (BatchN  (None, 4000)             16000     \n",
      " ormalization)                                                   \n",
      "                                                                 \n",
      " dense (Dense)               (None, 128)               512128    \n",
      "                                                                 \n",
      " dense_1 (Dense)             (None, 64)                8256      \n",
      "                                                                 \n",
      " dense_2 (Dense)             (None, 128)               8320      \n",
      "                                                                 \n",
      " dense_3 (Dense)             (None, 64)                8256      \n",
      "                                                                 \n",
      " dropout (Dropout)           (None, 64)                0         \n",
      "                                                                 \n",
      " batch_normalization_1 (Batc  (None, 64)               256       \n",
      " hNormalization)                                                 \n",
      "                                                                 \n",
      " dense_4 (Dense)             (None, 7)                 455       \n",
      "                                                                 \n",
      "=================================================================\n",
      "Total params: 553,671\n",
      "Trainable params: 545,543\n",
      "Non-trainable params: 8,128\n",
      "_________________________________________________________________\n"
     ]
    }
   ],
   "source": [
    "model.summary()"
   ]
  },
  {
   "cell_type": "markdown",
   "id": "b761554a",
   "metadata": {},
   "source": [
    "# Entrenamos el modelo"
   ]
  },
  {
   "cell_type": "code",
   "execution_count": 23,
   "id": "4316785f",
   "metadata": {
    "ExecuteTime": {
     "end_time": "2023-02-08T00:47:20.255892Z",
     "start_time": "2023-02-08T00:47:20.246918Z"
    }
   },
   "outputs": [],
   "source": [
    "model.compile(optimizer='adam',\n",
    "              loss='MSE',\n",
    "              metrics=['accuracy'])"
   ]
  },
  {
   "cell_type": "code",
   "execution_count": 24,
   "id": "d1303e8d",
   "metadata": {
    "ExecuteTime": {
     "end_time": "2023-02-08T00:47:20.916371Z",
     "start_time": "2023-02-08T00:47:20.902418Z"
    }
   },
   "outputs": [],
   "source": [
    "def scheduler(epoch, lr):\n",
    "  if epoch < 15:\n",
    "    return lr\n",
    "  else:\n",
    "    return 1e-3 * 0.95 ** epoch"
   ]
  },
  {
   "cell_type": "code",
   "execution_count": 25,
   "id": "88d710c6",
   "metadata": {
    "ExecuteTime": {
     "end_time": "2023-02-08T00:53:22.515010Z",
     "start_time": "2023-02-08T00:47:21.528396Z"
    }
   },
   "outputs": [
    {
     "name": "stdout",
     "output_type": "stream",
     "text": [
      "Epoch 1/10000\n",
      "70/70 [==============================] - 1s 8ms/step - loss: 28.5456 - accuracy: 0.2111 - val_loss: 26.4095 - val_accuracy: 0.2550 - lr: 0.0010\n",
      "Epoch 2/10000\n",
      "70/70 [==============================] - 1s 7ms/step - loss: 21.5279 - accuracy: 0.2766 - val_loss: 13.4049 - val_accuracy: 0.3170 - lr: 0.0010\n",
      "Epoch 3/10000\n",
      "70/70 [==============================] - 0s 7ms/step - loss: 12.5935 - accuracy: 0.2893 - val_loss: 8.7178 - val_accuracy: 0.2910 - lr: 0.0010\n",
      "Epoch 4/10000\n",
      "70/70 [==============================] - 0s 7ms/step - loss: 7.8716 - accuracy: 0.3076 - val_loss: 6.7178 - val_accuracy: 0.3390 - lr: 0.0010\n",
      "Epoch 5/10000\n",
      "70/70 [==============================] - 0s 6ms/step - loss: 7.0514 - accuracy: 0.3114 - val_loss: 6.8197 - val_accuracy: 0.3360 - lr: 0.0010\n",
      "Epoch 6/10000\n",
      "70/70 [==============================] - 0s 7ms/step - loss: 6.8907 - accuracy: 0.3200 - val_loss: 6.6435 - val_accuracy: 0.3410 - lr: 0.0010\n",
      "Epoch 7/10000\n",
      "70/70 [==============================] - 0s 7ms/step - loss: 6.7748 - accuracy: 0.3181 - val_loss: 6.4205 - val_accuracy: 0.3460 - lr: 0.0010\n",
      "Epoch 8/10000\n",
      "70/70 [==============================] - 0s 7ms/step - loss: 6.7229 - accuracy: 0.3271 - val_loss: 6.5883 - val_accuracy: 0.3380 - lr: 0.0010\n",
      "Epoch 9/10000\n",
      "70/70 [==============================] - 1s 8ms/step - loss: 6.6650 - accuracy: 0.3226 - val_loss: 9.5888 - val_accuracy: 0.3040 - lr: 0.0010\n",
      "Epoch 10/10000\n",
      "70/70 [==============================] - 0s 7ms/step - loss: 6.6591 - accuracy: 0.3199 - val_loss: 7.2412 - val_accuracy: 0.3670 - lr: 0.0010\n",
      "Epoch 11/10000\n",
      "70/70 [==============================] - 0s 6ms/step - loss: 6.4231 - accuracy: 0.3306 - val_loss: 6.5241 - val_accuracy: 0.3400 - lr: 0.0010\n",
      "Epoch 12/10000\n",
      "70/70 [==============================] - 0s 7ms/step - loss: 6.3006 - accuracy: 0.3374 - val_loss: 6.2933 - val_accuracy: 0.3620 - lr: 0.0010\n",
      "Epoch 13/10000\n",
      "70/70 [==============================] - 0s 7ms/step - loss: 6.2507 - accuracy: 0.3346 - val_loss: 6.3296 - val_accuracy: 0.3540 - lr: 0.0010\n",
      "Epoch 14/10000\n",
      "70/70 [==============================] - 0s 7ms/step - loss: 6.1928 - accuracy: 0.3406 - val_loss: 7.8902 - val_accuracy: 0.3340 - lr: 0.0010\n",
      "Epoch 15/10000\n",
      "70/70 [==============================] - 0s 7ms/step - loss: 6.1607 - accuracy: 0.3413 - val_loss: 6.1929 - val_accuracy: 0.3540 - lr: 0.0010\n",
      "Epoch 16/10000\n",
      "70/70 [==============================] - 0s 7ms/step - loss: 5.9578 - accuracy: 0.3461 - val_loss: 5.8935 - val_accuracy: 0.3670 - lr: 4.6329e-04\n",
      "Epoch 17/10000\n",
      "70/70 [==============================] - 0s 7ms/step - loss: 5.8773 - accuracy: 0.3531 - val_loss: 5.8850 - val_accuracy: 0.3560 - lr: 4.4013e-04\n",
      "Epoch 18/10000\n",
      "70/70 [==============================] - 0s 7ms/step - loss: 5.9077 - accuracy: 0.3446 - val_loss: 6.1516 - val_accuracy: 0.3790 - lr: 4.1812e-04\n",
      "Epoch 19/10000\n",
      "70/70 [==============================] - 0s 7ms/step - loss: 5.8261 - accuracy: 0.3527 - val_loss: 5.6664 - val_accuracy: 0.3760 - lr: 3.9721e-04\n",
      "Epoch 20/10000\n",
      "70/70 [==============================] - 0s 7ms/step - loss: 5.7979 - accuracy: 0.3523 - val_loss: 5.7278 - val_accuracy: 0.3670 - lr: 3.7735e-04\n",
      "Epoch 21/10000\n",
      "70/70 [==============================] - 0s 7ms/step - loss: 5.7516 - accuracy: 0.3514 - val_loss: 5.6803 - val_accuracy: 0.3770 - lr: 3.5849e-04\n",
      "Epoch 22/10000\n",
      "70/70 [==============================] - 0s 7ms/step - loss: 5.7330 - accuracy: 0.3570 - val_loss: 5.6539 - val_accuracy: 0.3630 - lr: 3.4056e-04\n",
      "Epoch 23/10000\n",
      "70/70 [==============================] - 0s 7ms/step - loss: 5.6792 - accuracy: 0.3529 - val_loss: 5.7022 - val_accuracy: 0.3820 - lr: 3.2353e-04\n",
      "Epoch 24/10000\n",
      "70/70 [==============================] - 1s 7ms/step - loss: 5.6925 - accuracy: 0.3557 - val_loss: 5.5340 - val_accuracy: 0.3870 - lr: 3.0736e-04\n",
      "Epoch 25/10000\n",
      "70/70 [==============================] - 1s 7ms/step - loss: 5.6524 - accuracy: 0.3567 - val_loss: 5.4041 - val_accuracy: 0.3740 - lr: 2.9199e-04\n",
      "Epoch 26/10000\n",
      "70/70 [==============================] - 0s 7ms/step - loss: 5.6231 - accuracy: 0.3573 - val_loss: 5.4623 - val_accuracy: 0.3720 - lr: 2.7739e-04\n",
      "Epoch 27/10000\n",
      "70/70 [==============================] - 0s 7ms/step - loss: 5.6307 - accuracy: 0.3536 - val_loss: 5.5317 - val_accuracy: 0.3900 - lr: 2.6352e-04\n",
      "Epoch 28/10000\n",
      "70/70 [==============================] - 0s 7ms/step - loss: 5.5648 - accuracy: 0.3601 - val_loss: 5.4485 - val_accuracy: 0.3720 - lr: 2.5034e-04\n",
      "Epoch 29/10000\n",
      "70/70 [==============================] - 0s 7ms/step - loss: 5.5706 - accuracy: 0.3551 - val_loss: 5.4216 - val_accuracy: 0.3840 - lr: 2.3783e-04\n",
      "Epoch 30/10000\n",
      "70/70 [==============================] - 0s 7ms/step - loss: 5.5423 - accuracy: 0.3580 - val_loss: 5.4643 - val_accuracy: 0.3690 - lr: 2.2594e-04\n",
      "Epoch 31/10000\n",
      "70/70 [==============================] - 0s 7ms/step - loss: 5.5353 - accuracy: 0.3630 - val_loss: 5.3969 - val_accuracy: 0.3800 - lr: 2.1464e-04\n",
      "Epoch 32/10000\n",
      "70/70 [==============================] - 0s 7ms/step - loss: 5.4592 - accuracy: 0.3621 - val_loss: 5.3109 - val_accuracy: 0.3870 - lr: 2.0391e-04\n",
      "Epoch 33/10000\n",
      "70/70 [==============================] - 1s 8ms/step - loss: 5.4306 - accuracy: 0.3601 - val_loss: 5.3812 - val_accuracy: 0.3730 - lr: 1.9371e-04\n",
      "Epoch 34/10000\n",
      "70/70 [==============================] - 0s 6ms/step - loss: 5.4519 - accuracy: 0.3677 - val_loss: 5.4598 - val_accuracy: 0.3980 - lr: 1.8403e-04\n",
      "Epoch 35/10000\n",
      "70/70 [==============================] - 1s 7ms/step - loss: 5.4235 - accuracy: 0.3674 - val_loss: 5.4625 - val_accuracy: 0.3910 - lr: 1.7482e-04\n",
      "Epoch 36/10000\n",
      "70/70 [==============================] - 0s 7ms/step - loss: 5.4104 - accuracy: 0.3654 - val_loss: 5.4890 - val_accuracy: 0.3860 - lr: 1.6608e-04\n",
      "Epoch 37/10000\n",
      "70/70 [==============================] - 0s 7ms/step - loss: 5.4027 - accuracy: 0.3654 - val_loss: 5.3510 - val_accuracy: 0.3990 - lr: 1.5778e-04\n",
      "Epoch 38/10000\n",
      "70/70 [==============================] - 0s 7ms/step - loss: 5.3537 - accuracy: 0.3709 - val_loss: 5.3853 - val_accuracy: 0.3950 - lr: 1.4989e-04\n",
      "Epoch 39/10000\n",
      "70/70 [==============================] - 0s 7ms/step - loss: 5.3559 - accuracy: 0.3730 - val_loss: 5.2952 - val_accuracy: 0.4070 - lr: 1.4240e-04\n",
      "Epoch 40/10000\n",
      "70/70 [==============================] - 0s 6ms/step - loss: 5.3266 - accuracy: 0.3756 - val_loss: 5.3691 - val_accuracy: 0.4080 - lr: 1.3528e-04\n",
      "Epoch 41/10000\n",
      "70/70 [==============================] - 0s 7ms/step - loss: 5.3889 - accuracy: 0.3760 - val_loss: 5.4614 - val_accuracy: 0.3850 - lr: 1.2851e-04\n",
      "Epoch 42/10000\n",
      "70/70 [==============================] - 0s 7ms/step - loss: 5.3195 - accuracy: 0.3789 - val_loss: 5.3895 - val_accuracy: 0.3940 - lr: 1.2209e-04\n",
      "Epoch 43/10000\n",
      "70/70 [==============================] - 0s 7ms/step - loss: 5.2898 - accuracy: 0.3757 - val_loss: 5.3578 - val_accuracy: 0.3980 - lr: 1.1598e-04\n",
      "Epoch 44/10000\n",
      "70/70 [==============================] - 0s 7ms/step - loss: 5.2874 - accuracy: 0.3784 - val_loss: 5.4285 - val_accuracy: 0.3900 - lr: 1.1018e-04\n",
      "Epoch 45/10000\n",
      "70/70 [==============================] - 0s 7ms/step - loss: 5.2823 - accuracy: 0.3779 - val_loss: 5.2112 - val_accuracy: 0.3900 - lr: 1.0467e-04\n",
      "Epoch 46/10000\n",
      "70/70 [==============================] - 0s 7ms/step - loss: 5.2859 - accuracy: 0.3789 - val_loss: 5.0725 - val_accuracy: 0.4040 - lr: 9.9440e-05\n",
      "Epoch 47/10000\n",
      "70/70 [==============================] - 0s 7ms/step - loss: 5.2518 - accuracy: 0.3840 - val_loss: 5.1454 - val_accuracy: 0.4010 - lr: 9.4468e-05\n",
      "Epoch 48/10000\n",
      "70/70 [==============================] - 0s 7ms/step - loss: 5.2314 - accuracy: 0.3853 - val_loss: 5.1016 - val_accuracy: 0.3960 - lr: 8.9745e-05\n",
      "Epoch 49/10000\n",
      "70/70 [==============================] - 0s 6ms/step - loss: 5.2548 - accuracy: 0.3859 - val_loss: 5.0660 - val_accuracy: 0.3960 - lr: 8.5258e-05\n",
      "Epoch 50/10000\n",
      "70/70 [==============================] - 0s 7ms/step - loss: 5.2526 - accuracy: 0.3851 - val_loss: 5.2677 - val_accuracy: 0.3790 - lr: 8.0995e-05\n",
      "Epoch 51/10000\n",
      "70/70 [==============================] - 0s 7ms/step - loss: 5.2068 - accuracy: 0.3881 - val_loss: 5.0101 - val_accuracy: 0.3860 - lr: 7.6945e-05\n",
      "Epoch 52/10000\n"
     ]
    },
    {
     "name": "stdout",
     "output_type": "stream",
     "text": [
      "70/70 [==============================] - 0s 7ms/step - loss: 5.1889 - accuracy: 0.3909 - val_loss: 5.2342 - val_accuracy: 0.3880 - lr: 7.3098e-05\n",
      "Epoch 53/10000\n",
      "70/70 [==============================] - 0s 7ms/step - loss: 5.1799 - accuracy: 0.3863 - val_loss: 5.0341 - val_accuracy: 0.3930 - lr: 6.9443e-05\n",
      "Epoch 54/10000\n",
      "70/70 [==============================] - 1s 7ms/step - loss: 5.1845 - accuracy: 0.3899 - val_loss: 5.0810 - val_accuracy: 0.4020 - lr: 6.5971e-05\n",
      "Epoch 55/10000\n",
      "70/70 [==============================] - 1s 7ms/step - loss: 5.2074 - accuracy: 0.3917 - val_loss: 5.1086 - val_accuracy: 0.3920 - lr: 6.2672e-05\n",
      "Epoch 56/10000\n",
      "70/70 [==============================] - 0s 6ms/step - loss: 5.2015 - accuracy: 0.3901 - val_loss: 5.0062 - val_accuracy: 0.4120 - lr: 5.9539e-05\n",
      "Epoch 57/10000\n",
      "70/70 [==============================] - 0s 7ms/step - loss: 5.1510 - accuracy: 0.3943 - val_loss: 5.1615 - val_accuracy: 0.3900 - lr: 5.6562e-05\n",
      "Epoch 58/10000\n",
      "70/70 [==============================] - 0s 6ms/step - loss: 5.1966 - accuracy: 0.3937 - val_loss: 5.0009 - val_accuracy: 0.4080 - lr: 5.3734e-05\n",
      "Epoch 59/10000\n",
      "70/70 [==============================] - 0s 7ms/step - loss: 5.1630 - accuracy: 0.3907 - val_loss: 5.1106 - val_accuracy: 0.3930 - lr: 5.1047e-05\n",
      "Epoch 60/10000\n",
      "70/70 [==============================] - 0s 6ms/step - loss: 5.1766 - accuracy: 0.3919 - val_loss: 5.0328 - val_accuracy: 0.4020 - lr: 4.8495e-05\n",
      "Epoch 61/10000\n",
      "70/70 [==============================] - 0s 7ms/step - loss: 5.1316 - accuracy: 0.3920 - val_loss: 5.0179 - val_accuracy: 0.3980 - lr: 4.6070e-05\n",
      "Epoch 62/10000\n",
      "70/70 [==============================] - 0s 7ms/step - loss: 5.1593 - accuracy: 0.3927 - val_loss: 5.0714 - val_accuracy: 0.4010 - lr: 4.3766e-05\n",
      "Epoch 63/10000\n",
      "70/70 [==============================] - 0s 7ms/step - loss: 5.1436 - accuracy: 0.3916 - val_loss: 5.0307 - val_accuracy: 0.3940 - lr: 4.1578e-05\n",
      "Epoch 64/10000\n",
      "70/70 [==============================] - 0s 6ms/step - loss: 5.1206 - accuracy: 0.4003 - val_loss: 4.9258 - val_accuracy: 0.4110 - lr: 3.9499e-05\n",
      "Epoch 65/10000\n",
      "70/70 [==============================] - 0s 6ms/step - loss: 5.1578 - accuracy: 0.3900 - val_loss: 4.9971 - val_accuracy: 0.3920 - lr: 3.7524e-05\n",
      "Epoch 66/10000\n",
      "70/70 [==============================] - 0s 7ms/step - loss: 5.1253 - accuracy: 0.3987 - val_loss: 4.9414 - val_accuracy: 0.4130 - lr: 3.5648e-05\n",
      "Epoch 67/10000\n",
      "70/70 [==============================] - 0s 7ms/step - loss: 5.1525 - accuracy: 0.3943 - val_loss: 4.9200 - val_accuracy: 0.4130 - lr: 3.3866e-05\n",
      "Epoch 68/10000\n",
      "70/70 [==============================] - 0s 7ms/step - loss: 5.1438 - accuracy: 0.3920 - val_loss: 4.9302 - val_accuracy: 0.4140 - lr: 3.2172e-05\n",
      "Epoch 69/10000\n",
      "70/70 [==============================] - 0s 7ms/step - loss: 5.1437 - accuracy: 0.3960 - val_loss: 4.9527 - val_accuracy: 0.4060 - lr: 3.0564e-05\n",
      "Epoch 70/10000\n",
      "70/70 [==============================] - 0s 6ms/step - loss: 5.0859 - accuracy: 0.3957 - val_loss: 4.9613 - val_accuracy: 0.4090 - lr: 2.9035e-05\n",
      "Epoch 71/10000\n",
      "70/70 [==============================] - 0s 6ms/step - loss: 5.1139 - accuracy: 0.3930 - val_loss: 4.9140 - val_accuracy: 0.4080 - lr: 2.7584e-05\n",
      "Epoch 72/10000\n",
      "70/70 [==============================] - 0s 7ms/step - loss: 5.0822 - accuracy: 0.3997 - val_loss: 4.9119 - val_accuracy: 0.4180 - lr: 2.6205e-05\n",
      "Epoch 73/10000\n",
      "70/70 [==============================] - 0s 6ms/step - loss: 5.1120 - accuracy: 0.3993 - val_loss: 4.9238 - val_accuracy: 0.4140 - lr: 2.4894e-05\n",
      "Epoch 74/10000\n",
      "70/70 [==============================] - 1s 7ms/step - loss: 5.1140 - accuracy: 0.3944 - val_loss: 4.8991 - val_accuracy: 0.4140 - lr: 2.3650e-05\n",
      "Epoch 75/10000\n",
      "70/70 [==============================] - 1s 7ms/step - loss: 5.0848 - accuracy: 0.3929 - val_loss: 4.8673 - val_accuracy: 0.4190 - lr: 2.2467e-05\n",
      "Epoch 76/10000\n",
      "70/70 [==============================] - 0s 6ms/step - loss: 5.1095 - accuracy: 0.3986 - val_loss: 4.8786 - val_accuracy: 0.4140 - lr: 2.1344e-05\n",
      "Epoch 77/10000\n",
      "70/70 [==============================] - 0s 7ms/step - loss: 5.1051 - accuracy: 0.4027 - val_loss: 4.8983 - val_accuracy: 0.4130 - lr: 2.0277e-05\n",
      "Epoch 78/10000\n",
      "70/70 [==============================] - 0s 7ms/step - loss: 5.1124 - accuracy: 0.3947 - val_loss: 4.8756 - val_accuracy: 0.4180 - lr: 1.9263e-05\n",
      "Epoch 79/10000\n",
      "70/70 [==============================] - 0s 7ms/step - loss: 5.1008 - accuracy: 0.3970 - val_loss: 4.8816 - val_accuracy: 0.4130 - lr: 1.8300e-05\n",
      "Epoch 80/10000\n",
      "70/70 [==============================] - 0s 7ms/step - loss: 5.0830 - accuracy: 0.3979 - val_loss: 4.8575 - val_accuracy: 0.4200 - lr: 1.7385e-05\n",
      "Epoch 81/10000\n",
      "70/70 [==============================] - 0s 7ms/step - loss: 5.0940 - accuracy: 0.3990 - val_loss: 4.8585 - val_accuracy: 0.4250 - lr: 1.6515e-05\n",
      "Epoch 82/10000\n",
      "70/70 [==============================] - 0s 7ms/step - loss: 5.1193 - accuracy: 0.4010 - val_loss: 4.8629 - val_accuracy: 0.4260 - lr: 1.5690e-05\n",
      "Epoch 83/10000\n",
      "70/70 [==============================] - 0s 7ms/step - loss: 5.0923 - accuracy: 0.4014 - val_loss: 4.8690 - val_accuracy: 0.4150 - lr: 1.4905e-05\n",
      "Epoch 84/10000\n",
      "70/70 [==============================] - 0s 6ms/step - loss: 5.1066 - accuracy: 0.3969 - val_loss: 4.8492 - val_accuracy: 0.4270 - lr: 1.4160e-05\n",
      "Epoch 85/10000\n",
      "70/70 [==============================] - 0s 6ms/step - loss: 5.0852 - accuracy: 0.4033 - val_loss: 4.8414 - val_accuracy: 0.4190 - lr: 1.3452e-05\n",
      "Epoch 86/10000\n",
      "70/70 [==============================] - 0s 7ms/step - loss: 5.0726 - accuracy: 0.3994 - val_loss: 4.8501 - val_accuracy: 0.4310 - lr: 1.2779e-05\n",
      "Epoch 87/10000\n",
      "70/70 [==============================] - 0s 7ms/step - loss: 5.0985 - accuracy: 0.4023 - val_loss: 4.8379 - val_accuracy: 0.4260 - lr: 1.2140e-05\n",
      "Epoch 88/10000\n",
      "70/70 [==============================] - 0s 6ms/step - loss: 5.0802 - accuracy: 0.4041 - val_loss: 4.8394 - val_accuracy: 0.4260 - lr: 1.1533e-05\n",
      "Epoch 89/10000\n",
      "70/70 [==============================] - 0s 7ms/step - loss: 5.0396 - accuracy: 0.4056 - val_loss: 4.8461 - val_accuracy: 0.4280 - lr: 1.0957e-05\n",
      "Epoch 90/10000\n",
      "70/70 [==============================] - 0s 6ms/step - loss: 5.0550 - accuracy: 0.4056 - val_loss: 4.8324 - val_accuracy: 0.4290 - lr: 1.0409e-05\n",
      "Epoch 91/10000\n",
      "70/70 [==============================] - 0s 6ms/step - loss: 5.0828 - accuracy: 0.3964 - val_loss: 4.8445 - val_accuracy: 0.4320 - lr: 9.8884e-06\n",
      "Epoch 92/10000\n",
      "70/70 [==============================] - 0s 7ms/step - loss: 5.0311 - accuracy: 0.4040 - val_loss: 4.8340 - val_accuracy: 0.4260 - lr: 9.3939e-06\n",
      "Epoch 93/10000\n",
      "70/70 [==============================] - 0s 7ms/step - loss: 5.0375 - accuracy: 0.4086 - val_loss: 4.8354 - val_accuracy: 0.4260 - lr: 8.9242e-06\n",
      "Epoch 94/10000\n",
      "70/70 [==============================] - 0s 7ms/step - loss: 5.0715 - accuracy: 0.4051 - val_loss: 4.8401 - val_accuracy: 0.4340 - lr: 8.4780e-06\n",
      "Epoch 95/10000\n",
      "70/70 [==============================] - 0s 7ms/step - loss: 5.0638 - accuracy: 0.4026 - val_loss: 4.8331 - val_accuracy: 0.4360 - lr: 8.0541e-06\n",
      "Epoch 96/10000\n",
      "70/70 [==============================] - 0s 7ms/step - loss: 5.0948 - accuracy: 0.3994 - val_loss: 4.8302 - val_accuracy: 0.4260 - lr: 7.6514e-06\n",
      "Epoch 97/10000\n",
      "70/70 [==============================] - 0s 6ms/step - loss: 5.0673 - accuracy: 0.4019 - val_loss: 4.8363 - val_accuracy: 0.4260 - lr: 7.2689e-06\n",
      "Epoch 98/10000\n",
      "70/70 [==============================] - 0s 7ms/step - loss: 5.0567 - accuracy: 0.4031 - val_loss: 4.8303 - val_accuracy: 0.4330 - lr: 6.9054e-06\n",
      "Epoch 99/10000\n",
      "70/70 [==============================] - 0s 7ms/step - loss: 5.0428 - accuracy: 0.4031 - val_loss: 4.8405 - val_accuracy: 0.4300 - lr: 6.5601e-06\n",
      "Epoch 100/10000\n",
      "70/70 [==============================] - 0s 7ms/step - loss: 5.0353 - accuracy: 0.4037 - val_loss: 4.8355 - val_accuracy: 0.4340 - lr: 6.2321e-06\n",
      "Epoch 101/10000\n",
      "70/70 [==============================] - 0s 7ms/step - loss: 5.0680 - accuracy: 0.3971 - val_loss: 4.8234 - val_accuracy: 0.4340 - lr: 5.9205e-06\n",
      "Epoch 102/10000\n",
      "70/70 [==============================] - 0s 7ms/step - loss: 5.0322 - accuracy: 0.4056 - val_loss: 4.8257 - val_accuracy: 0.4300 - lr: 5.6245e-06\n"
     ]
    },
    {
     "name": "stdout",
     "output_type": "stream",
     "text": [
      "Epoch 103/10000\n",
      "70/70 [==============================] - 0s 6ms/step - loss: 5.0115 - accuracy: 0.4059 - val_loss: 4.8251 - val_accuracy: 0.4300 - lr: 5.3433e-06\n",
      "Epoch 104/10000\n",
      "70/70 [==============================] - 0s 6ms/step - loss: 5.0382 - accuracy: 0.4041 - val_loss: 4.8177 - val_accuracy: 0.4300 - lr: 5.0761e-06\n",
      "Epoch 105/10000\n",
      "70/70 [==============================] - 0s 7ms/step - loss: 5.0763 - accuracy: 0.4047 - val_loss: 4.8152 - val_accuracy: 0.4290 - lr: 4.8223e-06\n",
      "Epoch 106/10000\n",
      "70/70 [==============================] - 0s 7ms/step - loss: 5.0655 - accuracy: 0.4054 - val_loss: 4.8177 - val_accuracy: 0.4320 - lr: 4.5812e-06\n",
      "Epoch 107/10000\n",
      "70/70 [==============================] - 0s 7ms/step - loss: 5.0841 - accuracy: 0.4011 - val_loss: 4.8236 - val_accuracy: 0.4310 - lr: 4.3521e-06\n",
      "Epoch 108/10000\n",
      "70/70 [==============================] - 0s 6ms/step - loss: 5.0982 - accuracy: 0.3997 - val_loss: 4.8220 - val_accuracy: 0.4320 - lr: 4.1345e-06\n",
      "Epoch 109/10000\n",
      "70/70 [==============================] - 0s 7ms/step - loss: 5.0774 - accuracy: 0.4031 - val_loss: 4.8249 - val_accuracy: 0.4300 - lr: 3.9278e-06\n",
      "Epoch 110/10000\n",
      "70/70 [==============================] - 0s 6ms/step - loss: 5.0552 - accuracy: 0.4040 - val_loss: 4.8273 - val_accuracy: 0.4280 - lr: 3.7314e-06\n",
      "Epoch 111/10000\n",
      "70/70 [==============================] - 0s 7ms/step - loss: 5.0363 - accuracy: 0.4043 - val_loss: 4.8283 - val_accuracy: 0.4320 - lr: 3.5448e-06\n",
      "Epoch 112/10000\n",
      "70/70 [==============================] - 0s 6ms/step - loss: 5.0570 - accuracy: 0.4057 - val_loss: 4.8206 - val_accuracy: 0.4320 - lr: 3.3676e-06\n",
      "Epoch 113/10000\n",
      "70/70 [==============================] - 0s 7ms/step - loss: 5.0301 - accuracy: 0.4077 - val_loss: 4.8217 - val_accuracy: 0.4290 - lr: 3.1992e-06\n",
      "Epoch 114/10000\n",
      "70/70 [==============================] - 0s 6ms/step - loss: 5.0428 - accuracy: 0.4029 - val_loss: 4.8215 - val_accuracy: 0.4310 - lr: 3.0393e-06\n",
      "Epoch 115/10000\n",
      "70/70 [==============================] - 0s 6ms/step - loss: 5.0683 - accuracy: 0.4027 - val_loss: 4.8219 - val_accuracy: 0.4300 - lr: 2.8873e-06\n",
      "Epoch 116/10000\n",
      "70/70 [==============================] - 0s 7ms/step - loss: 5.0716 - accuracy: 0.4031 - val_loss: 4.8241 - val_accuracy: 0.4300 - lr: 2.7429e-06\n",
      "Epoch 117/10000\n",
      "70/70 [==============================] - 0s 6ms/step - loss: 5.0364 - accuracy: 0.4009 - val_loss: 4.8195 - val_accuracy: 0.4320 - lr: 2.6058e-06\n",
      "Epoch 118/10000\n",
      "70/70 [==============================] - 0s 7ms/step - loss: 5.0374 - accuracy: 0.4069 - val_loss: 4.8176 - val_accuracy: 0.4300 - lr: 2.4755e-06\n",
      "Epoch 119/10000\n",
      "70/70 [==============================] - 0s 7ms/step - loss: 5.0542 - accuracy: 0.4056 - val_loss: 4.8194 - val_accuracy: 0.4310 - lr: 2.3517e-06\n",
      "Epoch 120/10000\n",
      "70/70 [==============================] - 0s 7ms/step - loss: 5.0265 - accuracy: 0.4044 - val_loss: 4.8162 - val_accuracy: 0.4310 - lr: 2.2341e-06\n",
      "Epoch 121/10000\n",
      "70/70 [==============================] - 0s 7ms/step - loss: 5.0427 - accuracy: 0.4020 - val_loss: 4.8189 - val_accuracy: 0.4320 - lr: 2.1224e-06\n",
      "Epoch 122/10000\n",
      "70/70 [==============================] - 0s 7ms/step - loss: 5.1024 - accuracy: 0.4039 - val_loss: 4.8253 - val_accuracy: 0.4310 - lr: 2.0163e-06\n",
      "Epoch 123/10000\n",
      "70/70 [==============================] - 0s 7ms/step - loss: 5.0463 - accuracy: 0.4061 - val_loss: 4.8217 - val_accuracy: 0.4310 - lr: 1.9155e-06\n",
      "Epoch 124/10000\n",
      "70/70 [==============================] - 0s 7ms/step - loss: 5.0435 - accuracy: 0.4051 - val_loss: 4.8162 - val_accuracy: 0.4340 - lr: 1.8197e-06\n",
      "Epoch 125/10000\n",
      "70/70 [==============================] - 0s 6ms/step - loss: 5.0486 - accuracy: 0.4043 - val_loss: 4.8159 - val_accuracy: 0.4310 - lr: 1.7287e-06\n",
      "Epoch 126/10000\n",
      "70/70 [==============================] - 0s 7ms/step - loss: 5.0508 - accuracy: 0.4014 - val_loss: 4.8203 - val_accuracy: 0.4300 - lr: 1.6423e-06\n",
      "Epoch 127/10000\n",
      "70/70 [==============================] - 0s 7ms/step - loss: 5.0353 - accuracy: 0.4040 - val_loss: 4.8187 - val_accuracy: 0.4310 - lr: 1.5602e-06\n",
      "Epoch 128/10000\n",
      "70/70 [==============================] - 0s 7ms/step - loss: 5.0375 - accuracy: 0.4044 - val_loss: 4.8200 - val_accuracy: 0.4320 - lr: 1.4822e-06\n",
      "Epoch 129/10000\n",
      "70/70 [==============================] - 1s 8ms/step - loss: 5.0631 - accuracy: 0.3996 - val_loss: 4.8180 - val_accuracy: 0.4320 - lr: 1.4081e-06\n",
      "Epoch 130/10000\n",
      "70/70 [==============================] - 0s 7ms/step - loss: 5.0504 - accuracy: 0.4003 - val_loss: 4.8163 - val_accuracy: 0.4320 - lr: 1.3377e-06\n",
      "Epoch 131/10000\n",
      "70/70 [==============================] - 1s 7ms/step - loss: 5.0604 - accuracy: 0.4011 - val_loss: 4.8215 - val_accuracy: 0.4310 - lr: 1.2708e-06\n",
      "Epoch 132/10000\n",
      "70/70 [==============================] - 0s 7ms/step - loss: 5.0700 - accuracy: 0.4064 - val_loss: 4.8184 - val_accuracy: 0.4300 - lr: 1.2072e-06\n",
      "Epoch 133/10000\n",
      "70/70 [==============================] - 0s 7ms/step - loss: 5.0402 - accuracy: 0.4049 - val_loss: 4.8207 - val_accuracy: 0.4320 - lr: 1.1469e-06\n",
      "Epoch 134/10000\n",
      "70/70 [==============================] - 0s 7ms/step - loss: 5.0158 - accuracy: 0.4046 - val_loss: 4.8150 - val_accuracy: 0.4320 - lr: 1.0895e-06\n",
      "Epoch 135/10000\n",
      "70/70 [==============================] - 0s 7ms/step - loss: 5.0198 - accuracy: 0.4024 - val_loss: 4.8154 - val_accuracy: 0.4320 - lr: 1.0351e-06\n",
      "Epoch 136/10000\n",
      "70/70 [==============================] - 1s 7ms/step - loss: 5.0788 - accuracy: 0.4083 - val_loss: 4.8157 - val_accuracy: 0.4320 - lr: 9.8330e-07\n",
      "Epoch 137/10000\n",
      "70/70 [==============================] - 1s 7ms/step - loss: 5.0410 - accuracy: 0.4014 - val_loss: 4.8165 - val_accuracy: 0.4310 - lr: 9.3414e-07\n",
      "Epoch 138/10000\n",
      "70/70 [==============================] - 0s 6ms/step - loss: 5.0326 - accuracy: 0.4006 - val_loss: 4.8188 - val_accuracy: 0.4310 - lr: 8.8743e-07\n",
      "Epoch 139/10000\n",
      "70/70 [==============================] - 1s 7ms/step - loss: 5.0341 - accuracy: 0.4084 - val_loss: 4.8175 - val_accuracy: 0.4330 - lr: 8.4306e-07\n",
      "Epoch 140/10000\n",
      "70/70 [==============================] - 1s 8ms/step - loss: 5.0269 - accuracy: 0.4027 - val_loss: 4.8179 - val_accuracy: 0.4330 - lr: 8.0091e-07\n",
      "Epoch 141/10000\n",
      "70/70 [==============================] - 1s 7ms/step - loss: 5.0582 - accuracy: 0.4056 - val_loss: 4.8152 - val_accuracy: 0.4330 - lr: 7.6086e-07\n",
      "Epoch 142/10000\n",
      "70/70 [==============================] - 1s 10ms/step - loss: 5.0408 - accuracy: 0.4036 - val_loss: 4.8157 - val_accuracy: 0.4310 - lr: 7.2282e-07\n",
      "Epoch 143/10000\n",
      "70/70 [==============================] - 1s 8ms/step - loss: 5.0625 - accuracy: 0.4111 - val_loss: 4.8150 - val_accuracy: 0.4310 - lr: 6.8668e-07\n",
      "Epoch 144/10000\n",
      "70/70 [==============================] - 0s 7ms/step - loss: 5.0362 - accuracy: 0.4024 - val_loss: 4.8154 - val_accuracy: 0.4310 - lr: 6.5234e-07\n",
      "Epoch 145/10000\n",
      "70/70 [==============================] - 1s 7ms/step - loss: 5.0532 - accuracy: 0.4043 - val_loss: 4.8176 - val_accuracy: 0.4300 - lr: 6.1973e-07\n",
      "Epoch 146/10000\n",
      "70/70 [==============================] - 0s 7ms/step - loss: 5.0493 - accuracy: 0.4080 - val_loss: 4.8195 - val_accuracy: 0.4310 - lr: 5.8874e-07\n",
      "Epoch 147/10000\n",
      "70/70 [==============================] - 0s 7ms/step - loss: 5.0764 - accuracy: 0.4086 - val_loss: 4.8180 - val_accuracy: 0.4300 - lr: 5.5930e-07\n",
      "Epoch 148/10000\n",
      "70/70 [==============================] - 1s 7ms/step - loss: 5.0434 - accuracy: 0.4064 - val_loss: 4.8180 - val_accuracy: 0.4300 - lr: 5.3134e-07\n",
      "Epoch 149/10000\n",
      "70/70 [==============================] - 0s 7ms/step - loss: 5.0333 - accuracy: 0.4037 - val_loss: 4.8178 - val_accuracy: 0.4300 - lr: 5.0477e-07\n",
      "Epoch 150/10000\n",
      "70/70 [==============================] - 0s 7ms/step - loss: 5.0677 - accuracy: 0.4083 - val_loss: 4.8154 - val_accuracy: 0.4300 - lr: 4.7953e-07\n",
      "Epoch 151/10000\n",
      "70/70 [==============================] - 0s 7ms/step - loss: 5.0767 - accuracy: 0.4047 - val_loss: 4.8145 - val_accuracy: 0.4310 - lr: 4.5555e-07\n",
      "Epoch 152/10000\n",
      "70/70 [==============================] - 0s 6ms/step - loss: 5.0359 - accuracy: 0.4001 - val_loss: 4.8157 - val_accuracy: 0.4310 - lr: 4.3278e-07\n",
      "Epoch 153/10000\n"
     ]
    },
    {
     "name": "stdout",
     "output_type": "stream",
     "text": [
      "70/70 [==============================] - 1s 7ms/step - loss: 5.0188 - accuracy: 0.4069 - val_loss: 4.8143 - val_accuracy: 0.4310 - lr: 4.1114e-07\n",
      "Epoch 154/10000\n",
      "70/70 [==============================] - 1s 7ms/step - loss: 5.0370 - accuracy: 0.4061 - val_loss: 4.8115 - val_accuracy: 0.4330 - lr: 3.9058e-07\n",
      "Epoch 155/10000\n",
      "70/70 [==============================] - 0s 7ms/step - loss: 5.0222 - accuracy: 0.4107 - val_loss: 4.8136 - val_accuracy: 0.4330 - lr: 3.7105e-07\n",
      "Epoch 156/10000\n",
      "70/70 [==============================] - 0s 7ms/step - loss: 5.0616 - accuracy: 0.4077 - val_loss: 4.8125 - val_accuracy: 0.4320 - lr: 3.5250e-07\n",
      "Epoch 157/10000\n",
      "70/70 [==============================] - 0s 7ms/step - loss: 5.0484 - accuracy: 0.4057 - val_loss: 4.8134 - val_accuracy: 0.4310 - lr: 3.3487e-07\n",
      "Epoch 158/10000\n",
      "70/70 [==============================] - 0s 6ms/step - loss: 5.0526 - accuracy: 0.4020 - val_loss: 4.8116 - val_accuracy: 0.4310 - lr: 3.1813e-07\n",
      "Epoch 159/10000\n",
      "70/70 [==============================] - 0s 6ms/step - loss: 5.0633 - accuracy: 0.4031 - val_loss: 4.8166 - val_accuracy: 0.4290 - lr: 3.0222e-07\n",
      "Epoch 160/10000\n",
      "70/70 [==============================] - 0s 6ms/step - loss: 4.9942 - accuracy: 0.4066 - val_loss: 4.8145 - val_accuracy: 0.4290 - lr: 2.8711e-07\n",
      "Epoch 161/10000\n",
      "70/70 [==============================] - 0s 6ms/step - loss: 5.0328 - accuracy: 0.4083 - val_loss: 4.8143 - val_accuracy: 0.4300 - lr: 2.7276e-07\n",
      "Epoch 162/10000\n",
      "70/70 [==============================] - 0s 7ms/step - loss: 5.0386 - accuracy: 0.4079 - val_loss: 4.8154 - val_accuracy: 0.4310 - lr: 2.5912e-07\n",
      "Epoch 163/10000\n",
      "70/70 [==============================] - 0s 6ms/step - loss: 5.0755 - accuracy: 0.3976 - val_loss: 4.8183 - val_accuracy: 0.4300 - lr: 2.4616e-07\n",
      "Epoch 164/10000\n",
      "70/70 [==============================] - 0s 6ms/step - loss: 5.0423 - accuracy: 0.4103 - val_loss: 4.8171 - val_accuracy: 0.4310 - lr: 2.3386e-07\n",
      "Epoch 165/10000\n",
      "70/70 [==============================] - 0s 6ms/step - loss: 5.0455 - accuracy: 0.4013 - val_loss: 4.8154 - val_accuracy: 0.4300 - lr: 2.2216e-07\n",
      "Epoch 166/10000\n",
      "70/70 [==============================] - 0s 6ms/step - loss: 5.0827 - accuracy: 0.3996 - val_loss: 4.8205 - val_accuracy: 0.4310 - lr: 2.1105e-07\n",
      "Epoch 167/10000\n",
      "70/70 [==============================] - 0s 6ms/step - loss: 5.0367 - accuracy: 0.4050 - val_loss: 4.8177 - val_accuracy: 0.4310 - lr: 2.0050e-07\n",
      "Epoch 168/10000\n",
      "70/70 [==============================] - 0s 6ms/step - loss: 5.0300 - accuracy: 0.4097 - val_loss: 4.8127 - val_accuracy: 0.4310 - lr: 1.9048e-07\n",
      "Epoch 169/10000\n",
      "70/70 [==============================] - 0s 7ms/step - loss: 5.0456 - accuracy: 0.4061 - val_loss: 4.8140 - val_accuracy: 0.4320 - lr: 1.8095e-07\n",
      "Epoch 170/10000\n",
      "70/70 [==============================] - 0s 7ms/step - loss: 5.0479 - accuracy: 0.4073 - val_loss: 4.8124 - val_accuracy: 0.4330 - lr: 1.7191e-07\n",
      "Epoch 171/10000\n",
      "70/70 [==============================] - 0s 7ms/step - loss: 5.0241 - accuracy: 0.4040 - val_loss: 4.8118 - val_accuracy: 0.4320 - lr: 1.6331e-07\n",
      "Epoch 172/10000\n",
      "70/70 [==============================] - 0s 6ms/step - loss: 4.9826 - accuracy: 0.4087 - val_loss: 4.8112 - val_accuracy: 0.4330 - lr: 1.5514e-07\n",
      "Epoch 173/10000\n",
      "70/70 [==============================] - 0s 6ms/step - loss: 5.0491 - accuracy: 0.4019 - val_loss: 4.8122 - val_accuracy: 0.4320 - lr: 1.4739e-07\n",
      "Epoch 174/10000\n",
      "70/70 [==============================] - 0s 6ms/step - loss: 5.0365 - accuracy: 0.4024 - val_loss: 4.8207 - val_accuracy: 0.4320 - lr: 1.4002e-07\n",
      "Epoch 175/10000\n",
      "70/70 [==============================] - 0s 6ms/step - loss: 5.0487 - accuracy: 0.4033 - val_loss: 4.8173 - val_accuracy: 0.4310 - lr: 1.3302e-07\n",
      "Epoch 176/10000\n",
      "70/70 [==============================] - 0s 7ms/step - loss: 5.0313 - accuracy: 0.4067 - val_loss: 4.8121 - val_accuracy: 0.4300 - lr: 1.2637e-07\n",
      "Epoch 177/10000\n",
      "70/70 [==============================] - 0s 6ms/step - loss: 5.0764 - accuracy: 0.4050 - val_loss: 4.8166 - val_accuracy: 0.4320 - lr: 1.2005e-07\n",
      "Epoch 178/10000\n",
      "70/70 [==============================] - 0s 6ms/step - loss: 5.0860 - accuracy: 0.4057 - val_loss: 4.8151 - val_accuracy: 0.4290 - lr: 1.1405e-07\n",
      "Epoch 179/10000\n",
      "70/70 [==============================] - 0s 6ms/step - loss: 5.0696 - accuracy: 0.4024 - val_loss: 4.8228 - val_accuracy: 0.4300 - lr: 1.0834e-07\n",
      "Epoch 180/10000\n",
      "70/70 [==============================] - 0s 6ms/step - loss: 5.0400 - accuracy: 0.4064 - val_loss: 4.8200 - val_accuracy: 0.4320 - lr: 1.0293e-07\n",
      "Epoch 181/10000\n",
      "70/70 [==============================] - 0s 7ms/step - loss: 5.0724 - accuracy: 0.4067 - val_loss: 4.8204 - val_accuracy: 0.4320 - lr: 9.7780e-08\n",
      "Epoch 182/10000\n",
      "70/70 [==============================] - 0s 6ms/step - loss: 5.0583 - accuracy: 0.4021 - val_loss: 4.8209 - val_accuracy: 0.4320 - lr: 9.2891e-08\n",
      "Epoch 183/10000\n",
      "70/70 [==============================] - 0s 7ms/step - loss: 5.0610 - accuracy: 0.4017 - val_loss: 4.8228 - val_accuracy: 0.4320 - lr: 8.8246e-08\n",
      "Epoch 184/10000\n",
      "70/70 [==============================] - 0s 6ms/step - loss: 5.0365 - accuracy: 0.4064 - val_loss: 4.8174 - val_accuracy: 0.4320 - lr: 8.3834e-08\n",
      "Epoch 185/10000\n",
      "70/70 [==============================] - 0s 6ms/step - loss: 5.0485 - accuracy: 0.4056 - val_loss: 4.8138 - val_accuracy: 0.4320 - lr: 7.9642e-08\n",
      "Epoch 186/10000\n",
      "70/70 [==============================] - 0s 7ms/step - loss: 5.0615 - accuracy: 0.4041 - val_loss: 4.8179 - val_accuracy: 0.4320 - lr: 7.5660e-08\n",
      "Epoch 187/10000\n",
      "70/70 [==============================] - 0s 6ms/step - loss: 5.0578 - accuracy: 0.4046 - val_loss: 4.8146 - val_accuracy: 0.4300 - lr: 7.1877e-08\n",
      "Epoch 188/10000\n",
      "70/70 [==============================] - 0s 7ms/step - loss: 5.0679 - accuracy: 0.4096 - val_loss: 4.8189 - val_accuracy: 0.4330 - lr: 6.8283e-08\n",
      "Epoch 189/10000\n",
      "70/70 [==============================] - 1s 7ms/step - loss: 5.0560 - accuracy: 0.4060 - val_loss: 4.8161 - val_accuracy: 0.4300 - lr: 6.4869e-08\n",
      "Epoch 190/10000\n",
      "70/70 [==============================] - 1s 8ms/step - loss: 5.0600 - accuracy: 0.4050 - val_loss: 4.8188 - val_accuracy: 0.4320 - lr: 6.1626e-08\n",
      "Epoch 191/10000\n",
      "70/70 [==============================] - 0s 7ms/step - loss: 5.0636 - accuracy: 0.4034 - val_loss: 4.8166 - val_accuracy: 0.4330 - lr: 5.8544e-08\n",
      "Epoch 192/10000\n",
      "70/70 [==============================] - 1s 7ms/step - loss: 5.0796 - accuracy: 0.3994 - val_loss: 4.8184 - val_accuracy: 0.4340 - lr: 5.5617e-08\n",
      "Epoch 193/10000\n",
      "70/70 [==============================] - 0s 7ms/step - loss: 5.0660 - accuracy: 0.3976 - val_loss: 4.8181 - val_accuracy: 0.4320 - lr: 5.2836e-08\n",
      "Epoch 194/10000\n",
      "70/70 [==============================] - 0s 7ms/step - loss: 5.0698 - accuracy: 0.4034 - val_loss: 4.8248 - val_accuracy: 0.4330 - lr: 5.0194e-08\n",
      "Epoch 195/10000\n",
      "70/70 [==============================] - 0s 6ms/step - loss: 5.0530 - accuracy: 0.4081 - val_loss: 4.8202 - val_accuracy: 0.4320 - lr: 4.7685e-08\n",
      "Epoch 196/10000\n",
      "70/70 [==============================] - 0s 7ms/step - loss: 5.0614 - accuracy: 0.3993 - val_loss: 4.8144 - val_accuracy: 0.4320 - lr: 4.5301e-08\n",
      "Epoch 197/10000\n",
      "70/70 [==============================] - 0s 7ms/step - loss: 5.0518 - accuracy: 0.4049 - val_loss: 4.8141 - val_accuracy: 0.4320 - lr: 4.3035e-08\n",
      "Epoch 198/10000\n",
      "70/70 [==============================] - 0s 6ms/step - loss: 5.0553 - accuracy: 0.4080 - val_loss: 4.8134 - val_accuracy: 0.4290 - lr: 4.0884e-08\n",
      "Epoch 199/10000\n",
      "70/70 [==============================] - 0s 7ms/step - loss: 5.0255 - accuracy: 0.4057 - val_loss: 4.8104 - val_accuracy: 0.4290 - lr: 3.8840e-08\n",
      "Epoch 200/10000\n",
      "70/70 [==============================] - 0s 7ms/step - loss: 5.0223 - accuracy: 0.4023 - val_loss: 4.8081 - val_accuracy: 0.4300 - lr: 3.6898e-08\n",
      "Epoch 201/10000\n",
      "70/70 [==============================] - 0s 6ms/step - loss: 5.0545 - accuracy: 0.3994 - val_loss: 4.8101 - val_accuracy: 0.4300 - lr: 3.5053e-08\n",
      "Epoch 202/10000\n",
      "70/70 [==============================] - 0s 7ms/step - loss: 5.0340 - accuracy: 0.4031 - val_loss: 4.8118 - val_accuracy: 0.4340 - lr: 3.3300e-08\n",
      "Epoch 203/10000\n",
      "70/70 [==============================] - 0s 7ms/step - loss: 5.0324 - accuracy: 0.4044 - val_loss: 4.8117 - val_accuracy: 0.4300 - lr: 3.1635e-08\n"
     ]
    },
    {
     "name": "stdout",
     "output_type": "stream",
     "text": [
      "Epoch 204/10000\n",
      "70/70 [==============================] - 0s 7ms/step - loss: 5.0372 - accuracy: 0.4027 - val_loss: 4.8132 - val_accuracy: 0.4320 - lr: 3.0053e-08\n",
      "Epoch 205/10000\n",
      "70/70 [==============================] - 0s 7ms/step - loss: 5.0455 - accuracy: 0.4041 - val_loss: 4.8125 - val_accuracy: 0.4290 - lr: 2.8551e-08\n",
      "Epoch 206/10000\n",
      "70/70 [==============================] - 0s 6ms/step - loss: 5.0380 - accuracy: 0.4050 - val_loss: 4.8151 - val_accuracy: 0.4290 - lr: 2.7123e-08\n",
      "Epoch 207/10000\n",
      "70/70 [==============================] - 0s 7ms/step - loss: 5.0527 - accuracy: 0.4057 - val_loss: 4.8232 - val_accuracy: 0.4310 - lr: 2.5767e-08\n",
      "Epoch 208/10000\n",
      "70/70 [==============================] - 0s 6ms/step - loss: 5.0536 - accuracy: 0.4054 - val_loss: 4.8233 - val_accuracy: 0.4330 - lr: 2.4479e-08\n",
      "Epoch 209/10000\n",
      "70/70 [==============================] - 0s 7ms/step - loss: 5.0187 - accuracy: 0.4044 - val_loss: 4.8184 - val_accuracy: 0.4320 - lr: 2.3255e-08\n",
      "Epoch 210/10000\n",
      "70/70 [==============================] - 0s 7ms/step - loss: 5.1025 - accuracy: 0.4003 - val_loss: 4.8201 - val_accuracy: 0.4330 - lr: 2.2092e-08\n",
      "Epoch 211/10000\n",
      "70/70 [==============================] - 0s 7ms/step - loss: 5.0347 - accuracy: 0.4077 - val_loss: 4.8184 - val_accuracy: 0.4310 - lr: 2.0987e-08\n",
      "Epoch 212/10000\n",
      "70/70 [==============================] - 0s 6ms/step - loss: 5.0175 - accuracy: 0.4076 - val_loss: 4.8142 - val_accuracy: 0.4320 - lr: 1.9938e-08\n",
      "Epoch 213/10000\n",
      "70/70 [==============================] - 0s 6ms/step - loss: 5.0402 - accuracy: 0.4031 - val_loss: 4.8148 - val_accuracy: 0.4310 - lr: 1.8941e-08\n",
      "Epoch 214/10000\n",
      "70/70 [==============================] - 0s 6ms/step - loss: 5.0315 - accuracy: 0.4056 - val_loss: 4.8123 - val_accuracy: 0.4300 - lr: 1.7994e-08\n",
      "Epoch 215/10000\n",
      "70/70 [==============================] - 0s 6ms/step - loss: 5.0555 - accuracy: 0.4034 - val_loss: 4.8133 - val_accuracy: 0.4310 - lr: 1.7094e-08\n",
      "Epoch 216/10000\n",
      "70/70 [==============================] - 0s 6ms/step - loss: 5.0411 - accuracy: 0.4054 - val_loss: 4.8129 - val_accuracy: 0.4310 - lr: 1.6240e-08\n",
      "Epoch 217/10000\n",
      "70/70 [==============================] - 0s 6ms/step - loss: 5.0179 - accuracy: 0.4070 - val_loss: 4.8127 - val_accuracy: 0.4290 - lr: 1.5428e-08\n",
      "Epoch 218/10000\n",
      "70/70 [==============================] - 0s 7ms/step - loss: 5.0422 - accuracy: 0.4034 - val_loss: 4.8165 - val_accuracy: 0.4290 - lr: 1.4656e-08\n",
      "Epoch 219/10000\n",
      "70/70 [==============================] - 0s 7ms/step - loss: 5.0906 - accuracy: 0.4004 - val_loss: 4.8199 - val_accuracy: 0.4320 - lr: 1.3923e-08\n",
      "Epoch 220/10000\n",
      "70/70 [==============================] - 0s 6ms/step - loss: 5.0154 - accuracy: 0.4064 - val_loss: 4.8121 - val_accuracy: 0.4310 - lr: 1.3227e-08\n",
      "Epoch 221/10000\n",
      "70/70 [==============================] - 0s 7ms/step - loss: 5.0611 - accuracy: 0.4046 - val_loss: 4.8144 - val_accuracy: 0.4320 - lr: 1.2566e-08\n",
      "Epoch 222/10000\n",
      "70/70 [==============================] - 0s 6ms/step - loss: 5.0803 - accuracy: 0.4044 - val_loss: 4.8144 - val_accuracy: 0.4340 - lr: 1.1938e-08\n",
      "Epoch 223/10000\n",
      "70/70 [==============================] - 0s 7ms/step - loss: 5.0762 - accuracy: 0.4040 - val_loss: 4.8247 - val_accuracy: 0.4320 - lr: 1.1341e-08\n",
      "Epoch 224/10000\n",
      "70/70 [==============================] - 0s 7ms/step - loss: 5.0424 - accuracy: 0.4007 - val_loss: 4.8230 - val_accuracy: 0.4330 - lr: 1.0774e-08\n",
      "Epoch 225/10000\n",
      "70/70 [==============================] - 0s 7ms/step - loss: 5.0172 - accuracy: 0.4046 - val_loss: 4.8140 - val_accuracy: 0.4310 - lr: 1.0235e-08\n",
      "Epoch 226/10000\n",
      "70/70 [==============================] - 0s 6ms/step - loss: 5.0679 - accuracy: 0.4029 - val_loss: 4.8190 - val_accuracy: 0.4300 - lr: 9.7232e-09\n",
      "Epoch 227/10000\n",
      "70/70 [==============================] - 0s 6ms/step - loss: 5.0194 - accuracy: 0.4053 - val_loss: 4.8139 - val_accuracy: 0.4300 - lr: 9.2371e-09\n",
      "Epoch 228/10000\n",
      "70/70 [==============================] - 0s 7ms/step - loss: 5.0322 - accuracy: 0.4054 - val_loss: 4.8178 - val_accuracy: 0.4330 - lr: 8.7752e-09\n",
      "Epoch 229/10000\n",
      "70/70 [==============================] - 0s 6ms/step - loss: 5.0485 - accuracy: 0.4037 - val_loss: 4.8165 - val_accuracy: 0.4330 - lr: 8.3365e-09\n",
      "Epoch 230/10000\n",
      "70/70 [==============================] - 0s 7ms/step - loss: 5.0299 - accuracy: 0.4050 - val_loss: 4.8155 - val_accuracy: 0.4320 - lr: 7.9196e-09\n",
      "Epoch 231/10000\n",
      "70/70 [==============================] - 0s 7ms/step - loss: 5.0845 - accuracy: 0.4047 - val_loss: 4.8223 - val_accuracy: 0.4330 - lr: 7.5237e-09\n",
      "Epoch 232/10000\n",
      "70/70 [==============================] - 0s 7ms/step - loss: 5.0475 - accuracy: 0.4031 - val_loss: 4.8137 - val_accuracy: 0.4320 - lr: 7.1475e-09\n",
      "Epoch 233/10000\n",
      "70/70 [==============================] - 0s 6ms/step - loss: 5.0337 - accuracy: 0.4093 - val_loss: 4.8124 - val_accuracy: 0.4310 - lr: 6.7901e-09\n",
      "Epoch 234/10000\n",
      "70/70 [==============================] - 0s 6ms/step - loss: 5.0370 - accuracy: 0.4023 - val_loss: 4.8122 - val_accuracy: 0.4310 - lr: 6.4506e-09\n",
      "Epoch 235/10000\n",
      "70/70 [==============================] - 0s 6ms/step - loss: 5.0396 - accuracy: 0.4001 - val_loss: 4.8102 - val_accuracy: 0.4300 - lr: 6.1281e-09\n",
      "Epoch 236/10000\n",
      "70/70 [==============================] - 0s 6ms/step - loss: 5.0427 - accuracy: 0.4007 - val_loss: 4.8177 - val_accuracy: 0.4340 - lr: 5.8217e-09\n",
      "Epoch 237/10000\n",
      "70/70 [==============================] - 0s 6ms/step - loss: 5.0679 - accuracy: 0.4010 - val_loss: 4.8178 - val_accuracy: 0.4320 - lr: 5.5306e-09\n",
      "Epoch 238/10000\n",
      "70/70 [==============================] - 0s 7ms/step - loss: 5.0804 - accuracy: 0.4020 - val_loss: 4.8195 - val_accuracy: 0.4330 - lr: 5.2541e-09\n",
      "Epoch 239/10000\n",
      "70/70 [==============================] - 0s 7ms/step - loss: 5.0411 - accuracy: 0.4046 - val_loss: 4.8204 - val_accuracy: 0.4320 - lr: 4.9914e-09\n",
      "Epoch 240/10000\n",
      "70/70 [==============================] - 0s 6ms/step - loss: 5.0199 - accuracy: 0.4009 - val_loss: 4.8171 - val_accuracy: 0.4330 - lr: 4.7418e-09\n",
      "Epoch 241/10000\n",
      "70/70 [==============================] - 0s 6ms/step - loss: 5.0575 - accuracy: 0.4067 - val_loss: 4.8140 - val_accuracy: 0.4320 - lr: 4.5047e-09\n",
      "Epoch 242/10000\n",
      "70/70 [==============================] - 0s 6ms/step - loss: 5.0562 - accuracy: 0.4067 - val_loss: 4.8148 - val_accuracy: 0.4320 - lr: 4.2795e-09\n",
      "Epoch 243/10000\n",
      "70/70 [==============================] - 0s 7ms/step - loss: 5.0581 - accuracy: 0.4000 - val_loss: 4.8153 - val_accuracy: 0.4320 - lr: 4.0655e-09\n",
      "Epoch 244/10000\n",
      "70/70 [==============================] - 0s 6ms/step - loss: 5.0686 - accuracy: 0.4053 - val_loss: 4.8125 - val_accuracy: 0.4320 - lr: 3.8622e-09\n",
      "Epoch 245/10000\n",
      "70/70 [==============================] - 0s 7ms/step - loss: 5.0517 - accuracy: 0.4050 - val_loss: 4.8180 - val_accuracy: 0.4300 - lr: 3.6691e-09\n",
      "Epoch 246/10000\n",
      "70/70 [==============================] - 0s 7ms/step - loss: 5.0353 - accuracy: 0.4093 - val_loss: 4.8157 - val_accuracy: 0.4310 - lr: 3.4856e-09\n",
      "Epoch 247/10000\n",
      "70/70 [==============================] - 0s 6ms/step - loss: 5.0747 - accuracy: 0.4017 - val_loss: 4.8188 - val_accuracy: 0.4300 - lr: 3.3114e-09\n",
      "Epoch 248/10000\n",
      "70/70 [==============================] - 0s 6ms/step - loss: 5.0502 - accuracy: 0.4047 - val_loss: 4.8219 - val_accuracy: 0.4320 - lr: 3.1458e-09\n",
      "Epoch 249/10000\n",
      "70/70 [==============================] - 0s 6ms/step - loss: 5.0363 - accuracy: 0.4060 - val_loss: 4.8197 - val_accuracy: 0.4330 - lr: 2.9885e-09\n",
      "Epoch 250/10000\n",
      "70/70 [==============================] - 0s 6ms/step - loss: 5.0317 - accuracy: 0.4011 - val_loss: 4.8212 - val_accuracy: 0.4320 - lr: 2.8391e-09\n",
      "Epoch 251/10000\n",
      "70/70 [==============================] - 0s 6ms/step - loss: 5.0396 - accuracy: 0.4059 - val_loss: 4.8163 - val_accuracy: 0.4310 - lr: 2.6971e-09\n",
      "Epoch 252/10000\n",
      "70/70 [==============================] - 0s 7ms/step - loss: 5.0288 - accuracy: 0.4049 - val_loss: 4.8115 - val_accuracy: 0.4320 - lr: 2.5623e-09\n",
      "Epoch 253/10000\n",
      "70/70 [==============================] - 0s 6ms/step - loss: 5.0339 - accuracy: 0.4000 - val_loss: 4.8115 - val_accuracy: 0.4330 - lr: 2.4342e-09\n",
      "Epoch 254/10000\n"
     ]
    },
    {
     "name": "stdout",
     "output_type": "stream",
     "text": [
      "70/70 [==============================] - 0s 6ms/step - loss: 5.0733 - accuracy: 0.4000 - val_loss: 4.8201 - val_accuracy: 0.4320 - lr: 2.3124e-09\n",
      "Epoch 255/10000\n",
      "70/70 [==============================] - 0s 6ms/step - loss: 5.0355 - accuracy: 0.4079 - val_loss: 4.8151 - val_accuracy: 0.4320 - lr: 2.1968e-09\n",
      "Epoch 256/10000\n",
      "70/70 [==============================] - 0s 6ms/step - loss: 5.0317 - accuracy: 0.4036 - val_loss: 4.8135 - val_accuracy: 0.4320 - lr: 2.0870e-09\n",
      "Epoch 257/10000\n",
      "70/70 [==============================] - 0s 7ms/step - loss: 5.0563 - accuracy: 0.4041 - val_loss: 4.8168 - val_accuracy: 0.4320 - lr: 1.9826e-09\n",
      "Epoch 258/10000\n",
      "70/70 [==============================] - 0s 6ms/step - loss: 5.0438 - accuracy: 0.4023 - val_loss: 4.8112 - val_accuracy: 0.4300 - lr: 1.8835e-09\n",
      "Epoch 259/10000\n",
      "70/70 [==============================] - 0s 7ms/step - loss: 4.9916 - accuracy: 0.3977 - val_loss: 4.8108 - val_accuracy: 0.4310 - lr: 1.7893e-09\n",
      "Epoch 260/10000\n",
      "70/70 [==============================] - 0s 6ms/step - loss: 5.0802 - accuracy: 0.4044 - val_loss: 4.8168 - val_accuracy: 0.4320 - lr: 1.6999e-09\n",
      "Epoch 261/10000\n",
      "70/70 [==============================] - 0s 7ms/step - loss: 5.0368 - accuracy: 0.3997 - val_loss: 4.8124 - val_accuracy: 0.4310 - lr: 1.6149e-09\n",
      "Epoch 262/10000\n",
      "70/70 [==============================] - 0s 6ms/step - loss: 5.0362 - accuracy: 0.4049 - val_loss: 4.8104 - val_accuracy: 0.4310 - lr: 1.5341e-09\n",
      "Epoch 263/10000\n",
      "70/70 [==============================] - 0s 6ms/step - loss: 5.0361 - accuracy: 0.4047 - val_loss: 4.8069 - val_accuracy: 0.4300 - lr: 1.4574e-09\n",
      "Epoch 264/10000\n",
      "70/70 [==============================] - 0s 6ms/step - loss: 5.0250 - accuracy: 0.4053 - val_loss: 4.8130 - val_accuracy: 0.4300 - lr: 1.3845e-09\n",
      "Epoch 265/10000\n",
      "70/70 [==============================] - 0s 6ms/step - loss: 5.0180 - accuracy: 0.4060 - val_loss: 4.8106 - val_accuracy: 0.4320 - lr: 1.3153e-09\n",
      "Epoch 266/10000\n",
      "70/70 [==============================] - 0s 7ms/step - loss: 5.0088 - accuracy: 0.4014 - val_loss: 4.8090 - val_accuracy: 0.4330 - lr: 1.2496e-09\n",
      "Epoch 267/10000\n",
      "70/70 [==============================] - 0s 7ms/step - loss: 5.0259 - accuracy: 0.4056 - val_loss: 4.8081 - val_accuracy: 0.4320 - lr: 1.1871e-09\n",
      "Epoch 268/10000\n",
      "70/70 [==============================] - 0s 7ms/step - loss: 5.0464 - accuracy: 0.4037 - val_loss: 4.8087 - val_accuracy: 0.4330 - lr: 1.1277e-09\n",
      "Epoch 269/10000\n",
      "70/70 [==============================] - 0s 7ms/step - loss: 5.0637 - accuracy: 0.4053 - val_loss: 4.8105 - val_accuracy: 0.4320 - lr: 1.0713e-09\n",
      "Epoch 270/10000\n",
      "70/70 [==============================] - 0s 7ms/step - loss: 5.0656 - accuracy: 0.4021 - val_loss: 4.8147 - val_accuracy: 0.4300 - lr: 1.0178e-09\n",
      "Epoch 271/10000\n",
      "70/70 [==============================] - 0s 6ms/step - loss: 5.0744 - accuracy: 0.4033 - val_loss: 4.8151 - val_accuracy: 0.4310 - lr: 9.6688e-10\n",
      "Epoch 272/10000\n",
      "70/70 [==============================] - 0s 7ms/step - loss: 5.0504 - accuracy: 0.4089 - val_loss: 4.8158 - val_accuracy: 0.4300 - lr: 9.1854e-10\n",
      "Epoch 273/10000\n",
      "70/70 [==============================] - 0s 7ms/step - loss: 5.0321 - accuracy: 0.4029 - val_loss: 4.8142 - val_accuracy: 0.4300 - lr: 8.7261e-10\n",
      "Epoch 274/10000\n",
      "70/70 [==============================] - 0s 7ms/step - loss: 5.0587 - accuracy: 0.4006 - val_loss: 4.8183 - val_accuracy: 0.4300 - lr: 8.2898e-10\n",
      "Epoch 275/10000\n",
      "70/70 [==============================] - 0s 6ms/step - loss: 5.0769 - accuracy: 0.4034 - val_loss: 4.8143 - val_accuracy: 0.4320 - lr: 7.8753e-10\n",
      "Epoch 276/10000\n",
      "70/70 [==============================] - 0s 6ms/step - loss: 5.0668 - accuracy: 0.4009 - val_loss: 4.8180 - val_accuracy: 0.4330 - lr: 7.4815e-10\n",
      "Epoch 277/10000\n",
      "70/70 [==============================] - 0s 6ms/step - loss: 5.0522 - accuracy: 0.4046 - val_loss: 4.8170 - val_accuracy: 0.4320 - lr: 7.1075e-10\n",
      "Epoch 278/10000\n",
      "70/70 [==============================] - 0s 6ms/step - loss: 5.0793 - accuracy: 0.4026 - val_loss: 4.8171 - val_accuracy: 0.4320 - lr: 6.7521e-10\n",
      "Epoch 279/10000\n",
      "70/70 [==============================] - 0s 6ms/step - loss: 5.0707 - accuracy: 0.4036 - val_loss: 4.8139 - val_accuracy: 0.4310 - lr: 6.4145e-10\n",
      "Epoch 280/10000\n",
      "70/70 [==============================] - 0s 7ms/step - loss: 5.0484 - accuracy: 0.4076 - val_loss: 4.8168 - val_accuracy: 0.4320 - lr: 6.0938e-10\n",
      "Epoch 281/10000\n",
      "70/70 [==============================] - 0s 7ms/step - loss: 5.0277 - accuracy: 0.4093 - val_loss: 4.8114 - val_accuracy: 0.4310 - lr: 5.7891e-10\n",
      "Epoch 282/10000\n",
      "70/70 [==============================] - 0s 6ms/step - loss: 5.0461 - accuracy: 0.4067 - val_loss: 4.8141 - val_accuracy: 0.4320 - lr: 5.4996e-10\n",
      "Epoch 283/10000\n",
      "70/70 [==============================] - 0s 7ms/step - loss: 5.0580 - accuracy: 0.4039 - val_loss: 4.8118 - val_accuracy: 0.4310 - lr: 5.2246e-10\n",
      "Epoch 284/10000\n",
      "70/70 [==============================] - 0s 6ms/step - loss: 5.0315 - accuracy: 0.4034 - val_loss: 4.8106 - val_accuracy: 0.4310 - lr: 4.9634e-10\n",
      "Epoch 285/10000\n",
      "70/70 [==============================] - 0s 6ms/step - loss: 5.0446 - accuracy: 0.4050 - val_loss: 4.8179 - val_accuracy: 0.4310 - lr: 4.7152e-10\n",
      "Epoch 286/10000\n",
      "70/70 [==============================] - 0s 6ms/step - loss: 5.0476 - accuracy: 0.4037 - val_loss: 4.8181 - val_accuracy: 0.4290 - lr: 4.4795e-10\n",
      "Epoch 287/10000\n",
      "70/70 [==============================] - 0s 7ms/step - loss: 5.0658 - accuracy: 0.4073 - val_loss: 4.8211 - val_accuracy: 0.4310 - lr: 4.2555e-10\n",
      "Epoch 288/10000\n",
      "70/70 [==============================] - 0s 7ms/step - loss: 5.0117 - accuracy: 0.4006 - val_loss: 4.8202 - val_accuracy: 0.4290 - lr: 4.0427e-10\n",
      "Epoch 289/10000\n",
      "70/70 [==============================] - 0s 6ms/step - loss: 5.0360 - accuracy: 0.4043 - val_loss: 4.8145 - val_accuracy: 0.4300 - lr: 3.8406e-10\n",
      "Epoch 290/10000\n",
      "70/70 [==============================] - 0s 7ms/step - loss: 5.0391 - accuracy: 0.4076 - val_loss: 4.8183 - val_accuracy: 0.4310 - lr: 3.6486e-10\n",
      "Epoch 291/10000\n",
      "70/70 [==============================] - 0s 6ms/step - loss: 5.0539 - accuracy: 0.4064 - val_loss: 4.8194 - val_accuracy: 0.4310 - lr: 3.4661e-10\n",
      "Epoch 292/10000\n",
      "70/70 [==============================] - 0s 7ms/step - loss: 5.0304 - accuracy: 0.4009 - val_loss: 4.8137 - val_accuracy: 0.4300 - lr: 3.2928e-10\n",
      "Epoch 293/10000\n",
      "70/70 [==============================] - 0s 6ms/step - loss: 5.0135 - accuracy: 0.4070 - val_loss: 4.8088 - val_accuracy: 0.4300 - lr: 3.1282e-10\n",
      "Epoch 294/10000\n",
      "70/70 [==============================] - 0s 7ms/step - loss: 5.0311 - accuracy: 0.4049 - val_loss: 4.8094 - val_accuracy: 0.4310 - lr: 2.9718e-10\n",
      "Epoch 295/10000\n",
      "70/70 [==============================] - 0s 7ms/step - loss: 5.0975 - accuracy: 0.4039 - val_loss: 4.8217 - val_accuracy: 0.4320 - lr: 2.8232e-10\n",
      "Epoch 296/10000\n",
      "70/70 [==============================] - 0s 7ms/step - loss: 5.0624 - accuracy: 0.4076 - val_loss: 4.8182 - val_accuracy: 0.4300 - lr: 2.6820e-10\n",
      "Epoch 297/10000\n",
      "70/70 [==============================] - 0s 6ms/step - loss: 5.0224 - accuracy: 0.4103 - val_loss: 4.8150 - val_accuracy: 0.4310 - lr: 2.5479e-10\n",
      "Epoch 298/10000\n",
      "70/70 [==============================] - 0s 6ms/step - loss: 5.0677 - accuracy: 0.4013 - val_loss: 4.8143 - val_accuracy: 0.4310 - lr: 2.4205e-10\n",
      "Epoch 299/10000\n",
      "70/70 [==============================] - 0s 7ms/step - loss: 5.0401 - accuracy: 0.4024 - val_loss: 4.8139 - val_accuracy: 0.4310 - lr: 2.2995e-10\n",
      "Epoch 300/10000\n",
      "70/70 [==============================] - 0s 7ms/step - loss: 5.0391 - accuracy: 0.4044 - val_loss: 4.8114 - val_accuracy: 0.4300 - lr: 2.1845e-10\n",
      "Epoch 301/10000\n",
      "70/70 [==============================] - 0s 7ms/step - loss: 5.0579 - accuracy: 0.4033 - val_loss: 4.8146 - val_accuracy: 0.4310 - lr: 2.0753e-10\n",
      "Epoch 302/10000\n",
      "70/70 [==============================] - 0s 6ms/step - loss: 5.0251 - accuracy: 0.4047 - val_loss: 4.8118 - val_accuracy: 0.4310 - lr: 1.9715e-10\n",
      "Epoch 303/10000\n",
      "70/70 [==============================] - 0s 7ms/step - loss: 5.0384 - accuracy: 0.4007 - val_loss: 4.8136 - val_accuracy: 0.4320 - lr: 1.8730e-10\n",
      "Epoch 304/10000\n",
      "70/70 [==============================] - 0s 6ms/step - loss: 5.0457 - accuracy: 0.4074 - val_loss: 4.8118 - val_accuracy: 0.4320 - lr: 1.7793e-10\n"
     ]
    },
    {
     "name": "stdout",
     "output_type": "stream",
     "text": [
      "Epoch 305/10000\n",
      "70/70 [==============================] - 0s 7ms/step - loss: 5.0200 - accuracy: 0.4039 - val_loss: 4.8129 - val_accuracy: 0.4320 - lr: 1.6903e-10\n",
      "Epoch 306/10000\n",
      "70/70 [==============================] - 0s 7ms/step - loss: 5.0652 - accuracy: 0.4049 - val_loss: 4.8150 - val_accuracy: 0.4320 - lr: 1.6058e-10\n",
      "Epoch 307/10000\n",
      "70/70 [==============================] - 0s 7ms/step - loss: 4.9966 - accuracy: 0.4077 - val_loss: 4.8138 - val_accuracy: 0.4310 - lr: 1.5255e-10\n",
      "Epoch 308/10000\n",
      "70/70 [==============================] - 0s 7ms/step - loss: 5.0860 - accuracy: 0.4031 - val_loss: 4.8163 - val_accuracy: 0.4300 - lr: 1.4493e-10\n",
      "Epoch 309/10000\n",
      "70/70 [==============================] - 0s 6ms/step - loss: 5.0976 - accuracy: 0.4039 - val_loss: 4.8197 - val_accuracy: 0.4320 - lr: 1.3768e-10\n",
      "Epoch 310/10000\n",
      "70/70 [==============================] - 0s 7ms/step - loss: 5.0342 - accuracy: 0.4047 - val_loss: 4.8175 - val_accuracy: 0.4330 - lr: 1.3080e-10\n",
      "Epoch 311/10000\n",
      "70/70 [==============================] - 0s 7ms/step - loss: 5.0651 - accuracy: 0.4014 - val_loss: 4.8169 - val_accuracy: 0.4310 - lr: 1.2426e-10\n",
      "Epoch 312/10000\n",
      "70/70 [==============================] - 0s 7ms/step - loss: 5.0215 - accuracy: 0.4101 - val_loss: 4.8129 - val_accuracy: 0.4300 - lr: 1.1804e-10\n",
      "Epoch 313/10000\n",
      "70/70 [==============================] - 0s 7ms/step - loss: 5.0272 - accuracy: 0.4036 - val_loss: 4.8098 - val_accuracy: 0.4300 - lr: 1.1214e-10\n",
      "Epoch 314/10000\n",
      "70/70 [==============================] - 0s 7ms/step - loss: 5.0544 - accuracy: 0.4071 - val_loss: 4.8162 - val_accuracy: 0.4310 - lr: 1.0653e-10\n",
      "Epoch 315/10000\n",
      "70/70 [==============================] - 0s 7ms/step - loss: 5.1186 - accuracy: 0.4044 - val_loss: 4.8248 - val_accuracy: 0.4310 - lr: 1.0121e-10\n",
      "Epoch 316/10000\n",
      "70/70 [==============================] - 0s 6ms/step - loss: 5.0260 - accuracy: 0.4073 - val_loss: 4.8184 - val_accuracy: 0.4320 - lr: 9.6147e-11\n",
      "Epoch 317/10000\n",
      "70/70 [==============================] - 0s 6ms/step - loss: 5.0392 - accuracy: 0.4017 - val_loss: 4.8132 - val_accuracy: 0.4320 - lr: 9.1340e-11\n",
      "Epoch 318/10000\n",
      "70/70 [==============================] - 0s 7ms/step - loss: 5.0445 - accuracy: 0.4073 - val_loss: 4.8186 - val_accuracy: 0.4320 - lr: 8.6773e-11\n",
      "Epoch 319/10000\n",
      "70/70 [==============================] - 0s 6ms/step - loss: 5.0424 - accuracy: 0.4061 - val_loss: 4.8159 - val_accuracy: 0.4310 - lr: 8.2434e-11\n",
      "Epoch 320/10000\n",
      "70/70 [==============================] - 0s 6ms/step - loss: 5.0547 - accuracy: 0.4050 - val_loss: 4.8136 - val_accuracy: 0.4280 - lr: 7.8312e-11\n",
      "Epoch 321/10000\n",
      "70/70 [==============================] - 0s 7ms/step - loss: 5.0544 - accuracy: 0.3991 - val_loss: 4.8112 - val_accuracy: 0.4300 - lr: 7.4397e-11\n",
      "Epoch 322/10000\n",
      "70/70 [==============================] - 0s 7ms/step - loss: 5.0459 - accuracy: 0.4104 - val_loss: 4.8121 - val_accuracy: 0.4310 - lr: 7.0677e-11\n",
      "Epoch 323/10000\n",
      "70/70 [==============================] - 0s 7ms/step - loss: 5.0575 - accuracy: 0.4003 - val_loss: 4.8157 - val_accuracy: 0.4290 - lr: 6.7143e-11\n",
      "Epoch 324/10000\n",
      "70/70 [==============================] - 0s 6ms/step - loss: 5.0470 - accuracy: 0.4044 - val_loss: 4.8152 - val_accuracy: 0.4310 - lr: 6.3786e-11\n",
      "Epoch 325/10000\n",
      "70/70 [==============================] - 0s 7ms/step - loss: 5.0233 - accuracy: 0.3967 - val_loss: 4.8105 - val_accuracy: 0.4300 - lr: 6.0597e-11\n",
      "Epoch 326/10000\n",
      "70/70 [==============================] - 0s 6ms/step - loss: 5.0302 - accuracy: 0.4017 - val_loss: 4.8115 - val_accuracy: 0.4310 - lr: 5.7567e-11\n",
      "Epoch 327/10000\n",
      "70/70 [==============================] - 0s 7ms/step - loss: 5.0581 - accuracy: 0.4029 - val_loss: 4.8102 - val_accuracy: 0.4300 - lr: 5.4688e-11\n",
      "Epoch 328/10000\n",
      "70/70 [==============================] - 0s 7ms/step - loss: 5.0174 - accuracy: 0.4029 - val_loss: 4.8111 - val_accuracy: 0.4310 - lr: 5.1954e-11\n",
      "Epoch 329/10000\n",
      "70/70 [==============================] - 0s 7ms/step - loss: 5.0252 - accuracy: 0.4077 - val_loss: 4.8086 - val_accuracy: 0.4300 - lr: 4.9356e-11\n",
      "Epoch 330/10000\n",
      "70/70 [==============================] - 0s 6ms/step - loss: 5.0447 - accuracy: 0.4064 - val_loss: 4.8149 - val_accuracy: 0.4310 - lr: 4.6888e-11\n",
      "Epoch 331/10000\n",
      "70/70 [==============================] - 0s 6ms/step - loss: 5.0380 - accuracy: 0.4109 - val_loss: 4.8120 - val_accuracy: 0.4290 - lr: 4.4544e-11\n",
      "Epoch 332/10000\n",
      "70/70 [==============================] - 0s 7ms/step - loss: 5.0807 - accuracy: 0.4019 - val_loss: 4.8164 - val_accuracy: 0.4320 - lr: 4.2317e-11\n",
      "Epoch 333/10000\n",
      "70/70 [==============================] - 0s 6ms/step - loss: 5.0529 - accuracy: 0.4089 - val_loss: 4.8130 - val_accuracy: 0.4300 - lr: 4.0201e-11\n",
      "Epoch 334/10000\n",
      "70/70 [==============================] - 0s 7ms/step - loss: 5.0260 - accuracy: 0.4109 - val_loss: 4.8148 - val_accuracy: 0.4310 - lr: 3.8191e-11\n",
      "Epoch 335/10000\n",
      "70/70 [==============================] - 0s 7ms/step - loss: 5.0459 - accuracy: 0.4060 - val_loss: 4.8163 - val_accuracy: 0.4320 - lr: 3.6281e-11\n",
      "Epoch 336/10000\n",
      "70/70 [==============================] - 0s 7ms/step - loss: 5.0732 - accuracy: 0.4009 - val_loss: 4.8218 - val_accuracy: 0.4320 - lr: 3.4467e-11\n",
      "Epoch 337/10000\n",
      "70/70 [==============================] - 0s 6ms/step - loss: 5.0536 - accuracy: 0.4101 - val_loss: 4.8195 - val_accuracy: 0.4320 - lr: 3.2744e-11\n",
      "Epoch 338/10000\n",
      "70/70 [==============================] - 0s 7ms/step - loss: 5.0488 - accuracy: 0.4051 - val_loss: 4.8156 - val_accuracy: 0.4310 - lr: 3.1107e-11\n",
      "Epoch 339/10000\n",
      "70/70 [==============================] - 0s 6ms/step - loss: 5.0353 - accuracy: 0.4014 - val_loss: 4.8153 - val_accuracy: 0.4310 - lr: 2.9551e-11\n",
      "Epoch 340/10000\n",
      "70/70 [==============================] - 0s 6ms/step - loss: 5.0455 - accuracy: 0.4070 - val_loss: 4.8111 - val_accuracy: 0.4310 - lr: 2.8074e-11\n",
      "Epoch 341/10000\n",
      "70/70 [==============================] - 0s 7ms/step - loss: 5.0584 - accuracy: 0.4066 - val_loss: 4.8110 - val_accuracy: 0.4320 - lr: 2.6670e-11\n",
      "Epoch 342/10000\n",
      "70/70 [==============================] - 0s 7ms/step - loss: 5.0622 - accuracy: 0.3986 - val_loss: 4.8105 - val_accuracy: 0.4310 - lr: 2.5337e-11\n",
      "Epoch 343/10000\n",
      "70/70 [==============================] - 0s 7ms/step - loss: 5.0479 - accuracy: 0.4063 - val_loss: 4.8087 - val_accuracy: 0.4320 - lr: 2.4070e-11\n",
      "Epoch 344/10000\n",
      "70/70 [==============================] - 0s 6ms/step - loss: 5.0352 - accuracy: 0.4037 - val_loss: 4.8092 - val_accuracy: 0.4320 - lr: 2.2866e-11\n",
      "Epoch 345/10000\n",
      "70/70 [==============================] - 0s 7ms/step - loss: 5.0442 - accuracy: 0.4067 - val_loss: 4.8126 - val_accuracy: 0.4290 - lr: 2.1723e-11\n",
      "Epoch 346/10000\n",
      "70/70 [==============================] - 0s 6ms/step - loss: 5.0275 - accuracy: 0.4074 - val_loss: 4.8122 - val_accuracy: 0.4330 - lr: 2.0637e-11\n",
      "Epoch 347/10000\n",
      "70/70 [==============================] - 0s 7ms/step - loss: 5.0576 - accuracy: 0.4061 - val_loss: 4.8128 - val_accuracy: 0.4340 - lr: 1.9605e-11\n",
      "Epoch 348/10000\n",
      "70/70 [==============================] - 0s 6ms/step - loss: 5.0866 - accuracy: 0.4030 - val_loss: 4.8181 - val_accuracy: 0.4320 - lr: 1.8625e-11\n",
      "Epoch 349/10000\n",
      "70/70 [==============================] - 0s 7ms/step - loss: 5.0588 - accuracy: 0.4044 - val_loss: 4.8150 - val_accuracy: 0.4330 - lr: 1.7694e-11\n",
      "Epoch 350/10000\n",
      "70/70 [==============================] - 0s 7ms/step - loss: 5.0140 - accuracy: 0.4037 - val_loss: 4.8163 - val_accuracy: 0.4320 - lr: 1.6809e-11\n",
      "Epoch 351/10000\n",
      "70/70 [==============================] - 0s 6ms/step - loss: 5.0410 - accuracy: 0.4080 - val_loss: 4.8124 - val_accuracy: 0.4320 - lr: 1.5968e-11\n",
      "Epoch 352/10000\n",
      "70/70 [==============================] - 0s 7ms/step - loss: 5.0557 - accuracy: 0.4039 - val_loss: 4.8133 - val_accuracy: 0.4320 - lr: 1.5170e-11\n",
      "Epoch 353/10000\n",
      "70/70 [==============================] - 0s 6ms/step - loss: 5.0339 - accuracy: 0.4059 - val_loss: 4.8127 - val_accuracy: 0.4300 - lr: 1.4411e-11\n",
      "Epoch 354/10000\n",
      "70/70 [==============================] - 0s 7ms/step - loss: 5.0075 - accuracy: 0.4063 - val_loss: 4.8094 - val_accuracy: 0.4290 - lr: 1.3691e-11\n",
      "Epoch 355/10000\n"
     ]
    },
    {
     "name": "stdout",
     "output_type": "stream",
     "text": [
      "70/70 [==============================] - 0s 7ms/step - loss: 5.0837 - accuracy: 0.4019 - val_loss: 4.8141 - val_accuracy: 0.4300 - lr: 1.3006e-11\n",
      "Epoch 356/10000\n",
      "70/70 [==============================] - 0s 7ms/step - loss: 5.1183 - accuracy: 0.3981 - val_loss: 4.8226 - val_accuracy: 0.4310 - lr: 1.2356e-11\n",
      "Epoch 357/10000\n",
      "70/70 [==============================] - 0s 7ms/step - loss: 5.0259 - accuracy: 0.4083 - val_loss: 4.8172 - val_accuracy: 0.4320 - lr: 1.1738e-11\n",
      "Epoch 358/10000\n",
      "70/70 [==============================] - 0s 7ms/step - loss: 5.0228 - accuracy: 0.4069 - val_loss: 4.8138 - val_accuracy: 0.4320 - lr: 1.1151e-11\n",
      "Epoch 359/10000\n",
      "70/70 [==============================] - 0s 7ms/step - loss: 5.0415 - accuracy: 0.4009 - val_loss: 4.8142 - val_accuracy: 0.4330 - lr: 1.0594e-11\n",
      "Epoch 360/10000\n",
      "70/70 [==============================] - 1s 11ms/step - loss: 5.0632 - accuracy: 0.4009 - val_loss: 4.8137 - val_accuracy: 0.4320 - lr: 1.0064e-11\n",
      "Epoch 361/10000\n",
      "70/70 [==============================] - 0s 7ms/step - loss: 5.0429 - accuracy: 0.4079 - val_loss: 4.8170 - val_accuracy: 0.4320 - lr: 9.5609e-12\n",
      "Epoch 362/10000\n",
      "70/70 [==============================] - 0s 7ms/step - loss: 5.0319 - accuracy: 0.4059 - val_loss: 4.8143 - val_accuracy: 0.4320 - lr: 9.0828e-12\n",
      "Epoch 363/10000\n",
      "70/70 [==============================] - 0s 6ms/step - loss: 5.0441 - accuracy: 0.4094 - val_loss: 4.8155 - val_accuracy: 0.4320 - lr: 8.6287e-12\n",
      "Epoch 364/10000\n",
      "70/70 [==============================] - 0s 7ms/step - loss: 5.0484 - accuracy: 0.4071 - val_loss: 4.8123 - val_accuracy: 0.4300 - lr: 8.1973e-12\n",
      "Epoch 365/10000\n",
      "70/70 [==============================] - 0s 6ms/step - loss: 5.0360 - accuracy: 0.4044 - val_loss: 4.8138 - val_accuracy: 0.4310 - lr: 7.7874e-12\n",
      "Epoch 366/10000\n",
      "70/70 [==============================] - 0s 7ms/step - loss: 5.0089 - accuracy: 0.4050 - val_loss: 4.8117 - val_accuracy: 0.4320 - lr: 7.3980e-12\n",
      "Epoch 367/10000\n",
      "70/70 [==============================] - 0s 6ms/step - loss: 5.0468 - accuracy: 0.4036 - val_loss: 4.8121 - val_accuracy: 0.4320 - lr: 7.0281e-12\n",
      "Epoch 368/10000\n",
      "70/70 [==============================] - 0s 7ms/step - loss: 5.0705 - accuracy: 0.4007 - val_loss: 4.8149 - val_accuracy: 0.4310 - lr: 6.6767e-12\n",
      "Epoch 369/10000\n",
      "70/70 [==============================] - 0s 7ms/step - loss: 5.0645 - accuracy: 0.4020 - val_loss: 4.8153 - val_accuracy: 0.4310 - lr: 6.3429e-12\n",
      "Epoch 370/10000\n",
      "70/70 [==============================] - 0s 6ms/step - loss: 5.0853 - accuracy: 0.4043 - val_loss: 4.8183 - val_accuracy: 0.4310 - lr: 6.0257e-12\n",
      "Epoch 371/10000\n",
      "70/70 [==============================] - 0s 7ms/step - loss: 5.0413 - accuracy: 0.4066 - val_loss: 4.8127 - val_accuracy: 0.4320 - lr: 5.7245e-12\n",
      "Epoch 372/10000\n",
      "70/70 [==============================] - 0s 7ms/step - loss: 5.0643 - accuracy: 0.4039 - val_loss: 4.8152 - val_accuracy: 0.4320 - lr: 5.4382e-12\n",
      "Epoch 373/10000\n",
      "70/70 [==============================] - 0s 7ms/step - loss: 5.0541 - accuracy: 0.4040 - val_loss: 4.8161 - val_accuracy: 0.4310 - lr: 5.1663e-12\n",
      "Epoch 374/10000\n",
      "70/70 [==============================] - 0s 7ms/step - loss: 5.0602 - accuracy: 0.4076 - val_loss: 4.8187 - val_accuracy: 0.4320 - lr: 4.9080e-12\n",
      "Epoch 375/10000\n",
      "70/70 [==============================] - 0s 7ms/step - loss: 5.0280 - accuracy: 0.4063 - val_loss: 4.8193 - val_accuracy: 0.4330 - lr: 4.6626e-12\n",
      "Epoch 376/10000\n",
      "70/70 [==============================] - 0s 7ms/step - loss: 5.0414 - accuracy: 0.3986 - val_loss: 4.8163 - val_accuracy: 0.4310 - lr: 4.4295e-12\n",
      "Epoch 377/10000\n",
      "70/70 [==============================] - 0s 7ms/step - loss: 5.0322 - accuracy: 0.4046 - val_loss: 4.8128 - val_accuracy: 0.4290 - lr: 4.2080e-12\n",
      "Epoch 378/10000\n",
      "70/70 [==============================] - 0s 6ms/step - loss: 5.0466 - accuracy: 0.4024 - val_loss: 4.8147 - val_accuracy: 0.4320 - lr: 3.9976e-12\n",
      "Epoch 379/10000\n",
      "70/70 [==============================] - 0s 7ms/step - loss: 5.0521 - accuracy: 0.4061 - val_loss: 4.8158 - val_accuracy: 0.4320 - lr: 3.7977e-12\n",
      "Epoch 380/10000\n",
      "70/70 [==============================] - 0s 6ms/step - loss: 5.0567 - accuracy: 0.4036 - val_loss: 4.8174 - val_accuracy: 0.4330 - lr: 3.6078e-12\n",
      "Epoch 381/10000\n",
      "70/70 [==============================] - 0s 7ms/step - loss: 5.0374 - accuracy: 0.3996 - val_loss: 4.8162 - val_accuracy: 0.4320 - lr: 3.4274e-12\n",
      "Epoch 382/10000\n",
      "70/70 [==============================] - 0s 7ms/step - loss: 5.0672 - accuracy: 0.4010 - val_loss: 4.8226 - val_accuracy: 0.4320 - lr: 3.2561e-12\n",
      "Epoch 383/10000\n",
      "70/70 [==============================] - 0s 6ms/step - loss: 5.0277 - accuracy: 0.4020 - val_loss: 4.8203 - val_accuracy: 0.4320 - lr: 3.0933e-12\n",
      "Epoch 384/10000\n",
      "70/70 [==============================] - 0s 7ms/step - loss: 5.0626 - accuracy: 0.4034 - val_loss: 4.8160 - val_accuracy: 0.4320 - lr: 2.9386e-12\n",
      "Epoch 385/10000\n",
      "70/70 [==============================] - 0s 6ms/step - loss: 5.0752 - accuracy: 0.4041 - val_loss: 4.8157 - val_accuracy: 0.4300 - lr: 2.7917e-12\n",
      "Epoch 386/10000\n",
      "70/70 [==============================] - 0s 7ms/step - loss: 5.0244 - accuracy: 0.4026 - val_loss: 4.8188 - val_accuracy: 0.4320 - lr: 2.6521e-12\n",
      "Epoch 387/10000\n",
      "70/70 [==============================] - 0s 6ms/step - loss: 5.0464 - accuracy: 0.4006 - val_loss: 4.8172 - val_accuracy: 0.4310 - lr: 2.5195e-12\n",
      "Epoch 388/10000\n",
      "70/70 [==============================] - 0s 7ms/step - loss: 5.0422 - accuracy: 0.4013 - val_loss: 4.8168 - val_accuracy: 0.4320 - lr: 2.3935e-12\n",
      "Epoch 389/10000\n",
      "70/70 [==============================] - 0s 7ms/step - loss: 5.0547 - accuracy: 0.4060 - val_loss: 4.8146 - val_accuracy: 0.4320 - lr: 2.2738e-12\n",
      "Epoch 390/10000\n",
      "70/70 [==============================] - 0s 7ms/step - loss: 5.0595 - accuracy: 0.4054 - val_loss: 4.8193 - val_accuracy: 0.4300 - lr: 2.1601e-12\n",
      "Epoch 391/10000\n",
      "70/70 [==============================] - 0s 6ms/step - loss: 5.0216 - accuracy: 0.4040 - val_loss: 4.8170 - val_accuracy: 0.4330 - lr: 2.0521e-12\n",
      "Epoch 392/10000\n",
      "70/70 [==============================] - 0s 6ms/step - loss: 5.0184 - accuracy: 0.4111 - val_loss: 4.8183 - val_accuracy: 0.4320 - lr: 1.9495e-12\n",
      "Epoch 393/10000\n",
      "70/70 [==============================] - 0s 7ms/step - loss: 5.0746 - accuracy: 0.4011 - val_loss: 4.8221 - val_accuracy: 0.4330 - lr: 1.8521e-12\n",
      "Epoch 394/10000\n",
      "70/70 [==============================] - 0s 6ms/step - loss: 5.0641 - accuracy: 0.4041 - val_loss: 4.8208 - val_accuracy: 0.4310 - lr: 1.7594e-12\n",
      "Epoch 395/10000\n",
      "70/70 [==============================] - 0s 7ms/step - loss: 5.0305 - accuracy: 0.4076 - val_loss: 4.8189 - val_accuracy: 0.4310 - lr: 1.6715e-12\n",
      "Epoch 396/10000\n",
      "70/70 [==============================] - 0s 7ms/step - loss: 5.0508 - accuracy: 0.4019 - val_loss: 4.8200 - val_accuracy: 0.4310 - lr: 1.5879e-12\n",
      "Epoch 397/10000\n",
      "70/70 [==============================] - 0s 7ms/step - loss: 5.0368 - accuracy: 0.4076 - val_loss: 4.8192 - val_accuracy: 0.4320 - lr: 1.5085e-12\n",
      "Epoch 398/10000\n",
      "70/70 [==============================] - 0s 6ms/step - loss: 5.0773 - accuracy: 0.4033 - val_loss: 4.8223 - val_accuracy: 0.4320 - lr: 1.4331e-12\n",
      "Epoch 399/10000\n",
      "70/70 [==============================] - 0s 6ms/step - loss: 5.0669 - accuracy: 0.3990 - val_loss: 4.8229 - val_accuracy: 0.4320 - lr: 1.3614e-12\n",
      "Epoch 400/10000\n",
      "70/70 [==============================] - 0s 7ms/step - loss: 5.0646 - accuracy: 0.4087 - val_loss: 4.8198 - val_accuracy: 0.4290 - lr: 1.2934e-12\n",
      "Epoch 401/10000\n",
      "70/70 [==============================] - 0s 6ms/step - loss: 5.0302 - accuracy: 0.4046 - val_loss: 4.8169 - val_accuracy: 0.4310 - lr: 1.2287e-12\n",
      "Epoch 402/10000\n",
      "70/70 [==============================] - 0s 7ms/step - loss: 5.0485 - accuracy: 0.4020 - val_loss: 4.8175 - val_accuracy: 0.4310 - lr: 1.1673e-12\n",
      "Epoch 403/10000\n",
      "70/70 [==============================] - 0s 7ms/step - loss: 5.0259 - accuracy: 0.4007 - val_loss: 4.8119 - val_accuracy: 0.4320 - lr: 1.1089e-12\n",
      "Epoch 404/10000\n",
      "70/70 [==============================] - 0s 7ms/step - loss: 5.0225 - accuracy: 0.4059 - val_loss: 4.8129 - val_accuracy: 0.4310 - lr: 1.0534e-12\n",
      "Epoch 405/10000\n",
      "70/70 [==============================] - 0s 6ms/step - loss: 5.0265 - accuracy: 0.4051 - val_loss: 4.8120 - val_accuracy: 0.4310 - lr: 1.0008e-12\n"
     ]
    },
    {
     "name": "stdout",
     "output_type": "stream",
     "text": [
      "Epoch 406/10000\n",
      "70/70 [==============================] - 0s 6ms/step - loss: 5.0602 - accuracy: 0.4040 - val_loss: 4.8200 - val_accuracy: 0.4300 - lr: 9.5074e-13\n",
      "Epoch 407/10000\n",
      "70/70 [==============================] - 0s 7ms/step - loss: 5.0355 - accuracy: 0.4081 - val_loss: 4.8132 - val_accuracy: 0.4320 - lr: 9.0320e-13\n",
      "Epoch 408/10000\n",
      "70/70 [==============================] - 0s 7ms/step - loss: 5.0335 - accuracy: 0.4077 - val_loss: 4.8115 - val_accuracy: 0.4300 - lr: 8.5804e-13\n",
      "Epoch 409/10000\n",
      "70/70 [==============================] - 0s 7ms/step - loss: 5.0607 - accuracy: 0.4017 - val_loss: 4.8166 - val_accuracy: 0.4300 - lr: 8.1514e-13\n",
      "Epoch 410/10000\n",
      "70/70 [==============================] - 0s 7ms/step - loss: 5.0492 - accuracy: 0.3990 - val_loss: 4.8184 - val_accuracy: 0.4310 - lr: 7.7438e-13\n",
      "Epoch 411/10000\n",
      "70/70 [==============================] - 0s 6ms/step - loss: 5.0424 - accuracy: 0.4041 - val_loss: 4.8174 - val_accuracy: 0.4320 - lr: 7.3566e-13\n",
      "Epoch 412/10000\n",
      "70/70 [==============================] - 0s 6ms/step - loss: 5.0321 - accuracy: 0.4053 - val_loss: 4.8122 - val_accuracy: 0.4310 - lr: 6.9888e-13\n",
      "Epoch 413/10000\n",
      "70/70 [==============================] - 0s 6ms/step - loss: 5.0697 - accuracy: 0.4096 - val_loss: 4.8133 - val_accuracy: 0.4320 - lr: 6.6393e-13\n",
      "Epoch 414/10000\n",
      "70/70 [==============================] - 0s 6ms/step - loss: 5.0439 - accuracy: 0.4040 - val_loss: 4.8120 - val_accuracy: 0.4310 - lr: 6.3074e-13\n",
      "Epoch 415/10000\n",
      "70/70 [==============================] - 0s 6ms/step - loss: 5.0562 - accuracy: 0.4011 - val_loss: 4.8129 - val_accuracy: 0.4310 - lr: 5.9920e-13\n",
      "Epoch 416/10000\n",
      "70/70 [==============================] - 0s 6ms/step - loss: 5.0902 - accuracy: 0.4001 - val_loss: 4.8126 - val_accuracy: 0.4320 - lr: 5.6924e-13\n",
      "Epoch 417/10000\n",
      "70/70 [==============================] - 0s 7ms/step - loss: 5.0646 - accuracy: 0.4027 - val_loss: 4.8154 - val_accuracy: 0.4320 - lr: 5.4078e-13\n",
      "Epoch 418/10000\n",
      "70/70 [==============================] - 0s 6ms/step - loss: 5.0839 - accuracy: 0.4096 - val_loss: 4.8210 - val_accuracy: 0.4320 - lr: 5.1374e-13\n",
      "Epoch 419/10000\n",
      "70/70 [==============================] - 0s 6ms/step - loss: 5.0739 - accuracy: 0.4044 - val_loss: 4.8172 - val_accuracy: 0.4330 - lr: 4.8805e-13\n",
      "Epoch 420/10000\n",
      "70/70 [==============================] - 0s 6ms/step - loss: 5.0321 - accuracy: 0.4051 - val_loss: 4.8148 - val_accuracy: 0.4310 - lr: 4.6365e-13\n",
      "Epoch 421/10000\n",
      "70/70 [==============================] - 0s 7ms/step - loss: 5.0094 - accuracy: 0.4071 - val_loss: 4.8107 - val_accuracy: 0.4300 - lr: 4.4047e-13\n",
      "Epoch 422/10000\n",
      "70/70 [==============================] - 0s 6ms/step - loss: 5.0330 - accuracy: 0.4070 - val_loss: 4.8122 - val_accuracy: 0.4300 - lr: 4.1844e-13\n",
      "Epoch 423/10000\n",
      "70/70 [==============================] - 0s 6ms/step - loss: 5.0541 - accuracy: 0.4026 - val_loss: 4.8138 - val_accuracy: 0.4300 - lr: 3.9752e-13\n",
      "Epoch 424/10000\n",
      "70/70 [==============================] - 0s 7ms/step - loss: 5.0534 - accuracy: 0.4017 - val_loss: 4.8156 - val_accuracy: 0.4300 - lr: 3.7765e-13\n",
      "Epoch 425/10000\n",
      "70/70 [==============================] - 0s 7ms/step - loss: 5.0491 - accuracy: 0.4043 - val_loss: 4.8122 - val_accuracy: 0.4300 - lr: 3.5876e-13\n",
      "Epoch 426/10000\n",
      "70/70 [==============================] - 0s 7ms/step - loss: 5.0358 - accuracy: 0.3997 - val_loss: 4.8128 - val_accuracy: 0.4300 - lr: 3.4083e-13\n",
      "Epoch 427/10000\n",
      "70/70 [==============================] - 0s 7ms/step - loss: 5.0439 - accuracy: 0.4046 - val_loss: 4.8186 - val_accuracy: 0.4320 - lr: 3.2378e-13\n",
      "Epoch 428/10000\n",
      "70/70 [==============================] - 0s 7ms/step - loss: 5.0364 - accuracy: 0.4073 - val_loss: 4.8165 - val_accuracy: 0.4320 - lr: 3.0760e-13\n",
      "Epoch 429/10000\n",
      "70/70 [==============================] - 0s 6ms/step - loss: 5.0836 - accuracy: 0.3996 - val_loss: 4.8178 - val_accuracy: 0.4310 - lr: 2.9222e-13\n",
      "Epoch 430/10000\n",
      "70/70 [==============================] - 0s 7ms/step - loss: 5.0463 - accuracy: 0.4104 - val_loss: 4.8181 - val_accuracy: 0.4330 - lr: 2.7760e-13\n",
      "Epoch 431/10000\n",
      "70/70 [==============================] - 0s 7ms/step - loss: 5.0598 - accuracy: 0.4084 - val_loss: 4.8206 - val_accuracy: 0.4300 - lr: 2.6372e-13\n",
      "Epoch 432/10000\n",
      "70/70 [==============================] - 0s 7ms/step - loss: 5.0542 - accuracy: 0.3990 - val_loss: 4.8179 - val_accuracy: 0.4340 - lr: 2.5054e-13\n",
      "Epoch 433/10000\n",
      "70/70 [==============================] - 0s 6ms/step - loss: 5.0538 - accuracy: 0.4106 - val_loss: 4.8153 - val_accuracy: 0.4300 - lr: 2.3801e-13\n",
      "Epoch 434/10000\n",
      "70/70 [==============================] - 0s 7ms/step - loss: 5.0399 - accuracy: 0.4074 - val_loss: 4.8167 - val_accuracy: 0.4330 - lr: 2.2611e-13\n",
      "Epoch 435/10000\n",
      "70/70 [==============================] - 0s 6ms/step - loss: 5.0404 - accuracy: 0.4034 - val_loss: 4.8198 - val_accuracy: 0.4320 - lr: 2.1481e-13\n",
      "Epoch 436/10000\n",
      "70/70 [==============================] - 0s 6ms/step - loss: 5.0587 - accuracy: 0.4049 - val_loss: 4.8147 - val_accuracy: 0.4320 - lr: 2.0406e-13\n",
      "Epoch 437/10000\n",
      "70/70 [==============================] - 0s 7ms/step - loss: 5.0355 - accuracy: 0.4056 - val_loss: 4.8087 - val_accuracy: 0.4320 - lr: 1.9386e-13\n",
      "Epoch 438/10000\n",
      "70/70 [==============================] - 0s 7ms/step - loss: 5.0590 - accuracy: 0.4069 - val_loss: 4.8116 - val_accuracy: 0.4320 - lr: 1.8417e-13\n",
      "Epoch 439/10000\n",
      "70/70 [==============================] - 0s 7ms/step - loss: 5.0616 - accuracy: 0.4079 - val_loss: 4.8119 - val_accuracy: 0.4300 - lr: 1.7496e-13\n",
      "Epoch 440/10000\n",
      "70/70 [==============================] - 0s 6ms/step - loss: 5.0355 - accuracy: 0.4027 - val_loss: 4.8092 - val_accuracy: 0.4290 - lr: 1.6621e-13\n",
      "Epoch 441/10000\n",
      "70/70 [==============================] - 0s 7ms/step - loss: 5.0418 - accuracy: 0.4073 - val_loss: 4.8079 - val_accuracy: 0.4290 - lr: 1.5790e-13\n",
      "Epoch 442/10000\n",
      "70/70 [==============================] - 0s 6ms/step - loss: 5.0384 - accuracy: 0.4011 - val_loss: 4.8134 - val_accuracy: 0.4310 - lr: 1.5001e-13\n",
      "Epoch 443/10000\n",
      "70/70 [==============================] - 0s 6ms/step - loss: 5.0451 - accuracy: 0.4029 - val_loss: 4.8171 - val_accuracy: 0.4290 - lr: 1.4251e-13\n",
      "Epoch 444/10000\n",
      "70/70 [==============================] - 0s 7ms/step - loss: 5.0556 - accuracy: 0.3987 - val_loss: 4.8162 - val_accuracy: 0.4300 - lr: 1.3538e-13\n",
      "Epoch 445/10000\n",
      "70/70 [==============================] - 0s 7ms/step - loss: 5.0459 - accuracy: 0.4056 - val_loss: 4.8177 - val_accuracy: 0.4310 - lr: 1.2861e-13\n",
      "Epoch 446/10000\n",
      "70/70 [==============================] - 0s 7ms/step - loss: 5.0618 - accuracy: 0.4064 - val_loss: 4.8142 - val_accuracy: 0.4300 - lr: 1.2218e-13\n",
      "Epoch 447/10000\n",
      "70/70 [==============================] - 0s 6ms/step - loss: 5.0733 - accuracy: 0.3999 - val_loss: 4.8189 - val_accuracy: 0.4320 - lr: 1.1607e-13\n",
      "Epoch 448/10000\n",
      "70/70 [==============================] - 0s 7ms/step - loss: 5.0204 - accuracy: 0.4066 - val_loss: 4.8173 - val_accuracy: 0.4310 - lr: 1.1027e-13\n",
      "Epoch 449/10000\n",
      "70/70 [==============================] - 0s 6ms/step - loss: 5.0745 - accuracy: 0.4049 - val_loss: 4.8163 - val_accuracy: 0.4320 - lr: 1.0476e-13\n",
      "Epoch 450/10000\n",
      "70/70 [==============================] - 0s 7ms/step - loss: 5.0471 - accuracy: 0.3999 - val_loss: 4.8175 - val_accuracy: 0.4320 - lr: 9.9517e-14\n",
      "Epoch 451/10000\n",
      "70/70 [==============================] - 0s 7ms/step - loss: 5.0459 - accuracy: 0.4024 - val_loss: 4.8246 - val_accuracy: 0.4330 - lr: 9.4541e-14\n",
      "Epoch 452/10000\n",
      "70/70 [==============================] - 0s 7ms/step - loss: 5.0465 - accuracy: 0.4050 - val_loss: 4.8188 - val_accuracy: 0.4310 - lr: 8.9814e-14\n",
      "Epoch 453/10000\n",
      "70/70 [==============================] - 0s 6ms/step - loss: 5.0332 - accuracy: 0.4044 - val_loss: 4.8153 - val_accuracy: 0.4320 - lr: 8.5324e-14\n",
      "Epoch 454/10000\n",
      "70/70 [==============================] - 0s 6ms/step - loss: 5.0238 - accuracy: 0.4046 - val_loss: 4.8143 - val_accuracy: 0.4310 - lr: 8.1057e-14\n",
      "Epoch 455/10000\n",
      "70/70 [==============================] - 0s 7ms/step - loss: 5.0568 - accuracy: 0.4063 - val_loss: 4.8170 - val_accuracy: 0.4320 - lr: 7.7005e-14\n",
      "Epoch 456/10000\n"
     ]
    },
    {
     "name": "stdout",
     "output_type": "stream",
     "text": [
      "70/70 [==============================] - 0s 6ms/step - loss: 5.0501 - accuracy: 0.4030 - val_loss: 4.8165 - val_accuracy: 0.4320 - lr: 7.3154e-14\n",
      "Epoch 457/10000\n",
      "70/70 [==============================] - 0s 7ms/step - loss: 5.0363 - accuracy: 0.4090 - val_loss: 4.8120 - val_accuracy: 0.4320 - lr: 6.9497e-14\n",
      "Epoch 458/10000\n",
      "70/70 [==============================] - 0s 7ms/step - loss: 5.0480 - accuracy: 0.4073 - val_loss: 4.8168 - val_accuracy: 0.4320 - lr: 6.6022e-14\n",
      "Epoch 459/10000\n",
      "70/70 [==============================] - 0s 7ms/step - loss: 5.0226 - accuracy: 0.4041 - val_loss: 4.8175 - val_accuracy: 0.4300 - lr: 6.2721e-14\n",
      "Epoch 460/10000\n",
      "70/70 [==============================] - 0s 6ms/step - loss: 5.0394 - accuracy: 0.4059 - val_loss: 4.8157 - val_accuracy: 0.4280 - lr: 5.9585e-14\n",
      "Epoch 461/10000\n",
      "70/70 [==============================] - 0s 7ms/step - loss: 5.0618 - accuracy: 0.4004 - val_loss: 4.8122 - val_accuracy: 0.4300 - lr: 5.6605e-14\n",
      "Epoch 462/10000\n",
      "70/70 [==============================] - 0s 6ms/step - loss: 5.0127 - accuracy: 0.4010 - val_loss: 4.8124 - val_accuracy: 0.4300 - lr: 5.3775e-14\n",
      "Epoch 463/10000\n",
      "70/70 [==============================] - 0s 7ms/step - loss: 5.0652 - accuracy: 0.4031 - val_loss: 4.8160 - val_accuracy: 0.4310 - lr: 5.1086e-14\n",
      "Epoch 464/10000\n",
      "70/70 [==============================] - 0s 7ms/step - loss: 5.0443 - accuracy: 0.4023 - val_loss: 4.8182 - val_accuracy: 0.4310 - lr: 4.8532e-14\n",
      "Epoch 465/10000\n",
      "70/70 [==============================] - 0s 7ms/step - loss: 5.0533 - accuracy: 0.3991 - val_loss: 4.8156 - val_accuracy: 0.4300 - lr: 4.6106e-14\n",
      "Epoch 466/10000\n",
      "70/70 [==============================] - 0s 6ms/step - loss: 5.0377 - accuracy: 0.4030 - val_loss: 4.8146 - val_accuracy: 0.4300 - lr: 4.3800e-14\n",
      "Epoch 467/10000\n",
      "70/70 [==============================] - 0s 7ms/step - loss: 5.0649 - accuracy: 0.4050 - val_loss: 4.8152 - val_accuracy: 0.4320 - lr: 4.1610e-14\n",
      "Epoch 468/10000\n",
      "70/70 [==============================] - 0s 6ms/step - loss: 5.0385 - accuracy: 0.4066 - val_loss: 4.8131 - val_accuracy: 0.4310 - lr: 3.9530e-14\n",
      "Epoch 469/10000\n",
      "70/70 [==============================] - 0s 6ms/step - loss: 5.0629 - accuracy: 0.4039 - val_loss: 4.8126 - val_accuracy: 0.4300 - lr: 3.7553e-14\n",
      "Epoch 470/10000\n",
      "70/70 [==============================] - 0s 7ms/step - loss: 5.0270 - accuracy: 0.4021 - val_loss: 4.8168 - val_accuracy: 0.4310 - lr: 3.5676e-14\n",
      "Epoch 471/10000\n",
      "70/70 [==============================] - 0s 6ms/step - loss: 5.0907 - accuracy: 0.4064 - val_loss: 4.8158 - val_accuracy: 0.4310 - lr: 3.3892e-14\n",
      "Epoch 472/10000\n",
      "70/70 [==============================] - 0s 7ms/step - loss: 5.0560 - accuracy: 0.4066 - val_loss: 4.8150 - val_accuracy: 0.4330 - lr: 3.2197e-14\n",
      "Epoch 473/10000\n",
      "70/70 [==============================] - 0s 6ms/step - loss: 5.0475 - accuracy: 0.4020 - val_loss: 4.8174 - val_accuracy: 0.4330 - lr: 3.0587e-14\n",
      "Epoch 474/10000\n",
      "70/70 [==============================] - 0s 7ms/step - loss: 5.0508 - accuracy: 0.4081 - val_loss: 4.8135 - val_accuracy: 0.4310 - lr: 2.9058e-14\n",
      "Epoch 475/10000\n",
      "70/70 [==============================] - 0s 6ms/step - loss: 5.0294 - accuracy: 0.4021 - val_loss: 4.8140 - val_accuracy: 0.4320 - lr: 2.7605e-14\n",
      "Epoch 476/10000\n",
      "70/70 [==============================] - 0s 7ms/step - loss: 5.0190 - accuracy: 0.3999 - val_loss: 4.8099 - val_accuracy: 0.4310 - lr: 2.6225e-14\n",
      "Epoch 477/10000\n",
      "70/70 [==============================] - 0s 6ms/step - loss: 5.0570 - accuracy: 0.4021 - val_loss: 4.8140 - val_accuracy: 0.4300 - lr: 2.4914e-14\n",
      "Epoch 478/10000\n",
      "70/70 [==============================] - 0s 6ms/step - loss: 5.0786 - accuracy: 0.4013 - val_loss: 4.8196 - val_accuracy: 0.4280 - lr: 2.3668e-14\n",
      "Epoch 479/10000\n",
      "70/70 [==============================] - 0s 7ms/step - loss: 5.0323 - accuracy: 0.4071 - val_loss: 4.8141 - val_accuracy: 0.4310 - lr: 2.2485e-14\n",
      "Epoch 480/10000\n",
      "70/70 [==============================] - 0s 6ms/step - loss: 5.0266 - accuracy: 0.4029 - val_loss: 4.8120 - val_accuracy: 0.4300 - lr: 2.1360e-14\n",
      "Epoch 481/10000\n",
      "70/70 [==============================] - 0s 7ms/step - loss: 5.0260 - accuracy: 0.4054 - val_loss: 4.8135 - val_accuracy: 0.4290 - lr: 2.0292e-14\n",
      "Epoch 482/10000\n",
      "70/70 [==============================] - 0s 6ms/step - loss: 5.0372 - accuracy: 0.4023 - val_loss: 4.8146 - val_accuracy: 0.4290 - lr: 1.9278e-14\n",
      "Epoch 483/10000\n",
      "70/70 [==============================] - 0s 7ms/step - loss: 5.0377 - accuracy: 0.4067 - val_loss: 4.8132 - val_accuracy: 0.4290 - lr: 1.8314e-14\n",
      "Epoch 484/10000\n",
      "70/70 [==============================] - 0s 6ms/step - loss: 5.0286 - accuracy: 0.4021 - val_loss: 4.8120 - val_accuracy: 0.4300 - lr: 1.7398e-14\n",
      "Epoch 485/10000\n",
      "70/70 [==============================] - 0s 7ms/step - loss: 5.0459 - accuracy: 0.4046 - val_loss: 4.8140 - val_accuracy: 0.4310 - lr: 1.6528e-14\n",
      "Epoch 486/10000\n",
      "70/70 [==============================] - 0s 7ms/step - loss: 5.0541 - accuracy: 0.3976 - val_loss: 4.8161 - val_accuracy: 0.4320 - lr: 1.5702e-14\n",
      "Epoch 487/10000\n",
      "70/70 [==============================] - 0s 7ms/step - loss: 5.0358 - accuracy: 0.4033 - val_loss: 4.8155 - val_accuracy: 0.4310 - lr: 1.4917e-14\n",
      "Epoch 488/10000\n",
      "70/70 [==============================] - 0s 6ms/step - loss: 5.0392 - accuracy: 0.3993 - val_loss: 4.8207 - val_accuracy: 0.4330 - lr: 1.4171e-14\n",
      "Epoch 489/10000\n",
      "70/70 [==============================] - 0s 7ms/step - loss: 5.0339 - accuracy: 0.4063 - val_loss: 4.8172 - val_accuracy: 0.4310 - lr: 1.3462e-14\n",
      "Epoch 490/10000\n",
      "70/70 [==============================] - 0s 7ms/step - loss: 5.0247 - accuracy: 0.4044 - val_loss: 4.8154 - val_accuracy: 0.4310 - lr: 1.2789e-14\n",
      "Epoch 491/10000\n",
      "70/70 [==============================] - 0s 6ms/step - loss: 5.0616 - accuracy: 0.4016 - val_loss: 4.8157 - val_accuracy: 0.4310 - lr: 1.2150e-14\n",
      "Epoch 492/10000\n",
      "70/70 [==============================] - 0s 7ms/step - loss: 5.0474 - accuracy: 0.4010 - val_loss: 4.8151 - val_accuracy: 0.4320 - lr: 1.1542e-14\n",
      "Epoch 493/10000\n",
      "70/70 [==============================] - 0s 7ms/step - loss: 5.0854 - accuracy: 0.4040 - val_loss: 4.8192 - val_accuracy: 0.4310 - lr: 1.0965e-14\n",
      "Epoch 494/10000\n",
      "70/70 [==============================] - 0s 7ms/step - loss: 5.0667 - accuracy: 0.3999 - val_loss: 4.8197 - val_accuracy: 0.4320 - lr: 1.0417e-14\n",
      "Epoch 495/10000\n",
      "70/70 [==============================] - 0s 6ms/step - loss: 5.0661 - accuracy: 0.3999 - val_loss: 4.8204 - val_accuracy: 0.4300 - lr: 9.8960e-15\n",
      "Epoch 496/10000\n",
      "70/70 [==============================] - 0s 7ms/step - loss: 5.0645 - accuracy: 0.4013 - val_loss: 4.8179 - val_accuracy: 0.4300 - lr: 9.4012e-15\n",
      "Epoch 497/10000\n",
      "70/70 [==============================] - 0s 7ms/step - loss: 5.0691 - accuracy: 0.4037 - val_loss: 4.8149 - val_accuracy: 0.4300 - lr: 8.9312e-15\n",
      "Epoch 498/10000\n",
      "70/70 [==============================] - 0s 7ms/step - loss: 5.0711 - accuracy: 0.4016 - val_loss: 4.8188 - val_accuracy: 0.4310 - lr: 8.4846e-15\n",
      "Epoch 499/10000\n",
      "70/70 [==============================] - 0s 7ms/step - loss: 5.0132 - accuracy: 0.4089 - val_loss: 4.8133 - val_accuracy: 0.4300 - lr: 8.0604e-15\n",
      "Epoch 500/10000\n",
      "70/70 [==============================] - 0s 7ms/step - loss: 5.0841 - accuracy: 0.4014 - val_loss: 4.8191 - val_accuracy: 0.4330 - lr: 7.6574e-15\n",
      "Epoch 501/10000\n",
      "70/70 [==============================] - 0s 7ms/step - loss: 5.0147 - accuracy: 0.4009 - val_loss: 4.8143 - val_accuracy: 0.4300 - lr: 7.2745e-15\n",
      "Epoch 502/10000\n",
      "70/70 [==============================] - 0s 6ms/step - loss: 5.0527 - accuracy: 0.4044 - val_loss: 4.8139 - val_accuracy: 0.4310 - lr: 6.9108e-15\n",
      "Epoch 503/10000\n",
      "70/70 [==============================] - 0s 7ms/step - loss: 5.0745 - accuracy: 0.4001 - val_loss: 4.8153 - val_accuracy: 0.4320 - lr: 6.5652e-15\n",
      "Epoch 504/10000\n",
      "70/70 [==============================] - 0s 6ms/step - loss: 5.0498 - accuracy: 0.4013 - val_loss: 4.8168 - val_accuracy: 0.4320 - lr: 6.2370e-15\n",
      "Epoch 505/10000\n",
      "70/70 [==============================] - 0s 7ms/step - loss: 5.0529 - accuracy: 0.4043 - val_loss: 4.8155 - val_accuracy: 0.4310 - lr: 5.9251e-15\n",
      "Epoch 506/10000\n",
      "70/70 [==============================] - 0s 7ms/step - loss: 5.0403 - accuracy: 0.4010 - val_loss: 4.8135 - val_accuracy: 0.4300 - lr: 5.6289e-15\n"
     ]
    },
    {
     "name": "stdout",
     "output_type": "stream",
     "text": [
      "Epoch 507/10000\n",
      "70/70 [==============================] - 0s 7ms/step - loss: 5.0656 - accuracy: 0.4037 - val_loss: 4.8145 - val_accuracy: 0.4300 - lr: 5.3474e-15\n",
      "Epoch 508/10000\n",
      "70/70 [==============================] - 0s 7ms/step - loss: 5.0501 - accuracy: 0.4076 - val_loss: 4.8140 - val_accuracy: 0.4290 - lr: 5.0800e-15\n",
      "Epoch 509/10000\n",
      "70/70 [==============================] - 0s 7ms/step - loss: 5.0499 - accuracy: 0.4047 - val_loss: 4.8140 - val_accuracy: 0.4310 - lr: 4.8260e-15\n",
      "Epoch 510/10000\n",
      "70/70 [==============================] - 0s 6ms/step - loss: 5.0730 - accuracy: 0.4003 - val_loss: 4.8150 - val_accuracy: 0.4320 - lr: 4.5847e-15\n",
      "Epoch 511/10000\n",
      "70/70 [==============================] - 0s 6ms/step - loss: 5.0650 - accuracy: 0.3967 - val_loss: 4.8093 - val_accuracy: 0.4300 - lr: 4.3555e-15\n",
      "Epoch 512/10000\n",
      "70/70 [==============================] - 0s 7ms/step - loss: 5.0670 - accuracy: 0.4089 - val_loss: 4.8113 - val_accuracy: 0.4300 - lr: 4.1377e-15\n",
      "Epoch 513/10000\n",
      "70/70 [==============================] - 0s 7ms/step - loss: 5.0745 - accuracy: 0.4021 - val_loss: 4.8120 - val_accuracy: 0.4310 - lr: 3.9308e-15\n",
      "Epoch 514/10000\n",
      "70/70 [==============================] - 0s 7ms/step - loss: 5.0352 - accuracy: 0.4084 - val_loss: 4.8141 - val_accuracy: 0.4300 - lr: 3.7343e-15\n",
      "Epoch 515/10000\n",
      "70/70 [==============================] - 0s 6ms/step - loss: 5.0349 - accuracy: 0.4057 - val_loss: 4.8136 - val_accuracy: 0.4310 - lr: 3.5476e-15\n",
      "Epoch 516/10000\n",
      "70/70 [==============================] - 0s 7ms/step - loss: 5.0545 - accuracy: 0.4036 - val_loss: 4.8151 - val_accuracy: 0.4320 - lr: 3.3702e-15\n",
      "Epoch 517/10000\n",
      "70/70 [==============================] - 0s 7ms/step - loss: 5.0362 - accuracy: 0.4036 - val_loss: 4.8146 - val_accuracy: 0.4330 - lr: 3.2017e-15\n",
      "Epoch 518/10000\n",
      "70/70 [==============================] - 0s 7ms/step - loss: 5.0581 - accuracy: 0.4040 - val_loss: 4.8154 - val_accuracy: 0.4320 - lr: 3.0416e-15\n",
      "Epoch 519/10000\n",
      "70/70 [==============================] - 0s 6ms/step - loss: 5.0581 - accuracy: 0.4037 - val_loss: 4.8166 - val_accuracy: 0.4290 - lr: 2.8895e-15\n",
      "Epoch 520/10000\n",
      "70/70 [==============================] - 0s 7ms/step - loss: 5.0379 - accuracy: 0.4027 - val_loss: 4.8170 - val_accuracy: 0.4320 - lr: 2.7451e-15\n",
      "Epoch 521/10000\n",
      "70/70 [==============================] - 0s 6ms/step - loss: 5.0290 - accuracy: 0.4044 - val_loss: 4.8150 - val_accuracy: 0.4340 - lr: 2.6078e-15\n",
      "Epoch 522/10000\n",
      "70/70 [==============================] - 0s 6ms/step - loss: 5.0342 - accuracy: 0.4033 - val_loss: 4.8134 - val_accuracy: 0.4320 - lr: 2.4774e-15\n",
      "Epoch 523/10000\n",
      "70/70 [==============================] - 0s 6ms/step - loss: 5.0474 - accuracy: 0.4056 - val_loss: 4.8127 - val_accuracy: 0.4300 - lr: 2.3535e-15\n",
      "Epoch 524/10000\n",
      "70/70 [==============================] - 0s 6ms/step - loss: 5.0317 - accuracy: 0.4114 - val_loss: 4.8142 - val_accuracy: 0.4300 - lr: 2.2359e-15\n",
      "Epoch 525/10000\n",
      "70/70 [==============================] - 0s 7ms/step - loss: 5.0290 - accuracy: 0.4043 - val_loss: 4.8153 - val_accuracy: 0.4300 - lr: 2.1241e-15\n",
      "Epoch 526/10000\n",
      "70/70 [==============================] - 0s 6ms/step - loss: 5.0173 - accuracy: 0.4080 - val_loss: 4.8118 - val_accuracy: 0.4300 - lr: 2.0179e-15\n",
      "Epoch 527/10000\n",
      "70/70 [==============================] - 0s 7ms/step - loss: 5.0268 - accuracy: 0.4083 - val_loss: 4.8132 - val_accuracy: 0.4300 - lr: 1.9170e-15\n",
      "Epoch 528/10000\n",
      "70/70 [==============================] - 0s 7ms/step - loss: 5.0579 - accuracy: 0.3997 - val_loss: 4.8154 - val_accuracy: 0.4310 - lr: 1.8211e-15\n",
      "Epoch 529/10000\n",
      "70/70 [==============================] - 0s 7ms/step - loss: 5.0715 - accuracy: 0.4031 - val_loss: 4.8176 - val_accuracy: 0.4320 - lr: 1.7301e-15\n",
      "Epoch 530/10000\n",
      "70/70 [==============================] - 0s 6ms/step - loss: 5.0495 - accuracy: 0.4023 - val_loss: 4.8172 - val_accuracy: 0.4320 - lr: 1.6436e-15\n",
      "Epoch 531/10000\n",
      "70/70 [==============================] - 0s 6ms/step - loss: 5.0386 - accuracy: 0.4051 - val_loss: 4.8149 - val_accuracy: 0.4320 - lr: 1.5614e-15\n",
      "Epoch 532/10000\n",
      "70/70 [==============================] - 0s 7ms/step - loss: 5.0331 - accuracy: 0.4103 - val_loss: 4.8180 - val_accuracy: 0.4310 - lr: 1.4833e-15\n",
      "Epoch 533/10000\n",
      "70/70 [==============================] - 0s 6ms/step - loss: 5.0586 - accuracy: 0.4059 - val_loss: 4.8144 - val_accuracy: 0.4330 - lr: 1.4092e-15\n",
      "Epoch 534/10000\n",
      "70/70 [==============================] - 0s 7ms/step - loss: 5.0552 - accuracy: 0.4024 - val_loss: 4.8142 - val_accuracy: 0.4310 - lr: 1.3387e-15\n",
      "Epoch 535/10000\n",
      "70/70 [==============================] - 0s 6ms/step - loss: 5.0239 - accuracy: 0.4059 - val_loss: 4.8099 - val_accuracy: 0.4300 - lr: 1.2718e-15\n",
      "Epoch 536/10000\n",
      "70/70 [==============================] - 0s 7ms/step - loss: 5.0484 - accuracy: 0.4086 - val_loss: 4.8162 - val_accuracy: 0.4320 - lr: 1.2082e-15\n",
      "Epoch 537/10000\n",
      "70/70 [==============================] - 0s 6ms/step - loss: 5.0665 - accuracy: 0.4034 - val_loss: 4.8182 - val_accuracy: 0.4330 - lr: 1.1478e-15\n",
      "Epoch 538/10000\n",
      "70/70 [==============================] - 0s 6ms/step - loss: 5.0683 - accuracy: 0.4011 - val_loss: 4.8189 - val_accuracy: 0.4320 - lr: 1.0904e-15\n",
      "Epoch 539/10000\n",
      "70/70 [==============================] - 0s 6ms/step - loss: 5.0478 - accuracy: 0.4050 - val_loss: 4.8161 - val_accuracy: 0.4310 - lr: 1.0359e-15\n",
      "Epoch 540/10000\n",
      "70/70 [==============================] - 0s 7ms/step - loss: 5.0736 - accuracy: 0.3979 - val_loss: 4.8183 - val_accuracy: 0.4320 - lr: 9.8406e-16\n",
      "Epoch 541/10000\n",
      "70/70 [==============================] - 0s 7ms/step - loss: 5.0700 - accuracy: 0.4040 - val_loss: 4.8255 - val_accuracy: 0.4320 - lr: 9.3486e-16\n",
      "Epoch 542/10000\n",
      "70/70 [==============================] - 0s 7ms/step - loss: 5.0675 - accuracy: 0.4051 - val_loss: 4.8203 - val_accuracy: 0.4310 - lr: 8.8812e-16\n",
      "Epoch 543/10000\n",
      "70/70 [==============================] - 0s 7ms/step - loss: 5.0530 - accuracy: 0.4009 - val_loss: 4.8164 - val_accuracy: 0.4300 - lr: 8.4371e-16\n",
      "Epoch 544/10000\n",
      "70/70 [==============================] - 0s 6ms/step - loss: 5.0843 - accuracy: 0.4051 - val_loss: 4.8168 - val_accuracy: 0.4300 - lr: 8.0153e-16\n",
      "Epoch 545/10000\n",
      "70/70 [==============================] - 0s 7ms/step - loss: 5.0696 - accuracy: 0.4044 - val_loss: 4.8212 - val_accuracy: 0.4280 - lr: 7.6145e-16\n",
      "Epoch 546/10000\n",
      "70/70 [==============================] - 0s 6ms/step - loss: 5.0667 - accuracy: 0.4030 - val_loss: 4.8175 - val_accuracy: 0.4280 - lr: 7.2338e-16\n",
      "Epoch 547/10000\n",
      "70/70 [==============================] - 0s 7ms/step - loss: 5.0466 - accuracy: 0.4037 - val_loss: 4.8204 - val_accuracy: 0.4310 - lr: 6.8721e-16\n",
      "Epoch 548/10000\n",
      "70/70 [==============================] - 0s 7ms/step - loss: 5.0330 - accuracy: 0.4120 - val_loss: 4.8229 - val_accuracy: 0.4330 - lr: 6.5285e-16\n",
      "Epoch 549/10000\n",
      "70/70 [==============================] - 0s 7ms/step - loss: 5.1307 - accuracy: 0.4004 - val_loss: 4.8230 - val_accuracy: 0.4320 - lr: 6.2021e-16\n",
      "Epoch 550/10000\n",
      "70/70 [==============================] - 0s 6ms/step - loss: 5.0522 - accuracy: 0.4050 - val_loss: 4.8181 - val_accuracy: 0.4310 - lr: 5.8920e-16\n",
      "Epoch 551/10000\n",
      "70/70 [==============================] - 0s 6ms/step - loss: 5.0410 - accuracy: 0.4006 - val_loss: 4.8173 - val_accuracy: 0.4310 - lr: 5.5974e-16\n",
      "Epoch 552/10000\n",
      "70/70 [==============================] - 0s 6ms/step - loss: 5.0470 - accuracy: 0.4044 - val_loss: 4.8146 - val_accuracy: 0.4310 - lr: 5.3175e-16\n",
      "Epoch 553/10000\n",
      "70/70 [==============================] - 0s 6ms/step - loss: 5.0535 - accuracy: 0.3981 - val_loss: 4.8155 - val_accuracy: 0.4310 - lr: 5.0516e-16\n",
      "Epoch 554/10000\n",
      "70/70 [==============================] - 0s 7ms/step - loss: 5.0511 - accuracy: 0.4001 - val_loss: 4.8150 - val_accuracy: 0.4320 - lr: 4.7990e-16\n",
      "Epoch 555/10000\n",
      "70/70 [==============================] - 0s 7ms/step - loss: 5.0401 - accuracy: 0.4089 - val_loss: 4.8114 - val_accuracy: 0.4310 - lr: 4.5591e-16\n",
      "Epoch 556/10000\n",
      "70/70 [==============================] - 0s 7ms/step - loss: 5.0340 - accuracy: 0.4040 - val_loss: 4.8129 - val_accuracy: 0.4310 - lr: 4.3311e-16\n",
      "Epoch 557/10000\n"
     ]
    },
    {
     "name": "stdout",
     "output_type": "stream",
     "text": [
      "70/70 [==============================] - 0s 6ms/step - loss: 5.0437 - accuracy: 0.4081 - val_loss: 4.8174 - val_accuracy: 0.4320 - lr: 4.1146e-16\n",
      "Epoch 558/10000\n",
      "70/70 [==============================] - 0s 7ms/step - loss: 5.0382 - accuracy: 0.4049 - val_loss: 4.8131 - val_accuracy: 0.4300 - lr: 3.9088e-16\n",
      "Epoch 559/10000\n",
      "70/70 [==============================] - 0s 6ms/step - loss: 5.0192 - accuracy: 0.4037 - val_loss: 4.8159 - val_accuracy: 0.4320 - lr: 3.7134e-16\n",
      "Epoch 560/10000\n",
      "70/70 [==============================] - 0s 7ms/step - loss: 5.0218 - accuracy: 0.4067 - val_loss: 4.8097 - val_accuracy: 0.4320 - lr: 3.5277e-16\n",
      "Epoch 561/10000\n",
      "70/70 [==============================] - 0s 6ms/step - loss: 5.0467 - accuracy: 0.4019 - val_loss: 4.8106 - val_accuracy: 0.4310 - lr: 3.3513e-16\n",
      "Epoch 562/10000\n",
      "70/70 [==============================] - 0s 7ms/step - loss: 5.0577 - accuracy: 0.4027 - val_loss: 4.8153 - val_accuracy: 0.4310 - lr: 3.1838e-16\n",
      "Epoch 563/10000\n",
      "70/70 [==============================] - 0s 6ms/step - loss: 5.0536 - accuracy: 0.4001 - val_loss: 4.8114 - val_accuracy: 0.4310 - lr: 3.0246e-16\n",
      "Epoch 564/10000\n",
      "70/70 [==============================] - 0s 6ms/step - loss: 5.0695 - accuracy: 0.4049 - val_loss: 4.8130 - val_accuracy: 0.4320 - lr: 2.8734e-16\n",
      "Epoch 565/10000\n",
      "70/70 [==============================] - 0s 7ms/step - loss: 5.0753 - accuracy: 0.4047 - val_loss: 4.8197 - val_accuracy: 0.4320 - lr: 2.7297e-16\n",
      "Epoch 566/10000\n",
      "70/70 [==============================] - 0s 6ms/step - loss: 5.0483 - accuracy: 0.4017 - val_loss: 4.8174 - val_accuracy: 0.4310 - lr: 2.5932e-16\n",
      "Epoch 567/10000\n",
      "70/70 [==============================] - 0s 7ms/step - loss: 5.0730 - accuracy: 0.4091 - val_loss: 4.8149 - val_accuracy: 0.4310 - lr: 2.4635e-16\n",
      "Epoch 568/10000\n",
      "70/70 [==============================] - 0s 7ms/step - loss: 5.0307 - accuracy: 0.4003 - val_loss: 4.8138 - val_accuracy: 0.4310 - lr: 2.3404e-16\n",
      "Epoch 569/10000\n",
      "70/70 [==============================] - 0s 7ms/step - loss: 5.0508 - accuracy: 0.4056 - val_loss: 4.8144 - val_accuracy: 0.4320 - lr: 2.2233e-16\n",
      "Epoch 570/10000\n",
      "70/70 [==============================] - 0s 6ms/step - loss: 5.0493 - accuracy: 0.4039 - val_loss: 4.8162 - val_accuracy: 0.4300 - lr: 2.1122e-16\n",
      "Epoch 571/10000\n",
      "70/70 [==============================] - 0s 7ms/step - loss: 5.0840 - accuracy: 0.4071 - val_loss: 4.8160 - val_accuracy: 0.4320 - lr: 2.0066e-16\n",
      "Epoch 572/10000\n",
      "70/70 [==============================] - 0s 6ms/step - loss: 5.0748 - accuracy: 0.4070 - val_loss: 4.8145 - val_accuracy: 0.4310 - lr: 1.9062e-16\n",
      "Epoch 573/10000\n",
      "70/70 [==============================] - 0s 6ms/step - loss: 5.0282 - accuracy: 0.4026 - val_loss: 4.8126 - val_accuracy: 0.4310 - lr: 1.8109e-16\n",
      "Epoch 574/10000\n",
      "70/70 [==============================] - 0s 7ms/step - loss: 5.0530 - accuracy: 0.4076 - val_loss: 4.8165 - val_accuracy: 0.4310 - lr: 1.7204e-16\n",
      "Epoch 575/10000\n",
      "70/70 [==============================] - 0s 7ms/step - loss: 5.0490 - accuracy: 0.4103 - val_loss: 4.8183 - val_accuracy: 0.4310 - lr: 1.6344e-16\n",
      "Epoch 576/10000\n",
      "70/70 [==============================] - 0s 7ms/step - loss: 5.0208 - accuracy: 0.4053 - val_loss: 4.8169 - val_accuracy: 0.4300 - lr: 1.5526e-16\n",
      "Epoch 577/10000\n",
      "70/70 [==============================] - 0s 6ms/step - loss: 5.0552 - accuracy: 0.4060 - val_loss: 4.8165 - val_accuracy: 0.4300 - lr: 1.4750e-16\n",
      "Epoch 578/10000\n",
      "70/70 [==============================] - 0s 7ms/step - loss: 5.0613 - accuracy: 0.4070 - val_loss: 4.8123 - val_accuracy: 0.4300 - lr: 1.4013e-16\n",
      "Epoch 579/10000\n",
      "70/70 [==============================] - 0s 7ms/step - loss: 5.0246 - accuracy: 0.4044 - val_loss: 4.8122 - val_accuracy: 0.4300 - lr: 1.3312e-16\n",
      "Epoch 580/10000\n",
      "70/70 [==============================] - 0s 7ms/step - loss: 5.0898 - accuracy: 0.4023 - val_loss: 4.8126 - val_accuracy: 0.4290 - lr: 1.2646e-16\n",
      "Epoch 581/10000\n",
      "70/70 [==============================] - 0s 6ms/step - loss: 5.0083 - accuracy: 0.4049 - val_loss: 4.8138 - val_accuracy: 0.4300 - lr: 1.2014e-16\n",
      "Epoch 582/10000\n",
      "70/70 [==============================] - 0s 7ms/step - loss: 5.0796 - accuracy: 0.4069 - val_loss: 4.8181 - val_accuracy: 0.4310 - lr: 1.1413e-16\n",
      "Epoch 583/10000\n",
      "70/70 [==============================] - 0s 7ms/step - loss: 5.0470 - accuracy: 0.4007 - val_loss: 4.8138 - val_accuracy: 0.4300 - lr: 1.0843e-16\n",
      "Epoch 584/10000\n",
      "70/70 [==============================] - 0s 7ms/step - loss: 5.0719 - accuracy: 0.4083 - val_loss: 4.8165 - val_accuracy: 0.4300 - lr: 1.0301e-16\n",
      "Epoch 585/10000\n",
      "70/70 [==============================] - 0s 7ms/step - loss: 5.0346 - accuracy: 0.4059 - val_loss: 4.8156 - val_accuracy: 0.4300 - lr: 9.7856e-17\n",
      "Epoch 586/10000\n",
      "70/70 [==============================] - 0s 6ms/step - loss: 5.0624 - accuracy: 0.4061 - val_loss: 4.8186 - val_accuracy: 0.4320 - lr: 9.2963e-17\n",
      "Epoch 587/10000\n",
      "70/70 [==============================] - 0s 7ms/step - loss: 5.0695 - accuracy: 0.4033 - val_loss: 4.8243 - val_accuracy: 0.4330 - lr: 8.8315e-17\n",
      "Epoch 588/10000\n",
      "70/70 [==============================] - 0s 6ms/step - loss: 5.0481 - accuracy: 0.4063 - val_loss: 4.8194 - val_accuracy: 0.4310 - lr: 8.3899e-17\n",
      "Epoch 589/10000\n",
      "70/70 [==============================] - 0s 7ms/step - loss: 5.0440 - accuracy: 0.4030 - val_loss: 4.8177 - val_accuracy: 0.4290 - lr: 7.9704e-17\n",
      "Epoch 590/10000\n",
      "70/70 [==============================] - 0s 6ms/step - loss: 5.0287 - accuracy: 0.4087 - val_loss: 4.8154 - val_accuracy: 0.4280 - lr: 7.5719e-17\n",
      "Epoch 591/10000\n",
      "70/70 [==============================] - 0s 7ms/step - loss: 5.0196 - accuracy: 0.4114 - val_loss: 4.8128 - val_accuracy: 0.4290 - lr: 7.1933e-17\n",
      "Epoch 592/10000\n",
      "70/70 [==============================] - 0s 6ms/step - loss: 5.0522 - accuracy: 0.4069 - val_loss: 4.8144 - val_accuracy: 0.4300 - lr: 6.8336e-17\n",
      "Epoch 593/10000\n",
      "70/70 [==============================] - 0s 7ms/step - loss: 4.9979 - accuracy: 0.4010 - val_loss: 4.8129 - val_accuracy: 0.4300 - lr: 6.4919e-17\n",
      "Epoch 594/10000\n",
      "70/70 [==============================] - 0s 6ms/step - loss: 5.0583 - accuracy: 0.4031 - val_loss: 4.8148 - val_accuracy: 0.4310 - lr: 6.1673e-17\n",
      "Epoch 595/10000\n",
      "70/70 [==============================] - 0s 7ms/step - loss: 5.0595 - accuracy: 0.4000 - val_loss: 4.8120 - val_accuracy: 0.4330 - lr: 5.8590e-17\n",
      "Epoch 596/10000\n",
      "70/70 [==============================] - 0s 7ms/step - loss: 5.0218 - accuracy: 0.4053 - val_loss: 4.8121 - val_accuracy: 0.4310 - lr: 5.5660e-17\n",
      "Epoch 597/10000\n",
      "70/70 [==============================] - 0s 7ms/step - loss: 5.0521 - accuracy: 0.4039 - val_loss: 4.8188 - val_accuracy: 0.4320 - lr: 5.2877e-17\n",
      "Epoch 598/10000\n",
      "70/70 [==============================] - 0s 7ms/step - loss: 5.0330 - accuracy: 0.4029 - val_loss: 4.8191 - val_accuracy: 0.4320 - lr: 5.0233e-17\n",
      "Epoch 599/10000\n",
      "70/70 [==============================] - 0s 7ms/step - loss: 5.0638 - accuracy: 0.4067 - val_loss: 4.8166 - val_accuracy: 0.4320 - lr: 4.7722e-17\n",
      "Epoch 600/10000\n",
      "70/70 [==============================] - 0s 7ms/step - loss: 5.0693 - accuracy: 0.4011 - val_loss: 4.8213 - val_accuracy: 0.4320 - lr: 4.5336e-17\n",
      "Epoch 601/10000\n",
      "70/70 [==============================] - 0s 7ms/step - loss: 5.0439 - accuracy: 0.4019 - val_loss: 4.8212 - val_accuracy: 0.4320 - lr: 4.3069e-17\n",
      "Epoch 602/10000\n",
      "70/70 [==============================] - 0s 7ms/step - loss: 5.0764 - accuracy: 0.4039 - val_loss: 4.8201 - val_accuracy: 0.4320 - lr: 4.0915e-17\n",
      "Epoch 603/10000\n",
      "70/70 [==============================] - 0s 7ms/step - loss: 5.0891 - accuracy: 0.4020 - val_loss: 4.8200 - val_accuracy: 0.4310 - lr: 3.8870e-17\n",
      "Epoch 604/10000\n",
      "70/70 [==============================] - 0s 7ms/step - loss: 5.0698 - accuracy: 0.4047 - val_loss: 4.8167 - val_accuracy: 0.4310 - lr: 3.6926e-17\n",
      "Epoch 605/10000\n",
      "70/70 [==============================] - 0s 7ms/step - loss: 5.0554 - accuracy: 0.4053 - val_loss: 4.8171 - val_accuracy: 0.4310 - lr: 3.5080e-17\n",
      "Epoch 606/10000\n",
      "70/70 [==============================] - 0s 7ms/step - loss: 5.0729 - accuracy: 0.4054 - val_loss: 4.8151 - val_accuracy: 0.4310 - lr: 3.3326e-17\n",
      "Epoch 607/10000\n",
      "70/70 [==============================] - 0s 7ms/step - loss: 5.0911 - accuracy: 0.4040 - val_loss: 4.8253 - val_accuracy: 0.4330 - lr: 3.1660e-17\n"
     ]
    },
    {
     "name": "stdout",
     "output_type": "stream",
     "text": [
      "Epoch 608/10000\n",
      "70/70 [==============================] - 0s 7ms/step - loss: 5.0696 - accuracy: 0.4009 - val_loss: 4.8187 - val_accuracy: 0.4300 - lr: 3.0077e-17\n",
      "Epoch 609/10000\n",
      "70/70 [==============================] - 0s 7ms/step - loss: 5.0723 - accuracy: 0.4089 - val_loss: 4.8238 - val_accuracy: 0.4310 - lr: 2.8573e-17\n",
      "Epoch 610/10000\n",
      "70/70 [==============================] - 1s 8ms/step - loss: 5.0550 - accuracy: 0.4079 - val_loss: 4.8182 - val_accuracy: 0.4310 - lr: 2.7144e-17\n",
      "Epoch 611/10000\n",
      "70/70 [==============================] - 1s 8ms/step - loss: 5.0827 - accuracy: 0.4081 - val_loss: 4.8189 - val_accuracy: 0.4320 - lr: 2.5787e-17\n",
      "Epoch 612/10000\n",
      "70/70 [==============================] - 1s 8ms/step - loss: 5.0416 - accuracy: 0.4077 - val_loss: 4.8162 - val_accuracy: 0.4310 - lr: 2.4498e-17\n",
      "Epoch 613/10000\n",
      "70/70 [==============================] - 1s 8ms/step - loss: 5.0370 - accuracy: 0.4030 - val_loss: 4.8166 - val_accuracy: 0.4310 - lr: 2.3273e-17\n",
      "Epoch 614/10000\n",
      "70/70 [==============================] - 1s 8ms/step - loss: 5.0815 - accuracy: 0.4017 - val_loss: 4.8144 - val_accuracy: 0.4310 - lr: 2.2109e-17\n",
      "Epoch 615/10000\n",
      "70/70 [==============================] - 1s 8ms/step - loss: 5.0468 - accuracy: 0.4036 - val_loss: 4.8120 - val_accuracy: 0.4330 - lr: 2.1004e-17\n",
      "Epoch 616/10000\n",
      "70/70 [==============================] - 1s 8ms/step - loss: 5.0597 - accuracy: 0.4054 - val_loss: 4.8143 - val_accuracy: 0.4310 - lr: 1.9953e-17\n",
      "Epoch 617/10000\n",
      "70/70 [==============================] - 0s 7ms/step - loss: 5.0530 - accuracy: 0.3989 - val_loss: 4.8101 - val_accuracy: 0.4310 - lr: 1.8956e-17\n",
      "Epoch 618/10000\n",
      "70/70 [==============================] - 0s 7ms/step - loss: 5.0702 - accuracy: 0.4027 - val_loss: 4.8163 - val_accuracy: 0.4320 - lr: 1.8008e-17\n",
      "Epoch 619/10000\n",
      "70/70 [==============================] - 0s 7ms/step - loss: 5.0142 - accuracy: 0.4066 - val_loss: 4.8145 - val_accuracy: 0.4300 - lr: 1.7108e-17\n",
      "Epoch 620/10000\n",
      "70/70 [==============================] - 0s 7ms/step - loss: 5.0477 - accuracy: 0.4067 - val_loss: 4.8187 - val_accuracy: 0.4320 - lr: 1.6252e-17\n",
      "Epoch 621/10000\n",
      "70/70 [==============================] - 1s 7ms/step - loss: 5.0348 - accuracy: 0.4039 - val_loss: 4.8154 - val_accuracy: 0.4310 - lr: 1.5440e-17\n",
      "Epoch 622/10000\n",
      "70/70 [==============================] - 0s 7ms/step - loss: 5.0886 - accuracy: 0.4014 - val_loss: 4.8189 - val_accuracy: 0.4320 - lr: 1.4668e-17\n",
      "Epoch 623/10000\n",
      "70/70 [==============================] - 0s 7ms/step - loss: 5.0388 - accuracy: 0.4047 - val_loss: 4.8188 - val_accuracy: 0.4300 - lr: 1.3934e-17\n",
      "Epoch 624/10000\n",
      "70/70 [==============================] - 0s 7ms/step - loss: 5.0490 - accuracy: 0.4026 - val_loss: 4.8198 - val_accuracy: 0.4330 - lr: 1.3238e-17\n",
      "Epoch 625/10000\n",
      "70/70 [==============================] - 0s 7ms/step - loss: 5.0637 - accuracy: 0.4060 - val_loss: 4.8174 - val_accuracy: 0.4320 - lr: 1.2576e-17\n",
      "Epoch 626/10000\n",
      "70/70 [==============================] - 0s 7ms/step - loss: 5.0505 - accuracy: 0.4020 - val_loss: 4.8166 - val_accuracy: 0.4310 - lr: 1.1947e-17\n",
      "Epoch 627/10000\n",
      "70/70 [==============================] - 1s 7ms/step - loss: 5.0572 - accuracy: 0.4054 - val_loss: 4.8178 - val_accuracy: 0.4310 - lr: 1.1350e-17\n",
      "Epoch 628/10000\n",
      "70/70 [==============================] - 0s 7ms/step - loss: 5.0050 - accuracy: 0.4081 - val_loss: 4.8135 - val_accuracy: 0.4310 - lr: 1.0782e-17\n",
      "Epoch 629/10000\n",
      "70/70 [==============================] - 0s 7ms/step - loss: 5.0844 - accuracy: 0.4017 - val_loss: 4.8150 - val_accuracy: 0.4310 - lr: 1.0243e-17\n",
      "Epoch 630/10000\n",
      "70/70 [==============================] - 0s 6ms/step - loss: 5.0604 - accuracy: 0.4059 - val_loss: 4.8156 - val_accuracy: 0.4320 - lr: 9.7308e-18\n",
      "Epoch 631/10000\n",
      "70/70 [==============================] - 0s 7ms/step - loss: 5.0279 - accuracy: 0.4077 - val_loss: 4.8136 - val_accuracy: 0.4290 - lr: 9.2442e-18\n",
      "Epoch 632/10000\n",
      "70/70 [==============================] - 0s 6ms/step - loss: 5.0571 - accuracy: 0.4010 - val_loss: 4.8161 - val_accuracy: 0.4320 - lr: 8.7820e-18\n",
      "Epoch 633/10000\n",
      "70/70 [==============================] - 0s 6ms/step - loss: 5.1064 - accuracy: 0.4049 - val_loss: 4.8199 - val_accuracy: 0.4310 - lr: 8.3429e-18\n",
      "Epoch 634/10000\n",
      "70/70 [==============================] - 0s 7ms/step - loss: 5.0673 - accuracy: 0.4074 - val_loss: 4.8224 - val_accuracy: 0.4290 - lr: 7.9258e-18\n",
      "Epoch 635/10000\n",
      "70/70 [==============================] - 0s 7ms/step - loss: 5.0314 - accuracy: 0.4039 - val_loss: 4.8201 - val_accuracy: 0.4310 - lr: 7.5295e-18\n",
      "Epoch 636/10000\n",
      "70/70 [==============================] - 0s 7ms/step - loss: 5.0700 - accuracy: 0.4041 - val_loss: 4.8232 - val_accuracy: 0.4320 - lr: 7.1530e-18\n",
      "Epoch 637/10000\n",
      "70/70 [==============================] - 0s 7ms/step - loss: 5.1097 - accuracy: 0.4056 - val_loss: 4.8217 - val_accuracy: 0.4330 - lr: 6.7954e-18\n",
      "Epoch 638/10000\n",
      "70/70 [==============================] - 0s 7ms/step - loss: 5.0708 - accuracy: 0.4097 - val_loss: 4.8193 - val_accuracy: 0.4340 - lr: 6.4556e-18\n",
      "Epoch 639/10000\n",
      "70/70 [==============================] - 0s 7ms/step - loss: 5.0320 - accuracy: 0.4066 - val_loss: 4.8124 - val_accuracy: 0.4300 - lr: 6.1328e-18\n",
      "Epoch 640/10000\n",
      "70/70 [==============================] - 0s 7ms/step - loss: 5.0495 - accuracy: 0.4069 - val_loss: 4.8123 - val_accuracy: 0.4300 - lr: 5.8262e-18\n",
      "Epoch 641/10000\n",
      "70/70 [==============================] - 0s 7ms/step - loss: 5.0441 - accuracy: 0.4100 - val_loss: 4.8179 - val_accuracy: 0.4320 - lr: 5.5349e-18\n",
      "Epoch 642/10000\n",
      "70/70 [==============================] - 0s 7ms/step - loss: 5.0187 - accuracy: 0.4024 - val_loss: 4.8136 - val_accuracy: 0.4320 - lr: 5.2581e-18\n",
      "Epoch 643/10000\n",
      "70/70 [==============================] - 0s 7ms/step - loss: 5.0681 - accuracy: 0.4009 - val_loss: 4.8160 - val_accuracy: 0.4310 - lr: 4.9952e-18\n",
      "Epoch 644/10000\n",
      "70/70 [==============================] - 0s 7ms/step - loss: 5.0160 - accuracy: 0.4089 - val_loss: 4.8159 - val_accuracy: 0.4300 - lr: 4.7455e-18\n",
      "Epoch 645/10000\n",
      "70/70 [==============================] - 0s 7ms/step - loss: 5.0736 - accuracy: 0.4007 - val_loss: 4.8176 - val_accuracy: 0.4310 - lr: 4.5082e-18\n",
      "Epoch 646/10000\n",
      "70/70 [==============================] - 0s 6ms/step - loss: 5.0222 - accuracy: 0.4031 - val_loss: 4.8137 - val_accuracy: 0.4320 - lr: 4.2828e-18\n",
      "Epoch 647/10000\n",
      "70/70 [==============================] - 0s 6ms/step - loss: 5.0227 - accuracy: 0.4091 - val_loss: 4.8143 - val_accuracy: 0.4310 - lr: 4.0686e-18\n",
      "Epoch 648/10000\n",
      "70/70 [==============================] - 0s 7ms/step - loss: 5.0622 - accuracy: 0.4093 - val_loss: 4.8151 - val_accuracy: 0.4300 - lr: 3.8652e-18\n",
      "Epoch 649/10000\n",
      "70/70 [==============================] - 0s 7ms/step - loss: 5.0244 - accuracy: 0.4040 - val_loss: 4.8172 - val_accuracy: 0.4300 - lr: 3.6719e-18\n",
      "Epoch 650/10000\n",
      "70/70 [==============================] - 0s 6ms/step - loss: 5.0474 - accuracy: 0.4064 - val_loss: 4.8132 - val_accuracy: 0.4290 - lr: 3.4883e-18\n",
      "Epoch 651/10000\n",
      "70/70 [==============================] - 0s 7ms/step - loss: 5.0604 - accuracy: 0.4049 - val_loss: 4.8126 - val_accuracy: 0.4310 - lr: 3.3139e-18\n",
      "Epoch 652/10000\n",
      "70/70 [==============================] - 0s 6ms/step - loss: 5.0511 - accuracy: 0.3996 - val_loss: 4.8147 - val_accuracy: 0.4310 - lr: 3.1482e-18\n",
      "Epoch 653/10000\n",
      "70/70 [==============================] - 0s 7ms/step - loss: 5.0348 - accuracy: 0.4033 - val_loss: 4.8101 - val_accuracy: 0.4310 - lr: 2.9908e-18\n",
      "Epoch 654/10000\n",
      "70/70 [==============================] - 0s 6ms/step - loss: 5.0375 - accuracy: 0.4036 - val_loss: 4.8108 - val_accuracy: 0.4310 - lr: 2.8413e-18\n",
      "Epoch 655/10000\n",
      "70/70 [==============================] - 0s 6ms/step - loss: 5.0545 - accuracy: 0.4074 - val_loss: 4.8092 - val_accuracy: 0.4300 - lr: 2.6992e-18\n",
      "Epoch 656/10000\n",
      "70/70 [==============================] - 0s 7ms/step - loss: 5.0482 - accuracy: 0.4086 - val_loss: 4.8133 - val_accuracy: 0.4310 - lr: 2.5643e-18\n",
      "Epoch 657/10000\n",
      "70/70 [==============================] - 0s 6ms/step - loss: 5.0219 - accuracy: 0.4079 - val_loss: 4.8130 - val_accuracy: 0.4300 - lr: 2.4360e-18\n",
      "Epoch 658/10000\n"
     ]
    },
    {
     "name": "stdout",
     "output_type": "stream",
     "text": [
      "70/70 [==============================] - 0s 7ms/step - loss: 5.0417 - accuracy: 0.4063 - val_loss: 4.8133 - val_accuracy: 0.4310 - lr: 2.3142e-18\n",
      "Epoch 659/10000\n",
      "70/70 [==============================] - 0s 6ms/step - loss: 5.0659 - accuracy: 0.4023 - val_loss: 4.8152 - val_accuracy: 0.4320 - lr: 2.1985e-18\n",
      "Epoch 660/10000\n",
      "70/70 [==============================] - 0s 7ms/step - loss: 5.0842 - accuracy: 0.4016 - val_loss: 4.8202 - val_accuracy: 0.4330 - lr: 2.0886e-18\n",
      "Epoch 661/10000\n",
      "70/70 [==============================] - 0s 6ms/step - loss: 5.0347 - accuracy: 0.4070 - val_loss: 4.8189 - val_accuracy: 0.4320 - lr: 1.9842e-18\n",
      "Epoch 662/10000\n",
      "70/70 [==============================] - 0s 7ms/step - loss: 5.0537 - accuracy: 0.3994 - val_loss: 4.8153 - val_accuracy: 0.4320 - lr: 1.8850e-18\n",
      "Epoch 663/10000\n",
      "70/70 [==============================] - 0s 7ms/step - loss: 5.0707 - accuracy: 0.4086 - val_loss: 4.8181 - val_accuracy: 0.4330 - lr: 1.7907e-18\n",
      "Epoch 664/10000\n",
      "70/70 [==============================] - 0s 7ms/step - loss: 5.0607 - accuracy: 0.4047 - val_loss: 4.8145 - val_accuracy: 0.4340 - lr: 1.7012e-18\n",
      "Epoch 665/10000\n",
      "70/70 [==============================] - 0s 7ms/step - loss: 5.0436 - accuracy: 0.4056 - val_loss: 4.8156 - val_accuracy: 0.4320 - lr: 1.6161e-18\n",
      "Epoch 666/10000\n",
      "70/70 [==============================] - 0s 6ms/step - loss: 5.0549 - accuracy: 0.4021 - val_loss: 4.8172 - val_accuracy: 0.4280 - lr: 1.5353e-18\n",
      "Epoch 667/10000\n",
      "70/70 [==============================] - 0s 6ms/step - loss: 5.0240 - accuracy: 0.4116 - val_loss: 4.8170 - val_accuracy: 0.4320 - lr: 1.4585e-18\n",
      "Epoch 668/10000\n",
      "70/70 [==============================] - 0s 6ms/step - loss: 5.0507 - accuracy: 0.4031 - val_loss: 4.8173 - val_accuracy: 0.4330 - lr: 1.3856e-18\n",
      "Epoch 669/10000\n",
      "70/70 [==============================] - 0s 7ms/step - loss: 5.0489 - accuracy: 0.4053 - val_loss: 4.8152 - val_accuracy: 0.4320 - lr: 1.3163e-18\n",
      "Epoch 670/10000\n",
      "70/70 [==============================] - 0s 7ms/step - loss: 5.0479 - accuracy: 0.4093 - val_loss: 4.8124 - val_accuracy: 0.4300 - lr: 1.2505e-18\n",
      "Epoch 671/10000\n",
      "70/70 [==============================] - 0s 6ms/step - loss: 5.0357 - accuracy: 0.4006 - val_loss: 4.8134 - val_accuracy: 0.4300 - lr: 1.1880e-18\n",
      "Epoch 672/10000\n",
      "70/70 [==============================] - 0s 6ms/step - loss: 5.0539 - accuracy: 0.4087 - val_loss: 4.8127 - val_accuracy: 0.4320 - lr: 1.1286e-18\n",
      "Epoch 673/10000\n",
      "70/70 [==============================] - 0s 7ms/step - loss: 5.0416 - accuracy: 0.4033 - val_loss: 4.8127 - val_accuracy: 0.4320 - lr: 1.0722e-18\n",
      "Epoch 674/10000\n",
      "70/70 [==============================] - 0s 6ms/step - loss: 5.0752 - accuracy: 0.4026 - val_loss: 4.8154 - val_accuracy: 0.4310 - lr: 1.0186e-18\n",
      "Epoch 675/10000\n",
      "70/70 [==============================] - 0s 6ms/step - loss: 5.0376 - accuracy: 0.4039 - val_loss: 4.8139 - val_accuracy: 0.4290 - lr: 9.6763e-19\n",
      "Epoch 676/10000\n",
      "70/70 [==============================] - 0s 7ms/step - loss: 5.0679 - accuracy: 0.4040 - val_loss: 4.8168 - val_accuracy: 0.4310 - lr: 9.1925e-19\n",
      "Epoch 677/10000\n",
      "70/70 [==============================] - 0s 7ms/step - loss: 5.0258 - accuracy: 0.4031 - val_loss: 4.8136 - val_accuracy: 0.4290 - lr: 8.7329e-19\n",
      "Epoch 678/10000\n",
      "70/70 [==============================] - 0s 7ms/step - loss: 5.0665 - accuracy: 0.4046 - val_loss: 4.8167 - val_accuracy: 0.4310 - lr: 8.2962e-19\n",
      "Epoch 679/10000\n",
      "70/70 [==============================] - 0s 7ms/step - loss: 5.0628 - accuracy: 0.4073 - val_loss: 4.8190 - val_accuracy: 0.4320 - lr: 7.8814e-19\n",
      "Epoch 680/10000\n",
      "70/70 [==============================] - 0s 7ms/step - loss: 5.0547 - accuracy: 0.4054 - val_loss: 4.8195 - val_accuracy: 0.4330 - lr: 7.4873e-19\n",
      "Epoch 681/10000\n",
      "70/70 [==============================] - 0s 6ms/step - loss: 5.0573 - accuracy: 0.4001 - val_loss: 4.8175 - val_accuracy: 0.4300 - lr: 7.1130e-19\n",
      "Epoch 682/10000\n",
      "70/70 [==============================] - 0s 7ms/step - loss: 5.0491 - accuracy: 0.4037 - val_loss: 4.8176 - val_accuracy: 0.4290 - lr: 6.7573e-19\n",
      "Epoch 683/10000\n",
      "70/70 [==============================] - 0s 7ms/step - loss: 5.0427 - accuracy: 0.4034 - val_loss: 4.8168 - val_accuracy: 0.4290 - lr: 6.4195e-19\n",
      "Epoch 684/10000\n",
      "70/70 [==============================] - 0s 7ms/step - loss: 5.0336 - accuracy: 0.4016 - val_loss: 4.8140 - val_accuracy: 0.4310 - lr: 6.0985e-19\n",
      "Epoch 685/10000\n",
      "70/70 [==============================] - 0s 6ms/step - loss: 5.0655 - accuracy: 0.4039 - val_loss: 4.8160 - val_accuracy: 0.4300 - lr: 5.7936e-19\n",
      "Epoch 686/10000\n",
      "70/70 [==============================] - 0s 6ms/step - loss: 5.0243 - accuracy: 0.4031 - val_loss: 4.8125 - val_accuracy: 0.4300 - lr: 5.5039e-19\n",
      "Epoch 687/10000\n",
      "70/70 [==============================] - 0s 6ms/step - loss: 5.0095 - accuracy: 0.4069 - val_loss: 4.8121 - val_accuracy: 0.4320 - lr: 5.2287e-19\n",
      "Epoch 688/10000\n",
      "70/70 [==============================] - 0s 6ms/step - loss: 5.0412 - accuracy: 0.4067 - val_loss: 4.8150 - val_accuracy: 0.4310 - lr: 4.9673e-19\n",
      "Epoch 689/10000\n",
      "70/70 [==============================] - 0s 7ms/step - loss: 5.0259 - accuracy: 0.4084 - val_loss: 4.8170 - val_accuracy: 0.4320 - lr: 4.7189e-19\n",
      "Epoch 690/10000\n",
      "70/70 [==============================] - 0s 7ms/step - loss: 5.0196 - accuracy: 0.4081 - val_loss: 4.8164 - val_accuracy: 0.4320 - lr: 4.4830e-19\n",
      "Epoch 691/10000\n",
      "70/70 [==============================] - 0s 7ms/step - loss: 5.0467 - accuracy: 0.4011 - val_loss: 4.8128 - val_accuracy: 0.4320 - lr: 4.2588e-19\n",
      "Epoch 692/10000\n",
      "70/70 [==============================] - 0s 6ms/step - loss: 5.0380 - accuracy: 0.4061 - val_loss: 4.8137 - val_accuracy: 0.4300 - lr: 4.0459e-19\n",
      "Epoch 693/10000\n",
      "70/70 [==============================] - 0s 6ms/step - loss: 5.0345 - accuracy: 0.4126 - val_loss: 4.8084 - val_accuracy: 0.4320 - lr: 3.8436e-19\n",
      "Epoch 694/10000\n",
      "70/70 [==============================] - 0s 6ms/step - loss: 5.0415 - accuracy: 0.4074 - val_loss: 4.8110 - val_accuracy: 0.4300 - lr: 3.6514e-19\n",
      "Epoch 695/10000\n",
      "70/70 [==============================] - 0s 7ms/step - loss: 5.0438 - accuracy: 0.4033 - val_loss: 4.8138 - val_accuracy: 0.4290 - lr: 3.4688e-19\n",
      "Epoch 696/10000\n",
      "70/70 [==============================] - 0s 7ms/step - loss: 5.0412 - accuracy: 0.4041 - val_loss: 4.8122 - val_accuracy: 0.4290 - lr: 3.2954e-19\n",
      "Epoch 697/10000\n",
      "70/70 [==============================] - 0s 7ms/step - loss: 5.0703 - accuracy: 0.4016 - val_loss: 4.8170 - val_accuracy: 0.4320 - lr: 3.1306e-19\n",
      "Epoch 698/10000\n",
      "70/70 [==============================] - 0s 7ms/step - loss: 5.0800 - accuracy: 0.4059 - val_loss: 4.8263 - val_accuracy: 0.4320 - lr: 2.9741e-19\n",
      "Epoch 699/10000\n",
      "70/70 [==============================] - 0s 6ms/step - loss: 5.0470 - accuracy: 0.4017 - val_loss: 4.8176 - val_accuracy: 0.4320 - lr: 2.8254e-19\n",
      "Epoch 700/10000\n",
      "70/70 [==============================] - 0s 7ms/step - loss: 5.0536 - accuracy: 0.4044 - val_loss: 4.8193 - val_accuracy: 0.4320 - lr: 2.6841e-19\n",
      "Epoch 701/10000\n",
      "70/70 [==============================] - 0s 6ms/step - loss: 5.1031 - accuracy: 0.3986 - val_loss: 4.8204 - val_accuracy: 0.4310 - lr: 2.5499e-19\n",
      "Epoch 702/10000\n",
      "70/70 [==============================] - 0s 7ms/step - loss: 5.1065 - accuracy: 0.4044 - val_loss: 4.8267 - val_accuracy: 0.4290 - lr: 2.4224e-19\n",
      "Epoch 703/10000\n",
      "70/70 [==============================] - 0s 6ms/step - loss: 5.0863 - accuracy: 0.3996 - val_loss: 4.8254 - val_accuracy: 0.4310 - lr: 2.3013e-19\n",
      "Epoch 704/10000\n",
      "70/70 [==============================] - 0s 7ms/step - loss: 5.0541 - accuracy: 0.4059 - val_loss: 4.8205 - val_accuracy: 0.4310 - lr: 2.1862e-19\n",
      "Epoch 705/10000\n",
      "70/70 [==============================] - 0s 6ms/step - loss: 5.0292 - accuracy: 0.4020 - val_loss: 4.8184 - val_accuracy: 0.4310 - lr: 2.0769e-19\n",
      "Epoch 706/10000\n",
      "70/70 [==============================] - 0s 7ms/step - loss: 5.0230 - accuracy: 0.4097 - val_loss: 4.8154 - val_accuracy: 0.4290 - lr: 1.9731e-19\n",
      "Epoch 707/10000\n",
      "70/70 [==============================] - 0s 7ms/step - loss: 5.0621 - accuracy: 0.4066 - val_loss: 4.8121 - val_accuracy: 0.4290 - lr: 1.8744e-19\n",
      "Epoch 708/10000\n",
      "70/70 [==============================] - 0s 6ms/step - loss: 5.0485 - accuracy: 0.4020 - val_loss: 4.8123 - val_accuracy: 0.4290 - lr: 1.7807e-19\n"
     ]
    },
    {
     "name": "stdout",
     "output_type": "stream",
     "text": [
      "Epoch 709/10000\n",
      "70/70 [==============================] - 0s 6ms/step - loss: 5.0529 - accuracy: 0.4044 - val_loss: 4.8112 - val_accuracy: 0.4300 - lr: 1.6917e-19\n",
      "Epoch 710/10000\n",
      "70/70 [==============================] - 0s 7ms/step - loss: 5.0577 - accuracy: 0.4010 - val_loss: 4.8141 - val_accuracy: 0.4300 - lr: 1.6071e-19\n",
      "Epoch 711/10000\n",
      "70/70 [==============================] - 0s 7ms/step - loss: 5.0402 - accuracy: 0.4013 - val_loss: 4.8170 - val_accuracy: 0.4320 - lr: 1.5267e-19\n",
      "Epoch 712/10000\n",
      "70/70 [==============================] - 0s 6ms/step - loss: 5.0648 - accuracy: 0.4059 - val_loss: 4.8136 - val_accuracy: 0.4340 - lr: 1.4504e-19\n",
      "Epoch 713/10000\n",
      "70/70 [==============================] - 0s 7ms/step - loss: 5.0240 - accuracy: 0.4070 - val_loss: 4.8115 - val_accuracy: 0.4310 - lr: 1.3779e-19\n",
      "Epoch 714/10000\n",
      "70/70 [==============================] - 0s 6ms/step - loss: 5.0149 - accuracy: 0.4034 - val_loss: 4.8119 - val_accuracy: 0.4300 - lr: 1.3090e-19\n",
      "Epoch 715/10000\n",
      "70/70 [==============================] - 0s 6ms/step - loss: 5.0661 - accuracy: 0.3993 - val_loss: 4.8168 - val_accuracy: 0.4320 - lr: 1.2435e-19\n",
      "Epoch 716/10000\n",
      "70/70 [==============================] - 0s 7ms/step - loss: 5.0252 - accuracy: 0.4080 - val_loss: 4.8170 - val_accuracy: 0.4320 - lr: 1.1813e-19\n",
      "Epoch 717/10000\n",
      "70/70 [==============================] - 0s 7ms/step - loss: 5.0496 - accuracy: 0.3983 - val_loss: 4.8159 - val_accuracy: 0.4320 - lr: 1.1223e-19\n",
      "Epoch 718/10000\n",
      "70/70 [==============================] - 0s 7ms/step - loss: 5.0595 - accuracy: 0.4084 - val_loss: 4.8152 - val_accuracy: 0.4320 - lr: 1.0662e-19\n",
      "Epoch 719/10000\n",
      "70/70 [==============================] - 0s 6ms/step - loss: 5.0492 - accuracy: 0.4079 - val_loss: 4.8143 - val_accuracy: 0.4310 - lr: 1.0129e-19\n",
      "Epoch 720/10000\n",
      "70/70 [==============================] - 0s 7ms/step - loss: 5.0494 - accuracy: 0.4066 - val_loss: 4.8118 - val_accuracy: 0.4330 - lr: 9.6222e-20\n",
      "Epoch 721/10000\n",
      "70/70 [==============================] - 0s 7ms/step - loss: 5.0416 - accuracy: 0.4039 - val_loss: 4.8116 - val_accuracy: 0.4310 - lr: 9.1410e-20\n",
      "Epoch 722/10000\n",
      "70/70 [==============================] - 0s 7ms/step - loss: 5.0646 - accuracy: 0.4039 - val_loss: 4.8129 - val_accuracy: 0.4310 - lr: 8.6840e-20\n",
      "Epoch 723/10000\n",
      "70/70 [==============================] - 0s 7ms/step - loss: 5.0713 - accuracy: 0.4043 - val_loss: 4.8155 - val_accuracy: 0.4320 - lr: 8.2498e-20\n",
      "Epoch 724/10000\n",
      "70/70 [==============================] - 0s 7ms/step - loss: 5.0647 - accuracy: 0.4023 - val_loss: 4.8159 - val_accuracy: 0.4320 - lr: 7.8373e-20\n",
      "Epoch 725/10000\n",
      "70/70 [==============================] - 0s 7ms/step - loss: 5.0591 - accuracy: 0.4060 - val_loss: 4.8157 - val_accuracy: 0.4290 - lr: 7.4454e-20\n",
      "Epoch 726/10000\n",
      "70/70 [==============================] - 0s 6ms/step - loss: 5.0377 - accuracy: 0.4097 - val_loss: 4.8123 - val_accuracy: 0.4320 - lr: 7.0732e-20\n",
      "Epoch 727/10000\n",
      "70/70 [==============================] - 0s 7ms/step - loss: 5.0469 - accuracy: 0.4056 - val_loss: 4.8128 - val_accuracy: 0.4310 - lr: 6.7195e-20\n",
      "Epoch 728/10000\n",
      "70/70 [==============================] - 0s 7ms/step - loss: 5.0478 - accuracy: 0.4017 - val_loss: 4.8153 - val_accuracy: 0.4320 - lr: 6.3835e-20\n",
      "Epoch 729/10000\n",
      "70/70 [==============================] - 0s 7ms/step - loss: 5.0567 - accuracy: 0.4067 - val_loss: 4.8157 - val_accuracy: 0.4320 - lr: 6.0644e-20\n",
      "Epoch 730/10000\n",
      "70/70 [==============================] - 0s 7ms/step - loss: 5.0668 - accuracy: 0.4020 - val_loss: 4.8132 - val_accuracy: 0.4320 - lr: 5.7611e-20\n",
      "Epoch 731/10000\n",
      "70/70 [==============================] - 0s 7ms/step - loss: 5.0810 - accuracy: 0.4054 - val_loss: 4.8145 - val_accuracy: 0.4320 - lr: 5.4731e-20\n",
      "Epoch 732/10000\n",
      "70/70 [==============================] - 0s 7ms/step - loss: 5.0502 - accuracy: 0.4099 - val_loss: 4.8111 - val_accuracy: 0.4300 - lr: 5.1994e-20\n",
      "Epoch 733/10000\n",
      "70/70 [==============================] - 0s 7ms/step - loss: 5.0430 - accuracy: 0.4084 - val_loss: 4.8142 - val_accuracy: 0.4320 - lr: 4.9395e-20\n",
      "Epoch 734/10000\n",
      "70/70 [==============================] - 0s 7ms/step - loss: 5.0456 - accuracy: 0.4043 - val_loss: 4.8140 - val_accuracy: 0.4310 - lr: 4.6925e-20\n",
      "Epoch 735/10000\n",
      "70/70 [==============================] - 0s 7ms/step - loss: 5.0668 - accuracy: 0.4040 - val_loss: 4.8168 - val_accuracy: 0.4320 - lr: 4.4579e-20\n",
      "Epoch 736/10000\n",
      "70/70 [==============================] - 0s 6ms/step - loss: 5.0291 - accuracy: 0.4087 - val_loss: 4.8124 - val_accuracy: 0.4320 - lr: 4.2350e-20\n",
      "Epoch 737/10000\n",
      "70/70 [==============================] - 0s 7ms/step - loss: 5.0463 - accuracy: 0.4026 - val_loss: 4.8168 - val_accuracy: 0.4320 - lr: 4.0232e-20\n",
      "Epoch 738/10000\n",
      "70/70 [==============================] - 0s 7ms/step - loss: 5.0666 - accuracy: 0.4036 - val_loss: 4.8125 - val_accuracy: 0.4310 - lr: 3.8221e-20\n",
      "Epoch 739/10000\n",
      "70/70 [==============================] - 0s 7ms/step - loss: 5.0986 - accuracy: 0.3997 - val_loss: 4.8157 - val_accuracy: 0.4300 - lr: 3.6310e-20\n",
      "Epoch 740/10000\n",
      "70/70 [==============================] - 0s 7ms/step - loss: 5.0524 - accuracy: 0.4036 - val_loss: 4.8134 - val_accuracy: 0.4290 - lr: 3.4494e-20\n",
      "Epoch 741/10000\n",
      "70/70 [==============================] - 0s 7ms/step - loss: 5.0274 - accuracy: 0.4060 - val_loss: 4.8150 - val_accuracy: 0.4300 - lr: 3.2769e-20\n",
      "Epoch 742/10000\n",
      "70/70 [==============================] - 0s 7ms/step - loss: 5.0435 - accuracy: 0.4031 - val_loss: 4.8140 - val_accuracy: 0.4290 - lr: 3.1131e-20\n",
      "Epoch 743/10000\n",
      "70/70 [==============================] - 0s 7ms/step - loss: 5.0484 - accuracy: 0.4030 - val_loss: 4.8122 - val_accuracy: 0.4300 - lr: 2.9574e-20\n",
      "Epoch 744/10000\n",
      "70/70 [==============================] - 0s 7ms/step - loss: 5.0144 - accuracy: 0.4031 - val_loss: 4.8083 - val_accuracy: 0.4300 - lr: 2.8096e-20\n",
      "Epoch 745/10000\n",
      "70/70 [==============================] - 0s 7ms/step - loss: 5.0307 - accuracy: 0.4054 - val_loss: 4.8123 - val_accuracy: 0.4320 - lr: 2.6691e-20\n",
      "Epoch 746/10000\n",
      "70/70 [==============================] - 0s 7ms/step - loss: 5.0443 - accuracy: 0.4041 - val_loss: 4.8149 - val_accuracy: 0.4330 - lr: 2.5356e-20\n",
      "Epoch 747/10000\n",
      "70/70 [==============================] - 0s 6ms/step - loss: 5.0828 - accuracy: 0.4047 - val_loss: 4.8112 - val_accuracy: 0.4320 - lr: 2.4088e-20\n",
      "Epoch 748/10000\n",
      "70/70 [==============================] - 0s 7ms/step - loss: 5.0458 - accuracy: 0.4030 - val_loss: 4.8126 - val_accuracy: 0.4320 - lr: 2.2884e-20\n",
      "Epoch 749/10000\n",
      "70/70 [==============================] - 0s 6ms/step - loss: 5.0444 - accuracy: 0.4054 - val_loss: 4.8139 - val_accuracy: 0.4300 - lr: 2.1740e-20\n",
      "Epoch 750/10000\n",
      "70/70 [==============================] - 0s 7ms/step - loss: 5.0690 - accuracy: 0.4046 - val_loss: 4.8134 - val_accuracy: 0.4300 - lr: 2.0653e-20\n",
      "Epoch 751/10000\n",
      "70/70 [==============================] - 0s 7ms/step - loss: 5.0249 - accuracy: 0.4077 - val_loss: 4.8121 - val_accuracy: 0.4290 - lr: 1.9620e-20\n",
      "Epoch 752/10000\n",
      "70/70 [==============================] - 0s 7ms/step - loss: 5.0456 - accuracy: 0.4053 - val_loss: 4.8129 - val_accuracy: 0.4320 - lr: 1.8639e-20\n",
      "Epoch 753/10000\n",
      "70/70 [==============================] - 0s 7ms/step - loss: 5.0423 - accuracy: 0.4084 - val_loss: 4.8188 - val_accuracy: 0.4310 - lr: 1.7707e-20\n",
      "Epoch 754/10000\n",
      "70/70 [==============================] - 0s 7ms/step - loss: 5.0715 - accuracy: 0.4000 - val_loss: 4.8164 - val_accuracy: 0.4300 - lr: 1.6822e-20\n",
      "Epoch 755/10000\n",
      "70/70 [==============================] - 0s 7ms/step - loss: 5.0476 - accuracy: 0.4027 - val_loss: 4.8192 - val_accuracy: 0.4310 - lr: 1.5981e-20\n",
      "Epoch 756/10000\n",
      "70/70 [==============================] - 0s 7ms/step - loss: 5.0768 - accuracy: 0.4046 - val_loss: 4.8202 - val_accuracy: 0.4310 - lr: 1.5182e-20\n",
      "Epoch 757/10000\n",
      "70/70 [==============================] - 0s 7ms/step - loss: 5.0346 - accuracy: 0.4047 - val_loss: 4.8173 - val_accuracy: 0.4320 - lr: 1.4423e-20\n",
      "Epoch 758/10000\n",
      "70/70 [==============================] - 0s 7ms/step - loss: 5.0579 - accuracy: 0.4029 - val_loss: 4.8186 - val_accuracy: 0.4320 - lr: 1.3702e-20\n",
      "Epoch 759/10000\n"
     ]
    },
    {
     "name": "stdout",
     "output_type": "stream",
     "text": [
      "70/70 [==============================] - 0s 7ms/step - loss: 5.0132 - accuracy: 0.4079 - val_loss: 4.8144 - val_accuracy: 0.4320 - lr: 1.3016e-20\n",
      "Epoch 760/10000\n",
      "70/70 [==============================] - 0s 7ms/step - loss: 5.0121 - accuracy: 0.4039 - val_loss: 4.8134 - val_accuracy: 0.4320 - lr: 1.2366e-20\n",
      "Epoch 761/10000\n",
      "70/70 [==============================] - 0s 7ms/step - loss: 5.0325 - accuracy: 0.4076 - val_loss: 4.8128 - val_accuracy: 0.4320 - lr: 1.1747e-20\n",
      "Epoch 762/10000\n",
      "70/70 [==============================] - 0s 6ms/step - loss: 5.0498 - accuracy: 0.4069 - val_loss: 4.8127 - val_accuracy: 0.4340 - lr: 1.1160e-20\n",
      "Epoch 763/10000\n",
      "62/70 [=========================>....] - ETA: 0s - loss: 5.0307 - accuracy: 0.4069Restoring model weights from the end of the best epoch: 263.\n",
      "70/70 [==============================] - 0s 7ms/step - loss: 5.0361 - accuracy: 0.4013 - val_loss: 4.8129 - val_accuracy: 0.4310 - lr: 1.0602e-20\n",
      "Epoch 763: early stopping\n"
     ]
    }
   ],
   "source": [
    "val_epochs = 10000\n",
    "tf.compat.v1.global_variables_initializer()\n",
    "\n",
    "early_stop = tf.keras.callbacks.EarlyStopping( monitor = 'val_loss', patience = 500,verbose = 1, \n",
    "                                              restore_best_weights = True)\n",
    "\n",
    "reduce_lr = tf.keras.callbacks.LearningRateScheduler(scheduler)\n",
    "history = model.fit(train_dataset, validation_data=val_dataset, epochs= val_epochs, callbacks=[reduce_lr, early_stop])"
   ]
  },
  {
   "cell_type": "markdown",
   "id": "7b9d5d5d",
   "metadata": {},
   "source": [
    "# Analizamos accuracy y loss"
   ]
  },
  {
   "cell_type": "code",
   "execution_count": 27,
   "id": "c2c35f5e",
   "metadata": {
    "ExecuteTime": {
     "end_time": "2023-02-08T00:56:16.980265Z",
     "start_time": "2023-02-08T00:56:16.838352Z"
    }
   },
   "outputs": [
    {
     "data": {
      "image/png": "[encoded data removed]",
      "text/plain": [
       "<Figure size 800x800 with 2 Axes>"
      ]
     },
     "metadata": {},
     "output_type": "display_data"
    }
   ],
   "source": [
    "acc = history.history['accuracy']\n",
    "val_acc = history.history['val_accuracy']\n",
    "\n",
    "loss = history.history['loss']\n",
    "val_loss = history.history['val_loss']\n",
    "\n",
    "epochs_range = range(763)\n",
    "\n",
    "plt.figure(figsize=(8, 8))\n",
    "plt.subplot(1, 2, 1)\n",
    "plt.plot(epochs_range, acc, label='Training Accuracy')\n",
    "plt.plot(epochs_range, val_acc, label='Validation Accuracy')\n",
    "plt.legend(loc='lower right')\n",
    "plt.title('Training and Validation Accuracy')\n",
    "\n",
    "plt.subplot(1, 2, 2)\n",
    "plt.plot(epochs_range, loss, label='Training Loss')\n",
    "plt.plot(epochs_range, val_loss, label='Validation Loss')\n",
    "plt.legend(loc='upper right')\n",
    "plt.title('Training and Validation Loss')\n",
    "plt.show()"
   ]
  },
  {
   "cell_type": "markdown",
   "id": "e1af1d19",
   "metadata": {},
   "source": [
    "# Guardamos el modelo"
   ]
  },
  {
   "cell_type": "code",
   "execution_count": 32,
   "id": "3a346828",
   "metadata": {
    "ExecuteTime": {
     "end_time": "2023-02-08T01:09:19.201090Z",
     "start_time": "2023-02-08T01:09:19.195532Z"
    }
   },
   "outputs": [],
   "source": [
    "path_to_save = 'D:/Documentos de trabajo/Maestría/Tesis Maestría/Trabajo Python Tesis/Github Tesis/Modelos'"
   ]
  },
  {
   "cell_type": "code",
   "execution_count": 76,
   "id": "8e86a52a",
   "metadata": {
    "ExecuteTime": {
     "end_time": "2023-02-08T03:25:40.302482Z",
     "start_time": "2023-02-08T03:25:39.080396Z"
    }
   },
   "outputs": [],
   "source": [
    "model.save(path_to_save + '/trayectorias.h5')"
   ]
  },
  {
   "cell_type": "markdown",
   "id": "efc9d48d",
   "metadata": {},
   "source": [
    "# Importamos el modelo"
   ]
  },
  {
   "cell_type": "code",
   "execution_count": 77,
   "id": "d1d4a1a9",
   "metadata": {
    "ExecuteTime": {
     "end_time": "2023-02-08T03:25:57.961021Z",
     "start_time": "2023-02-08T03:25:57.860855Z"
    }
   },
   "outputs": [],
   "source": [
    "new_model = keras.models.load_model('../Modelos/trayectorias.h5')"
   ]
  },
  {
   "cell_type": "markdown",
   "id": "7f6d0ea9",
   "metadata": {},
   "source": [
    "# Probamos el modelo con datos nuevos"
   ]
  },
  {
   "cell_type": "markdown",
   "id": "6ad7f37d",
   "metadata": {},
   "source": [
    "## Creamos nuevos datos"
   ]
  },
  {
   "cell_type": "code",
   "execution_count": 78,
   "id": "b664f200",
   "metadata": {
    "ExecuteTime": {
     "end_time": "2023-02-08T03:26:00.430796Z",
     "start_time": "2023-02-08T03:26:00.260391Z"
    }
   },
   "outputs": [
    {
     "name": "stdout",
     "output_type": "stream",
     "text": [
      "--------------------------------------------\n",
      "[5, 3, 9, 2, 10, 1, 0]\n",
      "(10, 2, 200)\n",
      "1\n"
     ]
    }
   ],
   "source": [
    "import random\n",
    "from scipy.integrate import solve_ivp\n",
    "\n",
    "varf = []\n",
    "coef = []\n",
    "contador = 0\n",
    "for i in range(0, 1):\n",
    "    # constantes\n",
    "    a1 = random.randint(0, 10)\n",
    "    a2 = random.randint(0, 10)\n",
    "    b1 = random.randint(0, 10)\n",
    "    b2 = random.randint(0, 10)\n",
    "    d1 = random.randint(0, 10)\n",
    "    d2 = random.randint(0, 10)\n",
    "    n = random.randint(0, 5)\n",
    "\n",
    "    coef1 = [a1, a2, b1, b2, d1, d2, n]\n",
    "    coef.append(coef1)\n",
    "\n",
    "    def f(t, y):\n",
    "\n",
    "        # asignar a cada ODE a un elemento de vector\n",
    "        X = y[0]\n",
    "        Y = y[1]\n",
    "\n",
    "        # definimos cada ODE\n",
    "        # dX_dt=a1/(1+Y**n)-d1*X+b1\n",
    "        # dY_dt=a2/(1+X**n)-d2*Y+b2\n",
    "        dX_dt = a1/(1+Y**n)-d1*X+b1\n",
    "        dY_dt = a2/(1+X**n)-d2*Y+b1\n",
    "\n",
    "        return [dX_dt, dY_dt]\n",
    "\n",
    "    # Declaramos el vector de tiempo\n",
    "    t_span = [0, 100]\n",
    "    times = np.linspace(t_span[0], t_span[1], 200)\n",
    "\n",
    "    varfci2 = []\n",
    "    for i_ci in range(0, 10):\n",
    "        # Definimos las condiciones iniciales\n",
    "        y0 = np.array([random.randint(0, 10), random.randint(0, 10)])\n",
    "\n",
    "        # Resolvemos\n",
    "        # Modificar manualmente el intervalo de tiempo\n",
    "        sol = solve_ivp(f, t_span, y0, t_eval=times)\n",
    "        # sol=solve_ivp(f, t_span, y0) #Dejar que la librería elija el mejor intervalo\n",
    "        tiempo = sol.t\n",
    "        var1 = sol.y[0]\n",
    "        var2 = sol.y[1]\n",
    "\n",
    "        varfci = np.append([var1], [var2], axis=0)\n",
    "        varfci2.append(varfci)\n",
    "\n",
    "       \n",
    "\n",
    "    varf= varfci2\n",
    "    print('--------------------------------------------')\n",
    "    print(coef1)\n",
    "    print(np.shape(varf))\n",
    "    contador = contador+1\n",
    "    print(contador)\n",
    "\n",
    "varf = np.array(varf)\n",
    "coef = np.array(coef)"
   ]
  },
  {
   "cell_type": "code",
   "execution_count": 79,
   "id": "ffbe4d61",
   "metadata": {
    "ExecuteTime": {
     "end_time": "2023-02-08T03:26:01.845337Z",
     "start_time": "2023-02-08T03:26:01.837836Z"
    }
   },
   "outputs": [],
   "source": [
    "varfnone = varf[None, :]"
   ]
  },
  {
   "cell_type": "markdown",
   "id": "4ea4942b",
   "metadata": {},
   "source": [
    "## Predecimos con los datos nuevos"
   ]
  },
  {
   "cell_type": "code",
   "execution_count": 80,
   "id": "37dce68f",
   "metadata": {
    "ExecuteTime": {
     "end_time": "2023-02-08T03:26:02.312377Z",
     "start_time": "2023-02-08T03:26:02.224696Z"
    }
   },
   "outputs": [
    {
     "name": "stdout",
     "output_type": "stream",
     "text": [
      "1/1 [==============================] - 0s 51ms/step\n",
      "[[5.0157485 6.1009307 7.794417  5.367873  7.2252593 1.3490769 2.362227 ]]\n"
     ]
    }
   ],
   "source": [
    "new_predictions = new_model.predict(varfnone)\n",
    "print(new_predictions)"
   ]
  },
  {
   "cell_type": "markdown",
   "id": "06c64a67",
   "metadata": {},
   "source": [
    "## Graficamos con los coeficientes reales"
   ]
  },
  {
   "cell_type": "code",
   "execution_count": 81,
   "id": "930a1b59",
   "metadata": {
    "ExecuteTime": {
     "end_time": "2023-02-08T03:26:03.555742Z",
     "start_time": "2023-02-08T03:26:03.483700Z"
    }
   },
   "outputs": [
    {
     "data": {
      "image/png": "[encoded data removed]",
      "text/plain": [
       "<Figure size 500x500 with 1 Axes>"
      ]
     },
     "metadata": {},
     "output_type": "display_data"
    }
   ],
   "source": [
    "t_span = [0, 100]\n",
    "times = np.linspace(t_span[0], t_span[1], 200)\n",
    "plt.figure(figsize=(5,5))\n",
    "plt.plot(times,np.array(varf)[0,0,:], label=\" Concentración X\")\n",
    "plt.plot(times,np.array(varf)[0,1,:], label=\"Concentración Y\")\n",
    "plt.xlabel('Tiempo')\n",
    "plt.ylabel('Concentración de genes')\n",
    "plt.title('Simulación Toggle Swich', fontsize=20)\n",
    "plt.legend()\n",
    "plt.show()"
   ]
  },
  {
   "cell_type": "code",
   "execution_count": 82,
   "id": "be8f3283",
   "metadata": {
    "ExecuteTime": {
     "end_time": "2023-02-08T03:26:06.666448Z",
     "start_time": "2023-02-08T03:26:06.648454Z"
    }
   },
   "outputs": [
    {
     "data": {
      "text/plain": [
       "(1, 7)"
      ]
     },
     "execution_count": 82,
     "metadata": {},
     "output_type": "execute_result"
    }
   ],
   "source": [
    "np.shape(new_predictions)"
   ]
  },
  {
   "cell_type": "markdown",
   "id": "beb6126d",
   "metadata": {},
   "source": [
    "## Graficamos con los coeficientes predecidos"
   ]
  },
  {
   "cell_type": "code",
   "execution_count": 83,
   "id": "84ae10b1",
   "metadata": {
    "ExecuteTime": {
     "end_time": "2023-02-08T03:26:07.273384Z",
     "start_time": "2023-02-08T03:26:07.183680Z"
    }
   },
   "outputs": [
    {
     "data": {
      "image/png": "[encoded data removed]",
      "text/plain": [
       "<Figure size 500x500 with 1 Axes>"
      ]
     },
     "metadata": {},
     "output_type": "display_data"
    }
   ],
   "source": [
    "a1 = new_predictions[0,0]\n",
    "a2 = new_predictions[0,1]\n",
    "b1 = new_predictions[0,2]\n",
    "b2 = new_predictions[0,3]\n",
    "d1 = new_predictions[0,4]\n",
    "d2 = new_predictions[0,5]\n",
    "n = new_predictions[0,6]\n",
    " \n",
    "def f(t, y):\n",
    "\n",
    "    # asignar a cada ODE a un elemento de vector\n",
    "    X = y[0]\n",
    "    Y = y[1]\n",
    "\n",
    "    # definimos cada ODE\n",
    "    dX_dt = a1/(1+Y**n)-d1*X+b1\n",
    "    dY_dt = a2/(1+X**n)-d2*Y+b1\n",
    "\n",
    "    return [dX_dt, dY_dt]\n",
    "\n",
    "# Declaramos el vector de tiempo\n",
    "t_span = [0, 50]\n",
    "times = np.linspace(t_span[0], t_span[1], 500)\n",
    "\n",
    "# Definimos las condiciones iniciales\n",
    "y0 = np.array([10,10])\n",
    "\n",
    "# Resolvemos\n",
    "# Modificar manualmente el intervalo de tiempo\n",
    "sol = solve_ivp(f, t_span, y0, t_eval=times)\n",
    "# sol=solve_ivp(f, t_span, y0) #Dejar que la librería elija el mejor intervalo\n",
    "tiempo = sol.t\n",
    "var1 = sol.y[0]\n",
    "var2 = sol.y[1]\n",
    "\n",
    "# Graficamos\n",
    "plt.figure(figsize=(5, 5))\n",
    "plt.plot(tiempo, var1, label=\" Concentración X\")\n",
    "plt.plot(tiempo, var2, label=\"Concentración Y\")\n",
    "plt.xlabel('Tiempo')\n",
    "plt.ylabel('Concentración de genes')\n",
    "plt.title('Simulación Toggle Swich', fontsize=20)\n",
    "plt.legend()\n",
    "plt.show()"
   ]
  },
  {
   "cell_type": "code",
   "execution_count": null,
   "id": "7cf6dd9e",
   "metadata": {},
   "outputs": [],
   "source": []
  },
  {
   "cell_type": "code",
   "execution_count": null,
   "id": "47613fd5",
   "metadata": {},
   "outputs": [],
   "source": []
  },
  {
   "cell_type": "code",
   "execution_count": null,
   "id": "b66242e3",
   "metadata": {},
   "outputs": [],
   "source": [
    "class InverseProblemSODE(Sequential):\n",
    "    def __init__(self, **kwargs):\n",
    "        super().__init__(**kwargs)\n",
    "        self.loss_tracker = keras.metrics.Mean(name=\"loss\")\n",
    "    @property\n",
    "    def metrics(self):\n",
    "        return [self.loss_tracker]\n",
    "\n",
    "    def train_step(self, data):\n",
    "        batch_size=tf.shape(data)[0]\n",
    "        x=tf.random.uniform((batch_size,1),minval=-5,maxval=5)\n",
    "    \n",
    "        with tf.GradientTape() as tape: \n",
    "            #Compute the loss value\n",
    "            with tf.GradientTape() as tape2: \n",
    "                tape2.watch(x)\n",
    "                y_pred = self(x, training=True)\n",
    "            dy = tape2.gradient(y_pred, x)\n",
    "            x_o = tf.zeros((batch_size, 1))\n",
    "            y_o = self(x_o, training = True)\n",
    "            eq = x*dy + y_pred-x**2*tf.cos(x)\n",
    "            ic = y_o\n",
    "            loss = keras.losses.mean_squared_error(0., eq) + keras.losses.mean_absolute_error(0., ic)\n",
    "        # Apply grads\n",
    "        grads = tape.gradient(loss, self.trainable_variables)\n",
    "        self.optimizer.apply_gradients(zip(grads, self.trainable_variables))\n",
    "        # Update metrics\n",
    "        self.loss_tracker.update_state(loss)\n",
    "        # Return a dict mapping metric names to current value\n",
    "        return {\"loss\": self.loss_tracker.result()}"
   ]
  }
 ],
 "metadata": {
  "hide_input": false,
  "kernelspec": {
   "display_name": "Python 3 (ipykernel)",
   "language": "python",
   "name": "python3"
  },
  "language_info": {
   "codemirror_mode": {
    "name": "ipython",
    "version": 3
   },
   "file_extension": ".py",
   "mimetype": "text/x-python",
   "name": "python",
   "nbconvert_exporter": "python",
   "pygments_lexer": "ipython3",
   "version": "3.9.13"
  },
  "toc": {
   "base_numbering": 1,
   "nav_menu": {},
   "number_sections": true,
   "sideBar": true,
   "skip_h1_title": false,
   "title_cell": "Table of Contents",
   "title_sidebar": "Contents",
   "toc_cell": false,
   "toc_position": {},
   "toc_section_display": true,
   "toc_window_display": false
  },
  "varInspector": {
   "cols": {
    "lenName": 16,
    "lenType": 16,
    "lenVar": 40
   },
   "kernels_config": {
    "python": {
     "delete_cmd_postfix": "",
     "delete_cmd_prefix": "del ",
     "library": "var_list.py",
     "varRefreshCmd": "print(var_dic_list())"
    },
    "r": {
     "delete_cmd_postfix": ") ",
     "delete_cmd_prefix": "rm(",
     "library": "var_list.r",
     "varRefreshCmd": "cat(var_dic_list()) "
    }
   },
   "types_to_exclude": [
    "module",
    "function",
    "builtin_function_or_method",
    "instance",
    "_Feature"
   ],
   "window_display": false
  }
 },
 "nbformat": 4,
 "nbformat_minor": 5
}
