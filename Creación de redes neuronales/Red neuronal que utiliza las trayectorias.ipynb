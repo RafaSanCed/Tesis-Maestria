{
 "cells": [
  {
   "cell_type": "markdown",
   "id": "0067cad0",
   "metadata": {},
   "source": [
    "# Importamos librerías"
   ]
  },
  {
   "cell_type": "code",
   "execution_count": 1,
   "id": "b2d4f30f",
   "metadata": {
    "ExecuteTime": {
     "end_time": "2023-02-09T02:00:53.366531Z",
     "start_time": "2023-02-09T02:00:50.971503Z"
    }
   },
   "outputs": [],
   "source": [
    "import tensorflow as tf\n",
    "import pathlib\n",
    "import os\n",
    "import matplotlib.pyplot as plt\n",
    "import pandas as pd\n",
    "import numpy as np\n",
    "import keras"
   ]
  },
  {
   "cell_type": "code",
   "execution_count": 2,
   "id": "20fccfc6",
   "metadata": {
    "ExecuteTime": {
     "end_time": "2023-02-09T02:00:53.428015Z",
     "start_time": "2023-02-09T02:00:53.414030Z"
    }
   },
   "outputs": [],
   "source": [
    "from tensorflow.keras import Sequential\n",
    "from tensorflow.keras.layers import Conv2D\n",
    "from tensorflow.keras.layers import MaxPooling2D\n",
    "from tensorflow.keras.layers import AveragePooling2D\n",
    "from tensorflow.keras.layers import Dense\n",
    "from tensorflow.keras.layers import Flatten\n",
    "from tensorflow.keras.layers import Dropout, BatchNormalization"
   ]
  },
  {
   "cell_type": "code",
   "execution_count": 3,
   "id": "1c769735",
   "metadata": {
    "ExecuteTime": {
     "end_time": "2023-02-09T02:00:53.551170Z",
     "start_time": "2023-02-09T02:00:53.475045Z"
    }
   },
   "outputs": [
    {
     "name": "stdout",
     "output_type": "stream",
     "text": [
      "WARNING:tensorflow:From C:\\Users\\rafae\\AppData\\Local\\Temp\\ipykernel_18908\\337460670.py:1: is_gpu_available (from tensorflow.python.framework.test_util) is deprecated and will be removed in a future version.\n",
      "Instructions for updating:\n",
      "Use `tf.config.list_physical_devices('GPU')` instead.\n"
     ]
    },
    {
     "data": {
      "text/plain": [
       "True"
      ]
     },
     "execution_count": 3,
     "metadata": {},
     "output_type": "execute_result"
    }
   ],
   "source": [
    "tf.test.is_gpu_available()"
   ]
  },
  {
   "cell_type": "markdown",
   "id": "d94b2fbd",
   "metadata": {},
   "source": [
    "# Importamos los datos"
   ]
  },
  {
   "cell_type": "code",
   "execution_count": 4,
   "id": "2cdd79aa",
   "metadata": {
    "ExecuteTime": {
     "end_time": "2023-02-09T02:00:53.612938Z",
     "start_time": "2023-02-09T02:00:53.598468Z"
    }
   },
   "outputs": [],
   "source": [
    "path = 'D:/Documentos de trabajo/Maestría/Tesis Maestría/Trabajo Python Tesis/Github Tesis/Base de datos'"
   ]
  },
  {
   "cell_type": "markdown",
   "id": "39beab0c",
   "metadata": {},
   "source": [
    "## Datos de entrenamiento"
   ]
  },
  {
   "cell_type": "markdown",
   "id": "ca636b58",
   "metadata": {},
   "source": [
    "### Datos"
   ]
  },
  {
   "cell_type": "code",
   "execution_count": 5,
   "id": "ac8ee3cc",
   "metadata": {
    "ExecuteTime": {
     "end_time": "2023-02-09T02:00:53.722876Z",
     "start_time": "2023-02-09T02:00:53.661220Z"
    }
   },
   "outputs": [],
   "source": [
    "varftrain = np.load(path + '/varftrain.npy')"
   ]
  },
  {
   "cell_type": "code",
   "execution_count": 6,
   "id": "a2977931",
   "metadata": {
    "ExecuteTime": {
     "end_time": "2023-02-09T02:00:53.785176Z",
     "start_time": "2023-02-09T02:00:53.770230Z"
    }
   },
   "outputs": [
    {
     "data": {
      "text/plain": [
       "(7000, 10, 2, 200)"
      ]
     },
     "execution_count": 6,
     "metadata": {},
     "output_type": "execute_result"
    }
   ],
   "source": [
    "np.shape(varftrain)"
   ]
  },
  {
   "cell_type": "markdown",
   "id": "4a0e5fa2",
   "metadata": {},
   "source": [
    "### Coeficientes"
   ]
  },
  {
   "cell_type": "code",
   "execution_count": 7,
   "id": "45e5d25a",
   "metadata": {
    "ExecuteTime": {
     "end_time": "2023-02-09T02:00:53.848051Z",
     "start_time": "2023-02-09T02:00:53.833578Z"
    }
   },
   "outputs": [],
   "source": [
    "coefvarftrain = np.load(path + '/coefvarftrain.npy')"
   ]
  },
  {
   "cell_type": "code",
   "execution_count": 8,
   "id": "88f0323d",
   "metadata": {
    "ExecuteTime": {
     "end_time": "2023-02-09T02:00:54.173055Z",
     "start_time": "2023-02-09T02:00:54.167566Z"
    }
   },
   "outputs": [
    {
     "data": {
      "text/plain": [
       "(7000, 7)"
      ]
     },
     "execution_count": 8,
     "metadata": {},
     "output_type": "execute_result"
    }
   ],
   "source": [
    "np.shape(coefvarftrain)"
   ]
  },
  {
   "cell_type": "markdown",
   "id": "c89d3216",
   "metadata": {},
   "source": [
    "## Datos de prueba"
   ]
  },
  {
   "cell_type": "markdown",
   "id": "df843cea",
   "metadata": {},
   "source": [
    "### Datos"
   ]
  },
  {
   "cell_type": "code",
   "execution_count": 9,
   "id": "74030537",
   "metadata": {
    "ExecuteTime": {
     "end_time": "2023-02-09T02:00:54.933061Z",
     "start_time": "2023-02-09T02:00:54.909948Z"
    }
   },
   "outputs": [],
   "source": [
    "varftest = np.load(path + '/varftest.npy')"
   ]
  },
  {
   "cell_type": "code",
   "execution_count": 10,
   "id": "d6196850",
   "metadata": {
    "ExecuteTime": {
     "end_time": "2023-02-09T02:00:55.229429Z",
     "start_time": "2023-02-09T02:00:55.214969Z"
    }
   },
   "outputs": [
    {
     "data": {
      "text/plain": [
       "(2000, 10, 2, 200)"
      ]
     },
     "execution_count": 10,
     "metadata": {},
     "output_type": "execute_result"
    }
   ],
   "source": [
    "np.shape(varftest)"
   ]
  },
  {
   "cell_type": "markdown",
   "id": "46a3e36d",
   "metadata": {},
   "source": [
    "### Coeficientes"
   ]
  },
  {
   "cell_type": "code",
   "execution_count": 11,
   "id": "cf22c486",
   "metadata": {
    "ExecuteTime": {
     "end_time": "2023-02-09T02:00:55.840115Z",
     "start_time": "2023-02-09T02:00:55.828905Z"
    }
   },
   "outputs": [],
   "source": [
    "coefvarftest = np.load(path + '/coefvarftest.npy')"
   ]
  },
  {
   "cell_type": "code",
   "execution_count": 12,
   "id": "545559ea",
   "metadata": {
    "ExecuteTime": {
     "end_time": "2023-02-09T02:00:56.092800Z",
     "start_time": "2023-02-09T02:00:56.087311Z"
    }
   },
   "outputs": [
    {
     "data": {
      "text/plain": [
       "(2000, 7)"
      ]
     },
     "execution_count": 12,
     "metadata": {},
     "output_type": "execute_result"
    }
   ],
   "source": [
    "np.shape(coefvarftest)"
   ]
  },
  {
   "cell_type": "markdown",
   "id": "63024745",
   "metadata": {},
   "source": [
    "## Datos de validación"
   ]
  },
  {
   "cell_type": "markdown",
   "id": "9e38f1d7",
   "metadata": {},
   "source": [
    "### Datos"
   ]
  },
  {
   "cell_type": "code",
   "execution_count": 13,
   "id": "6e5768b7",
   "metadata": {
    "ExecuteTime": {
     "end_time": "2023-02-09T02:00:56.886039Z",
     "start_time": "2023-02-09T02:00:56.871520Z"
    }
   },
   "outputs": [],
   "source": [
    "varfval = np.load(path + '/varfval.npy')"
   ]
  },
  {
   "cell_type": "code",
   "execution_count": 14,
   "id": "a29f5ec0",
   "metadata": {
    "ExecuteTime": {
     "end_time": "2023-02-09T02:00:57.152099Z",
     "start_time": "2023-02-09T02:00:57.133639Z"
    }
   },
   "outputs": [
    {
     "data": {
      "text/plain": [
       "(1000, 10, 2, 200)"
      ]
     },
     "execution_count": 14,
     "metadata": {},
     "output_type": "execute_result"
    }
   ],
   "source": [
    "np.shape(varfval)"
   ]
  },
  {
   "cell_type": "markdown",
   "id": "ffc618a2",
   "metadata": {},
   "source": [
    "### Coeficienes"
   ]
  },
  {
   "cell_type": "code",
   "execution_count": 15,
   "id": "b323751c",
   "metadata": {
    "ExecuteTime": {
     "end_time": "2023-02-09T02:00:57.694379Z",
     "start_time": "2023-02-09T02:00:57.681394Z"
    }
   },
   "outputs": [],
   "source": [
    "coefvarfval = np.load(path + '/coefvarfval.npy')"
   ]
  },
  {
   "cell_type": "code",
   "execution_count": 16,
   "id": "60df7d7d",
   "metadata": {
    "ExecuteTime": {
     "end_time": "2023-02-09T02:00:57.945181Z",
     "start_time": "2023-02-09T02:00:57.930801Z"
    }
   },
   "outputs": [
    {
     "data": {
      "text/plain": [
       "(1000, 7)"
      ]
     },
     "execution_count": 16,
     "metadata": {},
     "output_type": "execute_result"
    }
   ],
   "source": [
    "np.shape(coefvarfval)"
   ]
  },
  {
   "cell_type": "markdown",
   "id": "e069562d",
   "metadata": {},
   "source": [
    "# Unimos coeficientes con los datos"
   ]
  },
  {
   "cell_type": "code",
   "execution_count": 17,
   "id": "a973df40",
   "metadata": {
    "ExecuteTime": {
     "end_time": "2023-02-09T02:00:58.735377Z",
     "start_time": "2023-02-09T02:00:58.459383Z"
    }
   },
   "outputs": [],
   "source": [
    "train_dataset = tf.data.Dataset.from_tensor_slices((varftrain, coefvarftrain))\n",
    "test_dataset = tf.data.Dataset.from_tensor_slices((varftest, coefvarftest))\n",
    "val_dataset = tf.data.Dataset.from_tensor_slices((varfval, coefvarfval))"
   ]
  },
  {
   "cell_type": "code",
   "execution_count": 18,
   "id": "bc7ee207",
   "metadata": {
    "ExecuteTime": {
     "end_time": "2023-02-09T02:00:58.796448Z",
     "start_time": "2023-02-09T02:00:58.781448Z"
    }
   },
   "outputs": [
    {
     "data": {
      "text/plain": [
       "<TensorSliceDataset element_spec=(TensorSpec(shape=(10, 2, 200), dtype=tf.float64, name=None), TensorSpec(shape=(7,), dtype=tf.int32, name=None))>"
      ]
     },
     "execution_count": 18,
     "metadata": {},
     "output_type": "execute_result"
    }
   ],
   "source": [
    "train_dataset"
   ]
  },
  {
   "cell_type": "markdown",
   "id": "05ebcd40",
   "metadata": {
    "ExecuteTime": {
     "end_time": "2023-02-07T19:36:45.065835Z",
     "start_time": "2023-02-07T19:36:45.042683Z"
    }
   },
   "source": [
    "# Mezclar y procesar por lotes los conjuntos de datos"
   ]
  },
  {
   "cell_type": "code",
   "execution_count": 19,
   "id": "eca4c6bc",
   "metadata": {
    "ExecuteTime": {
     "end_time": "2023-02-09T02:00:59.465460Z",
     "start_time": "2023-02-09T02:00:59.448672Z"
    }
   },
   "outputs": [],
   "source": [
    "BATCH_SIZE = 100\n",
    "SHUFFLE_BUFFER_SIZE = 100\n",
    "\n",
    "train_dataset = train_dataset.shuffle(SHUFFLE_BUFFER_SIZE).batch(BATCH_SIZE)\n",
    "test_dataset = test_dataset.batch(BATCH_SIZE)\n",
    "val_dataset = val_dataset.batch(BATCH_SIZE)"
   ]
  },
  {
   "cell_type": "markdown",
   "id": "46c62479",
   "metadata": {},
   "source": [
    "# Creamos la función de costo"
   ]
  },
  {
   "cell_type": "markdown",
   "id": "76914f6c",
   "metadata": {},
   "source": [
    "# Creación del modelo"
   ]
  },
  {
   "cell_type": "code",
   "execution_count": null,
   "id": "f81457b1",
   "metadata": {},
   "outputs": [],
   "source": [
    "def custom_loss(y_true,y_pred):\n",
    "    ytruearray = ytrue.eval(session=tf.compat.v1.Session())\n",
    "    print(np.shape(y_true))\n",
    "    campvec = []\n",
    "    # constantes\n",
    "    a1 = y_true[0]\n",
    "    a2 = y_true[1]\n",
    "    b1 = y_true[2]\n",
    "    b2 = y_true[3]\n",
    "    d1 = y_true[4]\n",
    "    d2 = y_true[5]\n",
    "    n = y_true[6]\n",
    "\n",
    "    def f(t, y):\n",
    "\n",
    "        # asignar a cada ODE a un elemento de vector\n",
    "        X = y[0]\n",
    "        Y = y[1]\n",
    "\n",
    "        # definimos cada ODE\n",
    "        # dX_dt=a1/(1+Y**n)-d1*X+b1\n",
    "        # dY_dt=a2/(1+X**n)-d2*Y+b2\n",
    "        dX_dt = a1/(1+Y**n)-d1*X+b1\n",
    "        dY_dt = a2/(1+X**n)-d2*Y+b1\n",
    "\n",
    "        return [dX_dt, dY_dt]\n",
    "\n",
    "    x_range_neg = 0\n",
    "    x_range_pos = 50\n",
    "    y_range_neg = 0\n",
    "    y_range_pos =50\n",
    "\n",
    "    y1 = np.linspace(x_range_neg, x_range_pos, 100)\n",
    "    y2 = np.linspace(y_range_neg, y_range_pos, 100)\n",
    "\n",
    "    Y1, Y2 = np.meshgrid(y1, y2)\n",
    "    \n",
    "    t1 = 0\n",
    "\n",
    "    u, v = np.zeros(Y1.shape), np.zeros(Y2.shape)\n",
    "\n",
    "    NI, NJ = Y1.shape\n",
    "\n",
    "    u1, v1 = f(t1, [Y1, Y2])\n",
    "    u, v = f(t1, [Y1, Y2])\n",
    "    M = (np.hypot(u, v))\n",
    "    u /= M\n",
    "    v /= M\n",
    "\n",
    "    campvecci = np.append([u1], [v1], axis=0)\n",
    "\n",
    "    campvec = campvecci\n",
    "    campvec = np.array(campvec)\n",
    "\n",
    "# ----------------------------------------------------------------------------\n",
    "    campvec2 = []\n",
    "    # constantes\n",
    "    a12 = y_pred[0]\n",
    "    a22 = y_pred[1]\n",
    "    b12 = y_pred[2]\n",
    "    b22 = y_pred[3]\n",
    "    d12 = y_pred[4]\n",
    "    d22 = y_pred[5]\n",
    "    n2 = y_pred[6]\n",
    "\n",
    "    def f2(t2, y2):\n",
    "\n",
    "        # asignar a cada ODE a un elemento de vector\n",
    "        X2 = y2[0]\n",
    "        Y2 = y2[1]\n",
    "\n",
    "        # definimos cada ODE\n",
    "        # dX_dt=a1/(1+Y**n)-d1*X+b1\n",
    "        # dY_dt=a2/(1+X**n)-d2*Y+b2\n",
    "        dX2_dt = a12/(1+Y**n2)-d12*X+b12\n",
    "        dY2_dt = a22/(1+X**n2)-d22*Y+b12\n",
    "\n",
    "        return [dX2_dt, dY2_dt]\n",
    "\n",
    "    y12 = np.linspace(x_range_neg, x_range_pos, 100)\n",
    "    y22 = np.linspace(y_range_neg, y_range_pos, 100)\n",
    "\n",
    "    Y12, Y22 = np.meshgrid(y12, y22)\n",
    "    \n",
    "    t12 = 0\n",
    "\n",
    "    u2, v2 = np.zeros(Y12.shape), np.zeros(Y22.shape)\n",
    "\n",
    "    NI2, NJ2 = Y12.shape\n",
    "\n",
    "    u12, v12 = f(t12, [Y12, Y22])\n",
    "    u2, v2 = f(t12, [Y12, Y22])\n",
    "    M2 = (np.hypot(u2, v2))\n",
    "    u2 /= M2\n",
    "    v2 /= M2\n",
    "\n",
    "    campvecci2 = np.append([u12], [v12], axis=0)\n",
    "\n",
    "    campvec2 = campvecci2\n",
    "    campvec2 = np.array(campvec2)\n",
    "    tf.cast(campvec|campvec2, tf.int64|tf.int64)\n",
    "\n",
    "    \n",
    "    return (campvec-campvec2)\n"
   ]
  },
  {
   "cell_type": "code",
   "execution_count": 20,
   "id": "e4f113f9",
   "metadata": {
    "ExecuteTime": {
     "end_time": "2023-02-09T02:01:00.056127Z",
     "start_time": "2023-02-09T02:00:59.986774Z"
    }
   },
   "outputs": [],
   "source": [
    "#model = Sequential()\n",
    "\n",
    "model = tf.keras.Sequential([\n",
    "    tf.keras.layers.Flatten(input_shape=(10,2,200)),\n",
    "    tf.keras.layers.BatchNormalization(),\n",
    "    tf.keras.layers.Dense(128, activation='relu'),\n",
    "    tf.keras.layers.Dense(64, activation='relu'),\n",
    "    tf.keras.layers.Dense(128, activation='relu'),\n",
    "    tf.keras.layers.Dense(64, activation='relu'),\n",
    "    tf.keras.layers.Dropout(0.2),\n",
    "    tf.keras.layers.BatchNormalization(),\n",
    "    tf.keras.layers.Dense(7)\n",
    "])\n"
   ]
  },
  {
   "cell_type": "code",
   "execution_count": 21,
   "id": "45fd641f",
   "metadata": {
    "ExecuteTime": {
     "end_time": "2023-02-09T02:01:00.459704Z",
     "start_time": "2023-02-09T02:01:00.439741Z"
    }
   },
   "outputs": [
    {
     "name": "stdout",
     "output_type": "stream",
     "text": [
      "Model: \"sequential\"\n",
      "_________________________________________________________________\n",
      " Layer (type)                Output Shape              Param #   \n",
      "=================================================================\n",
      " flatten (Flatten)           (None, 4000)              0         \n",
      "                                                                 \n",
      " batch_normalization (BatchN  (None, 4000)             16000     \n",
      " ormalization)                                                   \n",
      "                                                                 \n",
      " dense (Dense)               (None, 128)               512128    \n",
      "                                                                 \n",
      " dense_1 (Dense)             (None, 64)                8256      \n",
      "                                                                 \n",
      " dense_2 (Dense)             (None, 128)               8320      \n",
      "                                                                 \n",
      " dense_3 (Dense)             (None, 64)                8256      \n",
      "                                                                 \n",
      " dropout (Dropout)           (None, 64)                0         \n",
      "                                                                 \n",
      " batch_normalization_1 (Batc  (None, 64)               256       \n",
      " hNormalization)                                                 \n",
      "                                                                 \n",
      " dense_4 (Dense)             (None, 7)                 455       \n",
      "                                                                 \n",
      "=================================================================\n",
      "Total params: 553,671\n",
      "Trainable params: 545,543\n",
      "Non-trainable params: 8,128\n",
      "_________________________________________________________________\n"
     ]
    }
   ],
   "source": [
    "model.summary()"
   ]
  },
  {
   "cell_type": "markdown",
   "id": "b761554a",
   "metadata": {},
   "source": [
    "# Entrenamos el modelo"
   ]
  },
  {
   "cell_type": "code",
   "execution_count": 22,
   "id": "4316785f",
   "metadata": {
    "ExecuteTime": {
     "end_time": "2023-02-09T02:01:00.990451Z",
     "start_time": "2023-02-09T02:01:00.967980Z"
    }
   },
   "outputs": [],
   "source": [
    "model.compile(optimizer='adam',\n",
    "              loss='MSE',\n",
    "              metrics=['accuracy'])"
   ]
  },
  {
   "cell_type": "code",
   "execution_count": 23,
   "id": "d1303e8d",
   "metadata": {
    "ExecuteTime": {
     "end_time": "2023-02-09T02:01:01.596017Z",
     "start_time": "2023-02-09T02:01:01.581515Z"
    }
   },
   "outputs": [],
   "source": [
    "def scheduler(epoch, lr):\n",
    "  if epoch < 500:\n",
    "    return lr\n",
    "  else:\n",
    "    return 1e-3 * 0.99 ** epoch"
   ]
  },
  {
   "cell_type": "code",
   "execution_count": 24,
   "id": "88d710c6",
   "metadata": {
    "ExecuteTime": {
     "end_time": "2023-02-09T02:06:04.096110Z",
     "start_time": "2023-02-09T02:01:02.161567Z"
    }
   },
   "outputs": [
    {
     "name": "stdout",
     "output_type": "stream",
     "text": [
      "Epoch 1/10000\n",
      "70/70 [==============================] - 1s 9ms/step - loss: 28.4272 - accuracy: 0.2421 - val_loss: 26.2660 - val_accuracy: 0.2950 - lr: 0.0010\n",
      "Epoch 2/10000\n",
      "70/70 [==============================] - 1s 7ms/step - loss: 21.2525 - accuracy: 0.2887 - val_loss: 17.1735 - val_accuracy: 0.3190 - lr: 0.0010\n",
      "Epoch 3/10000\n",
      "70/70 [==============================] - 1s 7ms/step - loss: 11.9289 - accuracy: 0.3069 - val_loss: 8.3094 - val_accuracy: 0.2620 - lr: 0.0010\n",
      "Epoch 4/10000\n",
      "70/70 [==============================] - 1s 7ms/step - loss: 7.6341 - accuracy: 0.3013 - val_loss: 7.3650 - val_accuracy: 0.3170 - lr: 0.0010\n",
      "Epoch 5/10000\n",
      "70/70 [==============================] - 0s 7ms/step - loss: 6.9256 - accuracy: 0.3101 - val_loss: 6.6744 - val_accuracy: 0.3700 - lr: 0.0010\n",
      "Epoch 6/10000\n",
      "70/70 [==============================] - 1s 7ms/step - loss: 6.7939 - accuracy: 0.3191 - val_loss: 8.4152 - val_accuracy: 0.3490 - lr: 0.0010\n",
      "Epoch 7/10000\n",
      "70/70 [==============================] - 1s 7ms/step - loss: 6.6361 - accuracy: 0.3209 - val_loss: 7.0460 - val_accuracy: 0.3340 - lr: 0.0010\n",
      "Epoch 8/10000\n",
      "70/70 [==============================] - 1s 8ms/step - loss: 6.5334 - accuracy: 0.3291 - val_loss: 6.4288 - val_accuracy: 0.3480 - lr: 0.0010\n",
      "Epoch 9/10000\n",
      "70/70 [==============================] - 1s 7ms/step - loss: 6.4570 - accuracy: 0.3286 - val_loss: 6.1967 - val_accuracy: 0.3440 - lr: 0.0010\n",
      "Epoch 10/10000\n",
      "70/70 [==============================] - 0s 7ms/step - loss: 6.3855 - accuracy: 0.3293 - val_loss: 6.6923 - val_accuracy: 0.3320 - lr: 0.0010\n",
      "Epoch 11/10000\n",
      "70/70 [==============================] - 0s 7ms/step - loss: 6.2857 - accuracy: 0.3286 - val_loss: 6.9875 - val_accuracy: 0.3190 - lr: 0.0010\n",
      "Epoch 12/10000\n",
      "70/70 [==============================] - 0s 7ms/step - loss: 6.2232 - accuracy: 0.3267 - val_loss: 6.3877 - val_accuracy: 0.3530 - lr: 0.0010\n",
      "Epoch 13/10000\n",
      "70/70 [==============================] - 1s 7ms/step - loss: 6.1304 - accuracy: 0.3403 - val_loss: 5.9430 - val_accuracy: 0.3830 - lr: 0.0010\n",
      "Epoch 14/10000\n",
      "70/70 [==============================] - 0s 7ms/step - loss: 5.9988 - accuracy: 0.3396 - val_loss: 6.1053 - val_accuracy: 0.3510 - lr: 0.0010\n",
      "Epoch 15/10000\n",
      "70/70 [==============================] - 0s 7ms/step - loss: 6.0691 - accuracy: 0.3397 - val_loss: 6.3158 - val_accuracy: 0.3120 - lr: 0.0010\n",
      "Epoch 16/10000\n",
      "70/70 [==============================] - 0s 7ms/step - loss: 6.0443 - accuracy: 0.3391 - val_loss: 6.3650 - val_accuracy: 0.3460 - lr: 0.0010\n",
      "Epoch 17/10000\n",
      "70/70 [==============================] - 0s 7ms/step - loss: 5.9048 - accuracy: 0.3426 - val_loss: 5.7853 - val_accuracy: 0.3490 - lr: 0.0010\n",
      "Epoch 18/10000\n",
      "70/70 [==============================] - 0s 7ms/step - loss: 5.7967 - accuracy: 0.3507 - val_loss: 5.7096 - val_accuracy: 0.3370 - lr: 0.0010\n",
      "Epoch 19/10000\n",
      "70/70 [==============================] - 0s 7ms/step - loss: 5.7407 - accuracy: 0.3524 - val_loss: 5.5149 - val_accuracy: 0.3410 - lr: 0.0010\n",
      "Epoch 20/10000\n",
      "70/70 [==============================] - 0s 7ms/step - loss: 5.7552 - accuracy: 0.3551 - val_loss: 5.7290 - val_accuracy: 0.3550 - lr: 0.0010\n",
      "Epoch 21/10000\n",
      "70/70 [==============================] - 0s 7ms/step - loss: 5.6048 - accuracy: 0.3643 - val_loss: 5.3667 - val_accuracy: 0.3600 - lr: 0.0010\n",
      "Epoch 22/10000\n",
      "70/70 [==============================] - 0s 7ms/step - loss: 5.5083 - accuracy: 0.3679 - val_loss: 5.4508 - val_accuracy: 0.3950 - lr: 0.0010\n",
      "Epoch 23/10000\n",
      "70/70 [==============================] - 0s 7ms/step - loss: 5.5399 - accuracy: 0.3743 - val_loss: 7.5193 - val_accuracy: 0.3180 - lr: 0.0010\n",
      "Epoch 24/10000\n",
      "70/70 [==============================] - 0s 7ms/step - loss: 5.5076 - accuracy: 0.3767 - val_loss: 5.7898 - val_accuracy: 0.3980 - lr: 0.0010\n",
      "Epoch 25/10000\n",
      "70/70 [==============================] - 0s 7ms/step - loss: 5.9640 - accuracy: 0.3607 - val_loss: 5.5765 - val_accuracy: 0.3560 - lr: 0.0010\n",
      "Epoch 26/10000\n",
      "70/70 [==============================] - 0s 7ms/step - loss: 5.6613 - accuracy: 0.3766 - val_loss: 8.2477 - val_accuracy: 0.3000 - lr: 0.0010\n",
      "Epoch 27/10000\n",
      "70/70 [==============================] - 0s 7ms/step - loss: 5.6060 - accuracy: 0.3766 - val_loss: 5.6033 - val_accuracy: 0.3930 - lr: 0.0010\n",
      "Epoch 28/10000\n",
      "70/70 [==============================] - 0s 7ms/step - loss: 5.5203 - accuracy: 0.3824 - val_loss: 8.4925 - val_accuracy: 0.3150 - lr: 0.0010\n",
      "Epoch 29/10000\n",
      "70/70 [==============================] - 0s 7ms/step - loss: 5.4794 - accuracy: 0.3866 - val_loss: 5.2194 - val_accuracy: 0.4040 - lr: 0.0010\n",
      "Epoch 30/10000\n",
      "70/70 [==============================] - 0s 7ms/step - loss: 5.3614 - accuracy: 0.3920 - val_loss: 5.3570 - val_accuracy: 0.3900 - lr: 0.0010\n",
      "Epoch 31/10000\n",
      "70/70 [==============================] - 0s 7ms/step - loss: 5.3689 - accuracy: 0.3953 - val_loss: 5.4605 - val_accuracy: 0.3610 - lr: 0.0010\n",
      "Epoch 32/10000\n",
      "70/70 [==============================] - 1s 8ms/step - loss: 5.3078 - accuracy: 0.3933 - val_loss: 5.5463 - val_accuracy: 0.3730 - lr: 0.0010\n",
      "Epoch 33/10000\n",
      "70/70 [==============================] - 0s 7ms/step - loss: 5.3887 - accuracy: 0.3929 - val_loss: 5.4527 - val_accuracy: 0.4350 - lr: 0.0010\n",
      "Epoch 34/10000\n",
      "70/70 [==============================] - 0s 7ms/step - loss: 5.2599 - accuracy: 0.3987 - val_loss: 5.1086 - val_accuracy: 0.4220 - lr: 0.0010\n",
      "Epoch 35/10000\n",
      "70/70 [==============================] - 0s 7ms/step - loss: 5.2674 - accuracy: 0.4010 - val_loss: 5.0491 - val_accuracy: 0.4450 - lr: 0.0010\n",
      "Epoch 36/10000\n",
      "70/70 [==============================] - 0s 7ms/step - loss: 5.2595 - accuracy: 0.3994 - val_loss: 4.9595 - val_accuracy: 0.4470 - lr: 0.0010\n",
      "Epoch 37/10000\n",
      "70/70 [==============================] - 0s 7ms/step - loss: 5.2222 - accuracy: 0.4027 - val_loss: 5.1409 - val_accuracy: 0.4050 - lr: 0.0010\n",
      "Epoch 38/10000\n",
      "70/70 [==============================] - 0s 7ms/step - loss: 5.1742 - accuracy: 0.4044 - val_loss: 5.0999 - val_accuracy: 0.4120 - lr: 0.0010\n",
      "Epoch 39/10000\n",
      "70/70 [==============================] - 0s 7ms/step - loss: 5.1735 - accuracy: 0.4106 - val_loss: 5.1700 - val_accuracy: 0.4120 - lr: 0.0010\n",
      "Epoch 40/10000\n",
      "70/70 [==============================] - 0s 7ms/step - loss: 5.2194 - accuracy: 0.4063 - val_loss: 5.2244 - val_accuracy: 0.4230 - lr: 0.0010\n",
      "Epoch 41/10000\n",
      "70/70 [==============================] - 0s 7ms/step - loss: 5.1663 - accuracy: 0.4144 - val_loss: 4.9727 - val_accuracy: 0.4570 - lr: 0.0010\n",
      "Epoch 42/10000\n",
      "70/70 [==============================] - 0s 7ms/step - loss: 5.1290 - accuracy: 0.4109 - val_loss: 5.0539 - val_accuracy: 0.4440 - lr: 0.0010\n",
      "Epoch 43/10000\n",
      "70/70 [==============================] - 0s 7ms/step - loss: 5.1164 - accuracy: 0.4187 - val_loss: 5.0199 - val_accuracy: 0.4330 - lr: 0.0010\n",
      "Epoch 44/10000\n",
      "70/70 [==============================] - 0s 7ms/step - loss: 5.0639 - accuracy: 0.4201 - val_loss: 5.1351 - val_accuracy: 0.4840 - lr: 0.0010\n",
      "Epoch 45/10000\n",
      "70/70 [==============================] - 0s 7ms/step - loss: 5.0081 - accuracy: 0.4239 - val_loss: 5.2199 - val_accuracy: 0.4590 - lr: 0.0010\n",
      "Epoch 46/10000\n",
      "70/70 [==============================] - 0s 7ms/step - loss: 5.0952 - accuracy: 0.4191 - val_loss: 5.1511 - val_accuracy: 0.4460 - lr: 0.0010\n",
      "Epoch 47/10000\n",
      "70/70 [==============================] - 0s 7ms/step - loss: 4.9878 - accuracy: 0.4254 - val_loss: 5.3687 - val_accuracy: 0.4690 - lr: 0.0010\n",
      "Epoch 48/10000\n",
      "70/70 [==============================] - 0s 7ms/step - loss: 5.0003 - accuracy: 0.4267 - val_loss: 4.6361 - val_accuracy: 0.4460 - lr: 0.0010\n",
      "Epoch 49/10000\n",
      "70/70 [==============================] - 0s 7ms/step - loss: 4.9917 - accuracy: 0.4204 - val_loss: 4.9638 - val_accuracy: 0.4250 - lr: 0.0010\n",
      "Epoch 50/10000\n",
      "70/70 [==============================] - 0s 7ms/step - loss: 5.0789 - accuracy: 0.4199 - val_loss: 4.9146 - val_accuracy: 0.4140 - lr: 0.0010\n",
      "Epoch 51/10000\n",
      "70/70 [==============================] - 0s 7ms/step - loss: 5.0659 - accuracy: 0.4174 - val_loss: 4.8838 - val_accuracy: 0.4370 - lr: 0.0010\n",
      "Epoch 52/10000\n",
      "70/70 [==============================] - 0s 7ms/step - loss: 4.9650 - accuracy: 0.4220 - val_loss: 4.8505 - val_accuracy: 0.4470 - lr: 0.0010\n",
      "Epoch 53/10000\n",
      "70/70 [==============================] - 0s 7ms/step - loss: 5.0184 - accuracy: 0.4297 - val_loss: 4.7730 - val_accuracy: 0.4010 - lr: 0.0010\n",
      "Epoch 54/10000\n",
      "70/70 [==============================] - 0s 7ms/step - loss: 4.9653 - accuracy: 0.4251 - val_loss: 5.1153 - val_accuracy: 0.4330 - lr: 0.0010\n",
      "Epoch 55/10000\n",
      "70/70 [==============================] - 0s 7ms/step - loss: 4.9527 - accuracy: 0.4367 - val_loss: 4.8026 - val_accuracy: 0.4620 - lr: 0.0010\n",
      "Epoch 56/10000\n",
      "70/70 [==============================] - 0s 7ms/step - loss: 4.9393 - accuracy: 0.4287 - val_loss: 4.8871 - val_accuracy: 0.4560 - lr: 0.0010\n",
      "Epoch 57/10000\n",
      "70/70 [==============================] - 0s 7ms/step - loss: 4.9420 - accuracy: 0.4380 - val_loss: 4.7734 - val_accuracy: 0.4650 - lr: 0.0010\n",
      "Epoch 58/10000\n",
      "70/70 [==============================] - 0s 7ms/step - loss: 4.9224 - accuracy: 0.4424 - val_loss: 4.9732 - val_accuracy: 0.4570 - lr: 0.0010\n",
      "Epoch 59/10000\n",
      "70/70 [==============================] - 0s 7ms/step - loss: 4.9150 - accuracy: 0.4386 - val_loss: 4.9338 - val_accuracy: 0.4730 - lr: 0.0010\n",
      "Epoch 60/10000\n",
      "70/70 [==============================] - 0s 7ms/step - loss: 4.8626 - accuracy: 0.4379 - val_loss: 4.7067 - val_accuracy: 0.4600 - lr: 0.0010\n",
      "Epoch 61/10000\n",
      "70/70 [==============================] - 0s 7ms/step - loss: 4.9417 - accuracy: 0.4359 - val_loss: 4.7377 - val_accuracy: 0.4330 - lr: 0.0010\n",
      "Epoch 62/10000\n",
      "70/70 [==============================] - 0s 7ms/step - loss: 4.9721 - accuracy: 0.4303 - val_loss: 4.8747 - val_accuracy: 0.4380 - lr: 0.0010\n",
      "Epoch 63/10000\n",
      "70/70 [==============================] - 0s 7ms/step - loss: 4.9264 - accuracy: 0.4297 - val_loss: 4.9046 - val_accuracy: 0.4410 - lr: 0.0010\n",
      "Epoch 64/10000\n",
      "70/70 [==============================] - 0s 7ms/step - loss: 5.0266 - accuracy: 0.4354 - val_loss: 5.0963 - val_accuracy: 0.4510 - lr: 0.0010\n",
      "Epoch 65/10000\n",
      "70/70 [==============================] - 0s 7ms/step - loss: 4.9187 - accuracy: 0.4410 - val_loss: 4.7978 - val_accuracy: 0.4390 - lr: 0.0010\n",
      "Epoch 66/10000\n",
      "70/70 [==============================] - 0s 7ms/step - loss: 4.8776 - accuracy: 0.4487 - val_loss: 4.6506 - val_accuracy: 0.4270 - lr: 0.0010\n",
      "Epoch 67/10000\n",
      "70/70 [==============================] - 1s 7ms/step - loss: 4.8790 - accuracy: 0.4374 - val_loss: 4.7131 - val_accuracy: 0.4300 - lr: 0.0010\n",
      "Epoch 68/10000\n",
      "70/70 [==============================] - 0s 7ms/step - loss: 4.8497 - accuracy: 0.4384 - val_loss: 4.8218 - val_accuracy: 0.4480 - lr: 0.0010\n",
      "Epoch 69/10000\n",
      "70/70 [==============================] - 0s 7ms/step - loss: 4.8274 - accuracy: 0.4336 - val_loss: 4.8507 - val_accuracy: 0.4820 - lr: 0.0010\n",
      "Epoch 70/10000\n",
      "70/70 [==============================] - 0s 7ms/step - loss: 4.7926 - accuracy: 0.4476 - val_loss: 4.5393 - val_accuracy: 0.4820 - lr: 0.0010\n",
      "Epoch 71/10000\n",
      "70/70 [==============================] - 0s 7ms/step - loss: 4.8636 - accuracy: 0.4433 - val_loss: 4.7395 - val_accuracy: 0.4270 - lr: 0.0010\n",
      "Epoch 72/10000\n",
      "70/70 [==============================] - 0s 7ms/step - loss: 4.8568 - accuracy: 0.4416 - val_loss: 4.6437 - val_accuracy: 0.4490 - lr: 0.0010\n",
      "Epoch 73/10000\n",
      "70/70 [==============================] - 0s 7ms/step - loss: 4.7985 - accuracy: 0.4500 - val_loss: 4.6596 - val_accuracy: 0.4400 - lr: 0.0010\n",
      "Epoch 74/10000\n",
      "70/70 [==============================] - 0s 7ms/step - loss: 4.7834 - accuracy: 0.4510 - val_loss: 4.7041 - val_accuracy: 0.4610 - lr: 0.0010\n",
      "Epoch 75/10000\n",
      "70/70 [==============================] - 0s 7ms/step - loss: 4.8076 - accuracy: 0.4473 - val_loss: 4.8621 - val_accuracy: 0.4570 - lr: 0.0010\n",
      "Epoch 76/10000\n",
      "70/70 [==============================] - 0s 7ms/step - loss: 4.8182 - accuracy: 0.4409 - val_loss: 4.6768 - val_accuracy: 0.4580 - lr: 0.0010\n",
      "Epoch 77/10000\n",
      "70/70 [==============================] - 0s 6ms/step - loss: 4.8205 - accuracy: 0.4414 - val_loss: 4.6038 - val_accuracy: 0.4780 - lr: 0.0010\n",
      "Epoch 78/10000\n",
      "70/70 [==============================] - 0s 7ms/step - loss: 4.7985 - accuracy: 0.4436 - val_loss: 4.6074 - val_accuracy: 0.4790 - lr: 0.0010\n",
      "Epoch 79/10000\n",
      "70/70 [==============================] - 0s 7ms/step - loss: 4.7461 - accuracy: 0.4503 - val_loss: 4.5479 - val_accuracy: 0.4600 - lr: 0.0010\n",
      "Epoch 80/10000\n",
      "70/70 [==============================] - 0s 7ms/step - loss: 4.7727 - accuracy: 0.4494 - val_loss: 4.5911 - val_accuracy: 0.4770 - lr: 0.0010\n",
      "Epoch 81/10000\n",
      "70/70 [==============================] - 0s 7ms/step - loss: 4.7841 - accuracy: 0.4457 - val_loss: 4.5915 - val_accuracy: 0.4690 - lr: 0.0010\n",
      "Epoch 82/10000\n",
      "70/70 [==============================] - 0s 6ms/step - loss: 4.7801 - accuracy: 0.4460 - val_loss: 4.5833 - val_accuracy: 0.4860 - lr: 0.0010\n",
      "Epoch 83/10000\n",
      "70/70 [==============================] - 0s 7ms/step - loss: 4.7035 - accuracy: 0.4456 - val_loss: 4.5805 - val_accuracy: 0.4860 - lr: 0.0010\n",
      "Epoch 84/10000\n",
      "70/70 [==============================] - 0s 7ms/step - loss: 4.7154 - accuracy: 0.4496 - val_loss: 4.5875 - val_accuracy: 0.4690 - lr: 0.0010\n",
      "Epoch 85/10000\n",
      "70/70 [==============================] - 0s 7ms/step - loss: 4.7097 - accuracy: 0.4539 - val_loss: 4.7968 - val_accuracy: 0.5030 - lr: 0.0010\n",
      "Epoch 86/10000\n",
      "70/70 [==============================] - 0s 7ms/step - loss: 4.7287 - accuracy: 0.4536 - val_loss: 4.5935 - val_accuracy: 0.4760 - lr: 0.0010\n",
      "Epoch 87/10000\n",
      "70/70 [==============================] - 0s 7ms/step - loss: 4.7280 - accuracy: 0.4480 - val_loss: 4.7213 - val_accuracy: 0.4850 - lr: 0.0010\n",
      "Epoch 88/10000\n",
      "70/70 [==============================] - 0s 7ms/step - loss: 4.7442 - accuracy: 0.4547 - val_loss: 4.6131 - val_accuracy: 0.4510 - lr: 0.0010\n",
      "Epoch 89/10000\n",
      "70/70 [==============================] - 0s 7ms/step - loss: 4.7158 - accuracy: 0.4556 - val_loss: 4.6934 - val_accuracy: 0.4780 - lr: 0.0010\n",
      "Epoch 90/10000\n",
      "70/70 [==============================] - 0s 7ms/step - loss: 4.7194 - accuracy: 0.4590 - val_loss: 4.5374 - val_accuracy: 0.4620 - lr: 0.0010\n",
      "Epoch 91/10000\n",
      "70/70 [==============================] - 0s 7ms/step - loss: 4.7013 - accuracy: 0.4551 - val_loss: 7.7818 - val_accuracy: 0.4350 - lr: 0.0010\n",
      "Epoch 92/10000\n",
      "70/70 [==============================] - 0s 7ms/step - loss: 4.7874 - accuracy: 0.4526 - val_loss: 4.5759 - val_accuracy: 0.4720 - lr: 0.0010\n",
      "Epoch 93/10000\n",
      "70/70 [==============================] - 0s 7ms/step - loss: 4.7480 - accuracy: 0.4524 - val_loss: 4.5497 - val_accuracy: 0.4820 - lr: 0.0010\n",
      "Epoch 94/10000\n",
      "70/70 [==============================] - 0s 7ms/step - loss: 4.7045 - accuracy: 0.4559 - val_loss: 4.5080 - val_accuracy: 0.4730 - lr: 0.0010\n",
      "Epoch 95/10000\n",
      "70/70 [==============================] - 0s 7ms/step - loss: 4.6559 - accuracy: 0.4587 - val_loss: 4.5218 - val_accuracy: 0.4430 - lr: 0.0010\n",
      "Epoch 96/10000\n",
      "70/70 [==============================] - 0s 7ms/step - loss: 4.7008 - accuracy: 0.4513 - val_loss: 4.5756 - val_accuracy: 0.4440 - lr: 0.0010\n",
      "Epoch 97/10000\n",
      "70/70 [==============================] - 0s 7ms/step - loss: 4.6871 - accuracy: 0.4586 - val_loss: 4.6142 - val_accuracy: 0.4850 - lr: 0.0010\n",
      "Epoch 98/10000\n",
      "70/70 [==============================] - 0s 6ms/step - loss: 4.6916 - accuracy: 0.4549 - val_loss: 4.5407 - val_accuracy: 0.4760 - lr: 0.0010\n",
      "Epoch 99/10000\n",
      "70/70 [==============================] - 0s 7ms/step - loss: 4.6653 - accuracy: 0.4564 - val_loss: 4.6793 - val_accuracy: 0.4610 - lr: 0.0010\n",
      "Epoch 100/10000\n",
      "70/70 [==============================] - 0s 7ms/step - loss: 4.6996 - accuracy: 0.4623 - val_loss: 4.5715 - val_accuracy: 0.4600 - lr: 0.0010\n",
      "Epoch 101/10000\n",
      "70/70 [==============================] - 0s 7ms/step - loss: 4.6508 - accuracy: 0.4571 - val_loss: 4.6461 - val_accuracy: 0.4670 - lr: 0.0010\n",
      "Epoch 102/10000\n",
      "70/70 [==============================] - 0s 7ms/step - loss: 4.6378 - accuracy: 0.4631 - val_loss: 4.7783 - val_accuracy: 0.4850 - lr: 0.0010\n",
      "Epoch 103/10000\n",
      "70/70 [==============================] - 0s 7ms/step - loss: 4.6507 - accuracy: 0.4579 - val_loss: 4.6080 - val_accuracy: 0.4510 - lr: 0.0010\n",
      "Epoch 104/10000\n",
      "70/70 [==============================] - 0s 7ms/step - loss: 4.6446 - accuracy: 0.4557 - val_loss: 4.7902 - val_accuracy: 0.4890 - lr: 0.0010\n",
      "Epoch 105/10000\n"
     ]
    },
    {
     "name": "stdout",
     "output_type": "stream",
     "text": [
      "70/70 [==============================] - 0s 7ms/step - loss: 4.6817 - accuracy: 0.4579 - val_loss: 4.4959 - val_accuracy: 0.4690 - lr: 0.0010\n",
      "Epoch 106/10000\n",
      "70/70 [==============================] - 0s 7ms/step - loss: 4.6101 - accuracy: 0.4650 - val_loss: 4.6071 - val_accuracy: 0.4770 - lr: 0.0010\n",
      "Epoch 107/10000\n",
      "70/70 [==============================] - 0s 7ms/step - loss: 4.6157 - accuracy: 0.4699 - val_loss: 4.5506 - val_accuracy: 0.4860 - lr: 0.0010\n",
      "Epoch 108/10000\n",
      "70/70 [==============================] - 0s 7ms/step - loss: 4.7256 - accuracy: 0.4520 - val_loss: 4.5656 - val_accuracy: 0.4730 - lr: 0.0010\n",
      "Epoch 109/10000\n",
      "70/70 [==============================] - 0s 7ms/step - loss: 4.7056 - accuracy: 0.4550 - val_loss: 4.7043 - val_accuracy: 0.4760 - lr: 0.0010\n",
      "Epoch 110/10000\n",
      "70/70 [==============================] - 0s 7ms/step - loss: 4.7654 - accuracy: 0.4537 - val_loss: 4.5573 - val_accuracy: 0.4740 - lr: 0.0010\n",
      "Epoch 111/10000\n",
      "70/70 [==============================] - 0s 7ms/step - loss: 4.6767 - accuracy: 0.4560 - val_loss: 4.6538 - val_accuracy: 0.4650 - lr: 0.0010\n",
      "Epoch 112/10000\n",
      "70/70 [==============================] - 0s 7ms/step - loss: 4.6332 - accuracy: 0.4664 - val_loss: 4.4640 - val_accuracy: 0.4710 - lr: 0.0010\n",
      "Epoch 113/10000\n",
      "70/70 [==============================] - 0s 7ms/step - loss: 4.6581 - accuracy: 0.4526 - val_loss: 4.5307 - val_accuracy: 0.4700 - lr: 0.0010\n",
      "Epoch 114/10000\n",
      "70/70 [==============================] - 0s 7ms/step - loss: 4.6676 - accuracy: 0.4547 - val_loss: 4.6974 - val_accuracy: 0.4740 - lr: 0.0010\n",
      "Epoch 115/10000\n",
      "70/70 [==============================] - 0s 7ms/step - loss: 4.6020 - accuracy: 0.4659 - val_loss: 4.5075 - val_accuracy: 0.4840 - lr: 0.0010\n",
      "Epoch 116/10000\n",
      "70/70 [==============================] - 0s 7ms/step - loss: 4.5902 - accuracy: 0.4637 - val_loss: 4.4938 - val_accuracy: 0.4890 - lr: 0.0010\n",
      "Epoch 117/10000\n",
      "70/70 [==============================] - 0s 7ms/step - loss: 4.5869 - accuracy: 0.4676 - val_loss: 4.5846 - val_accuracy: 0.4480 - lr: 0.0010\n",
      "Epoch 118/10000\n",
      "70/70 [==============================] - 0s 7ms/step - loss: 4.6119 - accuracy: 0.4707 - val_loss: 4.5114 - val_accuracy: 0.4880 - lr: 0.0010\n",
      "Epoch 119/10000\n",
      "70/70 [==============================] - 0s 7ms/step - loss: 4.6176 - accuracy: 0.4631 - val_loss: 4.5347 - val_accuracy: 0.4740 - lr: 0.0010\n",
      "Epoch 120/10000\n",
      "70/70 [==============================] - 0s 7ms/step - loss: 4.6498 - accuracy: 0.4556 - val_loss: 4.5103 - val_accuracy: 0.4870 - lr: 0.0010\n",
      "Epoch 121/10000\n",
      "70/70 [==============================] - 1s 7ms/step - loss: 4.6363 - accuracy: 0.4559 - val_loss: 4.6226 - val_accuracy: 0.4640 - lr: 0.0010\n",
      "Epoch 122/10000\n",
      "70/70 [==============================] - 0s 7ms/step - loss: 4.5666 - accuracy: 0.4654 - val_loss: 4.4369 - val_accuracy: 0.4540 - lr: 0.0010\n",
      "Epoch 123/10000\n",
      "70/70 [==============================] - 1s 7ms/step - loss: 4.6047 - accuracy: 0.4584 - val_loss: 4.4660 - val_accuracy: 0.4630 - lr: 0.0010\n",
      "Epoch 124/10000\n",
      "70/70 [==============================] - 0s 7ms/step - loss: 4.5347 - accuracy: 0.4710 - val_loss: 4.5431 - val_accuracy: 0.4730 - lr: 0.0010\n",
      "Epoch 125/10000\n",
      "70/70 [==============================] - 0s 7ms/step - loss: 4.5487 - accuracy: 0.4663 - val_loss: 4.5074 - val_accuracy: 0.4530 - lr: 0.0010\n",
      "Epoch 126/10000\n",
      "70/70 [==============================] - 0s 7ms/step - loss: 4.5777 - accuracy: 0.4637 - val_loss: 4.6003 - val_accuracy: 0.4670 - lr: 0.0010\n",
      "Epoch 127/10000\n",
      "70/70 [==============================] - 0s 7ms/step - loss: 4.6155 - accuracy: 0.4679 - val_loss: 4.4871 - val_accuracy: 0.4450 - lr: 0.0010\n",
      "Epoch 128/10000\n",
      "70/70 [==============================] - 0s 7ms/step - loss: 4.5507 - accuracy: 0.4686 - val_loss: 4.5907 - val_accuracy: 0.4750 - lr: 0.0010\n",
      "Epoch 129/10000\n",
      "70/70 [==============================] - 0s 7ms/step - loss: 4.5364 - accuracy: 0.4659 - val_loss: 4.5785 - val_accuracy: 0.4550 - lr: 0.0010\n",
      "Epoch 130/10000\n",
      "70/70 [==============================] - 0s 7ms/step - loss: 4.5634 - accuracy: 0.4651 - val_loss: 4.6536 - val_accuracy: 0.4640 - lr: 0.0010\n",
      "Epoch 131/10000\n",
      "70/70 [==============================] - 0s 7ms/step - loss: 4.5368 - accuracy: 0.4671 - val_loss: 4.5299 - val_accuracy: 0.4580 - lr: 0.0010\n",
      "Epoch 132/10000\n",
      "70/70 [==============================] - 0s 7ms/step - loss: 4.5634 - accuracy: 0.4683 - val_loss: 4.4950 - val_accuracy: 0.4630 - lr: 0.0010\n",
      "Epoch 133/10000\n",
      "70/70 [==============================] - 0s 7ms/step - loss: 4.5212 - accuracy: 0.4713 - val_loss: 4.4823 - val_accuracy: 0.4830 - lr: 0.0010\n",
      "Epoch 134/10000\n",
      "70/70 [==============================] - 0s 7ms/step - loss: 4.5649 - accuracy: 0.4673 - val_loss: 4.6522 - val_accuracy: 0.4790 - lr: 0.0010\n",
      "Epoch 135/10000\n",
      "70/70 [==============================] - 0s 7ms/step - loss: 4.5146 - accuracy: 0.4704 - val_loss: 4.5010 - val_accuracy: 0.4720 - lr: 0.0010\n",
      "Epoch 136/10000\n",
      "70/70 [==============================] - 0s 7ms/step - loss: 4.4720 - accuracy: 0.4756 - val_loss: 4.4634 - val_accuracy: 0.4820 - lr: 0.0010\n",
      "Epoch 137/10000\n",
      "70/70 [==============================] - 0s 7ms/step - loss: 4.4820 - accuracy: 0.4790 - val_loss: 4.5442 - val_accuracy: 0.4810 - lr: 0.0010\n",
      "Epoch 138/10000\n",
      "70/70 [==============================] - 0s 7ms/step - loss: 4.5435 - accuracy: 0.4680 - val_loss: 4.4803 - val_accuracy: 0.4810 - lr: 0.0010\n",
      "Epoch 139/10000\n",
      "70/70 [==============================] - 0s 7ms/step - loss: 4.4617 - accuracy: 0.4743 - val_loss: 4.4869 - val_accuracy: 0.4920 - lr: 0.0010\n",
      "Epoch 140/10000\n",
      "70/70 [==============================] - 0s 7ms/step - loss: 4.5411 - accuracy: 0.4646 - val_loss: 4.5535 - val_accuracy: 0.4860 - lr: 0.0010\n",
      "Epoch 141/10000\n",
      "70/70 [==============================] - 0s 7ms/step - loss: 4.5262 - accuracy: 0.4726 - val_loss: 4.4544 - val_accuracy: 0.4930 - lr: 0.0010\n",
      "Epoch 142/10000\n",
      "70/70 [==============================] - 1s 9ms/step - loss: 4.5187 - accuracy: 0.4736 - val_loss: 4.6522 - val_accuracy: 0.4560 - lr: 0.0010\n",
      "Epoch 143/10000\n",
      "70/70 [==============================] - 0s 7ms/step - loss: 4.5060 - accuracy: 0.4734 - val_loss: 4.6915 - val_accuracy: 0.4900 - lr: 0.0010\n",
      "Epoch 144/10000\n",
      "70/70 [==============================] - 0s 7ms/step - loss: 4.4704 - accuracy: 0.4726 - val_loss: 4.4571 - val_accuracy: 0.4770 - lr: 0.0010\n",
      "Epoch 145/10000\n",
      "70/70 [==============================] - 0s 7ms/step - loss: 4.4714 - accuracy: 0.4799 - val_loss: 4.4882 - val_accuracy: 0.4830 - lr: 0.0010\n",
      "Epoch 146/10000\n",
      "70/70 [==============================] - 0s 7ms/step - loss: 4.4876 - accuracy: 0.4721 - val_loss: 4.5067 - val_accuracy: 0.4940 - lr: 0.0010\n",
      "Epoch 147/10000\n",
      "70/70 [==============================] - 0s 7ms/step - loss: 4.4368 - accuracy: 0.4789 - val_loss: 4.4652 - val_accuracy: 0.4880 - lr: 0.0010\n",
      "Epoch 148/10000\n",
      "70/70 [==============================] - 0s 7ms/step - loss: 4.4758 - accuracy: 0.4707 - val_loss: 4.6509 - val_accuracy: 0.4680 - lr: 0.0010\n",
      "Epoch 149/10000\n",
      "70/70 [==============================] - 0s 7ms/step - loss: 4.5197 - accuracy: 0.4719 - val_loss: 4.5653 - val_accuracy: 0.4720 - lr: 0.0010\n",
      "Epoch 150/10000\n",
      "70/70 [==============================] - 0s 7ms/step - loss: 4.5075 - accuracy: 0.4790 - val_loss: 4.5256 - val_accuracy: 0.4760 - lr: 0.0010\n",
      "Epoch 151/10000\n",
      "70/70 [==============================] - 0s 7ms/step - loss: 4.4653 - accuracy: 0.4703 - val_loss: 4.5631 - val_accuracy: 0.4730 - lr: 0.0010\n",
      "Epoch 152/10000\n",
      "70/70 [==============================] - 0s 7ms/step - loss: 4.4521 - accuracy: 0.4709 - val_loss: 4.6146 - val_accuracy: 0.4730 - lr: 0.0010\n",
      "Epoch 153/10000\n",
      "70/70 [==============================] - 0s 7ms/step - loss: 4.4670 - accuracy: 0.4700 - val_loss: 4.5447 - val_accuracy: 0.4780 - lr: 0.0010\n",
      "Epoch 154/10000\n",
      "70/70 [==============================] - 0s 7ms/step - loss: 4.5260 - accuracy: 0.4651 - val_loss: 4.6304 - val_accuracy: 0.4700 - lr: 0.0010\n",
      "Epoch 155/10000\n",
      "70/70 [==============================] - 0s 7ms/step - loss: 4.4987 - accuracy: 0.4671 - val_loss: 4.6015 - val_accuracy: 0.4560 - lr: 0.0010\n",
      "Epoch 156/10000\n",
      "70/70 [==============================] - 0s 7ms/step - loss: 4.4634 - accuracy: 0.4634 - val_loss: 4.6180 - val_accuracy: 0.4780 - lr: 0.0010\n"
     ]
    },
    {
     "name": "stdout",
     "output_type": "stream",
     "text": [
      "Epoch 157/10000\n",
      "70/70 [==============================] - 0s 7ms/step - loss: 4.4391 - accuracy: 0.4786 - val_loss: 4.6049 - val_accuracy: 0.4840 - lr: 0.0010\n",
      "Epoch 158/10000\n",
      "70/70 [==============================] - 0s 6ms/step - loss: 4.3998 - accuracy: 0.4817 - val_loss: 4.5267 - val_accuracy: 0.4780 - lr: 0.0010\n",
      "Epoch 159/10000\n",
      "70/70 [==============================] - 0s 7ms/step - loss: 4.4635 - accuracy: 0.4676 - val_loss: 4.5749 - val_accuracy: 0.4760 - lr: 0.0010\n",
      "Epoch 160/10000\n",
      "70/70 [==============================] - 0s 7ms/step - loss: 4.4176 - accuracy: 0.4771 - val_loss: 4.5151 - val_accuracy: 0.4900 - lr: 0.0010\n",
      "Epoch 161/10000\n",
      "70/70 [==============================] - 0s 7ms/step - loss: 4.4236 - accuracy: 0.4850 - val_loss: 4.6674 - val_accuracy: 0.4750 - lr: 0.0010\n",
      "Epoch 162/10000\n",
      "70/70 [==============================] - 0s 7ms/step - loss: 4.4000 - accuracy: 0.4827 - val_loss: 4.5935 - val_accuracy: 0.4790 - lr: 0.0010\n",
      "Epoch 163/10000\n",
      "70/70 [==============================] - 0s 7ms/step - loss: 4.4014 - accuracy: 0.4813 - val_loss: 4.6883 - val_accuracy: 0.4660 - lr: 0.0010\n",
      "Epoch 164/10000\n",
      "70/70 [==============================] - 0s 7ms/step - loss: 4.4624 - accuracy: 0.4771 - val_loss: 4.5073 - val_accuracy: 0.4670 - lr: 0.0010\n",
      "Epoch 165/10000\n",
      "70/70 [==============================] - 0s 7ms/step - loss: 4.4081 - accuracy: 0.4760 - val_loss: 4.6333 - val_accuracy: 0.4930 - lr: 0.0010\n",
      "Epoch 166/10000\n",
      "70/70 [==============================] - 0s 7ms/step - loss: 4.4099 - accuracy: 0.4833 - val_loss: 4.6316 - val_accuracy: 0.4700 - lr: 0.0010\n",
      "Epoch 167/10000\n",
      "70/70 [==============================] - 0s 7ms/step - loss: 4.4159 - accuracy: 0.4829 - val_loss: 4.6648 - val_accuracy: 0.4600 - lr: 0.0010\n",
      "Epoch 168/10000\n",
      "70/70 [==============================] - 0s 7ms/step - loss: 4.4408 - accuracy: 0.4829 - val_loss: 4.6318 - val_accuracy: 0.4660 - lr: 0.0010\n",
      "Epoch 169/10000\n",
      "70/70 [==============================] - 0s 7ms/step - loss: 4.4417 - accuracy: 0.4733 - val_loss: 4.5323 - val_accuracy: 0.5040 - lr: 0.0010\n",
      "Epoch 170/10000\n",
      "70/70 [==============================] - 0s 7ms/step - loss: 4.3928 - accuracy: 0.4774 - val_loss: 4.5290 - val_accuracy: 0.4720 - lr: 0.0010\n",
      "Epoch 171/10000\n",
      "70/70 [==============================] - 0s 7ms/step - loss: 4.3730 - accuracy: 0.4809 - val_loss: 4.6668 - val_accuracy: 0.4760 - lr: 0.0010\n",
      "Epoch 172/10000\n",
      "70/70 [==============================] - 0s 7ms/step - loss: 4.3755 - accuracy: 0.4824 - val_loss: 4.5877 - val_accuracy: 0.4810 - lr: 0.0010\n",
      "Epoch 173/10000\n",
      "70/70 [==============================] - 0s 7ms/step - loss: 4.3514 - accuracy: 0.4853 - val_loss: 4.4646 - val_accuracy: 0.4780 - lr: 0.0010\n",
      "Epoch 174/10000\n",
      "70/70 [==============================] - 0s 7ms/step - loss: 4.3481 - accuracy: 0.4836 - val_loss: 4.4715 - val_accuracy: 0.4830 - lr: 0.0010\n",
      "Epoch 175/10000\n",
      "70/70 [==============================] - 0s 7ms/step - loss: 4.3373 - accuracy: 0.4849 - val_loss: 4.5126 - val_accuracy: 0.4920 - lr: 0.0010\n",
      "Epoch 176/10000\n",
      "70/70 [==============================] - 0s 7ms/step - loss: 4.3138 - accuracy: 0.4827 - val_loss: 4.4622 - val_accuracy: 0.4800 - lr: 0.0010\n",
      "Epoch 177/10000\n",
      "70/70 [==============================] - 0s 7ms/step - loss: 4.3189 - accuracy: 0.4824 - val_loss: 4.4942 - val_accuracy: 0.4980 - lr: 0.0010\n",
      "Epoch 178/10000\n",
      "70/70 [==============================] - 0s 7ms/step - loss: 4.3182 - accuracy: 0.4889 - val_loss: 4.6485 - val_accuracy: 0.4690 - lr: 0.0010\n",
      "Epoch 179/10000\n",
      "70/70 [==============================] - 0s 7ms/step - loss: 4.3036 - accuracy: 0.4910 - val_loss: 4.4831 - val_accuracy: 0.4860 - lr: 0.0010\n",
      "Epoch 180/10000\n",
      "70/70 [==============================] - 0s 7ms/step - loss: 4.3268 - accuracy: 0.4851 - val_loss: 4.5684 - val_accuracy: 0.4850 - lr: 0.0010\n",
      "Epoch 181/10000\n",
      "70/70 [==============================] - 0s 7ms/step - loss: 4.3395 - accuracy: 0.4877 - val_loss: 4.6783 - val_accuracy: 0.4660 - lr: 0.0010\n",
      "Epoch 182/10000\n",
      "70/70 [==============================] - 0s 7ms/step - loss: 4.3125 - accuracy: 0.4840 - val_loss: 4.4971 - val_accuracy: 0.4840 - lr: 0.0010\n",
      "Epoch 183/10000\n",
      "70/70 [==============================] - 0s 7ms/step - loss: 4.3095 - accuracy: 0.4826 - val_loss: 4.5904 - val_accuracy: 0.4700 - lr: 0.0010\n",
      "Epoch 184/10000\n",
      "70/70 [==============================] - 0s 7ms/step - loss: 4.3133 - accuracy: 0.4887 - val_loss: 4.6326 - val_accuracy: 0.4610 - lr: 0.0010\n",
      "Epoch 185/10000\n",
      "70/70 [==============================] - 0s 7ms/step - loss: 4.3136 - accuracy: 0.4827 - val_loss: 4.5611 - val_accuracy: 0.4600 - lr: 0.0010\n",
      "Epoch 186/10000\n",
      "70/70 [==============================] - 0s 7ms/step - loss: 4.3028 - accuracy: 0.4873 - val_loss: 4.5540 - val_accuracy: 0.4760 - lr: 0.0010\n",
      "Epoch 187/10000\n",
      "70/70 [==============================] - 0s 7ms/step - loss: 4.2752 - accuracy: 0.4873 - val_loss: 4.5377 - val_accuracy: 0.4770 - lr: 0.0010\n",
      "Epoch 188/10000\n",
      "70/70 [==============================] - 0s 7ms/step - loss: 4.3230 - accuracy: 0.4910 - val_loss: 4.5602 - val_accuracy: 0.4590 - lr: 0.0010\n",
      "Epoch 189/10000\n",
      "70/70 [==============================] - 0s 7ms/step - loss: 4.2643 - accuracy: 0.4890 - val_loss: 4.6614 - val_accuracy: 0.4470 - lr: 0.0010\n",
      "Epoch 190/10000\n",
      "70/70 [==============================] - 0s 7ms/step - loss: 4.2706 - accuracy: 0.4910 - val_loss: 4.7543 - val_accuracy: 0.4570 - lr: 0.0010\n",
      "Epoch 191/10000\n",
      "70/70 [==============================] - 0s 7ms/step - loss: 4.2877 - accuracy: 0.4934 - val_loss: 4.5922 - val_accuracy: 0.4740 - lr: 0.0010\n",
      "Epoch 192/10000\n",
      "70/70 [==============================] - 0s 7ms/step - loss: 4.2722 - accuracy: 0.4957 - val_loss: 4.6225 - val_accuracy: 0.4570 - lr: 0.0010\n",
      "Epoch 193/10000\n",
      "70/70 [==============================] - 0s 7ms/step - loss: 4.2715 - accuracy: 0.4903 - val_loss: 4.6450 - val_accuracy: 0.4690 - lr: 0.0010\n",
      "Epoch 194/10000\n",
      "70/70 [==============================] - 0s 7ms/step - loss: 4.2817 - accuracy: 0.4856 - val_loss: 4.6904 - val_accuracy: 0.4680 - lr: 0.0010\n",
      "Epoch 195/10000\n",
      "70/70 [==============================] - 0s 7ms/step - loss: 4.2498 - accuracy: 0.4873 - val_loss: 4.5206 - val_accuracy: 0.4660 - lr: 0.0010\n",
      "Epoch 196/10000\n",
      "70/70 [==============================] - 0s 7ms/step - loss: 4.2351 - accuracy: 0.4927 - val_loss: 4.6391 - val_accuracy: 0.4810 - lr: 0.0010\n",
      "Epoch 197/10000\n",
      "70/70 [==============================] - 0s 7ms/step - loss: 4.2091 - accuracy: 0.4959 - val_loss: 4.6010 - val_accuracy: 0.4800 - lr: 0.0010\n",
      "Epoch 198/10000\n",
      "70/70 [==============================] - 0s 7ms/step - loss: 4.2399 - accuracy: 0.4924 - val_loss: 4.6368 - val_accuracy: 0.4630 - lr: 0.0010\n",
      "Epoch 199/10000\n",
      "70/70 [==============================] - 0s 7ms/step - loss: 4.2525 - accuracy: 0.4901 - val_loss: 4.6772 - val_accuracy: 0.4910 - lr: 0.0010\n",
      "Epoch 200/10000\n",
      "70/70 [==============================] - 0s 7ms/step - loss: 4.2518 - accuracy: 0.4901 - val_loss: 4.5953 - val_accuracy: 0.4890 - lr: 0.0010\n",
      "Epoch 201/10000\n",
      "70/70 [==============================] - 0s 7ms/step - loss: 4.2196 - accuracy: 0.4957 - val_loss: 4.7768 - val_accuracy: 0.4890 - lr: 0.0010\n",
      "Epoch 202/10000\n",
      "70/70 [==============================] - 0s 7ms/step - loss: 4.1949 - accuracy: 0.4991 - val_loss: 4.7325 - val_accuracy: 0.4560 - lr: 0.0010\n",
      "Epoch 203/10000\n",
      "70/70 [==============================] - 0s 7ms/step - loss: 4.1590 - accuracy: 0.4991 - val_loss: 4.5678 - val_accuracy: 0.4970 - lr: 0.0010\n",
      "Epoch 204/10000\n",
      "70/70 [==============================] - 0s 7ms/step - loss: 4.1876 - accuracy: 0.4979 - val_loss: 4.6341 - val_accuracy: 0.4730 - lr: 0.0010\n",
      "Epoch 205/10000\n",
      "70/70 [==============================] - 0s 7ms/step - loss: 4.2308 - accuracy: 0.4876 - val_loss: 4.6788 - val_accuracy: 0.4990 - lr: 0.0010\n",
      "Epoch 206/10000\n",
      "70/70 [==============================] - 0s 7ms/step - loss: 4.1387 - accuracy: 0.4926 - val_loss: 4.6975 - val_accuracy: 0.4690 - lr: 0.0010\n",
      "Epoch 207/10000\n",
      "70/70 [==============================] - 0s 7ms/step - loss: 4.2116 - accuracy: 0.4973 - val_loss: 4.6924 - val_accuracy: 0.4890 - lr: 0.0010\n",
      "Epoch 208/10000\n",
      "70/70 [==============================] - 0s 7ms/step - loss: 4.2179 - accuracy: 0.4939 - val_loss: 4.6816 - val_accuracy: 0.4610 - lr: 0.0010\n"
     ]
    },
    {
     "name": "stdout",
     "output_type": "stream",
     "text": [
      "Epoch 209/10000\n",
      "70/70 [==============================] - 0s 7ms/step - loss: 4.1932 - accuracy: 0.4907 - val_loss: 4.5129 - val_accuracy: 0.4750 - lr: 0.0010\n",
      "Epoch 210/10000\n",
      "70/70 [==============================] - 0s 7ms/step - loss: 4.1656 - accuracy: 0.4907 - val_loss: 4.7051 - val_accuracy: 0.4850 - lr: 0.0010\n",
      "Epoch 211/10000\n",
      "70/70 [==============================] - 0s 7ms/step - loss: 4.1208 - accuracy: 0.5060 - val_loss: 4.7663 - val_accuracy: 0.4770 - lr: 0.0010\n",
      "Epoch 212/10000\n",
      "70/70 [==============================] - 0s 7ms/step - loss: 4.1220 - accuracy: 0.4976 - val_loss: 4.7289 - val_accuracy: 0.4730 - lr: 0.0010\n",
      "Epoch 213/10000\n",
      "70/70 [==============================] - 0s 7ms/step - loss: 4.2121 - accuracy: 0.4891 - val_loss: 4.8355 - val_accuracy: 0.4770 - lr: 0.0010\n",
      "Epoch 214/10000\n",
      "70/70 [==============================] - 0s 7ms/step - loss: 4.2292 - accuracy: 0.4914 - val_loss: 4.6765 - val_accuracy: 0.4940 - lr: 0.0010\n",
      "Epoch 215/10000\n",
      "70/70 [==============================] - 0s 7ms/step - loss: 4.1169 - accuracy: 0.4943 - val_loss: 4.5984 - val_accuracy: 0.4790 - lr: 0.0010\n",
      "Epoch 216/10000\n",
      "70/70 [==============================] - 0s 7ms/step - loss: 4.1104 - accuracy: 0.5050 - val_loss: 4.6064 - val_accuracy: 0.4840 - lr: 0.0010\n",
      "Epoch 217/10000\n",
      "70/70 [==============================] - 0s 7ms/step - loss: 4.1718 - accuracy: 0.4980 - val_loss: 4.6542 - val_accuracy: 0.4690 - lr: 0.0010\n",
      "Epoch 218/10000\n",
      "70/70 [==============================] - 0s 7ms/step - loss: 4.1280 - accuracy: 0.5036 - val_loss: 4.6447 - val_accuracy: 0.4690 - lr: 0.0010\n",
      "Epoch 219/10000\n",
      "70/70 [==============================] - 0s 7ms/step - loss: 4.1148 - accuracy: 0.5023 - val_loss: 4.6429 - val_accuracy: 0.4820 - lr: 0.0010\n",
      "Epoch 220/10000\n",
      "70/70 [==============================] - 0s 7ms/step - loss: 4.1417 - accuracy: 0.4919 - val_loss: 4.5796 - val_accuracy: 0.4880 - lr: 0.0010\n",
      "Epoch 221/10000\n",
      "70/70 [==============================] - 0s 7ms/step - loss: 4.1307 - accuracy: 0.5011 - val_loss: 4.6506 - val_accuracy: 0.4710 - lr: 0.0010\n",
      "Epoch 222/10000\n",
      "70/70 [==============================] - 0s 7ms/step - loss: 4.0987 - accuracy: 0.4983 - val_loss: 4.6642 - val_accuracy: 0.4780 - lr: 0.0010\n",
      "Epoch 223/10000\n",
      "70/70 [==============================] - 0s 7ms/step - loss: 4.0651 - accuracy: 0.5067 - val_loss: 4.6420 - val_accuracy: 0.4870 - lr: 0.0010\n",
      "Epoch 224/10000\n",
      "70/70 [==============================] - 0s 7ms/step - loss: 4.1050 - accuracy: 0.4996 - val_loss: 4.6660 - val_accuracy: 0.4860 - lr: 0.0010\n",
      "Epoch 225/10000\n",
      "70/70 [==============================] - 0s 7ms/step - loss: 4.0744 - accuracy: 0.4990 - val_loss: 4.6993 - val_accuracy: 0.4700 - lr: 0.0010\n",
      "Epoch 226/10000\n",
      "70/70 [==============================] - 0s 7ms/step - loss: 4.0710 - accuracy: 0.5020 - val_loss: 4.8195 - val_accuracy: 0.4830 - lr: 0.0010\n",
      "Epoch 227/10000\n",
      "70/70 [==============================] - 0s 7ms/step - loss: 4.0515 - accuracy: 0.5124 - val_loss: 4.6193 - val_accuracy: 0.4780 - lr: 0.0010\n",
      "Epoch 228/10000\n",
      "70/70 [==============================] - 0s 7ms/step - loss: 4.0608 - accuracy: 0.5063 - val_loss: 4.8524 - val_accuracy: 0.4820 - lr: 0.0010\n",
      "Epoch 229/10000\n",
      "70/70 [==============================] - 0s 7ms/step - loss: 4.0827 - accuracy: 0.5061 - val_loss: 4.6592 - val_accuracy: 0.4830 - lr: 0.0010\n",
      "Epoch 230/10000\n",
      "70/70 [==============================] - 0s 7ms/step - loss: 4.1101 - accuracy: 0.5004 - val_loss: 4.6522 - val_accuracy: 0.4760 - lr: 0.0010\n",
      "Epoch 231/10000\n",
      "70/70 [==============================] - 0s 7ms/step - loss: 4.0627 - accuracy: 0.5030 - val_loss: 4.6598 - val_accuracy: 0.4830 - lr: 0.0010\n",
      "Epoch 232/10000\n",
      "70/70 [==============================] - 0s 7ms/step - loss: 4.0422 - accuracy: 0.5093 - val_loss: 4.6660 - val_accuracy: 0.4990 - lr: 0.0010\n",
      "Epoch 233/10000\n",
      "70/70 [==============================] - 0s 7ms/step - loss: 4.0331 - accuracy: 0.5080 - val_loss: 4.6089 - val_accuracy: 0.5000 - lr: 0.0010\n",
      "Epoch 234/10000\n",
      "70/70 [==============================] - 0s 7ms/step - loss: 4.0120 - accuracy: 0.5119 - val_loss: 4.7151 - val_accuracy: 0.4760 - lr: 0.0010\n",
      "Epoch 235/10000\n",
      "70/70 [==============================] - 0s 7ms/step - loss: 4.0502 - accuracy: 0.5081 - val_loss: 4.7229 - val_accuracy: 0.4840 - lr: 0.0010\n",
      "Epoch 236/10000\n",
      "70/70 [==============================] - 0s 7ms/step - loss: 3.9959 - accuracy: 0.5094 - val_loss: 4.6647 - val_accuracy: 0.4790 - lr: 0.0010\n",
      "Epoch 237/10000\n",
      "70/70 [==============================] - 0s 7ms/step - loss: 3.9525 - accuracy: 0.5116 - val_loss: 4.6928 - val_accuracy: 0.4920 - lr: 0.0010\n",
      "Epoch 238/10000\n",
      "70/70 [==============================] - 0s 7ms/step - loss: 3.9663 - accuracy: 0.5116 - val_loss: 4.7303 - val_accuracy: 0.5000 - lr: 0.0010\n",
      "Epoch 239/10000\n",
      "70/70 [==============================] - 0s 7ms/step - loss: 3.9865 - accuracy: 0.5077 - val_loss: 4.6559 - val_accuracy: 0.4720 - lr: 0.0010\n",
      "Epoch 240/10000\n",
      "70/70 [==============================] - 0s 7ms/step - loss: 4.0058 - accuracy: 0.5064 - val_loss: 4.6418 - val_accuracy: 0.4870 - lr: 0.0010\n",
      "Epoch 241/10000\n",
      "70/70 [==============================] - 0s 7ms/step - loss: 3.9681 - accuracy: 0.5086 - val_loss: 4.6183 - val_accuracy: 0.4870 - lr: 0.0010\n",
      "Epoch 242/10000\n",
      "70/70 [==============================] - 1s 8ms/step - loss: 3.9762 - accuracy: 0.5090 - val_loss: 4.6782 - val_accuracy: 0.4660 - lr: 0.0010\n",
      "Epoch 243/10000\n",
      "70/70 [==============================] - 0s 7ms/step - loss: 3.9841 - accuracy: 0.5097 - val_loss: 4.6570 - val_accuracy: 0.4710 - lr: 0.0010\n",
      "Epoch 244/10000\n",
      "70/70 [==============================] - 0s 7ms/step - loss: 3.9448 - accuracy: 0.5204 - val_loss: 4.6462 - val_accuracy: 0.4960 - lr: 0.0010\n",
      "Epoch 245/10000\n",
      "70/70 [==============================] - 0s 7ms/step - loss: 4.0002 - accuracy: 0.5107 - val_loss: 4.8004 - val_accuracy: 0.4680 - lr: 0.0010\n",
      "Epoch 246/10000\n",
      "70/70 [==============================] - 0s 7ms/step - loss: 3.9693 - accuracy: 0.5123 - val_loss: 4.7533 - val_accuracy: 0.4550 - lr: 0.0010\n",
      "Epoch 247/10000\n",
      "70/70 [==============================] - 0s 7ms/step - loss: 3.9538 - accuracy: 0.5086 - val_loss: 4.7688 - val_accuracy: 0.4650 - lr: 0.0010\n",
      "Epoch 248/10000\n",
      "70/70 [==============================] - 0s 7ms/step - loss: 3.9634 - accuracy: 0.5126 - val_loss: 4.6811 - val_accuracy: 0.4990 - lr: 0.0010\n",
      "Epoch 249/10000\n",
      "70/70 [==============================] - 1s 7ms/step - loss: 3.9227 - accuracy: 0.5177 - val_loss: 4.7457 - val_accuracy: 0.4920 - lr: 0.0010\n",
      "Epoch 250/10000\n",
      "70/70 [==============================] - 0s 7ms/step - loss: 3.9509 - accuracy: 0.5137 - val_loss: 4.7282 - val_accuracy: 0.4800 - lr: 0.0010\n",
      "Epoch 251/10000\n",
      "70/70 [==============================] - 0s 7ms/step - loss: 3.9391 - accuracy: 0.5184 - val_loss: 4.6702 - val_accuracy: 0.4980 - lr: 0.0010\n",
      "Epoch 252/10000\n",
      "70/70 [==============================] - 0s 7ms/step - loss: 3.9168 - accuracy: 0.5191 - val_loss: 4.7300 - val_accuracy: 0.4620 - lr: 0.0010\n",
      "Epoch 253/10000\n",
      "70/70 [==============================] - 0s 7ms/step - loss: 3.9416 - accuracy: 0.5079 - val_loss: 4.7896 - val_accuracy: 0.4830 - lr: 0.0010\n",
      "Epoch 254/10000\n",
      "70/70 [==============================] - 0s 7ms/step - loss: 3.9754 - accuracy: 0.5094 - val_loss: 4.7858 - val_accuracy: 0.4710 - lr: 0.0010\n",
      "Epoch 255/10000\n",
      "70/70 [==============================] - 0s 7ms/step - loss: 4.0021 - accuracy: 0.5050 - val_loss: 4.7092 - val_accuracy: 0.4810 - lr: 0.0010\n",
      "Epoch 256/10000\n",
      "70/70 [==============================] - 0s 7ms/step - loss: 3.9570 - accuracy: 0.5134 - val_loss: 4.6856 - val_accuracy: 0.5120 - lr: 0.0010\n",
      "Epoch 257/10000\n",
      "70/70 [==============================] - 0s 7ms/step - loss: 3.9146 - accuracy: 0.5121 - val_loss: 4.8111 - val_accuracy: 0.4730 - lr: 0.0010\n",
      "Epoch 258/10000\n",
      "70/70 [==============================] - 0s 7ms/step - loss: 3.9476 - accuracy: 0.5074 - val_loss: 4.8414 - val_accuracy: 0.4920 - lr: 0.0010\n",
      "Epoch 259/10000\n",
      "70/70 [==============================] - 0s 7ms/step - loss: 3.8835 - accuracy: 0.5169 - val_loss: 4.8969 - val_accuracy: 0.4710 - lr: 0.0010\n",
      "Epoch 260/10000\n",
      "70/70 [==============================] - 0s 7ms/step - loss: 3.9014 - accuracy: 0.5194 - val_loss: 4.7934 - val_accuracy: 0.4790 - lr: 0.0010\n"
     ]
    },
    {
     "name": "stdout",
     "output_type": "stream",
     "text": [
      "Epoch 261/10000\n",
      "70/70 [==============================] - 0s 7ms/step - loss: 3.8737 - accuracy: 0.5159 - val_loss: 4.7679 - val_accuracy: 0.4940 - lr: 0.0010\n",
      "Epoch 262/10000\n",
      "70/70 [==============================] - 0s 7ms/step - loss: 3.9281 - accuracy: 0.5097 - val_loss: 4.7719 - val_accuracy: 0.4730 - lr: 0.0010\n",
      "Epoch 263/10000\n",
      "70/70 [==============================] - 1s 7ms/step - loss: 3.8924 - accuracy: 0.5176 - val_loss: 4.7744 - val_accuracy: 0.4800 - lr: 0.0010\n",
      "Epoch 264/10000\n",
      "70/70 [==============================] - 0s 7ms/step - loss: 3.8479 - accuracy: 0.5174 - val_loss: 4.8318 - val_accuracy: 0.5000 - lr: 0.0010\n",
      "Epoch 265/10000\n",
      "70/70 [==============================] - 1s 7ms/step - loss: 3.8955 - accuracy: 0.5209 - val_loss: 4.8698 - val_accuracy: 0.4830 - lr: 0.0010\n",
      "Epoch 266/10000\n",
      "70/70 [==============================] - 0s 7ms/step - loss: 3.8660 - accuracy: 0.5137 - val_loss: 4.8139 - val_accuracy: 0.4670 - lr: 0.0010\n",
      "Epoch 267/10000\n",
      "70/70 [==============================] - 1s 7ms/step - loss: 3.8700 - accuracy: 0.5113 - val_loss: 4.7972 - val_accuracy: 0.4590 - lr: 0.0010\n",
      "Epoch 268/10000\n",
      "70/70 [==============================] - 0s 7ms/step - loss: 3.8635 - accuracy: 0.5180 - val_loss: 4.8477 - val_accuracy: 0.4770 - lr: 0.0010\n",
      "Epoch 269/10000\n",
      "70/70 [==============================] - 0s 7ms/step - loss: 3.8909 - accuracy: 0.5150 - val_loss: 4.7819 - val_accuracy: 0.4800 - lr: 0.0010\n",
      "Epoch 270/10000\n",
      "70/70 [==============================] - 0s 7ms/step - loss: 3.8264 - accuracy: 0.5180 - val_loss: 4.8502 - val_accuracy: 0.4820 - lr: 0.0010\n",
      "Epoch 271/10000\n",
      "70/70 [==============================] - 0s 7ms/step - loss: 3.8843 - accuracy: 0.5206 - val_loss: 4.8677 - val_accuracy: 0.4460 - lr: 0.0010\n",
      "Epoch 272/10000\n",
      "70/70 [==============================] - 0s 7ms/step - loss: 3.8650 - accuracy: 0.5169 - val_loss: 4.7639 - val_accuracy: 0.4840 - lr: 0.0010\n",
      "Epoch 273/10000\n",
      "70/70 [==============================] - 0s 7ms/step - loss: 3.8334 - accuracy: 0.5239 - val_loss: 4.9610 - val_accuracy: 0.4500 - lr: 0.0010\n",
      "Epoch 274/10000\n",
      "70/70 [==============================] - 0s 7ms/step - loss: 3.8289 - accuracy: 0.5186 - val_loss: 4.7921 - val_accuracy: 0.4780 - lr: 0.0010\n",
      "Epoch 275/10000\n",
      "70/70 [==============================] - 0s 7ms/step - loss: 3.8245 - accuracy: 0.5197 - val_loss: 4.7749 - val_accuracy: 0.4660 - lr: 0.0010\n",
      "Epoch 276/10000\n",
      "70/70 [==============================] - 0s 7ms/step - loss: 3.7804 - accuracy: 0.5234 - val_loss: 4.8191 - val_accuracy: 0.4770 - lr: 0.0010\n",
      "Epoch 277/10000\n",
      "70/70 [==============================] - 0s 7ms/step - loss: 3.8031 - accuracy: 0.5251 - val_loss: 4.8030 - val_accuracy: 0.4780 - lr: 0.0010\n",
      "Epoch 278/10000\n",
      "70/70 [==============================] - 0s 7ms/step - loss: 3.7487 - accuracy: 0.5236 - val_loss: 4.7992 - val_accuracy: 0.4730 - lr: 0.0010\n",
      "Epoch 279/10000\n",
      "70/70 [==============================] - 0s 7ms/step - loss: 3.8137 - accuracy: 0.5237 - val_loss: 4.8756 - val_accuracy: 0.4650 - lr: 0.0010\n",
      "Epoch 280/10000\n",
      "70/70 [==============================] - 0s 7ms/step - loss: 3.7729 - accuracy: 0.5190 - val_loss: 4.8824 - val_accuracy: 0.4580 - lr: 0.0010\n",
      "Epoch 281/10000\n",
      "70/70 [==============================] - 0s 7ms/step - loss: 3.7865 - accuracy: 0.5210 - val_loss: 4.8232 - val_accuracy: 0.4760 - lr: 0.0010\n",
      "Epoch 282/10000\n",
      "70/70 [==============================] - 0s 7ms/step - loss: 3.8462 - accuracy: 0.5209 - val_loss: 4.8134 - val_accuracy: 0.4880 - lr: 0.0010\n",
      "Epoch 283/10000\n",
      "70/70 [==============================] - 0s 7ms/step - loss: 3.7488 - accuracy: 0.5271 - val_loss: 4.9170 - val_accuracy: 0.4540 - lr: 0.0010\n",
      "Epoch 284/10000\n",
      "70/70 [==============================] - 0s 7ms/step - loss: 3.8036 - accuracy: 0.5224 - val_loss: 4.8579 - val_accuracy: 0.4620 - lr: 0.0010\n",
      "Epoch 285/10000\n",
      "70/70 [==============================] - 0s 7ms/step - loss: 3.7986 - accuracy: 0.5247 - val_loss: 4.8480 - val_accuracy: 0.4520 - lr: 0.0010\n",
      "Epoch 286/10000\n",
      "70/70 [==============================] - 0s 7ms/step - loss: 3.7748 - accuracy: 0.5233 - val_loss: 4.8690 - val_accuracy: 0.4610 - lr: 0.0010\n",
      "Epoch 287/10000\n",
      "70/70 [==============================] - 0s 7ms/step - loss: 3.7080 - accuracy: 0.5310 - val_loss: 4.9063 - val_accuracy: 0.4750 - lr: 0.0010\n",
      "Epoch 288/10000\n",
      "70/70 [==============================] - 0s 7ms/step - loss: 3.7203 - accuracy: 0.5334 - val_loss: 4.9615 - val_accuracy: 0.4630 - lr: 0.0010\n",
      "Epoch 289/10000\n",
      "70/70 [==============================] - 0s 7ms/step - loss: 3.7527 - accuracy: 0.5327 - val_loss: 4.9383 - val_accuracy: 0.4660 - lr: 0.0010\n",
      "Epoch 290/10000\n",
      "70/70 [==============================] - 0s 7ms/step - loss: 3.7251 - accuracy: 0.5250 - val_loss: 4.8337 - val_accuracy: 0.4620 - lr: 0.0010\n",
      "Epoch 291/10000\n",
      "70/70 [==============================] - 0s 7ms/step - loss: 3.7415 - accuracy: 0.5303 - val_loss: 4.8501 - val_accuracy: 0.4760 - lr: 0.0010\n",
      "Epoch 292/10000\n",
      "70/70 [==============================] - 0s 7ms/step - loss: 3.6913 - accuracy: 0.5311 - val_loss: 4.8620 - val_accuracy: 0.4720 - lr: 0.0010\n",
      "Epoch 293/10000\n",
      "70/70 [==============================] - 0s 7ms/step - loss: 3.7039 - accuracy: 0.5249 - val_loss: 4.9393 - val_accuracy: 0.4640 - lr: 0.0010\n",
      "Epoch 294/10000\n",
      "70/70 [==============================] - 0s 7ms/step - loss: 3.7031 - accuracy: 0.5200 - val_loss: 4.9265 - val_accuracy: 0.4740 - lr: 0.0010\n",
      "Epoch 295/10000\n",
      "70/70 [==============================] - 0s 7ms/step - loss: 3.7092 - accuracy: 0.5334 - val_loss: 4.8645 - val_accuracy: 0.4640 - lr: 0.0010\n",
      "Epoch 296/10000\n",
      "70/70 [==============================] - 0s 7ms/step - loss: 3.7106 - accuracy: 0.5254 - val_loss: 4.9671 - val_accuracy: 0.4690 - lr: 0.0010\n",
      "Epoch 297/10000\n",
      "70/70 [==============================] - 0s 7ms/step - loss: 3.7128 - accuracy: 0.5327 - val_loss: 4.9252 - val_accuracy: 0.4710 - lr: 0.0010\n",
      "Epoch 298/10000\n",
      "70/70 [==============================] - 0s 7ms/step - loss: 3.7101 - accuracy: 0.5279 - val_loss: 4.8993 - val_accuracy: 0.4710 - lr: 0.0010\n",
      "Epoch 299/10000\n",
      "70/70 [==============================] - 0s 7ms/step - loss: 3.7085 - accuracy: 0.5276 - val_loss: 4.8787 - val_accuracy: 0.4750 - lr: 0.0010\n",
      "Epoch 300/10000\n",
      "70/70 [==============================] - 0s 7ms/step - loss: 3.6632 - accuracy: 0.5336 - val_loss: 4.8973 - val_accuracy: 0.4780 - lr: 0.0010\n",
      "Epoch 301/10000\n",
      "70/70 [==============================] - 0s 7ms/step - loss: 3.6869 - accuracy: 0.5344 - val_loss: 4.8911 - val_accuracy: 0.4660 - lr: 0.0010\n",
      "Epoch 302/10000\n",
      "70/70 [==============================] - 0s 7ms/step - loss: 3.7350 - accuracy: 0.5267 - val_loss: 5.0131 - val_accuracy: 0.4700 - lr: 0.0010\n",
      "Epoch 303/10000\n",
      "70/70 [==============================] - 0s 7ms/step - loss: 3.6322 - accuracy: 0.5401 - val_loss: 4.9988 - val_accuracy: 0.4620 - lr: 0.0010\n",
      "Epoch 304/10000\n",
      "70/70 [==============================] - 0s 7ms/step - loss: 3.6684 - accuracy: 0.5334 - val_loss: 4.9359 - val_accuracy: 0.4630 - lr: 0.0010\n",
      "Epoch 305/10000\n",
      "70/70 [==============================] - 0s 7ms/step - loss: 3.6188 - accuracy: 0.5371 - val_loss: 4.9429 - val_accuracy: 0.4620 - lr: 0.0010\n",
      "Epoch 306/10000\n",
      "70/70 [==============================] - 0s 7ms/step - loss: 3.6169 - accuracy: 0.5339 - val_loss: 4.9105 - val_accuracy: 0.4620 - lr: 0.0010\n",
      "Epoch 307/10000\n",
      "70/70 [==============================] - 0s 7ms/step - loss: 3.6285 - accuracy: 0.5361 - val_loss: 5.0325 - val_accuracy: 0.4770 - lr: 0.0010\n",
      "Epoch 308/10000\n",
      "70/70 [==============================] - 0s 7ms/step - loss: 3.6165 - accuracy: 0.5277 - val_loss: 5.0100 - val_accuracy: 0.4460 - lr: 0.0010\n",
      "Epoch 309/10000\n",
      "70/70 [==============================] - 0s 7ms/step - loss: 3.6170 - accuracy: 0.5324 - val_loss: 5.0280 - val_accuracy: 0.4460 - lr: 0.0010\n",
      "Epoch 310/10000\n",
      "70/70 [==============================] - 0s 7ms/step - loss: 3.6311 - accuracy: 0.5299 - val_loss: 5.0190 - val_accuracy: 0.4610 - lr: 0.0010\n",
      "Epoch 311/10000\n",
      "70/70 [==============================] - 0s 7ms/step - loss: 3.5783 - accuracy: 0.5381 - val_loss: 4.9745 - val_accuracy: 0.4660 - lr: 0.0010\n",
      "Epoch 312/10000\n",
      "70/70 [==============================] - 0s 7ms/step - loss: 3.6244 - accuracy: 0.5257 - val_loss: 5.1014 - val_accuracy: 0.4490 - lr: 0.0010\n"
     ]
    },
    {
     "name": "stdout",
     "output_type": "stream",
     "text": [
      "Epoch 313/10000\n",
      "70/70 [==============================] - 0s 7ms/step - loss: 3.6119 - accuracy: 0.5326 - val_loss: 5.1748 - val_accuracy: 0.4510 - lr: 0.0010\n",
      "Epoch 314/10000\n",
      "70/70 [==============================] - 0s 7ms/step - loss: 3.6236 - accuracy: 0.5323 - val_loss: 5.0173 - val_accuracy: 0.4610 - lr: 0.0010\n",
      "Epoch 315/10000\n",
      "70/70 [==============================] - 0s 7ms/step - loss: 3.6373 - accuracy: 0.5369 - val_loss: 4.9895 - val_accuracy: 0.4540 - lr: 0.0010\n",
      "Epoch 316/10000\n",
      "70/70 [==============================] - 0s 7ms/step - loss: 3.6037 - accuracy: 0.5387 - val_loss: 5.0128 - val_accuracy: 0.4740 - lr: 0.0010\n",
      "Epoch 317/10000\n",
      "70/70 [==============================] - 0s 7ms/step - loss: 3.6035 - accuracy: 0.5344 - val_loss: 5.0686 - val_accuracy: 0.4470 - lr: 0.0010\n",
      "Epoch 318/10000\n",
      "70/70 [==============================] - 0s 7ms/step - loss: 3.6550 - accuracy: 0.5296 - val_loss: 5.0269 - val_accuracy: 0.4480 - lr: 0.0010\n",
      "Epoch 319/10000\n",
      "70/70 [==============================] - 0s 7ms/step - loss: 3.5928 - accuracy: 0.5304 - val_loss: 5.0298 - val_accuracy: 0.4590 - lr: 0.0010\n",
      "Epoch 320/10000\n",
      "70/70 [==============================] - 0s 7ms/step - loss: 3.5915 - accuracy: 0.5291 - val_loss: 5.0498 - val_accuracy: 0.4610 - lr: 0.0010\n",
      "Epoch 321/10000\n",
      "70/70 [==============================] - 0s 7ms/step - loss: 3.5864 - accuracy: 0.5257 - val_loss: 5.0361 - val_accuracy: 0.4490 - lr: 0.0010\n",
      "Epoch 322/10000\n",
      "70/70 [==============================] - 0s 7ms/step - loss: 3.6076 - accuracy: 0.5273 - val_loss: 5.0354 - val_accuracy: 0.4510 - lr: 0.0010\n",
      "Epoch 323/10000\n",
      "70/70 [==============================] - 0s 7ms/step - loss: 3.6030 - accuracy: 0.5339 - val_loss: 5.1076 - val_accuracy: 0.4400 - lr: 0.0010\n",
      "Epoch 324/10000\n",
      "70/70 [==============================] - 0s 7ms/step - loss: 3.5492 - accuracy: 0.5386 - val_loss: 5.1001 - val_accuracy: 0.4550 - lr: 0.0010\n",
      "Epoch 325/10000\n",
      "70/70 [==============================] - 0s 7ms/step - loss: 3.5663 - accuracy: 0.5361 - val_loss: 5.0513 - val_accuracy: 0.4640 - lr: 0.0010\n",
      "Epoch 326/10000\n",
      "70/70 [==============================] - 0s 7ms/step - loss: 3.5447 - accuracy: 0.5280 - val_loss: 5.0397 - val_accuracy: 0.4550 - lr: 0.0010\n",
      "Epoch 327/10000\n",
      "70/70 [==============================] - 0s 7ms/step - loss: 3.5777 - accuracy: 0.5303 - val_loss: 5.0454 - val_accuracy: 0.4550 - lr: 0.0010\n",
      "Epoch 328/10000\n",
      "70/70 [==============================] - 0s 7ms/step - loss: 3.5396 - accuracy: 0.5384 - val_loss: 5.1275 - val_accuracy: 0.4580 - lr: 0.0010\n",
      "Epoch 329/10000\n",
      "70/70 [==============================] - 0s 7ms/step - loss: 3.6456 - accuracy: 0.5310 - val_loss: 5.0980 - val_accuracy: 0.4540 - lr: 0.0010\n",
      "Epoch 330/10000\n",
      "70/70 [==============================] - 0s 7ms/step - loss: 3.5565 - accuracy: 0.5337 - val_loss: 5.0140 - val_accuracy: 0.4400 - lr: 0.0010\n",
      "Epoch 331/10000\n",
      "70/70 [==============================] - 0s 7ms/step - loss: 3.5308 - accuracy: 0.5414 - val_loss: 5.0177 - val_accuracy: 0.4490 - lr: 0.0010\n",
      "Epoch 332/10000\n",
      "70/70 [==============================] - 0s 7ms/step - loss: 3.5551 - accuracy: 0.5287 - val_loss: 5.1240 - val_accuracy: 0.4380 - lr: 0.0010\n",
      "Epoch 333/10000\n",
      "70/70 [==============================] - 0s 7ms/step - loss: 3.5196 - accuracy: 0.5394 - val_loss: 5.0487 - val_accuracy: 0.4540 - lr: 0.0010\n",
      "Epoch 334/10000\n",
      "70/70 [==============================] - 0s 7ms/step - loss: 3.6040 - accuracy: 0.5279 - val_loss: 5.1647 - val_accuracy: 0.4540 - lr: 0.0010\n",
      "Epoch 335/10000\n",
      "70/70 [==============================] - 0s 7ms/step - loss: 3.5197 - accuracy: 0.5424 - val_loss: 5.0880 - val_accuracy: 0.4370 - lr: 0.0010\n",
      "Epoch 336/10000\n",
      "70/70 [==============================] - 0s 7ms/step - loss: 3.4760 - accuracy: 0.5417 - val_loss: 5.1292 - val_accuracy: 0.4320 - lr: 0.0010\n",
      "Epoch 337/10000\n",
      "70/70 [==============================] - 0s 7ms/step - loss: 3.5121 - accuracy: 0.5313 - val_loss: 5.1105 - val_accuracy: 0.4440 - lr: 0.0010\n",
      "Epoch 338/10000\n",
      "70/70 [==============================] - 0s 7ms/step - loss: 3.5098 - accuracy: 0.5400 - val_loss: 5.1216 - val_accuracy: 0.4460 - lr: 0.0010\n",
      "Epoch 339/10000\n",
      "70/70 [==============================] - 0s 6ms/step - loss: 3.5296 - accuracy: 0.5396 - val_loss: 5.1049 - val_accuracy: 0.4400 - lr: 0.0010\n",
      "Epoch 340/10000\n",
      "70/70 [==============================] - 0s 7ms/step - loss: 3.5307 - accuracy: 0.5374 - val_loss: 5.0695 - val_accuracy: 0.4500 - lr: 0.0010\n",
      "Epoch 341/10000\n",
      "70/70 [==============================] - 0s 7ms/step - loss: 3.5071 - accuracy: 0.5406 - val_loss: 5.0687 - val_accuracy: 0.4420 - lr: 0.0010\n",
      "Epoch 342/10000\n",
      "70/70 [==============================] - 0s 7ms/step - loss: 3.4843 - accuracy: 0.5416 - val_loss: 5.1139 - val_accuracy: 0.4460 - lr: 0.0010\n",
      "Epoch 343/10000\n",
      "70/70 [==============================] - 0s 7ms/step - loss: 3.5128 - accuracy: 0.5429 - val_loss: 5.1404 - val_accuracy: 0.4360 - lr: 0.0010\n",
      "Epoch 344/10000\n",
      "70/70 [==============================] - 0s 7ms/step - loss: 3.4790 - accuracy: 0.5456 - val_loss: 5.1756 - val_accuracy: 0.4460 - lr: 0.0010\n",
      "Epoch 345/10000\n",
      "70/70 [==============================] - 0s 7ms/step - loss: 3.4428 - accuracy: 0.5430 - val_loss: 5.1255 - val_accuracy: 0.4510 - lr: 0.0010\n",
      "Epoch 346/10000\n",
      "70/70 [==============================] - 0s 7ms/step - loss: 3.4805 - accuracy: 0.5446 - val_loss: 5.1696 - val_accuracy: 0.4460 - lr: 0.0010\n",
      "Epoch 347/10000\n",
      "70/70 [==============================] - 0s 7ms/step - loss: 3.4695 - accuracy: 0.5447 - val_loss: 5.2112 - val_accuracy: 0.4280 - lr: 0.0010\n",
      "Epoch 348/10000\n",
      "70/70 [==============================] - 0s 7ms/step - loss: 3.4911 - accuracy: 0.5431 - val_loss: 5.1699 - val_accuracy: 0.4570 - lr: 0.0010\n",
      "Epoch 349/10000\n",
      "70/70 [==============================] - 0s 7ms/step - loss: 3.5062 - accuracy: 0.5483 - val_loss: 5.1891 - val_accuracy: 0.4440 - lr: 0.0010\n",
      "Epoch 350/10000\n",
      "70/70 [==============================] - 0s 7ms/step - loss: 3.4545 - accuracy: 0.5383 - val_loss: 5.0923 - val_accuracy: 0.4510 - lr: 0.0010\n",
      "Epoch 351/10000\n",
      "70/70 [==============================] - 0s 7ms/step - loss: 3.4367 - accuracy: 0.5481 - val_loss: 5.1427 - val_accuracy: 0.4430 - lr: 0.0010\n",
      "Epoch 352/10000\n",
      "70/70 [==============================] - 0s 7ms/step - loss: 3.4522 - accuracy: 0.5439 - val_loss: 5.2348 - val_accuracy: 0.4360 - lr: 0.0010\n",
      "Epoch 353/10000\n",
      "70/70 [==============================] - 0s 7ms/step - loss: 3.3922 - accuracy: 0.5493 - val_loss: 5.1632 - val_accuracy: 0.4350 - lr: 0.0010\n",
      "Epoch 354/10000\n",
      "70/70 [==============================] - 0s 7ms/step - loss: 3.4664 - accuracy: 0.5519 - val_loss: 5.1232 - val_accuracy: 0.4400 - lr: 0.0010\n",
      "Epoch 355/10000\n",
      "70/70 [==============================] - 0s 7ms/step - loss: 3.4436 - accuracy: 0.5420 - val_loss: 5.2496 - val_accuracy: 0.4480 - lr: 0.0010\n",
      "Epoch 356/10000\n",
      "70/70 [==============================] - 0s 7ms/step - loss: 3.4357 - accuracy: 0.5501 - val_loss: 5.2461 - val_accuracy: 0.4430 - lr: 0.0010\n",
      "Epoch 357/10000\n",
      "70/70 [==============================] - 0s 7ms/step - loss: 3.4305 - accuracy: 0.5503 - val_loss: 5.1179 - val_accuracy: 0.4320 - lr: 0.0010\n",
      "Epoch 358/10000\n",
      "70/70 [==============================] - 0s 7ms/step - loss: 3.4570 - accuracy: 0.5346 - val_loss: 5.2008 - val_accuracy: 0.4310 - lr: 0.0010\n",
      "Epoch 359/10000\n",
      "70/70 [==============================] - 0s 7ms/step - loss: 3.4109 - accuracy: 0.5414 - val_loss: 5.1522 - val_accuracy: 0.4450 - lr: 0.0010\n",
      "Epoch 360/10000\n",
      "70/70 [==============================] - 0s 7ms/step - loss: 3.3772 - accuracy: 0.5510 - val_loss: 5.2037 - val_accuracy: 0.4430 - lr: 0.0010\n",
      "Epoch 361/10000\n",
      "70/70 [==============================] - 1s 12ms/step - loss: 3.4125 - accuracy: 0.5453 - val_loss: 5.3107 - val_accuracy: 0.4550 - lr: 0.0010\n",
      "Epoch 362/10000\n",
      "70/70 [==============================] - 1s 7ms/step - loss: 3.4531 - accuracy: 0.5460 - val_loss: 5.2149 - val_accuracy: 0.4560 - lr: 0.0010\n",
      "Epoch 363/10000\n",
      "70/70 [==============================] - 0s 7ms/step - loss: 3.4180 - accuracy: 0.5517 - val_loss: 5.2026 - val_accuracy: 0.4530 - lr: 0.0010\n",
      "Epoch 364/10000\n",
      "70/70 [==============================] - 1s 7ms/step - loss: 3.4268 - accuracy: 0.5473 - val_loss: 5.2637 - val_accuracy: 0.4540 - lr: 0.0010\n"
     ]
    },
    {
     "name": "stdout",
     "output_type": "stream",
     "text": [
      "Epoch 365/10000\n",
      "70/70 [==============================] - 0s 7ms/step - loss: 3.3689 - accuracy: 0.5539 - val_loss: 5.3185 - val_accuracy: 0.4190 - lr: 0.0010\n",
      "Epoch 366/10000\n",
      "70/70 [==============================] - 1s 7ms/step - loss: 3.3663 - accuracy: 0.5479 - val_loss: 5.1952 - val_accuracy: 0.4390 - lr: 0.0010\n",
      "Epoch 367/10000\n",
      "70/70 [==============================] - 1s 8ms/step - loss: 3.3768 - accuracy: 0.5484 - val_loss: 5.2059 - val_accuracy: 0.4450 - lr: 0.0010\n",
      "Epoch 368/10000\n",
      "70/70 [==============================] - 1s 8ms/step - loss: 3.4005 - accuracy: 0.5437 - val_loss: 5.2264 - val_accuracy: 0.4420 - lr: 0.0010\n",
      "Epoch 369/10000\n",
      "70/70 [==============================] - 1s 8ms/step - loss: 3.4146 - accuracy: 0.5414 - val_loss: 5.2639 - val_accuracy: 0.4680 - lr: 0.0010\n",
      "Epoch 370/10000\n",
      "70/70 [==============================] - 1s 8ms/step - loss: 3.3147 - accuracy: 0.5497 - val_loss: 5.2141 - val_accuracy: 0.4360 - lr: 0.0010\n",
      "Epoch 371/10000\n",
      "70/70 [==============================] - 1s 7ms/step - loss: 3.4204 - accuracy: 0.5480 - val_loss: 5.2877 - val_accuracy: 0.4240 - lr: 0.0010\n",
      "Epoch 372/10000\n",
      "70/70 [==============================] - 0s 7ms/step - loss: 3.3836 - accuracy: 0.5509 - val_loss: 5.2021 - val_accuracy: 0.4520 - lr: 0.0010\n",
      "Epoch 373/10000\n",
      "70/70 [==============================] - 1s 7ms/step - loss: 3.3382 - accuracy: 0.5507 - val_loss: 5.2773 - val_accuracy: 0.4220 - lr: 0.0010\n",
      "Epoch 374/10000\n",
      "70/70 [==============================] - 1s 7ms/step - loss: 3.3596 - accuracy: 0.5537 - val_loss: 5.2632 - val_accuracy: 0.4320 - lr: 0.0010\n",
      "Epoch 375/10000\n",
      "70/70 [==============================] - 0s 7ms/step - loss: 3.3453 - accuracy: 0.5613 - val_loss: 5.3449 - val_accuracy: 0.4410 - lr: 0.0010\n",
      "Epoch 376/10000\n",
      "70/70 [==============================] - 0s 7ms/step - loss: 3.3725 - accuracy: 0.5553 - val_loss: 5.3495 - val_accuracy: 0.4220 - lr: 0.0010\n",
      "Epoch 377/10000\n",
      "70/70 [==============================] - 0s 7ms/step - loss: 3.3614 - accuracy: 0.5507 - val_loss: 5.2999 - val_accuracy: 0.4420 - lr: 0.0010\n",
      "Epoch 378/10000\n",
      "70/70 [==============================] - 0s 7ms/step - loss: 3.3515 - accuracy: 0.5509 - val_loss: 5.2748 - val_accuracy: 0.4410 - lr: 0.0010\n",
      "Epoch 379/10000\n",
      "70/70 [==============================] - 0s 7ms/step - loss: 3.3058 - accuracy: 0.5550 - val_loss: 5.1908 - val_accuracy: 0.4500 - lr: 0.0010\n",
      "Epoch 380/10000\n",
      "70/70 [==============================] - 1s 7ms/step - loss: 3.3267 - accuracy: 0.5576 - val_loss: 5.2928 - val_accuracy: 0.4510 - lr: 0.0010\n",
      "Epoch 381/10000\n",
      "70/70 [==============================] - 1s 7ms/step - loss: 3.2802 - accuracy: 0.5536 - val_loss: 5.2930 - val_accuracy: 0.4420 - lr: 0.0010\n",
      "Epoch 382/10000\n",
      "70/70 [==============================] - 0s 7ms/step - loss: 3.2875 - accuracy: 0.5639 - val_loss: 5.2439 - val_accuracy: 0.4500 - lr: 0.0010\n",
      "Epoch 383/10000\n",
      "70/70 [==============================] - 0s 7ms/step - loss: 3.3454 - accuracy: 0.5566 - val_loss: 5.2678 - val_accuracy: 0.4340 - lr: 0.0010\n",
      "Epoch 384/10000\n",
      "70/70 [==============================] - 0s 7ms/step - loss: 3.3348 - accuracy: 0.5509 - val_loss: 5.4025 - val_accuracy: 0.4310 - lr: 0.0010\n",
      "Epoch 385/10000\n",
      "70/70 [==============================] - 0s 7ms/step - loss: 3.2940 - accuracy: 0.5561 - val_loss: 5.3161 - val_accuracy: 0.4300 - lr: 0.0010\n",
      "Epoch 386/10000\n",
      "70/70 [==============================] - 1s 8ms/step - loss: 3.3373 - accuracy: 0.5524 - val_loss: 5.2822 - val_accuracy: 0.4400 - lr: 0.0010\n",
      "Epoch 387/10000\n",
      "70/70 [==============================] - 0s 7ms/step - loss: 3.2788 - accuracy: 0.5574 - val_loss: 5.3742 - val_accuracy: 0.4170 - lr: 0.0010\n",
      "Epoch 388/10000\n",
      "70/70 [==============================] - 1s 7ms/step - loss: 3.3607 - accuracy: 0.5559 - val_loss: 5.1831 - val_accuracy: 0.4320 - lr: 0.0010\n",
      "Epoch 389/10000\n",
      "70/70 [==============================] - 0s 6ms/step - loss: 3.3234 - accuracy: 0.5551 - val_loss: 5.3475 - val_accuracy: 0.4180 - lr: 0.0010\n",
      "Epoch 390/10000\n",
      "70/70 [==============================] - 0s 7ms/step - loss: 3.2991 - accuracy: 0.5563 - val_loss: 5.3084 - val_accuracy: 0.4350 - lr: 0.0010\n",
      "Epoch 391/10000\n",
      "70/70 [==============================] - 0s 6ms/step - loss: 3.3075 - accuracy: 0.5541 - val_loss: 5.2804 - val_accuracy: 0.4280 - lr: 0.0010\n",
      "Epoch 392/10000\n",
      "70/70 [==============================] - 0s 7ms/step - loss: 3.2594 - accuracy: 0.5537 - val_loss: 5.3770 - val_accuracy: 0.4270 - lr: 0.0010\n",
      "Epoch 393/10000\n",
      "70/70 [==============================] - 0s 7ms/step - loss: 3.2163 - accuracy: 0.5650 - val_loss: 5.2817 - val_accuracy: 0.4340 - lr: 0.0010\n",
      "Epoch 394/10000\n",
      "70/70 [==============================] - 0s 7ms/step - loss: 3.2683 - accuracy: 0.5554 - val_loss: 5.3531 - val_accuracy: 0.4270 - lr: 0.0010\n",
      "Epoch 395/10000\n",
      "70/70 [==============================] - 0s 7ms/step - loss: 3.2401 - accuracy: 0.5626 - val_loss: 5.3928 - val_accuracy: 0.4340 - lr: 0.0010\n",
      "Epoch 396/10000\n",
      "70/70 [==============================] - 0s 7ms/step - loss: 3.3236 - accuracy: 0.5553 - val_loss: 5.3043 - val_accuracy: 0.4340 - lr: 0.0010\n",
      "Epoch 397/10000\n",
      "70/70 [==============================] - 0s 7ms/step - loss: 3.2600 - accuracy: 0.5520 - val_loss: 5.3791 - val_accuracy: 0.4240 - lr: 0.0010\n",
      "Epoch 398/10000\n",
      "70/70 [==============================] - 0s 7ms/step - loss: 3.2352 - accuracy: 0.5604 - val_loss: 5.2942 - val_accuracy: 0.4380 - lr: 0.0010\n",
      "Epoch 399/10000\n",
      "70/70 [==============================] - 0s 7ms/step - loss: 3.2618 - accuracy: 0.5601 - val_loss: 5.3184 - val_accuracy: 0.4430 - lr: 0.0010\n",
      "Epoch 400/10000\n",
      "70/70 [==============================] - 0s 7ms/step - loss: 3.2796 - accuracy: 0.5530 - val_loss: 5.3596 - val_accuracy: 0.4180 - lr: 0.0010\n",
      "Epoch 401/10000\n",
      "70/70 [==============================] - 1s 8ms/step - loss: 3.2696 - accuracy: 0.5507 - val_loss: 5.3244 - val_accuracy: 0.4330 - lr: 0.0010\n",
      "Epoch 402/10000\n",
      "70/70 [==============================] - 1s 7ms/step - loss: 3.2572 - accuracy: 0.5626 - val_loss: 5.4145 - val_accuracy: 0.4370 - lr: 0.0010\n",
      "Epoch 403/10000\n",
      "70/70 [==============================] - 1s 7ms/step - loss: 3.2514 - accuracy: 0.5484 - val_loss: 5.2758 - val_accuracy: 0.4490 - lr: 0.0010\n",
      "Epoch 404/10000\n",
      "70/70 [==============================] - 1s 8ms/step - loss: 3.2394 - accuracy: 0.5557 - val_loss: 5.3294 - val_accuracy: 0.4220 - lr: 0.0010\n",
      "Epoch 405/10000\n",
      "70/70 [==============================] - 1s 7ms/step - loss: 3.2252 - accuracy: 0.5566 - val_loss: 5.2582 - val_accuracy: 0.4310 - lr: 0.0010\n",
      "Epoch 406/10000\n",
      "70/70 [==============================] - 0s 6ms/step - loss: 3.2347 - accuracy: 0.5576 - val_loss: 5.3864 - val_accuracy: 0.4320 - lr: 0.0010\n",
      "Epoch 407/10000\n",
      "70/70 [==============================] - 0s 7ms/step - loss: 3.1919 - accuracy: 0.5551 - val_loss: 5.3694 - val_accuracy: 0.4300 - lr: 0.0010\n",
      "Epoch 408/10000\n",
      "70/70 [==============================] - 1s 7ms/step - loss: 3.2306 - accuracy: 0.5650 - val_loss: 5.3369 - val_accuracy: 0.4450 - lr: 0.0010\n",
      "Epoch 409/10000\n",
      "70/70 [==============================] - 1s 7ms/step - loss: 3.2607 - accuracy: 0.5586 - val_loss: 5.2836 - val_accuracy: 0.4560 - lr: 0.0010\n",
      "Epoch 410/10000\n",
      "70/70 [==============================] - 1s 7ms/step - loss: 3.2173 - accuracy: 0.5610 - val_loss: 5.3829 - val_accuracy: 0.4410 - lr: 0.0010\n",
      "Epoch 411/10000\n",
      "70/70 [==============================] - 1s 8ms/step - loss: 3.2335 - accuracy: 0.5497 - val_loss: 5.4158 - val_accuracy: 0.4430 - lr: 0.0010\n",
      "Epoch 412/10000\n",
      "70/70 [==============================] - 1s 8ms/step - loss: 3.2312 - accuracy: 0.5539 - val_loss: 5.3767 - val_accuracy: 0.4500 - lr: 0.0010\n",
      "Epoch 413/10000\n",
      "70/70 [==============================] - 1s 8ms/step - loss: 3.1877 - accuracy: 0.5549 - val_loss: 5.3286 - val_accuracy: 0.4360 - lr: 0.0010\n",
      "Epoch 414/10000\n",
      "70/70 [==============================] - 0s 7ms/step - loss: 3.2109 - accuracy: 0.5681 - val_loss: 5.3785 - val_accuracy: 0.4500 - lr: 0.0010\n",
      "Epoch 415/10000\n",
      "70/70 [==============================] - 0s 7ms/step - loss: 3.1973 - accuracy: 0.5574 - val_loss: 5.3646 - val_accuracy: 0.4530 - lr: 0.0010\n",
      "Epoch 416/10000\n",
      "70/70 [==============================] - 1s 8ms/step - loss: 3.1977 - accuracy: 0.5613 - val_loss: 5.4181 - val_accuracy: 0.4460 - lr: 0.0010\n"
     ]
    },
    {
     "name": "stdout",
     "output_type": "stream",
     "text": [
      "Epoch 417/10000\n",
      "70/70 [==============================] - 0s 6ms/step - loss: 3.2323 - accuracy: 0.5577 - val_loss: 5.3143 - val_accuracy: 0.4310 - lr: 0.0010\n",
      "Epoch 418/10000\n",
      "70/70 [==============================] - 0s 7ms/step - loss: 3.1844 - accuracy: 0.5597 - val_loss: 5.3444 - val_accuracy: 0.4290 - lr: 0.0010\n",
      "Epoch 419/10000\n",
      "70/70 [==============================] - 0s 7ms/step - loss: 3.1773 - accuracy: 0.5580 - val_loss: 5.3786 - val_accuracy: 0.4280 - lr: 0.0010\n",
      "Epoch 420/10000\n",
      "70/70 [==============================] - 0s 7ms/step - loss: 3.2385 - accuracy: 0.5526 - val_loss: 5.4057 - val_accuracy: 0.4240 - lr: 0.0010\n",
      "Epoch 421/10000\n",
      "70/70 [==============================] - 0s 7ms/step - loss: 3.1963 - accuracy: 0.5563 - val_loss: 5.4229 - val_accuracy: 0.4230 - lr: 0.0010\n",
      "Epoch 422/10000\n",
      "70/70 [==============================] - 0s 7ms/step - loss: 3.2135 - accuracy: 0.5620 - val_loss: 5.3358 - val_accuracy: 0.4440 - lr: 0.0010\n",
      "Epoch 423/10000\n",
      "70/70 [==============================] - 0s 7ms/step - loss: 3.1507 - accuracy: 0.5683 - val_loss: 5.3324 - val_accuracy: 0.4520 - lr: 0.0010\n",
      "Epoch 424/10000\n",
      "70/70 [==============================] - 0s 7ms/step - loss: 3.2077 - accuracy: 0.5516 - val_loss: 5.3691 - val_accuracy: 0.4340 - lr: 0.0010\n",
      "Epoch 425/10000\n",
      "70/70 [==============================] - 1s 7ms/step - loss: 3.1768 - accuracy: 0.5534 - val_loss: 5.4008 - val_accuracy: 0.4350 - lr: 0.0010\n",
      "Epoch 426/10000\n",
      "70/70 [==============================] - 1s 7ms/step - loss: 3.1467 - accuracy: 0.5590 - val_loss: 5.4393 - val_accuracy: 0.4330 - lr: 0.0010\n",
      "Epoch 427/10000\n",
      "70/70 [==============================] - 1s 8ms/step - loss: 3.1667 - accuracy: 0.5579 - val_loss: 5.3537 - val_accuracy: 0.4450 - lr: 0.0010\n",
      "Epoch 428/10000\n",
      "70/70 [==============================] - 1s 7ms/step - loss: 3.1079 - accuracy: 0.5704 - val_loss: 5.3269 - val_accuracy: 0.4250 - lr: 0.0010\n",
      "Epoch 429/10000\n",
      "70/70 [==============================] - 0s 7ms/step - loss: 3.1915 - accuracy: 0.5569 - val_loss: 5.4958 - val_accuracy: 0.4230 - lr: 0.0010\n",
      "Epoch 430/10000\n",
      "70/70 [==============================] - 1s 7ms/step - loss: 3.1547 - accuracy: 0.5601 - val_loss: 5.4493 - val_accuracy: 0.4400 - lr: 0.0010\n",
      "Epoch 431/10000\n",
      "70/70 [==============================] - 0s 7ms/step - loss: 3.1293 - accuracy: 0.5617 - val_loss: 5.4270 - val_accuracy: 0.4330 - lr: 0.0010\n",
      "Epoch 432/10000\n",
      "70/70 [==============================] - 1s 8ms/step - loss: 3.1531 - accuracy: 0.5663 - val_loss: 5.3941 - val_accuracy: 0.4210 - lr: 0.0010\n",
      "Epoch 433/10000\n",
      "70/70 [==============================] - 0s 7ms/step - loss: 3.1306 - accuracy: 0.5634 - val_loss: 5.3715 - val_accuracy: 0.4380 - lr: 0.0010\n",
      "Epoch 434/10000\n",
      "70/70 [==============================] - 1s 7ms/step - loss: 3.1837 - accuracy: 0.5667 - val_loss: 5.3583 - val_accuracy: 0.4350 - lr: 0.0010\n",
      "Epoch 435/10000\n",
      "70/70 [==============================] - 1s 7ms/step - loss: 3.1418 - accuracy: 0.5637 - val_loss: 5.4756 - val_accuracy: 0.4440 - lr: 0.0010\n",
      "Epoch 436/10000\n",
      "70/70 [==============================] - 0s 7ms/step - loss: 3.1321 - accuracy: 0.5624 - val_loss: 5.4875 - val_accuracy: 0.4300 - lr: 0.0010\n",
      "Epoch 437/10000\n",
      "70/70 [==============================] - 1s 8ms/step - loss: 3.1490 - accuracy: 0.5661 - val_loss: 5.5379 - val_accuracy: 0.4390 - lr: 0.0010\n",
      "Epoch 438/10000\n",
      "70/70 [==============================] - 0s 7ms/step - loss: 3.1523 - accuracy: 0.5559 - val_loss: 5.3949 - val_accuracy: 0.4210 - lr: 0.0010\n",
      "Epoch 439/10000\n",
      "70/70 [==============================] - 1s 8ms/step - loss: 3.1972 - accuracy: 0.5581 - val_loss: 5.4615 - val_accuracy: 0.4510 - lr: 0.0010\n",
      "Epoch 440/10000\n",
      "70/70 [==============================] - 0s 7ms/step - loss: 3.1688 - accuracy: 0.5699 - val_loss: 5.3353 - val_accuracy: 0.4330 - lr: 0.0010\n",
      "Epoch 441/10000\n",
      "70/70 [==============================] - 0s 7ms/step - loss: 3.1153 - accuracy: 0.5636 - val_loss: 5.4423 - val_accuracy: 0.4440 - lr: 0.0010\n",
      "Epoch 442/10000\n",
      "70/70 [==============================] - 0s 7ms/step - loss: 3.1560 - accuracy: 0.5626 - val_loss: 5.3300 - val_accuracy: 0.4540 - lr: 0.0010\n",
      "Epoch 443/10000\n",
      "70/70 [==============================] - 0s 6ms/step - loss: 3.0927 - accuracy: 0.5601 - val_loss: 5.4537 - val_accuracy: 0.4490 - lr: 0.0010\n",
      "Epoch 444/10000\n",
      "70/70 [==============================] - 0s 7ms/step - loss: 3.1239 - accuracy: 0.5629 - val_loss: 5.4048 - val_accuracy: 0.4280 - lr: 0.0010\n",
      "Epoch 445/10000\n",
      "70/70 [==============================] - 0s 7ms/step - loss: 3.1008 - accuracy: 0.5606 - val_loss: 5.4191 - val_accuracy: 0.4340 - lr: 0.0010\n",
      "Epoch 446/10000\n",
      "70/70 [==============================] - 1s 7ms/step - loss: 3.1421 - accuracy: 0.5691 - val_loss: 5.4501 - val_accuracy: 0.4370 - lr: 0.0010\n",
      "Epoch 447/10000\n",
      "70/70 [==============================] - 0s 7ms/step - loss: 3.1522 - accuracy: 0.5606 - val_loss: 5.3908 - val_accuracy: 0.4250 - lr: 0.0010\n",
      "Epoch 448/10000\n",
      "70/70 [==============================] - 0s 7ms/step - loss: 3.1411 - accuracy: 0.5687 - val_loss: 5.4227 - val_accuracy: 0.4370 - lr: 0.0010\n",
      "Epoch 449/10000\n",
      "70/70 [==============================] - 1s 7ms/step - loss: 3.1313 - accuracy: 0.5483 - val_loss: 5.4198 - val_accuracy: 0.4330 - lr: 0.0010\n",
      "Epoch 450/10000\n",
      "70/70 [==============================] - 0s 7ms/step - loss: 3.1027 - accuracy: 0.5639 - val_loss: 5.3873 - val_accuracy: 0.4300 - lr: 0.0010\n",
      "Epoch 451/10000\n",
      "70/70 [==============================] - 0s 6ms/step - loss: 3.1230 - accuracy: 0.5593 - val_loss: 5.4143 - val_accuracy: 0.4350 - lr: 0.0010\n",
      "Epoch 452/10000\n",
      "70/70 [==============================] - 0s 7ms/step - loss: 3.1250 - accuracy: 0.5594 - val_loss: 5.3923 - val_accuracy: 0.4200 - lr: 0.0010\n",
      "Epoch 453/10000\n",
      "70/70 [==============================] - 0s 7ms/step - loss: 3.0861 - accuracy: 0.5593 - val_loss: 5.4095 - val_accuracy: 0.4290 - lr: 0.0010\n",
      "Epoch 454/10000\n",
      "70/70 [==============================] - 0s 6ms/step - loss: 3.1379 - accuracy: 0.5656 - val_loss: 5.3840 - val_accuracy: 0.4360 - lr: 0.0010\n",
      "Epoch 455/10000\n",
      "70/70 [==============================] - 0s 7ms/step - loss: 3.0486 - accuracy: 0.5757 - val_loss: 5.4844 - val_accuracy: 0.4370 - lr: 0.0010\n",
      "Epoch 456/10000\n",
      "70/70 [==============================] - 0s 7ms/step - loss: 3.0746 - accuracy: 0.5684 - val_loss: 5.4241 - val_accuracy: 0.4390 - lr: 0.0010\n",
      "Epoch 457/10000\n",
      "70/70 [==============================] - 1s 7ms/step - loss: 3.1300 - accuracy: 0.5630 - val_loss: 5.5425 - val_accuracy: 0.4030 - lr: 0.0010\n",
      "Epoch 458/10000\n",
      "70/70 [==============================] - 0s 7ms/step - loss: 3.1033 - accuracy: 0.5667 - val_loss: 5.4385 - val_accuracy: 0.4230 - lr: 0.0010\n",
      "Epoch 459/10000\n",
      "70/70 [==============================] - 1s 7ms/step - loss: 3.0894 - accuracy: 0.5677 - val_loss: 5.4533 - val_accuracy: 0.4370 - lr: 0.0010\n",
      "Epoch 460/10000\n",
      "70/70 [==============================] - 0s 7ms/step - loss: 3.0377 - accuracy: 0.5659 - val_loss: 5.4693 - val_accuracy: 0.4380 - lr: 0.0010\n",
      "Epoch 461/10000\n",
      "70/70 [==============================] - 0s 7ms/step - loss: 3.0366 - accuracy: 0.5787 - val_loss: 5.6450 - val_accuracy: 0.4300 - lr: 0.0010\n",
      "Epoch 462/10000\n",
      "70/70 [==============================] - 0s 7ms/step - loss: 3.1095 - accuracy: 0.5644 - val_loss: 5.6079 - val_accuracy: 0.4240 - lr: 0.0010\n",
      "Epoch 463/10000\n",
      "70/70 [==============================] - 0s 7ms/step - loss: 3.0785 - accuracy: 0.5611 - val_loss: 5.4649 - val_accuracy: 0.4350 - lr: 0.0010\n",
      "Epoch 464/10000\n",
      "70/70 [==============================] - 0s 7ms/step - loss: 3.1038 - accuracy: 0.5709 - val_loss: 5.4564 - val_accuracy: 0.4350 - lr: 0.0010\n",
      "Epoch 465/10000\n",
      "70/70 [==============================] - 1s 7ms/step - loss: 3.0267 - accuracy: 0.5764 - val_loss: 5.5224 - val_accuracy: 0.4150 - lr: 0.0010\n",
      "Epoch 466/10000\n",
      "70/70 [==============================] - 1s 8ms/step - loss: 3.0622 - accuracy: 0.5680 - val_loss: 5.4814 - val_accuracy: 0.4280 - lr: 0.0010\n",
      "Epoch 467/10000\n",
      "70/70 [==============================] - 0s 7ms/step - loss: 3.0841 - accuracy: 0.5570 - val_loss: 5.4219 - val_accuracy: 0.4350 - lr: 0.0010\n",
      "Epoch 468/10000\n",
      "70/70 [==============================] - 1s 7ms/step - loss: 3.0196 - accuracy: 0.5631 - val_loss: 5.4646 - val_accuracy: 0.4430 - lr: 0.0010\n"
     ]
    },
    {
     "name": "stdout",
     "output_type": "stream",
     "text": [
      "Epoch 469/10000\n",
      "70/70 [==============================] - 0s 7ms/step - loss: 3.0177 - accuracy: 0.5729 - val_loss: 5.4760 - val_accuracy: 0.4320 - lr: 0.0010\n",
      "Epoch 470/10000\n",
      "70/70 [==============================] - 0s 7ms/step - loss: 3.0346 - accuracy: 0.5739 - val_loss: 5.6160 - val_accuracy: 0.4370 - lr: 0.0010\n",
      "Epoch 471/10000\n",
      "70/70 [==============================] - 1s 7ms/step - loss: 3.0235 - accuracy: 0.5687 - val_loss: 5.4285 - val_accuracy: 0.4280 - lr: 0.0010\n",
      "Epoch 472/10000\n",
      "70/70 [==============================] - 0s 7ms/step - loss: 3.0408 - accuracy: 0.5691 - val_loss: 5.5857 - val_accuracy: 0.4170 - lr: 0.0010\n",
      "Epoch 473/10000\n",
      "70/70 [==============================] - 0s 7ms/step - loss: 3.0095 - accuracy: 0.5661 - val_loss: 5.5653 - val_accuracy: 0.4370 - lr: 0.0010\n",
      "Epoch 474/10000\n",
      "70/70 [==============================] - 0s 7ms/step - loss: 3.0747 - accuracy: 0.5637 - val_loss: 5.6021 - val_accuracy: 0.4240 - lr: 0.0010\n",
      "Epoch 475/10000\n",
      "70/70 [==============================] - 1s 7ms/step - loss: 3.0086 - accuracy: 0.5704 - val_loss: 5.4949 - val_accuracy: 0.4340 - lr: 0.0010\n",
      "Epoch 476/10000\n",
      "70/70 [==============================] - 0s 7ms/step - loss: 3.0078 - accuracy: 0.5656 - val_loss: 5.5324 - val_accuracy: 0.4420 - lr: 0.0010\n",
      "Epoch 477/10000\n",
      "70/70 [==============================] - 0s 7ms/step - loss: 2.9881 - accuracy: 0.5766 - val_loss: 5.7299 - val_accuracy: 0.4330 - lr: 0.0010\n",
      "Epoch 478/10000\n",
      "70/70 [==============================] - 0s 7ms/step - loss: 3.0060 - accuracy: 0.5677 - val_loss: 5.6262 - val_accuracy: 0.4220 - lr: 0.0010\n",
      "Epoch 479/10000\n",
      "70/70 [==============================] - 1s 8ms/step - loss: 3.0314 - accuracy: 0.5693 - val_loss: 5.5628 - val_accuracy: 0.4190 - lr: 0.0010\n",
      "Epoch 480/10000\n",
      "70/70 [==============================] - 0s 7ms/step - loss: 3.0745 - accuracy: 0.5624 - val_loss: 5.6041 - val_accuracy: 0.4160 - lr: 0.0010\n",
      "Epoch 481/10000\n",
      "70/70 [==============================] - 0s 7ms/step - loss: 3.0296 - accuracy: 0.5676 - val_loss: 5.5698 - val_accuracy: 0.4140 - lr: 0.0010\n",
      "Epoch 482/10000\n",
      "70/70 [==============================] - 1s 8ms/step - loss: 3.0314 - accuracy: 0.5689 - val_loss: 5.5307 - val_accuracy: 0.4270 - lr: 0.0010\n",
      "Epoch 483/10000\n",
      "70/70 [==============================] - 0s 7ms/step - loss: 3.0506 - accuracy: 0.5641 - val_loss: 5.5586 - val_accuracy: 0.4270 - lr: 0.0010\n",
      "Epoch 484/10000\n",
      "70/70 [==============================] - 0s 7ms/step - loss: 3.0345 - accuracy: 0.5656 - val_loss: 5.5290 - val_accuracy: 0.4420 - lr: 0.0010\n",
      "Epoch 485/10000\n",
      "70/70 [==============================] - 1s 8ms/step - loss: 3.0299 - accuracy: 0.5684 - val_loss: 5.6133 - val_accuracy: 0.4260 - lr: 0.0010\n",
      "Epoch 486/10000\n",
      "70/70 [==============================] - 0s 6ms/step - loss: 2.9737 - accuracy: 0.5803 - val_loss: 5.5892 - val_accuracy: 0.4360 - lr: 0.0010\n",
      "Epoch 487/10000\n",
      "70/70 [==============================] - 0s 6ms/step - loss: 2.9791 - accuracy: 0.5696 - val_loss: 5.5107 - val_accuracy: 0.4280 - lr: 0.0010\n",
      "Epoch 488/10000\n",
      "70/70 [==============================] - 0s 6ms/step - loss: 2.9889 - accuracy: 0.5657 - val_loss: 5.4626 - val_accuracy: 0.4480 - lr: 0.0010\n",
      "Epoch 489/10000\n",
      "70/70 [==============================] - 0s 6ms/step - loss: 2.9964 - accuracy: 0.5710 - val_loss: 5.6003 - val_accuracy: 0.4260 - lr: 0.0010\n",
      "Epoch 490/10000\n",
      "70/70 [==============================] - 0s 7ms/step - loss: 2.9898 - accuracy: 0.5659 - val_loss: 5.5663 - val_accuracy: 0.4360 - lr: 0.0010\n",
      "Epoch 491/10000\n",
      "70/70 [==============================] - 0s 7ms/step - loss: 2.9327 - accuracy: 0.5766 - val_loss: 5.6079 - val_accuracy: 0.4290 - lr: 0.0010\n",
      "Epoch 492/10000\n",
      "70/70 [==============================] - 0s 7ms/step - loss: 2.9758 - accuracy: 0.5763 - val_loss: 5.5921 - val_accuracy: 0.4220 - lr: 0.0010\n",
      "Epoch 493/10000\n",
      "70/70 [==============================] - 0s 6ms/step - loss: 2.9983 - accuracy: 0.5704 - val_loss: 5.5738 - val_accuracy: 0.4230 - lr: 0.0010\n",
      "Epoch 494/10000\n",
      "70/70 [==============================] - 0s 7ms/step - loss: 2.9502 - accuracy: 0.5743 - val_loss: 5.6112 - val_accuracy: 0.4250 - lr: 0.0010\n",
      "Epoch 495/10000\n",
      "70/70 [==============================] - 0s 7ms/step - loss: 2.9776 - accuracy: 0.5754 - val_loss: 5.6035 - val_accuracy: 0.4260 - lr: 0.0010\n",
      "Epoch 496/10000\n",
      "70/70 [==============================] - 0s 7ms/step - loss: 3.0122 - accuracy: 0.5680 - val_loss: 5.5855 - val_accuracy: 0.4420 - lr: 0.0010\n",
      "Epoch 497/10000\n",
      "70/70 [==============================] - 1s 7ms/step - loss: 2.9159 - accuracy: 0.5744 - val_loss: 5.5433 - val_accuracy: 0.4230 - lr: 0.0010\n",
      "Epoch 498/10000\n",
      "70/70 [==============================] - 0s 7ms/step - loss: 3.0023 - accuracy: 0.5800 - val_loss: 5.6788 - val_accuracy: 0.4410 - lr: 0.0010\n",
      "Epoch 499/10000\n",
      "70/70 [==============================] - 1s 7ms/step - loss: 2.9939 - accuracy: 0.5687 - val_loss: 5.5658 - val_accuracy: 0.4350 - lr: 0.0010\n",
      "Epoch 500/10000\n",
      "70/70 [==============================] - 0s 7ms/step - loss: 2.9636 - accuracy: 0.5737 - val_loss: 5.5599 - val_accuracy: 0.4290 - lr: 0.0010\n",
      "Epoch 501/10000\n",
      "70/70 [==============================] - 0s 7ms/step - loss: 2.9122 - accuracy: 0.5816 - val_loss: 5.5191 - val_accuracy: 0.4300 - lr: 6.5705e-06\n",
      "Epoch 502/10000\n",
      "70/70 [==============================] - 0s 7ms/step - loss: 2.8907 - accuracy: 0.5837 - val_loss: 5.5085 - val_accuracy: 0.4280 - lr: 6.5048e-06\n",
      "Epoch 503/10000\n",
      "70/70 [==============================] - 1s 7ms/step - loss: 2.8635 - accuracy: 0.5850 - val_loss: 5.5019 - val_accuracy: 0.4320 - lr: 6.4397e-06\n",
      "Epoch 504/10000\n",
      "70/70 [==============================] - 0s 7ms/step - loss: 2.8802 - accuracy: 0.5770 - val_loss: 5.5011 - val_accuracy: 0.4300 - lr: 6.3753e-06\n",
      "Epoch 505/10000\n",
      "70/70 [==============================] - 0s 7ms/step - loss: 2.8736 - accuracy: 0.5807 - val_loss: 5.4925 - val_accuracy: 0.4310 - lr: 6.3116e-06\n",
      "Epoch 506/10000\n",
      "70/70 [==============================] - 0s 6ms/step - loss: 2.8544 - accuracy: 0.5921 - val_loss: 5.4897 - val_accuracy: 0.4310 - lr: 6.2485e-06\n",
      "Epoch 507/10000\n",
      "70/70 [==============================] - 0s 6ms/step - loss: 2.8237 - accuracy: 0.5879 - val_loss: 5.4837 - val_accuracy: 0.4290 - lr: 6.1860e-06\n",
      "Epoch 508/10000\n",
      "70/70 [==============================] - 0s 6ms/step - loss: 2.8070 - accuracy: 0.5773 - val_loss: 5.4847 - val_accuracy: 0.4340 - lr: 6.1241e-06\n",
      "Epoch 509/10000\n",
      "70/70 [==============================] - 0s 6ms/step - loss: 2.8324 - accuracy: 0.5866 - val_loss: 5.4851 - val_accuracy: 0.4330 - lr: 6.0629e-06\n",
      "Epoch 510/10000\n",
      "70/70 [==============================] - 0s 6ms/step - loss: 2.8265 - accuracy: 0.5890 - val_loss: 5.4814 - val_accuracy: 0.4360 - lr: 6.0022e-06\n",
      "Epoch 511/10000\n",
      "70/70 [==============================] - 0s 6ms/step - loss: 2.8338 - accuracy: 0.5853 - val_loss: 5.4809 - val_accuracy: 0.4400 - lr: 5.9422e-06\n",
      "Epoch 512/10000\n",
      "70/70 [==============================] - 0s 7ms/step - loss: 2.8189 - accuracy: 0.5896 - val_loss: 5.4831 - val_accuracy: 0.4410 - lr: 5.8828e-06\n",
      "Epoch 513/10000\n",
      "70/70 [==============================] - 0s 6ms/step - loss: 2.8465 - accuracy: 0.5863 - val_loss: 5.4754 - val_accuracy: 0.4410 - lr: 5.8240e-06\n",
      "Epoch 514/10000\n",
      "70/70 [==============================] - 0s 6ms/step - loss: 2.8379 - accuracy: 0.5829 - val_loss: 5.4718 - val_accuracy: 0.4430 - lr: 5.7657e-06\n",
      "Epoch 515/10000\n",
      "70/70 [==============================] - 0s 7ms/step - loss: 2.8414 - accuracy: 0.5824 - val_loss: 5.4711 - val_accuracy: 0.4430 - lr: 5.7081e-06\n",
      "Epoch 516/10000\n",
      "70/70 [==============================] - 0s 6ms/step - loss: 2.8226 - accuracy: 0.5837 - val_loss: 5.4730 - val_accuracy: 0.4440 - lr: 5.6510e-06\n",
      "Epoch 517/10000\n",
      "70/70 [==============================] - 0s 7ms/step - loss: 2.7944 - accuracy: 0.5797 - val_loss: 5.4694 - val_accuracy: 0.4440 - lr: 5.5945e-06\n",
      "Epoch 518/10000\n",
      "70/70 [==============================] - 0s 6ms/step - loss: 2.7737 - accuracy: 0.5867 - val_loss: 5.4741 - val_accuracy: 0.4430 - lr: 5.5385e-06\n",
      "Epoch 519/10000\n",
      "70/70 [==============================] - 0s 7ms/step - loss: 2.7679 - accuracy: 0.5911 - val_loss: 5.4671 - val_accuracy: 0.4420 - lr: 5.4832e-06\n",
      "Epoch 520/10000\n",
      "70/70 [==============================] - 0s 6ms/step - loss: 2.8421 - accuracy: 0.5854 - val_loss: 5.4720 - val_accuracy: 0.4420 - lr: 5.4283e-06\n",
      "Epoch 521/10000\n",
      "70/70 [==============================] - 0s 6ms/step - loss: 2.7985 - accuracy: 0.5789 - val_loss: 5.4712 - val_accuracy: 0.4410 - lr: 5.3740e-06\n",
      "Epoch 522/10000\n",
      "70/70 [==============================] - 0s 6ms/step - loss: 2.8298 - accuracy: 0.5910 - val_loss: 5.4673 - val_accuracy: 0.4410 - lr: 5.3203e-06\n",
      "Epoch 523/10000\n",
      "70/70 [==============================] - 0s 6ms/step - loss: 2.8501 - accuracy: 0.5800 - val_loss: 5.4678 - val_accuracy: 0.4390 - lr: 5.2671e-06\n",
      "Epoch 524/10000\n",
      "70/70 [==============================] - 0s 6ms/step - loss: 2.7994 - accuracy: 0.5799 - val_loss: 5.4691 - val_accuracy: 0.4400 - lr: 5.2144e-06\n",
      "Epoch 525/10000\n",
      "70/70 [==============================] - 0s 6ms/step - loss: 2.7776 - accuracy: 0.5784 - val_loss: 5.4686 - val_accuracy: 0.4390 - lr: 5.1623e-06\n",
      "Epoch 526/10000\n",
      "70/70 [==============================] - 0s 6ms/step - loss: 2.8281 - accuracy: 0.5800 - val_loss: 5.4694 - val_accuracy: 0.4390 - lr: 5.1107e-06\n",
      "Epoch 527/10000\n",
      "70/70 [==============================] - 0s 6ms/step - loss: 2.8345 - accuracy: 0.5800 - val_loss: 5.4699 - val_accuracy: 0.4400 - lr: 5.0596e-06\n",
      "Epoch 528/10000\n",
      "70/70 [==============================] - 0s 6ms/step - loss: 2.7285 - accuracy: 0.5947 - val_loss: 5.4687 - val_accuracy: 0.4390 - lr: 5.0090e-06\n",
      "Epoch 529/10000\n",
      "70/70 [==============================] - 0s 6ms/step - loss: 2.8472 - accuracy: 0.5813 - val_loss: 5.4718 - val_accuracy: 0.4420 - lr: 4.9589e-06\n",
      "Epoch 530/10000\n",
      "70/70 [==============================] - 0s 6ms/step - loss: 2.8384 - accuracy: 0.5790 - val_loss: 5.4690 - val_accuracy: 0.4390 - lr: 4.9093e-06\n",
      "Epoch 531/10000\n",
      "70/70 [==============================] - 0s 6ms/step - loss: 2.8007 - accuracy: 0.5911 - val_loss: 5.4692 - val_accuracy: 0.4410 - lr: 4.8602e-06\n",
      "Epoch 532/10000\n",
      "70/70 [==============================] - 0s 6ms/step - loss: 2.7857 - accuracy: 0.5877 - val_loss: 5.4681 - val_accuracy: 0.4430 - lr: 4.8116e-06\n",
      "Epoch 533/10000\n",
      "70/70 [==============================] - 0s 6ms/step - loss: 2.7923 - accuracy: 0.5883 - val_loss: 5.4678 - val_accuracy: 0.4420 - lr: 4.7635e-06\n",
      "Epoch 534/10000\n",
      "70/70 [==============================] - 0s 6ms/step - loss: 2.7700 - accuracy: 0.5921 - val_loss: 5.4655 - val_accuracy: 0.4430 - lr: 4.7158e-06\n",
      "Epoch 535/10000\n",
      "70/70 [==============================] - 0s 6ms/step - loss: 2.8073 - accuracy: 0.5881 - val_loss: 5.4686 - val_accuracy: 0.4430 - lr: 4.6687e-06\n",
      "Epoch 536/10000\n",
      "70/70 [==============================] - 0s 6ms/step - loss: 2.8314 - accuracy: 0.5830 - val_loss: 5.4715 - val_accuracy: 0.4410 - lr: 4.6220e-06\n",
      "Epoch 537/10000\n",
      "70/70 [==============================] - 0s 6ms/step - loss: 2.7722 - accuracy: 0.5823 - val_loss: 5.4722 - val_accuracy: 0.4400 - lr: 4.5758e-06\n",
      "Epoch 538/10000\n",
      "70/70 [==============================] - 0s 7ms/step - loss: 2.7943 - accuracy: 0.5857 - val_loss: 5.4658 - val_accuracy: 0.4390 - lr: 4.5300e-06\n",
      "Epoch 539/10000\n",
      "70/70 [==============================] - 0s 7ms/step - loss: 2.7736 - accuracy: 0.5853 - val_loss: 5.4730 - val_accuracy: 0.4410 - lr: 4.4847e-06\n",
      "Epoch 540/10000\n",
      "70/70 [==============================] - 0s 7ms/step - loss: 2.8228 - accuracy: 0.5834 - val_loss: 5.4711 - val_accuracy: 0.4420 - lr: 4.4399e-06\n",
      "Epoch 541/10000\n",
      "70/70 [==============================] - 0s 7ms/step - loss: 2.7590 - accuracy: 0.5906 - val_loss: 5.4706 - val_accuracy: 0.4420 - lr: 4.3955e-06\n",
      "Epoch 542/10000\n",
      "70/70 [==============================] - 0s 7ms/step - loss: 2.7578 - accuracy: 0.5866 - val_loss: 5.4711 - val_accuracy: 0.4450 - lr: 4.3515e-06\n",
      "Epoch 543/10000\n",
      "70/70 [==============================] - 0s 7ms/step - loss: 2.7885 - accuracy: 0.5950 - val_loss: 5.4670 - val_accuracy: 0.4470 - lr: 4.3080e-06\n",
      "Epoch 544/10000\n",
      "70/70 [==============================] - 0s 7ms/step - loss: 2.7976 - accuracy: 0.5861 - val_loss: 5.4668 - val_accuracy: 0.4460 - lr: 4.2649e-06\n",
      "Epoch 545/10000\n",
      "70/70 [==============================] - 0s 7ms/step - loss: 2.7776 - accuracy: 0.5851 - val_loss: 5.4670 - val_accuracy: 0.4470 - lr: 4.2223e-06\n",
      "Epoch 546/10000\n",
      "70/70 [==============================] - 0s 7ms/step - loss: 2.7687 - accuracy: 0.5899 - val_loss: 5.4707 - val_accuracy: 0.4460 - lr: 4.1800e-06\n",
      "Epoch 547/10000\n",
      "70/70 [==============================] - 0s 7ms/step - loss: 2.8374 - accuracy: 0.5841 - val_loss: 5.4728 - val_accuracy: 0.4470 - lr: 4.1382e-06\n",
      "Epoch 548/10000\n",
      "70/70 [==============================] - 0s 7ms/step - loss: 2.7995 - accuracy: 0.5890 - val_loss: 5.4727 - val_accuracy: 0.4450 - lr: 4.0969e-06\n",
      "Epoch 549/10000\n",
      "70/70 [==============================] - 0s 7ms/step - loss: 2.7812 - accuracy: 0.5846 - val_loss: 5.4666 - val_accuracy: 0.4470 - lr: 4.0559e-06\n",
      "Epoch 550/10000\n",
      "70/70 [==============================] - 0s 7ms/step - loss: 2.8033 - accuracy: 0.5857 - val_loss: 5.4630 - val_accuracy: 0.4470 - lr: 4.0153e-06\n",
      "Epoch 551/10000\n",
      "70/70 [==============================] - 0s 6ms/step - loss: 2.7841 - accuracy: 0.5876 - val_loss: 5.4648 - val_accuracy: 0.4440 - lr: 3.9752e-06\n",
      "Epoch 552/10000\n",
      "70/70 [==============================] - 0s 7ms/step - loss: 2.8085 - accuracy: 0.5884 - val_loss: 5.4642 - val_accuracy: 0.4460 - lr: 3.9354e-06\n",
      "Epoch 553/10000\n",
      "70/70 [==============================] - 0s 7ms/step - loss: 2.7905 - accuracy: 0.5869 - val_loss: 5.4662 - val_accuracy: 0.4450 - lr: 3.8961e-06\n",
      "Epoch 554/10000\n",
      "70/70 [==============================] - 0s 7ms/step - loss: 2.7788 - accuracy: 0.5873 - val_loss: 5.4656 - val_accuracy: 0.4430 - lr: 3.8571e-06\n",
      "Epoch 555/10000\n",
      "70/70 [==============================] - 0s 6ms/step - loss: 2.7588 - accuracy: 0.5899 - val_loss: 5.4671 - val_accuracy: 0.4390 - lr: 3.8185e-06\n",
      "Epoch 556/10000\n",
      "70/70 [==============================] - 0s 6ms/step - loss: 2.7829 - accuracy: 0.5799 - val_loss: 5.4716 - val_accuracy: 0.4410 - lr: 3.7804e-06\n",
      "Epoch 557/10000\n",
      "70/70 [==============================] - 0s 7ms/step - loss: 2.7756 - accuracy: 0.5931 - val_loss: 5.4692 - val_accuracy: 0.4420 - lr: 3.7426e-06\n",
      "Epoch 558/10000\n",
      "70/70 [==============================] - 0s 6ms/step - loss: 2.7665 - accuracy: 0.5849 - val_loss: 5.4647 - val_accuracy: 0.4430 - lr: 3.7051e-06\n",
      "Epoch 559/10000\n",
      "70/70 [==============================] - 0s 7ms/step - loss: 2.7599 - accuracy: 0.5864 - val_loss: 5.4673 - val_accuracy: 0.4450 - lr: 3.6681e-06\n",
      "Epoch 560/10000\n",
      "70/70 [==============================] - 0s 7ms/step - loss: 2.8130 - accuracy: 0.5839 - val_loss: 5.4677 - val_accuracy: 0.4460 - lr: 3.6314e-06\n",
      "Epoch 561/10000\n",
      "70/70 [==============================] - 0s 7ms/step - loss: 2.8162 - accuracy: 0.5894 - val_loss: 5.4684 - val_accuracy: 0.4460 - lr: 3.5951e-06\n",
      "Epoch 562/10000\n",
      "70/70 [==============================] - 0s 7ms/step - loss: 2.7694 - accuracy: 0.5887 - val_loss: 5.4688 - val_accuracy: 0.4420 - lr: 3.5591e-06\n",
      "Epoch 563/10000\n",
      "70/70 [==============================] - 0s 7ms/step - loss: 2.7436 - accuracy: 0.5924 - val_loss: 5.4705 - val_accuracy: 0.4420 - lr: 3.5235e-06\n",
      "Epoch 564/10000\n",
      "70/70 [==============================] - 0s 7ms/step - loss: 2.7862 - accuracy: 0.5860 - val_loss: 5.4679 - val_accuracy: 0.4450 - lr: 3.4883e-06\n",
      "Epoch 565/10000\n",
      "70/70 [==============================] - 0s 7ms/step - loss: 2.7770 - accuracy: 0.5949 - val_loss: 5.4678 - val_accuracy: 0.4450 - lr: 3.4534e-06\n",
      "Epoch 566/10000\n",
      "70/70 [==============================] - 0s 7ms/step - loss: 2.7552 - accuracy: 0.5911 - val_loss: 5.4643 - val_accuracy: 0.4460 - lr: 3.4189e-06\n",
      "Epoch 567/10000\n",
      "70/70 [==============================] - 0s 7ms/step - loss: 2.7742 - accuracy: 0.5854 - val_loss: 5.4687 - val_accuracy: 0.4450 - lr: 3.3847e-06\n",
      "Epoch 568/10000\n",
      "70/70 [==============================] - 0s 7ms/step - loss: 2.7700 - accuracy: 0.5867 - val_loss: 5.4718 - val_accuracy: 0.4450 - lr: 3.3509e-06\n",
      "Epoch 569/10000\n",
      "70/70 [==============================] - 0s 7ms/step - loss: 2.7775 - accuracy: 0.5931 - val_loss: 5.4693 - val_accuracy: 0.4440 - lr: 3.3173e-06\n",
      "Epoch 570/10000\n",
      "70/70 [==============================] - 0s 7ms/step - loss: 2.8728 - accuracy: 0.5816 - val_loss: 5.4681 - val_accuracy: 0.4410 - lr: 3.2842e-06\n"
     ]
    },
    {
     "name": "stdout",
     "output_type": "stream",
     "text": [
      "Epoch 571/10000\n",
      "70/70 [==============================] - 0s 7ms/step - loss: 2.7743 - accuracy: 0.5923 - val_loss: 5.4726 - val_accuracy: 0.4410 - lr: 3.2513e-06\n",
      "Epoch 572/10000\n",
      "70/70 [==============================] - 0s 7ms/step - loss: 2.7696 - accuracy: 0.5861 - val_loss: 5.4708 - val_accuracy: 0.4440 - lr: 3.2188e-06\n",
      "Epoch 573/10000\n",
      "70/70 [==============================] - 0s 7ms/step - loss: 2.8089 - accuracy: 0.5853 - val_loss: 5.4703 - val_accuracy: 0.4450 - lr: 3.1866e-06\n",
      "Epoch 574/10000\n",
      "70/70 [==============================] - 0s 7ms/step - loss: 2.7962 - accuracy: 0.5820 - val_loss: 5.4736 - val_accuracy: 0.4420 - lr: 3.1548e-06\n",
      "Epoch 575/10000\n",
      "70/70 [==============================] - 0s 7ms/step - loss: 2.7817 - accuracy: 0.5896 - val_loss: 5.4741 - val_accuracy: 0.4430 - lr: 3.1232e-06\n",
      "Epoch 576/10000\n",
      "70/70 [==============================] - 0s 7ms/step - loss: 2.7916 - accuracy: 0.5869 - val_loss: 5.4738 - val_accuracy: 0.4430 - lr: 3.0920e-06\n",
      "Epoch 577/10000\n",
      "70/70 [==============================] - 0s 7ms/step - loss: 2.7543 - accuracy: 0.5876 - val_loss: 5.4746 - val_accuracy: 0.4430 - lr: 3.0611e-06\n",
      "Epoch 578/10000\n",
      "70/70 [==============================] - 0s 7ms/step - loss: 2.7613 - accuracy: 0.5931 - val_loss: 5.4752 - val_accuracy: 0.4410 - lr: 3.0305e-06\n",
      "Epoch 579/10000\n",
      "70/70 [==============================] - 0s 7ms/step - loss: 2.7745 - accuracy: 0.5914 - val_loss: 5.4702 - val_accuracy: 0.4410 - lr: 3.0001e-06\n",
      "Epoch 580/10000\n",
      "70/70 [==============================] - 0s 7ms/step - loss: 2.7538 - accuracy: 0.5876 - val_loss: 5.4725 - val_accuracy: 0.4420 - lr: 2.9701e-06\n",
      "Epoch 581/10000\n",
      "70/70 [==============================] - 0s 7ms/step - loss: 2.8036 - accuracy: 0.5819 - val_loss: 5.4725 - val_accuracy: 0.4390 - lr: 2.9404e-06\n",
      "Epoch 582/10000\n",
      "70/70 [==============================] - 0s 7ms/step - loss: 2.7616 - accuracy: 0.5883 - val_loss: 5.4755 - val_accuracy: 0.4460 - lr: 2.9110e-06\n",
      "Epoch 583/10000\n",
      "70/70 [==============================] - 0s 7ms/step - loss: 2.7582 - accuracy: 0.5866 - val_loss: 5.4726 - val_accuracy: 0.4450 - lr: 2.8819e-06\n",
      "Epoch 584/10000\n",
      "70/70 [==============================] - 0s 7ms/step - loss: 2.7907 - accuracy: 0.5817 - val_loss: 5.4728 - val_accuracy: 0.4430 - lr: 2.8531e-06\n",
      "Epoch 585/10000\n",
      "70/70 [==============================] - 0s 7ms/step - loss: 2.7118 - accuracy: 0.5936 - val_loss: 5.4742 - val_accuracy: 0.4420 - lr: 2.8246e-06\n",
      "Epoch 586/10000\n",
      "70/70 [==============================] - 0s 7ms/step - loss: 2.7054 - accuracy: 0.5936 - val_loss: 5.4714 - val_accuracy: 0.4440 - lr: 2.7963e-06\n",
      "Epoch 587/10000\n",
      "70/70 [==============================] - 1s 7ms/step - loss: 2.8054 - accuracy: 0.5849 - val_loss: 5.4711 - val_accuracy: 0.4410 - lr: 2.7684e-06\n",
      "Epoch 588/10000\n",
      "70/70 [==============================] - 0s 7ms/step - loss: 2.8361 - accuracy: 0.5756 - val_loss: 5.4742 - val_accuracy: 0.4400 - lr: 2.7407e-06\n",
      "Epoch 589/10000\n",
      "70/70 [==============================] - 0s 7ms/step - loss: 2.7716 - accuracy: 0.5804 - val_loss: 5.4715 - val_accuracy: 0.4420 - lr: 2.7133e-06\n",
      "Epoch 590/10000\n",
      "70/70 [==============================] - 0s 6ms/step - loss: 2.7731 - accuracy: 0.5867 - val_loss: 5.4715 - val_accuracy: 0.4440 - lr: 2.6861e-06\n",
      "Epoch 591/10000\n",
      "70/70 [==============================] - 0s 7ms/step - loss: 2.7959 - accuracy: 0.5901 - val_loss: 5.4727 - val_accuracy: 0.4430 - lr: 2.6593e-06\n",
      "Epoch 592/10000\n",
      "70/70 [==============================] - 0s 6ms/step - loss: 2.8085 - accuracy: 0.5789 - val_loss: 5.4773 - val_accuracy: 0.4420 - lr: 2.6327e-06\n",
      "Epoch 593/10000\n",
      "70/70 [==============================] - 0s 6ms/step - loss: 2.8249 - accuracy: 0.5799 - val_loss: 5.4757 - val_accuracy: 0.4420 - lr: 2.6064e-06\n",
      "Epoch 594/10000\n",
      "70/70 [==============================] - 0s 7ms/step - loss: 2.7554 - accuracy: 0.5950 - val_loss: 5.4769 - val_accuracy: 0.4420 - lr: 2.5803e-06\n",
      "Epoch 595/10000\n",
      "70/70 [==============================] - 0s 6ms/step - loss: 2.7475 - accuracy: 0.5979 - val_loss: 5.4748 - val_accuracy: 0.4420 - lr: 2.5545e-06\n",
      "Epoch 596/10000\n",
      "70/70 [==============================] - 0s 7ms/step - loss: 2.7678 - accuracy: 0.5870 - val_loss: 5.4786 - val_accuracy: 0.4420 - lr: 2.5290e-06\n",
      "Epoch 597/10000\n",
      "70/70 [==============================] - 0s 6ms/step - loss: 2.7573 - accuracy: 0.5853 - val_loss: 5.4771 - val_accuracy: 0.4390 - lr: 2.5037e-06\n",
      "Epoch 598/10000\n",
      "70/70 [==============================] - 0s 7ms/step - loss: 2.7791 - accuracy: 0.5893 - val_loss: 5.4783 - val_accuracy: 0.4400 - lr: 2.4786e-06\n",
      "Epoch 599/10000\n",
      "70/70 [==============================] - 0s 7ms/step - loss: 2.7961 - accuracy: 0.5847 - val_loss: 5.4767 - val_accuracy: 0.4400 - lr: 2.4538e-06\n",
      "Epoch 600/10000\n",
      "70/70 [==============================] - 0s 7ms/step - loss: 2.7668 - accuracy: 0.5921 - val_loss: 5.4770 - val_accuracy: 0.4430 - lr: 2.4293e-06\n",
      "Epoch 601/10000\n",
      "70/70 [==============================] - 0s 7ms/step - loss: 2.7295 - accuracy: 0.5874 - val_loss: 5.4774 - val_accuracy: 0.4400 - lr: 2.4050e-06\n",
      "Epoch 602/10000\n",
      "70/70 [==============================] - 0s 6ms/step - loss: 2.7771 - accuracy: 0.5856 - val_loss: 5.4754 - val_accuracy: 0.4420 - lr: 2.3810e-06\n",
      "Epoch 603/10000\n",
      "70/70 [==============================] - 0s 6ms/step - loss: 2.7629 - accuracy: 0.5814 - val_loss: 5.4752 - val_accuracy: 0.4440 - lr: 2.3571e-06\n",
      "Epoch 604/10000\n",
      "70/70 [==============================] - 0s 7ms/step - loss: 2.7583 - accuracy: 0.5937 - val_loss: 5.4758 - val_accuracy: 0.4430 - lr: 2.3336e-06\n",
      "Epoch 605/10000\n",
      "70/70 [==============================] - 0s 6ms/step - loss: 2.7678 - accuracy: 0.5884 - val_loss: 5.4726 - val_accuracy: 0.4420 - lr: 2.3102e-06\n",
      "Epoch 606/10000\n",
      "70/70 [==============================] - 0s 7ms/step - loss: 2.7708 - accuracy: 0.5929 - val_loss: 5.4764 - val_accuracy: 0.4400 - lr: 2.2871e-06\n",
      "Epoch 607/10000\n",
      "70/70 [==============================] - 0s 6ms/step - loss: 2.7698 - accuracy: 0.5834 - val_loss: 5.4761 - val_accuracy: 0.4400 - lr: 2.2643e-06\n",
      "Epoch 608/10000\n",
      "70/70 [==============================] - 0s 7ms/step - loss: 2.7610 - accuracy: 0.5824 - val_loss: 5.4763 - val_accuracy: 0.4400 - lr: 2.2416e-06\n",
      "Epoch 609/10000\n",
      "70/70 [==============================] - 0s 6ms/step - loss: 2.7873 - accuracy: 0.5826 - val_loss: 5.4777 - val_accuracy: 0.4440 - lr: 2.2192e-06\n",
      "Epoch 610/10000\n",
      "70/70 [==============================] - 0s 6ms/step - loss: 2.8286 - accuracy: 0.5833 - val_loss: 5.4818 - val_accuracy: 0.4400 - lr: 2.1970e-06\n",
      "Epoch 611/10000\n",
      "70/70 [==============================] - 0s 6ms/step - loss: 2.7701 - accuracy: 0.5906 - val_loss: 5.4790 - val_accuracy: 0.4430 - lr: 2.1750e-06\n",
      "Epoch 612/10000\n",
      "70/70 [==============================] - 0s 6ms/step - loss: 2.8087 - accuracy: 0.5910 - val_loss: 5.4758 - val_accuracy: 0.4400 - lr: 2.1533e-06\n",
      "Epoch 613/10000\n",
      "70/70 [==============================] - 0s 7ms/step - loss: 2.7570 - accuracy: 0.5920 - val_loss: 5.4790 - val_accuracy: 0.4410 - lr: 2.1318e-06\n",
      "Epoch 614/10000\n",
      "70/70 [==============================] - 0s 7ms/step - loss: 2.7939 - accuracy: 0.5889 - val_loss: 5.4759 - val_accuracy: 0.4390 - lr: 2.1104e-06\n",
      "Epoch 615/10000\n",
      "70/70 [==============================] - 1s 7ms/step - loss: 2.7836 - accuracy: 0.5886 - val_loss: 5.4754 - val_accuracy: 0.4410 - lr: 2.0893e-06\n",
      "Epoch 616/10000\n",
      "70/70 [==============================] - 1s 7ms/step - loss: 2.7977 - accuracy: 0.5904 - val_loss: 5.4693 - val_accuracy: 0.4410 - lr: 2.0684e-06\n",
      "Epoch 617/10000\n",
      "70/70 [==============================] - 0s 7ms/step - loss: 2.7807 - accuracy: 0.5879 - val_loss: 5.4731 - val_accuracy: 0.4410 - lr: 2.0478e-06\n",
      "Epoch 618/10000\n",
      "70/70 [==============================] - 0s 6ms/step - loss: 2.7685 - accuracy: 0.5884 - val_loss: 5.4759 - val_accuracy: 0.4390 - lr: 2.0273e-06\n",
      "Epoch 619/10000\n",
      "70/70 [==============================] - 0s 6ms/step - loss: 2.7749 - accuracy: 0.5809 - val_loss: 5.4733 - val_accuracy: 0.4410 - lr: 2.0070e-06\n",
      "Epoch 620/10000\n",
      "70/70 [==============================] - 0s 6ms/step - loss: 2.7349 - accuracy: 0.5900 - val_loss: 5.4791 - val_accuracy: 0.4430 - lr: 1.9869e-06\n",
      "Epoch 621/10000\n",
      "70/70 [==============================] - 0s 7ms/step - loss: 2.7770 - accuracy: 0.5923 - val_loss: 5.4771 - val_accuracy: 0.4420 - lr: 1.9671e-06\n",
      "Epoch 622/10000\n",
      "63/70 [==========================>...] - ETA: 0s - loss: 2.7874 - accuracy: 0.5997Restoring model weights from the end of the best epoch: 122.\n",
      "70/70 [==============================] - 1s 7ms/step - loss: 2.7826 - accuracy: 0.5956 - val_loss: 5.4739 - val_accuracy: 0.4420 - lr: 1.9474e-06\n",
      "Epoch 622: early stopping\n"
     ]
    }
   ],
   "source": [
    "val_epochs = 10000\n",
    "tf.compat.v1.global_variables_initializer()\n",
    "\n",
    "early_stop = tf.keras.callbacks.EarlyStopping( monitor = 'val_loss', patience = 500,verbose = 1, \n",
    "                                              restore_best_weights = True)\n",
    "\n",
    "reduce_lr = tf.keras.callbacks.LearningRateScheduler(scheduler)\n",
    "history = model.fit(train_dataset, validation_data=val_dataset, epochs= val_epochs, callbacks=[reduce_lr, early_stop])"
   ]
  },
  {
   "cell_type": "markdown",
   "id": "7b9d5d5d",
   "metadata": {},
   "source": [
    "# Analizamos accuracy y loss"
   ]
  },
  {
   "cell_type": "code",
   "execution_count": 25,
   "id": "c2c35f5e",
   "metadata": {
    "ExecuteTime": {
     "end_time": "2023-02-09T02:19:46.326795Z",
     "start_time": "2023-02-09T02:19:46.161481Z"
    }
   },
   "outputs": [
    {
     "data": {
      "image/png": "[encoded data removed]",
      "text/plain": [
       "<Figure size 800x800 with 2 Axes>"
      ]
     },
     "metadata": {},
     "output_type": "display_data"
    }
   ],
   "source": [
    "acc = history.history['accuracy']\n",
    "val_acc = history.history['val_accuracy']\n",
    "\n",
    "loss = history.history['loss']\n",
    "val_loss = history.history['val_loss']\n",
    "\n",
    "epochs_range = range(622)\n",
    "\n",
    "plt.figure(figsize=(8, 8))\n",
    "plt.subplot(1, 2, 1)\n",
    "plt.plot(epochs_range, acc, label='Training Accuracy')\n",
    "plt.plot(epochs_range, val_acc, label='Validation Accuracy')\n",
    "plt.legend(loc='lower right')\n",
    "plt.title('Training and Validation Accuracy')\n",
    "\n",
    "plt.subplot(1, 2, 2)\n",
    "plt.plot(epochs_range, loss, label='Training Loss')\n",
    "plt.plot(epochs_range, val_loss, label='Validation Loss')\n",
    "plt.legend(loc='upper right')\n",
    "plt.title('Training and Validation Loss')\n",
    "plt.show()"
   ]
  },
  {
   "cell_type": "markdown",
   "id": "e1af1d19",
   "metadata": {},
   "source": [
    "# Guardamos el modelo"
   ]
  },
  {
   "cell_type": "code",
   "execution_count": 26,
   "id": "3a346828",
   "metadata": {
    "ExecuteTime": {
     "end_time": "2023-02-09T02:19:51.465307Z",
     "start_time": "2023-02-09T02:19:51.447261Z"
    }
   },
   "outputs": [],
   "source": [
    "path_to_save = 'D:/Documentos de trabajo/Maestría/Tesis Maestría/Trabajo Python Tesis/Github Tesis/Modelos'"
   ]
  },
  {
   "cell_type": "code",
   "execution_count": 27,
   "id": "8e86a52a",
   "metadata": {
    "ExecuteTime": {
     "end_time": "2023-02-09T02:19:51.817598Z",
     "start_time": "2023-02-09T02:19:51.773553Z"
    }
   },
   "outputs": [],
   "source": [
    "model.save(path_to_save + '/trayectorias.h5')"
   ]
  },
  {
   "cell_type": "markdown",
   "id": "efc9d48d",
   "metadata": {},
   "source": [
    "# Importamos el modelo"
   ]
  },
  {
   "cell_type": "code",
   "execution_count": 28,
   "id": "d1d4a1a9",
   "metadata": {
    "ExecuteTime": {
     "end_time": "2023-02-09T02:19:52.529017Z",
     "start_time": "2023-02-09T02:19:52.436686Z"
    }
   },
   "outputs": [],
   "source": [
    "new_model = keras.models.load_model('../Modelos/trayectorias.h5')"
   ]
  },
  {
   "cell_type": "markdown",
   "id": "7f6d0ea9",
   "metadata": {},
   "source": [
    "# Probamos el modelo con datos nuevos"
   ]
  },
  {
   "cell_type": "markdown",
   "id": "6ad7f37d",
   "metadata": {},
   "source": [
    "## Creamos nuevos datos"
   ]
  },
  {
   "cell_type": "code",
   "execution_count": 42,
   "id": "b664f200",
   "metadata": {
    "ExecuteTime": {
     "end_time": "2023-02-09T04:50:00.644322Z",
     "start_time": "2023-02-09T04:50:00.559022Z"
    }
   },
   "outputs": [
    {
     "name": "stdout",
     "output_type": "stream",
     "text": [
      "--------------------------------------------\n",
      "[8, 8, 8, 4, 4, 2, 1]\n",
      "(10, 2, 200)\n",
      "1\n"
     ]
    }
   ],
   "source": [
    "import random\n",
    "from scipy.integrate import solve_ivp\n",
    "\n",
    "varf = []\n",
    "coef = []\n",
    "contador = 0\n",
    "for i in range(0, 1):\n",
    "    # constantes\n",
    "    a1 = random.randint(0, 10)\n",
    "    a2 = random.randint(0, 10)\n",
    "    b1 = random.randint(0, 10)\n",
    "    b2 = random.randint(0, 10)\n",
    "    d1 = random.randint(0, 10)\n",
    "    d2 = random.randint(0, 10)\n",
    "    n = random.randint(0, 5)\n",
    "\n",
    "    coef1 = [a1, a2, b1, b2, d1, d2, n]\n",
    "    coef.append(coef1)\n",
    "\n",
    "    def f(t, y):\n",
    "\n",
    "        # asignar a cada ODE a un elemento de vector\n",
    "        X = y[0]\n",
    "        Y = y[1]\n",
    "\n",
    "        # definimos cada ODE\n",
    "        # dX_dt=a1/(1+Y**n)-d1*X+b1\n",
    "        # dY_dt=a2/(1+X**n)-d2*Y+b2\n",
    "        dX_dt = a1/(1+Y**n)-d1*X+b1\n",
    "        dY_dt = a2/(1+X**n)-d2*Y+b1\n",
    "\n",
    "        return [dX_dt, dY_dt]\n",
    "\n",
    "    # Declaramos el vector de tiempo\n",
    "    t_span = [0, 100]\n",
    "    times = np.linspace(t_span[0], t_span[1], 200)\n",
    "\n",
    "    varfci2 = []\n",
    "    for i_ci in range(0, 10):\n",
    "        # Definimos las condiciones iniciales\n",
    "        y0 = np.array([random.randint(0, 10), random.randint(0, 10)])\n",
    "\n",
    "        # Resolvemos\n",
    "        # Modificar manualmente el intervalo de tiempo\n",
    "        sol = solve_ivp(f, t_span, y0, t_eval=times)\n",
    "        # sol=solve_ivp(f, t_span, y0) #Dejar que la librería elija el mejor intervalo\n",
    "        tiempo = sol.t\n",
    "        var1 = sol.y[0]\n",
    "        var2 = sol.y[1]\n",
    "\n",
    "        varfci = np.append([var1], [var2], axis=0)\n",
    "        varfci2.append(varfci)\n",
    "\n",
    "       \n",
    "\n",
    "    varf= varfci2\n",
    "    print('--------------------------------------------')\n",
    "    print(coef1)\n",
    "    print(np.shape(varf))\n",
    "    contador = contador+1\n",
    "    print(contador)\n",
    "\n",
    "varf = np.array(varf)\n",
    "coef = np.array(coef)"
   ]
  },
  {
   "cell_type": "code",
   "execution_count": 43,
   "id": "ffbe4d61",
   "metadata": {
    "ExecuteTime": {
     "end_time": "2023-02-09T04:50:01.967843Z",
     "start_time": "2023-02-09T04:50:01.961747Z"
    }
   },
   "outputs": [],
   "source": [
    "varfnone = varf[None, :]"
   ]
  },
  {
   "cell_type": "markdown",
   "id": "4ea4942b",
   "metadata": {},
   "source": [
    "## Predecimos con los datos nuevos"
   ]
  },
  {
   "cell_type": "code",
   "execution_count": 44,
   "id": "37dce68f",
   "metadata": {
    "ExecuteTime": {
     "end_time": "2023-02-09T04:50:02.831134Z",
     "start_time": "2023-02-09T04:50:02.788487Z"
    }
   },
   "outputs": [
    {
     "name": "stdout",
     "output_type": "stream",
     "text": [
      "1/1 [==============================] - 0s 12ms/step\n",
      "[[5.9029236 5.80999   8.787837  5.1264358 4.2194896 2.5669987 2.2727773]]\n"
     ]
    }
   ],
   "source": [
    "new_predictions = new_model.predict(varfnone)\n",
    "print(new_predictions)"
   ]
  },
  {
   "cell_type": "markdown",
   "id": "06c64a67",
   "metadata": {},
   "source": [
    "## Graficamos con los coeficientes reales"
   ]
  },
  {
   "cell_type": "code",
   "execution_count": 45,
   "id": "930a1b59",
   "metadata": {
    "ExecuteTime": {
     "end_time": "2023-02-09T04:50:10.189190Z",
     "start_time": "2023-02-09T04:50:10.109940Z"
    }
   },
   "outputs": [
    {
     "data": {
      "image/png": "[encoded data removed]",
      "text/plain": [
       "<Figure size 500x500 with 1 Axes>"
      ]
     },
     "metadata": {},
     "output_type": "display_data"
    }
   ],
   "source": [
    "t_span = [0, 100]\n",
    "times = np.linspace(t_span[0], t_span[1], 200)\n",
    "plt.figure(figsize=(5,5))\n",
    "plt.plot(times,np.array(varf)[0,0,:], label=\" Concentración X\")\n",
    "plt.plot(times,np.array(varf)[0,1,:], label=\"Concentración Y\")\n",
    "plt.xlabel('Tiempo')\n",
    "plt.ylabel('Concentración de genes')\n",
    "plt.title('Simulación Toggle Swich', fontsize=20)\n",
    "plt.legend()\n",
    "plt.show()"
   ]
  },
  {
   "cell_type": "code",
   "execution_count": 46,
   "id": "be8f3283",
   "metadata": {
    "ExecuteTime": {
     "end_time": "2023-02-09T04:50:10.826699Z",
     "start_time": "2023-02-09T04:50:10.812224Z"
    }
   },
   "outputs": [
    {
     "data": {
      "text/plain": [
       "(1, 7)"
      ]
     },
     "execution_count": 46,
     "metadata": {},
     "output_type": "execute_result"
    }
   ],
   "source": [
    "np.shape(new_predictions)"
   ]
  },
  {
   "cell_type": "markdown",
   "id": "beb6126d",
   "metadata": {},
   "source": [
    "## Graficamos con los coeficientes predecidos"
   ]
  },
  {
   "cell_type": "code",
   "execution_count": 47,
   "id": "84ae10b1",
   "metadata": {
    "ExecuteTime": {
     "end_time": "2023-02-09T04:50:11.633372Z",
     "start_time": "2023-02-09T04:50:11.539094Z"
    }
   },
   "outputs": [
    {
     "data": {
      "image/png": "[encoded data removed]",
      "text/plain": [
       "<Figure size 500x500 with 1 Axes>"
      ]
     },
     "metadata": {},
     "output_type": "display_data"
    }
   ],
   "source": [
    "a1 = new_predictions[0,0]\n",
    "a2 = new_predictions[0,1]\n",
    "b1 = new_predictions[0,2]\n",
    "b2 = new_predictions[0,3]\n",
    "d1 = new_predictions[0,4]\n",
    "d2 = new_predictions[0,5]\n",
    "n = new_predictions[0,6]\n",
    " \n",
    "def f(t, y):\n",
    "\n",
    "    # asignar a cada ODE a un elemento de vector\n",
    "    X = y[0]\n",
    "    Y = y[1]\n",
    "\n",
    "    # definimos cada ODE\n",
    "    dX_dt = a1/(1+Y**n)-d1*X+b1\n",
    "    dY_dt = a2/(1+X**n)-d2*Y+b1\n",
    "\n",
    "    return [dX_dt, dY_dt]\n",
    "\n",
    "# Declaramos el vector de tiempo\n",
    "t_span = [0, 50]\n",
    "times = np.linspace(t_span[0], t_span[1], 500)\n",
    "\n",
    "# Definimos las condiciones iniciales\n",
    "y0 = np.array([10,10])\n",
    "\n",
    "# Resolvemos\n",
    "# Modificar manualmente el intervalo de tiempo\n",
    "sol = solve_ivp(f, t_span, y0, t_eval=times)\n",
    "# sol=solve_ivp(f, t_span, y0) #Dejar que la librería elija el mejor intervalo\n",
    "tiempo = sol.t\n",
    "var1 = sol.y[0]\n",
    "var2 = sol.y[1]\n",
    "\n",
    "# Graficamos\n",
    "plt.figure(figsize=(5, 5))\n",
    "plt.plot(tiempo, var1, label=\" Concentración X\")\n",
    "plt.plot(tiempo, var2, label=\"Concentración Y\")\n",
    "plt.xlabel('Tiempo')\n",
    "plt.ylabel('Concentración de genes')\n",
    "plt.title('Simulación Toggle Swich', fontsize=20)\n",
    "plt.legend()\n",
    "plt.show()"
   ]
  },
  {
   "cell_type": "code",
   "execution_count": null,
   "id": "7cf6dd9e",
   "metadata": {},
   "outputs": [],
   "source": []
  },
  {
   "cell_type": "code",
   "execution_count": null,
   "id": "47613fd5",
   "metadata": {},
   "outputs": [],
   "source": []
  },
  {
   "cell_type": "code",
   "execution_count": null,
   "id": "b66242e3",
   "metadata": {},
   "outputs": [],
   "source": [
    "class InverseProblemSODE(Sequential):\n",
    "    def __init__(self, **kwargs):\n",
    "        super().__init__(**kwargs)\n",
    "        self.loss_tracker = keras.metrics.Mean(name=\"loss\")\n",
    "    @property\n",
    "    def metrics(self):\n",
    "        return [self.loss_tracker]\n",
    "\n",
    "    def train_step(self, data):\n",
    "        batch_size=tf.shape(data)[0]\n",
    "        x=tf.random.uniform((batch_size,1),minval=-5,maxval=5)\n",
    "    \n",
    "        with tf.GradientTape() as tape: \n",
    "            #Compute the loss value\n",
    "            with tf.GradientTape() as tape2: \n",
    "                tape2.watch(x)\n",
    "                y_pred = self(x, training=True)\n",
    "            dy = tape2.gradient(y_pred, x)\n",
    "            x_o = tf.zeros((batch_size, 1))\n",
    "            y_o = self(x_o, training = True)\n",
    "            eq = x*dy + y_pred-x**2*tf.cos(x)\n",
    "            ic = y_o\n",
    "            loss = keras.losses.mean_squared_error(0., eq) + keras.losses.mean_absolute_error(0., ic)\n",
    "        # Apply grads\n",
    "        grads = tape.gradient(loss, self.trainable_variables)\n",
    "        self.optimizer.apply_gradients(zip(grads, self.trainable_variables))\n",
    "        # Update metrics\n",
    "        self.loss_tracker.update_state(loss)\n",
    "        # Return a dict mapping metric names to current value\n",
    "        return {\"loss\": self.loss_tracker.result()}"
   ]
  }
 ],
 "metadata": {
  "hide_input": false,
  "kernelspec": {
   "display_name": "Python 3 (ipykernel)",
   "language": "python",
   "name": "python3"
  },
  "language_info": {
   "codemirror_mode": {
    "name": "ipython",
    "version": 3
   },
   "file_extension": ".py",
   "mimetype": "text/x-python",
   "name": "python",
   "nbconvert_exporter": "python",
   "pygments_lexer": "ipython3",
   "version": "3.9.13"
  },
  "toc": {
   "base_numbering": 1,
   "nav_menu": {},
   "number_sections": true,
   "sideBar": true,
   "skip_h1_title": false,
   "title_cell": "Table of Contents",
   "title_sidebar": "Contents",
   "toc_cell": false,
   "toc_position": {},
   "toc_section_display": true,
   "toc_window_display": false
  },
  "varInspector": {
   "cols": {
    "lenName": 16,
    "lenType": 16,
    "lenVar": 40
   },
   "kernels_config": {
    "python": {
     "delete_cmd_postfix": "",
     "delete_cmd_prefix": "del ",
     "library": "var_list.py",
     "varRefreshCmd": "print(var_dic_list())"
    },
    "r": {
     "delete_cmd_postfix": ") ",
     "delete_cmd_prefix": "rm(",
     "library": "var_list.r",
     "varRefreshCmd": "cat(var_dic_list()) "
    }
   },
   "types_to_exclude": [
    "module",
    "function",
    "builtin_function_or_method",
    "instance",
    "_Feature"
   ],
   "window_display": false
  }
 },
 "nbformat": 4,
 "nbformat_minor": 5
}
