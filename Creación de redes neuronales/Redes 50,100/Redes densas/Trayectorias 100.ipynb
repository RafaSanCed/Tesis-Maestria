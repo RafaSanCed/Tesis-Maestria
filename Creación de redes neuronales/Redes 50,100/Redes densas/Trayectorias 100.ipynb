{
 "cells": [
  {
   "cell_type": "markdown",
   "id": "0067cad0",
   "metadata": {},
   "source": [
    "# Importamos librerías"
   ]
  },
  {
   "cell_type": "code",
   "execution_count": 1,
   "id": "b2d4f30f",
   "metadata": {
    "ExecuteTime": {
     "end_time": "2023-03-30T06:48:30.724568Z",
     "start_time": "2023-03-30T06:48:29.098509Z"
    }
   },
   "outputs": [],
   "source": [
    "import tensorflow as tf\n",
    "import pathlib\n",
    "import os\n",
    "import matplotlib.pyplot as plt\n",
    "import pandas as pd\n",
    "import numpy as np\n",
    "import keras"
   ]
  },
  {
   "cell_type": "code",
   "execution_count": 2,
   "id": "20fccfc6",
   "metadata": {
    "ExecuteTime": {
     "end_time": "2023-03-30T06:48:31.289331Z",
     "start_time": "2023-03-30T06:48:31.276519Z"
    }
   },
   "outputs": [],
   "source": [
    "from tensorflow.keras import Sequential\n",
    "from tensorflow.keras.layers import Conv2D\n",
    "from tensorflow.keras.layers import MaxPooling2D\n",
    "from tensorflow.keras.layers import AveragePooling2D\n",
    "from tensorflow.keras.layers import Dense\n",
    "from tensorflow.keras.layers import Flatten\n",
    "from tensorflow.keras.layers import Dropout, BatchNormalization"
   ]
  },
  {
   "cell_type": "code",
   "execution_count": 3,
   "id": "1c769735",
   "metadata": {
    "ExecuteTime": {
     "end_time": "2023-03-30T06:48:31.538518Z",
     "start_time": "2023-03-30T06:48:31.478504Z"
    }
   },
   "outputs": [
    {
     "name": "stdout",
     "output_type": "stream",
     "text": [
      "WARNING:tensorflow:From C:\\Users\\rafae\\AppData\\Local\\Temp\\ipykernel_21156\\337460670.py:1: is_gpu_available (from tensorflow.python.framework.test_util) is deprecated and will be removed in a future version.\n",
      "Instructions for updating:\n",
      "Use `tf.config.list_physical_devices('GPU')` instead.\n"
     ]
    },
    {
     "data": {
      "text/plain": [
       "True"
      ]
     },
     "execution_count": 3,
     "metadata": {},
     "output_type": "execute_result"
    }
   ],
   "source": [
    "tf.test.is_gpu_available()"
   ]
  },
  {
   "cell_type": "markdown",
   "id": "d94b2fbd",
   "metadata": {},
   "source": [
    "# Importamos los datos"
   ]
  },
  {
   "cell_type": "code",
   "execution_count": 1,
   "id": "2cdd79aa",
   "metadata": {
    "ExecuteTime": {
     "end_time": "2023-05-04T02:16:15.473679Z",
     "start_time": "2023-05-04T02:16:15.458729Z"
    }
   },
   "outputs": [],
   "source": [
    "path = '../../../Base de datos/Trayectorias 100 eval'"
   ]
  },
  {
   "cell_type": "markdown",
   "id": "39beab0c",
   "metadata": {},
   "source": [
    "## Datos de entrenamiento"
   ]
  },
  {
   "cell_type": "markdown",
   "id": "ca636b58",
   "metadata": {},
   "source": [
    "### Datos"
   ]
  },
  {
   "cell_type": "code",
   "execution_count": 5,
   "id": "ac8ee3cc",
   "metadata": {
    "ExecuteTime": {
     "end_time": "2023-03-30T06:48:32.770541Z",
     "start_time": "2023-03-30T06:48:32.665470Z"
    }
   },
   "outputs": [],
   "source": [
    "varftrain = np.load(path + '/varftrain.npy')"
   ]
  },
  {
   "cell_type": "code",
   "execution_count": 6,
   "id": "a2977931",
   "metadata": {
    "ExecuteTime": {
     "end_time": "2023-03-30T06:48:33.099483Z",
     "start_time": "2023-03-30T06:48:33.091509Z"
    }
   },
   "outputs": [
    {
     "data": {
      "text/plain": [
       "(7000, 10, 2, 100)"
      ]
     },
     "execution_count": 6,
     "metadata": {},
     "output_type": "execute_result"
    }
   ],
   "source": [
    "np.shape(varftrain)"
   ]
  },
  {
   "cell_type": "markdown",
   "id": "4a0e5fa2",
   "metadata": {},
   "source": [
    "### Coeficientes"
   ]
  },
  {
   "cell_type": "code",
   "execution_count": 7,
   "id": "45e5d25a",
   "metadata": {
    "ExecuteTime": {
     "end_time": "2023-03-30T06:48:33.500418Z",
     "start_time": "2023-03-30T06:48:33.484465Z"
    }
   },
   "outputs": [],
   "source": [
    "coefvarftrain = np.load(path + '/coefvarftrain.npy')"
   ]
  },
  {
   "cell_type": "code",
   "execution_count": 8,
   "id": "88f0323d",
   "metadata": {
    "ExecuteTime": {
     "end_time": "2023-03-30T06:48:33.689456Z",
     "start_time": "2023-03-30T06:48:33.671516Z"
    }
   },
   "outputs": [
    {
     "data": {
      "text/plain": [
       "(7000, 7)"
      ]
     },
     "execution_count": 8,
     "metadata": {},
     "output_type": "execute_result"
    }
   ],
   "source": [
    "np.shape(coefvarftrain)"
   ]
  },
  {
   "cell_type": "markdown",
   "id": "c89d3216",
   "metadata": {},
   "source": [
    "## Datos de prueba"
   ]
  },
  {
   "cell_type": "markdown",
   "id": "df843cea",
   "metadata": {},
   "source": [
    "### Datos"
   ]
  },
  {
   "cell_type": "code",
   "execution_count": 9,
   "id": "74030537",
   "metadata": {
    "ExecuteTime": {
     "end_time": "2023-03-30T06:48:34.607973Z",
     "start_time": "2023-03-30T06:48:34.575497Z"
    }
   },
   "outputs": [],
   "source": [
    "varftest = np.load(path + '/varftest.npy')"
   ]
  },
  {
   "cell_type": "code",
   "execution_count": 10,
   "id": "d6196850",
   "metadata": {
    "ExecuteTime": {
     "end_time": "2023-03-30T06:48:34.748487Z",
     "start_time": "2023-03-30T06:48:34.737524Z"
    }
   },
   "outputs": [
    {
     "data": {
      "text/plain": [
       "(2000, 10, 2, 100)"
      ]
     },
     "execution_count": 10,
     "metadata": {},
     "output_type": "execute_result"
    }
   ],
   "source": [
    "np.shape(varftest)"
   ]
  },
  {
   "cell_type": "markdown",
   "id": "46a3e36d",
   "metadata": {},
   "source": [
    "### Coeficientes"
   ]
  },
  {
   "cell_type": "code",
   "execution_count": 11,
   "id": "cf22c486",
   "metadata": {
    "ExecuteTime": {
     "end_time": "2023-03-30T06:48:35.087840Z",
     "start_time": "2023-03-30T06:48:35.072518Z"
    }
   },
   "outputs": [],
   "source": [
    "coefvarftest = np.load(path + '/coefvarftest.npy')"
   ]
  },
  {
   "cell_type": "code",
   "execution_count": 12,
   "id": "545559ea",
   "metadata": {
    "ExecuteTime": {
     "end_time": "2023-03-30T06:48:35.260497Z",
     "start_time": "2023-03-30T06:48:35.253521Z"
    }
   },
   "outputs": [
    {
     "data": {
      "text/plain": [
       "(2000, 7)"
      ]
     },
     "execution_count": 12,
     "metadata": {},
     "output_type": "execute_result"
    }
   ],
   "source": [
    "np.shape(coefvarftest)"
   ]
  },
  {
   "cell_type": "markdown",
   "id": "63024745",
   "metadata": {},
   "source": [
    "## Datos de validación"
   ]
  },
  {
   "cell_type": "markdown",
   "id": "9e38f1d7",
   "metadata": {},
   "source": [
    "### Datos"
   ]
  },
  {
   "cell_type": "code",
   "execution_count": 13,
   "id": "6e5768b7",
   "metadata": {
    "ExecuteTime": {
     "end_time": "2023-03-30T06:48:36.198565Z",
     "start_time": "2023-03-30T06:48:36.173650Z"
    }
   },
   "outputs": [],
   "source": [
    "varfval = np.load(path + '/varfval.npy')"
   ]
  },
  {
   "cell_type": "code",
   "execution_count": 14,
   "id": "a29f5ec0",
   "metadata": {
    "ExecuteTime": {
     "end_time": "2023-03-30T06:48:36.382364Z",
     "start_time": "2023-03-30T06:48:36.366417Z"
    }
   },
   "outputs": [
    {
     "data": {
      "text/plain": [
       "(1000, 10, 2, 100)"
      ]
     },
     "execution_count": 14,
     "metadata": {},
     "output_type": "execute_result"
    }
   ],
   "source": [
    "np.shape(varfval)"
   ]
  },
  {
   "cell_type": "markdown",
   "id": "ffc618a2",
   "metadata": {},
   "source": [
    "### Coeficienes"
   ]
  },
  {
   "cell_type": "code",
   "execution_count": 15,
   "id": "b323751c",
   "metadata": {
    "ExecuteTime": {
     "end_time": "2023-03-30T06:48:36.728388Z",
     "start_time": "2023-03-30T06:48:36.713437Z"
    }
   },
   "outputs": [],
   "source": [
    "coefvarfval = np.load(path + '/coefvarfval.npy')"
   ]
  },
  {
   "cell_type": "code",
   "execution_count": 16,
   "id": "60df7d7d",
   "metadata": {
    "ExecuteTime": {
     "end_time": "2023-03-30T06:48:37.052199Z",
     "start_time": "2023-03-30T06:48:37.036539Z"
    }
   },
   "outputs": [
    {
     "data": {
      "text/plain": [
       "(1000, 7)"
      ]
     },
     "execution_count": 16,
     "metadata": {},
     "output_type": "execute_result"
    }
   ],
   "source": [
    "np.shape(coefvarfval)"
   ]
  },
  {
   "cell_type": "markdown",
   "id": "e069562d",
   "metadata": {},
   "source": [
    "# Unimos coeficientes con los datos"
   ]
  },
  {
   "cell_type": "code",
   "execution_count": 17,
   "id": "a973df40",
   "metadata": {
    "ExecuteTime": {
     "end_time": "2023-03-30T06:48:37.674544Z",
     "start_time": "2023-03-30T06:48:37.515507Z"
    }
   },
   "outputs": [],
   "source": [
    "train_dataset = tf.data.Dataset.from_tensor_slices((varftrain, coefvarftrain))\n",
    "test_dataset = tf.data.Dataset.from_tensor_slices((varftest, coefvarftest))\n",
    "val_dataset = tf.data.Dataset.from_tensor_slices((varfval, coefvarfval))"
   ]
  },
  {
   "cell_type": "code",
   "execution_count": 18,
   "id": "bc7ee207",
   "metadata": {
    "ExecuteTime": {
     "end_time": "2023-03-30T06:48:37.720427Z",
     "start_time": "2023-03-30T06:48:37.706474Z"
    }
   },
   "outputs": [
    {
     "data": {
      "text/plain": [
       "<TensorSliceDataset element_spec=(TensorSpec(shape=(10, 2, 100), dtype=tf.float64, name=None), TensorSpec(shape=(7,), dtype=tf.int32, name=None))>"
      ]
     },
     "execution_count": 18,
     "metadata": {},
     "output_type": "execute_result"
    }
   ],
   "source": [
    "train_dataset"
   ]
  },
  {
   "cell_type": "markdown",
   "id": "05ebcd40",
   "metadata": {
    "ExecuteTime": {
     "end_time": "2023-02-07T19:36:45.065835Z",
     "start_time": "2023-02-07T19:36:45.042683Z"
    }
   },
   "source": [
    "# Mezclar y procesar por lotes los conjuntos de datos"
   ]
  },
  {
   "cell_type": "code",
   "execution_count": 19,
   "id": "eca4c6bc",
   "metadata": {
    "ExecuteTime": {
     "end_time": "2023-03-30T06:48:38.080471Z",
     "start_time": "2023-03-30T06:48:38.070517Z"
    }
   },
   "outputs": [],
   "source": [
    "BATCH_SIZE = 100\n",
    "SHUFFLE_BUFFER_SIZE = 100\n",
    "\n",
    "train_dataset = train_dataset.shuffle(SHUFFLE_BUFFER_SIZE).batch(BATCH_SIZE)\n",
    "test_dataset = test_dataset.batch(BATCH_SIZE)\n",
    "val_dataset = val_dataset.batch(BATCH_SIZE)"
   ]
  },
  {
   "cell_type": "markdown",
   "id": "76914f6c",
   "metadata": {},
   "source": [
    "# Creación del modelo"
   ]
  },
  {
   "cell_type": "code",
   "execution_count": 31,
   "id": "e4f113f9",
   "metadata": {
    "ExecuteTime": {
     "end_time": "2023-03-30T06:49:47.720405Z",
     "start_time": "2023-03-30T06:49:47.666491Z"
    }
   },
   "outputs": [],
   "source": [
    "#model = Sequential()\n",
    "\n",
    "model = tf.keras.Sequential([\n",
    "    tf.keras.layers.Flatten(input_shape=(10,2,100)),\n",
    "    tf.keras.layers.BatchNormalization(),\n",
    "    tf.keras.layers.Dense(128, activation='relu'),\n",
    "    tf.keras.layers.Dense(64, activation='relu'),\n",
    "    tf.keras.layers.Dense(128, activation='relu'),\n",
    "    tf.keras.layers.Dense(64, activation='relu'),\n",
    "    tf.keras.layers.Dropout(0.2),\n",
    "    tf.keras.layers.BatchNormalization(),\n",
    "    tf.keras.layers.Dense(7)\n",
    "])\n"
   ]
  },
  {
   "cell_type": "code",
   "execution_count": 32,
   "id": "45fd641f",
   "metadata": {
    "ExecuteTime": {
     "end_time": "2023-03-30T06:49:47.845503Z",
     "start_time": "2023-03-30T06:49:47.834539Z"
    }
   },
   "outputs": [
    {
     "name": "stdout",
     "output_type": "stream",
     "text": [
      "Model: \"sequential_1\"\n",
      "_________________________________________________________________\n",
      " Layer (type)                Output Shape              Param #   \n",
      "=================================================================\n",
      " flatten_1 (Flatten)         (None, 2000)              0         \n",
      "                                                                 \n",
      " batch_normalization_2 (Batc  (None, 2000)             8000      \n",
      " hNormalization)                                                 \n",
      "                                                                 \n",
      " dense_5 (Dense)             (None, 128)               256128    \n",
      "                                                                 \n",
      " dense_6 (Dense)             (None, 64)                8256      \n",
      "                                                                 \n",
      " dense_7 (Dense)             (None, 128)               8320      \n",
      "                                                                 \n",
      " dense_8 (Dense)             (None, 64)                8256      \n",
      "                                                                 \n",
      " dropout_1 (Dropout)         (None, 64)                0         \n",
      "                                                                 \n",
      " batch_normalization_3 (Batc  (None, 64)               256       \n",
      " hNormalization)                                                 \n",
      "                                                                 \n",
      " dense_9 (Dense)             (None, 7)                 455       \n",
      "                                                                 \n",
      "=================================================================\n",
      "Total params: 289,671\n",
      "Trainable params: 285,543\n",
      "Non-trainable params: 4,128\n",
      "_________________________________________________________________\n"
     ]
    }
   ],
   "source": [
    "model.summary()"
   ]
  },
  {
   "cell_type": "markdown",
   "id": "b761554a",
   "metadata": {},
   "source": [
    "# Entrenamos el modelo"
   ]
  },
  {
   "cell_type": "code",
   "execution_count": 33,
   "id": "4316785f",
   "metadata": {
    "ExecuteTime": {
     "end_time": "2023-03-30T06:49:48.268473Z",
     "start_time": "2023-03-30T06:49:48.250536Z"
    }
   },
   "outputs": [],
   "source": [
    "model.compile(optimizer='adam',\n",
    "              loss='MSE',\n",
    "              metrics=['mae'])"
   ]
  },
  {
   "cell_type": "code",
   "execution_count": 34,
   "id": "d1303e8d",
   "metadata": {
    "ExecuteTime": {
     "end_time": "2023-03-30T06:49:48.469274Z",
     "start_time": "2023-03-30T06:49:48.460304Z"
    }
   },
   "outputs": [],
   "source": [
    "def scheduler(epoch, lr):\n",
    "  if epoch < 100:\n",
    "    return lr\n",
    "  else:\n",
    "    return 1e-3 * 0.99 ** epoch"
   ]
  },
  {
   "cell_type": "code",
   "execution_count": 35,
   "id": "88d710c6",
   "metadata": {
    "ExecuteTime": {
     "end_time": "2023-03-30T06:53:25.229345Z",
     "start_time": "2023-03-30T06:49:48.731549Z"
    }
   },
   "outputs": [
    {
     "name": "stdout",
     "output_type": "stream",
     "text": [
      "Epoch 1/507\n",
      "70/70 [==============================] - 1s 7ms/step - loss: 28.2283 - mae: 4.5229 - val_loss: 26.4697 - val_mae: 4.3128 - lr: 0.0010\n",
      "Epoch 2/507\n",
      "70/70 [==============================] - 0s 6ms/step - loss: 21.2514 - mae: 3.8663 - val_loss: 15.2427 - val_mae: 3.2122 - lr: 0.0010\n",
      "Epoch 3/507\n",
      "70/70 [==============================] - 0s 6ms/step - loss: 12.2073 - mae: 2.8236 - val_loss: 8.2379 - val_mae: 2.3408 - lr: 0.0010\n",
      "Epoch 4/507\n",
      "70/70 [==============================] - 0s 6ms/step - loss: 7.7316 - mae: 2.2336 - val_loss: 6.3058 - val_mae: 2.0421 - lr: 0.0010\n",
      "Epoch 5/507\n",
      "70/70 [==============================] - 0s 6ms/step - loss: 6.8218 - mae: 2.1042 - val_loss: 6.5475 - val_mae: 2.0716 - lr: 0.0010\n",
      "Epoch 6/507\n",
      "70/70 [==============================] - 0s 6ms/step - loss: 6.7050 - mae: 2.0852 - val_loss: 6.5075 - val_mae: 2.0784 - lr: 0.0010\n",
      "Epoch 7/507\n",
      "70/70 [==============================] - 0s 6ms/step - loss: 6.4623 - mae: 2.0402 - val_loss: 6.1180 - val_mae: 1.9946 - lr: 0.0010\n",
      "Epoch 8/507\n",
      "70/70 [==============================] - 0s 6ms/step - loss: 6.3217 - mae: 2.0198 - val_loss: 6.8020 - val_mae: 2.1180 - lr: 0.0010\n",
      "Epoch 9/507\n",
      "70/70 [==============================] - 0s 6ms/step - loss: 6.2242 - mae: 2.0028 - val_loss: 5.9544 - val_mae: 1.9764 - lr: 0.0010\n",
      "Epoch 10/507\n",
      "70/70 [==============================] - 0s 6ms/step - loss: 6.1665 - mae: 1.9899 - val_loss: 5.8163 - val_mae: 1.9343 - lr: 0.0010\n",
      "Epoch 11/507\n",
      "70/70 [==============================] - 0s 6ms/step - loss: 6.2182 - mae: 2.0017 - val_loss: 6.5813 - val_mae: 2.0810 - lr: 0.0010\n",
      "Epoch 12/507\n",
      "70/70 [==============================] - 0s 6ms/step - loss: 6.0556 - mae: 1.9669 - val_loss: 5.5536 - val_mae: 1.8652 - lr: 0.0010\n",
      "Epoch 13/507\n",
      "70/70 [==============================] - 1s 7ms/step - loss: 5.9694 - mae: 1.9516 - val_loss: 5.6830 - val_mae: 1.9099 - lr: 0.0010\n",
      "Epoch 14/507\n",
      "70/70 [==============================] - 0s 6ms/step - loss: 5.8548 - mae: 1.9298 - val_loss: 5.3824 - val_mae: 1.8320 - lr: 0.0010\n",
      "Epoch 15/507\n",
      "70/70 [==============================] - 0s 6ms/step - loss: 5.7364 - mae: 1.9044 - val_loss: 5.5313 - val_mae: 1.8855 - lr: 0.0010\n",
      "Epoch 16/507\n",
      "70/70 [==============================] - 0s 6ms/step - loss: 5.7002 - mae: 1.9048 - val_loss: 5.4548 - val_mae: 1.8587 - lr: 0.0010\n",
      "Epoch 17/507\n",
      "70/70 [==============================] - 0s 6ms/step - loss: 5.6458 - mae: 1.8899 - val_loss: 5.7027 - val_mae: 1.9072 - lr: 0.0010\n",
      "Epoch 18/507\n",
      "70/70 [==============================] - 0s 6ms/step - loss: 5.6097 - mae: 1.8801 - val_loss: 5.1759 - val_mae: 1.7851 - lr: 0.0010\n",
      "Epoch 19/507\n",
      "70/70 [==============================] - 0s 6ms/step - loss: 5.6323 - mae: 1.8866 - val_loss: 5.5641 - val_mae: 1.8809 - lr: 0.0010\n",
      "Epoch 20/507\n",
      "70/70 [==============================] - 0s 6ms/step - loss: 5.5042 - mae: 1.8589 - val_loss: 5.4209 - val_mae: 1.8292 - lr: 0.0010\n",
      "Epoch 21/507\n",
      "70/70 [==============================] - 0s 6ms/step - loss: 5.5923 - mae: 1.8778 - val_loss: 5.2617 - val_mae: 1.8006 - lr: 0.0010\n",
      "Epoch 22/507\n",
      "70/70 [==============================] - 0s 6ms/step - loss: 5.3798 - mae: 1.8326 - val_loss: 5.3545 - val_mae: 1.8247 - lr: 0.0010\n",
      "Epoch 23/507\n",
      "70/70 [==============================] - 0s 6ms/step - loss: 5.3606 - mae: 1.8277 - val_loss: 5.2012 - val_mae: 1.7910 - lr: 0.0010\n",
      "Epoch 24/507\n",
      "70/70 [==============================] - 0s 6ms/step - loss: 5.3790 - mae: 1.8318 - val_loss: 6.9324 - val_mae: 2.1241 - lr: 0.0010\n",
      "Epoch 25/507\n",
      "70/70 [==============================] - 0s 6ms/step - loss: 5.3133 - mae: 1.8197 - val_loss: 5.0912 - val_mae: 1.7650 - lr: 0.0010\n",
      "Epoch 26/507\n",
      "70/70 [==============================] - 0s 6ms/step - loss: 5.2140 - mae: 1.7953 - val_loss: 5.3543 - val_mae: 1.8318 - lr: 0.0010\n",
      "Epoch 27/507\n",
      "70/70 [==============================] - 0s 6ms/step - loss: 5.2487 - mae: 1.8017 - val_loss: 4.9631 - val_mae: 1.7310 - lr: 0.0010\n",
      "Epoch 28/507\n",
      "70/70 [==============================] - 0s 6ms/step - loss: 5.1634 - mae: 1.7805 - val_loss: 5.1348 - val_mae: 1.7704 - lr: 0.0010\n",
      "Epoch 29/507\n",
      "70/70 [==============================] - 0s 6ms/step - loss: 5.1411 - mae: 1.7768 - val_loss: 4.8297 - val_mae: 1.6993 - lr: 0.0010\n",
      "Epoch 30/507\n",
      "70/70 [==============================] - 0s 6ms/step - loss: 5.1871 - mae: 1.7842 - val_loss: 5.3300 - val_mae: 1.7884 - lr: 0.0010\n",
      "Epoch 31/507\n",
      "70/70 [==============================] - 0s 6ms/step - loss: 5.1472 - mae: 1.7796 - val_loss: 5.2462 - val_mae: 1.7989 - lr: 0.0010\n",
      "Epoch 32/507\n",
      "70/70 [==============================] - 0s 6ms/step - loss: 5.1592 - mae: 1.7821 - val_loss: 4.8483 - val_mae: 1.7175 - lr: 0.0010\n",
      "Epoch 33/507\n",
      "70/70 [==============================] - 0s 6ms/step - loss: 5.0489 - mae: 1.7552 - val_loss: 4.8772 - val_mae: 1.7250 - lr: 0.0010\n",
      "Epoch 34/507\n",
      "70/70 [==============================] - 0s 6ms/step - loss: 5.0486 - mae: 1.7567 - val_loss: 5.0338 - val_mae: 1.7262 - lr: 0.0010\n",
      "Epoch 35/507\n",
      "70/70 [==============================] - 0s 6ms/step - loss: 5.0376 - mae: 1.7523 - val_loss: 4.8801 - val_mae: 1.7153 - lr: 0.0010\n",
      "Epoch 36/507\n",
      "70/70 [==============================] - 0s 6ms/step - loss: 4.9977 - mae: 1.7427 - val_loss: 5.2407 - val_mae: 1.7809 - lr: 0.0010\n",
      "Epoch 37/507\n",
      "70/70 [==============================] - 0s 6ms/step - loss: 4.9885 - mae: 1.7426 - val_loss: 4.8387 - val_mae: 1.6843 - lr: 0.0010\n",
      "Epoch 38/507\n",
      "70/70 [==============================] - 0s 6ms/step - loss: 4.9875 - mae: 1.7434 - val_loss: 4.9152 - val_mae: 1.7200 - lr: 0.0010\n",
      "Epoch 39/507\n",
      "70/70 [==============================] - 0s 6ms/step - loss: 4.9072 - mae: 1.7209 - val_loss: 4.7470 - val_mae: 1.6736 - lr: 0.0010\n",
      "Epoch 40/507\n",
      "70/70 [==============================] - 0s 6ms/step - loss: 4.9318 - mae: 1.7284 - val_loss: 4.9720 - val_mae: 1.7286 - lr: 0.0010\n",
      "Epoch 41/507\n",
      "70/70 [==============================] - 0s 6ms/step - loss: 4.9656 - mae: 1.7342 - val_loss: 5.1107 - val_mae: 1.7427 - lr: 0.0010\n",
      "Epoch 42/507\n",
      "70/70 [==============================] - 0s 6ms/step - loss: 4.9757 - mae: 1.7391 - val_loss: 4.6934 - val_mae: 1.6492 - lr: 0.0010\n",
      "Epoch 43/507\n",
      "70/70 [==============================] - 0s 6ms/step - loss: 4.9404 - mae: 1.7307 - val_loss: 4.6767 - val_mae: 1.6459 - lr: 0.0010\n",
      "Epoch 44/507\n",
      "70/70 [==============================] - 0s 6ms/step - loss: 4.9071 - mae: 1.7214 - val_loss: 4.8973 - val_mae: 1.6992 - lr: 0.0010\n",
      "Epoch 45/507\n",
      "70/70 [==============================] - 0s 6ms/step - loss: 4.9270 - mae: 1.7282 - val_loss: 4.6743 - val_mae: 1.6459 - lr: 0.0010\n",
      "Epoch 46/507\n",
      "70/70 [==============================] - 0s 6ms/step - loss: 4.9216 - mae: 1.7257 - val_loss: 4.7131 - val_mae: 1.6635 - lr: 0.0010\n",
      "Epoch 47/507\n",
      "70/70 [==============================] - 0s 6ms/step - loss: 4.8668 - mae: 1.7132 - val_loss: 4.6239 - val_mae: 1.6376 - lr: 0.0010\n",
      "Epoch 48/507\n",
      "70/70 [==============================] - 0s 6ms/step - loss: 4.8786 - mae: 1.7163 - val_loss: 4.8312 - val_mae: 1.6999 - lr: 0.0010\n",
      "Epoch 49/507\n",
      "70/70 [==============================] - 0s 6ms/step - loss: 4.8434 - mae: 1.7089 - val_loss: 4.8293 - val_mae: 1.6828 - lr: 0.0010\n",
      "Epoch 50/507\n",
      "70/70 [==============================] - 0s 6ms/step - loss: 4.8092 - mae: 1.6989 - val_loss: 4.5365 - val_mae: 1.6082 - lr: 0.0010\n",
      "Epoch 51/507\n",
      "70/70 [==============================] - 0s 6ms/step - loss: 4.8229 - mae: 1.7008 - val_loss: 4.8354 - val_mae: 1.6927 - lr: 0.0010\n",
      "Epoch 52/507\n",
      "70/70 [==============================] - 0s 6ms/step - loss: 4.7724 - mae: 1.6886 - val_loss: 4.4772 - val_mae: 1.5946 - lr: 0.0010\n",
      "Epoch 53/507\n",
      "70/70 [==============================] - 0s 6ms/step - loss: 4.8259 - mae: 1.7027 - val_loss: 4.9616 - val_mae: 1.7114 - lr: 0.0010\n",
      "Epoch 54/507\n",
      "70/70 [==============================] - 0s 6ms/step - loss: 4.7630 - mae: 1.6892 - val_loss: 4.4071 - val_mae: 1.5814 - lr: 0.0010\n",
      "Epoch 55/507\n",
      "70/70 [==============================] - 0s 6ms/step - loss: 4.7918 - mae: 1.6943 - val_loss: 4.7989 - val_mae: 1.6766 - lr: 0.0010\n",
      "Epoch 56/507\n",
      "70/70 [==============================] - 0s 6ms/step - loss: 4.7125 - mae: 1.6755 - val_loss: 4.5091 - val_mae: 1.6093 - lr: 0.0010\n",
      "Epoch 57/507\n",
      "70/70 [==============================] - 0s 6ms/step - loss: 4.7817 - mae: 1.6920 - val_loss: 4.3705 - val_mae: 1.5728 - lr: 0.0010\n",
      "Epoch 58/507\n",
      "70/70 [==============================] - 0s 6ms/step - loss: 4.7346 - mae: 1.6792 - val_loss: 4.8586 - val_mae: 1.6940 - lr: 0.0010\n",
      "Epoch 59/507\n",
      "70/70 [==============================] - 0s 6ms/step - loss: 4.7363 - mae: 1.6788 - val_loss: 4.4370 - val_mae: 1.5888 - lr: 0.0010\n",
      "Epoch 60/507\n",
      "70/70 [==============================] - 0s 6ms/step - loss: 4.7270 - mae: 1.6797 - val_loss: 5.6121 - val_mae: 1.8566 - lr: 0.0010\n",
      "Epoch 61/507\n",
      "70/70 [==============================] - 0s 6ms/step - loss: 4.7534 - mae: 1.6851 - val_loss: 4.5978 - val_mae: 1.6242 - lr: 0.0010\n",
      "Epoch 62/507\n",
      "70/70 [==============================] - 0s 6ms/step - loss: 4.7639 - mae: 1.6893 - val_loss: 4.5135 - val_mae: 1.6108 - lr: 0.0010\n",
      "Epoch 63/507\n",
      "70/70 [==============================] - 0s 6ms/step - loss: 4.7345 - mae: 1.6785 - val_loss: 4.5655 - val_mae: 1.6253 - lr: 0.0010\n",
      "Epoch 64/507\n",
      "70/70 [==============================] - 0s 6ms/step - loss: 4.7238 - mae: 1.6778 - val_loss: 4.6425 - val_mae: 1.6367 - lr: 0.0010\n",
      "Epoch 65/507\n",
      "70/70 [==============================] - 0s 6ms/step - loss: 4.7312 - mae: 1.6801 - val_loss: 4.4067 - val_mae: 1.5847 - lr: 0.0010\n",
      "Epoch 66/507\n",
      "70/70 [==============================] - 0s 6ms/step - loss: 4.6876 - mae: 1.6685 - val_loss: 4.5136 - val_mae: 1.6078 - lr: 0.0010\n",
      "Epoch 67/507\n",
      "70/70 [==============================] - 0s 6ms/step - loss: 4.6566 - mae: 1.6599 - val_loss: 4.4045 - val_mae: 1.5775 - lr: 0.0010\n",
      "Epoch 68/507\n",
      "70/70 [==============================] - 0s 6ms/step - loss: 4.7166 - mae: 1.6756 - val_loss: 4.6614 - val_mae: 1.6382 - lr: 0.0010\n",
      "Epoch 69/507\n",
      "70/70 [==============================] - 0s 6ms/step - loss: 4.6920 - mae: 1.6711 - val_loss: 4.6453 - val_mae: 1.6429 - lr: 0.0010\n",
      "Epoch 70/507\n",
      "70/70 [==============================] - 0s 6ms/step - loss: 4.6932 - mae: 1.6710 - val_loss: 4.5230 - val_mae: 1.6069 - lr: 0.0010\n",
      "Epoch 71/507\n",
      "70/70 [==============================] - 0s 6ms/step - loss: 4.6513 - mae: 1.6593 - val_loss: 4.4902 - val_mae: 1.6033 - lr: 0.0010\n",
      "Epoch 72/507\n",
      "70/70 [==============================] - 0s 6ms/step - loss: 4.6659 - mae: 1.6645 - val_loss: 4.3391 - val_mae: 1.5562 - lr: 0.0010\n",
      "Epoch 73/507\n",
      "70/70 [==============================] - 0s 6ms/step - loss: 4.6665 - mae: 1.6641 - val_loss: 4.5019 - val_mae: 1.5921 - lr: 0.0010\n",
      "Epoch 74/507\n",
      "70/70 [==============================] - 0s 6ms/step - loss: 4.6441 - mae: 1.6584 - val_loss: 4.5598 - val_mae: 1.6176 - lr: 0.0010\n",
      "Epoch 75/507\n",
      "70/70 [==============================] - 0s 6ms/step - loss: 4.6488 - mae: 1.6640 - val_loss: 4.5119 - val_mae: 1.5964 - lr: 0.0010\n",
      "Epoch 76/507\n",
      "70/70 [==============================] - 0s 6ms/step - loss: 4.6503 - mae: 1.6546 - val_loss: 7.9109 - val_mae: 1.8645 - lr: 0.0010\n",
      "Epoch 77/507\n",
      "70/70 [==============================] - 0s 6ms/step - loss: 4.7104 - mae: 1.6674 - val_loss: 4.5728 - val_mae: 1.6179 - lr: 0.0010\n",
      "Epoch 78/507\n",
      "70/70 [==============================] - 0s 6ms/step - loss: 4.6940 - mae: 1.6707 - val_loss: 4.5974 - val_mae: 1.6451 - lr: 0.0010\n",
      "Epoch 79/507\n",
      "70/70 [==============================] - 0s 6ms/step - loss: 4.7017 - mae: 1.6720 - val_loss: 4.5075 - val_mae: 1.5988 - lr: 0.0010\n",
      "Epoch 80/507\n",
      "70/70 [==============================] - 0s 6ms/step - loss: 4.6914 - mae: 1.6728 - val_loss: 4.4487 - val_mae: 1.5718 - lr: 0.0010\n",
      "Epoch 81/507\n",
      "70/70 [==============================] - 0s 6ms/step - loss: 4.6473 - mae: 1.6615 - val_loss: 4.4181 - val_mae: 1.5804 - lr: 0.0010\n",
      "Epoch 82/507\n",
      "70/70 [==============================] - 0s 6ms/step - loss: 4.6075 - mae: 1.6527 - val_loss: 4.4520 - val_mae: 1.5782 - lr: 0.0010\n",
      "Epoch 83/507\n",
      "70/70 [==============================] - 0s 6ms/step - loss: 4.5987 - mae: 1.6493 - val_loss: 4.4053 - val_mae: 1.5708 - lr: 0.0010\n",
      "Epoch 84/507\n",
      "70/70 [==============================] - 0s 6ms/step - loss: 4.6767 - mae: 1.6699 - val_loss: 4.5378 - val_mae: 1.6208 - lr: 0.0010\n",
      "Epoch 85/507\n",
      "70/70 [==============================] - 0s 6ms/step - loss: 4.6181 - mae: 1.6517 - val_loss: 4.4804 - val_mae: 1.5909 - lr: 0.0010\n",
      "Epoch 86/507\n",
      "70/70 [==============================] - 0s 6ms/step - loss: 4.6018 - mae: 1.6506 - val_loss: 4.4383 - val_mae: 1.5835 - lr: 0.0010\n",
      "Epoch 87/507\n",
      "70/70 [==============================] - 0s 6ms/step - loss: 4.5531 - mae: 1.6354 - val_loss: 4.3444 - val_mae: 1.5570 - lr: 0.0010\n",
      "Epoch 88/507\n",
      "70/70 [==============================] - 0s 6ms/step - loss: 4.5849 - mae: 1.6457 - val_loss: 4.5848 - val_mae: 1.6188 - lr: 0.0010\n",
      "Epoch 89/507\n",
      "70/70 [==============================] - 0s 6ms/step - loss: 4.5928 - mae: 1.6484 - val_loss: 4.5611 - val_mae: 1.6064 - lr: 0.0010\n",
      "Epoch 90/507\n",
      "70/70 [==============================] - 0s 6ms/step - loss: 4.6029 - mae: 1.6504 - val_loss: 4.3901 - val_mae: 1.5717 - lr: 0.0010\n",
      "Epoch 91/507\n",
      "70/70 [==============================] - 0s 6ms/step - loss: 4.5914 - mae: 1.6466 - val_loss: 4.2883 - val_mae: 1.5435 - lr: 0.0010\n",
      "Epoch 92/507\n",
      "70/70 [==============================] - 0s 6ms/step - loss: 4.5194 - mae: 1.6298 - val_loss: 4.4598 - val_mae: 1.5809 - lr: 0.0010\n",
      "Epoch 93/507\n",
      "70/70 [==============================] - 0s 6ms/step - loss: 4.5603 - mae: 1.6402 - val_loss: 4.4665 - val_mae: 1.5895 - lr: 0.0010\n",
      "Epoch 94/507\n",
      "70/70 [==============================] - 0s 6ms/step - loss: 4.5453 - mae: 1.6375 - val_loss: 4.3980 - val_mae: 1.5709 - lr: 0.0010\n",
      "Epoch 95/507\n",
      "70/70 [==============================] - 0s 6ms/step - loss: 4.5381 - mae: 1.6335 - val_loss: 4.3705 - val_mae: 1.5531 - lr: 0.0010\n",
      "Epoch 96/507\n",
      "70/70 [==============================] - 0s 6ms/step - loss: 4.5205 - mae: 1.6278 - val_loss: 4.3734 - val_mae: 1.5690 - lr: 0.0010\n",
      "Epoch 97/507\n",
      "70/70 [==============================] - 0s 6ms/step - loss: 4.5811 - mae: 1.6473 - val_loss: 4.3998 - val_mae: 1.5778 - lr: 0.0010\n",
      "Epoch 98/507\n",
      "70/70 [==============================] - 0s 6ms/step - loss: 4.6191 - mae: 1.6577 - val_loss: 4.4583 - val_mae: 1.5883 - lr: 0.0010\n",
      "Epoch 99/507\n",
      "70/70 [==============================] - 0s 6ms/step - loss: 4.5415 - mae: 1.6388 - val_loss: 4.4457 - val_mae: 1.5930 - lr: 0.0010\n",
      "Epoch 100/507\n",
      "70/70 [==============================] - 0s 6ms/step - loss: 4.5481 - mae: 1.6385 - val_loss: 4.4531 - val_mae: 1.5777 - lr: 0.0010\n",
      "Epoch 101/507\n",
      "70/70 [==============================] - 0s 6ms/step - loss: 4.4895 - mae: 1.6221 - val_loss: 4.3228 - val_mae: 1.5507 - lr: 3.6603e-04\n",
      "Epoch 102/507\n",
      "70/70 [==============================] - 0s 6ms/step - loss: 4.4079 - mae: 1.6029 - val_loss: 4.3436 - val_mae: 1.5574 - lr: 3.6237e-04\n",
      "Epoch 103/507\n",
      "70/70 [==============================] - 0s 6ms/step - loss: 4.4289 - mae: 1.6092 - val_loss: 4.2920 - val_mae: 1.5437 - lr: 3.5875e-04\n",
      "Epoch 104/507\n",
      "70/70 [==============================] - 0s 6ms/step - loss: 4.3855 - mae: 1.5963 - val_loss: 4.2967 - val_mae: 1.5492 - lr: 3.5516e-04\n",
      "Epoch 105/507\n",
      "70/70 [==============================] - 0s 6ms/step - loss: 4.4413 - mae: 1.6105 - val_loss: 4.2881 - val_mae: 1.5468 - lr: 3.5161e-04\n",
      "Epoch 106/507\n",
      "70/70 [==============================] - 0s 6ms/step - loss: 4.4276 - mae: 1.6089 - val_loss: 4.3165 - val_mae: 1.5540 - lr: 3.4809e-04\n",
      "Epoch 107/507\n",
      "70/70 [==============================] - 0s 6ms/step - loss: 4.4355 - mae: 1.6113 - val_loss: 4.2842 - val_mae: 1.5382 - lr: 3.4461e-04\n",
      "Epoch 108/507\n",
      "70/70 [==============================] - 0s 6ms/step - loss: 4.4071 - mae: 1.6032 - val_loss: 4.3227 - val_mae: 1.5487 - lr: 3.4117e-04\n",
      "Epoch 109/507\n",
      "70/70 [==============================] - 0s 6ms/step - loss: 4.3951 - mae: 1.6005 - val_loss: 4.3072 - val_mae: 1.5492 - lr: 3.3775e-04\n",
      "Epoch 110/507\n",
      "70/70 [==============================] - 0s 6ms/step - loss: 4.3679 - mae: 1.5982 - val_loss: 4.2997 - val_mae: 1.5482 - lr: 3.3438e-04\n",
      "Epoch 111/507\n",
      "70/70 [==============================] - 0s 6ms/step - loss: 4.3698 - mae: 1.5956 - val_loss: 4.3118 - val_mae: 1.5526 - lr: 3.3103e-04\n",
      "Epoch 112/507\n",
      "70/70 [==============================] - 0s 6ms/step - loss: 4.4047 - mae: 1.6051 - val_loss: 4.2681 - val_mae: 1.5340 - lr: 3.2772e-04\n",
      "Epoch 113/507\n"
     ]
    },
    {
     "name": "stdout",
     "output_type": "stream",
     "text": [
      "70/70 [==============================] - 0s 6ms/step - loss: 4.4251 - mae: 1.6085 - val_loss: 4.2744 - val_mae: 1.5390 - lr: 3.2445e-04\n",
      "Epoch 114/507\n",
      "70/70 [==============================] - 0s 6ms/step - loss: 4.3767 - mae: 1.5999 - val_loss: 4.2988 - val_mae: 1.5453 - lr: 3.2120e-04\n",
      "Epoch 115/507\n",
      "70/70 [==============================] - 0s 6ms/step - loss: 4.3830 - mae: 1.5996 - val_loss: 4.2750 - val_mae: 1.5380 - lr: 3.1799e-04\n",
      "Epoch 116/507\n",
      "70/70 [==============================] - 0s 6ms/step - loss: 4.3564 - mae: 1.5920 - val_loss: 4.2759 - val_mae: 1.5367 - lr: 3.1481e-04\n",
      "Epoch 117/507\n",
      "70/70 [==============================] - 0s 6ms/step - loss: 4.3705 - mae: 1.5966 - val_loss: 4.3033 - val_mae: 1.5472 - lr: 3.1166e-04\n",
      "Epoch 118/507\n",
      "70/70 [==============================] - 0s 6ms/step - loss: 4.3401 - mae: 1.5923 - val_loss: 4.2656 - val_mae: 1.5412 - lr: 3.0854e-04\n",
      "Epoch 119/507\n",
      "70/70 [==============================] - 0s 6ms/step - loss: 4.3683 - mae: 1.5956 - val_loss: 4.2900 - val_mae: 1.5390 - lr: 3.0546e-04\n",
      "Epoch 120/507\n",
      "70/70 [==============================] - 0s 6ms/step - loss: 4.3716 - mae: 1.5969 - val_loss: 4.2494 - val_mae: 1.5368 - lr: 3.0240e-04\n",
      "Epoch 121/507\n",
      "70/70 [==============================] - 0s 6ms/step - loss: 4.3511 - mae: 1.5921 - val_loss: 4.2440 - val_mae: 1.5319 - lr: 2.9938e-04\n",
      "Epoch 122/507\n",
      "70/70 [==============================] - 0s 6ms/step - loss: 4.3682 - mae: 1.5944 - val_loss: 4.2989 - val_mae: 1.5350 - lr: 2.9639e-04\n",
      "Epoch 123/507\n",
      "70/70 [==============================] - 0s 6ms/step - loss: 4.3323 - mae: 1.5881 - val_loss: 4.2462 - val_mae: 1.5298 - lr: 2.9342e-04\n",
      "Epoch 124/507\n",
      "70/70 [==============================] - 0s 6ms/step - loss: 4.3315 - mae: 1.5863 - val_loss: 4.2810 - val_mae: 1.5420 - lr: 2.9049e-04\n",
      "Epoch 125/507\n",
      "70/70 [==============================] - 0s 6ms/step - loss: 4.3467 - mae: 1.5930 - val_loss: 4.2618 - val_mae: 1.5299 - lr: 2.8758e-04\n",
      "Epoch 126/507\n",
      "70/70 [==============================] - 0s 6ms/step - loss: 4.3033 - mae: 1.5819 - val_loss: 4.2509 - val_mae: 1.5326 - lr: 2.8471e-04\n",
      "Epoch 127/507\n",
      "70/70 [==============================] - 0s 6ms/step - loss: 4.3580 - mae: 1.5963 - val_loss: 4.2788 - val_mae: 1.5395 - lr: 2.8186e-04\n",
      "Epoch 128/507\n",
      "70/70 [==============================] - 0s 6ms/step - loss: 4.3689 - mae: 1.5965 - val_loss: 4.2713 - val_mae: 1.5406 - lr: 2.7904e-04\n",
      "Epoch 129/507\n",
      "70/70 [==============================] - 0s 6ms/step - loss: 4.3307 - mae: 1.5893 - val_loss: 4.2499 - val_mae: 1.5320 - lr: 2.7625e-04\n",
      "Epoch 130/507\n",
      "70/70 [==============================] - 0s 6ms/step - loss: 4.3426 - mae: 1.5894 - val_loss: 4.2633 - val_mae: 1.5351 - lr: 2.7349e-04\n",
      "Epoch 131/507\n",
      "70/70 [==============================] - 0s 6ms/step - loss: 4.3095 - mae: 1.5835 - val_loss: 4.2570 - val_mae: 1.5303 - lr: 2.7075e-04\n",
      "Epoch 132/507\n",
      "70/70 [==============================] - 0s 6ms/step - loss: 4.3381 - mae: 1.5877 - val_loss: 4.2681 - val_mae: 1.5316 - lr: 2.6805e-04\n",
      "Epoch 133/507\n",
      "70/70 [==============================] - 0s 6ms/step - loss: 4.3140 - mae: 1.5856 - val_loss: 4.2767 - val_mae: 1.5383 - lr: 2.6537e-04\n",
      "Epoch 134/507\n",
      "70/70 [==============================] - 0s 6ms/step - loss: 4.3106 - mae: 1.5830 - val_loss: 4.2993 - val_mae: 1.5419 - lr: 2.6271e-04\n",
      "Epoch 135/507\n",
      "70/70 [==============================] - 0s 6ms/step - loss: 4.2901 - mae: 1.5798 - val_loss: 4.2537 - val_mae: 1.5303 - lr: 2.6009e-04\n",
      "Epoch 136/507\n",
      "70/70 [==============================] - 0s 6ms/step - loss: 4.2895 - mae: 1.5779 - val_loss: 4.2379 - val_mae: 1.5268 - lr: 2.5748e-04\n",
      "Epoch 137/507\n",
      "70/70 [==============================] - 0s 6ms/step - loss: 4.2971 - mae: 1.5822 - val_loss: 4.2691 - val_mae: 1.5345 - lr: 2.5491e-04\n",
      "Epoch 138/507\n",
      "70/70 [==============================] - 0s 6ms/step - loss: 4.2561 - mae: 1.5725 - val_loss: 4.2694 - val_mae: 1.5347 - lr: 2.5236e-04\n",
      "Epoch 139/507\n",
      "70/70 [==============================] - 0s 6ms/step - loss: 4.2735 - mae: 1.5750 - val_loss: 4.2606 - val_mae: 1.5326 - lr: 2.4984e-04\n",
      "Epoch 140/507\n",
      "70/70 [==============================] - 0s 6ms/step - loss: 4.2788 - mae: 1.5748 - val_loss: 4.2551 - val_mae: 1.5266 - lr: 2.4734e-04\n",
      "Epoch 141/507\n",
      "70/70 [==============================] - 0s 6ms/step - loss: 4.2759 - mae: 1.5752 - val_loss: 4.2585 - val_mae: 1.5282 - lr: 2.4487e-04\n",
      "Epoch 142/507\n",
      "70/70 [==============================] - 0s 6ms/step - loss: 4.3030 - mae: 1.5839 - val_loss: 4.2864 - val_mae: 1.5419 - lr: 2.4242e-04\n",
      "Epoch 143/507\n",
      "70/70 [==============================] - 0s 6ms/step - loss: 4.2595 - mae: 1.5742 - val_loss: 4.2825 - val_mae: 1.5341 - lr: 2.3999e-04\n",
      "Epoch 144/507\n",
      "70/70 [==============================] - 0s 6ms/step - loss: 4.2918 - mae: 1.5822 - val_loss: 4.2601 - val_mae: 1.5302 - lr: 2.3759e-04\n",
      "Epoch 145/507\n",
      "70/70 [==============================] - 0s 6ms/step - loss: 4.2696 - mae: 1.5751 - val_loss: 4.2533 - val_mae: 1.5327 - lr: 2.3522e-04\n",
      "Epoch 146/507\n",
      "70/70 [==============================] - 0s 6ms/step - loss: 4.2526 - mae: 1.5695 - val_loss: 4.2438 - val_mae: 1.5269 - lr: 2.3286e-04\n",
      "Epoch 147/507\n",
      "70/70 [==============================] - 0s 7ms/step - loss: 4.2515 - mae: 1.5705 - val_loss: 4.2500 - val_mae: 1.5245 - lr: 2.3054e-04\n",
      "Epoch 148/507\n",
      "70/70 [==============================] - 0s 7ms/step - loss: 4.3022 - mae: 1.5822 - val_loss: 4.2638 - val_mae: 1.5292 - lr: 2.2823e-04\n",
      "Epoch 149/507\n",
      "70/70 [==============================] - 0s 6ms/step - loss: 4.2456 - mae: 1.5702 - val_loss: 4.2472 - val_mae: 1.5275 - lr: 2.2595e-04\n",
      "Epoch 150/507\n",
      "70/70 [==============================] - 0s 6ms/step - loss: 4.2878 - mae: 1.5799 - val_loss: 4.2626 - val_mae: 1.5272 - lr: 2.2369e-04\n",
      "Epoch 151/507\n",
      "70/70 [==============================] - 0s 6ms/step - loss: 4.2810 - mae: 1.5787 - val_loss: 4.2501 - val_mae: 1.5274 - lr: 2.2145e-04\n",
      "Epoch 152/507\n",
      "70/70 [==============================] - 0s 6ms/step - loss: 4.2148 - mae: 1.5633 - val_loss: 4.2501 - val_mae: 1.5276 - lr: 2.1924e-04\n",
      "Epoch 153/507\n",
      "70/70 [==============================] - 0s 6ms/step - loss: 4.2508 - mae: 1.5705 - val_loss: 4.2385 - val_mae: 1.5203 - lr: 2.1704e-04\n",
      "Epoch 154/507\n",
      "70/70 [==============================] - 0s 6ms/step - loss: 4.2545 - mae: 1.5716 - val_loss: 4.2349 - val_mae: 1.5187 - lr: 2.1487e-04\n",
      "Epoch 155/507\n",
      "70/70 [==============================] - 0s 6ms/step - loss: 4.2490 - mae: 1.5719 - val_loss: 4.2588 - val_mae: 1.5257 - lr: 2.1273e-04\n",
      "Epoch 156/507\n",
      "70/70 [==============================] - 0s 6ms/step - loss: 4.2359 - mae: 1.5690 - val_loss: 4.2761 - val_mae: 1.5305 - lr: 2.1060e-04\n",
      "Epoch 157/507\n",
      "70/70 [==============================] - 0s 6ms/step - loss: 4.2110 - mae: 1.5636 - val_loss: 4.2356 - val_mae: 1.5163 - lr: 2.0849e-04\n",
      "Epoch 158/507\n",
      "70/70 [==============================] - 0s 6ms/step - loss: 4.2181 - mae: 1.5663 - val_loss: 4.2623 - val_mae: 1.5312 - lr: 2.0641e-04\n",
      "Epoch 159/507\n",
      "70/70 [==============================] - 0s 6ms/step - loss: 4.2491 - mae: 1.5700 - val_loss: 4.2655 - val_mae: 1.5287 - lr: 2.0434e-04\n",
      "Epoch 160/507\n",
      "70/70 [==============================] - 0s 6ms/step - loss: 4.2319 - mae: 1.5657 - val_loss: 4.2647 - val_mae: 1.5281 - lr: 2.0230e-04\n",
      "Epoch 161/507\n",
      "70/70 [==============================] - 0s 6ms/step - loss: 4.2184 - mae: 1.5621 - val_loss: 4.2338 - val_mae: 1.5187 - lr: 2.0028e-04\n",
      "Epoch 162/507\n",
      "70/70 [==============================] - 0s 6ms/step - loss: 4.2367 - mae: 1.5676 - val_loss: 4.2777 - val_mae: 1.5305 - lr: 1.9827e-04\n",
      "Epoch 163/507\n",
      "70/70 [==============================] - 0s 6ms/step - loss: 4.1782 - mae: 1.5537 - val_loss: 4.2331 - val_mae: 1.5221 - lr: 1.9629e-04\n",
      "Epoch 164/507\n",
      "70/70 [==============================] - 0s 6ms/step - loss: 4.1825 - mae: 1.5569 - val_loss: 4.2335 - val_mae: 1.5161 - lr: 1.9433e-04\n",
      "Epoch 165/507\n",
      "70/70 [==============================] - 0s 6ms/step - loss: 4.1868 - mae: 1.5582 - val_loss: 4.2714 - val_mae: 1.5297 - lr: 1.9239e-04\n",
      "Epoch 166/507\n",
      "70/70 [==============================] - 0s 6ms/step - loss: 4.1963 - mae: 1.5603 - val_loss: 4.2530 - val_mae: 1.5235 - lr: 1.9046e-04\n",
      "Epoch 167/507\n",
      "70/70 [==============================] - 0s 6ms/step - loss: 4.1945 - mae: 1.5570 - val_loss: 4.2417 - val_mae: 1.5184 - lr: 1.8856e-04\n"
     ]
    },
    {
     "name": "stdout",
     "output_type": "stream",
     "text": [
      "Epoch 168/507\n",
      "70/70 [==============================] - 0s 6ms/step - loss: 4.1957 - mae: 1.5577 - val_loss: 4.2406 - val_mae: 1.5186 - lr: 1.8667e-04\n",
      "Epoch 169/507\n",
      "70/70 [==============================] - 0s 6ms/step - loss: 4.2198 - mae: 1.5665 - val_loss: 4.2668 - val_mae: 1.5228 - lr: 1.8480e-04\n",
      "Epoch 170/507\n",
      "70/70 [==============================] - 0s 6ms/step - loss: 4.2090 - mae: 1.5631 - val_loss: 4.2645 - val_mae: 1.5253 - lr: 1.8296e-04\n",
      "Epoch 171/507\n",
      "70/70 [==============================] - 0s 6ms/step - loss: 4.1600 - mae: 1.5519 - val_loss: 4.2251 - val_mae: 1.5144 - lr: 1.8113e-04\n",
      "Epoch 172/507\n",
      "70/70 [==============================] - 0s 6ms/step - loss: 4.2273 - mae: 1.5646 - val_loss: 4.2591 - val_mae: 1.5240 - lr: 1.7932e-04\n",
      "Epoch 173/507\n",
      "70/70 [==============================] - 0s 6ms/step - loss: 4.2003 - mae: 1.5621 - val_loss: 4.2416 - val_mae: 1.5186 - lr: 1.7752e-04\n",
      "Epoch 174/507\n",
      "70/70 [==============================] - 0s 6ms/step - loss: 4.1980 - mae: 1.5608 - val_loss: 4.2474 - val_mae: 1.5177 - lr: 1.7575e-04\n",
      "Epoch 175/507\n",
      "70/70 [==============================] - 0s 6ms/step - loss: 4.1885 - mae: 1.5579 - val_loss: 4.2235 - val_mae: 1.5097 - lr: 1.7399e-04\n",
      "Epoch 176/507\n",
      "70/70 [==============================] - 0s 6ms/step - loss: 4.1704 - mae: 1.5552 - val_loss: 4.2537 - val_mae: 1.5179 - lr: 1.7225e-04\n",
      "Epoch 177/507\n",
      "70/70 [==============================] - 0s 6ms/step - loss: 4.1724 - mae: 1.5540 - val_loss: 4.2510 - val_mae: 1.5117 - lr: 1.7053e-04\n",
      "Epoch 178/507\n",
      "70/70 [==============================] - 0s 6ms/step - loss: 4.1664 - mae: 1.5519 - val_loss: 4.2674 - val_mae: 1.5234 - lr: 1.6882e-04\n",
      "Epoch 179/507\n",
      "70/70 [==============================] - 0s 6ms/step - loss: 4.1692 - mae: 1.5565 - val_loss: 4.2558 - val_mae: 1.5223 - lr: 1.6713e-04\n",
      "Epoch 180/507\n",
      "70/70 [==============================] - 0s 6ms/step - loss: 4.1773 - mae: 1.5585 - val_loss: 4.2585 - val_mae: 1.5167 - lr: 1.6546e-04\n",
      "Epoch 181/507\n",
      "70/70 [==============================] - 0s 6ms/step - loss: 4.1894 - mae: 1.5591 - val_loss: 4.2464 - val_mae: 1.5190 - lr: 1.6381e-04\n",
      "Epoch 182/507\n",
      "70/70 [==============================] - 0s 6ms/step - loss: 4.1856 - mae: 1.5582 - val_loss: 4.2451 - val_mae: 1.5149 - lr: 1.6217e-04\n",
      "Epoch 183/507\n",
      "70/70 [==============================] - 0s 6ms/step - loss: 4.1910 - mae: 1.5586 - val_loss: 4.2502 - val_mae: 1.5134 - lr: 1.6055e-04\n",
      "Epoch 184/507\n",
      "70/70 [==============================] - 0s 6ms/step - loss: 4.1251 - mae: 1.5465 - val_loss: 4.2587 - val_mae: 1.5179 - lr: 1.5894e-04\n",
      "Epoch 185/507\n",
      "70/70 [==============================] - 0s 6ms/step - loss: 4.1443 - mae: 1.5503 - val_loss: 4.2855 - val_mae: 1.5202 - lr: 1.5735e-04\n",
      "Epoch 186/507\n",
      "70/70 [==============================] - 0s 6ms/step - loss: 4.1427 - mae: 1.5461 - val_loss: 4.2508 - val_mae: 1.5183 - lr: 1.5578e-04\n",
      "Epoch 187/507\n",
      "70/70 [==============================] - 0s 6ms/step - loss: 4.1644 - mae: 1.5555 - val_loss: 4.2549 - val_mae: 1.5170 - lr: 1.5422e-04\n",
      "Epoch 188/507\n",
      "70/70 [==============================] - 0s 6ms/step - loss: 4.1564 - mae: 1.5509 - val_loss: 4.2498 - val_mae: 1.5162 - lr: 1.5268e-04\n",
      "Epoch 189/507\n",
      "70/70 [==============================] - 0s 6ms/step - loss: 4.2114 - mae: 1.5660 - val_loss: 4.2564 - val_mae: 1.5171 - lr: 1.5115e-04\n",
      "Epoch 190/507\n",
      "70/70 [==============================] - 0s 6ms/step - loss: 4.1398 - mae: 1.5466 - val_loss: 4.2513 - val_mae: 1.5090 - lr: 1.4964e-04\n",
      "Epoch 191/507\n",
      "70/70 [==============================] - 0s 6ms/step - loss: 4.2207 - mae: 1.5681 - val_loss: 4.2414 - val_mae: 1.5173 - lr: 1.4814e-04\n",
      "Epoch 192/507\n",
      "70/70 [==============================] - 0s 6ms/step - loss: 4.1368 - mae: 1.5469 - val_loss: 4.2500 - val_mae: 1.5112 - lr: 1.4666e-04\n",
      "Epoch 193/507\n",
      "70/70 [==============================] - 0s 6ms/step - loss: 4.1295 - mae: 1.5442 - val_loss: 4.2594 - val_mae: 1.5142 - lr: 1.4520e-04\n",
      "Epoch 194/507\n",
      "70/70 [==============================] - 0s 6ms/step - loss: 4.1243 - mae: 1.5433 - val_loss: 4.2347 - val_mae: 1.5089 - lr: 1.4374e-04\n",
      "Epoch 195/507\n",
      "70/70 [==============================] - 0s 6ms/step - loss: 4.1093 - mae: 1.5382 - val_loss: 4.2541 - val_mae: 1.5117 - lr: 1.4231e-04\n",
      "Epoch 196/507\n",
      "70/70 [==============================] - 0s 6ms/step - loss: 4.1139 - mae: 1.5435 - val_loss: 4.2441 - val_mae: 1.5116 - lr: 1.4088e-04\n",
      "Epoch 197/507\n",
      "70/70 [==============================] - 0s 6ms/step - loss: 4.1296 - mae: 1.5474 - val_loss: 4.2711 - val_mae: 1.5162 - lr: 1.3948e-04\n",
      "Epoch 198/507\n",
      "70/70 [==============================] - 0s 6ms/step - loss: 4.1355 - mae: 1.5451 - val_loss: 4.2697 - val_mae: 1.5197 - lr: 1.3808e-04\n",
      "Epoch 199/507\n",
      "70/70 [==============================] - 0s 6ms/step - loss: 4.1180 - mae: 1.5421 - val_loss: 4.2584 - val_mae: 1.5121 - lr: 1.3670e-04\n",
      "Epoch 200/507\n",
      "70/70 [==============================] - 0s 6ms/step - loss: 4.1260 - mae: 1.5429 - val_loss: 4.2703 - val_mae: 1.5142 - lr: 1.3533e-04\n",
      "Epoch 201/507\n",
      "70/70 [==============================] - 0s 6ms/step - loss: 4.1348 - mae: 1.5477 - val_loss: 4.2554 - val_mae: 1.5135 - lr: 1.3398e-04\n",
      "Epoch 202/507\n",
      "70/70 [==============================] - 0s 6ms/step - loss: 4.1125 - mae: 1.5456 - val_loss: 4.2684 - val_mae: 1.5116 - lr: 1.3264e-04\n",
      "Epoch 203/507\n",
      "70/70 [==============================] - 0s 6ms/step - loss: 4.1153 - mae: 1.5419 - val_loss: 4.2567 - val_mae: 1.5155 - lr: 1.3131e-04\n",
      "Epoch 204/507\n",
      "70/70 [==============================] - 0s 6ms/step - loss: 4.1354 - mae: 1.5481 - val_loss: 4.2455 - val_mae: 1.5104 - lr: 1.3000e-04\n",
      "Epoch 205/507\n",
      "70/70 [==============================] - 0s 6ms/step - loss: 4.1053 - mae: 1.5419 - val_loss: 4.2442 - val_mae: 1.5019 - lr: 1.2870e-04\n",
      "Epoch 206/507\n",
      "70/70 [==============================] - 0s 6ms/step - loss: 4.0960 - mae: 1.5381 - val_loss: 4.2483 - val_mae: 1.5081 - lr: 1.2741e-04\n",
      "Epoch 207/507\n",
      "70/70 [==============================] - 0s 6ms/step - loss: 4.1336 - mae: 1.5487 - val_loss: 4.2667 - val_mae: 1.5167 - lr: 1.2614e-04\n",
      "Epoch 208/507\n",
      "70/70 [==============================] - 0s 6ms/step - loss: 4.1071 - mae: 1.5416 - val_loss: 4.2602 - val_mae: 1.5079 - lr: 1.2488e-04\n",
      "Epoch 209/507\n",
      "70/70 [==============================] - 1s 9ms/step - loss: 4.0800 - mae: 1.5348 - val_loss: 4.2629 - val_mae: 1.5087 - lr: 1.2363e-04\n",
      "Epoch 210/507\n",
      "70/70 [==============================] - 0s 6ms/step - loss: 4.1051 - mae: 1.5410 - val_loss: 4.2696 - val_mae: 1.5159 - lr: 1.2239e-04\n",
      "Epoch 211/507\n",
      "70/70 [==============================] - 0s 6ms/step - loss: 4.1303 - mae: 1.5478 - val_loss: 4.2553 - val_mae: 1.5118 - lr: 1.2117e-04\n",
      "Epoch 212/507\n",
      "70/70 [==============================] - 0s 6ms/step - loss: 4.1285 - mae: 1.5471 - val_loss: 4.2559 - val_mae: 1.5085 - lr: 1.1996e-04\n",
      "Epoch 213/507\n",
      "70/70 [==============================] - 0s 6ms/step - loss: 4.1128 - mae: 1.5432 - val_loss: 4.2541 - val_mae: 1.5076 - lr: 1.1876e-04\n",
      "Epoch 214/507\n",
      "70/70 [==============================] - 0s 6ms/step - loss: 4.1178 - mae: 1.5424 - val_loss: 4.2599 - val_mae: 1.5147 - lr: 1.1757e-04\n",
      "Epoch 215/507\n",
      "70/70 [==============================] - 0s 6ms/step - loss: 4.0990 - mae: 1.5401 - val_loss: 4.2585 - val_mae: 1.5103 - lr: 1.1639e-04\n",
      "Epoch 216/507\n",
      "70/70 [==============================] - 0s 6ms/step - loss: 4.1022 - mae: 1.5394 - val_loss: 4.2526 - val_mae: 1.5096 - lr: 1.1523e-04\n",
      "Epoch 217/507\n",
      "70/70 [==============================] - 0s 6ms/step - loss: 4.0887 - mae: 1.5369 - val_loss: 4.2728 - val_mae: 1.5144 - lr: 1.1408e-04\n",
      "Epoch 218/507\n",
      "70/70 [==============================] - 0s 6ms/step - loss: 4.0734 - mae: 1.5344 - val_loss: 4.2774 - val_mae: 1.5141 - lr: 1.1294e-04\n",
      "Epoch 219/507\n",
      "70/70 [==============================] - 0s 6ms/step - loss: 4.0765 - mae: 1.5346 - val_loss: 4.2542 - val_mae: 1.5048 - lr: 1.1181e-04\n",
      "Epoch 220/507\n",
      "70/70 [==============================] - 0s 6ms/step - loss: 4.1040 - mae: 1.5419 - val_loss: 4.2649 - val_mae: 1.5106 - lr: 1.1069e-04\n",
      "Epoch 221/507\n",
      "70/70 [==============================] - 0s 6ms/step - loss: 4.0551 - mae: 1.5294 - val_loss: 4.2589 - val_mae: 1.5080 - lr: 1.0958e-04\n",
      "Epoch 222/507\n",
      "70/70 [==============================] - 0s 6ms/step - loss: 4.0891 - mae: 1.5404 - val_loss: 4.2679 - val_mae: 1.5123 - lr: 1.0849e-04\n"
     ]
    },
    {
     "name": "stdout",
     "output_type": "stream",
     "text": [
      "Epoch 223/507\n",
      "70/70 [==============================] - 0s 6ms/step - loss: 4.0976 - mae: 1.5400 - val_loss: 4.2711 - val_mae: 1.5139 - lr: 1.0740e-04\n",
      "Epoch 224/507\n",
      "70/70 [==============================] - 0s 6ms/step - loss: 4.0750 - mae: 1.5357 - val_loss: 4.2622 - val_mae: 1.5090 - lr: 1.0633e-04\n",
      "Epoch 225/507\n",
      "70/70 [==============================] - 0s 6ms/step - loss: 4.0921 - mae: 1.5383 - val_loss: 4.2611 - val_mae: 1.5099 - lr: 1.0526e-04\n",
      "Epoch 226/507\n",
      "70/70 [==============================] - 0s 6ms/step - loss: 4.0771 - mae: 1.5363 - val_loss: 4.2798 - val_mae: 1.5108 - lr: 1.0421e-04\n",
      "Epoch 227/507\n",
      "70/70 [==============================] - 0s 6ms/step - loss: 4.0573 - mae: 1.5312 - val_loss: 4.2654 - val_mae: 1.5101 - lr: 1.0317e-04\n",
      "Epoch 228/507\n",
      "70/70 [==============================] - 0s 6ms/step - loss: 4.0889 - mae: 1.5398 - val_loss: 4.2780 - val_mae: 1.5140 - lr: 1.0214e-04\n",
      "Epoch 229/507\n",
      "70/70 [==============================] - 0s 6ms/step - loss: 4.0624 - mae: 1.5319 - val_loss: 4.2719 - val_mae: 1.5115 - lr: 1.0112e-04\n",
      "Epoch 230/507\n",
      "70/70 [==============================] - 0s 6ms/step - loss: 4.0808 - mae: 1.5370 - val_loss: 4.2557 - val_mae: 1.5063 - lr: 1.0011e-04\n",
      "Epoch 231/507\n",
      "70/70 [==============================] - 0s 6ms/step - loss: 4.0934 - mae: 1.5399 - val_loss: 4.2828 - val_mae: 1.5159 - lr: 9.9105e-05\n",
      "Epoch 232/507\n",
      "70/70 [==============================] - 0s 6ms/step - loss: 4.0641 - mae: 1.5323 - val_loss: 4.2719 - val_mae: 1.5127 - lr: 9.8114e-05\n",
      "Epoch 233/507\n",
      "70/70 [==============================] - 0s 6ms/step - loss: 4.0254 - mae: 1.5255 - val_loss: 4.2708 - val_mae: 1.5093 - lr: 9.7133e-05\n",
      "Epoch 234/507\n",
      "70/70 [==============================] - 0s 6ms/step - loss: 4.0670 - mae: 1.5341 - val_loss: 4.2759 - val_mae: 1.5096 - lr: 9.6161e-05\n",
      "Epoch 235/507\n",
      "70/70 [==============================] - 0s 6ms/step - loss: 4.0408 - mae: 1.5251 - val_loss: 4.2755 - val_mae: 1.5062 - lr: 9.5200e-05\n",
      "Epoch 236/507\n",
      "70/70 [==============================] - 0s 6ms/step - loss: 4.0745 - mae: 1.5346 - val_loss: 4.2705 - val_mae: 1.5121 - lr: 9.4248e-05\n",
      "Epoch 237/507\n",
      "70/70 [==============================] - 0s 6ms/step - loss: 4.1097 - mae: 1.5459 - val_loss: 4.2803 - val_mae: 1.5143 - lr: 9.3305e-05\n",
      "Epoch 238/507\n",
      "70/70 [==============================] - 0s 6ms/step - loss: 4.0521 - mae: 1.5331 - val_loss: 4.2819 - val_mae: 1.5089 - lr: 9.2372e-05\n",
      "Epoch 239/507\n",
      "70/70 [==============================] - 0s 6ms/step - loss: 4.0593 - mae: 1.5308 - val_loss: 4.2919 - val_mae: 1.5129 - lr: 9.1448e-05\n",
      "Epoch 240/507\n",
      "70/70 [==============================] - 0s 6ms/step - loss: 4.0688 - mae: 1.5331 - val_loss: 4.2856 - val_mae: 1.5116 - lr: 9.0534e-05\n",
      "Epoch 241/507\n",
      "70/70 [==============================] - 0s 6ms/step - loss: 4.0912 - mae: 1.5402 - val_loss: 4.2918 - val_mae: 1.5213 - lr: 8.9629e-05\n",
      "Epoch 242/507\n",
      "70/70 [==============================] - 0s 6ms/step - loss: 4.0396 - mae: 1.5292 - val_loss: 4.2858 - val_mae: 1.5133 - lr: 8.8732e-05\n",
      "Epoch 243/507\n",
      "70/70 [==============================] - 0s 6ms/step - loss: 4.0867 - mae: 1.5414 - val_loss: 4.2747 - val_mae: 1.5149 - lr: 8.7845e-05\n",
      "Epoch 244/507\n",
      "70/70 [==============================] - 0s 6ms/step - loss: 4.0452 - mae: 1.5294 - val_loss: 4.2899 - val_mae: 1.5129 - lr: 8.6967e-05\n",
      "Epoch 245/507\n",
      "70/70 [==============================] - 0s 6ms/step - loss: 4.0455 - mae: 1.5288 - val_loss: 4.2759 - val_mae: 1.5092 - lr: 8.6097e-05\n",
      "Epoch 246/507\n",
      "70/70 [==============================] - 0s 6ms/step - loss: 4.0439 - mae: 1.5270 - val_loss: 4.2815 - val_mae: 1.5109 - lr: 8.5236e-05\n",
      "Epoch 247/507\n",
      "70/70 [==============================] - 0s 6ms/step - loss: 4.0436 - mae: 1.5274 - val_loss: 4.2833 - val_mae: 1.5156 - lr: 8.4384e-05\n",
      "Epoch 248/507\n",
      "70/70 [==============================] - 0s 6ms/step - loss: 4.0273 - mae: 1.5259 - val_loss: 4.2920 - val_mae: 1.5157 - lr: 8.3540e-05\n",
      "Epoch 249/507\n",
      "70/70 [==============================] - 0s 6ms/step - loss: 4.0680 - mae: 1.5349 - val_loss: 4.2835 - val_mae: 1.5124 - lr: 8.2704e-05\n",
      "Epoch 250/507\n",
      "70/70 [==============================] - 0s 6ms/step - loss: 4.0638 - mae: 1.5336 - val_loss: 4.2848 - val_mae: 1.5175 - lr: 8.1877e-05\n",
      "Epoch 251/507\n",
      "70/70 [==============================] - 0s 6ms/step - loss: 4.0797 - mae: 1.5367 - val_loss: 4.2871 - val_mae: 1.5138 - lr: 8.1059e-05\n",
      "Epoch 252/507\n",
      "70/70 [==============================] - 0s 6ms/step - loss: 4.0363 - mae: 1.5272 - val_loss: 4.2921 - val_mae: 1.5161 - lr: 8.0248e-05\n",
      "Epoch 253/507\n",
      "70/70 [==============================] - 0s 6ms/step - loss: 4.0516 - mae: 1.5325 - val_loss: 4.2832 - val_mae: 1.5152 - lr: 7.9445e-05\n",
      "Epoch 254/507\n",
      "70/70 [==============================] - 0s 6ms/step - loss: 4.0490 - mae: 1.5288 - val_loss: 4.2798 - val_mae: 1.5167 - lr: 7.8651e-05\n",
      "Epoch 255/507\n",
      "70/70 [==============================] - 0s 6ms/step - loss: 4.0254 - mae: 1.5253 - val_loss: 4.2979 - val_mae: 1.5135 - lr: 7.7864e-05\n",
      "Epoch 256/507\n",
      "70/70 [==============================] - 0s 6ms/step - loss: 4.0216 - mae: 1.5265 - val_loss: 4.2882 - val_mae: 1.5103 - lr: 7.7086e-05\n",
      "Epoch 257/507\n",
      "70/70 [==============================] - 0s 6ms/step - loss: 4.0554 - mae: 1.5329 - val_loss: 4.2820 - val_mae: 1.5090 - lr: 7.6315e-05\n",
      "Epoch 258/507\n",
      "70/70 [==============================] - 0s 6ms/step - loss: 4.0462 - mae: 1.5303 - val_loss: 4.2831 - val_mae: 1.5100 - lr: 7.5552e-05\n",
      "Epoch 259/507\n",
      "70/70 [==============================] - 0s 6ms/step - loss: 4.0582 - mae: 1.5320 - val_loss: 4.2830 - val_mae: 1.5101 - lr: 7.4796e-05\n",
      "Epoch 260/507\n",
      "70/70 [==============================] - 0s 6ms/step - loss: 4.0764 - mae: 1.5358 - val_loss: 4.2807 - val_mae: 1.5123 - lr: 7.4048e-05\n",
      "Epoch 261/507\n",
      "70/70 [==============================] - 0s 6ms/step - loss: 4.0349 - mae: 1.5265 - val_loss: 4.2805 - val_mae: 1.5109 - lr: 7.3308e-05\n",
      "Epoch 262/507\n",
      "70/70 [==============================] - 0s 6ms/step - loss: 4.0130 - mae: 1.5193 - val_loss: 4.2827 - val_mae: 1.5101 - lr: 7.2575e-05\n",
      "Epoch 263/507\n",
      "70/70 [==============================] - 0s 6ms/step - loss: 4.0477 - mae: 1.5283 - val_loss: 4.2797 - val_mae: 1.5105 - lr: 7.1849e-05\n",
      "Epoch 264/507\n",
      "70/70 [==============================] - 0s 6ms/step - loss: 4.0582 - mae: 1.5331 - val_loss: 4.2872 - val_mae: 1.5170 - lr: 7.1131e-05\n",
      "Epoch 265/507\n",
      "70/70 [==============================] - 0s 6ms/step - loss: 4.0346 - mae: 1.5278 - val_loss: 4.2859 - val_mae: 1.5128 - lr: 7.0419e-05\n",
      "Epoch 266/507\n",
      "70/70 [==============================] - 0s 6ms/step - loss: 4.0208 - mae: 1.5247 - val_loss: 4.2921 - val_mae: 1.5137 - lr: 6.9715e-05\n",
      "Epoch 267/507\n",
      "70/70 [==============================] - 0s 6ms/step - loss: 4.0436 - mae: 1.5300 - val_loss: 4.3001 - val_mae: 1.5146 - lr: 6.9018e-05\n",
      "Epoch 268/507\n",
      "70/70 [==============================] - 0s 6ms/step - loss: 4.0205 - mae: 1.5234 - val_loss: 4.2874 - val_mae: 1.5140 - lr: 6.8328e-05\n",
      "Epoch 269/507\n",
      "70/70 [==============================] - 0s 6ms/step - loss: 4.0549 - mae: 1.5323 - val_loss: 4.3057 - val_mae: 1.5138 - lr: 6.7644e-05\n",
      "Epoch 270/507\n",
      "70/70 [==============================] - 0s 6ms/step - loss: 4.0715 - mae: 1.5371 - val_loss: 4.2854 - val_mae: 1.5105 - lr: 6.6968e-05\n",
      "Epoch 271/507\n",
      "70/70 [==============================] - 0s 6ms/step - loss: 4.0327 - mae: 1.5268 - val_loss: 4.2900 - val_mae: 1.5123 - lr: 6.6298e-05\n",
      "Epoch 272/507\n",
      "70/70 [==============================] - 0s 6ms/step - loss: 4.0115 - mae: 1.5224 - val_loss: 4.2947 - val_mae: 1.5124 - lr: 6.5635e-05\n",
      "Epoch 273/507\n",
      "70/70 [==============================] - 0s 6ms/step - loss: 4.0050 - mae: 1.5183 - val_loss: 4.2878 - val_mae: 1.5123 - lr: 6.4979e-05\n",
      "Epoch 274/507\n",
      "70/70 [==============================] - 0s 6ms/step - loss: 4.0038 - mae: 1.5203 - val_loss: 4.2954 - val_mae: 1.5129 - lr: 6.4329e-05\n",
      "Epoch 275/507\n",
      "70/70 [==============================] - 0s 6ms/step - loss: 4.0105 - mae: 1.5228 - val_loss: 4.2977 - val_mae: 1.5128 - lr: 6.3686e-05\n",
      "Epoch 276/507\n",
      "70/70 [==============================] - 0s 6ms/step - loss: 4.0235 - mae: 1.5259 - val_loss: 4.2843 - val_mae: 1.5118 - lr: 6.3049e-05\n",
      "Epoch 277/507\n",
      "70/70 [==============================] - 0s 6ms/step - loss: 4.0380 - mae: 1.5278 - val_loss: 4.3051 - val_mae: 1.5147 - lr: 6.2419e-05\n"
     ]
    },
    {
     "name": "stdout",
     "output_type": "stream",
     "text": [
      "Epoch 278/507\n",
      "70/70 [==============================] - 0s 6ms/step - loss: 4.0366 - mae: 1.5278 - val_loss: 4.2991 - val_mae: 1.5159 - lr: 6.1794e-05\n",
      "Epoch 279/507\n",
      "70/70 [==============================] - 0s 6ms/step - loss: 4.0543 - mae: 1.5342 - val_loss: 4.3043 - val_mae: 1.5157 - lr: 6.1176e-05\n",
      "Epoch 280/507\n",
      "70/70 [==============================] - 0s 6ms/step - loss: 4.0153 - mae: 1.5229 - val_loss: 4.3048 - val_mae: 1.5139 - lr: 6.0565e-05\n",
      "Epoch 281/507\n",
      "70/70 [==============================] - 0s 6ms/step - loss: 3.9969 - mae: 1.5160 - val_loss: 4.2940 - val_mae: 1.5151 - lr: 5.9959e-05\n",
      "Epoch 282/507\n",
      "70/70 [==============================] - 0s 6ms/step - loss: 4.0419 - mae: 1.5325 - val_loss: 4.3023 - val_mae: 1.5135 - lr: 5.9359e-05\n",
      "Epoch 283/507\n",
      "70/70 [==============================] - 0s 6ms/step - loss: 4.0429 - mae: 1.5293 - val_loss: 4.2967 - val_mae: 1.5119 - lr: 5.8766e-05\n",
      "Epoch 284/507\n",
      "70/70 [==============================] - 0s 6ms/step - loss: 4.0044 - mae: 1.5203 - val_loss: 4.2970 - val_mae: 1.5117 - lr: 5.8178e-05\n",
      "Epoch 285/507\n",
      "70/70 [==============================] - 0s 6ms/step - loss: 3.9793 - mae: 1.5175 - val_loss: 4.2972 - val_mae: 1.5134 - lr: 5.7596e-05\n",
      "Epoch 286/507\n",
      "70/70 [==============================] - 0s 6ms/step - loss: 4.0361 - mae: 1.5297 - val_loss: 4.3080 - val_mae: 1.5173 - lr: 5.7020e-05\n",
      "Epoch 287/507\n",
      "70/70 [==============================] - 0s 6ms/step - loss: 3.9972 - mae: 1.5186 - val_loss: 4.3081 - val_mae: 1.5148 - lr: 5.6450e-05\n",
      "Epoch 288/507\n",
      "70/70 [==============================] - 0s 6ms/step - loss: 4.0001 - mae: 1.5202 - val_loss: 4.3016 - val_mae: 1.5145 - lr: 5.5886e-05\n",
      "Epoch 289/507\n",
      "70/70 [==============================] - 0s 6ms/step - loss: 4.0292 - mae: 1.5258 - val_loss: 4.2992 - val_mae: 1.5124 - lr: 5.5327e-05\n",
      "Epoch 290/507\n",
      "70/70 [==============================] - 0s 6ms/step - loss: 4.0318 - mae: 1.5253 - val_loss: 4.2929 - val_mae: 1.5142 - lr: 5.4774e-05\n",
      "Epoch 291/507\n",
      "70/70 [==============================] - 0s 6ms/step - loss: 4.0092 - mae: 1.5218 - val_loss: 4.2900 - val_mae: 1.5093 - lr: 5.4226e-05\n",
      "Epoch 292/507\n",
      "70/70 [==============================] - 0s 6ms/step - loss: 4.0160 - mae: 1.5221 - val_loss: 4.2987 - val_mae: 1.5145 - lr: 5.3684e-05\n",
      "Epoch 293/507\n",
      "70/70 [==============================] - 0s 6ms/step - loss: 3.9815 - mae: 1.5121 - val_loss: 4.2914 - val_mae: 1.5118 - lr: 5.3147e-05\n",
      "Epoch 294/507\n",
      "70/70 [==============================] - 0s 6ms/step - loss: 4.0348 - mae: 1.5277 - val_loss: 4.2991 - val_mae: 1.5166 - lr: 5.2615e-05\n",
      "Epoch 295/507\n",
      "70/70 [==============================] - 0s 6ms/step - loss: 3.9845 - mae: 1.5150 - val_loss: 4.3040 - val_mae: 1.5139 - lr: 5.2089e-05\n",
      "Epoch 296/507\n",
      "70/70 [==============================] - 0s 6ms/step - loss: 3.9998 - mae: 1.5190 - val_loss: 4.2941 - val_mae: 1.5114 - lr: 5.1568e-05\n",
      "Epoch 297/507\n",
      "70/70 [==============================] - 0s 6ms/step - loss: 4.0483 - mae: 1.5321 - val_loss: 4.3024 - val_mae: 1.5146 - lr: 5.1053e-05\n",
      "Epoch 298/507\n",
      "70/70 [==============================] - 0s 6ms/step - loss: 4.0552 - mae: 1.5337 - val_loss: 4.3019 - val_mae: 1.5116 - lr: 5.0542e-05\n",
      "Epoch 299/507\n",
      "70/70 [==============================] - 0s 6ms/step - loss: 3.9877 - mae: 1.5194 - val_loss: 4.2927 - val_mae: 1.5130 - lr: 5.0037e-05\n",
      "Epoch 300/507\n",
      "70/70 [==============================] - 0s 6ms/step - loss: 4.0389 - mae: 1.5256 - val_loss: 4.2902 - val_mae: 1.5129 - lr: 4.9536e-05\n",
      "Epoch 301/507\n",
      "70/70 [==============================] - 0s 6ms/step - loss: 4.0074 - mae: 1.5212 - val_loss: 4.2990 - val_mae: 1.5137 - lr: 4.9041e-05\n",
      "Epoch 302/507\n",
      "70/70 [==============================] - 0s 6ms/step - loss: 4.0098 - mae: 1.5227 - val_loss: 4.2881 - val_mae: 1.5128 - lr: 4.8550e-05\n",
      "Epoch 303/507\n",
      "70/70 [==============================] - 0s 6ms/step - loss: 3.9710 - mae: 1.5120 - val_loss: 4.2940 - val_mae: 1.5104 - lr: 4.8065e-05\n",
      "Epoch 304/507\n",
      "70/70 [==============================] - 0s 6ms/step - loss: 3.9886 - mae: 1.5150 - val_loss: 4.2902 - val_mae: 1.5115 - lr: 4.7584e-05\n",
      "Epoch 305/507\n",
      "70/70 [==============================] - 0s 6ms/step - loss: 4.0288 - mae: 1.5284 - val_loss: 4.2990 - val_mae: 1.5130 - lr: 4.7108e-05\n",
      "Epoch 306/507\n",
      "70/70 [==============================] - 0s 6ms/step - loss: 3.9890 - mae: 1.5167 - val_loss: 4.2991 - val_mae: 1.5154 - lr: 4.6637e-05\n",
      "Epoch 307/507\n",
      "70/70 [==============================] - 0s 6ms/step - loss: 3.9971 - mae: 1.5173 - val_loss: 4.3104 - val_mae: 1.5142 - lr: 4.6171e-05\n",
      "Epoch 308/507\n",
      "70/70 [==============================] - 0s 6ms/step - loss: 4.0069 - mae: 1.5241 - val_loss: 4.3050 - val_mae: 1.5136 - lr: 4.5709e-05\n",
      "Epoch 309/507\n",
      "70/70 [==============================] - 0s 6ms/step - loss: 3.9970 - mae: 1.5204 - val_loss: 4.2991 - val_mae: 1.5116 - lr: 4.5252e-05\n",
      "Epoch 310/507\n",
      "70/70 [==============================] - 0s 6ms/step - loss: 4.0000 - mae: 1.5201 - val_loss: 4.3011 - val_mae: 1.5131 - lr: 4.4800e-05\n",
      "Epoch 311/507\n",
      "70/70 [==============================] - 0s 6ms/step - loss: 3.9801 - mae: 1.5143 - val_loss: 4.3069 - val_mae: 1.5143 - lr: 4.4352e-05\n",
      "Epoch 312/507\n",
      "70/70 [==============================] - 0s 6ms/step - loss: 3.9464 - mae: 1.5081 - val_loss: 4.3029 - val_mae: 1.5129 - lr: 4.3908e-05\n",
      "Epoch 313/507\n",
      "70/70 [==============================] - 0s 6ms/step - loss: 3.9863 - mae: 1.5165 - val_loss: 4.3000 - val_mae: 1.5103 - lr: 4.3469e-05\n",
      "Epoch 314/507\n",
      "70/70 [==============================] - 0s 6ms/step - loss: 3.9562 - mae: 1.5096 - val_loss: 4.2931 - val_mae: 1.5102 - lr: 4.3034e-05\n",
      "Epoch 315/507\n",
      "70/70 [==============================] - 0s 6ms/step - loss: 3.9931 - mae: 1.5187 - val_loss: 4.2881 - val_mae: 1.5092 - lr: 4.2604e-05\n",
      "Epoch 316/507\n",
      "70/70 [==============================] - 0s 6ms/step - loss: 4.0046 - mae: 1.5210 - val_loss: 4.3042 - val_mae: 1.5127 - lr: 4.2178e-05\n",
      "Epoch 317/507\n",
      "70/70 [==============================] - 0s 6ms/step - loss: 3.9836 - mae: 1.5167 - val_loss: 4.2947 - val_mae: 1.5127 - lr: 4.1756e-05\n",
      "Epoch 318/507\n",
      "70/70 [==============================] - 0s 6ms/step - loss: 4.0159 - mae: 1.5232 - val_loss: 4.3085 - val_mae: 1.5133 - lr: 4.1339e-05\n",
      "Epoch 319/507\n",
      "70/70 [==============================] - 0s 6ms/step - loss: 3.9800 - mae: 1.5139 - val_loss: 4.3022 - val_mae: 1.5105 - lr: 4.0925e-05\n",
      "Epoch 320/507\n",
      "70/70 [==============================] - 0s 6ms/step - loss: 3.9957 - mae: 1.5219 - val_loss: 4.2965 - val_mae: 1.5106 - lr: 4.0516e-05\n",
      "Epoch 321/507\n",
      "70/70 [==============================] - 0s 6ms/step - loss: 3.9788 - mae: 1.5139 - val_loss: 4.2981 - val_mae: 1.5110 - lr: 4.0111e-05\n",
      "Epoch 322/507\n",
      "70/70 [==============================] - 0s 6ms/step - loss: 4.0098 - mae: 1.5228 - val_loss: 4.2993 - val_mae: 1.5135 - lr: 3.9710e-05\n",
      "Epoch 323/507\n",
      "70/70 [==============================] - 0s 6ms/step - loss: 3.9704 - mae: 1.5149 - val_loss: 4.2962 - val_mae: 1.5121 - lr: 3.9313e-05\n",
      "Epoch 324/507\n",
      "70/70 [==============================] - 0s 6ms/step - loss: 3.9706 - mae: 1.5126 - val_loss: 4.3059 - val_mae: 1.5127 - lr: 3.8920e-05\n",
      "Epoch 325/507\n",
      "70/70 [==============================] - 0s 6ms/step - loss: 3.9842 - mae: 1.5166 - val_loss: 4.3047 - val_mae: 1.5148 - lr: 3.8530e-05\n",
      "Epoch 326/507\n",
      "70/70 [==============================] - 0s 6ms/step - loss: 3.9647 - mae: 1.5145 - val_loss: 4.3092 - val_mae: 1.5127 - lr: 3.8145e-05\n",
      "Epoch 327/507\n",
      "70/70 [==============================] - 0s 6ms/step - loss: 4.0071 - mae: 1.5224 - val_loss: 4.3048 - val_mae: 1.5121 - lr: 3.7764e-05\n",
      "Epoch 328/507\n",
      "70/70 [==============================] - 0s 6ms/step - loss: 3.9815 - mae: 1.5178 - val_loss: 4.3052 - val_mae: 1.5128 - lr: 3.7386e-05\n",
      "Epoch 329/507\n",
      "70/70 [==============================] - 0s 6ms/step - loss: 3.9872 - mae: 1.5148 - val_loss: 4.3027 - val_mae: 1.5120 - lr: 3.7012e-05\n",
      "Epoch 330/507\n",
      "70/70 [==============================] - 0s 6ms/step - loss: 3.9908 - mae: 1.5184 - val_loss: 4.3045 - val_mae: 1.5138 - lr: 3.6642e-05\n",
      "Epoch 331/507\n",
      "70/70 [==============================] - 0s 6ms/step - loss: 3.9366 - mae: 1.5047 - val_loss: 4.3031 - val_mae: 1.5140 - lr: 3.6276e-05\n",
      "Epoch 332/507\n",
      "70/70 [==============================] - 0s 6ms/step - loss: 3.9767 - mae: 1.5144 - val_loss: 4.3036 - val_mae: 1.5109 - lr: 3.5913e-05\n"
     ]
    },
    {
     "name": "stdout",
     "output_type": "stream",
     "text": [
      "Epoch 333/507\n",
      "70/70 [==============================] - 0s 6ms/step - loss: 3.9690 - mae: 1.5138 - val_loss: 4.3139 - val_mae: 1.5132 - lr: 3.5554e-05\n",
      "Epoch 334/507\n",
      "70/70 [==============================] - 0s 6ms/step - loss: 3.9576 - mae: 1.5093 - val_loss: 4.3141 - val_mae: 1.5135 - lr: 3.5198e-05\n",
      "Epoch 335/507\n",
      "70/70 [==============================] - 0s 6ms/step - loss: 3.9635 - mae: 1.5129 - val_loss: 4.3226 - val_mae: 1.5149 - lr: 3.4846e-05\n",
      "Epoch 336/507\n",
      "70/70 [==============================] - 0s 6ms/step - loss: 3.9511 - mae: 1.5101 - val_loss: 4.3138 - val_mae: 1.5120 - lr: 3.4498e-05\n",
      "Epoch 337/507\n",
      "70/70 [==============================] - 0s 6ms/step - loss: 3.9346 - mae: 1.5042 - val_loss: 4.3114 - val_mae: 1.5127 - lr: 3.4153e-05\n",
      "Epoch 338/507\n",
      "70/70 [==============================] - 0s 6ms/step - loss: 3.9369 - mae: 1.5054 - val_loss: 4.3034 - val_mae: 1.5094 - lr: 3.3811e-05\n",
      "Epoch 339/507\n",
      "70/70 [==============================] - 0s 6ms/step - loss: 3.9526 - mae: 1.5112 - val_loss: 4.3047 - val_mae: 1.5099 - lr: 3.3473e-05\n",
      "Epoch 340/507\n",
      "70/70 [==============================] - 0s 6ms/step - loss: 3.9414 - mae: 1.5063 - val_loss: 4.3139 - val_mae: 1.5141 - lr: 3.3138e-05\n",
      "Epoch 341/507\n",
      "70/70 [==============================] - 0s 6ms/step - loss: 4.0074 - mae: 1.5219 - val_loss: 4.3215 - val_mae: 1.5149 - lr: 3.2807e-05\n",
      "Epoch 342/507\n",
      "70/70 [==============================] - 0s 6ms/step - loss: 3.9560 - mae: 1.5090 - val_loss: 4.3112 - val_mae: 1.5121 - lr: 3.2479e-05\n",
      "Epoch 343/507\n",
      "70/70 [==============================] - 0s 6ms/step - loss: 3.9804 - mae: 1.5164 - val_loss: 4.3133 - val_mae: 1.5105 - lr: 3.2154e-05\n",
      "Epoch 344/507\n",
      "70/70 [==============================] - 0s 6ms/step - loss: 3.9643 - mae: 1.5096 - val_loss: 4.3193 - val_mae: 1.5140 - lr: 3.1833e-05\n",
      "Epoch 345/507\n",
      "70/70 [==============================] - 0s 6ms/step - loss: 3.9262 - mae: 1.5008 - val_loss: 4.3125 - val_mae: 1.5142 - lr: 3.1514e-05\n",
      "Epoch 346/507\n",
      "70/70 [==============================] - 0s 6ms/step - loss: 3.9301 - mae: 1.5039 - val_loss: 4.3105 - val_mae: 1.5130 - lr: 3.1199e-05\n",
      "Epoch 347/507\n",
      "70/70 [==============================] - 0s 6ms/step - loss: 3.9189 - mae: 1.5024 - val_loss: 4.3044 - val_mae: 1.5104 - lr: 3.0887e-05\n",
      "Epoch 348/507\n",
      "70/70 [==============================] - 0s 6ms/step - loss: 3.9128 - mae: 1.4998 - val_loss: 4.3098 - val_mae: 1.5111 - lr: 3.0578e-05\n",
      "Epoch 349/507\n",
      "70/70 [==============================] - 0s 6ms/step - loss: 3.9860 - mae: 1.5148 - val_loss: 4.3126 - val_mae: 1.5127 - lr: 3.0272e-05\n",
      "Epoch 350/507\n",
      "70/70 [==============================] - 0s 6ms/step - loss: 3.9601 - mae: 1.5116 - val_loss: 4.3085 - val_mae: 1.5109 - lr: 2.9970e-05\n",
      "Epoch 351/507\n",
      "70/70 [==============================] - 0s 6ms/step - loss: 3.9401 - mae: 1.5060 - val_loss: 4.3046 - val_mae: 1.5106 - lr: 2.9670e-05\n",
      "Epoch 352/507\n",
      "70/70 [==============================] - 0s 6ms/step - loss: 3.9963 - mae: 1.5187 - val_loss: 4.3108 - val_mae: 1.5121 - lr: 2.9373e-05\n",
      "Epoch 353/507\n",
      "70/70 [==============================] - 0s 6ms/step - loss: 4.0051 - mae: 1.5229 - val_loss: 4.3099 - val_mae: 1.5123 - lr: 2.9080e-05\n",
      "Epoch 354/507\n",
      "70/70 [==============================] - 0s 6ms/step - loss: 3.9213 - mae: 1.5007 - val_loss: 4.3127 - val_mae: 1.5135 - lr: 2.8789e-05\n",
      "Epoch 355/507\n",
      "70/70 [==============================] - 0s 6ms/step - loss: 3.9666 - mae: 1.5106 - val_loss: 4.3031 - val_mae: 1.5116 - lr: 2.8501e-05\n",
      "Epoch 356/507\n",
      "70/70 [==============================] - 0s 6ms/step - loss: 3.9862 - mae: 1.5195 - val_loss: 4.3115 - val_mae: 1.5124 - lr: 2.8216e-05\n",
      "Epoch 357/507\n",
      "70/70 [==============================] - 0s 6ms/step - loss: 3.9468 - mae: 1.5069 - val_loss: 4.3129 - val_mae: 1.5146 - lr: 2.7934e-05\n",
      "Epoch 358/507\n",
      "70/70 [==============================] - 0s 6ms/step - loss: 3.9798 - mae: 1.5175 - val_loss: 4.3183 - val_mae: 1.5127 - lr: 2.7654e-05\n",
      "Epoch 359/507\n",
      "70/70 [==============================] - 0s 6ms/step - loss: 3.9414 - mae: 1.5045 - val_loss: 4.3073 - val_mae: 1.5114 - lr: 2.7378e-05\n",
      "Epoch 360/507\n",
      "70/70 [==============================] - 0s 6ms/step - loss: 3.9775 - mae: 1.5172 - val_loss: 4.3022 - val_mae: 1.5113 - lr: 2.7104e-05\n",
      "Epoch 361/507\n",
      "70/70 [==============================] - 0s 6ms/step - loss: 3.9639 - mae: 1.5145 - val_loss: 4.3124 - val_mae: 1.5127 - lr: 2.6833e-05\n",
      "Epoch 362/507\n",
      "70/70 [==============================] - 0s 6ms/step - loss: 3.9324 - mae: 1.5049 - val_loss: 4.3040 - val_mae: 1.5118 - lr: 2.6565e-05\n",
      "Epoch 363/507\n",
      "70/70 [==============================] - 0s 6ms/step - loss: 3.9495 - mae: 1.5105 - val_loss: 4.3061 - val_mae: 1.5098 - lr: 2.6299e-05\n",
      "Epoch 364/507\n",
      "70/70 [==============================] - 0s 6ms/step - loss: 3.9014 - mae: 1.4975 - val_loss: 4.3131 - val_mae: 1.5126 - lr: 2.6036e-05\n",
      "Epoch 365/507\n",
      "70/70 [==============================] - 0s 6ms/step - loss: 3.9393 - mae: 1.5087 - val_loss: 4.3151 - val_mae: 1.5133 - lr: 2.5776e-05\n",
      "Epoch 366/507\n",
      "70/70 [==============================] - 0s 6ms/step - loss: 3.9190 - mae: 1.5015 - val_loss: 4.3119 - val_mae: 1.5115 - lr: 2.5518e-05\n",
      "Epoch 367/507\n",
      "70/70 [==============================] - 0s 6ms/step - loss: 3.9858 - mae: 1.5167 - val_loss: 4.3167 - val_mae: 1.5148 - lr: 2.5263e-05\n",
      "Epoch 368/507\n",
      "70/70 [==============================] - 0s 6ms/step - loss: 3.9793 - mae: 1.5146 - val_loss: 4.3207 - val_mae: 1.5149 - lr: 2.5010e-05\n",
      "Epoch 369/507\n",
      "70/70 [==============================] - 0s 6ms/step - loss: 3.9455 - mae: 1.5063 - val_loss: 4.3137 - val_mae: 1.5121 - lr: 2.4760e-05\n",
      "Epoch 370/507\n",
      "70/70 [==============================] - 0s 6ms/step - loss: 3.9450 - mae: 1.5070 - val_loss: 4.3126 - val_mae: 1.5120 - lr: 2.4512e-05\n",
      "Epoch 371/507\n",
      "70/70 [==============================] - 0s 6ms/step - loss: 3.9622 - mae: 1.5125 - val_loss: 4.3080 - val_mae: 1.5114 - lr: 2.4267e-05\n",
      "Epoch 372/507\n",
      "70/70 [==============================] - 0s 6ms/step - loss: 3.9689 - mae: 1.5144 - val_loss: 4.3116 - val_mae: 1.5124 - lr: 2.4025e-05\n",
      "Epoch 373/507\n",
      "70/70 [==============================] - 0s 6ms/step - loss: 3.9738 - mae: 1.5142 - val_loss: 4.3157 - val_mae: 1.5146 - lr: 2.3784e-05\n",
      "Epoch 374/507\n",
      "70/70 [==============================] - 0s 6ms/step - loss: 3.9703 - mae: 1.5135 - val_loss: 4.3130 - val_mae: 1.5125 - lr: 2.3547e-05\n",
      "Epoch 375/507\n",
      "70/70 [==============================] - 0s 6ms/step - loss: 3.9365 - mae: 1.5062 - val_loss: 4.3079 - val_mae: 1.5093 - lr: 2.3311e-05\n",
      "Epoch 376/507\n",
      "70/70 [==============================] - 0s 6ms/step - loss: 3.9094 - mae: 1.5008 - val_loss: 4.3074 - val_mae: 1.5104 - lr: 2.3078e-05\n",
      "Epoch 377/507\n",
      "70/70 [==============================] - 0s 6ms/step - loss: 3.9913 - mae: 1.5178 - val_loss: 4.3084 - val_mae: 1.5104 - lr: 2.2847e-05\n",
      "Epoch 378/507\n",
      "70/70 [==============================] - 0s 6ms/step - loss: 3.9291 - mae: 1.5038 - val_loss: 4.3166 - val_mae: 1.5137 - lr: 2.2619e-05\n",
      "Epoch 379/507\n",
      "70/70 [==============================] - 0s 6ms/step - loss: 3.9260 - mae: 1.5049 - val_loss: 4.3108 - val_mae: 1.5112 - lr: 2.2393e-05\n",
      "Epoch 380/507\n",
      "70/70 [==============================] - 0s 6ms/step - loss: 3.9567 - mae: 1.5107 - val_loss: 4.3137 - val_mae: 1.5126 - lr: 2.2169e-05\n",
      "Epoch 381/507\n",
      "70/70 [==============================] - 0s 6ms/step - loss: 3.9297 - mae: 1.5041 - val_loss: 4.3135 - val_mae: 1.5126 - lr: 2.1947e-05\n",
      "Epoch 382/507\n",
      "70/70 [==============================] - 0s 6ms/step - loss: 3.9665 - mae: 1.5118 - val_loss: 4.3149 - val_mae: 1.5135 - lr: 2.1727e-05\n",
      "Epoch 383/507\n",
      "70/70 [==============================] - 0s 6ms/step - loss: 3.9567 - mae: 1.5116 - val_loss: 4.3144 - val_mae: 1.5138 - lr: 2.1510e-05\n",
      "Epoch 384/507\n",
      "70/70 [==============================] - 0s 6ms/step - loss: 3.9453 - mae: 1.5099 - val_loss: 4.3150 - val_mae: 1.5117 - lr: 2.1295e-05\n",
      "Epoch 385/507\n",
      "70/70 [==============================] - 0s 6ms/step - loss: 3.9500 - mae: 1.5087 - val_loss: 4.3124 - val_mae: 1.5112 - lr: 2.1082e-05\n",
      "Epoch 386/507\n",
      "70/70 [==============================] - 0s 6ms/step - loss: 3.8923 - mae: 1.4946 - val_loss: 4.3101 - val_mae: 1.5112 - lr: 2.0871e-05\n",
      "Epoch 387/507\n",
      "70/70 [==============================] - 0s 7ms/step - loss: 3.9906 - mae: 1.5173 - val_loss: 4.3150 - val_mae: 1.5134 - lr: 2.0663e-05\n"
     ]
    },
    {
     "name": "stdout",
     "output_type": "stream",
     "text": [
      "Epoch 388/507\n",
      "70/70 [==============================] - 0s 7ms/step - loss: 3.9315 - mae: 1.5060 - val_loss: 4.3135 - val_mae: 1.5128 - lr: 2.0456e-05\n",
      "Epoch 389/507\n",
      "70/70 [==============================] - 0s 6ms/step - loss: 3.9553 - mae: 1.5126 - val_loss: 4.3173 - val_mae: 1.5128 - lr: 2.0251e-05\n",
      "Epoch 390/507\n",
      "70/70 [==============================] - 0s 6ms/step - loss: 3.9057 - mae: 1.4992 - val_loss: 4.3152 - val_mae: 1.5124 - lr: 2.0049e-05\n",
      "Epoch 391/507\n",
      "70/70 [==============================] - 0s 6ms/step - loss: 3.8879 - mae: 1.4940 - val_loss: 4.3157 - val_mae: 1.5129 - lr: 1.9848e-05\n",
      "Epoch 392/507\n",
      "70/70 [==============================] - 0s 6ms/step - loss: 3.9534 - mae: 1.5108 - val_loss: 4.3086 - val_mae: 1.5097 - lr: 1.9650e-05\n",
      "Epoch 393/507\n",
      "70/70 [==============================] - 0s 6ms/step - loss: 3.9434 - mae: 1.5063 - val_loss: 4.3051 - val_mae: 1.5101 - lr: 1.9453e-05\n",
      "Epoch 394/507\n",
      "70/70 [==============================] - 0s 6ms/step - loss: 3.9494 - mae: 1.5089 - val_loss: 4.3085 - val_mae: 1.5108 - lr: 1.9259e-05\n",
      "Epoch 395/507\n",
      "70/70 [==============================] - 0s 6ms/step - loss: 4.0044 - mae: 1.5233 - val_loss: 4.3129 - val_mae: 1.5102 - lr: 1.9066e-05\n",
      "Epoch 396/507\n",
      "70/70 [==============================] - 0s 6ms/step - loss: 3.9497 - mae: 1.5094 - val_loss: 4.3133 - val_mae: 1.5121 - lr: 1.8876e-05\n",
      "Epoch 397/507\n",
      "70/70 [==============================] - 0s 6ms/step - loss: 3.9332 - mae: 1.5048 - val_loss: 4.3173 - val_mae: 1.5133 - lr: 1.8687e-05\n",
      "Epoch 398/507\n",
      "70/70 [==============================] - 0s 6ms/step - loss: 3.9554 - mae: 1.5135 - val_loss: 4.3145 - val_mae: 1.5121 - lr: 1.8500e-05\n",
      "Epoch 399/507\n",
      "70/70 [==============================] - 0s 6ms/step - loss: 3.9147 - mae: 1.5040 - val_loss: 4.3189 - val_mae: 1.5115 - lr: 1.8315e-05\n",
      "Epoch 400/507\n",
      "70/70 [==============================] - 0s 6ms/step - loss: 3.9485 - mae: 1.5099 - val_loss: 4.3117 - val_mae: 1.5118 - lr: 1.8132e-05\n",
      "Epoch 401/507\n",
      "70/70 [==============================] - 0s 6ms/step - loss: 3.9445 - mae: 1.5071 - val_loss: 4.3103 - val_mae: 1.5126 - lr: 1.7951e-05\n",
      "Epoch 402/507\n",
      "70/70 [==============================] - 0s 6ms/step - loss: 3.9173 - mae: 1.5027 - val_loss: 4.3114 - val_mae: 1.5111 - lr: 1.7771e-05\n",
      "Epoch 403/507\n",
      "70/70 [==============================] - 0s 6ms/step - loss: 3.9317 - mae: 1.5051 - val_loss: 4.3150 - val_mae: 1.5111 - lr: 1.7593e-05\n",
      "Epoch 404/507\n",
      "70/70 [==============================] - 0s 6ms/step - loss: 3.9403 - mae: 1.5060 - val_loss: 4.3149 - val_mae: 1.5109 - lr: 1.7417e-05\n",
      "Epoch 405/507\n",
      "70/70 [==============================] - 0s 6ms/step - loss: 3.9159 - mae: 1.5021 - val_loss: 4.3131 - val_mae: 1.5108 - lr: 1.7243e-05\n",
      "Epoch 406/507\n",
      "70/70 [==============================] - 0s 6ms/step - loss: 3.8867 - mae: 1.4970 - val_loss: 4.3128 - val_mae: 1.5104 - lr: 1.7071e-05\n",
      "Epoch 407/507\n",
      "70/70 [==============================] - 0s 6ms/step - loss: 3.9565 - mae: 1.5124 - val_loss: 4.3090 - val_mae: 1.5091 - lr: 1.6900e-05\n",
      "Epoch 408/507\n",
      "70/70 [==============================] - 0s 6ms/step - loss: 3.9082 - mae: 1.5007 - val_loss: 4.3135 - val_mae: 1.5094 - lr: 1.6731e-05\n",
      "Epoch 409/507\n",
      "70/70 [==============================] - 0s 6ms/step - loss: 3.9072 - mae: 1.4998 - val_loss: 4.3176 - val_mae: 1.5120 - lr: 1.6564e-05\n",
      "Epoch 410/507\n",
      "70/70 [==============================] - 0s 6ms/step - loss: 3.9031 - mae: 1.4978 - val_loss: 4.3133 - val_mae: 1.5090 - lr: 1.6398e-05\n",
      "Epoch 411/507\n",
      "70/70 [==============================] - 0s 6ms/step - loss: 3.9501 - mae: 1.5118 - val_loss: 4.3129 - val_mae: 1.5095 - lr: 1.6234e-05\n",
      "Epoch 412/507\n",
      "70/70 [==============================] - 0s 6ms/step - loss: 3.9411 - mae: 1.5068 - val_loss: 4.3136 - val_mae: 1.5093 - lr: 1.6072e-05\n",
      "Epoch 413/507\n",
      "70/70 [==============================] - 0s 6ms/step - loss: 3.9141 - mae: 1.5011 - val_loss: 4.3129 - val_mae: 1.5103 - lr: 1.5911e-05\n",
      "Epoch 414/507\n",
      "70/70 [==============================] - 0s 6ms/step - loss: 3.9264 - mae: 1.5059 - val_loss: 4.3167 - val_mae: 1.5111 - lr: 1.5752e-05\n",
      "Epoch 415/507\n",
      "70/70 [==============================] - 0s 6ms/step - loss: 3.9867 - mae: 1.5203 - val_loss: 4.3198 - val_mae: 1.5118 - lr: 1.5594e-05\n",
      "Epoch 416/507\n",
      "70/70 [==============================] - 0s 6ms/step - loss: 3.9349 - mae: 1.5065 - val_loss: 4.3163 - val_mae: 1.5105 - lr: 1.5439e-05\n",
      "Epoch 417/507\n",
      "70/70 [==============================] - 0s 6ms/step - loss: 3.9373 - mae: 1.5055 - val_loss: 4.3130 - val_mae: 1.5116 - lr: 1.5284e-05\n",
      "Epoch 418/507\n",
      "70/70 [==============================] - 0s 6ms/step - loss: 3.9239 - mae: 1.5042 - val_loss: 4.3123 - val_mae: 1.5115 - lr: 1.5131e-05\n",
      "Epoch 419/507\n",
      "70/70 [==============================] - 0s 6ms/step - loss: 3.9402 - mae: 1.5049 - val_loss: 4.3130 - val_mae: 1.5101 - lr: 1.4980e-05\n",
      "Epoch 420/507\n",
      "70/70 [==============================] - 0s 6ms/step - loss: 3.9334 - mae: 1.5052 - val_loss: 4.3129 - val_mae: 1.5103 - lr: 1.4830e-05\n",
      "Epoch 421/507\n",
      "70/70 [==============================] - 0s 6ms/step - loss: 3.9419 - mae: 1.5058 - val_loss: 4.3136 - val_mae: 1.5097 - lr: 1.4682e-05\n",
      "Epoch 422/507\n",
      "70/70 [==============================] - 0s 6ms/step - loss: 3.9239 - mae: 1.5026 - val_loss: 4.3176 - val_mae: 1.5110 - lr: 1.4535e-05\n",
      "Epoch 423/507\n",
      "70/70 [==============================] - 0s 6ms/step - loss: 3.9050 - mae: 1.4974 - val_loss: 4.3181 - val_mae: 1.5110 - lr: 1.4390e-05\n",
      "Epoch 424/507\n",
      "70/70 [==============================] - 0s 6ms/step - loss: 3.9568 - mae: 1.5099 - val_loss: 4.3188 - val_mae: 1.5118 - lr: 1.4246e-05\n",
      "Epoch 425/507\n",
      "70/70 [==============================] - 0s 6ms/step - loss: 3.9034 - mae: 1.4991 - val_loss: 4.3177 - val_mae: 1.5106 - lr: 1.4103e-05\n",
      "Epoch 426/507\n",
      "70/70 [==============================] - 0s 6ms/step - loss: 3.9322 - mae: 1.5059 - val_loss: 4.3130 - val_mae: 1.5110 - lr: 1.3962e-05\n",
      "Epoch 427/507\n",
      "70/70 [==============================] - 0s 6ms/step - loss: 3.9571 - mae: 1.5144 - val_loss: 4.3206 - val_mae: 1.5121 - lr: 1.3823e-05\n",
      "Epoch 428/507\n",
      "70/70 [==============================] - 0s 6ms/step - loss: 3.9100 - mae: 1.4991 - val_loss: 4.3210 - val_mae: 1.5114 - lr: 1.3684e-05\n",
      "Epoch 429/507\n",
      "70/70 [==============================] - 0s 6ms/step - loss: 3.9348 - mae: 1.5051 - val_loss: 4.3242 - val_mae: 1.5135 - lr: 1.3548e-05\n",
      "Epoch 430/507\n",
      "70/70 [==============================] - 0s 6ms/step - loss: 3.9252 - mae: 1.5030 - val_loss: 4.3203 - val_mae: 1.5122 - lr: 1.3412e-05\n",
      "Epoch 431/507\n",
      "70/70 [==============================] - 0s 6ms/step - loss: 3.9587 - mae: 1.5113 - val_loss: 4.3202 - val_mae: 1.5114 - lr: 1.3278e-05\n",
      "Epoch 432/507\n",
      "70/70 [==============================] - 0s 6ms/step - loss: 3.9251 - mae: 1.5034 - val_loss: 4.3183 - val_mae: 1.5117 - lr: 1.3145e-05\n",
      "Epoch 433/507\n",
      "70/70 [==============================] - 0s 6ms/step - loss: 3.9004 - mae: 1.4968 - val_loss: 4.3214 - val_mae: 1.5124 - lr: 1.3014e-05\n",
      "Epoch 434/507\n",
      "70/70 [==============================] - 0s 6ms/step - loss: 3.9438 - mae: 1.5105 - val_loss: 4.3228 - val_mae: 1.5129 - lr: 1.2884e-05\n",
      "Epoch 435/507\n",
      "70/70 [==============================] - 0s 6ms/step - loss: 3.8925 - mae: 1.4979 - val_loss: 4.3188 - val_mae: 1.5116 - lr: 1.2755e-05\n",
      "Epoch 436/507\n",
      "70/70 [==============================] - 0s 6ms/step - loss: 3.9313 - mae: 1.5065 - val_loss: 4.3181 - val_mae: 1.5103 - lr: 1.2627e-05\n",
      "Epoch 437/507\n",
      "70/70 [==============================] - 0s 6ms/step - loss: 3.9169 - mae: 1.5016 - val_loss: 4.3184 - val_mae: 1.5093 - lr: 1.2501e-05\n",
      "Epoch 438/507\n",
      "70/70 [==============================] - 0s 6ms/step - loss: 3.9499 - mae: 1.5131 - val_loss: 4.3177 - val_mae: 1.5112 - lr: 1.2376e-05\n",
      "Epoch 439/507\n",
      "70/70 [==============================] - 0s 6ms/step - loss: 3.9551 - mae: 1.5107 - val_loss: 4.3153 - val_mae: 1.5097 - lr: 1.2252e-05\n",
      "Epoch 440/507\n",
      "70/70 [==============================] - 0s 6ms/step - loss: 3.9307 - mae: 1.5048 - val_loss: 4.3188 - val_mae: 1.5109 - lr: 1.2130e-05\n",
      "Epoch 441/507\n",
      "70/70 [==============================] - 0s 6ms/step - loss: 3.9221 - mae: 1.5043 - val_loss: 4.3206 - val_mae: 1.5109 - lr: 1.2008e-05\n",
      "Epoch 442/507\n",
      "70/70 [==============================] - 0s 6ms/step - loss: 3.9153 - mae: 1.5011 - val_loss: 4.3181 - val_mae: 1.5101 - lr: 1.1888e-05\n"
     ]
    },
    {
     "name": "stdout",
     "output_type": "stream",
     "text": [
      "Epoch 443/507\n",
      "70/70 [==============================] - 0s 6ms/step - loss: 3.9345 - mae: 1.5036 - val_loss: 4.3213 - val_mae: 1.5116 - lr: 1.1769e-05\n",
      "Epoch 444/507\n",
      "70/70 [==============================] - 0s 6ms/step - loss: 3.9102 - mae: 1.5021 - val_loss: 4.3172 - val_mae: 1.5112 - lr: 1.1652e-05\n",
      "Epoch 445/507\n",
      "70/70 [==============================] - 0s 6ms/step - loss: 3.9234 - mae: 1.5020 - val_loss: 4.3113 - val_mae: 1.5100 - lr: 1.1535e-05\n",
      "Epoch 446/507\n",
      "70/70 [==============================] - 0s 6ms/step - loss: 3.8931 - mae: 1.4969 - val_loss: 4.3135 - val_mae: 1.5094 - lr: 1.1420e-05\n",
      "Epoch 447/507\n",
      "70/70 [==============================] - 0s 6ms/step - loss: 3.9216 - mae: 1.5036 - val_loss: 4.3144 - val_mae: 1.5088 - lr: 1.1306e-05\n",
      "Epoch 448/507\n",
      "70/70 [==============================] - 0s 6ms/step - loss: 3.9218 - mae: 1.5033 - val_loss: 4.3138 - val_mae: 1.5093 - lr: 1.1193e-05\n",
      "Epoch 449/507\n",
      "70/70 [==============================] - 0s 6ms/step - loss: 3.9250 - mae: 1.5057 - val_loss: 4.3181 - val_mae: 1.5088 - lr: 1.1081e-05\n",
      "Epoch 450/507\n",
      "70/70 [==============================] - 0s 6ms/step - loss: 3.9037 - mae: 1.5006 - val_loss: 4.3202 - val_mae: 1.5100 - lr: 1.0970e-05\n",
      "Epoch 451/507\n",
      "70/70 [==============================] - 0s 6ms/step - loss: 3.8977 - mae: 1.4972 - val_loss: 4.3219 - val_mae: 1.5097 - lr: 1.0860e-05\n",
      "Epoch 452/507\n",
      "70/70 [==============================] - 0s 6ms/step - loss: 3.9656 - mae: 1.5161 - val_loss: 4.3159 - val_mae: 1.5089 - lr: 1.0752e-05\n",
      "Epoch 453/507\n",
      "70/70 [==============================] - 0s 6ms/step - loss: 3.9499 - mae: 1.5112 - val_loss: 4.3219 - val_mae: 1.5129 - lr: 1.0644e-05\n",
      "Epoch 454/507\n",
      "70/70 [==============================] - 0s 6ms/step - loss: 3.9679 - mae: 1.5153 - val_loss: 4.3227 - val_mae: 1.5118 - lr: 1.0538e-05\n",
      "Epoch 455/507\n",
      "70/70 [==============================] - 0s 6ms/step - loss: 3.9343 - mae: 1.5045 - val_loss: 4.3153 - val_mae: 1.5102 - lr: 1.0432e-05\n",
      "Epoch 456/507\n",
      "70/70 [==============================] - 0s 6ms/step - loss: 3.9688 - mae: 1.5146 - val_loss: 4.3216 - val_mae: 1.5124 - lr: 1.0328e-05\n",
      "Epoch 457/507\n",
      "70/70 [==============================] - 0s 6ms/step - loss: 3.9265 - mae: 1.5048 - val_loss: 4.3228 - val_mae: 1.5113 - lr: 1.0225e-05\n",
      "Epoch 458/507\n",
      "70/70 [==============================] - 0s 6ms/step - loss: 3.9319 - mae: 1.5055 - val_loss: 4.3191 - val_mae: 1.5108 - lr: 1.0122e-05\n",
      "Epoch 459/507\n",
      "70/70 [==============================] - 0s 6ms/step - loss: 3.9290 - mae: 1.5065 - val_loss: 4.3170 - val_mae: 1.5108 - lr: 1.0021e-05\n",
      "Epoch 460/507\n",
      "70/70 [==============================] - 0s 6ms/step - loss: 3.9560 - mae: 1.5125 - val_loss: 4.3190 - val_mae: 1.5121 - lr: 9.9210e-06\n",
      "Epoch 461/507\n",
      "70/70 [==============================] - 0s 6ms/step - loss: 3.9551 - mae: 1.5119 - val_loss: 4.3195 - val_mae: 1.5108 - lr: 9.8218e-06\n",
      "Epoch 462/507\n",
      "70/70 [==============================] - 0s 6ms/step - loss: 3.9290 - mae: 1.5038 - val_loss: 4.3160 - val_mae: 1.5100 - lr: 9.7235e-06\n",
      "Epoch 463/507\n",
      "70/70 [==============================] - 0s 6ms/step - loss: 3.9262 - mae: 1.5052 - val_loss: 4.3144 - val_mae: 1.5087 - lr: 9.6263e-06\n",
      "Epoch 464/507\n",
      "70/70 [==============================] - 0s 6ms/step - loss: 3.9059 - mae: 1.4994 - val_loss: 4.3127 - val_mae: 1.5096 - lr: 9.5300e-06\n",
      "Epoch 465/507\n",
      "70/70 [==============================] - 0s 6ms/step - loss: 3.9351 - mae: 1.5058 - val_loss: 4.3149 - val_mae: 1.5107 - lr: 9.4347e-06\n",
      "Epoch 466/507\n",
      "70/70 [==============================] - 0s 6ms/step - loss: 3.9110 - mae: 1.5001 - val_loss: 4.3149 - val_mae: 1.5110 - lr: 9.3404e-06\n",
      "Epoch 467/507\n",
      "70/70 [==============================] - 0s 6ms/step - loss: 3.9311 - mae: 1.5044 - val_loss: 4.3148 - val_mae: 1.5118 - lr: 9.2470e-06\n",
      "Epoch 468/507\n",
      "70/70 [==============================] - 0s 6ms/step - loss: 3.9434 - mae: 1.5066 - val_loss: 4.3161 - val_mae: 1.5121 - lr: 9.1545e-06\n",
      "Epoch 469/507\n",
      "70/70 [==============================] - 0s 6ms/step - loss: 3.9689 - mae: 1.5164 - val_loss: 4.3182 - val_mae: 1.5121 - lr: 9.0630e-06\n",
      "Epoch 470/507\n",
      "70/70 [==============================] - 0s 6ms/step - loss: 3.9269 - mae: 1.5051 - val_loss: 4.3171 - val_mae: 1.5113 - lr: 8.9724e-06\n",
      "Epoch 471/507\n",
      "70/70 [==============================] - 0s 6ms/step - loss: 3.9658 - mae: 1.5126 - val_loss: 4.3160 - val_mae: 1.5097 - lr: 8.8826e-06\n",
      "Epoch 472/507\n",
      "70/70 [==============================] - 0s 6ms/step - loss: 3.9140 - mae: 1.5018 - val_loss: 4.3177 - val_mae: 1.5109 - lr: 8.7938e-06\n",
      "Epoch 473/507\n",
      "70/70 [==============================] - 0s 6ms/step - loss: 3.9361 - mae: 1.5049 - val_loss: 4.3162 - val_mae: 1.5117 - lr: 8.7059e-06\n",
      "Epoch 474/507\n",
      "70/70 [==============================] - 0s 6ms/step - loss: 3.9770 - mae: 1.5154 - val_loss: 4.3170 - val_mae: 1.5112 - lr: 8.6188e-06\n",
      "Epoch 475/507\n",
      "70/70 [==============================] - 0s 6ms/step - loss: 3.9194 - mae: 1.5019 - val_loss: 4.3180 - val_mae: 1.5114 - lr: 8.5326e-06\n",
      "Epoch 476/507\n",
      "70/70 [==============================] - 0s 6ms/step - loss: 3.9149 - mae: 1.5026 - val_loss: 4.3151 - val_mae: 1.5105 - lr: 8.4473e-06\n",
      "Epoch 477/507\n",
      "70/70 [==============================] - 0s 6ms/step - loss: 3.9002 - mae: 1.4963 - val_loss: 4.3130 - val_mae: 1.5096 - lr: 8.3628e-06\n",
      "Epoch 478/507\n",
      "70/70 [==============================] - 0s 6ms/step - loss: 3.9142 - mae: 1.5022 - val_loss: 4.3181 - val_mae: 1.5106 - lr: 8.2792e-06\n",
      "Epoch 479/507\n",
      "70/70 [==============================] - 0s 6ms/step - loss: 3.9216 - mae: 1.5050 - val_loss: 4.3177 - val_mae: 1.5111 - lr: 8.1964e-06\n",
      "Epoch 480/507\n",
      "70/70 [==============================] - 0s 6ms/step - loss: 3.9347 - mae: 1.5076 - val_loss: 4.3219 - val_mae: 1.5120 - lr: 8.1144e-06\n",
      "Epoch 481/507\n",
      "70/70 [==============================] - 0s 6ms/step - loss: 3.8969 - mae: 1.4995 - val_loss: 4.3178 - val_mae: 1.5102 - lr: 8.0333e-06\n",
      "Epoch 482/507\n",
      "70/70 [==============================] - 0s 6ms/step - loss: 3.9048 - mae: 1.5003 - val_loss: 4.3183 - val_mae: 1.5106 - lr: 7.9530e-06\n",
      "Epoch 483/507\n",
      "70/70 [==============================] - 0s 6ms/step - loss: 3.9024 - mae: 1.4955 - val_loss: 4.3192 - val_mae: 1.5100 - lr: 7.8734e-06\n",
      "Epoch 484/507\n",
      "70/70 [==============================] - 0s 6ms/step - loss: 3.9001 - mae: 1.4993 - val_loss: 4.3191 - val_mae: 1.5096 - lr: 7.7947e-06\n",
      "Epoch 485/507\n",
      "70/70 [==============================] - 0s 6ms/step - loss: 3.8902 - mae: 1.4944 - val_loss: 4.3159 - val_mae: 1.5096 - lr: 7.7167e-06\n",
      "Epoch 486/507\n",
      "70/70 [==============================] - 0s 6ms/step - loss: 3.8951 - mae: 1.4957 - val_loss: 4.3182 - val_mae: 1.5099 - lr: 7.6396e-06\n",
      "Epoch 487/507\n",
      "70/70 [==============================] - 0s 6ms/step - loss: 3.9094 - mae: 1.5017 - val_loss: 4.3132 - val_mae: 1.5082 - lr: 7.5632e-06\n",
      "Epoch 488/507\n",
      "70/70 [==============================] - 0s 6ms/step - loss: 3.9317 - mae: 1.5053 - val_loss: 4.3151 - val_mae: 1.5104 - lr: 7.4876e-06\n",
      "Epoch 489/507\n",
      "70/70 [==============================] - 0s 6ms/step - loss: 3.9474 - mae: 1.5075 - val_loss: 4.3178 - val_mae: 1.5114 - lr: 7.4127e-06\n",
      "Epoch 490/507\n",
      "70/70 [==============================] - 0s 6ms/step - loss: 3.8990 - mae: 1.4975 - val_loss: 4.3182 - val_mae: 1.5108 - lr: 7.3385e-06\n",
      "Epoch 491/507\n",
      "70/70 [==============================] - 0s 6ms/step - loss: 3.9459 - mae: 1.5120 - val_loss: 4.3182 - val_mae: 1.5111 - lr: 7.2652e-06\n",
      "Epoch 492/507\n",
      "70/70 [==============================] - 0s 6ms/step - loss: 3.9484 - mae: 1.5082 - val_loss: 4.3163 - val_mae: 1.5107 - lr: 7.1925e-06\n",
      "Epoch 493/507\n",
      "70/70 [==============================] - 0s 6ms/step - loss: 3.9350 - mae: 1.5077 - val_loss: 4.3164 - val_mae: 1.5093 - lr: 7.1206e-06\n",
      "Epoch 494/507\n",
      "70/70 [==============================] - 0s 6ms/step - loss: 3.9142 - mae: 1.4987 - val_loss: 4.3157 - val_mae: 1.5092 - lr: 7.0494e-06\n",
      "Epoch 495/507\n",
      "70/70 [==============================] - 0s 6ms/step - loss: 3.9302 - mae: 1.5048 - val_loss: 4.3165 - val_mae: 1.5096 - lr: 6.9789e-06\n",
      "Epoch 496/507\n",
      "70/70 [==============================] - 0s 6ms/step - loss: 3.9604 - mae: 1.5155 - val_loss: 4.3156 - val_mae: 1.5106 - lr: 6.9091e-06\n",
      "Epoch 497/507\n",
      "70/70 [==============================] - 0s 6ms/step - loss: 3.9468 - mae: 1.5118 - val_loss: 4.3149 - val_mae: 1.5100 - lr: 6.8400e-06\n"
     ]
    },
    {
     "name": "stdout",
     "output_type": "stream",
     "text": [
      "Epoch 498/507\n",
      "70/70 [==============================] - 0s 6ms/step - loss: 3.8916 - mae: 1.4979 - val_loss: 4.3139 - val_mae: 1.5094 - lr: 6.7716e-06\n",
      "Epoch 499/507\n",
      "70/70 [==============================] - 0s 6ms/step - loss: 3.8748 - mae: 1.4910 - val_loss: 4.3135 - val_mae: 1.5087 - lr: 6.7039e-06\n",
      "Epoch 500/507\n",
      "70/70 [==============================] - 0s 6ms/step - loss: 3.9274 - mae: 1.5034 - val_loss: 4.3148 - val_mae: 1.5093 - lr: 6.6369e-06\n",
      "Epoch 501/507\n",
      "70/70 [==============================] - 0s 6ms/step - loss: 3.9214 - mae: 1.5056 - val_loss: 4.3161 - val_mae: 1.5101 - lr: 6.5705e-06\n",
      "Epoch 502/507\n",
      "70/70 [==============================] - 0s 6ms/step - loss: 3.9069 - mae: 1.5004 - val_loss: 4.3171 - val_mae: 1.5109 - lr: 6.5048e-06\n",
      "Epoch 503/507\n",
      "70/70 [==============================] - 0s 6ms/step - loss: 3.9063 - mae: 1.5000 - val_loss: 4.3134 - val_mae: 1.5091 - lr: 6.4397e-06\n",
      "Epoch 504/507\n",
      "70/70 [==============================] - 0s 6ms/step - loss: 3.9260 - mae: 1.5036 - val_loss: 4.3160 - val_mae: 1.5103 - lr: 6.3753e-06\n",
      "Epoch 505/507\n",
      "70/70 [==============================] - 0s 6ms/step - loss: 3.9531 - mae: 1.5112 - val_loss: 4.3151 - val_mae: 1.5094 - lr: 6.3116e-06\n",
      "Epoch 506/507\n",
      "70/70 [==============================] - 0s 6ms/step - loss: 3.9228 - mae: 1.5049 - val_loss: 4.3154 - val_mae: 1.5094 - lr: 6.2485e-06\n",
      "Epoch 507/507\n",
      "70/70 [==============================] - 0s 6ms/step - loss: 3.9317 - mae: 1.5056 - val_loss: 4.3144 - val_mae: 1.5096 - lr: 6.1860e-06\n"
     ]
    }
   ],
   "source": [
    "val_epochs = 507\n",
    "tf.compat.v1.global_variables_initializer()\n",
    "\n",
    "early_stop = tf.keras.callbacks.EarlyStopping( monitor = 'val_loss', patience = 500,verbose = 1, \n",
    "                                              restore_best_weights = True)\n",
    "\n",
    "reduce_lr = tf.keras.callbacks.LearningRateScheduler(scheduler)\n",
    "history = model.fit(train_dataset, validation_data=val_dataset, epochs= val_epochs, callbacks=[reduce_lr, early_stop])"
   ]
  },
  {
   "cell_type": "markdown",
   "id": "7b9d5d5d",
   "metadata": {},
   "source": [
    "# Analizamos accuracy y loss"
   ]
  },
  {
   "cell_type": "code",
   "execution_count": 37,
   "id": "c2c35f5e",
   "metadata": {
    "ExecuteTime": {
     "end_time": "2023-03-30T06:53:38.356490Z",
     "start_time": "2023-03-30T06:53:38.202849Z"
    }
   },
   "outputs": [
    {
     "data": {
      "image/png": "[encoded data removed]",
      "text/plain": [
       "<Figure size 800x800 with 2 Axes>"
      ]
     },
     "metadata": {},
     "output_type": "display_data"
    }
   ],
   "source": [
    "acc = history.history['mae']\n",
    "val_acc = history.history['val_mae']\n",
    "\n",
    "loss = history.history['loss']\n",
    "val_loss = history.history['val_loss']\n",
    "\n",
    "epochs_range = range(507)\n",
    "\n",
    "plt.figure(figsize=(8, 8))\n",
    "plt.subplot(1, 2, 1)\n",
    "plt.plot(epochs_range, acc, label='Training Accuracy')\n",
    "plt.plot(epochs_range, val_acc, label='Validation Accuracy')\n",
    "plt.legend(loc='lower right')\n",
    "plt.title('Training and Validation Accuracy')\n",
    "\n",
    "plt.subplot(1, 2, 2)\n",
    "plt.plot(epochs_range, loss, label='Training Loss')\n",
    "plt.plot(epochs_range, val_loss, label='Validation Loss')\n",
    "plt.legend(loc='upper right')\n",
    "plt.title('Training and Validation Loss')\n",
    "plt.show()"
   ]
  },
  {
   "cell_type": "markdown",
   "id": "06522ddb",
   "metadata": {},
   "source": [
    "# Guardamos los datos Accuracy y Loss"
   ]
  },
  {
   "cell_type": "code",
   "execution_count": 38,
   "id": "86253444",
   "metadata": {
    "ExecuteTime": {
     "end_time": "2023-03-30T06:53:44.452123Z",
     "start_time": "2023-03-30T06:53:44.440130Z"
    }
   },
   "outputs": [],
   "source": [
    "df = pd.DataFrame.from_dict(history.history)\n",
    "df.to_csv('../../../Gráficas finales/historytrayec100.csv', index=False)"
   ]
  },
  {
   "cell_type": "markdown",
   "id": "e1af1d19",
   "metadata": {},
   "source": [
    "# Guardamos el modelo"
   ]
  },
  {
   "cell_type": "code",
   "execution_count": 1,
   "id": "3a346828",
   "metadata": {
    "ExecuteTime": {
     "end_time": "2023-05-04T04:48:00.683437Z",
     "start_time": "2023-05-04T04:48:00.674240Z"
    }
   },
   "outputs": [],
   "source": [
    "path_to_save = '../../../Modelos/Modelos 50,100'"
   ]
  },
  {
   "cell_type": "code",
   "execution_count": 40,
   "id": "8e86a52a",
   "metadata": {
    "ExecuteTime": {
     "end_time": "2023-03-30T06:53:45.606563Z",
     "start_time": "2023-03-30T06:53:45.561713Z"
    }
   },
   "outputs": [],
   "source": [
    "model.save(path_to_save + '/trayectorias100.h5')"
   ]
  },
  {
   "cell_type": "markdown",
   "id": "efc9d48d",
   "metadata": {},
   "source": [
    "# Importamos el modelo"
   ]
  },
  {
   "cell_type": "code",
   "execution_count": 41,
   "id": "d1d4a1a9",
   "metadata": {
    "ExecuteTime": {
     "end_time": "2023-03-30T06:53:46.874665Z",
     "start_time": "2023-03-30T06:53:46.782375Z"
    }
   },
   "outputs": [],
   "source": [
    "new_model = keras.models.load_model('../../../Modelos/Modelos 50,100/trayectorias100.h5')"
   ]
  },
  {
   "cell_type": "markdown",
   "id": "7f6d0ea9",
   "metadata": {},
   "source": [
    "# Probamos el modelo con datos nuevos"
   ]
  },
  {
   "cell_type": "markdown",
   "id": "6ad7f37d",
   "metadata": {},
   "source": [
    "## Creamos nuevos datos"
   ]
  },
  {
   "cell_type": "code",
   "execution_count": 42,
   "id": "b664f200",
   "metadata": {
    "ExecuteTime": {
     "end_time": "2023-03-30T06:53:48.491129Z",
     "start_time": "2023-03-30T06:53:48.378994Z"
    }
   },
   "outputs": [
    {
     "name": "stdout",
     "output_type": "stream",
     "text": [
      "--------------------------------------------\n",
      "[0, 1, 4, 8, 5, 1, 5]\n",
      "(10, 2, 100)\n",
      "1\n"
     ]
    }
   ],
   "source": [
    "import random\n",
    "from scipy.integrate import solve_ivp\n",
    "\n",
    "varf = []\n",
    "coef = []\n",
    "contador = 0\n",
    "for i in range(0, 1):\n",
    "    # constantes\n",
    "    a1 = random.randint(0, 10)\n",
    "    a2 = random.randint(0, 10)\n",
    "    b1 = random.randint(0, 10)\n",
    "    b2 = random.randint(0, 10)\n",
    "    d1 = random.randint(0, 10)\n",
    "    d2 = random.randint(0, 10)\n",
    "    n = random.randint(0, 5)\n",
    "\n",
    "    coef1 = [a1, a2, b1, b2, d1, d2, n]\n",
    "    coef.append(coef1)\n",
    "\n",
    "    def f(t, y):\n",
    "\n",
    "        # asignar a cada ODE a un elemento de vector\n",
    "        X = y[0]\n",
    "        Y = y[1]\n",
    "\n",
    "        # definimos cada ODE\n",
    "        # dX_dt=a1/(1+Y**n)-d1*X+b1\n",
    "        # dY_dt=a2/(1+X**n)-d2*Y+b2\n",
    "        dX_dt = a1/(1+Y**n)-d1*X+b1\n",
    "        dY_dt = a2/(1+X**n)-d2*Y+b1\n",
    "\n",
    "        return [dX_dt, dY_dt]\n",
    "\n",
    "    # Declaramos el vector de tiempo\n",
    "    t_span = [0, 5]\n",
    "    times = np.linspace(t_span[0], t_span[1], 100)\n",
    "\n",
    "    varfci2 = []\n",
    "    for i_ci in range(0, 10):\n",
    "        # Definimos las condiciones iniciales\n",
    "        y0 = np.array([random.randint(0, 10), random.randint(0, 10)])\n",
    "\n",
    "        # Resolvemos\n",
    "        # Modificar manualmente el intervalo de tiempo\n",
    "        sol = solve_ivp(f, t_span, y0, t_eval=times)\n",
    "        # sol=solve_ivp(f, t_span, y0) #Dejar que la librería elija el mejor intervalo\n",
    "        tiempo = sol.t\n",
    "        var1 = sol.y[0]\n",
    "        var2 = sol.y[1]\n",
    "\n",
    "        varfci = np.append([var1], [var2], axis=0)\n",
    "        varfci2.append(varfci)\n",
    "\n",
    "       \n",
    "\n",
    "    varf= varfci2\n",
    "    print('--------------------------------------------')\n",
    "    print(coef1)\n",
    "    print(np.shape(varf))\n",
    "    contador = contador+1\n",
    "    print(contador)\n",
    "\n",
    "varf = np.array(varf)\n",
    "coef = np.array(coef)"
   ]
  },
  {
   "cell_type": "code",
   "execution_count": 43,
   "id": "ffbe4d61",
   "metadata": {
    "ExecuteTime": {
     "end_time": "2023-03-30T06:53:48.999240Z",
     "start_time": "2023-03-30T06:53:48.990269Z"
    }
   },
   "outputs": [],
   "source": [
    "varfnone = varf[None, :]"
   ]
  },
  {
   "cell_type": "markdown",
   "id": "4ea4942b",
   "metadata": {},
   "source": [
    "## Predecimos con los datos nuevos"
   ]
  },
  {
   "cell_type": "code",
   "execution_count": 44,
   "id": "37dce68f",
   "metadata": {
    "ExecuteTime": {
     "end_time": "2023-03-30T06:53:49.681831Z",
     "start_time": "2023-03-30T06:53:49.579086Z"
    }
   },
   "outputs": [
    {
     "name": "stdout",
     "output_type": "stream",
     "text": [
      "1/1 [==============================] - 0s 64ms/step\n",
      "[[4.598486  4.9482164 4.841604  5.1468625 5.7165155 1.5674145 2.438352 ]]\n"
     ]
    }
   ],
   "source": [
    "new_predictions = new_model.predict(campvecnone)\n",
    "new_predictions = np.round(new_predictions)\n",
    "new_predictions = np.clip(new_predictions, 0, None)\n",
    "print(new_predictions)"
   ]
  },
  {
   "cell_type": "markdown",
   "id": "06c64a67",
   "metadata": {},
   "source": [
    "## Graficamos con los coeficientes reales"
   ]
  },
  {
   "cell_type": "code",
   "execution_count": 45,
   "id": "930a1b59",
   "metadata": {
    "ExecuteTime": {
     "end_time": "2023-03-30T06:53:53.707073Z",
     "start_time": "2023-03-30T06:53:53.629245Z"
    }
   },
   "outputs": [
    {
     "data": {
      "image/png": "[encoded data removed]",
      "text/plain": [
       "<Figure size 500x500 with 1 Axes>"
      ]
     },
     "metadata": {},
     "output_type": "display_data"
    }
   ],
   "source": [
    "t_span = [0, 50]\n",
    "times = np.linspace(t_span[0], t_span[1], 100)\n",
    "plt.figure(figsize=(5,5))\n",
    "plt.plot(times,np.array(varf)[0,0,:], label=\" Concentración X\")\n",
    "plt.plot(times,np.array(varf)[0,1,:], label=\"Concentración Y\")\n",
    "plt.xlabel('Tiempo')\n",
    "plt.ylabel('Concentración de genes')\n",
    "plt.title('Simulación Toggle Swich', fontsize=20)\n",
    "plt.legend()\n",
    "plt.show()"
   ]
  },
  {
   "cell_type": "code",
   "execution_count": 46,
   "id": "be8f3283",
   "metadata": {
    "ExecuteTime": {
     "end_time": "2023-03-30T06:53:54.177456Z",
     "start_time": "2023-03-30T06:53:54.170521Z"
    }
   },
   "outputs": [
    {
     "data": {
      "text/plain": [
       "(1, 7)"
      ]
     },
     "execution_count": 46,
     "metadata": {},
     "output_type": "execute_result"
    }
   ],
   "source": [
    "np.shape(new_predictions)"
   ]
  },
  {
   "cell_type": "markdown",
   "id": "beb6126d",
   "metadata": {},
   "source": [
    "## Graficamos con los coeficientes predecidos"
   ]
  },
  {
   "cell_type": "code",
   "execution_count": 47,
   "id": "84ae10b1",
   "metadata": {
    "ExecuteTime": {
     "end_time": "2023-03-30T06:53:54.833864Z",
     "start_time": "2023-03-30T06:53:54.748536Z"
    }
   },
   "outputs": [
    {
     "data": {
      "image/png": "[encoded data removed]",
      "text/plain": [
       "<Figure size 500x500 with 1 Axes>"
      ]
     },
     "metadata": {},
     "output_type": "display_data"
    }
   ],
   "source": [
    "a1 = new_predictions[0,0]\n",
    "a2 = new_predictions[0,1]\n",
    "b1 = new_predictions[0,2]\n",
    "b2 = new_predictions[0,3]\n",
    "d1 = new_predictions[0,4]\n",
    "d2 = new_predictions[0,5]\n",
    "n = new_predictions[0,6]\n",
    " \n",
    "def f(t, y):\n",
    "\n",
    "    # asignar a cada ODE a un elemento de vector\n",
    "    X = y[0]\n",
    "    Y = y[1]\n",
    "\n",
    "    # definimos cada ODE\n",
    "    dX_dt = a1/(1+Y**n)-d1*X+b1\n",
    "    dY_dt = a2/(1+X**n)-d2*Y+b1\n",
    "\n",
    "    return [dX_dt, dY_dt]\n",
    "\n",
    "# Declaramos el vector de tiempo\n",
    "t_span = [0, 5]\n",
    "times = np.linspace(t_span[0], t_span[1], 100)\n",
    "\n",
    "# Definimos las condiciones iniciales\n",
    "y0 = np.array([10,10])\n",
    "\n",
    "# Resolvemos\n",
    "# Modificar manualmente el intervalo de tiempo\n",
    "sol = solve_ivp(f, t_span, y0, t_eval=times)\n",
    "# sol=solve_ivp(f, t_span, y0) #Dejar que la librería elija el mejor intervalo\n",
    "tiempo = sol.t\n",
    "var1 = sol.y[0]\n",
    "var2 = sol.y[1]\n",
    "\n",
    "# Graficamos\n",
    "plt.figure(figsize=(5, 5))\n",
    "plt.plot(tiempo, var1, label=\" Concentración X\")\n",
    "plt.plot(tiempo, var2, label=\"Concentración Y\")\n",
    "plt.xlabel('Tiempo')\n",
    "plt.ylabel('Concentración de genes')\n",
    "plt.title('Simulación Toggle Swich', fontsize=20)\n",
    "plt.legend()\n",
    "plt.show()"
   ]
  }
 ],
 "metadata": {
  "hide_input": false,
  "kernelspec": {
   "display_name": "Python 3 (ipykernel)",
   "language": "python",
   "name": "python3"
  },
  "language_info": {
   "codemirror_mode": {
    "name": "ipython",
    "version": 3
   },
   "file_extension": ".py",
   "mimetype": "text/x-python",
   "name": "python",
   "nbconvert_exporter": "python",
   "pygments_lexer": "ipython3",
   "version": "3.10.11"
  },
  "toc": {
   "base_numbering": 1,
   "nav_menu": {},
   "number_sections": true,
   "sideBar": true,
   "skip_h1_title": false,
   "title_cell": "Table of Contents",
   "title_sidebar": "Contents",
   "toc_cell": false,
   "toc_position": {},
   "toc_section_display": true,
   "toc_window_display": false
  },
  "varInspector": {
   "cols": {
    "lenName": 16,
    "lenType": 16,
    "lenVar": 40
   },
   "kernels_config": {
    "python": {
     "delete_cmd_postfix": "",
     "delete_cmd_prefix": "del ",
     "library": "var_list.py",
     "varRefreshCmd": "print(var_dic_list())"
    },
    "r": {
     "delete_cmd_postfix": ") ",
     "delete_cmd_prefix": "rm(",
     "library": "var_list.r",
     "varRefreshCmd": "cat(var_dic_list()) "
    }
   },
   "types_to_exclude": [
    "module",
    "function",
    "builtin_function_or_method",
    "instance",
    "_Feature"
   ],
   "window_display": false
  }
 },
 "nbformat": 4,
 "nbformat_minor": 5
}
