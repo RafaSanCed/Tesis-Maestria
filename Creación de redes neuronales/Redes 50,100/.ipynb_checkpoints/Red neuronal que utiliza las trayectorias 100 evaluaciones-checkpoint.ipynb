{
 "cells": [
  {
   "cell_type": "markdown",
   "id": "0067cad0",
   "metadata": {},
   "source": [
    "# Importamos librerías"
   ]
  },
  {
   "cell_type": "code",
   "execution_count": 1,
   "id": "b2d4f30f",
   "metadata": {
    "ExecuteTime": {
     "end_time": "2023-03-29T05:57:20.677230Z",
     "start_time": "2023-03-29T05:57:18.968896Z"
    }
   },
   "outputs": [],
   "source": [
    "import tensorflow as tf\n",
    "import pathlib\n",
    "import os\n",
    "import matplotlib.pyplot as plt\n",
    "import pandas as pd\n",
    "import numpy as np\n",
    "import keras"
   ]
  },
  {
   "cell_type": "code",
   "execution_count": 2,
   "id": "20fccfc6",
   "metadata": {
    "ExecuteTime": {
     "end_time": "2023-03-29T05:57:21.249661Z",
     "start_time": "2023-03-29T05:57:21.233714Z"
    }
   },
   "outputs": [],
   "source": [
    "from tensorflow.keras import Sequential\n",
    "from tensorflow.keras.layers import Conv2D\n",
    "from tensorflow.keras.layers import MaxPooling2D\n",
    "from tensorflow.keras.layers import AveragePooling2D\n",
    "from tensorflow.keras.layers import Dense\n",
    "from tensorflow.keras.layers import Flatten\n",
    "from tensorflow.keras.layers import Dropout, BatchNormalization"
   ]
  },
  {
   "cell_type": "code",
   "execution_count": 3,
   "id": "1c769735",
   "metadata": {
    "ExecuteTime": {
     "end_time": "2023-03-29T05:57:21.621072Z",
     "start_time": "2023-03-29T05:57:21.564751Z"
    }
   },
   "outputs": [
    {
     "name": "stdout",
     "output_type": "stream",
     "text": [
      "WARNING:tensorflow:From C:\\Users\\rafae\\AppData\\Local\\Temp\\ipykernel_13136\\337460670.py:1: is_gpu_available (from tensorflow.python.framework.test_util) is deprecated and will be removed in a future version.\n",
      "Instructions for updating:\n",
      "Use `tf.config.list_physical_devices('GPU')` instead.\n"
     ]
    },
    {
     "data": {
      "text/plain": [
       "True"
      ]
     },
     "execution_count": 3,
     "metadata": {},
     "output_type": "execute_result"
    }
   ],
   "source": [
    "tf.test.is_gpu_available()"
   ]
  },
  {
   "cell_type": "markdown",
   "id": "d94b2fbd",
   "metadata": {},
   "source": [
    "# Importamos los datos"
   ]
  },
  {
   "cell_type": "code",
   "execution_count": 4,
   "id": "2cdd79aa",
   "metadata": {
    "ExecuteTime": {
     "end_time": "2023-03-29T05:57:22.253170Z",
     "start_time": "2023-03-29T05:57:22.249183Z"
    }
   },
   "outputs": [],
   "source": [
    "path = 'D:/Documentos de trabajo/Maestría/Tesis Maestría/Trabajo Python Tesis/Github Tesis/Base de datos/Trayectorias 100 eval'"
   ]
  },
  {
   "cell_type": "markdown",
   "id": "39beab0c",
   "metadata": {},
   "source": [
    "## Datos de entrenamiento"
   ]
  },
  {
   "cell_type": "markdown",
   "id": "ca636b58",
   "metadata": {},
   "source": [
    "### Datos"
   ]
  },
  {
   "cell_type": "code",
   "execution_count": 5,
   "id": "ac8ee3cc",
   "metadata": {
    "ExecuteTime": {
     "end_time": "2023-03-29T05:57:24.208410Z",
     "start_time": "2023-03-29T05:57:24.163868Z"
    }
   },
   "outputs": [],
   "source": [
    "varftrain = np.load(path + '/varftrain.npy')"
   ]
  },
  {
   "cell_type": "code",
   "execution_count": 6,
   "id": "a2977931",
   "metadata": {
    "ExecuteTime": {
     "end_time": "2023-03-29T05:57:24.454611Z",
     "start_time": "2023-03-29T05:57:24.450624Z"
    }
   },
   "outputs": [
    {
     "data": {
      "text/plain": [
       "(7000, 10, 2, 100)"
      ]
     },
     "execution_count": 6,
     "metadata": {},
     "output_type": "execute_result"
    }
   ],
   "source": [
    "np.shape(varftrain)"
   ]
  },
  {
   "cell_type": "markdown",
   "id": "4a0e5fa2",
   "metadata": {},
   "source": [
    "### Coeficientes"
   ]
  },
  {
   "cell_type": "code",
   "execution_count": 7,
   "id": "45e5d25a",
   "metadata": {
    "ExecuteTime": {
     "end_time": "2023-03-29T05:57:25.107335Z",
     "start_time": "2023-03-29T05:57:25.098365Z"
    }
   },
   "outputs": [],
   "source": [
    "coefvarftrain = np.load(path + '/coefvarftrain.npy')"
   ]
  },
  {
   "cell_type": "code",
   "execution_count": 8,
   "id": "88f0323d",
   "metadata": {
    "ExecuteTime": {
     "end_time": "2023-03-29T05:57:25.412848Z",
     "start_time": "2023-03-29T05:57:25.396902Z"
    }
   },
   "outputs": [
    {
     "data": {
      "text/plain": [
       "(7000, 7)"
      ]
     },
     "execution_count": 8,
     "metadata": {},
     "output_type": "execute_result"
    }
   ],
   "source": [
    "np.shape(coefvarftrain)"
   ]
  },
  {
   "cell_type": "markdown",
   "id": "c89d3216",
   "metadata": {},
   "source": [
    "## Datos de prueba"
   ]
  },
  {
   "cell_type": "markdown",
   "id": "df843cea",
   "metadata": {},
   "source": [
    "### Datos"
   ]
  },
  {
   "cell_type": "code",
   "execution_count": 9,
   "id": "74030537",
   "metadata": {
    "ExecuteTime": {
     "end_time": "2023-03-29T05:57:26.173880Z",
     "start_time": "2023-03-29T05:57:26.148961Z"
    }
   },
   "outputs": [],
   "source": [
    "varftest = np.load(path + '/varftest.npy')"
   ]
  },
  {
   "cell_type": "code",
   "execution_count": 10,
   "id": "d6196850",
   "metadata": {
    "ExecuteTime": {
     "end_time": "2023-03-29T05:57:26.547466Z",
     "start_time": "2023-03-29T05:57:26.531519Z"
    }
   },
   "outputs": [
    {
     "data": {
      "text/plain": [
       "(2000, 10, 2, 100)"
      ]
     },
     "execution_count": 10,
     "metadata": {},
     "output_type": "execute_result"
    }
   ],
   "source": [
    "np.shape(varftest)"
   ]
  },
  {
   "cell_type": "markdown",
   "id": "46a3e36d",
   "metadata": {},
   "source": [
    "### Coeficientes"
   ]
  },
  {
   "cell_type": "code",
   "execution_count": 11,
   "id": "cf22c486",
   "metadata": {
    "ExecuteTime": {
     "end_time": "2023-03-29T05:57:27.072746Z",
     "start_time": "2023-03-29T05:57:27.058791Z"
    }
   },
   "outputs": [],
   "source": [
    "coefvarftest = np.load(path + '/coefvarftest.npy')"
   ]
  },
  {
   "cell_type": "code",
   "execution_count": 12,
   "id": "545559ea",
   "metadata": {
    "ExecuteTime": {
     "end_time": "2023-03-29T05:57:27.383108Z",
     "start_time": "2023-03-29T05:57:27.373629Z"
    }
   },
   "outputs": [
    {
     "data": {
      "text/plain": [
       "(2000, 7)"
      ]
     },
     "execution_count": 12,
     "metadata": {},
     "output_type": "execute_result"
    }
   ],
   "source": [
    "np.shape(coefvarftest)"
   ]
  },
  {
   "cell_type": "markdown",
   "id": "63024745",
   "metadata": {},
   "source": [
    "## Datos de validación"
   ]
  },
  {
   "cell_type": "markdown",
   "id": "9e38f1d7",
   "metadata": {},
   "source": [
    "### Datos"
   ]
  },
  {
   "cell_type": "code",
   "execution_count": 13,
   "id": "6e5768b7",
   "metadata": {
    "ExecuteTime": {
     "end_time": "2023-03-29T05:57:31.912681Z",
     "start_time": "2023-03-29T05:57:31.897731Z"
    }
   },
   "outputs": [],
   "source": [
    "varfval = np.load(path + '/varfval.npy')"
   ]
  },
  {
   "cell_type": "code",
   "execution_count": 14,
   "id": "a29f5ec0",
   "metadata": {
    "ExecuteTime": {
     "end_time": "2023-03-29T05:57:32.285382Z",
     "start_time": "2023-03-29T05:57:32.274909Z"
    }
   },
   "outputs": [
    {
     "data": {
      "text/plain": [
       "(1000, 10, 2, 100)"
      ]
     },
     "execution_count": 14,
     "metadata": {},
     "output_type": "execute_result"
    }
   ],
   "source": [
    "np.shape(varfval)"
   ]
  },
  {
   "cell_type": "markdown",
   "id": "ffc618a2",
   "metadata": {},
   "source": [
    "### Coeficienes"
   ]
  },
  {
   "cell_type": "code",
   "execution_count": 15,
   "id": "b323751c",
   "metadata": {
    "ExecuteTime": {
     "end_time": "2023-03-29T05:57:43.956200Z",
     "start_time": "2023-03-29T05:57:43.946770Z"
    }
   },
   "outputs": [],
   "source": [
    "coefvarfval = np.load(path + '/coefvarfval.npy')"
   ]
  },
  {
   "cell_type": "code",
   "execution_count": 16,
   "id": "60df7d7d",
   "metadata": {
    "ExecuteTime": {
     "end_time": "2023-03-29T05:57:44.204287Z",
     "start_time": "2023-03-29T05:57:44.186130Z"
    }
   },
   "outputs": [
    {
     "data": {
      "text/plain": [
       "(1000, 7)"
      ]
     },
     "execution_count": 16,
     "metadata": {},
     "output_type": "execute_result"
    }
   ],
   "source": [
    "np.shape(coefvarfval)"
   ]
  },
  {
   "cell_type": "markdown",
   "id": "e069562d",
   "metadata": {},
   "source": [
    "# Unimos coeficientes con los datos"
   ]
  },
  {
   "cell_type": "code",
   "execution_count": 17,
   "id": "a973df40",
   "metadata": {
    "ExecuteTime": {
     "end_time": "2023-03-29T05:57:45.061211Z",
     "start_time": "2023-03-29T05:57:44.923919Z"
    }
   },
   "outputs": [],
   "source": [
    "train_dataset = tf.data.Dataset.from_tensor_slices((varftrain, coefvarftrain))\n",
    "test_dataset = tf.data.Dataset.from_tensor_slices((varftest, coefvarftest))\n",
    "val_dataset = tf.data.Dataset.from_tensor_slices((varfval, coefvarfval))"
   ]
  },
  {
   "cell_type": "code",
   "execution_count": 18,
   "id": "bc7ee207",
   "metadata": {
    "ExecuteTime": {
     "end_time": "2023-03-29T05:57:45.515873Z",
     "start_time": "2023-03-29T05:57:45.503913Z"
    }
   },
   "outputs": [
    {
     "data": {
      "text/plain": [
       "<TensorSliceDataset element_spec=(TensorSpec(shape=(10, 2, 100), dtype=tf.float64, name=None), TensorSpec(shape=(7,), dtype=tf.int32, name=None))>"
      ]
     },
     "execution_count": 18,
     "metadata": {},
     "output_type": "execute_result"
    }
   ],
   "source": [
    "train_dataset"
   ]
  },
  {
   "cell_type": "markdown",
   "id": "05ebcd40",
   "metadata": {
    "ExecuteTime": {
     "end_time": "2023-02-07T19:36:45.065835Z",
     "start_time": "2023-02-07T19:36:45.042683Z"
    }
   },
   "source": [
    "# Mezclar y procesar por lotes los conjuntos de datos"
   ]
  },
  {
   "cell_type": "code",
   "execution_count": 19,
   "id": "eca4c6bc",
   "metadata": {
    "ExecuteTime": {
     "end_time": "2023-03-29T05:57:46.885692Z",
     "start_time": "2023-03-29T05:57:46.863194Z"
    }
   },
   "outputs": [],
   "source": [
    "BATCH_SIZE = 100\n",
    "SHUFFLE_BUFFER_SIZE = 100\n",
    "\n",
    "train_dataset = train_dataset.shuffle(SHUFFLE_BUFFER_SIZE).batch(BATCH_SIZE)\n",
    "test_dataset = test_dataset.batch(BATCH_SIZE)\n",
    "val_dataset = val_dataset.batch(BATCH_SIZE)"
   ]
  },
  {
   "cell_type": "markdown",
   "id": "46c62479",
   "metadata": {},
   "source": [
    "# Creamos la función de costo"
   ]
  },
  {
   "cell_type": "markdown",
   "id": "76914f6c",
   "metadata": {},
   "source": [
    "# Creación del modelo"
   ]
  },
  {
   "cell_type": "code",
   "execution_count": null,
   "id": "f81457b1",
   "metadata": {},
   "outputs": [],
   "source": [
    "def custom_loss(y_true,y_pred):\n",
    "    ytruearray = ytrue.eval(session=tf.compat.v1.Session())\n",
    "    print(np.shape(y_true))\n",
    "    campvec = []\n",
    "    # constantes\n",
    "    a1 = y_true[0]\n",
    "    a2 = y_true[1]\n",
    "    b1 = y_true[2]\n",
    "    b2 = y_true[3]\n",
    "    d1 = y_true[4]\n",
    "    d2 = y_true[5]\n",
    "    n = y_true[6]\n",
    "\n",
    "    def f(t, y):\n",
    "\n",
    "        # asignar a cada ODE a un elemento de vector\n",
    "        X = y[0]\n",
    "        Y = y[1]\n",
    "\n",
    "        # definimos cada ODE\n",
    "        # dX_dt=a1/(1+Y**n)-d1*X+b1\n",
    "        # dY_dt=a2/(1+X**n)-d2*Y+b2\n",
    "        dX_dt = a1/(1+Y**n)-d1*X+b1\n",
    "        dY_dt = a2/(1+X**n)-d2*Y+b1\n",
    "\n",
    "        return [dX_dt, dY_dt]\n",
    "\n",
    "    x_range_neg = 0\n",
    "    x_range_pos = 50\n",
    "    y_range_neg = 0\n",
    "    y_range_pos =50\n",
    "\n",
    "    y1 = np.linspace(x_range_neg, x_range_pos, 100)\n",
    "    y2 = np.linspace(y_range_neg, y_range_pos, 100)\n",
    "\n",
    "    Y1, Y2 = np.meshgrid(y1, y2)\n",
    "    \n",
    "    t1 = 0\n",
    "\n",
    "    u, v = np.zeros(Y1.shape), np.zeros(Y2.shape)\n",
    "\n",
    "    NI, NJ = Y1.shape\n",
    "\n",
    "    u1, v1 = f(t1, [Y1, Y2])\n",
    "    u, v = f(t1, [Y1, Y2])\n",
    "    M = (np.hypot(u, v))\n",
    "    u /= M\n",
    "    v /= M\n",
    "\n",
    "    campvecci = np.append([u1], [v1], axis=0)\n",
    "\n",
    "    campvec = campvecci\n",
    "    campvec = np.array(campvec)\n",
    "\n",
    "# ----------------------------------------------------------------------------\n",
    "    campvec2 = []\n",
    "    # constantes\n",
    "    a12 = y_pred[0]\n",
    "    a22 = y_pred[1]\n",
    "    b12 = y_pred[2]\n",
    "    b22 = y_pred[3]\n",
    "    d12 = y_pred[4]\n",
    "    d22 = y_pred[5]\n",
    "    n2 = y_pred[6]\n",
    "\n",
    "    def f2(t2, y2):\n",
    "\n",
    "        # asignar a cada ODE a un elemento de vector\n",
    "        X2 = y2[0]\n",
    "        Y2 = y2[1]\n",
    "\n",
    "        # definimos cada ODE\n",
    "        # dX_dt=a1/(1+Y**n)-d1*X+b1\n",
    "        # dY_dt=a2/(1+X**n)-d2*Y+b2\n",
    "        dX2_dt = a12/(1+Y**n2)-d12*X+b12\n",
    "        dY2_dt = a22/(1+X**n2)-d22*Y+b12\n",
    "\n",
    "        return [dX2_dt, dY2_dt]\n",
    "\n",
    "    y12 = np.linspace(x_range_neg, x_range_pos, 100)\n",
    "    y22 = np.linspace(y_range_neg, y_range_pos, 100)\n",
    "\n",
    "    Y12, Y22 = np.meshgrid(y12, y22)\n",
    "    \n",
    "    t12 = 0\n",
    "\n",
    "    u2, v2 = np.zeros(Y12.shape), np.zeros(Y22.shape)\n",
    "\n",
    "    NI2, NJ2 = Y12.shape\n",
    "\n",
    "    u12, v12 = f(t12, [Y12, Y22])\n",
    "    u2, v2 = f(t12, [Y12, Y22])\n",
    "    M2 = (np.hypot(u2, v2))\n",
    "    u2 /= M2\n",
    "    v2 /= M2\n",
    "\n",
    "    campvecci2 = np.append([u12], [v12], axis=0)\n",
    "\n",
    "    campvec2 = campvecci2\n",
    "    campvec2 = np.array(campvec2)\n",
    "    tf.cast(campvec|campvec2, tf.int64|tf.int64)\n",
    "\n",
    "    \n",
    "    return (campvec-campvec2)\n"
   ]
  },
  {
   "cell_type": "code",
   "execution_count": 23,
   "id": "e4f113f9",
   "metadata": {
    "ExecuteTime": {
     "end_time": "2023-03-29T05:58:24.390098Z",
     "start_time": "2023-03-29T05:58:24.338272Z"
    }
   },
   "outputs": [],
   "source": [
    "#model = Sequential()\n",
    "\n",
    "model = tf.keras.Sequential([\n",
    "    tf.keras.layers.Flatten(input_shape=(10,2,100)),\n",
    "    tf.keras.layers.BatchNormalization(),\n",
    "    tf.keras.layers.Dense(128, activation='relu'),\n",
    "    tf.keras.layers.Dense(64, activation='relu'),\n",
    "    tf.keras.layers.Dense(128, activation='relu'),\n",
    "    tf.keras.layers.Dense(64, activation='relu'),\n",
    "    tf.keras.layers.Dropout(0.2),\n",
    "    tf.keras.layers.BatchNormalization(),\n",
    "    tf.keras.layers.Dense(7)\n",
    "])\n"
   ]
  },
  {
   "cell_type": "code",
   "execution_count": 24,
   "id": "45fd641f",
   "metadata": {
    "ExecuteTime": {
     "end_time": "2023-03-29T05:58:24.699380Z",
     "start_time": "2023-03-29T05:58:24.679384Z"
    }
   },
   "outputs": [
    {
     "name": "stdout",
     "output_type": "stream",
     "text": [
      "Model: \"sequential_1\"\n",
      "_________________________________________________________________\n",
      " Layer (type)                Output Shape              Param #   \n",
      "=================================================================\n",
      " flatten_1 (Flatten)         (None, 2000)              0         \n",
      "                                                                 \n",
      " batch_normalization_2 (Batc  (None, 2000)             8000      \n",
      " hNormalization)                                                 \n",
      "                                                                 \n",
      " dense_5 (Dense)             (None, 128)               256128    \n",
      "                                                                 \n",
      " dense_6 (Dense)             (None, 64)                8256      \n",
      "                                                                 \n",
      " dense_7 (Dense)             (None, 128)               8320      \n",
      "                                                                 \n",
      " dense_8 (Dense)             (None, 64)                8256      \n",
      "                                                                 \n",
      " dropout_1 (Dropout)         (None, 64)                0         \n",
      "                                                                 \n",
      " batch_normalization_3 (Batc  (None, 64)               256       \n",
      " hNormalization)                                                 \n",
      "                                                                 \n",
      " dense_9 (Dense)             (None, 7)                 455       \n",
      "                                                                 \n",
      "=================================================================\n",
      "Total params: 289,671\n",
      "Trainable params: 285,543\n",
      "Non-trainable params: 4,128\n",
      "_________________________________________________________________\n"
     ]
    }
   ],
   "source": [
    "model.summary()"
   ]
  },
  {
   "cell_type": "markdown",
   "id": "b761554a",
   "metadata": {},
   "source": [
    "# Entrenamos el modelo"
   ]
  },
  {
   "cell_type": "code",
   "execution_count": 25,
   "id": "4316785f",
   "metadata": {
    "ExecuteTime": {
     "end_time": "2023-03-29T05:58:25.369779Z",
     "start_time": "2023-03-29T05:58:25.354829Z"
    }
   },
   "outputs": [],
   "source": [
    "model.compile(optimizer='adam',\n",
    "              loss='MSE',\n",
    "              metrics=['mae'])"
   ]
  },
  {
   "cell_type": "code",
   "execution_count": 26,
   "id": "d1303e8d",
   "metadata": {
    "ExecuteTime": {
     "end_time": "2023-03-29T05:58:25.660840Z",
     "start_time": "2023-03-29T05:58:25.644894Z"
    }
   },
   "outputs": [],
   "source": [
    "def scheduler(epoch, lr):\n",
    "  if epoch < 500:\n",
    "    return lr\n",
    "  else:\n",
    "    return 1e-3 * 0.99 ** epoch"
   ]
  },
  {
   "cell_type": "code",
   "execution_count": 27,
   "id": "88d710c6",
   "metadata": {
    "ExecuteTime": {
     "end_time": "2023-03-29T06:02:42.746871Z",
     "start_time": "2023-03-29T05:58:25.983200Z"
    }
   },
   "outputs": [
    {
     "name": "stdout",
     "output_type": "stream",
     "text": [
      "Epoch 1/10000\n",
      "70/70 [==============================] - 1s 8ms/step - loss: 28.5671 - accuracy: 0.2424 - val_loss: 27.9121 - val_accuracy: 0.3550 - lr: 0.0010\n",
      "Epoch 2/10000\n",
      "70/70 [==============================] - 0s 6ms/step - loss: 21.5841 - accuracy: 0.3046 - val_loss: 15.9418 - val_accuracy: 0.3680 - lr: 0.0010\n",
      "Epoch 3/10000\n",
      "70/70 [==============================] - 0s 6ms/step - loss: 12.0819 - accuracy: 0.3147 - val_loss: 7.6404 - val_accuracy: 0.3550 - lr: 0.0010\n",
      "Epoch 4/10000\n",
      "70/70 [==============================] - 0s 6ms/step - loss: 7.5048 - accuracy: 0.3190 - val_loss: 8.4668 - val_accuracy: 0.3240 - lr: 0.0010\n",
      "Epoch 5/10000\n",
      "70/70 [==============================] - 0s 6ms/step - loss: 6.7866 - accuracy: 0.3264 - val_loss: 6.2429 - val_accuracy: 0.3400 - lr: 0.0010\n",
      "Epoch 6/10000\n",
      "70/70 [==============================] - 0s 6ms/step - loss: 6.5736 - accuracy: 0.3250 - val_loss: 6.2735 - val_accuracy: 0.3330 - lr: 0.0010\n",
      "Epoch 7/10000\n",
      "70/70 [==============================] - 0s 6ms/step - loss: 6.4374 - accuracy: 0.3286 - val_loss: 5.9586 - val_accuracy: 0.3510 - lr: 0.0010\n",
      "Epoch 8/10000\n",
      "70/70 [==============================] - 0s 7ms/step - loss: 6.3399 - accuracy: 0.3334 - val_loss: 7.5060 - val_accuracy: 0.3010 - lr: 0.0010\n",
      "Epoch 9/10000\n",
      "70/70 [==============================] - 0s 6ms/step - loss: 6.2234 - accuracy: 0.3344 - val_loss: 5.9461 - val_accuracy: 0.3960 - lr: 0.0010\n",
      "Epoch 10/10000\n",
      "70/70 [==============================] - 0s 6ms/step - loss: 6.1051 - accuracy: 0.3404 - val_loss: 5.8279 - val_accuracy: 0.3620 - lr: 0.0010\n",
      "Epoch 11/10000\n",
      "70/70 [==============================] - 0s 6ms/step - loss: 6.0796 - accuracy: 0.3324 - val_loss: 5.6437 - val_accuracy: 0.3560 - lr: 0.0010\n",
      "Epoch 12/10000\n",
      "70/70 [==============================] - 0s 6ms/step - loss: 5.9719 - accuracy: 0.3434 - val_loss: 6.2891 - val_accuracy: 0.3500 - lr: 0.0010\n",
      "Epoch 13/10000\n",
      "70/70 [==============================] - 0s 6ms/step - loss: 5.8564 - accuracy: 0.3463 - val_loss: 6.5166 - val_accuracy: 0.3770 - lr: 0.0010\n",
      "Epoch 14/10000\n",
      "70/70 [==============================] - 0s 6ms/step - loss: 5.8305 - accuracy: 0.3496 - val_loss: 5.5287 - val_accuracy: 0.3880 - lr: 0.0010\n",
      "Epoch 15/10000\n",
      "70/70 [==============================] - 0s 6ms/step - loss: 5.6775 - accuracy: 0.3536 - val_loss: 5.5497 - val_accuracy: 0.3770 - lr: 0.0010\n",
      "Epoch 16/10000\n",
      "70/70 [==============================] - 0s 6ms/step - loss: 5.6058 - accuracy: 0.3610 - val_loss: 5.6148 - val_accuracy: 0.3960 - lr: 0.0010\n",
      "Epoch 17/10000\n",
      "70/70 [==============================] - 0s 6ms/step - loss: 5.5161 - accuracy: 0.3576 - val_loss: 5.1615 - val_accuracy: 0.3900 - lr: 0.0010\n",
      "Epoch 18/10000\n",
      "70/70 [==============================] - 0s 6ms/step - loss: 5.5188 - accuracy: 0.3683 - val_loss: 5.2896 - val_accuracy: 0.3870 - lr: 0.0010\n",
      "Epoch 19/10000\n",
      "70/70 [==============================] - 0s 6ms/step - loss: 5.3953 - accuracy: 0.3777 - val_loss: 5.2256 - val_accuracy: 0.4300 - lr: 0.0010\n",
      "Epoch 20/10000\n",
      "70/70 [==============================] - 0s 6ms/step - loss: 5.4416 - accuracy: 0.3780 - val_loss: 5.1269 - val_accuracy: 0.4110 - lr: 0.0010\n",
      "Epoch 21/10000\n",
      "70/70 [==============================] - 0s 6ms/step - loss: 5.2678 - accuracy: 0.3976 - val_loss: 5.0063 - val_accuracy: 0.4230 - lr: 0.0010\n",
      "Epoch 22/10000\n",
      "70/70 [==============================] - 0s 6ms/step - loss: 5.2880 - accuracy: 0.3906 - val_loss: 4.7551 - val_accuracy: 0.4180 - lr: 0.0010\n",
      "Epoch 23/10000\n",
      "70/70 [==============================] - 0s 6ms/step - loss: 5.1852 - accuracy: 0.4101 - val_loss: 4.7965 - val_accuracy: 0.3710 - lr: 0.0010\n",
      "Epoch 24/10000\n",
      "70/70 [==============================] - 0s 6ms/step - loss: 5.1768 - accuracy: 0.4076 - val_loss: 4.7833 - val_accuracy: 0.4230 - lr: 0.0010\n",
      "Epoch 25/10000\n",
      "70/70 [==============================] - 0s 7ms/step - loss: 5.1682 - accuracy: 0.4044 - val_loss: 4.8928 - val_accuracy: 0.4120 - lr: 0.0010\n",
      "Epoch 26/10000\n",
      "70/70 [==============================] - 0s 6ms/step - loss: 5.0904 - accuracy: 0.4176 - val_loss: 4.9408 - val_accuracy: 0.3960 - lr: 0.0010\n",
      "Epoch 27/10000\n",
      "70/70 [==============================] - 0s 6ms/step - loss: 5.0995 - accuracy: 0.4149 - val_loss: 4.6587 - val_accuracy: 0.4180 - lr: 0.0010\n",
      "Epoch 28/10000\n",
      "70/70 [==============================] - 0s 7ms/step - loss: 5.1450 - accuracy: 0.4137 - val_loss: 4.7981 - val_accuracy: 0.4240 - lr: 0.0010\n",
      "Epoch 29/10000\n",
      "70/70 [==============================] - 0s 6ms/step - loss: 5.0833 - accuracy: 0.4154 - val_loss: 4.6911 - val_accuracy: 0.4350 - lr: 0.0010\n",
      "Epoch 30/10000\n",
      "70/70 [==============================] - 0s 6ms/step - loss: 5.1169 - accuracy: 0.4163 - val_loss: 5.1321 - val_accuracy: 0.3910 - lr: 0.0010\n",
      "Epoch 31/10000\n",
      "70/70 [==============================] - 0s 6ms/step - loss: 5.1057 - accuracy: 0.4100 - val_loss: 4.7402 - val_accuracy: 0.4270 - lr: 0.0010\n",
      "Epoch 32/10000\n",
      "70/70 [==============================] - 0s 6ms/step - loss: 5.0602 - accuracy: 0.4186 - val_loss: 4.8277 - val_accuracy: 0.4070 - lr: 0.0010\n",
      "Epoch 33/10000\n",
      "70/70 [==============================] - 0s 6ms/step - loss: 5.1043 - accuracy: 0.4124 - val_loss: 4.6622 - val_accuracy: 0.4140 - lr: 0.0010\n",
      "Epoch 34/10000\n",
      "70/70 [==============================] - 0s 6ms/step - loss: 4.9898 - accuracy: 0.4229 - val_loss: 4.7862 - val_accuracy: 0.4130 - lr: 0.0010\n",
      "Epoch 35/10000\n",
      "70/70 [==============================] - 0s 6ms/step - loss: 4.9501 - accuracy: 0.4307 - val_loss: 4.5967 - val_accuracy: 0.4250 - lr: 0.0010\n",
      "Epoch 36/10000\n",
      "70/70 [==============================] - 0s 6ms/step - loss: 4.9429 - accuracy: 0.4380 - val_loss: 4.5696 - val_accuracy: 0.4260 - lr: 0.0010\n",
      "Epoch 37/10000\n",
      "70/70 [==============================] - 0s 6ms/step - loss: 4.9097 - accuracy: 0.4304 - val_loss: 4.8548 - val_accuracy: 0.3850 - lr: 0.0010\n",
      "Epoch 38/10000\n",
      "70/70 [==============================] - 0s 6ms/step - loss: 4.9726 - accuracy: 0.4251 - val_loss: 5.0248 - val_accuracy: 0.3810 - lr: 0.0010\n",
      "Epoch 39/10000\n",
      "70/70 [==============================] - 0s 6ms/step - loss: 4.9241 - accuracy: 0.4264 - val_loss: 4.7030 - val_accuracy: 0.4180 - lr: 0.0010\n",
      "Epoch 40/10000\n",
      "70/70 [==============================] - 0s 6ms/step - loss: 4.9133 - accuracy: 0.4339 - val_loss: 4.6297 - val_accuracy: 0.4010 - lr: 0.0010\n",
      "Epoch 41/10000\n",
      "70/70 [==============================] - 0s 6ms/step - loss: 4.8687 - accuracy: 0.4394 - val_loss: 4.6449 - val_accuracy: 0.4180 - lr: 0.0010\n",
      "Epoch 42/10000\n",
      "70/70 [==============================] - 0s 6ms/step - loss: 4.9411 - accuracy: 0.4306 - val_loss: 4.5214 - val_accuracy: 0.4890 - lr: 0.0010\n",
      "Epoch 43/10000\n",
      "70/70 [==============================] - 0s 6ms/step - loss: 4.8651 - accuracy: 0.4381 - val_loss: 4.5465 - val_accuracy: 0.4620 - lr: 0.0010\n",
      "Epoch 44/10000\n",
      "70/70 [==============================] - 0s 6ms/step - loss: 4.8463 - accuracy: 0.4374 - val_loss: 4.7405 - val_accuracy: 0.4430 - lr: 0.0010\n",
      "Epoch 45/10000\n",
      "70/70 [==============================] - 0s 6ms/step - loss: 4.8605 - accuracy: 0.4426 - val_loss: 4.4308 - val_accuracy: 0.4450 - lr: 0.0010\n",
      "Epoch 46/10000\n",
      "70/70 [==============================] - 0s 6ms/step - loss: 4.9223 - accuracy: 0.4314 - val_loss: 4.6358 - val_accuracy: 0.4310 - lr: 0.0010\n",
      "Epoch 47/10000\n",
      "70/70 [==============================] - 0s 6ms/step - loss: 4.8784 - accuracy: 0.4324 - val_loss: 4.6694 - val_accuracy: 0.4070 - lr: 0.0010\n",
      "Epoch 48/10000\n",
      "70/70 [==============================] - 0s 6ms/step - loss: 4.9246 - accuracy: 0.4326 - val_loss: 4.8058 - val_accuracy: 0.4100 - lr: 0.0010\n",
      "Epoch 49/10000\n",
      "70/70 [==============================] - 0s 6ms/step - loss: 4.8401 - accuracy: 0.4350 - val_loss: 4.5144 - val_accuracy: 0.4260 - lr: 0.0010\n",
      "Epoch 50/10000\n",
      "70/70 [==============================] - 0s 6ms/step - loss: 4.8028 - accuracy: 0.4413 - val_loss: 4.6853 - val_accuracy: 0.4240 - lr: 0.0010\n",
      "Epoch 51/10000\n",
      "70/70 [==============================] - 0s 6ms/step - loss: 4.8384 - accuracy: 0.4396 - val_loss: 4.8596 - val_accuracy: 0.4370 - lr: 0.0010\n",
      "Epoch 52/10000\n",
      "70/70 [==============================] - 0s 6ms/step - loss: 4.8458 - accuracy: 0.4436 - val_loss: 4.6070 - val_accuracy: 0.4260 - lr: 0.0010\n",
      "Epoch 53/10000\n",
      "70/70 [==============================] - 0s 6ms/step - loss: 4.7639 - accuracy: 0.4466 - val_loss: 4.6652 - val_accuracy: 0.4230 - lr: 0.0010\n",
      "Epoch 54/10000\n",
      "70/70 [==============================] - 0s 6ms/step - loss: 4.7799 - accuracy: 0.4410 - val_loss: 4.8125 - val_accuracy: 0.4080 - lr: 0.0010\n",
      "Epoch 55/10000\n",
      "70/70 [==============================] - 0s 6ms/step - loss: 4.7804 - accuracy: 0.4366 - val_loss: 4.6070 - val_accuracy: 0.4400 - lr: 0.0010\n",
      "Epoch 56/10000\n",
      "70/70 [==============================] - 0s 6ms/step - loss: 4.7610 - accuracy: 0.4416 - val_loss: 4.4393 - val_accuracy: 0.4270 - lr: 0.0010\n",
      "Epoch 57/10000\n",
      "70/70 [==============================] - 0s 6ms/step - loss: 4.7928 - accuracy: 0.4444 - val_loss: 4.3634 - val_accuracy: 0.4410 - lr: 0.0010\n",
      "Epoch 58/10000\n",
      "70/70 [==============================] - 0s 6ms/step - loss: 4.7912 - accuracy: 0.4487 - val_loss: 4.5193 - val_accuracy: 0.4570 - lr: 0.0010\n",
      "Epoch 59/10000\n",
      "70/70 [==============================] - 0s 6ms/step - loss: 4.7707 - accuracy: 0.4437 - val_loss: 4.3754 - val_accuracy: 0.4410 - lr: 0.0010\n",
      "Epoch 60/10000\n",
      "70/70 [==============================] - 0s 7ms/step - loss: 4.7383 - accuracy: 0.4437 - val_loss: 4.6201 - val_accuracy: 0.4280 - lr: 0.0010\n",
      "Epoch 61/10000\n",
      "70/70 [==============================] - 0s 6ms/step - loss: 4.7321 - accuracy: 0.4467 - val_loss: 4.6476 - val_accuracy: 0.4540 - lr: 0.0010\n",
      "Epoch 62/10000\n",
      "70/70 [==============================] - 0s 6ms/step - loss: 4.7435 - accuracy: 0.4434 - val_loss: 4.4605 - val_accuracy: 0.4400 - lr: 0.0010\n",
      "Epoch 63/10000\n",
      "70/70 [==============================] - 0s 6ms/step - loss: 4.7359 - accuracy: 0.4423 - val_loss: 4.3263 - val_accuracy: 0.4590 - lr: 0.0010\n",
      "Epoch 64/10000\n",
      "70/70 [==============================] - 0s 6ms/step - loss: 4.7272 - accuracy: 0.4581 - val_loss: 4.6509 - val_accuracy: 0.4210 - lr: 0.0010\n",
      "Epoch 65/10000\n",
      "70/70 [==============================] - 0s 7ms/step - loss: 4.7098 - accuracy: 0.4449 - val_loss: 4.4872 - val_accuracy: 0.4570 - lr: 0.0010\n",
      "Epoch 66/10000\n",
      "70/70 [==============================] - 0s 6ms/step - loss: 4.7029 - accuracy: 0.4547 - val_loss: 4.5473 - val_accuracy: 0.4240 - lr: 0.0010\n",
      "Epoch 67/10000\n",
      "70/70 [==============================] - 0s 7ms/step - loss: 4.6772 - accuracy: 0.4510 - val_loss: 4.5500 - val_accuracy: 0.4450 - lr: 0.0010\n",
      "Epoch 68/10000\n",
      "70/70 [==============================] - 0s 6ms/step - loss: 4.6759 - accuracy: 0.4519 - val_loss: 4.6747 - val_accuracy: 0.4290 - lr: 0.0010\n",
      "Epoch 69/10000\n",
      "70/70 [==============================] - 0s 6ms/step - loss: 4.6943 - accuracy: 0.4500 - val_loss: 4.5608 - val_accuracy: 0.4330 - lr: 0.0010\n",
      "Epoch 70/10000\n",
      "70/70 [==============================] - 0s 6ms/step - loss: 4.6872 - accuracy: 0.4511 - val_loss: 4.6378 - val_accuracy: 0.4180 - lr: 0.0010\n",
      "Epoch 71/10000\n",
      "70/70 [==============================] - 0s 6ms/step - loss: 4.6779 - accuracy: 0.4607 - val_loss: 4.3505 - val_accuracy: 0.4450 - lr: 0.0010\n",
      "Epoch 72/10000\n",
      "70/70 [==============================] - 0s 6ms/step - loss: 4.6973 - accuracy: 0.4513 - val_loss: 4.4469 - val_accuracy: 0.4510 - lr: 0.0010\n",
      "Epoch 73/10000\n",
      "70/70 [==============================] - 0s 6ms/step - loss: 4.7041 - accuracy: 0.4499 - val_loss: 4.3773 - val_accuracy: 0.4470 - lr: 0.0010\n",
      "Epoch 74/10000\n",
      "70/70 [==============================] - 0s 6ms/step - loss: 4.6838 - accuracy: 0.4541 - val_loss: 4.4360 - val_accuracy: 0.4800 - lr: 0.0010\n",
      "Epoch 75/10000\n",
      "70/70 [==============================] - 0s 6ms/step - loss: 4.6489 - accuracy: 0.4573 - val_loss: 4.5968 - val_accuracy: 0.4310 - lr: 0.0010\n",
      "Epoch 76/10000\n",
      "70/70 [==============================] - 0s 7ms/step - loss: 4.7795 - accuracy: 0.4393 - val_loss: 4.9765 - val_accuracy: 0.4750 - lr: 0.0010\n",
      "Epoch 77/10000\n",
      "70/70 [==============================] - 0s 6ms/step - loss: 4.7306 - accuracy: 0.4521 - val_loss: 4.4632 - val_accuracy: 0.4600 - lr: 0.0010\n",
      "Epoch 78/10000\n",
      "70/70 [==============================] - 0s 6ms/step - loss: 4.7267 - accuracy: 0.4443 - val_loss: 4.4212 - val_accuracy: 0.4470 - lr: 0.0010\n",
      "Epoch 79/10000\n",
      "70/70 [==============================] - 0s 6ms/step - loss: 4.6885 - accuracy: 0.4514 - val_loss: 4.7110 - val_accuracy: 0.4410 - lr: 0.0010\n",
      "Epoch 80/10000\n",
      "70/70 [==============================] - 0s 6ms/step - loss: 4.6673 - accuracy: 0.4550 - val_loss: 4.4753 - val_accuracy: 0.4430 - lr: 0.0010\n",
      "Epoch 81/10000\n",
      "70/70 [==============================] - 0s 6ms/step - loss: 4.6107 - accuracy: 0.4619 - val_loss: 4.4322 - val_accuracy: 0.4580 - lr: 0.0010\n",
      "Epoch 82/10000\n",
      "70/70 [==============================] - 0s 6ms/step - loss: 4.6847 - accuracy: 0.4516 - val_loss: 4.4279 - val_accuracy: 0.4630 - lr: 0.0010\n",
      "Epoch 83/10000\n",
      "70/70 [==============================] - 0s 6ms/step - loss: 4.6323 - accuracy: 0.4517 - val_loss: 4.3869 - val_accuracy: 0.4580 - lr: 0.0010\n",
      "Epoch 84/10000\n",
      "70/70 [==============================] - 0s 6ms/step - loss: 4.5922 - accuracy: 0.4549 - val_loss: 4.4654 - val_accuracy: 0.4320 - lr: 0.0010\n",
      "Epoch 85/10000\n",
      "70/70 [==============================] - 0s 6ms/step - loss: 4.5652 - accuracy: 0.4680 - val_loss: 4.4460 - val_accuracy: 0.4640 - lr: 0.0010\n",
      "Epoch 86/10000\n",
      "70/70 [==============================] - 0s 6ms/step - loss: 4.6291 - accuracy: 0.4650 - val_loss: 4.5001 - val_accuracy: 0.4610 - lr: 0.0010\n",
      "Epoch 87/10000\n",
      "70/70 [==============================] - 0s 6ms/step - loss: 4.6267 - accuracy: 0.4576 - val_loss: 4.4336 - val_accuracy: 0.4300 - lr: 0.0010\n",
      "Epoch 88/10000\n",
      "70/70 [==============================] - 0s 7ms/step - loss: 4.6039 - accuracy: 0.4636 - val_loss: 4.5100 - val_accuracy: 0.4580 - lr: 0.0010\n",
      "Epoch 89/10000\n",
      "70/70 [==============================] - 0s 6ms/step - loss: 4.6002 - accuracy: 0.4666 - val_loss: 4.4200 - val_accuracy: 0.4750 - lr: 0.0010\n",
      "Epoch 90/10000\n",
      "70/70 [==============================] - 0s 7ms/step - loss: 4.5780 - accuracy: 0.4641 - val_loss: 4.4468 - val_accuracy: 0.4800 - lr: 0.0010\n",
      "Epoch 91/10000\n",
      "70/70 [==============================] - 0s 6ms/step - loss: 4.5817 - accuracy: 0.4600 - val_loss: 4.3679 - val_accuracy: 0.4810 - lr: 0.0010\n",
      "Epoch 92/10000\n",
      "70/70 [==============================] - 0s 6ms/step - loss: 4.5798 - accuracy: 0.4589 - val_loss: 4.4724 - val_accuracy: 0.4570 - lr: 0.0010\n",
      "Epoch 93/10000\n",
      "70/70 [==============================] - 0s 6ms/step - loss: 4.5372 - accuracy: 0.4681 - val_loss: 4.3729 - val_accuracy: 0.4780 - lr: 0.0010\n",
      "Epoch 94/10000\n",
      "70/70 [==============================] - 0s 6ms/step - loss: 4.5571 - accuracy: 0.4583 - val_loss: 4.3958 - val_accuracy: 0.4480 - lr: 0.0010\n",
      "Epoch 95/10000\n",
      "70/70 [==============================] - 0s 6ms/step - loss: 4.5497 - accuracy: 0.4587 - val_loss: 4.4081 - val_accuracy: 0.4670 - lr: 0.0010\n",
      "Epoch 96/10000\n",
      "70/70 [==============================] - 0s 6ms/step - loss: 4.5239 - accuracy: 0.4684 - val_loss: 4.4060 - val_accuracy: 0.4740 - lr: 0.0010\n",
      "Epoch 97/10000\n",
      "70/70 [==============================] - 0s 6ms/step - loss: 4.5790 - accuracy: 0.4640 - val_loss: 4.3702 - val_accuracy: 0.4350 - lr: 0.0010\n",
      "Epoch 98/10000\n",
      "70/70 [==============================] - 0s 6ms/step - loss: 4.5452 - accuracy: 0.4634 - val_loss: 4.3839 - val_accuracy: 0.4670 - lr: 0.0010\n",
      "Epoch 99/10000\n",
      "70/70 [==============================] - 0s 6ms/step - loss: 4.5939 - accuracy: 0.4571 - val_loss: 4.4347 - val_accuracy: 0.4770 - lr: 0.0010\n",
      "Epoch 100/10000\n",
      "70/70 [==============================] - 0s 6ms/step - loss: 4.4677 - accuracy: 0.4741 - val_loss: 4.4168 - val_accuracy: 0.4450 - lr: 0.0010\n",
      "Epoch 101/10000\n",
      "70/70 [==============================] - 0s 6ms/step - loss: 4.5352 - accuracy: 0.4641 - val_loss: 4.4371 - val_accuracy: 0.4610 - lr: 0.0010\n",
      "Epoch 102/10000\n",
      "70/70 [==============================] - 0s 6ms/step - loss: 4.5386 - accuracy: 0.4613 - val_loss: 4.4189 - val_accuracy: 0.4610 - lr: 0.0010\n",
      "Epoch 103/10000\n",
      "70/70 [==============================] - 0s 6ms/step - loss: 4.5023 - accuracy: 0.4691 - val_loss: 4.5030 - val_accuracy: 0.4580 - lr: 0.0010\n",
      "Epoch 104/10000\n",
      "70/70 [==============================] - 0s 6ms/step - loss: 4.5016 - accuracy: 0.4744 - val_loss: 4.3736 - val_accuracy: 0.4620 - lr: 0.0010\n",
      "Epoch 105/10000\n"
     ]
    },
    {
     "name": "stdout",
     "output_type": "stream",
     "text": [
      "70/70 [==============================] - 0s 6ms/step - loss: 4.5235 - accuracy: 0.4691 - val_loss: 4.4183 - val_accuracy: 0.4730 - lr: 0.0010\n",
      "Epoch 106/10000\n",
      "70/70 [==============================] - 0s 6ms/step - loss: 4.5118 - accuracy: 0.4654 - val_loss: 4.3801 - val_accuracy: 0.4920 - lr: 0.0010\n",
      "Epoch 107/10000\n",
      "70/70 [==============================] - 0s 6ms/step - loss: 4.4894 - accuracy: 0.4743 - val_loss: 4.3278 - val_accuracy: 0.4850 - lr: 0.0010\n",
      "Epoch 108/10000\n",
      "70/70 [==============================] - 0s 6ms/step - loss: 4.4902 - accuracy: 0.4709 - val_loss: 4.5363 - val_accuracy: 0.4560 - lr: 0.0010\n",
      "Epoch 109/10000\n",
      "70/70 [==============================] - 0s 6ms/step - loss: 4.5011 - accuracy: 0.4684 - val_loss: 4.3622 - val_accuracy: 0.4790 - lr: 0.0010\n",
      "Epoch 110/10000\n",
      "70/70 [==============================] - 0s 6ms/step - loss: 4.4652 - accuracy: 0.4724 - val_loss: 4.4480 - val_accuracy: 0.4860 - lr: 0.0010\n",
      "Epoch 111/10000\n",
      "70/70 [==============================] - 0s 6ms/step - loss: 4.4647 - accuracy: 0.4690 - val_loss: 4.3938 - val_accuracy: 0.4620 - lr: 0.0010\n",
      "Epoch 112/10000\n",
      "70/70 [==============================] - 0s 6ms/step - loss: 4.4559 - accuracy: 0.4724 - val_loss: 4.3675 - val_accuracy: 0.4570 - lr: 0.0010\n",
      "Epoch 113/10000\n",
      "70/70 [==============================] - 0s 6ms/step - loss: 4.4674 - accuracy: 0.4693 - val_loss: 4.4071 - val_accuracy: 0.4700 - lr: 0.0010\n",
      "Epoch 114/10000\n",
      "70/70 [==============================] - 0s 6ms/step - loss: 4.4362 - accuracy: 0.4710 - val_loss: 4.3878 - val_accuracy: 0.4510 - lr: 0.0010\n",
      "Epoch 115/10000\n",
      "70/70 [==============================] - 0s 6ms/step - loss: 4.4221 - accuracy: 0.4729 - val_loss: 4.4696 - val_accuracy: 0.4610 - lr: 0.0010\n",
      "Epoch 116/10000\n",
      "70/70 [==============================] - 0s 6ms/step - loss: 4.4308 - accuracy: 0.4697 - val_loss: 4.5200 - val_accuracy: 0.4820 - lr: 0.0010\n",
      "Epoch 117/10000\n",
      "70/70 [==============================] - 0s 6ms/step - loss: 4.4729 - accuracy: 0.4749 - val_loss: 4.3964 - val_accuracy: 0.4800 - lr: 0.0010\n",
      "Epoch 118/10000\n",
      "70/70 [==============================] - 0s 7ms/step - loss: 4.4104 - accuracy: 0.4794 - val_loss: 4.4227 - val_accuracy: 0.4590 - lr: 0.0010\n",
      "Epoch 119/10000\n",
      "70/70 [==============================] - 0s 7ms/step - loss: 4.4448 - accuracy: 0.4734 - val_loss: 4.4355 - val_accuracy: 0.4790 - lr: 0.0010\n",
      "Epoch 120/10000\n",
      "70/70 [==============================] - 0s 7ms/step - loss: 4.4059 - accuracy: 0.4753 - val_loss: 4.3659 - val_accuracy: 0.4910 - lr: 0.0010\n",
      "Epoch 121/10000\n",
      "70/70 [==============================] - 0s 7ms/step - loss: 4.4131 - accuracy: 0.4733 - val_loss: 4.4978 - val_accuracy: 0.4780 - lr: 0.0010\n",
      "Epoch 122/10000\n",
      "70/70 [==============================] - 0s 6ms/step - loss: 4.3945 - accuracy: 0.4754 - val_loss: 4.3986 - val_accuracy: 0.4820 - lr: 0.0010\n",
      "Epoch 123/10000\n",
      "70/70 [==============================] - 0s 6ms/step - loss: 4.3829 - accuracy: 0.4801 - val_loss: 4.3948 - val_accuracy: 0.4730 - lr: 0.0010\n",
      "Epoch 124/10000\n",
      "70/70 [==============================] - 0s 6ms/step - loss: 4.3690 - accuracy: 0.4803 - val_loss: 4.4851 - val_accuracy: 0.4460 - lr: 0.0010\n",
      "Epoch 125/10000\n",
      "70/70 [==============================] - 0s 6ms/step - loss: 4.4276 - accuracy: 0.4699 - val_loss: 4.4619 - val_accuracy: 0.4780 - lr: 0.0010\n",
      "Epoch 126/10000\n",
      "70/70 [==============================] - 0s 6ms/step - loss: 4.3895 - accuracy: 0.4740 - val_loss: 4.4374 - val_accuracy: 0.4810 - lr: 0.0010\n",
      "Epoch 127/10000\n",
      "70/70 [==============================] - 1s 7ms/step - loss: 4.3822 - accuracy: 0.4767 - val_loss: 4.3657 - val_accuracy: 0.4720 - lr: 0.0010\n",
      "Epoch 128/10000\n",
      "70/70 [==============================] - 0s 6ms/step - loss: 4.3323 - accuracy: 0.4793 - val_loss: 4.4451 - val_accuracy: 0.4910 - lr: 0.0010\n",
      "Epoch 129/10000\n",
      "70/70 [==============================] - 0s 6ms/step - loss: 4.3258 - accuracy: 0.4803 - val_loss: 4.4079 - val_accuracy: 0.4760 - lr: 0.0010\n",
      "Epoch 130/10000\n",
      "70/70 [==============================] - 0s 6ms/step - loss: 4.2916 - accuracy: 0.4790 - val_loss: 4.4156 - val_accuracy: 0.4750 - lr: 0.0010\n",
      "Epoch 131/10000\n",
      "70/70 [==============================] - 0s 6ms/step - loss: 4.3525 - accuracy: 0.4794 - val_loss: 4.4509 - val_accuracy: 0.4840 - lr: 0.0010\n",
      "Epoch 132/10000\n",
      "70/70 [==============================] - 0s 6ms/step - loss: 4.3376 - accuracy: 0.4779 - val_loss: 4.4468 - val_accuracy: 0.4730 - lr: 0.0010\n",
      "Epoch 133/10000\n",
      "70/70 [==============================] - 0s 6ms/step - loss: 4.3105 - accuracy: 0.4893 - val_loss: 4.4791 - val_accuracy: 0.4650 - lr: 0.0010\n",
      "Epoch 134/10000\n",
      "70/70 [==============================] - 0s 6ms/step - loss: 4.3220 - accuracy: 0.4846 - val_loss: 4.4752 - val_accuracy: 0.4450 - lr: 0.0010\n",
      "Epoch 135/10000\n",
      "70/70 [==============================] - 0s 6ms/step - loss: 4.3547 - accuracy: 0.4826 - val_loss: 5.2867 - val_accuracy: 0.4620 - lr: 0.0010\n",
      "Epoch 136/10000\n",
      "70/70 [==============================] - 0s 6ms/step - loss: 4.4018 - accuracy: 0.4769 - val_loss: 4.4061 - val_accuracy: 0.4650 - lr: 0.0010\n",
      "Epoch 137/10000\n",
      "70/70 [==============================] - 0s 6ms/step - loss: 4.3596 - accuracy: 0.4824 - val_loss: 4.5148 - val_accuracy: 0.4840 - lr: 0.0010\n",
      "Epoch 138/10000\n",
      "70/70 [==============================] - 0s 6ms/step - loss: 4.3217 - accuracy: 0.4831 - val_loss: 4.4351 - val_accuracy: 0.4790 - lr: 0.0010\n",
      "Epoch 139/10000\n",
      "70/70 [==============================] - 0s 6ms/step - loss: 4.2862 - accuracy: 0.4887 - val_loss: 4.4587 - val_accuracy: 0.4810 - lr: 0.0010\n",
      "Epoch 140/10000\n",
      "70/70 [==============================] - 0s 6ms/step - loss: 4.2731 - accuracy: 0.4857 - val_loss: 4.5222 - val_accuracy: 0.4770 - lr: 0.0010\n",
      "Epoch 141/10000\n",
      "70/70 [==============================] - 0s 6ms/step - loss: 4.2536 - accuracy: 0.4829 - val_loss: 4.4612 - val_accuracy: 0.4840 - lr: 0.0010\n",
      "Epoch 142/10000\n",
      "70/70 [==============================] - 0s 6ms/step - loss: 4.2685 - accuracy: 0.4841 - val_loss: 4.4230 - val_accuracy: 0.4650 - lr: 0.0010\n",
      "Epoch 143/10000\n",
      "70/70 [==============================] - 0s 6ms/step - loss: 4.2511 - accuracy: 0.4826 - val_loss: 4.4839 - val_accuracy: 0.4700 - lr: 0.0010\n",
      "Epoch 144/10000\n",
      "70/70 [==============================] - 0s 6ms/step - loss: 4.2579 - accuracy: 0.4833 - val_loss: 4.4304 - val_accuracy: 0.4810 - lr: 0.0010\n",
      "Epoch 145/10000\n",
      "70/70 [==============================] - 0s 6ms/step - loss: 4.2387 - accuracy: 0.4896 - val_loss: 4.4460 - val_accuracy: 0.4750 - lr: 0.0010\n",
      "Epoch 146/10000\n",
      "70/70 [==============================] - 0s 6ms/step - loss: 4.2488 - accuracy: 0.4891 - val_loss: 4.4810 - val_accuracy: 0.4800 - lr: 0.0010\n",
      "Epoch 147/10000\n",
      "70/70 [==============================] - 0s 7ms/step - loss: 4.2279 - accuracy: 0.4886 - val_loss: 4.5493 - val_accuracy: 0.4710 - lr: 0.0010\n",
      "Epoch 148/10000\n",
      "70/70 [==============================] - 0s 6ms/step - loss: 4.2219 - accuracy: 0.4914 - val_loss: 4.4502 - val_accuracy: 0.4810 - lr: 0.0010\n",
      "Epoch 149/10000\n",
      "70/70 [==============================] - 0s 6ms/step - loss: 4.2354 - accuracy: 0.4861 - val_loss: 4.5009 - val_accuracy: 0.4490 - lr: 0.0010\n",
      "Epoch 150/10000\n",
      "70/70 [==============================] - 0s 6ms/step - loss: 4.2163 - accuracy: 0.4830 - val_loss: 4.4961 - val_accuracy: 0.4690 - lr: 0.0010\n",
      "Epoch 151/10000\n",
      "70/70 [==============================] - 0s 6ms/step - loss: 4.2415 - accuracy: 0.4850 - val_loss: 4.4492 - val_accuracy: 0.4840 - lr: 0.0010\n",
      "Epoch 152/10000\n",
      "70/70 [==============================] - 0s 6ms/step - loss: 4.2351 - accuracy: 0.4873 - val_loss: 4.4866 - val_accuracy: 0.4700 - lr: 0.0010\n",
      "Epoch 153/10000\n",
      "70/70 [==============================] - 0s 6ms/step - loss: 4.1759 - accuracy: 0.4977 - val_loss: 4.4973 - val_accuracy: 0.4820 - lr: 0.0010\n",
      "Epoch 154/10000\n",
      "70/70 [==============================] - 0s 6ms/step - loss: 4.2141 - accuracy: 0.4951 - val_loss: 4.5541 - val_accuracy: 0.4600 - lr: 0.0010\n",
      "Epoch 155/10000\n",
      "70/70 [==============================] - 0s 6ms/step - loss: 4.1703 - accuracy: 0.4913 - val_loss: 4.4729 - val_accuracy: 0.4800 - lr: 0.0010\n",
      "Epoch 156/10000\n",
      "70/70 [==============================] - 0s 6ms/step - loss: 4.1578 - accuracy: 0.5023 - val_loss: 4.5261 - val_accuracy: 0.4870 - lr: 0.0010\n"
     ]
    },
    {
     "name": "stdout",
     "output_type": "stream",
     "text": [
      "Epoch 157/10000\n",
      "70/70 [==============================] - 0s 6ms/step - loss: 4.1515 - accuracy: 0.4927 - val_loss: 4.5128 - val_accuracy: 0.4920 - lr: 0.0010\n",
      "Epoch 158/10000\n",
      "70/70 [==============================] - 0s 6ms/step - loss: 4.1432 - accuracy: 0.4994 - val_loss: 4.4886 - val_accuracy: 0.4670 - lr: 0.0010\n",
      "Epoch 159/10000\n",
      "70/70 [==============================] - 0s 6ms/step - loss: 4.1296 - accuracy: 0.4974 - val_loss: 4.5053 - val_accuracy: 0.4860 - lr: 0.0010\n",
      "Epoch 160/10000\n",
      "70/70 [==============================] - 0s 6ms/step - loss: 4.1197 - accuracy: 0.5033 - val_loss: 4.4716 - val_accuracy: 0.4730 - lr: 0.0010\n",
      "Epoch 161/10000\n",
      "70/70 [==============================] - 0s 6ms/step - loss: 4.1157 - accuracy: 0.4906 - val_loss: 4.4351 - val_accuracy: 0.4800 - lr: 0.0010\n",
      "Epoch 162/10000\n",
      "70/70 [==============================] - 0s 6ms/step - loss: 4.1518 - accuracy: 0.4957 - val_loss: 4.5802 - val_accuracy: 0.4740 - lr: 0.0010\n",
      "Epoch 163/10000\n",
      "70/70 [==============================] - 0s 6ms/step - loss: 4.1449 - accuracy: 0.4991 - val_loss: 4.4902 - val_accuracy: 0.4730 - lr: 0.0010\n",
      "Epoch 164/10000\n",
      "70/70 [==============================] - 0s 6ms/step - loss: 4.1164 - accuracy: 0.4961 - val_loss: 4.4887 - val_accuracy: 0.4780 - lr: 0.0010\n",
      "Epoch 165/10000\n",
      "70/70 [==============================] - 0s 6ms/step - loss: 4.1524 - accuracy: 0.4910 - val_loss: 4.5408 - val_accuracy: 0.4990 - lr: 0.0010\n",
      "Epoch 166/10000\n",
      "70/70 [==============================] - 0s 6ms/step - loss: 4.1025 - accuracy: 0.5023 - val_loss: 4.5285 - val_accuracy: 0.4820 - lr: 0.0010\n",
      "Epoch 167/10000\n",
      "70/70 [==============================] - 0s 6ms/step - loss: 4.1065 - accuracy: 0.4964 - val_loss: 4.5084 - val_accuracy: 0.4650 - lr: 0.0010\n",
      "Epoch 168/10000\n",
      "70/70 [==============================] - 0s 6ms/step - loss: 4.0902 - accuracy: 0.5049 - val_loss: 4.5377 - val_accuracy: 0.4830 - lr: 0.0010\n",
      "Epoch 169/10000\n",
      "70/70 [==============================] - 0s 6ms/step - loss: 4.1337 - accuracy: 0.5011 - val_loss: 4.5535 - val_accuracy: 0.4610 - lr: 0.0010\n",
      "Epoch 170/10000\n",
      "70/70 [==============================] - 0s 6ms/step - loss: 4.0946 - accuracy: 0.5033 - val_loss: 4.5084 - val_accuracy: 0.4490 - lr: 0.0010\n",
      "Epoch 171/10000\n",
      "70/70 [==============================] - 0s 6ms/step - loss: 4.1076 - accuracy: 0.4950 - val_loss: 4.4992 - val_accuracy: 0.4570 - lr: 0.0010\n",
      "Epoch 172/10000\n",
      "70/70 [==============================] - 0s 6ms/step - loss: 4.1013 - accuracy: 0.5013 - val_loss: 4.5642 - val_accuracy: 0.4760 - lr: 0.0010\n",
      "Epoch 173/10000\n",
      "70/70 [==============================] - 0s 6ms/step - loss: 4.0860 - accuracy: 0.5031 - val_loss: 4.5242 - val_accuracy: 0.4820 - lr: 0.0010\n",
      "Epoch 174/10000\n",
      "70/70 [==============================] - 0s 6ms/step - loss: 4.0694 - accuracy: 0.5046 - val_loss: 4.6122 - val_accuracy: 0.4740 - lr: 0.0010\n",
      "Epoch 175/10000\n",
      "70/70 [==============================] - 0s 6ms/step - loss: 4.0475 - accuracy: 0.5031 - val_loss: 4.6033 - val_accuracy: 0.4920 - lr: 0.0010\n",
      "Epoch 176/10000\n",
      "70/70 [==============================] - 0s 6ms/step - loss: 4.0698 - accuracy: 0.5090 - val_loss: 4.5568 - val_accuracy: 0.4610 - lr: 0.0010\n",
      "Epoch 177/10000\n",
      "70/70 [==============================] - 0s 6ms/step - loss: 4.0014 - accuracy: 0.5083 - val_loss: 4.5668 - val_accuracy: 0.4720 - lr: 0.0010\n",
      "Epoch 178/10000\n",
      "70/70 [==============================] - 0s 6ms/step - loss: 4.0125 - accuracy: 0.5081 - val_loss: 4.6187 - val_accuracy: 0.4910 - lr: 0.0010\n",
      "Epoch 179/10000\n",
      "70/70 [==============================] - 0s 6ms/step - loss: 4.0254 - accuracy: 0.5006 - val_loss: 4.5936 - val_accuracy: 0.4830 - lr: 0.0010\n",
      "Epoch 180/10000\n",
      "70/70 [==============================] - 0s 6ms/step - loss: 4.0206 - accuracy: 0.5014 - val_loss: 4.5659 - val_accuracy: 0.4720 - lr: 0.0010\n",
      "Epoch 181/10000\n",
      "70/70 [==============================] - 0s 6ms/step - loss: 4.0205 - accuracy: 0.5037 - val_loss: 4.6089 - val_accuracy: 0.4660 - lr: 0.0010\n",
      "Epoch 182/10000\n",
      "70/70 [==============================] - 0s 6ms/step - loss: 4.0829 - accuracy: 0.4993 - val_loss: 4.6338 - val_accuracy: 0.4890 - lr: 0.0010\n",
      "Epoch 183/10000\n",
      "70/70 [==============================] - 0s 6ms/step - loss: 4.0618 - accuracy: 0.5014 - val_loss: 4.5601 - val_accuracy: 0.4600 - lr: 0.0010\n",
      "Epoch 184/10000\n",
      "70/70 [==============================] - 0s 6ms/step - loss: 4.0186 - accuracy: 0.5074 - val_loss: 4.6300 - val_accuracy: 0.4840 - lr: 0.0010\n",
      "Epoch 185/10000\n",
      "70/70 [==============================] - 0s 6ms/step - loss: 3.9663 - accuracy: 0.5080 - val_loss: 4.7173 - val_accuracy: 0.4760 - lr: 0.0010\n",
      "Epoch 186/10000\n",
      "70/70 [==============================] - 0s 6ms/step - loss: 4.0079 - accuracy: 0.5050 - val_loss: 4.7304 - val_accuracy: 0.4660 - lr: 0.0010\n",
      "Epoch 187/10000\n",
      "70/70 [==============================] - 0s 6ms/step - loss: 3.9203 - accuracy: 0.5209 - val_loss: 4.6993 - val_accuracy: 0.4790 - lr: 0.0010\n",
      "Epoch 188/10000\n",
      "70/70 [==============================] - 0s 6ms/step - loss: 3.9951 - accuracy: 0.5144 - val_loss: 4.7138 - val_accuracy: 0.4820 - lr: 0.0010\n",
      "Epoch 189/10000\n",
      "70/70 [==============================] - 0s 6ms/step - loss: 4.0052 - accuracy: 0.4999 - val_loss: 4.6852 - val_accuracy: 0.4590 - lr: 0.0010\n",
      "Epoch 190/10000\n",
      "70/70 [==============================] - 0s 6ms/step - loss: 3.9272 - accuracy: 0.5159 - val_loss: 4.6807 - val_accuracy: 0.4620 - lr: 0.0010\n",
      "Epoch 191/10000\n",
      "70/70 [==============================] - 0s 6ms/step - loss: 3.9844 - accuracy: 0.5111 - val_loss: 4.7730 - val_accuracy: 0.4530 - lr: 0.0010\n",
      "Epoch 192/10000\n",
      "70/70 [==============================] - 0s 6ms/step - loss: 3.9714 - accuracy: 0.5060 - val_loss: 4.6814 - val_accuracy: 0.4640 - lr: 0.0010\n",
      "Epoch 193/10000\n",
      "70/70 [==============================] - 0s 6ms/step - loss: 3.9677 - accuracy: 0.5097 - val_loss: 4.6218 - val_accuracy: 0.4740 - lr: 0.0010\n",
      "Epoch 194/10000\n",
      "70/70 [==============================] - 0s 6ms/step - loss: 3.9294 - accuracy: 0.5071 - val_loss: 4.6704 - val_accuracy: 0.4640 - lr: 0.0010\n",
      "Epoch 195/10000\n",
      "70/70 [==============================] - 0s 6ms/step - loss: 3.9014 - accuracy: 0.5127 - val_loss: 4.6848 - val_accuracy: 0.4860 - lr: 0.0010\n",
      "Epoch 196/10000\n",
      "70/70 [==============================] - 0s 6ms/step - loss: 3.9010 - accuracy: 0.5094 - val_loss: 4.6907 - val_accuracy: 0.4720 - lr: 0.0010\n",
      "Epoch 197/10000\n",
      "70/70 [==============================] - 0s 6ms/step - loss: 3.9014 - accuracy: 0.5096 - val_loss: 4.6860 - val_accuracy: 0.4790 - lr: 0.0010\n",
      "Epoch 198/10000\n",
      "70/70 [==============================] - 0s 6ms/step - loss: 3.9691 - accuracy: 0.5023 - val_loss: 4.7398 - val_accuracy: 0.4610 - lr: 0.0010\n",
      "Epoch 199/10000\n",
      "70/70 [==============================] - 0s 6ms/step - loss: 3.9285 - accuracy: 0.5139 - val_loss: 4.7734 - val_accuracy: 0.4820 - lr: 0.0010\n",
      "Epoch 200/10000\n",
      "70/70 [==============================] - 0s 6ms/step - loss: 3.9216 - accuracy: 0.5094 - val_loss: 4.7180 - val_accuracy: 0.4570 - lr: 0.0010\n",
      "Epoch 201/10000\n",
      "70/70 [==============================] - 0s 6ms/step - loss: 3.8512 - accuracy: 0.5140 - val_loss: 4.6602 - val_accuracy: 0.4770 - lr: 0.0010\n",
      "Epoch 202/10000\n",
      "70/70 [==============================] - 0s 6ms/step - loss: 3.8650 - accuracy: 0.5104 - val_loss: 4.6892 - val_accuracy: 0.4820 - lr: 0.0010\n",
      "Epoch 203/10000\n",
      "70/70 [==============================] - 0s 6ms/step - loss: 3.8844 - accuracy: 0.5124 - val_loss: 4.6502 - val_accuracy: 0.4710 - lr: 0.0010\n",
      "Epoch 204/10000\n",
      "70/70 [==============================] - 0s 6ms/step - loss: 3.8764 - accuracy: 0.5131 - val_loss: 4.8094 - val_accuracy: 0.4520 - lr: 0.0010\n",
      "Epoch 205/10000\n",
      "70/70 [==============================] - 0s 6ms/step - loss: 3.8700 - accuracy: 0.5157 - val_loss: 4.7125 - val_accuracy: 0.4600 - lr: 0.0010\n",
      "Epoch 206/10000\n",
      "70/70 [==============================] - 0s 6ms/step - loss: 3.8519 - accuracy: 0.5171 - val_loss: 4.6623 - val_accuracy: 0.4810 - lr: 0.0010\n",
      "Epoch 207/10000\n",
      "70/70 [==============================] - 0s 6ms/step - loss: 3.8434 - accuracy: 0.5171 - val_loss: 4.7129 - val_accuracy: 0.4610 - lr: 0.0010\n",
      "Epoch 208/10000\n",
      "70/70 [==============================] - 0s 6ms/step - loss: 3.8656 - accuracy: 0.5189 - val_loss: 4.7354 - val_accuracy: 0.4720 - lr: 0.0010\n"
     ]
    },
    {
     "name": "stdout",
     "output_type": "stream",
     "text": [
      "Epoch 209/10000\n",
      "70/70 [==============================] - 0s 6ms/step - loss: 3.8467 - accuracy: 0.5216 - val_loss: 4.7152 - val_accuracy: 0.4700 - lr: 0.0010\n",
      "Epoch 210/10000\n",
      "70/70 [==============================] - 0s 6ms/step - loss: 3.8463 - accuracy: 0.5147 - val_loss: 4.7766 - val_accuracy: 0.4670 - lr: 0.0010\n",
      "Epoch 211/10000\n",
      "70/70 [==============================] - 0s 6ms/step - loss: 3.8307 - accuracy: 0.5191 - val_loss: 4.7581 - val_accuracy: 0.4630 - lr: 0.0010\n",
      "Epoch 212/10000\n",
      "70/70 [==============================] - 0s 6ms/step - loss: 3.7765 - accuracy: 0.5156 - val_loss: 4.7025 - val_accuracy: 0.4670 - lr: 0.0010\n",
      "Epoch 213/10000\n",
      "70/70 [==============================] - 0s 6ms/step - loss: 3.7836 - accuracy: 0.5159 - val_loss: 4.7787 - val_accuracy: 0.4720 - lr: 0.0010\n",
      "Epoch 214/10000\n",
      "70/70 [==============================] - 0s 6ms/step - loss: 3.8260 - accuracy: 0.5150 - val_loss: 4.7579 - val_accuracy: 0.4860 - lr: 0.0010\n",
      "Epoch 215/10000\n",
      "70/70 [==============================] - 0s 6ms/step - loss: 3.8349 - accuracy: 0.5174 - val_loss: 4.7669 - val_accuracy: 0.4600 - lr: 0.0010\n",
      "Epoch 216/10000\n",
      "70/70 [==============================] - 0s 6ms/step - loss: 3.7783 - accuracy: 0.5240 - val_loss: 4.8142 - val_accuracy: 0.4860 - lr: 0.0010\n",
      "Epoch 217/10000\n",
      "70/70 [==============================] - 0s 6ms/step - loss: 3.7665 - accuracy: 0.5296 - val_loss: 4.8261 - val_accuracy: 0.4640 - lr: 0.0010\n",
      "Epoch 218/10000\n",
      "70/70 [==============================] - 0s 6ms/step - loss: 3.7842 - accuracy: 0.5227 - val_loss: 4.7683 - val_accuracy: 0.4720 - lr: 0.0010\n",
      "Epoch 219/10000\n",
      "70/70 [==============================] - 0s 6ms/step - loss: 3.7747 - accuracy: 0.5217 - val_loss: 4.8312 - val_accuracy: 0.4730 - lr: 0.0010\n",
      "Epoch 220/10000\n",
      "70/70 [==============================] - 0s 6ms/step - loss: 3.7395 - accuracy: 0.5276 - val_loss: 4.8022 - val_accuracy: 0.4590 - lr: 0.0010\n",
      "Epoch 221/10000\n",
      "70/70 [==============================] - 0s 6ms/step - loss: 3.7805 - accuracy: 0.5184 - val_loss: 4.8430 - val_accuracy: 0.4720 - lr: 0.0010\n",
      "Epoch 222/10000\n",
      "70/70 [==============================] - 0s 6ms/step - loss: 3.8165 - accuracy: 0.5140 - val_loss: 4.7919 - val_accuracy: 0.4840 - lr: 0.0010\n",
      "Epoch 223/10000\n",
      "70/70 [==============================] - 0s 7ms/step - loss: 3.7199 - accuracy: 0.5267 - val_loss: 4.8496 - val_accuracy: 0.4620 - lr: 0.0010\n",
      "Epoch 224/10000\n",
      "70/70 [==============================] - 0s 6ms/step - loss: 3.7549 - accuracy: 0.5259 - val_loss: 4.7974 - val_accuracy: 0.4850 - lr: 0.0010\n",
      "Epoch 225/10000\n",
      "70/70 [==============================] - 0s 6ms/step - loss: 3.7090 - accuracy: 0.5277 - val_loss: 4.8316 - val_accuracy: 0.4730 - lr: 0.0010\n",
      "Epoch 226/10000\n",
      "70/70 [==============================] - 0s 6ms/step - loss: 3.7243 - accuracy: 0.5269 - val_loss: 4.8595 - val_accuracy: 0.4810 - lr: 0.0010\n",
      "Epoch 227/10000\n",
      "70/70 [==============================] - 0s 6ms/step - loss: 3.7474 - accuracy: 0.5263 - val_loss: 4.7769 - val_accuracy: 0.4890 - lr: 0.0010\n",
      "Epoch 228/10000\n",
      "70/70 [==============================] - 0s 7ms/step - loss: 3.7110 - accuracy: 0.5266 - val_loss: 4.8126 - val_accuracy: 0.4700 - lr: 0.0010\n",
      "Epoch 229/10000\n",
      "70/70 [==============================] - 0s 6ms/step - loss: 3.6853 - accuracy: 0.5199 - val_loss: 4.8313 - val_accuracy: 0.4790 - lr: 0.0010\n",
      "Epoch 230/10000\n",
      "70/70 [==============================] - 0s 6ms/step - loss: 3.6713 - accuracy: 0.5326 - val_loss: 4.8063 - val_accuracy: 0.4730 - lr: 0.0010\n",
      "Epoch 231/10000\n",
      "70/70 [==============================] - 0s 6ms/step - loss: 3.7481 - accuracy: 0.5210 - val_loss: 4.8487 - val_accuracy: 0.4580 - lr: 0.0010\n",
      "Epoch 232/10000\n",
      "70/70 [==============================] - 0s 6ms/step - loss: 3.6638 - accuracy: 0.5194 - val_loss: 4.8839 - val_accuracy: 0.4740 - lr: 0.0010\n",
      "Epoch 233/10000\n",
      "70/70 [==============================] - 0s 7ms/step - loss: 3.7136 - accuracy: 0.5233 - val_loss: 4.8145 - val_accuracy: 0.4770 - lr: 0.0010\n",
      "Epoch 234/10000\n",
      "70/70 [==============================] - 0s 6ms/step - loss: 3.6985 - accuracy: 0.5253 - val_loss: 4.7957 - val_accuracy: 0.4710 - lr: 0.0010\n",
      "Epoch 235/10000\n",
      "70/70 [==============================] - 0s 6ms/step - loss: 3.6954 - accuracy: 0.5210 - val_loss: 4.8289 - val_accuracy: 0.4820 - lr: 0.0010\n",
      "Epoch 236/10000\n",
      "70/70 [==============================] - 0s 6ms/step - loss: 3.6596 - accuracy: 0.5314 - val_loss: 4.8735 - val_accuracy: 0.4720 - lr: 0.0010\n",
      "Epoch 237/10000\n",
      "70/70 [==============================] - 0s 6ms/step - loss: 3.6544 - accuracy: 0.5291 - val_loss: 4.9349 - val_accuracy: 0.4820 - lr: 0.0010\n",
      "Epoch 238/10000\n",
      "70/70 [==============================] - 0s 7ms/step - loss: 3.6938 - accuracy: 0.5263 - val_loss: 4.8432 - val_accuracy: 0.4710 - lr: 0.0010\n",
      "Epoch 239/10000\n",
      "70/70 [==============================] - 0s 6ms/step - loss: 3.7218 - accuracy: 0.5214 - val_loss: 4.8380 - val_accuracy: 0.4750 - lr: 0.0010\n",
      "Epoch 240/10000\n",
      "70/70 [==============================] - 0s 6ms/step - loss: 3.6584 - accuracy: 0.5161 - val_loss: 4.8576 - val_accuracy: 0.4790 - lr: 0.0010\n",
      "Epoch 241/10000\n",
      "70/70 [==============================] - 0s 6ms/step - loss: 3.6384 - accuracy: 0.5253 - val_loss: 4.8527 - val_accuracy: 0.4770 - lr: 0.0010\n",
      "Epoch 242/10000\n",
      "70/70 [==============================] - 0s 6ms/step - loss: 3.6476 - accuracy: 0.5256 - val_loss: 4.9287 - val_accuracy: 0.4770 - lr: 0.0010\n",
      "Epoch 243/10000\n",
      "70/70 [==============================] - 0s 6ms/step - loss: 3.6296 - accuracy: 0.5296 - val_loss: 4.8423 - val_accuracy: 0.4790 - lr: 0.0010\n",
      "Epoch 244/10000\n",
      "70/70 [==============================] - 0s 6ms/step - loss: 3.6064 - accuracy: 0.5326 - val_loss: 4.8513 - val_accuracy: 0.4750 - lr: 0.0010\n",
      "Epoch 245/10000\n",
      "70/70 [==============================] - 0s 6ms/step - loss: 3.6455 - accuracy: 0.5217 - val_loss: 5.0181 - val_accuracy: 0.4720 - lr: 0.0010\n",
      "Epoch 246/10000\n",
      "70/70 [==============================] - 0s 6ms/step - loss: 3.6381 - accuracy: 0.5293 - val_loss: 4.8952 - val_accuracy: 0.4820 - lr: 0.0010\n",
      "Epoch 247/10000\n",
      "70/70 [==============================] - 0s 6ms/step - loss: 3.6234 - accuracy: 0.5251 - val_loss: 4.8582 - val_accuracy: 0.4740 - lr: 0.0010\n",
      "Epoch 248/10000\n",
      "70/70 [==============================] - 0s 6ms/step - loss: 3.6414 - accuracy: 0.5221 - val_loss: 4.8621 - val_accuracy: 0.4750 - lr: 0.0010\n",
      "Epoch 249/10000\n",
      "70/70 [==============================] - 0s 6ms/step - loss: 3.6239 - accuracy: 0.5296 - val_loss: 4.8753 - val_accuracy: 0.4810 - lr: 0.0010\n",
      "Epoch 250/10000\n",
      "70/70 [==============================] - 0s 6ms/step - loss: 3.6420 - accuracy: 0.5226 - val_loss: 4.9054 - val_accuracy: 0.4620 - lr: 0.0010\n",
      "Epoch 251/10000\n",
      "70/70 [==============================] - 0s 6ms/step - loss: 3.5660 - accuracy: 0.5261 - val_loss: 4.9762 - val_accuracy: 0.4580 - lr: 0.0010\n",
      "Epoch 252/10000\n",
      "70/70 [==============================] - 0s 6ms/step - loss: 3.5403 - accuracy: 0.5313 - val_loss: 4.9402 - val_accuracy: 0.4970 - lr: 0.0010\n",
      "Epoch 253/10000\n",
      "70/70 [==============================] - 0s 6ms/step - loss: 3.5326 - accuracy: 0.5347 - val_loss: 4.9021 - val_accuracy: 0.4630 - lr: 0.0010\n",
      "Epoch 254/10000\n",
      "70/70 [==============================] - 0s 6ms/step - loss: 3.5847 - accuracy: 0.5327 - val_loss: 4.9698 - val_accuracy: 0.4810 - lr: 0.0010\n",
      "Epoch 255/10000\n",
      "70/70 [==============================] - 0s 6ms/step - loss: 3.6453 - accuracy: 0.5206 - val_loss: 4.9182 - val_accuracy: 0.4660 - lr: 0.0010\n",
      "Epoch 256/10000\n",
      "70/70 [==============================] - 0s 6ms/step - loss: 3.5992 - accuracy: 0.5294 - val_loss: 5.0009 - val_accuracy: 0.4690 - lr: 0.0010\n",
      "Epoch 257/10000\n",
      "70/70 [==============================] - 0s 6ms/step - loss: 3.5564 - accuracy: 0.5313 - val_loss: 5.0185 - val_accuracy: 0.4350 - lr: 0.0010\n",
      "Epoch 258/10000\n",
      "70/70 [==============================] - 0s 6ms/step - loss: 3.5584 - accuracy: 0.5329 - val_loss: 4.9842 - val_accuracy: 0.4620 - lr: 0.0010\n",
      "Epoch 259/10000\n",
      "70/70 [==============================] - 0s 6ms/step - loss: 3.5568 - accuracy: 0.5189 - val_loss: 4.9651 - val_accuracy: 0.4790 - lr: 0.0010\n",
      "Epoch 260/10000\n",
      "70/70 [==============================] - 0s 7ms/step - loss: 3.5726 - accuracy: 0.5229 - val_loss: 4.9584 - val_accuracy: 0.4740 - lr: 0.0010\n"
     ]
    },
    {
     "name": "stdout",
     "output_type": "stream",
     "text": [
      "Epoch 261/10000\n",
      "70/70 [==============================] - 0s 6ms/step - loss: 3.5594 - accuracy: 0.5271 - val_loss: 5.0154 - val_accuracy: 0.4480 - lr: 0.0010\n",
      "Epoch 262/10000\n",
      "70/70 [==============================] - 0s 6ms/step - loss: 3.5347 - accuracy: 0.5259 - val_loss: 5.0515 - val_accuracy: 0.4680 - lr: 0.0010\n",
      "Epoch 263/10000\n",
      "70/70 [==============================] - 0s 6ms/step - loss: 3.5303 - accuracy: 0.5309 - val_loss: 4.9237 - val_accuracy: 0.4510 - lr: 0.0010\n",
      "Epoch 264/10000\n",
      "70/70 [==============================] - 0s 6ms/step - loss: 3.5034 - accuracy: 0.5296 - val_loss: 4.9318 - val_accuracy: 0.4730 - lr: 0.0010\n",
      "Epoch 265/10000\n",
      "70/70 [==============================] - 0s 6ms/step - loss: 3.4552 - accuracy: 0.5343 - val_loss: 5.0071 - val_accuracy: 0.4760 - lr: 0.0010\n",
      "Epoch 266/10000\n",
      "70/70 [==============================] - 0s 6ms/step - loss: 3.4841 - accuracy: 0.5447 - val_loss: 5.0111 - val_accuracy: 0.4630 - lr: 0.0010\n",
      "Epoch 267/10000\n",
      "70/70 [==============================] - 0s 6ms/step - loss: 3.4889 - accuracy: 0.5317 - val_loss: 4.9568 - val_accuracy: 0.4700 - lr: 0.0010\n",
      "Epoch 268/10000\n",
      "70/70 [==============================] - 0s 6ms/step - loss: 3.5029 - accuracy: 0.5330 - val_loss: 5.0394 - val_accuracy: 0.4610 - lr: 0.0010\n",
      "Epoch 269/10000\n",
      "70/70 [==============================] - 0s 6ms/step - loss: 3.4811 - accuracy: 0.5311 - val_loss: 5.0279 - val_accuracy: 0.4690 - lr: 0.0010\n",
      "Epoch 270/10000\n",
      "70/70 [==============================] - 0s 6ms/step - loss: 3.4779 - accuracy: 0.5350 - val_loss: 5.0885 - val_accuracy: 0.4610 - lr: 0.0010\n",
      "Epoch 271/10000\n",
      "70/70 [==============================] - 0s 6ms/step - loss: 3.4739 - accuracy: 0.5353 - val_loss: 4.9811 - val_accuracy: 0.4670 - lr: 0.0010\n",
      "Epoch 272/10000\n",
      "70/70 [==============================] - 0s 6ms/step - loss: 3.4737 - accuracy: 0.5393 - val_loss: 4.9856 - val_accuracy: 0.4780 - lr: 0.0010\n",
      "Epoch 273/10000\n",
      "70/70 [==============================] - 0s 6ms/step - loss: 3.4208 - accuracy: 0.5394 - val_loss: 5.0197 - val_accuracy: 0.4840 - lr: 0.0010\n",
      "Epoch 274/10000\n",
      "70/70 [==============================] - 0s 6ms/step - loss: 3.4702 - accuracy: 0.5346 - val_loss: 4.9499 - val_accuracy: 0.4680 - lr: 0.0010\n",
      "Epoch 275/10000\n",
      "70/70 [==============================] - 0s 6ms/step - loss: 3.3983 - accuracy: 0.5370 - val_loss: 5.0591 - val_accuracy: 0.4890 - lr: 0.0010\n",
      "Epoch 276/10000\n",
      "70/70 [==============================] - 0s 6ms/step - loss: 3.4433 - accuracy: 0.5350 - val_loss: 5.0002 - val_accuracy: 0.4760 - lr: 0.0010\n",
      "Epoch 277/10000\n",
      "70/70 [==============================] - 0s 6ms/step - loss: 3.4688 - accuracy: 0.5284 - val_loss: 5.1483 - val_accuracy: 0.4680 - lr: 0.0010\n",
      "Epoch 278/10000\n",
      "70/70 [==============================] - 0s 6ms/step - loss: 3.3964 - accuracy: 0.5449 - val_loss: 5.0172 - val_accuracy: 0.4780 - lr: 0.0010\n",
      "Epoch 279/10000\n",
      "70/70 [==============================] - 0s 6ms/step - loss: 3.4395 - accuracy: 0.5286 - val_loss: 5.0065 - val_accuracy: 0.4730 - lr: 0.0010\n",
      "Epoch 280/10000\n",
      "70/70 [==============================] - 0s 6ms/step - loss: 3.4894 - accuracy: 0.5340 - val_loss: 5.0226 - val_accuracy: 0.4810 - lr: 0.0010\n",
      "Epoch 281/10000\n",
      "70/70 [==============================] - 0s 6ms/step - loss: 3.4139 - accuracy: 0.5394 - val_loss: 5.0514 - val_accuracy: 0.4600 - lr: 0.0010\n",
      "Epoch 282/10000\n",
      "70/70 [==============================] - 0s 6ms/step - loss: 3.3689 - accuracy: 0.5463 - val_loss: 5.1301 - val_accuracy: 0.4720 - lr: 0.0010\n",
      "Epoch 283/10000\n",
      "70/70 [==============================] - 0s 6ms/step - loss: 3.3562 - accuracy: 0.5403 - val_loss: 5.0651 - val_accuracy: 0.4620 - lr: 0.0010\n",
      "Epoch 284/10000\n",
      "70/70 [==============================] - 0s 6ms/step - loss: 3.3945 - accuracy: 0.5369 - val_loss: 5.1086 - val_accuracy: 0.4710 - lr: 0.0010\n",
      "Epoch 285/10000\n",
      "70/70 [==============================] - 0s 6ms/step - loss: 3.3899 - accuracy: 0.5421 - val_loss: 5.0472 - val_accuracy: 0.4760 - lr: 0.0010\n",
      "Epoch 286/10000\n",
      "70/70 [==============================] - 0s 6ms/step - loss: 3.3890 - accuracy: 0.5427 - val_loss: 5.0532 - val_accuracy: 0.4730 - lr: 0.0010\n",
      "Epoch 287/10000\n",
      "70/70 [==============================] - 0s 6ms/step - loss: 3.4167 - accuracy: 0.5327 - val_loss: 5.1033 - val_accuracy: 0.4920 - lr: 0.0010\n",
      "Epoch 288/10000\n",
      "70/70 [==============================] - 0s 6ms/step - loss: 3.3521 - accuracy: 0.5326 - val_loss: 5.1027 - val_accuracy: 0.4740 - lr: 0.0010\n",
      "Epoch 289/10000\n",
      "70/70 [==============================] - 0s 6ms/step - loss: 3.3322 - accuracy: 0.5451 - val_loss: 5.0004 - val_accuracy: 0.4680 - lr: 0.0010\n",
      "Epoch 290/10000\n",
      "70/70 [==============================] - 0s 6ms/step - loss: 3.3223 - accuracy: 0.5419 - val_loss: 5.0510 - val_accuracy: 0.4840 - lr: 0.0010\n",
      "Epoch 291/10000\n",
      "70/70 [==============================] - 0s 6ms/step - loss: 3.3425 - accuracy: 0.5400 - val_loss: 5.1088 - val_accuracy: 0.4720 - lr: 0.0010\n",
      "Epoch 292/10000\n",
      "70/70 [==============================] - 0s 6ms/step - loss: 3.3247 - accuracy: 0.5420 - val_loss: 5.0330 - val_accuracy: 0.4750 - lr: 0.0010\n",
      "Epoch 293/10000\n",
      "70/70 [==============================] - 0s 6ms/step - loss: 3.3277 - accuracy: 0.5319 - val_loss: 5.0624 - val_accuracy: 0.4590 - lr: 0.0010\n",
      "Epoch 294/10000\n",
      "70/70 [==============================] - 0s 6ms/step - loss: 3.3036 - accuracy: 0.5367 - val_loss: 4.9826 - val_accuracy: 0.4830 - lr: 0.0010\n",
      "Epoch 295/10000\n",
      "70/70 [==============================] - 0s 6ms/step - loss: 3.4022 - accuracy: 0.5361 - val_loss: 5.1401 - val_accuracy: 0.4600 - lr: 0.0010\n",
      "Epoch 296/10000\n",
      "70/70 [==============================] - 0s 6ms/step - loss: 3.3706 - accuracy: 0.5374 - val_loss: 5.1404 - val_accuracy: 0.4730 - lr: 0.0010\n",
      "Epoch 297/10000\n",
      "70/70 [==============================] - 0s 7ms/step - loss: 3.3554 - accuracy: 0.5444 - val_loss: 5.0382 - val_accuracy: 0.4690 - lr: 0.0010\n",
      "Epoch 298/10000\n",
      "70/70 [==============================] - 0s 6ms/step - loss: 3.2978 - accuracy: 0.5484 - val_loss: 5.1315 - val_accuracy: 0.4780 - lr: 0.0010\n",
      "Epoch 299/10000\n",
      "70/70 [==============================] - 0s 6ms/step - loss: 3.2917 - accuracy: 0.5433 - val_loss: 5.0447 - val_accuracy: 0.4730 - lr: 0.0010\n",
      "Epoch 300/10000\n",
      "70/70 [==============================] - 0s 6ms/step - loss: 3.3140 - accuracy: 0.5501 - val_loss: 5.1273 - val_accuracy: 0.4590 - lr: 0.0010\n",
      "Epoch 301/10000\n",
      "70/70 [==============================] - 0s 7ms/step - loss: 3.3179 - accuracy: 0.5337 - val_loss: 5.1681 - val_accuracy: 0.4990 - lr: 0.0010\n",
      "Epoch 302/10000\n",
      "70/70 [==============================] - 0s 7ms/step - loss: 3.3332 - accuracy: 0.5329 - val_loss: 5.1549 - val_accuracy: 0.4810 - lr: 0.0010\n",
      "Epoch 303/10000\n",
      "70/70 [==============================] - 0s 7ms/step - loss: 3.2985 - accuracy: 0.5439 - val_loss: 5.2408 - val_accuracy: 0.4550 - lr: 0.0010\n",
      "Epoch 304/10000\n",
      "70/70 [==============================] - 0s 7ms/step - loss: 3.2833 - accuracy: 0.5509 - val_loss: 5.1577 - val_accuracy: 0.4650 - lr: 0.0010\n",
      "Epoch 305/10000\n",
      "70/70 [==============================] - 0s 7ms/step - loss: 3.2600 - accuracy: 0.5457 - val_loss: 5.2152 - val_accuracy: 0.4730 - lr: 0.0010\n",
      "Epoch 306/10000\n",
      "70/70 [==============================] - 0s 7ms/step - loss: 3.2431 - accuracy: 0.5396 - val_loss: 5.2137 - val_accuracy: 0.4830 - lr: 0.0010\n",
      "Epoch 307/10000\n",
      "70/70 [==============================] - 0s 7ms/step - loss: 3.2695 - accuracy: 0.5409 - val_loss: 5.1898 - val_accuracy: 0.4800 - lr: 0.0010\n",
      "Epoch 308/10000\n",
      "70/70 [==============================] - 0s 7ms/step - loss: 3.2403 - accuracy: 0.5510 - val_loss: 5.2898 - val_accuracy: 0.4680 - lr: 0.0010\n",
      "Epoch 309/10000\n",
      "70/70 [==============================] - 0s 7ms/step - loss: 3.3085 - accuracy: 0.5483 - val_loss: 5.2015 - val_accuracy: 0.4810 - lr: 0.0010\n",
      "Epoch 310/10000\n",
      "70/70 [==============================] - 0s 7ms/step - loss: 3.2274 - accuracy: 0.5556 - val_loss: 5.2577 - val_accuracy: 0.4810 - lr: 0.0010\n",
      "Epoch 311/10000\n",
      "70/70 [==============================] - 0s 7ms/step - loss: 3.2525 - accuracy: 0.5449 - val_loss: 5.2861 - val_accuracy: 0.4850 - lr: 0.0010\n",
      "Epoch 312/10000\n",
      "70/70 [==============================] - 0s 7ms/step - loss: 3.1981 - accuracy: 0.5597 - val_loss: 5.2095 - val_accuracy: 0.4680 - lr: 0.0010\n"
     ]
    },
    {
     "name": "stdout",
     "output_type": "stream",
     "text": [
      "Epoch 313/10000\n",
      "70/70 [==============================] - 0s 7ms/step - loss: 3.2422 - accuracy: 0.5440 - val_loss: 5.1963 - val_accuracy: 0.4610 - lr: 0.0010\n",
      "Epoch 314/10000\n",
      "70/70 [==============================] - 0s 7ms/step - loss: 3.1628 - accuracy: 0.5499 - val_loss: 5.3016 - val_accuracy: 0.4780 - lr: 0.0010\n",
      "Epoch 315/10000\n",
      "70/70 [==============================] - 0s 7ms/step - loss: 3.2072 - accuracy: 0.5526 - val_loss: 5.1692 - val_accuracy: 0.4840 - lr: 0.0010\n",
      "Epoch 316/10000\n",
      "70/70 [==============================] - 0s 7ms/step - loss: 3.2532 - accuracy: 0.5441 - val_loss: 5.2059 - val_accuracy: 0.4800 - lr: 0.0010\n",
      "Epoch 317/10000\n",
      "70/70 [==============================] - 0s 7ms/step - loss: 3.2256 - accuracy: 0.5419 - val_loss: 5.2417 - val_accuracy: 0.4620 - lr: 0.0010\n",
      "Epoch 318/10000\n",
      "70/70 [==============================] - 0s 7ms/step - loss: 3.2139 - accuracy: 0.5459 - val_loss: 5.2314 - val_accuracy: 0.4800 - lr: 0.0010\n",
      "Epoch 319/10000\n",
      "70/70 [==============================] - 0s 7ms/step - loss: 3.2173 - accuracy: 0.5477 - val_loss: 5.3017 - val_accuracy: 0.4500 - lr: 0.0010\n",
      "Epoch 320/10000\n",
      "70/70 [==============================] - 0s 6ms/step - loss: 3.1540 - accuracy: 0.5433 - val_loss: 5.2322 - val_accuracy: 0.4700 - lr: 0.0010\n",
      "Epoch 321/10000\n",
      "70/70 [==============================] - 0s 7ms/step - loss: 3.1901 - accuracy: 0.5423 - val_loss: 5.2162 - val_accuracy: 0.4630 - lr: 0.0010\n",
      "Epoch 322/10000\n",
      "70/70 [==============================] - 0s 7ms/step - loss: 3.1894 - accuracy: 0.5483 - val_loss: 5.2208 - val_accuracy: 0.4660 - lr: 0.0010\n",
      "Epoch 323/10000\n",
      "70/70 [==============================] - 0s 7ms/step - loss: 3.1937 - accuracy: 0.5510 - val_loss: 5.3066 - val_accuracy: 0.4690 - lr: 0.0010\n",
      "Epoch 324/10000\n",
      "70/70 [==============================] - 0s 7ms/step - loss: 3.2103 - accuracy: 0.5451 - val_loss: 5.1886 - val_accuracy: 0.4470 - lr: 0.0010\n",
      "Epoch 325/10000\n",
      "70/70 [==============================] - 1s 9ms/step - loss: 3.1742 - accuracy: 0.5389 - val_loss: 5.3219 - val_accuracy: 0.4630 - lr: 0.0010\n",
      "Epoch 326/10000\n",
      "70/70 [==============================] - 0s 7ms/step - loss: 3.1756 - accuracy: 0.5481 - val_loss: 5.4128 - val_accuracy: 0.4610 - lr: 0.0010\n",
      "Epoch 327/10000\n",
      "70/70 [==============================] - 0s 7ms/step - loss: 3.1748 - accuracy: 0.5571 - val_loss: 5.2416 - val_accuracy: 0.4670 - lr: 0.0010\n",
      "Epoch 328/10000\n",
      "70/70 [==============================] - 0s 7ms/step - loss: 3.1601 - accuracy: 0.5541 - val_loss: 5.2479 - val_accuracy: 0.4800 - lr: 0.0010\n",
      "Epoch 329/10000\n",
      "70/70 [==============================] - 0s 7ms/step - loss: 3.1671 - accuracy: 0.5499 - val_loss: 5.3819 - val_accuracy: 0.4680 - lr: 0.0010\n",
      "Epoch 330/10000\n",
      "70/70 [==============================] - 0s 7ms/step - loss: 3.1590 - accuracy: 0.5601 - val_loss: 5.2929 - val_accuracy: 0.4740 - lr: 0.0010\n",
      "Epoch 331/10000\n",
      "70/70 [==============================] - 0s 7ms/step - loss: 3.1763 - accuracy: 0.5487 - val_loss: 5.2914 - val_accuracy: 0.4780 - lr: 0.0010\n",
      "Epoch 332/10000\n",
      "70/70 [==============================] - 0s 7ms/step - loss: 3.1296 - accuracy: 0.5444 - val_loss: 5.3043 - val_accuracy: 0.4830 - lr: 0.0010\n",
      "Epoch 333/10000\n",
      "70/70 [==============================] - 0s 7ms/step - loss: 3.2097 - accuracy: 0.5499 - val_loss: 5.3921 - val_accuracy: 0.4610 - lr: 0.0010\n",
      "Epoch 334/10000\n",
      "70/70 [==============================] - 0s 7ms/step - loss: 3.1069 - accuracy: 0.5480 - val_loss: 5.2146 - val_accuracy: 0.4580 - lr: 0.0010\n",
      "Epoch 335/10000\n",
      "70/70 [==============================] - 0s 7ms/step - loss: 3.1780 - accuracy: 0.5479 - val_loss: 5.2711 - val_accuracy: 0.4640 - lr: 0.0010\n",
      "Epoch 336/10000\n",
      "70/70 [==============================] - 0s 7ms/step - loss: 3.1541 - accuracy: 0.5461 - val_loss: 5.3104 - val_accuracy: 0.4590 - lr: 0.0010\n",
      "Epoch 337/10000\n",
      "70/70 [==============================] - 0s 7ms/step - loss: 3.1440 - accuracy: 0.5556 - val_loss: 5.3561 - val_accuracy: 0.4790 - lr: 0.0010\n",
      "Epoch 338/10000\n",
      "70/70 [==============================] - 0s 7ms/step - loss: 3.1615 - accuracy: 0.5580 - val_loss: 5.3076 - val_accuracy: 0.4740 - lr: 0.0010\n",
      "Epoch 339/10000\n",
      "70/70 [==============================] - 0s 7ms/step - loss: 3.1447 - accuracy: 0.5483 - val_loss: 5.3138 - val_accuracy: 0.4770 - lr: 0.0010\n",
      "Epoch 340/10000\n",
      "70/70 [==============================] - 0s 7ms/step - loss: 3.0757 - accuracy: 0.5529 - val_loss: 5.2426 - val_accuracy: 0.4660 - lr: 0.0010\n",
      "Epoch 341/10000\n",
      "70/70 [==============================] - 0s 7ms/step - loss: 3.1539 - accuracy: 0.5487 - val_loss: 5.2566 - val_accuracy: 0.4670 - lr: 0.0010\n",
      "Epoch 342/10000\n",
      "70/70 [==============================] - 0s 7ms/step - loss: 3.1144 - accuracy: 0.5546 - val_loss: 5.2907 - val_accuracy: 0.4720 - lr: 0.0010\n",
      "Epoch 343/10000\n",
      "70/70 [==============================] - 0s 7ms/step - loss: 3.1993 - accuracy: 0.5534 - val_loss: 5.2030 - val_accuracy: 0.4700 - lr: 0.0010\n",
      "Epoch 344/10000\n",
      "70/70 [==============================] - 0s 7ms/step - loss: 3.1196 - accuracy: 0.5436 - val_loss: 5.2964 - val_accuracy: 0.4830 - lr: 0.0010\n",
      "Epoch 345/10000\n",
      "70/70 [==============================] - 0s 7ms/step - loss: 3.0735 - accuracy: 0.5537 - val_loss: 5.2904 - val_accuracy: 0.4680 - lr: 0.0010\n",
      "Epoch 346/10000\n",
      "70/70 [==============================] - 0s 7ms/step - loss: 3.0743 - accuracy: 0.5560 - val_loss: 5.3281 - val_accuracy: 0.4690 - lr: 0.0010\n",
      "Epoch 347/10000\n",
      "70/70 [==============================] - 0s 6ms/step - loss: 3.1271 - accuracy: 0.5516 - val_loss: 5.3779 - val_accuracy: 0.4870 - lr: 0.0010\n",
      "Epoch 348/10000\n",
      "70/70 [==============================] - 0s 7ms/step - loss: 3.0678 - accuracy: 0.5619 - val_loss: 5.3308 - val_accuracy: 0.4630 - lr: 0.0010\n",
      "Epoch 349/10000\n",
      "70/70 [==============================] - 0s 6ms/step - loss: 3.0514 - accuracy: 0.5556 - val_loss: 5.2949 - val_accuracy: 0.4660 - lr: 0.0010\n",
      "Epoch 350/10000\n",
      "70/70 [==============================] - 0s 7ms/step - loss: 3.0600 - accuracy: 0.5596 - val_loss: 5.4175 - val_accuracy: 0.4690 - lr: 0.0010\n",
      "Epoch 351/10000\n",
      "70/70 [==============================] - 0s 7ms/step - loss: 3.0692 - accuracy: 0.5599 - val_loss: 5.3474 - val_accuracy: 0.4680 - lr: 0.0010\n",
      "Epoch 352/10000\n",
      "70/70 [==============================] - 0s 7ms/step - loss: 3.0700 - accuracy: 0.5526 - val_loss: 5.3915 - val_accuracy: 0.4820 - lr: 0.0010\n",
      "Epoch 353/10000\n",
      "70/70 [==============================] - 0s 7ms/step - loss: 3.0517 - accuracy: 0.5596 - val_loss: 5.4143 - val_accuracy: 0.4760 - lr: 0.0010\n",
      "Epoch 354/10000\n",
      "70/70 [==============================] - 0s 7ms/step - loss: 3.0546 - accuracy: 0.5490 - val_loss: 5.3896 - val_accuracy: 0.4570 - lr: 0.0010\n",
      "Epoch 355/10000\n",
      "70/70 [==============================] - 0s 6ms/step - loss: 3.0803 - accuracy: 0.5630 - val_loss: 5.3502 - val_accuracy: 0.4630 - lr: 0.0010\n",
      "Epoch 356/10000\n",
      "70/70 [==============================] - 0s 6ms/step - loss: 3.0404 - accuracy: 0.5539 - val_loss: 5.3429 - val_accuracy: 0.4810 - lr: 0.0010\n",
      "Epoch 357/10000\n",
      "70/70 [==============================] - 0s 7ms/step - loss: 3.1069 - accuracy: 0.5581 - val_loss: 5.3096 - val_accuracy: 0.4840 - lr: 0.0010\n",
      "Epoch 358/10000\n",
      "70/70 [==============================] - 0s 7ms/step - loss: 3.0131 - accuracy: 0.5596 - val_loss: 5.3464 - val_accuracy: 0.4730 - lr: 0.0010\n",
      "Epoch 359/10000\n",
      "70/70 [==============================] - 0s 7ms/step - loss: 3.0443 - accuracy: 0.5630 - val_loss: 5.4138 - val_accuracy: 0.4780 - lr: 0.0010\n",
      "Epoch 360/10000\n",
      "70/70 [==============================] - 0s 6ms/step - loss: 3.0685 - accuracy: 0.5526 - val_loss: 5.3230 - val_accuracy: 0.4730 - lr: 0.0010\n",
      "Epoch 361/10000\n",
      "70/70 [==============================] - 0s 7ms/step - loss: 3.0625 - accuracy: 0.5569 - val_loss: 5.5296 - val_accuracy: 0.4650 - lr: 0.0010\n",
      "Epoch 362/10000\n",
      "70/70 [==============================] - 0s 7ms/step - loss: 3.0522 - accuracy: 0.5617 - val_loss: 5.5029 - val_accuracy: 0.4710 - lr: 0.0010\n",
      "Epoch 363/10000\n",
      "70/70 [==============================] - 0s 6ms/step - loss: 3.0045 - accuracy: 0.5577 - val_loss: 5.3585 - val_accuracy: 0.4650 - lr: 0.0010\n",
      "Epoch 364/10000\n",
      "70/70 [==============================] - 0s 7ms/step - loss: 3.1455 - accuracy: 0.5473 - val_loss: 5.3819 - val_accuracy: 0.4730 - lr: 0.0010\n"
     ]
    },
    {
     "name": "stdout",
     "output_type": "stream",
     "text": [
      "Epoch 365/10000\n",
      "70/70 [==============================] - 0s 6ms/step - loss: 2.9984 - accuracy: 0.5606 - val_loss: 5.4820 - val_accuracy: 0.4670 - lr: 0.0010\n",
      "Epoch 366/10000\n",
      "70/70 [==============================] - 0s 7ms/step - loss: 3.0454 - accuracy: 0.5544 - val_loss: 5.4406 - val_accuracy: 0.4630 - lr: 0.0010\n",
      "Epoch 367/10000\n",
      "70/70 [==============================] - 0s 6ms/step - loss: 3.0411 - accuracy: 0.5520 - val_loss: 5.4817 - val_accuracy: 0.4710 - lr: 0.0010\n",
      "Epoch 368/10000\n",
      "70/70 [==============================] - 0s 7ms/step - loss: 3.0188 - accuracy: 0.5583 - val_loss: 5.5069 - val_accuracy: 0.4890 - lr: 0.0010\n",
      "Epoch 369/10000\n",
      "70/70 [==============================] - 0s 7ms/step - loss: 3.0489 - accuracy: 0.5541 - val_loss: 5.4604 - val_accuracy: 0.4510 - lr: 0.0010\n",
      "Epoch 370/10000\n",
      "70/70 [==============================] - 0s 7ms/step - loss: 3.0425 - accuracy: 0.5669 - val_loss: 5.4730 - val_accuracy: 0.4820 - lr: 0.0010\n",
      "Epoch 371/10000\n",
      "70/70 [==============================] - 0s 6ms/step - loss: 2.9871 - accuracy: 0.5631 - val_loss: 5.5557 - val_accuracy: 0.4600 - lr: 0.0010\n",
      "Epoch 372/10000\n",
      "70/70 [==============================] - 0s 7ms/step - loss: 3.0191 - accuracy: 0.5583 - val_loss: 5.4370 - val_accuracy: 0.4640 - lr: 0.0010\n",
      "Epoch 373/10000\n",
      "70/70 [==============================] - 0s 6ms/step - loss: 3.0640 - accuracy: 0.5539 - val_loss: 5.4950 - val_accuracy: 0.4510 - lr: 0.0010\n",
      "Epoch 374/10000\n",
      "70/70 [==============================] - 0s 7ms/step - loss: 3.0189 - accuracy: 0.5640 - val_loss: 5.4081 - val_accuracy: 0.4670 - lr: 0.0010\n",
      "Epoch 375/10000\n",
      "70/70 [==============================] - 0s 7ms/step - loss: 2.9853 - accuracy: 0.5549 - val_loss: 5.5185 - val_accuracy: 0.4620 - lr: 0.0010\n",
      "Epoch 376/10000\n",
      "70/70 [==============================] - 0s 7ms/step - loss: 3.0049 - accuracy: 0.5607 - val_loss: 5.4473 - val_accuracy: 0.4610 - lr: 0.0010\n",
      "Epoch 377/10000\n",
      "70/70 [==============================] - 0s 7ms/step - loss: 2.9912 - accuracy: 0.5644 - val_loss: 5.3510 - val_accuracy: 0.4760 - lr: 0.0010\n",
      "Epoch 378/10000\n",
      "70/70 [==============================] - 0s 7ms/step - loss: 2.9917 - accuracy: 0.5606 - val_loss: 5.4392 - val_accuracy: 0.4670 - lr: 0.0010\n",
      "Epoch 379/10000\n",
      "70/70 [==============================] - 0s 7ms/step - loss: 3.0204 - accuracy: 0.5510 - val_loss: 5.4778 - val_accuracy: 0.4810 - lr: 0.0010\n",
      "Epoch 380/10000\n",
      "70/70 [==============================] - 0s 7ms/step - loss: 2.9409 - accuracy: 0.5574 - val_loss: 5.4296 - val_accuracy: 0.4780 - lr: 0.0010\n",
      "Epoch 381/10000\n",
      "70/70 [==============================] - 1s 7ms/step - loss: 3.0150 - accuracy: 0.5623 - val_loss: 5.3964 - val_accuracy: 0.4720 - lr: 0.0010\n",
      "Epoch 382/10000\n",
      "70/70 [==============================] - 0s 7ms/step - loss: 2.9546 - accuracy: 0.5607 - val_loss: 5.4033 - val_accuracy: 0.4780 - lr: 0.0010\n",
      "Epoch 383/10000\n",
      "70/70 [==============================] - 0s 7ms/step - loss: 2.8983 - accuracy: 0.5649 - val_loss: 5.4863 - val_accuracy: 0.4640 - lr: 0.0010\n",
      "Epoch 384/10000\n",
      "70/70 [==============================] - 0s 7ms/step - loss: 2.9830 - accuracy: 0.5700 - val_loss: 5.4567 - val_accuracy: 0.4910 - lr: 0.0010\n",
      "Epoch 385/10000\n",
      "70/70 [==============================] - 0s 7ms/step - loss: 2.9532 - accuracy: 0.5703 - val_loss: 5.4778 - val_accuracy: 0.4870 - lr: 0.0010\n",
      "Epoch 386/10000\n",
      "70/70 [==============================] - 0s 7ms/step - loss: 2.9682 - accuracy: 0.5667 - val_loss: 5.4903 - val_accuracy: 0.4770 - lr: 0.0010\n",
      "Epoch 387/10000\n",
      "70/70 [==============================] - 0s 7ms/step - loss: 2.9804 - accuracy: 0.5650 - val_loss: 5.6001 - val_accuracy: 0.4620 - lr: 0.0010\n",
      "Epoch 388/10000\n",
      "70/70 [==============================] - 0s 7ms/step - loss: 2.9249 - accuracy: 0.5699 - val_loss: 5.5388 - val_accuracy: 0.4770 - lr: 0.0010\n",
      "Epoch 389/10000\n",
      "70/70 [==============================] - 0s 7ms/step - loss: 2.9443 - accuracy: 0.5723 - val_loss: 5.4215 - val_accuracy: 0.4740 - lr: 0.0010\n",
      "Epoch 390/10000\n",
      "70/70 [==============================] - 0s 7ms/step - loss: 2.9871 - accuracy: 0.5586 - val_loss: 5.4123 - val_accuracy: 0.4720 - lr: 0.0010\n",
      "Epoch 391/10000\n",
      "70/70 [==============================] - 0s 7ms/step - loss: 2.9620 - accuracy: 0.5644 - val_loss: 5.4716 - val_accuracy: 0.4830 - lr: 0.0010\n",
      "Epoch 392/10000\n",
      "70/70 [==============================] - 1s 7ms/step - loss: 2.8985 - accuracy: 0.5690 - val_loss: 5.5102 - val_accuracy: 0.4780 - lr: 0.0010\n",
      "Epoch 393/10000\n",
      "70/70 [==============================] - 0s 7ms/step - loss: 2.9989 - accuracy: 0.5587 - val_loss: 5.4342 - val_accuracy: 0.4580 - lr: 0.0010\n",
      "Epoch 394/10000\n",
      "70/70 [==============================] - 0s 7ms/step - loss: 2.9482 - accuracy: 0.5713 - val_loss: 5.5510 - val_accuracy: 0.4640 - lr: 0.0010\n",
      "Epoch 395/10000\n",
      "70/70 [==============================] - 0s 7ms/step - loss: 2.9814 - accuracy: 0.5657 - val_loss: 5.5413 - val_accuracy: 0.4860 - lr: 0.0010\n",
      "Epoch 396/10000\n",
      "70/70 [==============================] - 0s 7ms/step - loss: 2.8687 - accuracy: 0.5731 - val_loss: 5.5395 - val_accuracy: 0.4710 - lr: 0.0010\n",
      "Epoch 397/10000\n",
      "70/70 [==============================] - 0s 7ms/step - loss: 2.9337 - accuracy: 0.5666 - val_loss: 5.5845 - val_accuracy: 0.4850 - lr: 0.0010\n",
      "Epoch 398/10000\n",
      "70/70 [==============================] - 0s 7ms/step - loss: 3.0052 - accuracy: 0.5643 - val_loss: 5.5103 - val_accuracy: 0.4640 - lr: 0.0010\n",
      "Epoch 399/10000\n",
      "70/70 [==============================] - 0s 7ms/step - loss: 2.8998 - accuracy: 0.5673 - val_loss: 5.5258 - val_accuracy: 0.4510 - lr: 0.0010\n",
      "Epoch 400/10000\n",
      "70/70 [==============================] - 0s 7ms/step - loss: 2.9301 - accuracy: 0.5619 - val_loss: 5.5846 - val_accuracy: 0.4630 - lr: 0.0010\n",
      "Epoch 401/10000\n",
      "70/70 [==============================] - 0s 7ms/step - loss: 2.9473 - accuracy: 0.5611 - val_loss: 5.5366 - val_accuracy: 0.4710 - lr: 0.0010\n",
      "Epoch 402/10000\n",
      "70/70 [==============================] - 0s 7ms/step - loss: 2.9802 - accuracy: 0.5601 - val_loss: 5.5140 - val_accuracy: 0.4530 - lr: 0.0010\n",
      "Epoch 403/10000\n",
      "70/70 [==============================] - 0s 7ms/step - loss: 2.9455 - accuracy: 0.5633 - val_loss: 5.5668 - val_accuracy: 0.4620 - lr: 0.0010\n",
      "Epoch 404/10000\n",
      "70/70 [==============================] - 0s 6ms/step - loss: 2.8623 - accuracy: 0.5651 - val_loss: 5.4993 - val_accuracy: 0.4630 - lr: 0.0010\n",
      "Epoch 405/10000\n",
      "70/70 [==============================] - 0s 7ms/step - loss: 2.8797 - accuracy: 0.5661 - val_loss: 5.4837 - val_accuracy: 0.4760 - lr: 0.0010\n",
      "Epoch 406/10000\n",
      "70/70 [==============================] - 0s 7ms/step - loss: 2.9134 - accuracy: 0.5737 - val_loss: 5.4648 - val_accuracy: 0.4650 - lr: 0.0010\n",
      "Epoch 407/10000\n",
      "70/70 [==============================] - 0s 7ms/step - loss: 2.9215 - accuracy: 0.5684 - val_loss: 5.5782 - val_accuracy: 0.4710 - lr: 0.0010\n",
      "Epoch 408/10000\n",
      "70/70 [==============================] - 0s 6ms/step - loss: 2.8464 - accuracy: 0.5671 - val_loss: 5.6128 - val_accuracy: 0.4720 - lr: 0.0010\n",
      "Epoch 409/10000\n",
      "70/70 [==============================] - 0s 7ms/step - loss: 2.8537 - accuracy: 0.5813 - val_loss: 5.6404 - val_accuracy: 0.4650 - lr: 0.0010\n",
      "Epoch 410/10000\n",
      "70/70 [==============================] - 0s 6ms/step - loss: 2.9401 - accuracy: 0.5641 - val_loss: 5.5196 - val_accuracy: 0.4810 - lr: 0.0010\n",
      "Epoch 411/10000\n",
      "70/70 [==============================] - 0s 6ms/step - loss: 2.9091 - accuracy: 0.5723 - val_loss: 5.6426 - val_accuracy: 0.4780 - lr: 0.0010\n",
      "Epoch 412/10000\n",
      "70/70 [==============================] - 0s 6ms/step - loss: 2.8549 - accuracy: 0.5637 - val_loss: 5.6683 - val_accuracy: 0.4760 - lr: 0.0010\n",
      "Epoch 413/10000\n",
      "70/70 [==============================] - 0s 7ms/step - loss: 2.9380 - accuracy: 0.5570 - val_loss: 5.7564 - val_accuracy: 0.4760 - lr: 0.0010\n",
      "Epoch 414/10000\n",
      "70/70 [==============================] - 0s 7ms/step - loss: 2.8973 - accuracy: 0.5673 - val_loss: 5.6462 - val_accuracy: 0.4710 - lr: 0.0010\n",
      "Epoch 415/10000\n",
      "70/70 [==============================] - 0s 7ms/step - loss: 2.8701 - accuracy: 0.5713 - val_loss: 5.7569 - val_accuracy: 0.4740 - lr: 0.0010\n",
      "Epoch 416/10000\n",
      "70/70 [==============================] - 0s 6ms/step - loss: 2.8894 - accuracy: 0.5663 - val_loss: 5.5085 - val_accuracy: 0.4750 - lr: 0.0010\n"
     ]
    },
    {
     "name": "stdout",
     "output_type": "stream",
     "text": [
      "Epoch 417/10000\n",
      "70/70 [==============================] - 0s 7ms/step - loss: 2.8770 - accuracy: 0.5717 - val_loss: 5.6498 - val_accuracy: 0.4600 - lr: 0.0010\n",
      "Epoch 418/10000\n",
      "70/70 [==============================] - 0s 7ms/step - loss: 2.8854 - accuracy: 0.5724 - val_loss: 5.5200 - val_accuracy: 0.4660 - lr: 0.0010\n",
      "Epoch 419/10000\n",
      "70/70 [==============================] - 0s 6ms/step - loss: 2.9530 - accuracy: 0.5669 - val_loss: 5.5860 - val_accuracy: 0.4740 - lr: 0.0010\n",
      "Epoch 420/10000\n",
      "70/70 [==============================] - 0s 6ms/step - loss: 2.8729 - accuracy: 0.5676 - val_loss: 5.7048 - val_accuracy: 0.4750 - lr: 0.0010\n",
      "Epoch 421/10000\n",
      "70/70 [==============================] - 0s 6ms/step - loss: 2.8593 - accuracy: 0.5764 - val_loss: 5.6086 - val_accuracy: 0.4720 - lr: 0.0010\n",
      "Epoch 422/10000\n",
      "70/70 [==============================] - 0s 6ms/step - loss: 2.8290 - accuracy: 0.5656 - val_loss: 5.6058 - val_accuracy: 0.4700 - lr: 0.0010\n",
      "Epoch 423/10000\n",
      "70/70 [==============================] - 0s 6ms/step - loss: 2.8859 - accuracy: 0.5680 - val_loss: 5.6353 - val_accuracy: 0.4770 - lr: 0.0010\n",
      "Epoch 424/10000\n",
      "70/70 [==============================] - 0s 7ms/step - loss: 2.8551 - accuracy: 0.5650 - val_loss: 5.7384 - val_accuracy: 0.4690 - lr: 0.0010\n",
      "Epoch 425/10000\n",
      "70/70 [==============================] - 0s 7ms/step - loss: 2.8641 - accuracy: 0.5639 - val_loss: 5.6306 - val_accuracy: 0.4770 - lr: 0.0010\n",
      "Epoch 426/10000\n",
      "70/70 [==============================] - 0s 6ms/step - loss: 2.8580 - accuracy: 0.5651 - val_loss: 5.5279 - val_accuracy: 0.4740 - lr: 0.0010\n",
      "Epoch 427/10000\n",
      "70/70 [==============================] - 0s 7ms/step - loss: 2.8723 - accuracy: 0.5607 - val_loss: 5.5130 - val_accuracy: 0.4550 - lr: 0.0010\n",
      "Epoch 428/10000\n",
      "70/70 [==============================] - 0s 7ms/step - loss: 2.8443 - accuracy: 0.5781 - val_loss: 5.5577 - val_accuracy: 0.4650 - lr: 0.0010\n",
      "Epoch 429/10000\n",
      "70/70 [==============================] - 0s 7ms/step - loss: 2.8674 - accuracy: 0.5683 - val_loss: 5.6196 - val_accuracy: 0.4830 - lr: 0.0010\n",
      "Epoch 430/10000\n",
      "70/70 [==============================] - 0s 7ms/step - loss: 2.8108 - accuracy: 0.5697 - val_loss: 5.6155 - val_accuracy: 0.4720 - lr: 0.0010\n",
      "Epoch 431/10000\n",
      "70/70 [==============================] - 0s 7ms/step - loss: 2.8026 - accuracy: 0.5731 - val_loss: 5.5604 - val_accuracy: 0.4660 - lr: 0.0010\n",
      "Epoch 432/10000\n",
      "70/70 [==============================] - 0s 7ms/step - loss: 2.8866 - accuracy: 0.5719 - val_loss: 5.6177 - val_accuracy: 0.4720 - lr: 0.0010\n",
      "Epoch 433/10000\n",
      "70/70 [==============================] - 0s 7ms/step - loss: 2.8631 - accuracy: 0.5756 - val_loss: 5.5682 - val_accuracy: 0.4700 - lr: 0.0010\n",
      "Epoch 434/10000\n",
      "70/70 [==============================] - 0s 7ms/step - loss: 2.7818 - accuracy: 0.5761 - val_loss: 5.6523 - val_accuracy: 0.4630 - lr: 0.0010\n",
      "Epoch 435/10000\n",
      "70/70 [==============================] - 0s 7ms/step - loss: 2.8682 - accuracy: 0.5703 - val_loss: 5.7187 - val_accuracy: 0.4630 - lr: 0.0010\n",
      "Epoch 436/10000\n",
      "70/70 [==============================] - 0s 7ms/step - loss: 2.8248 - accuracy: 0.5730 - val_loss: 5.5351 - val_accuracy: 0.4620 - lr: 0.0010\n",
      "Epoch 437/10000\n",
      "70/70 [==============================] - 0s 7ms/step - loss: 2.8457 - accuracy: 0.5717 - val_loss: 5.7724 - val_accuracy: 0.4690 - lr: 0.0010\n",
      "Epoch 438/10000\n",
      "70/70 [==============================] - 0s 7ms/step - loss: 2.7995 - accuracy: 0.5723 - val_loss: 5.8758 - val_accuracy: 0.4610 - lr: 0.0010\n",
      "Epoch 439/10000\n",
      "70/70 [==============================] - 0s 7ms/step - loss: 2.8532 - accuracy: 0.5741 - val_loss: 5.6152 - val_accuracy: 0.4670 - lr: 0.0010\n",
      "Epoch 440/10000\n",
      "70/70 [==============================] - 0s 7ms/step - loss: 2.7892 - accuracy: 0.5726 - val_loss: 5.6790 - val_accuracy: 0.4590 - lr: 0.0010\n",
      "Epoch 441/10000\n",
      "70/70 [==============================] - 0s 7ms/step - loss: 2.7959 - accuracy: 0.5731 - val_loss: 5.7601 - val_accuracy: 0.4830 - lr: 0.0010\n",
      "Epoch 442/10000\n",
      "70/70 [==============================] - 0s 7ms/step - loss: 2.8320 - accuracy: 0.5760 - val_loss: 5.7877 - val_accuracy: 0.4640 - lr: 0.0010\n",
      "Epoch 443/10000\n",
      "70/70 [==============================] - 0s 6ms/step - loss: 2.7966 - accuracy: 0.5810 - val_loss: 5.6213 - val_accuracy: 0.4670 - lr: 0.0010\n",
      "Epoch 444/10000\n",
      "70/70 [==============================] - 0s 7ms/step - loss: 2.7821 - accuracy: 0.5740 - val_loss: 5.5751 - val_accuracy: 0.4520 - lr: 0.0010\n",
      "Epoch 445/10000\n",
      "70/70 [==============================] - 0s 7ms/step - loss: 2.8041 - accuracy: 0.5673 - val_loss: 5.6060 - val_accuracy: 0.4630 - lr: 0.0010\n",
      "Epoch 446/10000\n",
      "70/70 [==============================] - 0s 7ms/step - loss: 2.8291 - accuracy: 0.5726 - val_loss: 5.6582 - val_accuracy: 0.4620 - lr: 0.0010\n",
      "Epoch 447/10000\n",
      "70/70 [==============================] - 0s 7ms/step - loss: 2.7902 - accuracy: 0.5759 - val_loss: 5.7016 - val_accuracy: 0.4720 - lr: 0.0010\n",
      "Epoch 448/10000\n",
      "70/70 [==============================] - 0s 7ms/step - loss: 2.8217 - accuracy: 0.5687 - val_loss: 5.5538 - val_accuracy: 0.4510 - lr: 0.0010\n",
      "Epoch 449/10000\n",
      "70/70 [==============================] - 0s 7ms/step - loss: 2.8273 - accuracy: 0.5690 - val_loss: 5.6759 - val_accuracy: 0.4760 - lr: 0.0010\n",
      "Epoch 450/10000\n",
      "70/70 [==============================] - 0s 7ms/step - loss: 2.8265 - accuracy: 0.5707 - val_loss: 5.7255 - val_accuracy: 0.4690 - lr: 0.0010\n",
      "Epoch 451/10000\n",
      "70/70 [==============================] - 0s 7ms/step - loss: 2.8277 - accuracy: 0.5674 - val_loss: 5.6778 - val_accuracy: 0.4700 - lr: 0.0010\n",
      "Epoch 452/10000\n",
      "70/70 [==============================] - 0s 7ms/step - loss: 2.8391 - accuracy: 0.5680 - val_loss: 5.7254 - val_accuracy: 0.4680 - lr: 0.0010\n",
      "Epoch 453/10000\n",
      "70/70 [==============================] - 0s 6ms/step - loss: 2.7849 - accuracy: 0.5730 - val_loss: 5.6496 - val_accuracy: 0.4550 - lr: 0.0010\n",
      "Epoch 454/10000\n",
      "70/70 [==============================] - 0s 7ms/step - loss: 2.7984 - accuracy: 0.5666 - val_loss: 5.6117 - val_accuracy: 0.4570 - lr: 0.0010\n",
      "Epoch 455/10000\n",
      "70/70 [==============================] - 0s 7ms/step - loss: 2.8041 - accuracy: 0.5731 - val_loss: 5.7104 - val_accuracy: 0.4630 - lr: 0.0010\n",
      "Epoch 456/10000\n",
      "70/70 [==============================] - 0s 7ms/step - loss: 2.7476 - accuracy: 0.5766 - val_loss: 5.7391 - val_accuracy: 0.4870 - lr: 0.0010\n",
      "Epoch 457/10000\n",
      "70/70 [==============================] - 0s 7ms/step - loss: 2.8001 - accuracy: 0.5739 - val_loss: 5.6379 - val_accuracy: 0.4610 - lr: 0.0010\n",
      "Epoch 458/10000\n",
      "70/70 [==============================] - 0s 7ms/step - loss: 2.8558 - accuracy: 0.5659 - val_loss: 5.6344 - val_accuracy: 0.4730 - lr: 0.0010\n",
      "Epoch 459/10000\n",
      "70/70 [==============================] - 0s 7ms/step - loss: 2.7567 - accuracy: 0.5739 - val_loss: 5.6969 - val_accuracy: 0.4730 - lr: 0.0010\n",
      "Epoch 460/10000\n",
      "70/70 [==============================] - 0s 7ms/step - loss: 2.8133 - accuracy: 0.5791 - val_loss: 5.7207 - val_accuracy: 0.4570 - lr: 0.0010\n",
      "Epoch 461/10000\n",
      "70/70 [==============================] - 0s 7ms/step - loss: 2.8006 - accuracy: 0.5716 - val_loss: 5.6506 - val_accuracy: 0.4680 - lr: 0.0010\n",
      "Epoch 462/10000\n",
      "70/70 [==============================] - 0s 7ms/step - loss: 2.7773 - accuracy: 0.5676 - val_loss: 5.6543 - val_accuracy: 0.4600 - lr: 0.0010\n",
      "Epoch 463/10000\n",
      "70/70 [==============================] - 0s 7ms/step - loss: 2.7875 - accuracy: 0.5811 - val_loss: 5.6029 - val_accuracy: 0.4510 - lr: 0.0010\n",
      "Epoch 464/10000\n",
      "70/70 [==============================] - 0s 7ms/step - loss: 2.7819 - accuracy: 0.5804 - val_loss: 5.7633 - val_accuracy: 0.4540 - lr: 0.0010\n",
      "Epoch 465/10000\n",
      "70/70 [==============================] - 0s 7ms/step - loss: 2.7540 - accuracy: 0.5726 - val_loss: 5.6558 - val_accuracy: 0.4750 - lr: 0.0010\n",
      "Epoch 466/10000\n",
      "70/70 [==============================] - 0s 7ms/step - loss: 2.7388 - accuracy: 0.5776 - val_loss: 5.7244 - val_accuracy: 0.4560 - lr: 0.0010\n",
      "Epoch 467/10000\n",
      "70/70 [==============================] - 0s 7ms/step - loss: 2.7168 - accuracy: 0.5743 - val_loss: 5.7608 - val_accuracy: 0.4520 - lr: 0.0010\n",
      "Epoch 468/10000\n",
      "70/70 [==============================] - 0s 7ms/step - loss: 2.7600 - accuracy: 0.5723 - val_loss: 5.7586 - val_accuracy: 0.4560 - lr: 0.0010\n"
     ]
    },
    {
     "name": "stdout",
     "output_type": "stream",
     "text": [
      "Epoch 469/10000\n",
      "70/70 [==============================] - 0s 7ms/step - loss: 2.7469 - accuracy: 0.5807 - val_loss: 5.7701 - val_accuracy: 0.4850 - lr: 0.0010\n",
      "Epoch 470/10000\n",
      "70/70 [==============================] - 0s 6ms/step - loss: 2.7141 - accuracy: 0.5743 - val_loss: 5.7263 - val_accuracy: 0.4710 - lr: 0.0010\n",
      "Epoch 471/10000\n",
      "70/70 [==============================] - 0s 7ms/step - loss: 2.7772 - accuracy: 0.5779 - val_loss: 5.7370 - val_accuracy: 0.4420 - lr: 0.0010\n",
      "Epoch 472/10000\n",
      "70/70 [==============================] - 0s 7ms/step - loss: 2.7822 - accuracy: 0.5733 - val_loss: 5.8013 - val_accuracy: 0.4580 - lr: 0.0010\n",
      "Epoch 473/10000\n",
      "70/70 [==============================] - 0s 7ms/step - loss: 2.7186 - accuracy: 0.5759 - val_loss: 5.8639 - val_accuracy: 0.4610 - lr: 0.0010\n",
      "Epoch 474/10000\n",
      "70/70 [==============================] - 0s 7ms/step - loss: 2.6942 - accuracy: 0.5826 - val_loss: 5.7850 - val_accuracy: 0.4660 - lr: 0.0010\n",
      "Epoch 475/10000\n",
      "70/70 [==============================] - 0s 7ms/step - loss: 2.7447 - accuracy: 0.5674 - val_loss: 5.8158 - val_accuracy: 0.4530 - lr: 0.0010\n",
      "Epoch 476/10000\n",
      "70/70 [==============================] - 0s 7ms/step - loss: 2.7442 - accuracy: 0.5706 - val_loss: 5.7076 - val_accuracy: 0.4610 - lr: 0.0010\n",
      "Epoch 477/10000\n",
      "70/70 [==============================] - 0s 6ms/step - loss: 2.7077 - accuracy: 0.5799 - val_loss: 5.7820 - val_accuracy: 0.4620 - lr: 0.0010\n",
      "Epoch 478/10000\n",
      "70/70 [==============================] - 0s 7ms/step - loss: 2.7631 - accuracy: 0.5734 - val_loss: 5.7555 - val_accuracy: 0.4490 - lr: 0.0010\n",
      "Epoch 479/10000\n",
      "70/70 [==============================] - 0s 6ms/step - loss: 2.7102 - accuracy: 0.5806 - val_loss: 5.8488 - val_accuracy: 0.4510 - lr: 0.0010\n",
      "Epoch 480/10000\n",
      "70/70 [==============================] - 0s 6ms/step - loss: 2.7379 - accuracy: 0.5751 - val_loss: 5.6339 - val_accuracy: 0.4610 - lr: 0.0010\n",
      "Epoch 481/10000\n",
      "70/70 [==============================] - 0s 7ms/step - loss: 2.6971 - accuracy: 0.5851 - val_loss: 5.7162 - val_accuracy: 0.4600 - lr: 0.0010\n",
      "Epoch 482/10000\n",
      "70/70 [==============================] - 0s 6ms/step - loss: 2.7352 - accuracy: 0.5759 - val_loss: 5.8141 - val_accuracy: 0.4520 - lr: 0.0010\n",
      "Epoch 483/10000\n",
      "70/70 [==============================] - 0s 7ms/step - loss: 2.7199 - accuracy: 0.5717 - val_loss: 5.7839 - val_accuracy: 0.4690 - lr: 0.0010\n",
      "Epoch 484/10000\n",
      "70/70 [==============================] - 0s 7ms/step - loss: 2.7226 - accuracy: 0.5803 - val_loss: 5.7276 - val_accuracy: 0.4650 - lr: 0.0010\n",
      "Epoch 485/10000\n",
      "70/70 [==============================] - 0s 7ms/step - loss: 2.6933 - accuracy: 0.5800 - val_loss: 5.7926 - val_accuracy: 0.4600 - lr: 0.0010\n",
      "Epoch 486/10000\n",
      "70/70 [==============================] - 0s 6ms/step - loss: 2.6922 - accuracy: 0.5849 - val_loss: 5.9235 - val_accuracy: 0.4600 - lr: 0.0010\n",
      "Epoch 487/10000\n",
      "70/70 [==============================] - 0s 7ms/step - loss: 2.7367 - accuracy: 0.5806 - val_loss: 5.8157 - val_accuracy: 0.4560 - lr: 0.0010\n",
      "Epoch 488/10000\n",
      "70/70 [==============================] - 0s 7ms/step - loss: 2.6974 - accuracy: 0.5716 - val_loss: 5.8063 - val_accuracy: 0.4650 - lr: 0.0010\n",
      "Epoch 489/10000\n",
      "70/70 [==============================] - 0s 7ms/step - loss: 2.7391 - accuracy: 0.5753 - val_loss: 5.7428 - val_accuracy: 0.4570 - lr: 0.0010\n",
      "Epoch 490/10000\n",
      "70/70 [==============================] - 0s 6ms/step - loss: 2.7016 - accuracy: 0.5746 - val_loss: 5.7288 - val_accuracy: 0.4680 - lr: 0.0010\n",
      "Epoch 491/10000\n",
      "70/70 [==============================] - 0s 7ms/step - loss: 2.7001 - accuracy: 0.5811 - val_loss: 5.8128 - val_accuracy: 0.4650 - lr: 0.0010\n",
      "Epoch 492/10000\n",
      "70/70 [==============================] - 0s 7ms/step - loss: 2.6870 - accuracy: 0.5849 - val_loss: 5.7264 - val_accuracy: 0.4600 - lr: 0.0010\n",
      "Epoch 493/10000\n",
      "70/70 [==============================] - 0s 7ms/step - loss: 2.7388 - accuracy: 0.5767 - val_loss: 5.7589 - val_accuracy: 0.4610 - lr: 0.0010\n",
      "Epoch 494/10000\n",
      "70/70 [==============================] - 0s 6ms/step - loss: 2.6890 - accuracy: 0.5759 - val_loss: 5.8299 - val_accuracy: 0.4630 - lr: 0.0010\n",
      "Epoch 495/10000\n",
      "70/70 [==============================] - 0s 6ms/step - loss: 2.6856 - accuracy: 0.5816 - val_loss: 5.7085 - val_accuracy: 0.4520 - lr: 0.0010\n",
      "Epoch 496/10000\n",
      "70/70 [==============================] - 0s 7ms/step - loss: 2.7377 - accuracy: 0.5754 - val_loss: 5.6348 - val_accuracy: 0.4510 - lr: 0.0010\n",
      "Epoch 497/10000\n",
      "70/70 [==============================] - 0s 6ms/step - loss: 2.7205 - accuracy: 0.5827 - val_loss: 5.8161 - val_accuracy: 0.4610 - lr: 0.0010\n",
      "Epoch 498/10000\n",
      "70/70 [==============================] - 0s 7ms/step - loss: 2.7241 - accuracy: 0.5839 - val_loss: 5.7156 - val_accuracy: 0.4560 - lr: 0.0010\n",
      "Epoch 499/10000\n",
      "70/70 [==============================] - 0s 6ms/step - loss: 2.7364 - accuracy: 0.5729 - val_loss: 5.7278 - val_accuracy: 0.4550 - lr: 0.0010\n",
      "Epoch 500/10000\n",
      "70/70 [==============================] - 0s 7ms/step - loss: 2.6827 - accuracy: 0.5777 - val_loss: 5.8451 - val_accuracy: 0.4630 - lr: 0.0010\n",
      "Epoch 501/10000\n",
      "70/70 [==============================] - 0s 7ms/step - loss: 2.7662 - accuracy: 0.5824 - val_loss: 5.6406 - val_accuracy: 0.4590 - lr: 6.5705e-06\n",
      "Epoch 502/10000\n",
      "70/70 [==============================] - 0s 7ms/step - loss: 2.6705 - accuracy: 0.5866 - val_loss: 5.5892 - val_accuracy: 0.4660 - lr: 6.5048e-06\n",
      "Epoch 503/10000\n",
      "70/70 [==============================] - 0s 7ms/step - loss: 2.6865 - accuracy: 0.5909 - val_loss: 5.5748 - val_accuracy: 0.4630 - lr: 6.4397e-06\n",
      "Epoch 504/10000\n",
      "70/70 [==============================] - 0s 7ms/step - loss: 2.6141 - accuracy: 0.5960 - val_loss: 5.5664 - val_accuracy: 0.4610 - lr: 6.3753e-06\n",
      "Epoch 505/10000\n",
      "70/70 [==============================] - 0s 6ms/step - loss: 2.6078 - accuracy: 0.5891 - val_loss: 5.5588 - val_accuracy: 0.4620 - lr: 6.3116e-06\n",
      "Epoch 506/10000\n",
      "70/70 [==============================] - 0s 6ms/step - loss: 2.5769 - accuracy: 0.5940 - val_loss: 5.5561 - val_accuracy: 0.4610 - lr: 6.2485e-06\n",
      "Epoch 507/10000\n",
      "70/70 [==============================] - 0s 6ms/step - loss: 2.5848 - accuracy: 0.5931 - val_loss: 5.5535 - val_accuracy: 0.4610 - lr: 6.1860e-06\n",
      "Epoch 508/10000\n",
      "70/70 [==============================] - 0s 6ms/step - loss: 2.5831 - accuracy: 0.5933 - val_loss: 5.5557 - val_accuracy: 0.4620 - lr: 6.1241e-06\n",
      "Epoch 509/10000\n",
      "70/70 [==============================] - 0s 7ms/step - loss: 2.5666 - accuracy: 0.5976 - val_loss: 5.5578 - val_accuracy: 0.4600 - lr: 6.0629e-06\n",
      "Epoch 510/10000\n",
      "70/70 [==============================] - 0s 6ms/step - loss: 2.5766 - accuracy: 0.5867 - val_loss: 5.5528 - val_accuracy: 0.4600 - lr: 6.0022e-06\n",
      "Epoch 511/10000\n",
      "70/70 [==============================] - 0s 6ms/step - loss: 2.5618 - accuracy: 0.5991 - val_loss: 5.5584 - val_accuracy: 0.4610 - lr: 5.9422e-06\n",
      "Epoch 512/10000\n",
      "70/70 [==============================] - 0s 6ms/step - loss: 2.5366 - accuracy: 0.5941 - val_loss: 5.5609 - val_accuracy: 0.4600 - lr: 5.8828e-06\n",
      "Epoch 513/10000\n",
      "70/70 [==============================] - 0s 6ms/step - loss: 2.5857 - accuracy: 0.5854 - val_loss: 5.5614 - val_accuracy: 0.4600 - lr: 5.8240e-06\n",
      "Epoch 514/10000\n",
      "70/70 [==============================] - 0s 7ms/step - loss: 2.5060 - accuracy: 0.5927 - val_loss: 5.5612 - val_accuracy: 0.4610 - lr: 5.7657e-06\n",
      "Epoch 515/10000\n",
      "70/70 [==============================] - 0s 7ms/step - loss: 2.5536 - accuracy: 0.5957 - val_loss: 5.5602 - val_accuracy: 0.4630 - lr: 5.7081e-06\n",
      "Epoch 516/10000\n",
      "70/70 [==============================] - 0s 7ms/step - loss: 2.5335 - accuracy: 0.5936 - val_loss: 5.5613 - val_accuracy: 0.4620 - lr: 5.6510e-06\n",
      "Epoch 517/10000\n",
      "70/70 [==============================] - 0s 6ms/step - loss: 2.5401 - accuracy: 0.5911 - val_loss: 5.5595 - val_accuracy: 0.4610 - lr: 5.5945e-06\n",
      "Epoch 518/10000\n",
      "70/70 [==============================] - 0s 7ms/step - loss: 2.5469 - accuracy: 0.5959 - val_loss: 5.5553 - val_accuracy: 0.4590 - lr: 5.5385e-06\n",
      "Epoch 519/10000\n",
      "70/70 [==============================] - 0s 7ms/step - loss: 2.5211 - accuracy: 0.5880 - val_loss: 5.5601 - val_accuracy: 0.4600 - lr: 5.4832e-06\n",
      "Epoch 520/10000\n",
      "70/70 [==============================] - 0s 7ms/step - loss: 2.5274 - accuracy: 0.5909 - val_loss: 5.5643 - val_accuracy: 0.4590 - lr: 5.4283e-06\n",
      "Epoch 521/10000\n",
      "70/70 [==============================] - 0s 7ms/step - loss: 2.5400 - accuracy: 0.5959 - val_loss: 5.5609 - val_accuracy: 0.4600 - lr: 5.3740e-06\n",
      "Epoch 522/10000\n",
      "70/70 [==============================] - 0s 7ms/step - loss: 2.5320 - accuracy: 0.5949 - val_loss: 5.5631 - val_accuracy: 0.4590 - lr: 5.3203e-06\n",
      "Epoch 523/10000\n",
      "70/70 [==============================] - 0s 7ms/step - loss: 2.5335 - accuracy: 0.5911 - val_loss: 5.5588 - val_accuracy: 0.4590 - lr: 5.2671e-06\n",
      "Epoch 524/10000\n",
      "70/70 [==============================] - 0s 7ms/step - loss: 2.5177 - accuracy: 0.5929 - val_loss: 5.5614 - val_accuracy: 0.4610 - lr: 5.2144e-06\n",
      "Epoch 525/10000\n",
      "70/70 [==============================] - 0s 6ms/step - loss: 2.5500 - accuracy: 0.5969 - val_loss: 5.5645 - val_accuracy: 0.4580 - lr: 5.1623e-06\n",
      "Epoch 526/10000\n",
      "70/70 [==============================] - 0s 6ms/step - loss: 2.5164 - accuracy: 0.5957 - val_loss: 5.5660 - val_accuracy: 0.4570 - lr: 5.1107e-06\n",
      "Epoch 527/10000\n",
      "70/70 [==============================] - 0s 7ms/step - loss: 2.5367 - accuracy: 0.5919 - val_loss: 5.5650 - val_accuracy: 0.4580 - lr: 5.0596e-06\n",
      "Epoch 528/10000\n",
      "70/70 [==============================] - 0s 7ms/step - loss: 2.5296 - accuracy: 0.5904 - val_loss: 5.5624 - val_accuracy: 0.4590 - lr: 5.0090e-06\n",
      "Epoch 529/10000\n",
      "70/70 [==============================] - 0s 7ms/step - loss: 2.5398 - accuracy: 0.5940 - val_loss: 5.5613 - val_accuracy: 0.4570 - lr: 4.9589e-06\n",
      "Epoch 530/10000\n",
      "70/70 [==============================] - 0s 7ms/step - loss: 2.5163 - accuracy: 0.5930 - val_loss: 5.5634 - val_accuracy: 0.4580 - lr: 4.9093e-06\n",
      "Epoch 531/10000\n",
      "70/70 [==============================] - 0s 6ms/step - loss: 2.5207 - accuracy: 0.5920 - val_loss: 5.5616 - val_accuracy: 0.4570 - lr: 4.8602e-06\n",
      "Epoch 532/10000\n",
      "70/70 [==============================] - 0s 7ms/step - loss: 2.4902 - accuracy: 0.5914 - val_loss: 5.5654 - val_accuracy: 0.4560 - lr: 4.8116e-06\n",
      "Epoch 533/10000\n",
      "70/70 [==============================] - 0s 6ms/step - loss: 2.5121 - accuracy: 0.5976 - val_loss: 5.5644 - val_accuracy: 0.4570 - lr: 4.7635e-06\n",
      "Epoch 534/10000\n",
      "70/70 [==============================] - 0s 6ms/step - loss: 2.5880 - accuracy: 0.5904 - val_loss: 5.5664 - val_accuracy: 0.4570 - lr: 4.7158e-06\n",
      "Epoch 535/10000\n",
      "70/70 [==============================] - 0s 6ms/step - loss: 2.5311 - accuracy: 0.5904 - val_loss: 5.5693 - val_accuracy: 0.4550 - lr: 4.6687e-06\n",
      "Epoch 536/10000\n",
      "70/70 [==============================] - 0s 6ms/step - loss: 2.4740 - accuracy: 0.5929 - val_loss: 5.5663 - val_accuracy: 0.4550 - lr: 4.6220e-06\n",
      "Epoch 537/10000\n",
      "70/70 [==============================] - 0s 7ms/step - loss: 2.5286 - accuracy: 0.5984 - val_loss: 5.5646 - val_accuracy: 0.4550 - lr: 4.5758e-06\n",
      "Epoch 538/10000\n",
      "70/70 [==============================] - 0s 7ms/step - loss: 2.4883 - accuracy: 0.5937 - val_loss: 5.5662 - val_accuracy: 0.4590 - lr: 4.5300e-06\n",
      "Epoch 539/10000\n",
      "70/70 [==============================] - 0s 7ms/step - loss: 2.5246 - accuracy: 0.5900 - val_loss: 5.5704 - val_accuracy: 0.4600 - lr: 4.4847e-06\n",
      "Epoch 540/10000\n",
      "70/70 [==============================] - 0s 7ms/step - loss: 2.5392 - accuracy: 0.5879 - val_loss: 5.5646 - val_accuracy: 0.4580 - lr: 4.4399e-06\n",
      "Epoch 541/10000\n",
      "70/70 [==============================] - 0s 7ms/step - loss: 2.5035 - accuracy: 0.5887 - val_loss: 5.5638 - val_accuracy: 0.4570 - lr: 4.3955e-06\n",
      "Epoch 542/10000\n",
      "70/70 [==============================] - 0s 7ms/step - loss: 2.5519 - accuracy: 0.5824 - val_loss: 5.5677 - val_accuracy: 0.4560 - lr: 4.3515e-06\n",
      "Epoch 543/10000\n",
      "70/70 [==============================] - 0s 6ms/step - loss: 2.5226 - accuracy: 0.5883 - val_loss: 5.5685 - val_accuracy: 0.4550 - lr: 4.3080e-06\n",
      "Epoch 544/10000\n",
      "70/70 [==============================] - 0s 6ms/step - loss: 2.5035 - accuracy: 0.5989 - val_loss: 5.5705 - val_accuracy: 0.4550 - lr: 4.2649e-06\n",
      "Epoch 545/10000\n",
      "70/70 [==============================] - 0s 7ms/step - loss: 2.5090 - accuracy: 0.5997 - val_loss: 5.5687 - val_accuracy: 0.4570 - lr: 4.2223e-06\n",
      "Epoch 546/10000\n",
      "70/70 [==============================] - 0s 7ms/step - loss: 2.5273 - accuracy: 0.5904 - val_loss: 5.5659 - val_accuracy: 0.4590 - lr: 4.1800e-06\n",
      "Epoch 547/10000\n",
      "70/70 [==============================] - 0s 7ms/step - loss: 2.4923 - accuracy: 0.5897 - val_loss: 5.5647 - val_accuracy: 0.4570 - lr: 4.1382e-06\n",
      "Epoch 548/10000\n",
      "70/70 [==============================] - 0s 7ms/step - loss: 2.5598 - accuracy: 0.5956 - val_loss: 5.5691 - val_accuracy: 0.4580 - lr: 4.0969e-06\n",
      "Epoch 549/10000\n",
      "70/70 [==============================] - 0s 7ms/step - loss: 2.5235 - accuracy: 0.5960 - val_loss: 5.5697 - val_accuracy: 0.4560 - lr: 4.0559e-06\n",
      "Epoch 550/10000\n",
      "70/70 [==============================] - 0s 7ms/step - loss: 2.4810 - accuracy: 0.5923 - val_loss: 5.5738 - val_accuracy: 0.4560 - lr: 4.0153e-06\n",
      "Epoch 551/10000\n",
      "70/70 [==============================] - 0s 7ms/step - loss: 2.5271 - accuracy: 0.5943 - val_loss: 5.5726 - val_accuracy: 0.4570 - lr: 3.9752e-06\n",
      "Epoch 552/10000\n",
      "70/70 [==============================] - 0s 7ms/step - loss: 2.5209 - accuracy: 0.5997 - val_loss: 5.5751 - val_accuracy: 0.4570 - lr: 3.9354e-06\n",
      "Epoch 553/10000\n",
      "70/70 [==============================] - 0s 6ms/step - loss: 2.5033 - accuracy: 0.5987 - val_loss: 5.5703 - val_accuracy: 0.4590 - lr: 3.8961e-06\n",
      "Epoch 554/10000\n",
      "70/70 [==============================] - 0s 7ms/step - loss: 2.5608 - accuracy: 0.5853 - val_loss: 5.5710 - val_accuracy: 0.4570 - lr: 3.8571e-06\n",
      "Epoch 555/10000\n",
      "70/70 [==============================] - 0s 7ms/step - loss: 2.5277 - accuracy: 0.5890 - val_loss: 5.5664 - val_accuracy: 0.4580 - lr: 3.8185e-06\n",
      "Epoch 556/10000\n",
      "70/70 [==============================] - 0s 7ms/step - loss: 2.5313 - accuracy: 0.5893 - val_loss: 5.5703 - val_accuracy: 0.4580 - lr: 3.7804e-06\n",
      "Epoch 557/10000\n",
      "70/70 [==============================] - 0s 7ms/step - loss: 2.4832 - accuracy: 0.5930 - val_loss: 5.5691 - val_accuracy: 0.4580 - lr: 3.7426e-06\n",
      "Epoch 558/10000\n",
      "70/70 [==============================] - 0s 6ms/step - loss: 2.5014 - accuracy: 0.5943 - val_loss: 5.5665 - val_accuracy: 0.4600 - lr: 3.7051e-06\n",
      "Epoch 559/10000\n",
      "70/70 [==============================] - 0s 6ms/step - loss: 2.5114 - accuracy: 0.5959 - val_loss: 5.5712 - val_accuracy: 0.4610 - lr: 3.6681e-06\n",
      "Epoch 560/10000\n",
      "70/70 [==============================] - 0s 6ms/step - loss: 2.5355 - accuracy: 0.5896 - val_loss: 5.5715 - val_accuracy: 0.4600 - lr: 3.6314e-06\n",
      "Epoch 561/10000\n",
      "70/70 [==============================] - 0s 7ms/step - loss: 2.5312 - accuracy: 0.5923 - val_loss: 5.5716 - val_accuracy: 0.4590 - lr: 3.5951e-06\n",
      "Epoch 562/10000\n",
      "70/70 [==============================] - 0s 7ms/step - loss: 2.5305 - accuracy: 0.5820 - val_loss: 5.5721 - val_accuracy: 0.4580 - lr: 3.5591e-06\n",
      "Epoch 563/10000\n",
      "63/70 [==========================>...] - ETA: 0s - loss: 2.4865 - accuracy: 0.5963Restoring model weights from the end of the best epoch: 63.\n",
      "70/70 [==============================] - 0s 7ms/step - loss: 2.4961 - accuracy: 0.5941 - val_loss: 5.5704 - val_accuracy: 0.4590 - lr: 3.5235e-06\n",
      "Epoch 563: early stopping\n"
     ]
    }
   ],
   "source": [
    "val_epochs = 10000\n",
    "tf.compat.v1.global_variables_initializer()\n",
    "\n",
    "early_stop = tf.keras.callbacks.EarlyStopping( monitor = 'val_loss', patience = 500,verbose = 1, \n",
    "                                              restore_best_weights = True)\n",
    "\n",
    "reduce_lr = tf.keras.callbacks.LearningRateScheduler(scheduler)\n",
    "history = model.fit(train_dataset, validation_data=val_dataset, epochs= val_epochs, callbacks=[reduce_lr, early_stop])"
   ]
  },
  {
   "cell_type": "markdown",
   "id": "7b9d5d5d",
   "metadata": {},
   "source": [
    "# Analizamos accuracy y loss"
   ]
  },
  {
   "cell_type": "code",
   "execution_count": 31,
   "id": "c2c35f5e",
   "metadata": {
    "ExecuteTime": {
     "end_time": "2023-03-29T06:13:12.049029Z",
     "start_time": "2023-03-29T06:13:11.924894Z"
    }
   },
   "outputs": [
    {
     "data": {
      "image/png": "[encoded data removed]",
      "text/plain": [
       "<Figure size 800x800 with 2 Axes>"
      ]
     },
     "metadata": {},
     "output_type": "display_data"
    }
   ],
   "source": [
    "acc = history.history['accuracy']\n",
    "val_acc = history.history['val_accuracy']\n",
    "\n",
    "loss = history.history['loss']\n",
    "val_loss = history.history['val_loss']\n",
    "\n",
    "epochs_range = range(563)\n",
    "\n",
    "plt.figure(figsize=(8, 8))\n",
    "plt.subplot(1, 2, 1)\n",
    "plt.plot(epochs_range, acc, label='Training Accuracy')\n",
    "plt.plot(epochs_range, val_acc, label='Validation Accuracy')\n",
    "plt.legend(loc='lower right')\n",
    "plt.title('Training and Validation Accuracy')\n",
    "\n",
    "plt.subplot(1, 2, 2)\n",
    "plt.plot(epochs_range, loss, label='Training Loss')\n",
    "plt.plot(epochs_range, val_loss, label='Validation Loss')\n",
    "plt.legend(loc='upper right')\n",
    "plt.title('Training and Validation Loss')\n",
    "plt.show()"
   ]
  },
  {
   "cell_type": "markdown",
   "id": "06522ddb",
   "metadata": {},
   "source": [
    "# Guardamos los datos Accuracy y Loss"
   ]
  },
  {
   "cell_type": "code",
   "execution_count": null,
   "id": "86253444",
   "metadata": {},
   "outputs": [],
   "source": [
    "df = pd.DataFrame.from_dict(history.history)\n",
    "df.to_csv('../../Gráficas finales/historytrayec100.csv', index=False)"
   ]
  },
  {
   "cell_type": "markdown",
   "id": "e1af1d19",
   "metadata": {},
   "source": [
    "# Guardamos el modelo"
   ]
  },
  {
   "cell_type": "code",
   "execution_count": 32,
   "id": "3a346828",
   "metadata": {
    "ExecuteTime": {
     "end_time": "2023-03-29T06:13:26.282716Z",
     "start_time": "2023-03-29T06:13:26.270757Z"
    }
   },
   "outputs": [],
   "source": [
    "path_to_save = 'D:/Documentos de trabajo/Maestría/Tesis Maestría/Trabajo Python Tesis/Github Tesis/Modelos/Modelos 50,100'"
   ]
  },
  {
   "cell_type": "code",
   "execution_count": 33,
   "id": "8e86a52a",
   "metadata": {
    "ExecuteTime": {
     "end_time": "2023-03-29T06:13:30.440053Z",
     "start_time": "2023-03-29T06:13:30.403427Z"
    }
   },
   "outputs": [],
   "source": [
    "model.save(path_to_save + '/trayectorias100.h5')"
   ]
  },
  {
   "cell_type": "markdown",
   "id": "efc9d48d",
   "metadata": {},
   "source": [
    "# Importamos el modelo"
   ]
  },
  {
   "cell_type": "code",
   "execution_count": 35,
   "id": "d1d4a1a9",
   "metadata": {
    "ExecuteTime": {
     "end_time": "2023-03-29T06:13:52.962146Z",
     "start_time": "2023-03-29T06:13:52.881904Z"
    }
   },
   "outputs": [],
   "source": [
    "new_model = keras.models.load_model('../../Modelos/Modelos 50,100/trayectorias100.h5')"
   ]
  },
  {
   "cell_type": "markdown",
   "id": "7f6d0ea9",
   "metadata": {},
   "source": [
    "# Probamos el modelo con datos nuevos"
   ]
  },
  {
   "cell_type": "markdown",
   "id": "6ad7f37d",
   "metadata": {},
   "source": [
    "## Creamos nuevos datos"
   ]
  },
  {
   "cell_type": "code",
   "execution_count": 36,
   "id": "b664f200",
   "metadata": {
    "ExecuteTime": {
     "end_time": "2023-03-29T06:14:05.143047Z",
     "start_time": "2023-03-29T06:14:05.001506Z"
    }
   },
   "outputs": [
    {
     "name": "stdout",
     "output_type": "stream",
     "text": [
      "--------------------------------------------\n",
      "[5, 9, 4, 6, 4, 9, 1]\n",
      "(10, 2, 100)\n",
      "1\n"
     ]
    }
   ],
   "source": [
    "import random\n",
    "from scipy.integrate import solve_ivp\n",
    "\n",
    "varf = []\n",
    "coef = []\n",
    "contador = 0\n",
    "for i in range(0, 1):\n",
    "    # constantes\n",
    "    a1 = random.randint(0, 10)\n",
    "    a2 = random.randint(0, 10)\n",
    "    b1 = random.randint(0, 10)\n",
    "    b2 = random.randint(0, 10)\n",
    "    d1 = random.randint(0, 10)\n",
    "    d2 = random.randint(0, 10)\n",
    "    n = random.randint(0, 5)\n",
    "\n",
    "    coef1 = [a1, a2, b1, b2, d1, d2, n]\n",
    "    coef.append(coef1)\n",
    "\n",
    "    def f(t, y):\n",
    "\n",
    "        # asignar a cada ODE a un elemento de vector\n",
    "        X = y[0]\n",
    "        Y = y[1]\n",
    "\n",
    "        # definimos cada ODE\n",
    "        # dX_dt=a1/(1+Y**n)-d1*X+b1\n",
    "        # dY_dt=a2/(1+X**n)-d2*Y+b2\n",
    "        dX_dt = a1/(1+Y**n)-d1*X+b1\n",
    "        dY_dt = a2/(1+X**n)-d2*Y+b1\n",
    "\n",
    "        return [dX_dt, dY_dt]\n",
    "\n",
    "    # Declaramos el vector de tiempo\n",
    "    t_span = [0, 50]\n",
    "    times = np.linspace(t_span[0], t_span[1], 100)\n",
    "\n",
    "    varfci2 = []\n",
    "    for i_ci in range(0, 10):\n",
    "        # Definimos las condiciones iniciales\n",
    "        y0 = np.array([random.randint(0, 10), random.randint(0, 10)])\n",
    "\n",
    "        # Resolvemos\n",
    "        # Modificar manualmente el intervalo de tiempo\n",
    "        sol = solve_ivp(f, t_span, y0, t_eval=times)\n",
    "        # sol=solve_ivp(f, t_span, y0) #Dejar que la librería elija el mejor intervalo\n",
    "        tiempo = sol.t\n",
    "        var1 = sol.y[0]\n",
    "        var2 = sol.y[1]\n",
    "\n",
    "        varfci = np.append([var1], [var2], axis=0)\n",
    "        varfci2.append(varfci)\n",
    "\n",
    "       \n",
    "\n",
    "    varf= varfci2\n",
    "    print('--------------------------------------------')\n",
    "    print(coef1)\n",
    "    print(np.shape(varf))\n",
    "    contador = contador+1\n",
    "    print(contador)\n",
    "\n",
    "varf = np.array(varf)\n",
    "coef = np.array(coef)"
   ]
  },
  {
   "cell_type": "code",
   "execution_count": 37,
   "id": "ffbe4d61",
   "metadata": {
    "ExecuteTime": {
     "end_time": "2023-03-29T06:14:07.086792Z",
     "start_time": "2023-03-29T06:14:07.077822Z"
    }
   },
   "outputs": [],
   "source": [
    "varfnone = varf[None, :]"
   ]
  },
  {
   "cell_type": "markdown",
   "id": "4ea4942b",
   "metadata": {},
   "source": [
    "## Predecimos con los datos nuevos"
   ]
  },
  {
   "cell_type": "code",
   "execution_count": 38,
   "id": "37dce68f",
   "metadata": {
    "ExecuteTime": {
     "end_time": "2023-03-29T06:14:08.019615Z",
     "start_time": "2023-03-29T06:14:07.920099Z"
    }
   },
   "outputs": [
    {
     "name": "stdout",
     "output_type": "stream",
     "text": [
      "1/1 [==============================] - 0s 66ms/step\n",
      "[[4.171798  5.6818013 4.697578  4.9147635 4.5429087 8.203962  2.4682932]]\n"
     ]
    }
   ],
   "source": [
    "new_predictions = new_model.predict(varfnone)\n",
    "print(new_predictions)"
   ]
  },
  {
   "cell_type": "markdown",
   "id": "06c64a67",
   "metadata": {},
   "source": [
    "## Graficamos con los coeficientes reales"
   ]
  },
  {
   "cell_type": "code",
   "execution_count": 40,
   "id": "930a1b59",
   "metadata": {
    "ExecuteTime": {
     "end_time": "2023-03-29T06:14:16.771323Z",
     "start_time": "2023-03-29T06:14:16.691867Z"
    }
   },
   "outputs": [
    {
     "data": {
      "image/png": "[encoded data removed]",
      "text/plain": [
       "<Figure size 500x500 with 1 Axes>"
      ]
     },
     "metadata": {},
     "output_type": "display_data"
    }
   ],
   "source": [
    "t_span = [0, 100]\n",
    "times = np.linspace(t_span[0], t_span[1], 100)\n",
    "plt.figure(figsize=(5,5))\n",
    "plt.plot(times,np.array(varf)[0,0,:], label=\" Concentración X\")\n",
    "plt.plot(times,np.array(varf)[0,1,:], label=\"Concentración Y\")\n",
    "plt.xlabel('Tiempo')\n",
    "plt.ylabel('Concentración de genes')\n",
    "plt.title('Simulación Toggle Swich', fontsize=20)\n",
    "plt.legend()\n",
    "plt.show()"
   ]
  },
  {
   "cell_type": "code",
   "execution_count": 41,
   "id": "be8f3283",
   "metadata": {
    "ExecuteTime": {
     "end_time": "2023-03-29T06:14:19.327859Z",
     "start_time": "2023-03-29T06:14:19.321879Z"
    }
   },
   "outputs": [
    {
     "data": {
      "text/plain": [
       "(1, 7)"
      ]
     },
     "execution_count": 41,
     "metadata": {},
     "output_type": "execute_result"
    }
   ],
   "source": [
    "np.shape(new_predictions)"
   ]
  },
  {
   "cell_type": "markdown",
   "id": "beb6126d",
   "metadata": {},
   "source": [
    "## Graficamos con los coeficientes predecidos"
   ]
  },
  {
   "cell_type": "code",
   "execution_count": 42,
   "id": "84ae10b1",
   "metadata": {
    "ExecuteTime": {
     "end_time": "2023-03-29T06:14:23.984106Z",
     "start_time": "2023-03-29T06:14:23.905858Z"
    }
   },
   "outputs": [
    {
     "data": {
      "image/png": "[encoded data removed]",
      "text/plain": [
       "<Figure size 500x500 with 1 Axes>"
      ]
     },
     "metadata": {},
     "output_type": "display_data"
    }
   ],
   "source": [
    "a1 = new_predictions[0,0]\n",
    "a2 = new_predictions[0,1]\n",
    "b1 = new_predictions[0,2]\n",
    "b2 = new_predictions[0,3]\n",
    "d1 = new_predictions[0,4]\n",
    "d2 = new_predictions[0,5]\n",
    "n = new_predictions[0,6]\n",
    " \n",
    "def f(t, y):\n",
    "\n",
    "    # asignar a cada ODE a un elemento de vector\n",
    "    X = y[0]\n",
    "    Y = y[1]\n",
    "\n",
    "    # definimos cada ODE\n",
    "    dX_dt = a1/(1+Y**n)-d1*X+b1\n",
    "    dY_dt = a2/(1+X**n)-d2*Y+b1\n",
    "\n",
    "    return [dX_dt, dY_dt]\n",
    "\n",
    "# Declaramos el vector de tiempo\n",
    "t_span = [0, 50]\n",
    "times = np.linspace(t_span[0], t_span[1], 100)\n",
    "\n",
    "# Definimos las condiciones iniciales\n",
    "y0 = np.array([10,10])\n",
    "\n",
    "# Resolvemos\n",
    "# Modificar manualmente el intervalo de tiempo\n",
    "sol = solve_ivp(f, t_span, y0, t_eval=times)\n",
    "# sol=solve_ivp(f, t_span, y0) #Dejar que la librería elija el mejor intervalo\n",
    "tiempo = sol.t\n",
    "var1 = sol.y[0]\n",
    "var2 = sol.y[1]\n",
    "\n",
    "# Graficamos\n",
    "plt.figure(figsize=(5, 5))\n",
    "plt.plot(tiempo, var1, label=\" Concentración X\")\n",
    "plt.plot(tiempo, var2, label=\"Concentración Y\")\n",
    "plt.xlabel('Tiempo')\n",
    "plt.ylabel('Concentración de genes')\n",
    "plt.title('Simulación Toggle Swich', fontsize=20)\n",
    "plt.legend()\n",
    "plt.show()"
   ]
  }
 ],
 "metadata": {
  "hide_input": false,
  "kernelspec": {
   "display_name": "Python 3 (ipykernel)",
   "language": "python",
   "name": "python3"
  },
  "language_info": {
   "codemirror_mode": {
    "name": "ipython",
    "version": 3
   },
   "file_extension": ".py",
   "mimetype": "text/x-python",
   "name": "python",
   "nbconvert_exporter": "python",
   "pygments_lexer": "ipython3",
   "version": "3.9.13"
  },
  "toc": {
   "base_numbering": 1,
   "nav_menu": {},
   "number_sections": true,
   "sideBar": true,
   "skip_h1_title": false,
   "title_cell": "Table of Contents",
   "title_sidebar": "Contents",
   "toc_cell": false,
   "toc_position": {},
   "toc_section_display": true,
   "toc_window_display": false
  },
  "varInspector": {
   "cols": {
    "lenName": 16,
    "lenType": 16,
    "lenVar": 40
   },
   "kernels_config": {
    "python": {
     "delete_cmd_postfix": "",
     "delete_cmd_prefix": "del ",
     "library": "var_list.py",
     "varRefreshCmd": "print(var_dic_list())"
    },
    "r": {
     "delete_cmd_postfix": ") ",
     "delete_cmd_prefix": "rm(",
     "library": "var_list.r",
     "varRefreshCmd": "cat(var_dic_list()) "
    }
   },
   "types_to_exclude": [
    "module",
    "function",
    "builtin_function_or_method",
    "instance",
    "_Feature"
   ],
   "window_display": false
  }
 },
 "nbformat": 4,
 "nbformat_minor": 5
}
