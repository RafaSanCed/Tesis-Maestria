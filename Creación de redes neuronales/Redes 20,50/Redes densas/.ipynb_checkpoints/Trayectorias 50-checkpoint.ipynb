{
 "cells": [
  {
   "cell_type": "markdown",
   "id": "0067cad0",
   "metadata": {},
   "source": [
    "# Importamos librerías"
   ]
  },
  {
   "cell_type": "code",
   "execution_count": 1,
   "id": "b2d4f30f",
   "metadata": {
    "ExecuteTime": {
     "end_time": "2023-03-30T07:02:45.862502Z",
     "start_time": "2023-03-30T07:02:44.234535Z"
    }
   },
   "outputs": [],
   "source": [
    "import tensorflow as tf\n",
    "import pathlib\n",
    "import os\n",
    "import matplotlib.pyplot as plt\n",
    "import pandas as pd\n",
    "import numpy as np\n",
    "import keras"
   ]
  },
  {
   "cell_type": "code",
   "execution_count": 2,
   "id": "20fccfc6",
   "metadata": {
    "ExecuteTime": {
     "end_time": "2023-03-30T07:02:46.204481Z",
     "start_time": "2023-03-30T07:02:46.192514Z"
    }
   },
   "outputs": [],
   "source": [
    "from tensorflow.keras import Sequential\n",
    "from tensorflow.keras.layers import Conv2D\n",
    "from tensorflow.keras.layers import MaxPooling2D\n",
    "from tensorflow.keras.layers import AveragePooling2D\n",
    "from tensorflow.keras.layers import Dense\n",
    "from tensorflow.keras.layers import Flatten\n",
    "from tensorflow.keras.layers import Dropout, BatchNormalization"
   ]
  },
  {
   "cell_type": "code",
   "execution_count": 3,
   "id": "1c769735",
   "metadata": {
    "ExecuteTime": {
     "end_time": "2023-03-30T07:02:46.439030Z",
     "start_time": "2023-03-30T07:02:46.371443Z"
    }
   },
   "outputs": [
    {
     "name": "stdout",
     "output_type": "stream",
     "text": [
      "WARNING:tensorflow:From C:\\Users\\rafae\\AppData\\Local\\Temp\\ipykernel_11232\\337460670.py:1: is_gpu_available (from tensorflow.python.framework.test_util) is deprecated and will be removed in a future version.\n",
      "Instructions for updating:\n",
      "Use `tf.config.list_physical_devices('GPU')` instead.\n"
     ]
    },
    {
     "data": {
      "text/plain": [
       "True"
      ]
     },
     "execution_count": 3,
     "metadata": {},
     "output_type": "execute_result"
    }
   ],
   "source": [
    "tf.test.is_gpu_available()"
   ]
  },
  {
   "cell_type": "markdown",
   "id": "d94b2fbd",
   "metadata": {},
   "source": [
    "# Importamos los datos"
   ]
  },
  {
   "cell_type": "code",
   "execution_count": 1,
   "id": "2cdd79aa",
   "metadata": {
    "ExecuteTime": {
     "end_time": "2023-05-04T02:17:06.936533Z",
     "start_time": "2023-05-04T02:17:06.918024Z"
    }
   },
   "outputs": [],
   "source": [
    "path = '../../../Base de datos/Trayectorias 50 eval'"
   ]
  },
  {
   "cell_type": "markdown",
   "id": "39beab0c",
   "metadata": {},
   "source": [
    "## Datos de entrenamiento"
   ]
  },
  {
   "cell_type": "markdown",
   "id": "ca636b58",
   "metadata": {},
   "source": [
    "### Datos"
   ]
  },
  {
   "cell_type": "code",
   "execution_count": 5,
   "id": "ac8ee3cc",
   "metadata": {
    "ExecuteTime": {
     "end_time": "2023-03-30T07:02:47.182274Z",
     "start_time": "2023-03-30T07:02:47.157358Z"
    }
   },
   "outputs": [],
   "source": [
    "varftrain = np.load(path + '/varftrain.npy')"
   ]
  },
  {
   "cell_type": "code",
   "execution_count": 6,
   "id": "a2977931",
   "metadata": {
    "ExecuteTime": {
     "end_time": "2023-03-30T07:02:47.337098Z",
     "start_time": "2023-03-30T07:02:47.320155Z"
    }
   },
   "outputs": [
    {
     "data": {
      "text/plain": [
       "(7000, 10, 2, 50)"
      ]
     },
     "execution_count": 6,
     "metadata": {},
     "output_type": "execute_result"
    }
   ],
   "source": [
    "np.shape(varftrain)"
   ]
  },
  {
   "cell_type": "markdown",
   "id": "4a0e5fa2",
   "metadata": {},
   "source": [
    "### Coeficientes"
   ]
  },
  {
   "cell_type": "code",
   "execution_count": 7,
   "id": "45e5d25a",
   "metadata": {
    "ExecuteTime": {
     "end_time": "2023-03-30T07:02:47.663356Z",
     "start_time": "2023-03-30T07:02:47.647415Z"
    }
   },
   "outputs": [],
   "source": [
    "coefvarftrain = np.load(path + '/coefvarftrain.npy')"
   ]
  },
  {
   "cell_type": "code",
   "execution_count": 8,
   "id": "88f0323d",
   "metadata": {
    "ExecuteTime": {
     "end_time": "2023-03-30T07:02:47.836428Z",
     "start_time": "2023-03-30T07:02:47.817491Z"
    }
   },
   "outputs": [
    {
     "data": {
      "text/plain": [
       "(7000, 7)"
      ]
     },
     "execution_count": 8,
     "metadata": {},
     "output_type": "execute_result"
    }
   ],
   "source": [
    "np.shape(coefvarftrain)"
   ]
  },
  {
   "cell_type": "markdown",
   "id": "c89d3216",
   "metadata": {},
   "source": [
    "## Datos de prueba"
   ]
  },
  {
   "cell_type": "markdown",
   "id": "df843cea",
   "metadata": {},
   "source": [
    "### Datos"
   ]
  },
  {
   "cell_type": "code",
   "execution_count": 9,
   "id": "74030537",
   "metadata": {
    "ExecuteTime": {
     "end_time": "2023-03-30T07:02:48.338462Z",
     "start_time": "2023-03-30T07:02:48.318528Z"
    }
   },
   "outputs": [],
   "source": [
    "varftest = np.load(path + '/varftest.npy')"
   ]
  },
  {
   "cell_type": "code",
   "execution_count": 10,
   "id": "d6196850",
   "metadata": {
    "ExecuteTime": {
     "end_time": "2023-03-30T07:02:48.507987Z",
     "start_time": "2023-03-30T07:02:48.494527Z"
    }
   },
   "outputs": [
    {
     "data": {
      "text/plain": [
       "(2000, 10, 2, 50)"
      ]
     },
     "execution_count": 10,
     "metadata": {},
     "output_type": "execute_result"
    }
   ],
   "source": [
    "np.shape(varftest)"
   ]
  },
  {
   "cell_type": "markdown",
   "id": "46a3e36d",
   "metadata": {},
   "source": [
    "### Coeficientes"
   ]
  },
  {
   "cell_type": "code",
   "execution_count": 11,
   "id": "cf22c486",
   "metadata": {
    "ExecuteTime": {
     "end_time": "2023-03-30T07:02:48.836440Z",
     "start_time": "2023-03-30T07:02:48.821490Z"
    }
   },
   "outputs": [],
   "source": [
    "coefvarftest = np.load(path + '/coefvarftest.npy')"
   ]
  },
  {
   "cell_type": "code",
   "execution_count": 12,
   "id": "545559ea",
   "metadata": {
    "ExecuteTime": {
     "end_time": "2023-03-30T07:02:48.993418Z",
     "start_time": "2023-03-30T07:02:48.986441Z"
    }
   },
   "outputs": [
    {
     "data": {
      "text/plain": [
       "(2000, 7)"
      ]
     },
     "execution_count": 12,
     "metadata": {},
     "output_type": "execute_result"
    }
   ],
   "source": [
    "np.shape(coefvarftest)"
   ]
  },
  {
   "cell_type": "markdown",
   "id": "63024745",
   "metadata": {},
   "source": [
    "## Datos de validación"
   ]
  },
  {
   "cell_type": "markdown",
   "id": "9e38f1d7",
   "metadata": {},
   "source": [
    "### Datos"
   ]
  },
  {
   "cell_type": "code",
   "execution_count": 13,
   "id": "6e5768b7",
   "metadata": {
    "ExecuteTime": {
     "end_time": "2023-03-30T07:02:49.492434Z",
     "start_time": "2023-03-30T07:02:49.481468Z"
    }
   },
   "outputs": [],
   "source": [
    "varfval = np.load(path + '/varfval.npy')"
   ]
  },
  {
   "cell_type": "code",
   "execution_count": 14,
   "id": "a29f5ec0",
   "metadata": {
    "ExecuteTime": {
     "end_time": "2023-03-30T07:02:49.663402Z",
     "start_time": "2023-03-30T07:02:49.647455Z"
    }
   },
   "outputs": [
    {
     "data": {
      "text/plain": [
       "(1000, 10, 2, 50)"
      ]
     },
     "execution_count": 14,
     "metadata": {},
     "output_type": "execute_result"
    }
   ],
   "source": [
    "np.shape(varfval)"
   ]
  },
  {
   "cell_type": "markdown",
   "id": "ffc618a2",
   "metadata": {},
   "source": [
    "### Coeficienes"
   ]
  },
  {
   "cell_type": "code",
   "execution_count": 15,
   "id": "b323751c",
   "metadata": {
    "ExecuteTime": {
     "end_time": "2023-03-30T07:02:50.005800Z",
     "start_time": "2023-03-30T07:02:49.992341Z"
    }
   },
   "outputs": [],
   "source": [
    "coefvarfval = np.load(path + '/coefvarfval.npy')"
   ]
  },
  {
   "cell_type": "code",
   "execution_count": 16,
   "id": "60df7d7d",
   "metadata": {
    "ExecuteTime": {
     "end_time": "2023-03-30T07:02:50.162218Z",
     "start_time": "2023-03-30T07:02:50.158231Z"
    }
   },
   "outputs": [
    {
     "data": {
      "text/plain": [
       "(1000, 7)"
      ]
     },
     "execution_count": 16,
     "metadata": {},
     "output_type": "execute_result"
    }
   ],
   "source": [
    "np.shape(coefvarfval)"
   ]
  },
  {
   "cell_type": "markdown",
   "id": "e069562d",
   "metadata": {},
   "source": [
    "# Unimos coeficientes con los datos"
   ]
  },
  {
   "cell_type": "code",
   "execution_count": 17,
   "id": "a973df40",
   "metadata": {
    "ExecuteTime": {
     "end_time": "2023-03-30T07:02:50.587401Z",
     "start_time": "2023-03-30T07:02:50.495537Z"
    }
   },
   "outputs": [],
   "source": [
    "train_dataset = tf.data.Dataset.from_tensor_slices((varftrain, coefvarftrain))\n",
    "test_dataset = tf.data.Dataset.from_tensor_slices((varftest, coefvarftest))\n",
    "val_dataset = tf.data.Dataset.from_tensor_slices((varfval, coefvarfval))"
   ]
  },
  {
   "cell_type": "code",
   "execution_count": 18,
   "id": "bc7ee207",
   "metadata": {
    "ExecuteTime": {
     "end_time": "2023-03-30T07:02:50.648391Z",
     "start_time": "2023-03-30T07:02:50.633442Z"
    }
   },
   "outputs": [
    {
     "data": {
      "text/plain": [
       "<TensorSliceDataset element_spec=(TensorSpec(shape=(10, 2, 50), dtype=tf.float64, name=None), TensorSpec(shape=(7,), dtype=tf.int32, name=None))>"
      ]
     },
     "execution_count": 18,
     "metadata": {},
     "output_type": "execute_result"
    }
   ],
   "source": [
    "train_dataset"
   ]
  },
  {
   "cell_type": "markdown",
   "id": "05ebcd40",
   "metadata": {
    "ExecuteTime": {
     "end_time": "2023-02-07T19:36:45.065835Z",
     "start_time": "2023-02-07T19:36:45.042683Z"
    }
   },
   "source": [
    "# Mezclar y procesar por lotes los conjuntos de datos"
   ]
  },
  {
   "cell_type": "code",
   "execution_count": 19,
   "id": "eca4c6bc",
   "metadata": {
    "ExecuteTime": {
     "end_time": "2023-03-30T07:02:50.990335Z",
     "start_time": "2023-03-30T07:02:50.976379Z"
    }
   },
   "outputs": [],
   "source": [
    "BATCH_SIZE = 100\n",
    "SHUFFLE_BUFFER_SIZE = 100\n",
    "\n",
    "train_dataset = train_dataset.shuffle(SHUFFLE_BUFFER_SIZE).batch(BATCH_SIZE)\n",
    "test_dataset = test_dataset.batch(BATCH_SIZE)\n",
    "val_dataset = val_dataset.batch(BATCH_SIZE)"
   ]
  },
  {
   "cell_type": "markdown",
   "id": "76914f6c",
   "metadata": {},
   "source": [
    "# Creación del modelo"
   ]
  },
  {
   "cell_type": "code",
   "execution_count": 21,
   "id": "e4f113f9",
   "metadata": {
    "ExecuteTime": {
     "end_time": "2023-03-30T07:02:51.953613Z",
     "start_time": "2023-03-30T07:02:51.880525Z"
    }
   },
   "outputs": [],
   "source": [
    "#model = Sequential()\n",
    "\n",
    "model = tf.keras.Sequential([\n",
    "    tf.keras.layers.Flatten(input_shape=(10,2,50)),\n",
    "    tf.keras.layers.BatchNormalization(),\n",
    "    tf.keras.layers.Dense(128, activation='relu'),\n",
    "    tf.keras.layers.Dense(64, activation='relu'),\n",
    "    tf.keras.layers.Dense(128, activation='relu'),\n",
    "    tf.keras.layers.Dense(64, activation='relu'),\n",
    "    tf.keras.layers.Dropout(0.2),\n",
    "    tf.keras.layers.BatchNormalization(),\n",
    "    tf.keras.layers.Dense(7)\n",
    "])\n"
   ]
  },
  {
   "cell_type": "code",
   "execution_count": 22,
   "id": "45fd641f",
   "metadata": {
    "ExecuteTime": {
     "end_time": "2023-03-30T07:02:52.123759Z",
     "start_time": "2023-03-30T07:02:52.104823Z"
    }
   },
   "outputs": [
    {
     "name": "stdout",
     "output_type": "stream",
     "text": [
      "Model: \"sequential\"\n",
      "_________________________________________________________________\n",
      " Layer (type)                Output Shape              Param #   \n",
      "=================================================================\n",
      " flatten (Flatten)           (None, 1000)              0         \n",
      "                                                                 \n",
      " batch_normalization (BatchN  (None, 1000)             4000      \n",
      " ormalization)                                                   \n",
      "                                                                 \n",
      " dense (Dense)               (None, 128)               128128    \n",
      "                                                                 \n",
      " dense_1 (Dense)             (None, 64)                8256      \n",
      "                                                                 \n",
      " dense_2 (Dense)             (None, 128)               8320      \n",
      "                                                                 \n",
      " dense_3 (Dense)             (None, 64)                8256      \n",
      "                                                                 \n",
      " dropout (Dropout)           (None, 64)                0         \n",
      "                                                                 \n",
      " batch_normalization_1 (Batc  (None, 64)               256       \n",
      " hNormalization)                                                 \n",
      "                                                                 \n",
      " dense_4 (Dense)             (None, 7)                 455       \n",
      "                                                                 \n",
      "=================================================================\n",
      "Total params: 157,671\n",
      "Trainable params: 155,543\n",
      "Non-trainable params: 2,128\n",
      "_________________________________________________________________\n"
     ]
    }
   ],
   "source": [
    "model.summary()"
   ]
  },
  {
   "cell_type": "markdown",
   "id": "b761554a",
   "metadata": {},
   "source": [
    "# Entrenamos el modelo"
   ]
  },
  {
   "cell_type": "code",
   "execution_count": 23,
   "id": "4316785f",
   "metadata": {
    "ExecuteTime": {
     "end_time": "2023-03-30T07:02:52.573361Z",
     "start_time": "2023-03-30T07:02:52.564391Z"
    }
   },
   "outputs": [],
   "source": [
    "model.compile(optimizer='adam',\n",
    "              loss='MSE',\n",
    "              metrics=['mae'])"
   ]
  },
  {
   "cell_type": "code",
   "execution_count": 24,
   "id": "d1303e8d",
   "metadata": {
    "ExecuteTime": {
     "end_time": "2023-03-30T07:02:52.774661Z",
     "start_time": "2023-03-30T07:02:52.769678Z"
    }
   },
   "outputs": [],
   "source": [
    "def scheduler(epoch, lr):\n",
    "  if epoch < 250:\n",
    "    return lr\n",
    "  else:\n",
    "    return 1e-3 * 0.99 ** epoch"
   ]
  },
  {
   "cell_type": "code",
   "execution_count": 25,
   "id": "88d710c6",
   "metadata": {
    "ExecuteTime": {
     "end_time": "2023-03-30T07:05:58.159456Z",
     "start_time": "2023-03-30T07:02:52.993519Z"
    }
   },
   "outputs": [
    {
     "name": "stdout",
     "output_type": "stream",
     "text": [
      "Epoch 1/507\n",
      "70/70 [==============================] - 1s 6ms/step - loss: 28.4138 - mae: 4.5219 - val_loss: 23.8738 - val_mae: 4.0706 - lr: 0.0010\n",
      "Epoch 2/507\n",
      "70/70 [==============================] - 0s 5ms/step - loss: 21.6224 - mae: 3.8911 - val_loss: 13.2963 - val_mae: 2.9662 - lr: 0.0010\n",
      "Epoch 3/507\n",
      "70/70 [==============================] - 0s 5ms/step - loss: 12.5701 - mae: 2.8498 - val_loss: 9.7779 - val_mae: 2.5167 - lr: 0.0010\n",
      "Epoch 4/507\n",
      "70/70 [==============================] - 0s 5ms/step - loss: 7.7336 - mae: 2.2456 - val_loss: 6.8406 - val_mae: 2.1319 - lr: 0.0010\n",
      "Epoch 5/507\n",
      "70/70 [==============================] - 0s 5ms/step - loss: 6.9572 - mae: 2.1387 - val_loss: 6.5221 - val_mae: 2.0863 - lr: 0.0010\n",
      "Epoch 6/507\n",
      "70/70 [==============================] - 0s 5ms/step - loss: 6.8124 - mae: 2.1180 - val_loss: 6.5649 - val_mae: 2.0747 - lr: 0.0010\n",
      "Epoch 7/507\n",
      "70/70 [==============================] - 0s 5ms/step - loss: 6.6587 - mae: 2.0900 - val_loss: 6.1380 - val_mae: 2.0183 - lr: 0.0010\n",
      "Epoch 8/507\n",
      "70/70 [==============================] - 0s 5ms/step - loss: 6.5828 - mae: 2.0780 - val_loss: 6.2576 - val_mae: 2.0423 - lr: 0.0010\n",
      "Epoch 9/507\n",
      "70/70 [==============================] - 0s 5ms/step - loss: 6.4887 - mae: 2.0594 - val_loss: 6.0447 - val_mae: 1.9819 - lr: 0.0010\n",
      "Epoch 10/507\n",
      "70/70 [==============================] - 0s 5ms/step - loss: 6.4641 - mae: 2.0563 - val_loss: 6.1063 - val_mae: 1.9881 - lr: 0.0010\n",
      "Epoch 11/507\n",
      "70/70 [==============================] - 0s 5ms/step - loss: 6.4224 - mae: 2.0493 - val_loss: 6.0301 - val_mae: 1.9898 - lr: 0.0010\n",
      "Epoch 12/507\n",
      "70/70 [==============================] - 0s 5ms/step - loss: 6.3358 - mae: 2.0346 - val_loss: 5.9306 - val_mae: 1.9651 - lr: 0.0010\n",
      "Epoch 13/507\n",
      "70/70 [==============================] - 0s 6ms/step - loss: 6.2861 - mae: 2.0271 - val_loss: 5.9161 - val_mae: 1.9653 - lr: 0.0010\n",
      "Epoch 14/507\n",
      "70/70 [==============================] - 0s 5ms/step - loss: 6.2112 - mae: 2.0136 - val_loss: 5.8431 - val_mae: 1.9509 - lr: 0.0010\n",
      "Epoch 15/507\n",
      "70/70 [==============================] - 0s 5ms/step - loss: 6.2724 - mae: 2.0248 - val_loss: 6.2045 - val_mae: 2.0235 - lr: 0.0010\n",
      "Epoch 16/507\n",
      "70/70 [==============================] - 0s 5ms/step - loss: 6.2585 - mae: 2.0227 - val_loss: 6.0556 - val_mae: 1.9592 - lr: 0.0010\n",
      "Epoch 17/507\n",
      "70/70 [==============================] - 0s 5ms/step - loss: 6.2587 - mae: 2.0243 - val_loss: 5.9621 - val_mae: 1.9659 - lr: 0.0010\n",
      "Epoch 18/507\n",
      "70/70 [==============================] - 0s 5ms/step - loss: 6.1975 - mae: 2.0130 - val_loss: 5.9608 - val_mae: 1.9764 - lr: 0.0010\n",
      "Epoch 19/507\n",
      "70/70 [==============================] - 0s 5ms/step - loss: 6.1486 - mae: 2.0040 - val_loss: 5.9914 - val_mae: 1.9898 - lr: 0.0010\n",
      "Epoch 20/507\n",
      "70/70 [==============================] - 0s 5ms/step - loss: 6.1382 - mae: 2.0020 - val_loss: 5.8279 - val_mae: 1.9379 - lr: 0.0010\n",
      "Epoch 21/507\n",
      "70/70 [==============================] - 0s 5ms/step - loss: 6.1633 - mae: 2.0068 - val_loss: 5.7802 - val_mae: 1.9372 - lr: 0.0010\n",
      "Epoch 22/507\n",
      "70/70 [==============================] - 0s 5ms/step - loss: 6.1046 - mae: 1.9960 - val_loss: 6.0094 - val_mae: 1.9903 - lr: 0.0010\n",
      "Epoch 23/507\n",
      "70/70 [==============================] - 0s 5ms/step - loss: 6.0932 - mae: 1.9936 - val_loss: 5.8179 - val_mae: 1.9479 - lr: 0.0010\n",
      "Epoch 24/507\n",
      "70/70 [==============================] - 0s 5ms/step - loss: 6.0898 - mae: 1.9909 - val_loss: 5.8454 - val_mae: 1.9509 - lr: 0.0010\n",
      "Epoch 25/507\n",
      "70/70 [==============================] - 0s 5ms/step - loss: 6.0313 - mae: 1.9812 - val_loss: 6.5884 - val_mae: 2.0704 - lr: 0.0010\n",
      "Epoch 26/507\n",
      "70/70 [==============================] - 0s 5ms/step - loss: 6.0321 - mae: 1.9794 - val_loss: 5.8958 - val_mae: 1.9649 - lr: 0.0010\n",
      "Epoch 27/507\n",
      "70/70 [==============================] - 0s 6ms/step - loss: 6.0320 - mae: 1.9828 - val_loss: 5.8193 - val_mae: 1.9567 - lr: 0.0010\n",
      "Epoch 28/507\n",
      "70/70 [==============================] - 0s 5ms/step - loss: 5.9817 - mae: 1.9735 - val_loss: 5.8220 - val_mae: 1.9498 - lr: 0.0010\n",
      "Epoch 29/507\n",
      "70/70 [==============================] - 0s 5ms/step - loss: 6.0058 - mae: 1.9773 - val_loss: 5.6723 - val_mae: 1.9078 - lr: 0.0010\n",
      "Epoch 30/507\n",
      "70/70 [==============================] - 0s 5ms/step - loss: 6.0355 - mae: 1.9830 - val_loss: 7.0411 - val_mae: 2.0529 - lr: 0.0010\n",
      "Epoch 31/507\n",
      "70/70 [==============================] - 0s 6ms/step - loss: 6.1106 - mae: 2.0004 - val_loss: 6.0470 - val_mae: 1.9716 - lr: 0.0010\n",
      "Epoch 32/507\n",
      "70/70 [==============================] - 0s 5ms/step - loss: 6.0072 - mae: 1.9798 - val_loss: 5.8806 - val_mae: 1.9475 - lr: 0.0010\n",
      "Epoch 33/507\n",
      "70/70 [==============================] - 0s 5ms/step - loss: 5.9874 - mae: 1.9747 - val_loss: 5.7458 - val_mae: 1.9207 - lr: 0.0010\n",
      "Epoch 34/507\n",
      "70/70 [==============================] - 0s 5ms/step - loss: 5.8927 - mae: 1.9548 - val_loss: 5.6806 - val_mae: 1.9237 - lr: 0.0010\n",
      "Epoch 35/507\n",
      "70/70 [==============================] - 0s 5ms/step - loss: 5.9878 - mae: 1.9738 - val_loss: 5.7662 - val_mae: 1.9353 - lr: 0.0010\n",
      "Epoch 36/507\n",
      "70/70 [==============================] - 0s 5ms/step - loss: 5.9331 - mae: 1.9635 - val_loss: 5.6217 - val_mae: 1.9027 - lr: 0.0010\n",
      "Epoch 37/507\n",
      "70/70 [==============================] - 0s 5ms/step - loss: 5.8368 - mae: 1.9441 - val_loss: 5.6976 - val_mae: 1.9129 - lr: 0.0010\n",
      "Epoch 38/507\n",
      "70/70 [==============================] - 0s 5ms/step - loss: 5.8439 - mae: 1.9459 - val_loss: 5.6057 - val_mae: 1.9096 - lr: 0.0010\n",
      "Epoch 39/507\n",
      "70/70 [==============================] - 0s 6ms/step - loss: 5.8284 - mae: 1.9450 - val_loss: 5.5557 - val_mae: 1.8918 - lr: 0.0010\n",
      "Epoch 40/507\n",
      "70/70 [==============================] - 0s 5ms/step - loss: 5.7842 - mae: 1.9350 - val_loss: 5.5587 - val_mae: 1.8929 - lr: 0.0010\n",
      "Epoch 41/507\n",
      "70/70 [==============================] - 0s 5ms/step - loss: 5.7927 - mae: 1.9368 - val_loss: 5.5617 - val_mae: 1.8895 - lr: 0.0010\n",
      "Epoch 42/507\n",
      "70/70 [==============================] - 0s 5ms/step - loss: 5.7904 - mae: 1.9367 - val_loss: 5.5378 - val_mae: 1.8948 - lr: 0.0010\n",
      "Epoch 43/507\n",
      "70/70 [==============================] - 0s 6ms/step - loss: 5.7546 - mae: 1.9266 - val_loss: 5.5304 - val_mae: 1.8904 - lr: 0.0010\n",
      "Epoch 44/507\n",
      "70/70 [==============================] - 0s 5ms/step - loss: 5.6977 - mae: 1.9150 - val_loss: 5.5704 - val_mae: 1.9015 - lr: 0.0010\n",
      "Epoch 45/507\n",
      "70/70 [==============================] - 0s 6ms/step - loss: 5.6556 - mae: 1.9067 - val_loss: 5.4591 - val_mae: 1.8719 - lr: 0.0010\n",
      "Epoch 46/507\n",
      "70/70 [==============================] - 0s 5ms/step - loss: 5.6815 - mae: 1.9131 - val_loss: 5.2403 - val_mae: 1.8153 - lr: 0.0010\n",
      "Epoch 47/507\n",
      "70/70 [==============================] - 0s 5ms/step - loss: 5.6224 - mae: 1.8983 - val_loss: 5.3299 - val_mae: 1.8418 - lr: 0.0010\n",
      "Epoch 48/507\n",
      "70/70 [==============================] - 0s 6ms/step - loss: 5.6573 - mae: 1.9058 - val_loss: 5.5253 - val_mae: 1.8964 - lr: 0.0010\n",
      "Epoch 49/507\n",
      "70/70 [==============================] - 0s 5ms/step - loss: 5.7188 - mae: 1.9201 - val_loss: 5.4866 - val_mae: 1.8515 - lr: 0.0010\n",
      "Epoch 50/507\n",
      "70/70 [==============================] - 0s 6ms/step - loss: 5.6693 - mae: 1.9110 - val_loss: 5.2316 - val_mae: 1.8164 - lr: 0.0010\n",
      "Epoch 51/507\n",
      "70/70 [==============================] - 0s 5ms/step - loss: 5.6104 - mae: 1.8999 - val_loss: 5.4710 - val_mae: 1.8588 - lr: 0.0010\n",
      "Epoch 52/507\n",
      "70/70 [==============================] - 0s 6ms/step - loss: 5.6200 - mae: 1.8991 - val_loss: 5.2107 - val_mae: 1.8124 - lr: 0.0010\n",
      "Epoch 53/507\n",
      "70/70 [==============================] - 0s 5ms/step - loss: 5.5918 - mae: 1.8932 - val_loss: 5.6609 - val_mae: 1.9023 - lr: 0.0010\n",
      "Epoch 54/507\n",
      "70/70 [==============================] - 0s 5ms/step - loss: 5.6149 - mae: 1.8985 - val_loss: 5.8442 - val_mae: 1.9205 - lr: 0.0010\n",
      "Epoch 55/507\n",
      "70/70 [==============================] - 0s 5ms/step - loss: 5.6008 - mae: 1.8952 - val_loss: 5.1981 - val_mae: 1.8094 - lr: 0.0010\n",
      "Epoch 56/507\n",
      "70/70 [==============================] - 0s 6ms/step - loss: 5.5313 - mae: 1.8805 - val_loss: 5.1502 - val_mae: 1.8006 - lr: 0.0010\n",
      "Epoch 57/507\n",
      "70/70 [==============================] - 0s 5ms/step - loss: 5.5527 - mae: 1.8820 - val_loss: 5.1723 - val_mae: 1.8008 - lr: 0.0010\n",
      "Epoch 58/507\n",
      "70/70 [==============================] - 0s 5ms/step - loss: 5.5685 - mae: 1.8869 - val_loss: 5.1398 - val_mae: 1.7833 - lr: 0.0010\n",
      "Epoch 59/507\n",
      "70/70 [==============================] - 0s 5ms/step - loss: 5.5320 - mae: 1.8786 - val_loss: 5.1227 - val_mae: 1.7844 - lr: 0.0010\n",
      "Epoch 60/507\n",
      "70/70 [==============================] - 0s 5ms/step - loss: 5.5147 - mae: 1.8784 - val_loss: 5.2250 - val_mae: 1.8095 - lr: 0.0010\n",
      "Epoch 61/507\n",
      "70/70 [==============================] - 0s 5ms/step - loss: 5.5173 - mae: 1.8755 - val_loss: 5.1028 - val_mae: 1.7869 - lr: 0.0010\n",
      "Epoch 62/507\n",
      "70/70 [==============================] - 0s 5ms/step - loss: 5.4430 - mae: 1.8604 - val_loss: 5.0745 - val_mae: 1.7782 - lr: 0.0010\n",
      "Epoch 63/507\n",
      "70/70 [==============================] - 0s 5ms/step - loss: 5.4625 - mae: 1.8629 - val_loss: 5.3101 - val_mae: 1.8309 - lr: 0.0010\n",
      "Epoch 64/507\n",
      "70/70 [==============================] - 0s 5ms/step - loss: 5.5468 - mae: 1.8808 - val_loss: 5.0735 - val_mae: 1.7694 - lr: 0.0010\n",
      "Epoch 65/507\n",
      "70/70 [==============================] - 0s 5ms/step - loss: 5.4835 - mae: 1.8691 - val_loss: 5.0744 - val_mae: 1.7702 - lr: 0.0010\n",
      "Epoch 66/507\n",
      "70/70 [==============================] - 0s 5ms/step - loss: 5.5206 - mae: 1.8765 - val_loss: 5.0811 - val_mae: 1.7727 - lr: 0.0010\n",
      "Epoch 67/507\n",
      "70/70 [==============================] - 0s 5ms/step - loss: 5.4426 - mae: 1.8585 - val_loss: 5.1439 - val_mae: 1.7872 - lr: 0.0010\n",
      "Epoch 68/507\n",
      "70/70 [==============================] - 0s 6ms/step - loss: 5.4466 - mae: 1.8594 - val_loss: 5.0270 - val_mae: 1.7612 - lr: 0.0010\n",
      "Epoch 69/507\n",
      "70/70 [==============================] - 0s 6ms/step - loss: 5.3729 - mae: 1.8439 - val_loss: 5.2776 - val_mae: 1.8194 - lr: 0.0010\n",
      "Epoch 70/507\n",
      "70/70 [==============================] - 0s 5ms/step - loss: 5.3878 - mae: 1.8443 - val_loss: 5.2181 - val_mae: 1.7982 - lr: 0.0010\n",
      "Epoch 71/507\n",
      "70/70 [==============================] - 0s 5ms/step - loss: 5.3862 - mae: 1.8453 - val_loss: 5.0729 - val_mae: 1.7725 - lr: 0.0010\n",
      "Epoch 72/507\n",
      "70/70 [==============================] - 0s 5ms/step - loss: 5.4118 - mae: 1.8504 - val_loss: 5.0976 - val_mae: 1.7764 - lr: 0.0010\n",
      "Epoch 73/507\n",
      "70/70 [==============================] - 0s 5ms/step - loss: 5.3937 - mae: 1.8473 - val_loss: 4.9842 - val_mae: 1.7521 - lr: 0.0010\n",
      "Epoch 74/507\n",
      "70/70 [==============================] - 0s 5ms/step - loss: 5.3187 - mae: 1.8324 - val_loss: 5.0205 - val_mae: 1.7597 - lr: 0.0010\n",
      "Epoch 75/507\n",
      "70/70 [==============================] - 0s 6ms/step - loss: 5.3519 - mae: 1.8381 - val_loss: 5.0716 - val_mae: 1.7751 - lr: 0.0010\n",
      "Epoch 76/507\n",
      "70/70 [==============================] - 0s 5ms/step - loss: 5.3407 - mae: 1.8354 - val_loss: 5.1754 - val_mae: 1.7936 - lr: 0.0010\n",
      "Epoch 77/507\n",
      "70/70 [==============================] - 0s 5ms/step - loss: 5.3322 - mae: 1.8330 - val_loss: 4.9626 - val_mae: 1.7412 - lr: 0.0010\n",
      "Epoch 78/507\n",
      "70/70 [==============================] - 0s 5ms/step - loss: 5.3420 - mae: 1.8384 - val_loss: 4.9462 - val_mae: 1.7353 - lr: 0.0010\n",
      "Epoch 79/507\n",
      "70/70 [==============================] - 0s 5ms/step - loss: 5.3698 - mae: 1.8419 - val_loss: 5.2333 - val_mae: 1.8074 - lr: 0.0010\n",
      "Epoch 80/507\n",
      "70/70 [==============================] - 0s 5ms/step - loss: 5.3685 - mae: 1.8401 - val_loss: 5.5536 - val_mae: 1.8632 - lr: 0.0010\n",
      "Epoch 81/507\n",
      "70/70 [==============================] - 0s 5ms/step - loss: 5.3743 - mae: 1.8455 - val_loss: 4.9899 - val_mae: 1.7543 - lr: 0.0010\n",
      "Epoch 82/507\n",
      "70/70 [==============================] - 0s 5ms/step - loss: 5.3525 - mae: 1.8392 - val_loss: 5.1330 - val_mae: 1.7874 - lr: 0.0010\n",
      "Epoch 83/507\n",
      "70/70 [==============================] - 0s 5ms/step - loss: 5.2934 - mae: 1.8258 - val_loss: 5.1438 - val_mae: 1.7814 - lr: 0.0010\n",
      "Epoch 84/507\n",
      "70/70 [==============================] - 0s 6ms/step - loss: 5.3627 - mae: 1.8395 - val_loss: 5.0320 - val_mae: 1.7554 - lr: 0.0010\n",
      "Epoch 85/507\n",
      "70/70 [==============================] - 0s 5ms/step - loss: 5.3153 - mae: 1.8297 - val_loss: 4.9852 - val_mae: 1.7501 - lr: 0.0010\n",
      "Epoch 86/507\n",
      "70/70 [==============================] - 0s 5ms/step - loss: 5.2817 - mae: 1.8233 - val_loss: 5.3503 - val_mae: 1.8126 - lr: 0.0010\n",
      "Epoch 87/507\n",
      "70/70 [==============================] - 0s 5ms/step - loss: 5.3524 - mae: 1.8364 - val_loss: 5.0396 - val_mae: 1.7528 - lr: 0.0010\n",
      "Epoch 88/507\n",
      "70/70 [==============================] - 0s 5ms/step - loss: 5.2567 - mae: 1.8172 - val_loss: 4.9909 - val_mae: 1.7451 - lr: 0.0010\n",
      "Epoch 89/507\n",
      "70/70 [==============================] - 0s 5ms/step - loss: 5.2364 - mae: 1.8124 - val_loss: 5.2035 - val_mae: 1.7989 - lr: 0.0010\n",
      "Epoch 90/507\n",
      "70/70 [==============================] - 0s 6ms/step - loss: 5.3149 - mae: 1.8305 - val_loss: 5.0114 - val_mae: 1.7518 - lr: 0.0010\n",
      "Epoch 91/507\n",
      "70/70 [==============================] - 0s 5ms/step - loss: 5.2617 - mae: 1.8186 - val_loss: 4.9850 - val_mae: 1.7406 - lr: 0.0010\n",
      "Epoch 92/507\n",
      "70/70 [==============================] - 0s 5ms/step - loss: 5.2696 - mae: 1.8194 - val_loss: 4.9795 - val_mae: 1.7439 - lr: 0.0010\n",
      "Epoch 93/507\n",
      "70/70 [==============================] - 0s 5ms/step - loss: 5.2248 - mae: 1.8081 - val_loss: 4.9488 - val_mae: 1.7374 - lr: 0.0010\n",
      "Epoch 94/507\n",
      "70/70 [==============================] - 0s 5ms/step - loss: 5.2350 - mae: 1.8097 - val_loss: 4.9746 - val_mae: 1.7458 - lr: 0.0010\n",
      "Epoch 95/507\n",
      "70/70 [==============================] - 0s 5ms/step - loss: 5.1899 - mae: 1.8042 - val_loss: 4.9956 - val_mae: 1.7450 - lr: 0.0010\n",
      "Epoch 96/507\n",
      "70/70 [==============================] - 0s 5ms/step - loss: 5.2474 - mae: 1.8169 - val_loss: 4.9446 - val_mae: 1.7476 - lr: 0.0010\n",
      "Epoch 97/507\n",
      "70/70 [==============================] - 0s 5ms/step - loss: 5.2322 - mae: 1.8116 - val_loss: 4.9773 - val_mae: 1.7491 - lr: 0.0010\n",
      "Epoch 98/507\n",
      "70/70 [==============================] - 0s 5ms/step - loss: 5.1887 - mae: 1.8029 - val_loss: 4.9621 - val_mae: 1.7482 - lr: 0.0010\n",
      "Epoch 99/507\n",
      "70/70 [==============================] - 0s 5ms/step - loss: 5.2089 - mae: 1.8066 - val_loss: 4.9239 - val_mae: 1.7404 - lr: 0.0010\n",
      "Epoch 100/507\n",
      "70/70 [==============================] - 0s 5ms/step - loss: 5.1699 - mae: 1.7954 - val_loss: 4.9700 - val_mae: 1.7381 - lr: 0.0010\n",
      "Epoch 101/507\n",
      "70/70 [==============================] - 0s 5ms/step - loss: 5.1978 - mae: 1.8027 - val_loss: 4.8997 - val_mae: 1.7249 - lr: 0.0010\n",
      "Epoch 102/507\n",
      "70/70 [==============================] - 0s 5ms/step - loss: 5.1756 - mae: 1.8007 - val_loss: 4.9951 - val_mae: 1.7481 - lr: 0.0010\n",
      "Epoch 103/507\n",
      "70/70 [==============================] - 0s 5ms/step - loss: 5.1999 - mae: 1.8062 - val_loss: 5.0206 - val_mae: 1.7543 - lr: 0.0010\n",
      "Epoch 104/507\n",
      "70/70 [==============================] - 0s 5ms/step - loss: 5.1175 - mae: 1.7880 - val_loss: 4.9061 - val_mae: 1.7274 - lr: 0.0010\n",
      "Epoch 105/507\n",
      "70/70 [==============================] - 0s 5ms/step - loss: 5.1677 - mae: 1.7984 - val_loss: 4.9922 - val_mae: 1.7386 - lr: 0.0010\n",
      "Epoch 106/507\n",
      "70/70 [==============================] - 0s 5ms/step - loss: 5.1898 - mae: 1.8036 - val_loss: 4.9247 - val_mae: 1.7341 - lr: 0.0010\n",
      "Epoch 107/507\n",
      "70/70 [==============================] - 0s 5ms/step - loss: 5.1312 - mae: 1.7881 - val_loss: 5.1573 - val_mae: 1.7826 - lr: 0.0010\n",
      "Epoch 108/507\n",
      "70/70 [==============================] - 0s 5ms/step - loss: 5.1867 - mae: 1.8004 - val_loss: 4.9349 - val_mae: 1.7333 - lr: 0.0010\n",
      "Epoch 109/507\n",
      "70/70 [==============================] - 0s 5ms/step - loss: 5.1348 - mae: 1.7914 - val_loss: 4.9843 - val_mae: 1.7440 - lr: 0.0010\n",
      "Epoch 110/507\n",
      "70/70 [==============================] - 0s 5ms/step - loss: 5.1661 - mae: 1.7978 - val_loss: 4.9354 - val_mae: 1.7341 - lr: 0.0010\n",
      "Epoch 111/507\n",
      "70/70 [==============================] - 0s 5ms/step - loss: 5.1864 - mae: 1.8030 - val_loss: 4.9737 - val_mae: 1.7389 - lr: 0.0010\n",
      "Epoch 112/507\n",
      "70/70 [==============================] - 0s 6ms/step - loss: 5.1312 - mae: 1.7897 - val_loss: 4.9490 - val_mae: 1.7318 - lr: 0.0010\n",
      "Epoch 113/507\n"
     ]
    },
    {
     "name": "stdout",
     "output_type": "stream",
     "text": [
      "70/70 [==============================] - 0s 6ms/step - loss: 5.1149 - mae: 1.7841 - val_loss: 5.0740 - val_mae: 1.7690 - lr: 0.0010\n",
      "Epoch 114/507\n",
      "70/70 [==============================] - 0s 6ms/step - loss: 5.1629 - mae: 1.7973 - val_loss: 4.9584 - val_mae: 1.7317 - lr: 0.0010\n",
      "Epoch 115/507\n",
      "70/70 [==============================] - 0s 6ms/step - loss: 5.0824 - mae: 1.7783 - val_loss: 4.9065 - val_mae: 1.7234 - lr: 0.0010\n",
      "Epoch 116/507\n",
      "70/70 [==============================] - 0s 5ms/step - loss: 5.0504 - mae: 1.7729 - val_loss: 4.9283 - val_mae: 1.7355 - lr: 0.0010\n",
      "Epoch 117/507\n",
      "70/70 [==============================] - 0s 6ms/step - loss: 5.0884 - mae: 1.7806 - val_loss: 4.9892 - val_mae: 1.7478 - lr: 0.0010\n",
      "Epoch 118/507\n",
      "70/70 [==============================] - 0s 6ms/step - loss: 5.0787 - mae: 1.7790 - val_loss: 4.9539 - val_mae: 1.7431 - lr: 0.0010\n",
      "Epoch 119/507\n",
      "70/70 [==============================] - 0s 5ms/step - loss: 5.1241 - mae: 1.7882 - val_loss: 5.0730 - val_mae: 1.7803 - lr: 0.0010\n",
      "Epoch 120/507\n",
      "70/70 [==============================] - 0s 5ms/step - loss: 5.0527 - mae: 1.7748 - val_loss: 5.0895 - val_mae: 1.7632 - lr: 0.0010\n",
      "Epoch 121/507\n",
      "70/70 [==============================] - 0s 5ms/step - loss: 5.0636 - mae: 1.7749 - val_loss: 4.9981 - val_mae: 1.7485 - lr: 0.0010\n",
      "Epoch 122/507\n",
      "70/70 [==============================] - 0s 5ms/step - loss: 5.0812 - mae: 1.7774 - val_loss: 5.1153 - val_mae: 1.7647 - lr: 0.0010\n",
      "Epoch 123/507\n",
      "70/70 [==============================] - 0s 5ms/step - loss: 5.0561 - mae: 1.7744 - val_loss: 4.9746 - val_mae: 1.7414 - lr: 0.0010\n",
      "Epoch 124/507\n",
      "70/70 [==============================] - 0s 5ms/step - loss: 5.0405 - mae: 1.7708 - val_loss: 4.9676 - val_mae: 1.7480 - lr: 0.0010\n",
      "Epoch 125/507\n",
      "70/70 [==============================] - 0s 5ms/step - loss: 5.0612 - mae: 1.7758 - val_loss: 4.9455 - val_mae: 1.7293 - lr: 0.0010\n",
      "Epoch 126/507\n",
      "70/70 [==============================] - 0s 5ms/step - loss: 4.9964 - mae: 1.7606 - val_loss: 4.9972 - val_mae: 1.7409 - lr: 0.0010\n",
      "Epoch 127/507\n",
      "70/70 [==============================] - 0s 5ms/step - loss: 5.0237 - mae: 1.7688 - val_loss: 4.9898 - val_mae: 1.7455 - lr: 0.0010\n",
      "Epoch 128/507\n",
      "70/70 [==============================] - 0s 5ms/step - loss: 5.0545 - mae: 1.7736 - val_loss: 5.2105 - val_mae: 1.7850 - lr: 0.0010\n",
      "Epoch 129/507\n",
      "70/70 [==============================] - 0s 5ms/step - loss: 5.0415 - mae: 1.7725 - val_loss: 5.0360 - val_mae: 1.7468 - lr: 0.0010\n",
      "Epoch 130/507\n",
      "70/70 [==============================] - 0s 5ms/step - loss: 5.0173 - mae: 1.7656 - val_loss: 4.9619 - val_mae: 1.7318 - lr: 0.0010\n",
      "Epoch 131/507\n",
      "70/70 [==============================] - 0s 5ms/step - loss: 4.9814 - mae: 1.7594 - val_loss: 4.9939 - val_mae: 1.7487 - lr: 0.0010\n",
      "Epoch 132/507\n",
      "70/70 [==============================] - 0s 5ms/step - loss: 4.9658 - mae: 1.7548 - val_loss: 5.0395 - val_mae: 1.7455 - lr: 0.0010\n",
      "Epoch 133/507\n",
      "70/70 [==============================] - 0s 5ms/step - loss: 4.9742 - mae: 1.7553 - val_loss: 5.0329 - val_mae: 1.7480 - lr: 0.0010\n",
      "Epoch 134/507\n",
      "70/70 [==============================] - 0s 5ms/step - loss: 4.9913 - mae: 1.7584 - val_loss: 5.0402 - val_mae: 1.7609 - lr: 0.0010\n",
      "Epoch 135/507\n",
      "70/70 [==============================] - 0s 5ms/step - loss: 4.9562 - mae: 1.7534 - val_loss: 5.0344 - val_mae: 1.7501 - lr: 0.0010\n",
      "Epoch 136/507\n",
      "70/70 [==============================] - 0s 5ms/step - loss: 4.9588 - mae: 1.7525 - val_loss: 5.0068 - val_mae: 1.7386 - lr: 0.0010\n",
      "Epoch 137/507\n",
      "70/70 [==============================] - 0s 5ms/step - loss: 4.9509 - mae: 1.7519 - val_loss: 5.0843 - val_mae: 1.7609 - lr: 0.0010\n",
      "Epoch 138/507\n",
      "70/70 [==============================] - 0s 5ms/step - loss: 4.9505 - mae: 1.7530 - val_loss: 5.0634 - val_mae: 1.7582 - lr: 0.0010\n",
      "Epoch 139/507\n",
      "70/70 [==============================] - 0s 5ms/step - loss: 4.9203 - mae: 1.7478 - val_loss: 5.0902 - val_mae: 1.7541 - lr: 0.0010\n",
      "Epoch 140/507\n",
      "70/70 [==============================] - 0s 5ms/step - loss: 4.8906 - mae: 1.7416 - val_loss: 5.0347 - val_mae: 1.7516 - lr: 0.0010\n",
      "Epoch 141/507\n",
      "70/70 [==============================] - 0s 5ms/step - loss: 4.9909 - mae: 1.7595 - val_loss: 5.0855 - val_mae: 1.7539 - lr: 0.0010\n",
      "Epoch 142/507\n",
      "70/70 [==============================] - 0s 5ms/step - loss: 4.9676 - mae: 1.7570 - val_loss: 5.0403 - val_mae: 1.7561 - lr: 0.0010\n",
      "Epoch 143/507\n",
      "70/70 [==============================] - 0s 5ms/step - loss: 5.0175 - mae: 1.7681 - val_loss: 5.1065 - val_mae: 1.7619 - lr: 0.0010\n",
      "Epoch 144/507\n",
      "70/70 [==============================] - 0s 5ms/step - loss: 4.9418 - mae: 1.7543 - val_loss: 5.0887 - val_mae: 1.7584 - lr: 0.0010\n",
      "Epoch 145/507\n",
      "70/70 [==============================] - 0s 5ms/step - loss: 4.9373 - mae: 1.7509 - val_loss: 5.0383 - val_mae: 1.7549 - lr: 0.0010\n",
      "Epoch 146/507\n",
      "70/70 [==============================] - 0s 5ms/step - loss: 4.9043 - mae: 1.7434 - val_loss: 5.0139 - val_mae: 1.7455 - lr: 0.0010\n",
      "Epoch 147/507\n",
      "70/70 [==============================] - 0s 5ms/step - loss: 4.8523 - mae: 1.7344 - val_loss: 5.1092 - val_mae: 1.7587 - lr: 0.0010\n",
      "Epoch 148/507\n",
      "70/70 [==============================] - 0s 5ms/step - loss: 4.9089 - mae: 1.7447 - val_loss: 5.0850 - val_mae: 1.7538 - lr: 0.0010\n",
      "Epoch 149/507\n",
      "70/70 [==============================] - 0s 5ms/step - loss: 4.8626 - mae: 1.7375 - val_loss: 5.0669 - val_mae: 1.7517 - lr: 0.0010\n",
      "Epoch 150/507\n",
      "70/70 [==============================] - 0s 5ms/step - loss: 4.9002 - mae: 1.7449 - val_loss: 5.1300 - val_mae: 1.7615 - lr: 0.0010\n",
      "Epoch 151/507\n",
      "70/70 [==============================] - 0s 5ms/step - loss: 4.8593 - mae: 1.7355 - val_loss: 5.1222 - val_mae: 1.7636 - lr: 0.0010\n",
      "Epoch 152/507\n",
      "70/70 [==============================] - 0s 6ms/step - loss: 4.8130 - mae: 1.7264 - val_loss: 5.0550 - val_mae: 1.7451 - lr: 0.0010\n",
      "Epoch 153/507\n",
      "70/70 [==============================] - 0s 5ms/step - loss: 4.8074 - mae: 1.7258 - val_loss: 5.0578 - val_mae: 1.7443 - lr: 0.0010\n",
      "Epoch 154/507\n",
      "70/70 [==============================] - 0s 5ms/step - loss: 4.8681 - mae: 1.7380 - val_loss: 5.1435 - val_mae: 1.7576 - lr: 0.0010\n",
      "Epoch 155/507\n",
      "70/70 [==============================] - 0s 5ms/step - loss: 4.8366 - mae: 1.7317 - val_loss: 5.1092 - val_mae: 1.7498 - lr: 0.0010\n",
      "Epoch 156/507\n",
      "70/70 [==============================] - 0s 5ms/step - loss: 4.8161 - mae: 1.7291 - val_loss: 5.0648 - val_mae: 1.7392 - lr: 0.0010\n",
      "Epoch 157/507\n",
      "70/70 [==============================] - 0s 5ms/step - loss: 4.8314 - mae: 1.7317 - val_loss: 5.1215 - val_mae: 1.7476 - lr: 0.0010\n",
      "Epoch 158/507\n",
      "70/70 [==============================] - 0s 6ms/step - loss: 4.7938 - mae: 1.7232 - val_loss: 5.1569 - val_mae: 1.7542 - lr: 0.0010\n",
      "Epoch 159/507\n",
      "70/70 [==============================] - 0s 5ms/step - loss: 4.7620 - mae: 1.7165 - val_loss: 5.1314 - val_mae: 1.7604 - lr: 0.0010\n",
      "Epoch 160/507\n",
      "70/70 [==============================] - 0s 5ms/step - loss: 4.7382 - mae: 1.7113 - val_loss: 5.0996 - val_mae: 1.7605 - lr: 0.0010\n",
      "Epoch 161/507\n",
      "70/70 [==============================] - 0s 5ms/step - loss: 4.7355 - mae: 1.7116 - val_loss: 5.1487 - val_mae: 1.7629 - lr: 0.0010\n",
      "Epoch 162/507\n",
      "70/70 [==============================] - 0s 5ms/step - loss: 4.7797 - mae: 1.7200 - val_loss: 5.1717 - val_mae: 1.7777 - lr: 0.0010\n",
      "Epoch 163/507\n",
      "70/70 [==============================] - 0s 6ms/step - loss: 4.7990 - mae: 1.7259 - val_loss: 5.0824 - val_mae: 1.7444 - lr: 0.0010\n",
      "Epoch 164/507\n",
      "70/70 [==============================] - 0s 5ms/step - loss: 4.7582 - mae: 1.7182 - val_loss: 5.1527 - val_mae: 1.7616 - lr: 0.0010\n",
      "Epoch 165/507\n",
      "70/70 [==============================] - 0s 5ms/step - loss: 4.7878 - mae: 1.7226 - val_loss: 5.1001 - val_mae: 1.7472 - lr: 0.0010\n",
      "Epoch 166/507\n",
      "70/70 [==============================] - 0s 5ms/step - loss: 4.7994 - mae: 1.7244 - val_loss: 5.1414 - val_mae: 1.7567 - lr: 0.0010\n",
      "Epoch 167/507\n",
      "70/70 [==============================] - 0s 5ms/step - loss: 4.7304 - mae: 1.7103 - val_loss: 5.2150 - val_mae: 1.7729 - lr: 0.0010\n",
      "Epoch 168/507\n",
      "70/70 [==============================] - 0s 5ms/step - loss: 4.7727 - mae: 1.7192 - val_loss: 5.1208 - val_mae: 1.7515 - lr: 0.0010\n",
      "Epoch 169/507\n",
      "70/70 [==============================] - 0s 5ms/step - loss: 4.6956 - mae: 1.7027 - val_loss: 5.1656 - val_mae: 1.7668 - lr: 0.0010\n",
      "Epoch 170/507\n",
      "70/70 [==============================] - 0s 5ms/step - loss: 4.6516 - mae: 1.6951 - val_loss: 5.2562 - val_mae: 1.7671 - lr: 0.0010\n",
      "Epoch 171/507\n",
      "70/70 [==============================] - 0s 5ms/step - loss: 4.6969 - mae: 1.7031 - val_loss: 5.2067 - val_mae: 1.7656 - lr: 0.0010\n",
      "Epoch 172/507\n",
      "70/70 [==============================] - 0s 5ms/step - loss: 4.6658 - mae: 1.6987 - val_loss: 5.1836 - val_mae: 1.7650 - lr: 0.0010\n",
      "Epoch 173/507\n",
      "70/70 [==============================] - 0s 5ms/step - loss: 4.6878 - mae: 1.7014 - val_loss: 5.0982 - val_mae: 1.7467 - lr: 0.0010\n",
      "Epoch 174/507\n",
      "70/70 [==============================] - 0s 5ms/step - loss: 4.6864 - mae: 1.7045 - val_loss: 5.2557 - val_mae: 1.7769 - lr: 0.0010\n",
      "Epoch 175/507\n",
      "70/70 [==============================] - 0s 5ms/step - loss: 4.6926 - mae: 1.6997 - val_loss: 5.2016 - val_mae: 1.7694 - lr: 0.0010\n",
      "Epoch 176/507\n",
      "70/70 [==============================] - 0s 5ms/step - loss: 4.6886 - mae: 1.7033 - val_loss: 5.2866 - val_mae: 1.7721 - lr: 0.0010\n",
      "Epoch 177/507\n",
      "70/70 [==============================] - 0s 5ms/step - loss: 4.6818 - mae: 1.7031 - val_loss: 5.2632 - val_mae: 1.7716 - lr: 0.0010\n",
      "Epoch 178/507\n",
      "70/70 [==============================] - 0s 5ms/step - loss: 4.6311 - mae: 1.6906 - val_loss: 5.1952 - val_mae: 1.7687 - lr: 0.0010\n",
      "Epoch 179/507\n",
      "70/70 [==============================] - 0s 5ms/step - loss: 4.5797 - mae: 1.6825 - val_loss: 5.1773 - val_mae: 1.7510 - lr: 0.0010\n",
      "Epoch 180/507\n",
      "70/70 [==============================] - 0s 5ms/step - loss: 4.6416 - mae: 1.6946 - val_loss: 5.2322 - val_mae: 1.7616 - lr: 0.0010\n",
      "Epoch 181/507\n",
      "70/70 [==============================] - 0s 5ms/step - loss: 4.6123 - mae: 1.6873 - val_loss: 5.2183 - val_mae: 1.7681 - lr: 0.0010\n",
      "Epoch 182/507\n",
      "70/70 [==============================] - 0s 5ms/step - loss: 4.6495 - mae: 1.7003 - val_loss: 5.3161 - val_mae: 1.7902 - lr: 0.0010\n",
      "Epoch 183/507\n",
      "70/70 [==============================] - 0s 5ms/step - loss: 4.6089 - mae: 1.6872 - val_loss: 5.1833 - val_mae: 1.7491 - lr: 0.0010\n",
      "Epoch 184/507\n",
      "70/70 [==============================] - 0s 5ms/step - loss: 4.5749 - mae: 1.6833 - val_loss: 5.2502 - val_mae: 1.7721 - lr: 0.0010\n",
      "Epoch 185/507\n",
      "70/70 [==============================] - 0s 5ms/step - loss: 4.5589 - mae: 1.6782 - val_loss: 5.2871 - val_mae: 1.7804 - lr: 0.0010\n",
      "Epoch 186/507\n",
      "70/70 [==============================] - 0s 5ms/step - loss: 4.6229 - mae: 1.6926 - val_loss: 5.2692 - val_mae: 1.7723 - lr: 0.0010\n",
      "Epoch 187/507\n",
      "70/70 [==============================] - 0s 5ms/step - loss: 4.5898 - mae: 1.6844 - val_loss: 5.2265 - val_mae: 1.7654 - lr: 0.0010\n",
      "Epoch 188/507\n",
      "70/70 [==============================] - 0s 5ms/step - loss: 4.5580 - mae: 1.6793 - val_loss: 5.2964 - val_mae: 1.7634 - lr: 0.0010\n",
      "Epoch 189/507\n",
      "70/70 [==============================] - 0s 5ms/step - loss: 4.5292 - mae: 1.6708 - val_loss: 5.3008 - val_mae: 1.7808 - lr: 0.0010\n",
      "Epoch 190/507\n",
      "70/70 [==============================] - 0s 5ms/step - loss: 4.5738 - mae: 1.6831 - val_loss: 5.3284 - val_mae: 1.7761 - lr: 0.0010\n",
      "Epoch 191/507\n",
      "70/70 [==============================] - 0s 5ms/step - loss: 4.5047 - mae: 1.6664 - val_loss: 5.3187 - val_mae: 1.7792 - lr: 0.0010\n",
      "Epoch 192/507\n",
      "70/70 [==============================] - 0s 5ms/step - loss: 4.5602 - mae: 1.6782 - val_loss: 5.3309 - val_mae: 1.7875 - lr: 0.0010\n",
      "Epoch 193/507\n",
      "70/70 [==============================] - 0s 5ms/step - loss: 4.5721 - mae: 1.6846 - val_loss: 5.3450 - val_mae: 1.7816 - lr: 0.0010\n",
      "Epoch 194/507\n",
      "70/70 [==============================] - 0s 5ms/step - loss: 4.4904 - mae: 1.6685 - val_loss: 5.2945 - val_mae: 1.7711 - lr: 0.0010\n",
      "Epoch 195/507\n",
      "70/70 [==============================] - 0s 5ms/step - loss: 4.4971 - mae: 1.6695 - val_loss: 5.2934 - val_mae: 1.7708 - lr: 0.0010\n",
      "Epoch 196/507\n",
      "70/70 [==============================] - 0s 6ms/step - loss: 4.4919 - mae: 1.6663 - val_loss: 5.3568 - val_mae: 1.7798 - lr: 0.0010\n",
      "Epoch 197/507\n",
      "70/70 [==============================] - 0s 5ms/step - loss: 4.4630 - mae: 1.6579 - val_loss: 5.3944 - val_mae: 1.7904 - lr: 0.0010\n",
      "Epoch 198/507\n",
      "70/70 [==============================] - 0s 5ms/step - loss: 4.4235 - mae: 1.6515 - val_loss: 5.3696 - val_mae: 1.7944 - lr: 0.0010\n",
      "Epoch 199/507\n",
      "70/70 [==============================] - 0s 6ms/step - loss: 4.5017 - mae: 1.6677 - val_loss: 5.3363 - val_mae: 1.7882 - lr: 0.0010\n",
      "Epoch 200/507\n",
      "70/70 [==============================] - 0s 5ms/step - loss: 4.4682 - mae: 1.6620 - val_loss: 5.4093 - val_mae: 1.8036 - lr: 0.0010\n",
      "Epoch 201/507\n",
      "70/70 [==============================] - 0s 6ms/step - loss: 4.4928 - mae: 1.6667 - val_loss: 5.3281 - val_mae: 1.7808 - lr: 0.0010\n",
      "Epoch 202/507\n",
      "70/70 [==============================] - 0s 5ms/step - loss: 4.5138 - mae: 1.6728 - val_loss: 5.4220 - val_mae: 1.7907 - lr: 0.0010\n",
      "Epoch 203/507\n",
      "70/70 [==============================] - 0s 5ms/step - loss: 4.4356 - mae: 1.6549 - val_loss: 5.3671 - val_mae: 1.7919 - lr: 0.0010\n",
      "Epoch 204/507\n",
      "70/70 [==============================] - 0s 5ms/step - loss: 4.4396 - mae: 1.6591 - val_loss: 5.3948 - val_mae: 1.7860 - lr: 0.0010\n",
      "Epoch 205/507\n",
      "70/70 [==============================] - 0s 5ms/step - loss: 4.4161 - mae: 1.6546 - val_loss: 5.3703 - val_mae: 1.7836 - lr: 0.0010\n",
      "Epoch 206/507\n",
      "70/70 [==============================] - 0s 6ms/step - loss: 4.3587 - mae: 1.6406 - val_loss: 5.4135 - val_mae: 1.7971 - lr: 0.0010\n",
      "Epoch 207/507\n",
      "70/70 [==============================] - 0s 5ms/step - loss: 4.4543 - mae: 1.6605 - val_loss: 5.4504 - val_mae: 1.7992 - lr: 0.0010\n",
      "Epoch 208/507\n",
      "70/70 [==============================] - 0s 5ms/step - loss: 4.3726 - mae: 1.6425 - val_loss: 5.4558 - val_mae: 1.7971 - lr: 0.0010\n",
      "Epoch 209/507\n",
      "70/70 [==============================] - 0s 5ms/step - loss: 4.3793 - mae: 1.6477 - val_loss: 5.4326 - val_mae: 1.7977 - lr: 0.0010\n",
      "Epoch 210/507\n",
      "70/70 [==============================] - 0s 5ms/step - loss: 4.4032 - mae: 1.6516 - val_loss: 5.3532 - val_mae: 1.7889 - lr: 0.0010\n",
      "Epoch 211/507\n",
      "70/70 [==============================] - 0s 5ms/step - loss: 4.3890 - mae: 1.6527 - val_loss: 5.3989 - val_mae: 1.7968 - lr: 0.0010\n",
      "Epoch 212/507\n",
      "70/70 [==============================] - 0s 5ms/step - loss: 4.3519 - mae: 1.6394 - val_loss: 5.4087 - val_mae: 1.7929 - lr: 0.0010\n",
      "Epoch 213/507\n",
      "70/70 [==============================] - 0s 5ms/step - loss: 4.3084 - mae: 1.6311 - val_loss: 5.4445 - val_mae: 1.8003 - lr: 0.0010\n",
      "Epoch 214/507\n",
      "70/70 [==============================] - 0s 5ms/step - loss: 4.3526 - mae: 1.6404 - val_loss: 5.4146 - val_mae: 1.7835 - lr: 0.0010\n",
      "Epoch 215/507\n",
      "70/70 [==============================] - 0s 5ms/step - loss: 4.3478 - mae: 1.6404 - val_loss: 5.5076 - val_mae: 1.8170 - lr: 0.0010\n",
      "Epoch 216/507\n",
      "70/70 [==============================] - 0s 5ms/step - loss: 4.3275 - mae: 1.6378 - val_loss: 5.4948 - val_mae: 1.8032 - lr: 0.0010\n",
      "Epoch 217/507\n",
      "70/70 [==============================] - 0s 5ms/step - loss: 4.3380 - mae: 1.6383 - val_loss: 5.5223 - val_mae: 1.8167 - lr: 0.0010\n",
      "Epoch 218/507\n",
      "70/70 [==============================] - 0s 5ms/step - loss: 4.3171 - mae: 1.6354 - val_loss: 5.4238 - val_mae: 1.8019 - lr: 0.0010\n",
      "Epoch 219/507\n",
      "70/70 [==============================] - 0s 5ms/step - loss: 4.3097 - mae: 1.6339 - val_loss: 5.4957 - val_mae: 1.8108 - lr: 0.0010\n",
      "Epoch 220/507\n",
      "70/70 [==============================] - 0s 5ms/step - loss: 4.2815 - mae: 1.6290 - val_loss: 5.5432 - val_mae: 1.8143 - lr: 0.0010\n",
      "Epoch 221/507\n",
      "70/70 [==============================] - 0s 5ms/step - loss: 4.3138 - mae: 1.6339 - val_loss: 5.5015 - val_mae: 1.8160 - lr: 0.0010\n",
      "Epoch 222/507\n",
      "70/70 [==============================] - 0s 5ms/step - loss: 4.2953 - mae: 1.6311 - val_loss: 5.4786 - val_mae: 1.8105 - lr: 0.0010\n",
      "Epoch 223/507\n",
      "70/70 [==============================] - 0s 5ms/step - loss: 4.3077 - mae: 1.6327 - val_loss: 5.5220 - val_mae: 1.8172 - lr: 0.0010\n",
      "Epoch 224/507\n",
      "70/70 [==============================] - 0s 5ms/step - loss: 4.2784 - mae: 1.6270 - val_loss: 5.4774 - val_mae: 1.8031 - lr: 0.0010\n",
      "Epoch 225/507\n"
     ]
    },
    {
     "name": "stdout",
     "output_type": "stream",
     "text": [
      "70/70 [==============================] - 0s 5ms/step - loss: 4.2363 - mae: 1.6162 - val_loss: 5.5615 - val_mae: 1.8165 - lr: 0.0010\n",
      "Epoch 226/507\n",
      "70/70 [==============================] - 0s 5ms/step - loss: 4.2733 - mae: 1.6273 - val_loss: 5.5129 - val_mae: 1.8185 - lr: 0.0010\n",
      "Epoch 227/507\n",
      "70/70 [==============================] - 0s 5ms/step - loss: 4.2216 - mae: 1.6134 - val_loss: 5.6253 - val_mae: 1.8214 - lr: 0.0010\n",
      "Epoch 228/507\n",
      "70/70 [==============================] - 0s 5ms/step - loss: 4.2654 - mae: 1.6251 - val_loss: 5.6228 - val_mae: 1.8254 - lr: 0.0010\n",
      "Epoch 229/507\n",
      "70/70 [==============================] - 0s 5ms/step - loss: 4.2116 - mae: 1.6156 - val_loss: 5.5640 - val_mae: 1.8258 - lr: 0.0010\n",
      "Epoch 230/507\n",
      "70/70 [==============================] - 0s 5ms/step - loss: 4.2777 - mae: 1.6263 - val_loss: 5.6500 - val_mae: 1.8319 - lr: 0.0010\n",
      "Epoch 231/507\n",
      "70/70 [==============================] - 0s 5ms/step - loss: 4.2218 - mae: 1.6190 - val_loss: 5.5425 - val_mae: 1.8154 - lr: 0.0010\n",
      "Epoch 232/507\n",
      "70/70 [==============================] - 0s 5ms/step - loss: 4.2174 - mae: 1.6130 - val_loss: 5.5328 - val_mae: 1.8193 - lr: 0.0010\n",
      "Epoch 233/507\n",
      "70/70 [==============================] - 0s 5ms/step - loss: 4.1540 - mae: 1.6040 - val_loss: 5.5731 - val_mae: 1.8175 - lr: 0.0010\n",
      "Epoch 234/507\n",
      "70/70 [==============================] - 0s 5ms/step - loss: 4.1735 - mae: 1.6088 - val_loss: 5.6431 - val_mae: 1.8257 - lr: 0.0010\n",
      "Epoch 235/507\n",
      "70/70 [==============================] - 0s 5ms/step - loss: 4.1891 - mae: 1.6093 - val_loss: 5.6414 - val_mae: 1.8264 - lr: 0.0010\n",
      "Epoch 236/507\n",
      "70/70 [==============================] - 0s 5ms/step - loss: 4.1461 - mae: 1.6036 - val_loss: 5.6586 - val_mae: 1.8295 - lr: 0.0010\n",
      "Epoch 237/507\n",
      "70/70 [==============================] - 0s 5ms/step - loss: 4.2074 - mae: 1.6140 - val_loss: 5.6928 - val_mae: 1.8407 - lr: 0.0010\n",
      "Epoch 238/507\n",
      "70/70 [==============================] - 0s 5ms/step - loss: 4.1904 - mae: 1.6132 - val_loss: 5.6063 - val_mae: 1.8263 - lr: 0.0010\n",
      "Epoch 239/507\n",
      "70/70 [==============================] - 0s 5ms/step - loss: 4.1359 - mae: 1.6004 - val_loss: 5.6542 - val_mae: 1.8303 - lr: 0.0010\n",
      "Epoch 240/507\n",
      "70/70 [==============================] - 0s 5ms/step - loss: 4.1913 - mae: 1.6111 - val_loss: 5.7251 - val_mae: 1.8417 - lr: 0.0010\n",
      "Epoch 241/507\n",
      "70/70 [==============================] - 0s 5ms/step - loss: 4.0862 - mae: 1.5875 - val_loss: 5.7308 - val_mae: 1.8393 - lr: 0.0010\n",
      "Epoch 242/507\n",
      "70/70 [==============================] - 0s 5ms/step - loss: 4.1693 - mae: 1.6061 - val_loss: 5.6961 - val_mae: 1.8355 - lr: 0.0010\n",
      "Epoch 243/507\n",
      "70/70 [==============================] - 0s 5ms/step - loss: 4.1750 - mae: 1.6071 - val_loss: 5.7096 - val_mae: 1.8388 - lr: 0.0010\n",
      "Epoch 244/507\n",
      "70/70 [==============================] - 0s 5ms/step - loss: 4.1386 - mae: 1.5989 - val_loss: 5.7772 - val_mae: 1.8458 - lr: 0.0010\n",
      "Epoch 245/507\n",
      "70/70 [==============================] - 0s 5ms/step - loss: 4.0956 - mae: 1.5921 - val_loss: 5.6896 - val_mae: 1.8321 - lr: 0.0010\n",
      "Epoch 246/507\n",
      "70/70 [==============================] - 0s 5ms/step - loss: 4.0823 - mae: 1.5888 - val_loss: 5.6899 - val_mae: 1.8292 - lr: 0.0010\n",
      "Epoch 247/507\n",
      "70/70 [==============================] - 0s 5ms/step - loss: 4.0915 - mae: 1.5909 - val_loss: 5.7141 - val_mae: 1.8396 - lr: 0.0010\n",
      "Epoch 248/507\n",
      "70/70 [==============================] - 0s 5ms/step - loss: 4.0554 - mae: 1.5846 - val_loss: 5.7924 - val_mae: 1.8444 - lr: 0.0010\n",
      "Epoch 249/507\n",
      "70/70 [==============================] - 0s 5ms/step - loss: 4.0563 - mae: 1.5802 - val_loss: 5.8235 - val_mae: 1.8503 - lr: 0.0010\n",
      "Epoch 250/507\n",
      "70/70 [==============================] - 0s 5ms/step - loss: 4.0937 - mae: 1.5923 - val_loss: 5.7197 - val_mae: 1.8360 - lr: 0.0010\n",
      "Epoch 251/507\n",
      "70/70 [==============================] - 0s 5ms/step - loss: 3.9596 - mae: 1.5648 - val_loss: 5.5582 - val_mae: 1.8012 - lr: 8.1059e-05\n",
      "Epoch 252/507\n",
      "70/70 [==============================] - 0s 5ms/step - loss: 3.9030 - mae: 1.5521 - val_loss: 5.5462 - val_mae: 1.7975 - lr: 8.0248e-05\n",
      "Epoch 253/507\n",
      "70/70 [==============================] - 0s 5ms/step - loss: 3.8176 - mae: 1.5308 - val_loss: 5.5626 - val_mae: 1.7997 - lr: 7.9445e-05\n",
      "Epoch 254/507\n",
      "70/70 [==============================] - 0s 5ms/step - loss: 3.8686 - mae: 1.5424 - val_loss: 5.5694 - val_mae: 1.8003 - lr: 7.8651e-05\n",
      "Epoch 255/507\n",
      "70/70 [==============================] - 0s 5ms/step - loss: 3.8640 - mae: 1.5413 - val_loss: 5.5650 - val_mae: 1.8006 - lr: 7.7864e-05\n",
      "Epoch 256/507\n",
      "70/70 [==============================] - 0s 5ms/step - loss: 3.8426 - mae: 1.5365 - val_loss: 5.5782 - val_mae: 1.8028 - lr: 7.7086e-05\n",
      "Epoch 257/507\n",
      "70/70 [==============================] - 0s 5ms/step - loss: 3.8362 - mae: 1.5392 - val_loss: 5.5886 - val_mae: 1.8016 - lr: 7.6315e-05\n",
      "Epoch 258/507\n",
      "70/70 [==============================] - 0s 5ms/step - loss: 3.8152 - mae: 1.5335 - val_loss: 5.5820 - val_mae: 1.8013 - lr: 7.5552e-05\n",
      "Epoch 259/507\n",
      "70/70 [==============================] - 0s 5ms/step - loss: 3.7517 - mae: 1.5204 - val_loss: 5.5967 - val_mae: 1.8021 - lr: 7.4796e-05\n",
      "Epoch 260/507\n",
      "70/70 [==============================] - 0s 5ms/step - loss: 3.7833 - mae: 1.5267 - val_loss: 5.5904 - val_mae: 1.8012 - lr: 7.4048e-05\n",
      "Epoch 261/507\n",
      "70/70 [==============================] - 0s 5ms/step - loss: 3.8001 - mae: 1.5305 - val_loss: 5.6073 - val_mae: 1.8021 - lr: 7.3308e-05\n",
      "Epoch 262/507\n",
      "70/70 [==============================] - 0s 5ms/step - loss: 3.8035 - mae: 1.5313 - val_loss: 5.6046 - val_mae: 1.8022 - lr: 7.2575e-05\n",
      "Epoch 263/507\n",
      "70/70 [==============================] - 0s 5ms/step - loss: 3.7890 - mae: 1.5294 - val_loss: 5.6081 - val_mae: 1.8021 - lr: 7.1849e-05\n",
      "Epoch 264/507\n",
      "70/70 [==============================] - 0s 5ms/step - loss: 3.7837 - mae: 1.5263 - val_loss: 5.6074 - val_mae: 1.8024 - lr: 7.1131e-05\n",
      "Epoch 265/507\n",
      "70/70 [==============================] - 0s 5ms/step - loss: 3.7990 - mae: 1.5302 - val_loss: 5.6321 - val_mae: 1.8058 - lr: 7.0419e-05\n",
      "Epoch 266/507\n",
      "70/70 [==============================] - 0s 5ms/step - loss: 3.7844 - mae: 1.5263 - val_loss: 5.6182 - val_mae: 1.8022 - lr: 6.9715e-05\n",
      "Epoch 267/507\n",
      "70/70 [==============================] - 0s 5ms/step - loss: 3.7754 - mae: 1.5273 - val_loss: 5.6262 - val_mae: 1.8026 - lr: 6.9018e-05\n",
      "Epoch 268/507\n",
      "70/70 [==============================] - 0s 5ms/step - loss: 3.7802 - mae: 1.5245 - val_loss: 5.6385 - val_mae: 1.8049 - lr: 6.8328e-05\n",
      "Epoch 269/507\n",
      "70/70 [==============================] - 0s 5ms/step - loss: 3.7878 - mae: 1.5273 - val_loss: 5.6344 - val_mae: 1.8047 - lr: 6.7644e-05\n",
      "Epoch 270/507\n",
      "70/70 [==============================] - 0s 5ms/step - loss: 3.7855 - mae: 1.5267 - val_loss: 5.6516 - val_mae: 1.8078 - lr: 6.6968e-05\n",
      "Epoch 271/507\n",
      "70/70 [==============================] - 0s 5ms/step - loss: 3.7438 - mae: 1.5181 - val_loss: 5.6522 - val_mae: 1.8059 - lr: 6.6298e-05\n",
      "Epoch 272/507\n",
      "70/70 [==============================] - 0s 5ms/step - loss: 3.7731 - mae: 1.5254 - val_loss: 5.6539 - val_mae: 1.8054 - lr: 6.5635e-05\n",
      "Epoch 273/507\n",
      "70/70 [==============================] - 0s 5ms/step - loss: 3.7793 - mae: 1.5241 - val_loss: 5.6551 - val_mae: 1.8060 - lr: 6.4979e-05\n",
      "Epoch 274/507\n",
      "70/70 [==============================] - 0s 5ms/step - loss: 3.7286 - mae: 1.5136 - val_loss: 5.6495 - val_mae: 1.8043 - lr: 6.4329e-05\n",
      "Epoch 275/507\n",
      "70/70 [==============================] - 0s 5ms/step - loss: 3.7562 - mae: 1.5174 - val_loss: 5.6512 - val_mae: 1.8038 - lr: 6.3686e-05\n",
      "Epoch 276/507\n",
      "70/70 [==============================] - 0s 5ms/step - loss: 3.7479 - mae: 1.5186 - val_loss: 5.6568 - val_mae: 1.8044 - lr: 6.3049e-05\n",
      "Epoch 277/507\n",
      "70/70 [==============================] - 0s 5ms/step - loss: 3.7785 - mae: 1.5224 - val_loss: 5.6477 - val_mae: 1.8017 - lr: 6.2419e-05\n",
      "Epoch 278/507\n",
      "70/70 [==============================] - 0s 5ms/step - loss: 3.7108 - mae: 1.5126 - val_loss: 5.6522 - val_mae: 1.8025 - lr: 6.1794e-05\n",
      "Epoch 279/507\n",
      "70/70 [==============================] - 0s 5ms/step - loss: 3.7190 - mae: 1.5115 - val_loss: 5.6498 - val_mae: 1.8019 - lr: 6.1176e-05\n",
      "Epoch 280/507\n",
      "70/70 [==============================] - 0s 5ms/step - loss: 3.7623 - mae: 1.5212 - val_loss: 5.6679 - val_mae: 1.8047 - lr: 6.0565e-05\n",
      "Epoch 281/507\n",
      "70/70 [==============================] - 0s 5ms/step - loss: 3.7067 - mae: 1.5083 - val_loss: 5.6624 - val_mae: 1.8043 - lr: 5.9959e-05\n",
      "Epoch 282/507\n",
      "70/70 [==============================] - 0s 5ms/step - loss: 3.7661 - mae: 1.5227 - val_loss: 5.6475 - val_mae: 1.8014 - lr: 5.9359e-05\n",
      "Epoch 283/507\n",
      "70/70 [==============================] - 0s 5ms/step - loss: 3.7321 - mae: 1.5137 - val_loss: 5.6520 - val_mae: 1.8035 - lr: 5.8766e-05\n",
      "Epoch 284/507\n",
      "70/70 [==============================] - 0s 5ms/step - loss: 3.7393 - mae: 1.5142 - val_loss: 5.6619 - val_mae: 1.8036 - lr: 5.8178e-05\n",
      "Epoch 285/507\n",
      "70/70 [==============================] - 0s 5ms/step - loss: 3.7369 - mae: 1.5159 - val_loss: 5.6647 - val_mae: 1.8050 - lr: 5.7596e-05\n",
      "Epoch 286/507\n",
      "70/70 [==============================] - 0s 5ms/step - loss: 3.6980 - mae: 1.5074 - val_loss: 5.6723 - val_mae: 1.8050 - lr: 5.7020e-05\n",
      "Epoch 287/507\n",
      "70/70 [==============================] - 0s 5ms/step - loss: 3.7169 - mae: 1.5110 - val_loss: 5.6703 - val_mae: 1.8051 - lr: 5.6450e-05\n",
      "Epoch 288/507\n",
      "70/70 [==============================] - 0s 5ms/step - loss: 3.6938 - mae: 1.5045 - val_loss: 5.6597 - val_mae: 1.8036 - lr: 5.5886e-05\n",
      "Epoch 289/507\n",
      "70/70 [==============================] - 0s 5ms/step - loss: 3.7660 - mae: 1.5212 - val_loss: 5.6597 - val_mae: 1.8026 - lr: 5.5327e-05\n",
      "Epoch 290/507\n",
      "70/70 [==============================] - 0s 5ms/step - loss: 3.7430 - mae: 1.5198 - val_loss: 5.6734 - val_mae: 1.8073 - lr: 5.4774e-05\n",
      "Epoch 291/507\n",
      "70/70 [==============================] - 0s 5ms/step - loss: 3.7800 - mae: 1.5245 - val_loss: 5.6714 - val_mae: 1.8059 - lr: 5.4226e-05\n",
      "Epoch 292/507\n",
      "70/70 [==============================] - 0s 5ms/step - loss: 3.7464 - mae: 1.5174 - val_loss: 5.6720 - val_mae: 1.8053 - lr: 5.3684e-05\n",
      "Epoch 293/507\n",
      "70/70 [==============================] - 0s 5ms/step - loss: 3.7287 - mae: 1.5162 - val_loss: 5.6892 - val_mae: 1.8090 - lr: 5.3147e-05\n",
      "Epoch 294/507\n",
      "70/70 [==============================] - 0s 5ms/step - loss: 3.7315 - mae: 1.5165 - val_loss: 5.6747 - val_mae: 1.8068 - lr: 5.2615e-05\n",
      "Epoch 295/507\n",
      "70/70 [==============================] - 0s 5ms/step - loss: 3.7421 - mae: 1.5190 - val_loss: 5.6678 - val_mae: 1.8057 - lr: 5.2089e-05\n",
      "Epoch 296/507\n",
      "70/70 [==============================] - 0s 5ms/step - loss: 3.7719 - mae: 1.5229 - val_loss: 5.6668 - val_mae: 1.8044 - lr: 5.1568e-05\n",
      "Epoch 297/507\n",
      "70/70 [==============================] - 0s 6ms/step - loss: 3.6950 - mae: 1.5070 - val_loss: 5.6731 - val_mae: 1.8055 - lr: 5.1053e-05\n",
      "Epoch 298/507\n",
      "70/70 [==============================] - 0s 5ms/step - loss: 3.7658 - mae: 1.5208 - val_loss: 5.6682 - val_mae: 1.8057 - lr: 5.0542e-05\n",
      "Epoch 299/507\n",
      "70/70 [==============================] - 0s 5ms/step - loss: 3.7315 - mae: 1.5145 - val_loss: 5.6620 - val_mae: 1.8052 - lr: 5.0037e-05\n",
      "Epoch 300/507\n",
      "70/70 [==============================] - 0s 5ms/step - loss: 3.6707 - mae: 1.5003 - val_loss: 5.6848 - val_mae: 1.8082 - lr: 4.9536e-05\n",
      "Epoch 301/507\n",
      "70/70 [==============================] - 0s 5ms/step - loss: 3.7420 - mae: 1.5176 - val_loss: 5.6764 - val_mae: 1.8054 - lr: 4.9041e-05\n",
      "Epoch 302/507\n",
      "70/70 [==============================] - 0s 5ms/step - loss: 3.6815 - mae: 1.5051 - val_loss: 5.6926 - val_mae: 1.8065 - lr: 4.8550e-05\n",
      "Epoch 303/507\n",
      "70/70 [==============================] - 0s 5ms/step - loss: 3.6991 - mae: 1.5060 - val_loss: 5.6935 - val_mae: 1.8065 - lr: 4.8065e-05\n",
      "Epoch 304/507\n",
      "70/70 [==============================] - 0s 5ms/step - loss: 3.7948 - mae: 1.5277 - val_loss: 5.6958 - val_mae: 1.8085 - lr: 4.7584e-05\n",
      "Epoch 305/507\n",
      "70/70 [==============================] - 0s 5ms/step - loss: 3.6888 - mae: 1.5035 - val_loss: 5.6856 - val_mae: 1.8061 - lr: 4.7108e-05\n",
      "Epoch 306/507\n",
      "70/70 [==============================] - 0s 5ms/step - loss: 3.7191 - mae: 1.5104 - val_loss: 5.6806 - val_mae: 1.8046 - lr: 4.6637e-05\n",
      "Epoch 307/507\n",
      "70/70 [==============================] - 0s 5ms/step - loss: 3.6706 - mae: 1.4993 - val_loss: 5.6957 - val_mae: 1.8075 - lr: 4.6171e-05\n",
      "Epoch 308/507\n",
      "70/70 [==============================] - 0s 5ms/step - loss: 3.6726 - mae: 1.5012 - val_loss: 5.7021 - val_mae: 1.8088 - lr: 4.5709e-05\n",
      "Epoch 309/507\n",
      "70/70 [==============================] - 0s 5ms/step - loss: 3.7272 - mae: 1.5124 - val_loss: 5.7034 - val_mae: 1.8084 - lr: 4.5252e-05\n",
      "Epoch 310/507\n",
      "70/70 [==============================] - 0s 5ms/step - loss: 3.7109 - mae: 1.5119 - val_loss: 5.6934 - val_mae: 1.8057 - lr: 4.4800e-05\n",
      "Epoch 311/507\n",
      "70/70 [==============================] - 0s 5ms/step - loss: 3.6893 - mae: 1.5062 - val_loss: 5.7059 - val_mae: 1.8086 - lr: 4.4352e-05\n",
      "Epoch 312/507\n",
      "70/70 [==============================] - 0s 5ms/step - loss: 3.7503 - mae: 1.5182 - val_loss: 5.6958 - val_mae: 1.8058 - lr: 4.3908e-05\n",
      "Epoch 313/507\n",
      "70/70 [==============================] - 0s 5ms/step - loss: 3.6849 - mae: 1.5056 - val_loss: 5.6994 - val_mae: 1.8074 - lr: 4.3469e-05\n",
      "Epoch 314/507\n",
      "70/70 [==============================] - 0s 5ms/step - loss: 3.6841 - mae: 1.5059 - val_loss: 5.6905 - val_mae: 1.8061 - lr: 4.3034e-05\n",
      "Epoch 315/507\n",
      "70/70 [==============================] - 0s 5ms/step - loss: 3.7104 - mae: 1.5088 - val_loss: 5.7012 - val_mae: 1.8077 - lr: 4.2604e-05\n",
      "Epoch 316/507\n",
      "70/70 [==============================] - 0s 5ms/step - loss: 3.7747 - mae: 1.5230 - val_loss: 5.6884 - val_mae: 1.8064 - lr: 4.2178e-05\n",
      "Epoch 317/507\n",
      "70/70 [==============================] - 0s 5ms/step - loss: 3.6955 - mae: 1.5080 - val_loss: 5.6969 - val_mae: 1.8087 - lr: 4.1756e-05\n",
      "Epoch 318/507\n",
      "70/70 [==============================] - 0s 5ms/step - loss: 3.6769 - mae: 1.5037 - val_loss: 5.7091 - val_mae: 1.8105 - lr: 4.1339e-05\n",
      "Epoch 319/507\n",
      "70/70 [==============================] - 0s 5ms/step - loss: 3.6888 - mae: 1.5011 - val_loss: 5.7076 - val_mae: 1.8101 - lr: 4.0925e-05\n",
      "Epoch 320/507\n",
      "70/70 [==============================] - 0s 5ms/step - loss: 3.6953 - mae: 1.5068 - val_loss: 5.7078 - val_mae: 1.8095 - lr: 4.0516e-05\n",
      "Epoch 321/507\n",
      "70/70 [==============================] - 0s 5ms/step - loss: 3.7383 - mae: 1.5138 - val_loss: 5.7013 - val_mae: 1.8088 - lr: 4.0111e-05\n",
      "Epoch 322/507\n",
      "70/70 [==============================] - 0s 5ms/step - loss: 3.6886 - mae: 1.5037 - val_loss: 5.7033 - val_mae: 1.8083 - lr: 3.9710e-05\n",
      "Epoch 323/507\n",
      "70/70 [==============================] - 0s 5ms/step - loss: 3.7389 - mae: 1.5148 - val_loss: 5.7021 - val_mae: 1.8079 - lr: 3.9313e-05\n",
      "Epoch 324/507\n",
      "70/70 [==============================] - 0s 5ms/step - loss: 3.7080 - mae: 1.5095 - val_loss: 5.6984 - val_mae: 1.8078 - lr: 3.8920e-05\n",
      "Epoch 325/507\n",
      "70/70 [==============================] - 0s 5ms/step - loss: 3.7061 - mae: 1.5090 - val_loss: 5.7078 - val_mae: 1.8090 - lr: 3.8530e-05\n",
      "Epoch 326/507\n",
      "70/70 [==============================] - 0s 5ms/step - loss: 3.6655 - mae: 1.5011 - val_loss: 5.7086 - val_mae: 1.8091 - lr: 3.8145e-05\n",
      "Epoch 327/507\n",
      "70/70 [==============================] - 0s 5ms/step - loss: 3.7038 - mae: 1.5098 - val_loss: 5.7182 - val_mae: 1.8100 - lr: 3.7764e-05\n",
      "Epoch 328/507\n",
      "70/70 [==============================] - 0s 5ms/step - loss: 3.6746 - mae: 1.5016 - val_loss: 5.7178 - val_mae: 1.8103 - lr: 3.7386e-05\n",
      "Epoch 329/507\n",
      "70/70 [==============================] - 0s 5ms/step - loss: 3.7086 - mae: 1.5106 - val_loss: 5.7101 - val_mae: 1.8091 - lr: 3.7012e-05\n",
      "Epoch 330/507\n",
      "70/70 [==============================] - 0s 5ms/step - loss: 3.6923 - mae: 1.5076 - val_loss: 5.7165 - val_mae: 1.8098 - lr: 3.6642e-05\n",
      "Epoch 331/507\n",
      "70/70 [==============================] - 0s 5ms/step - loss: 3.6694 - mae: 1.5008 - val_loss: 5.7091 - val_mae: 1.8087 - lr: 3.6276e-05\n",
      "Epoch 332/507\n",
      "70/70 [==============================] - 0s 5ms/step - loss: 3.6709 - mae: 1.5015 - val_loss: 5.7119 - val_mae: 1.8079 - lr: 3.5913e-05\n",
      "Epoch 333/507\n",
      "70/70 [==============================] - 0s 5ms/step - loss: 3.7080 - mae: 1.5133 - val_loss: 5.7245 - val_mae: 1.8092 - lr: 3.5554e-05\n",
      "Epoch 334/507\n",
      "70/70 [==============================] - 0s 5ms/step - loss: 3.7169 - mae: 1.5096 - val_loss: 5.7172 - val_mae: 1.8096 - lr: 3.5198e-05\n"
     ]
    },
    {
     "name": "stdout",
     "output_type": "stream",
     "text": [
      "Epoch 335/507\n",
      "70/70 [==============================] - 0s 5ms/step - loss: 3.6635 - mae: 1.5024 - val_loss: 5.7134 - val_mae: 1.8089 - lr: 3.4846e-05\n",
      "Epoch 336/507\n",
      "70/70 [==============================] - 0s 5ms/step - loss: 3.7127 - mae: 1.5081 - val_loss: 5.7216 - val_mae: 1.8106 - lr: 3.4498e-05\n",
      "Epoch 337/507\n",
      "70/70 [==============================] - 0s 5ms/step - loss: 3.6419 - mae: 1.4936 - val_loss: 5.7264 - val_mae: 1.8104 - lr: 3.4153e-05\n",
      "Epoch 338/507\n",
      "70/70 [==============================] - 0s 5ms/step - loss: 3.6580 - mae: 1.4988 - val_loss: 5.7199 - val_mae: 1.8088 - lr: 3.3811e-05\n",
      "Epoch 339/507\n",
      "70/70 [==============================] - 0s 5ms/step - loss: 3.6949 - mae: 1.5064 - val_loss: 5.7347 - val_mae: 1.8109 - lr: 3.3473e-05\n",
      "Epoch 340/507\n",
      "70/70 [==============================] - 0s 5ms/step - loss: 3.6801 - mae: 1.5046 - val_loss: 5.7340 - val_mae: 1.8112 - lr: 3.3138e-05\n",
      "Epoch 341/507\n",
      "70/70 [==============================] - 0s 5ms/step - loss: 3.6863 - mae: 1.5075 - val_loss: 5.7288 - val_mae: 1.8114 - lr: 3.2807e-05\n",
      "Epoch 342/507\n",
      "70/70 [==============================] - 0s 5ms/step - loss: 3.6393 - mae: 1.4956 - val_loss: 5.7296 - val_mae: 1.8105 - lr: 3.2479e-05\n",
      "Epoch 343/507\n",
      "70/70 [==============================] - 0s 5ms/step - loss: 3.7165 - mae: 1.5117 - val_loss: 5.7238 - val_mae: 1.8105 - lr: 3.2154e-05\n",
      "Epoch 344/507\n",
      "70/70 [==============================] - 0s 5ms/step - loss: 3.6999 - mae: 1.5070 - val_loss: 5.7170 - val_mae: 1.8095 - lr: 3.1833e-05\n",
      "Epoch 345/507\n",
      "70/70 [==============================] - 0s 5ms/step - loss: 3.7026 - mae: 1.5089 - val_loss: 5.7227 - val_mae: 1.8104 - lr: 3.1514e-05\n",
      "Epoch 346/507\n",
      "70/70 [==============================] - 0s 5ms/step - loss: 3.6584 - mae: 1.5017 - val_loss: 5.7325 - val_mae: 1.8116 - lr: 3.1199e-05\n",
      "Epoch 347/507\n",
      "70/70 [==============================] - 0s 5ms/step - loss: 3.7027 - mae: 1.5096 - val_loss: 5.7233 - val_mae: 1.8108 - lr: 3.0887e-05\n",
      "Epoch 348/507\n",
      "70/70 [==============================] - 0s 5ms/step - loss: 3.7302 - mae: 1.5136 - val_loss: 5.7317 - val_mae: 1.8109 - lr: 3.0578e-05\n",
      "Epoch 349/507\n",
      "70/70 [==============================] - 0s 5ms/step - loss: 3.6208 - mae: 1.4914 - val_loss: 5.7342 - val_mae: 1.8114 - lr: 3.0272e-05\n",
      "Epoch 350/507\n",
      "70/70 [==============================] - 0s 5ms/step - loss: 3.6631 - mae: 1.5000 - val_loss: 5.7228 - val_mae: 1.8091 - lr: 2.9970e-05\n",
      "Epoch 351/507\n",
      "70/70 [==============================] - 0s 5ms/step - loss: 3.6233 - mae: 1.4920 - val_loss: 5.7309 - val_mae: 1.8105 - lr: 2.9670e-05\n",
      "Epoch 352/507\n",
      "70/70 [==============================] - 0s 5ms/step - loss: 3.6591 - mae: 1.4991 - val_loss: 5.7381 - val_mae: 1.8103 - lr: 2.9373e-05\n",
      "Epoch 353/507\n",
      "70/70 [==============================] - 0s 5ms/step - loss: 3.6682 - mae: 1.4992 - val_loss: 5.7327 - val_mae: 1.8105 - lr: 2.9080e-05\n",
      "Epoch 354/507\n",
      "70/70 [==============================] - 0s 5ms/step - loss: 3.6377 - mae: 1.4955 - val_loss: 5.7312 - val_mae: 1.8103 - lr: 2.8789e-05\n",
      "Epoch 355/507\n",
      "70/70 [==============================] - 0s 5ms/step - loss: 3.6480 - mae: 1.4954 - val_loss: 5.7409 - val_mae: 1.8114 - lr: 2.8501e-05\n",
      "Epoch 356/507\n",
      "70/70 [==============================] - 0s 5ms/step - loss: 3.6763 - mae: 1.5027 - val_loss: 5.7294 - val_mae: 1.8104 - lr: 2.8216e-05\n",
      "Epoch 357/507\n",
      "70/70 [==============================] - 0s 5ms/step - loss: 3.6490 - mae: 1.4973 - val_loss: 5.7279 - val_mae: 1.8095 - lr: 2.7934e-05\n",
      "Epoch 358/507\n",
      "70/70 [==============================] - 0s 5ms/step - loss: 3.6664 - mae: 1.5000 - val_loss: 5.7225 - val_mae: 1.8081 - lr: 2.7654e-05\n",
      "Epoch 359/507\n",
      "70/70 [==============================] - 0s 5ms/step - loss: 3.6792 - mae: 1.5014 - val_loss: 5.7227 - val_mae: 1.8088 - lr: 2.7378e-05\n",
      "Epoch 360/507\n",
      "70/70 [==============================] - 0s 5ms/step - loss: 3.6731 - mae: 1.5005 - val_loss: 5.7252 - val_mae: 1.8087 - lr: 2.7104e-05\n",
      "Epoch 361/507\n",
      "70/70 [==============================] - 0s 5ms/step - loss: 3.7189 - mae: 1.5121 - val_loss: 5.7423 - val_mae: 1.8117 - lr: 2.6833e-05\n",
      "Epoch 362/507\n",
      "70/70 [==============================] - 0s 5ms/step - loss: 3.6757 - mae: 1.5029 - val_loss: 5.7283 - val_mae: 1.8095 - lr: 2.6565e-05\n",
      "Epoch 363/507\n",
      "70/70 [==============================] - 0s 5ms/step - loss: 3.6559 - mae: 1.5004 - val_loss: 5.7238 - val_mae: 1.8091 - lr: 2.6299e-05\n",
      "Epoch 364/507\n",
      "70/70 [==============================] - 0s 5ms/step - loss: 3.6713 - mae: 1.5024 - val_loss: 5.7221 - val_mae: 1.8090 - lr: 2.6036e-05\n",
      "Epoch 365/507\n",
      "70/70 [==============================] - 0s 5ms/step - loss: 3.7108 - mae: 1.5093 - val_loss: 5.7230 - val_mae: 1.8085 - lr: 2.5776e-05\n",
      "Epoch 366/507\n",
      "70/70 [==============================] - 0s 5ms/step - loss: 3.6425 - mae: 1.4970 - val_loss: 5.7313 - val_mae: 1.8098 - lr: 2.5518e-05\n",
      "Epoch 367/507\n",
      "70/70 [==============================] - 0s 5ms/step - loss: 3.6405 - mae: 1.4948 - val_loss: 5.7414 - val_mae: 1.8105 - lr: 2.5263e-05\n",
      "Epoch 368/507\n",
      "70/70 [==============================] - 0s 5ms/step - loss: 3.6727 - mae: 1.5023 - val_loss: 5.7374 - val_mae: 1.8100 - lr: 2.5010e-05\n",
      "Epoch 369/507\n",
      "70/70 [==============================] - 0s 5ms/step - loss: 3.6542 - mae: 1.4980 - val_loss: 5.7336 - val_mae: 1.8107 - lr: 2.4760e-05\n",
      "Epoch 370/507\n",
      "70/70 [==============================] - 0s 5ms/step - loss: 3.6452 - mae: 1.4941 - val_loss: 5.7401 - val_mae: 1.8116 - lr: 2.4512e-05\n",
      "Epoch 371/507\n",
      "70/70 [==============================] - 0s 5ms/step - loss: 3.6220 - mae: 1.4929 - val_loss: 5.7318 - val_mae: 1.8105 - lr: 2.4267e-05\n",
      "Epoch 372/507\n",
      "70/70 [==============================] - 0s 5ms/step - loss: 3.6979 - mae: 1.5097 - val_loss: 5.7304 - val_mae: 1.8106 - lr: 2.4025e-05\n",
      "Epoch 373/507\n",
      "70/70 [==============================] - 0s 5ms/step - loss: 3.7137 - mae: 1.5119 - val_loss: 5.7311 - val_mae: 1.8106 - lr: 2.3784e-05\n",
      "Epoch 374/507\n",
      "70/70 [==============================] - 0s 5ms/step - loss: 3.6532 - mae: 1.4975 - val_loss: 5.7350 - val_mae: 1.8105 - lr: 2.3547e-05\n",
      "Epoch 375/507\n",
      "70/70 [==============================] - 0s 5ms/step - loss: 3.6439 - mae: 1.4959 - val_loss: 5.7344 - val_mae: 1.8106 - lr: 2.3311e-05\n",
      "Epoch 376/507\n",
      "70/70 [==============================] - 0s 5ms/step - loss: 3.6578 - mae: 1.4973 - val_loss: 5.7334 - val_mae: 1.8101 - lr: 2.3078e-05\n",
      "Epoch 377/507\n",
      "70/70 [==============================] - 0s 5ms/step - loss: 3.7116 - mae: 1.5102 - val_loss: 5.7352 - val_mae: 1.8107 - lr: 2.2847e-05\n",
      "Epoch 378/507\n",
      "70/70 [==============================] - 0s 5ms/step - loss: 3.6317 - mae: 1.4933 - val_loss: 5.7429 - val_mae: 1.8122 - lr: 2.2619e-05\n",
      "Epoch 379/507\n",
      "70/70 [==============================] - 0s 5ms/step - loss: 3.6627 - mae: 1.4973 - val_loss: 5.7479 - val_mae: 1.8129 - lr: 2.2393e-05\n",
      "Epoch 380/507\n",
      "70/70 [==============================] - 0s 5ms/step - loss: 3.6787 - mae: 1.5042 - val_loss: 5.7521 - val_mae: 1.8135 - lr: 2.2169e-05\n",
      "Epoch 381/507\n",
      "70/70 [==============================] - 0s 5ms/step - loss: 3.6610 - mae: 1.4999 - val_loss: 5.7450 - val_mae: 1.8125 - lr: 2.1947e-05\n",
      "Epoch 382/507\n",
      "70/70 [==============================] - 0s 6ms/step - loss: 3.6386 - mae: 1.4950 - val_loss: 5.7403 - val_mae: 1.8107 - lr: 2.1727e-05\n",
      "Epoch 383/507\n",
      "70/70 [==============================] - 0s 5ms/step - loss: 3.6233 - mae: 1.4911 - val_loss: 5.7438 - val_mae: 1.8107 - lr: 2.1510e-05\n",
      "Epoch 384/507\n",
      "70/70 [==============================] - 0s 5ms/step - loss: 3.6831 - mae: 1.5022 - val_loss: 5.7441 - val_mae: 1.8115 - lr: 2.1295e-05\n",
      "Epoch 385/507\n",
      "70/70 [==============================] - 0s 6ms/step - loss: 3.6745 - mae: 1.5017 - val_loss: 5.7470 - val_mae: 1.8123 - lr: 2.1082e-05\n",
      "Epoch 386/507\n",
      "70/70 [==============================] - 0s 5ms/step - loss: 3.6587 - mae: 1.5005 - val_loss: 5.7419 - val_mae: 1.8110 - lr: 2.0871e-05\n",
      "Epoch 387/507\n",
      "70/70 [==============================] - 0s 5ms/step - loss: 3.6137 - mae: 1.4897 - val_loss: 5.7494 - val_mae: 1.8118 - lr: 2.0663e-05\n",
      "Epoch 388/507\n",
      "70/70 [==============================] - 0s 5ms/step - loss: 3.6750 - mae: 1.5033 - val_loss: 5.7525 - val_mae: 1.8114 - lr: 2.0456e-05\n",
      "Epoch 389/507\n",
      "70/70 [==============================] - 0s 5ms/step - loss: 3.6533 - mae: 1.4987 - val_loss: 5.7507 - val_mae: 1.8123 - lr: 2.0251e-05\n"
     ]
    },
    {
     "name": "stdout",
     "output_type": "stream",
     "text": [
      "Epoch 390/507\n",
      "70/70 [==============================] - 0s 5ms/step - loss: 3.6152 - mae: 1.4896 - val_loss: 5.7465 - val_mae: 1.8119 - lr: 2.0049e-05\n",
      "Epoch 391/507\n",
      "70/70 [==============================] - 0s 5ms/step - loss: 3.6308 - mae: 1.4951 - val_loss: 5.7506 - val_mae: 1.8128 - lr: 1.9848e-05\n",
      "Epoch 392/507\n",
      "70/70 [==============================] - 0s 5ms/step - loss: 3.6523 - mae: 1.4959 - val_loss: 5.7578 - val_mae: 1.8136 - lr: 1.9650e-05\n",
      "Epoch 393/507\n",
      "70/70 [==============================] - 0s 5ms/step - loss: 3.6294 - mae: 1.4922 - val_loss: 5.7531 - val_mae: 1.8129 - lr: 1.9453e-05\n",
      "Epoch 394/507\n",
      "70/70 [==============================] - 0s 5ms/step - loss: 3.6916 - mae: 1.5059 - val_loss: 5.7545 - val_mae: 1.8135 - lr: 1.9259e-05\n",
      "Epoch 395/507\n",
      "70/70 [==============================] - 0s 5ms/step - loss: 3.6841 - mae: 1.5054 - val_loss: 5.7534 - val_mae: 1.8128 - lr: 1.9066e-05\n",
      "Epoch 396/507\n",
      "70/70 [==============================] - 0s 5ms/step - loss: 3.6683 - mae: 1.5024 - val_loss: 5.7568 - val_mae: 1.8124 - lr: 1.8876e-05\n",
      "Epoch 397/507\n",
      "70/70 [==============================] - 0s 5ms/step - loss: 3.6701 - mae: 1.5029 - val_loss: 5.7487 - val_mae: 1.8116 - lr: 1.8687e-05\n",
      "Epoch 398/507\n",
      "70/70 [==============================] - 0s 5ms/step - loss: 3.6118 - mae: 1.4905 - val_loss: 5.7493 - val_mae: 1.8117 - lr: 1.8500e-05\n",
      "Epoch 399/507\n",
      "70/70 [==============================] - 0s 5ms/step - loss: 3.6163 - mae: 1.4892 - val_loss: 5.7524 - val_mae: 1.8117 - lr: 1.8315e-05\n",
      "Epoch 400/507\n",
      "70/70 [==============================] - 0s 5ms/step - loss: 3.6594 - mae: 1.4969 - val_loss: 5.7486 - val_mae: 1.8108 - lr: 1.8132e-05\n",
      "Epoch 401/507\n",
      "70/70 [==============================] - 0s 5ms/step - loss: 3.6339 - mae: 1.4905 - val_loss: 5.7514 - val_mae: 1.8126 - lr: 1.7951e-05\n",
      "Epoch 402/507\n",
      "70/70 [==============================] - 0s 5ms/step - loss: 3.6449 - mae: 1.4971 - val_loss: 5.7506 - val_mae: 1.8121 - lr: 1.7771e-05\n",
      "Epoch 403/507\n",
      "70/70 [==============================] - 0s 5ms/step - loss: 3.6174 - mae: 1.4886 - val_loss: 5.7468 - val_mae: 1.8120 - lr: 1.7593e-05\n",
      "Epoch 404/507\n",
      "70/70 [==============================] - 0s 5ms/step - loss: 3.6359 - mae: 1.4942 - val_loss: 5.7510 - val_mae: 1.8130 - lr: 1.7417e-05\n",
      "Epoch 405/507\n",
      "70/70 [==============================] - 0s 5ms/step - loss: 3.6553 - mae: 1.4975 - val_loss: 5.7558 - val_mae: 1.8132 - lr: 1.7243e-05\n",
      "Epoch 406/507\n",
      "70/70 [==============================] - 0s 5ms/step - loss: 3.6455 - mae: 1.4973 - val_loss: 5.7572 - val_mae: 1.8137 - lr: 1.7071e-05\n",
      "Epoch 407/507\n",
      "70/70 [==============================] - 0s 5ms/step - loss: 3.6245 - mae: 1.4910 - val_loss: 5.7589 - val_mae: 1.8137 - lr: 1.6900e-05\n",
      "Epoch 408/507\n",
      "70/70 [==============================] - 0s 5ms/step - loss: 3.6196 - mae: 1.4912 - val_loss: 5.7581 - val_mae: 1.8141 - lr: 1.6731e-05\n",
      "Epoch 409/507\n",
      "70/70 [==============================] - 0s 5ms/step - loss: 3.6577 - mae: 1.4954 - val_loss: 5.7583 - val_mae: 1.8139 - lr: 1.6564e-05\n",
      "Epoch 410/507\n",
      "70/70 [==============================] - 0s 5ms/step - loss: 3.6461 - mae: 1.4977 - val_loss: 5.7565 - val_mae: 1.8137 - lr: 1.6398e-05\n",
      "Epoch 411/507\n",
      "70/70 [==============================] - 0s 5ms/step - loss: 3.6347 - mae: 1.4941 - val_loss: 5.7536 - val_mae: 1.8138 - lr: 1.6234e-05\n",
      "Epoch 412/507\n",
      "70/70 [==============================] - 0s 5ms/step - loss: 3.6550 - mae: 1.4984 - val_loss: 5.7592 - val_mae: 1.8139 - lr: 1.6072e-05\n",
      "Epoch 413/507\n",
      "70/70 [==============================] - 0s 5ms/step - loss: 3.6622 - mae: 1.4972 - val_loss: 5.7518 - val_mae: 1.8121 - lr: 1.5911e-05\n",
      "Epoch 414/507\n",
      "70/70 [==============================] - 0s 5ms/step - loss: 3.6203 - mae: 1.4911 - val_loss: 5.7503 - val_mae: 1.8120 - lr: 1.5752e-05\n",
      "Epoch 415/507\n",
      "70/70 [==============================] - 0s 5ms/step - loss: 3.6021 - mae: 1.4846 - val_loss: 5.7541 - val_mae: 1.8122 - lr: 1.5594e-05\n",
      "Epoch 416/507\n",
      "70/70 [==============================] - 0s 5ms/step - loss: 3.6149 - mae: 1.4908 - val_loss: 5.7534 - val_mae: 1.8125 - lr: 1.5439e-05\n",
      "Epoch 417/507\n",
      "70/70 [==============================] - 0s 5ms/step - loss: 3.5952 - mae: 1.4876 - val_loss: 5.7560 - val_mae: 1.8120 - lr: 1.5284e-05\n",
      "Epoch 418/507\n",
      "70/70 [==============================] - 0s 5ms/step - loss: 3.6179 - mae: 1.4894 - val_loss: 5.7503 - val_mae: 1.8123 - lr: 1.5131e-05\n",
      "Epoch 419/507\n",
      "70/70 [==============================] - 0s 5ms/step - loss: 3.6227 - mae: 1.4938 - val_loss: 5.7492 - val_mae: 1.8121 - lr: 1.4980e-05\n",
      "Epoch 420/507\n",
      "70/70 [==============================] - 0s 5ms/step - loss: 3.6677 - mae: 1.5013 - val_loss: 5.7537 - val_mae: 1.8121 - lr: 1.4830e-05\n",
      "Epoch 421/507\n",
      "70/70 [==============================] - 0s 5ms/step - loss: 3.6850 - mae: 1.5072 - val_loss: 5.7588 - val_mae: 1.8133 - lr: 1.4682e-05\n",
      "Epoch 422/507\n",
      "70/70 [==============================] - 0s 5ms/step - loss: 3.5799 - mae: 1.4802 - val_loss: 5.7516 - val_mae: 1.8124 - lr: 1.4535e-05\n",
      "Epoch 423/507\n",
      "70/70 [==============================] - 0s 5ms/step - loss: 3.6686 - mae: 1.5027 - val_loss: 5.7566 - val_mae: 1.8136 - lr: 1.4390e-05\n",
      "Epoch 424/507\n",
      "70/70 [==============================] - 0s 5ms/step - loss: 3.6351 - mae: 1.4945 - val_loss: 5.7533 - val_mae: 1.8130 - lr: 1.4246e-05\n",
      "Epoch 425/507\n",
      "70/70 [==============================] - 0s 5ms/step - loss: 3.6521 - mae: 1.4995 - val_loss: 5.7611 - val_mae: 1.8136 - lr: 1.4103e-05\n",
      "Epoch 426/507\n",
      "70/70 [==============================] - 0s 5ms/step - loss: 3.6866 - mae: 1.5016 - val_loss: 5.7644 - val_mae: 1.8137 - lr: 1.3962e-05\n",
      "Epoch 427/507\n",
      "70/70 [==============================] - 0s 6ms/step - loss: 3.6494 - mae: 1.5000 - val_loss: 5.7577 - val_mae: 1.8138 - lr: 1.3823e-05\n",
      "Epoch 428/507\n",
      "70/70 [==============================] - 0s 5ms/step - loss: 3.6053 - mae: 1.4851 - val_loss: 5.7591 - val_mae: 1.8133 - lr: 1.3684e-05\n",
      "Epoch 429/507\n",
      "70/70 [==============================] - 0s 6ms/step - loss: 3.6746 - mae: 1.5019 - val_loss: 5.7548 - val_mae: 1.8128 - lr: 1.3548e-05\n",
      "Epoch 430/507\n",
      "70/70 [==============================] - 0s 6ms/step - loss: 3.6387 - mae: 1.4939 - val_loss: 5.7652 - val_mae: 1.8146 - lr: 1.3412e-05\n",
      "Epoch 431/507\n",
      "70/70 [==============================] - 0s 6ms/step - loss: 3.6468 - mae: 1.4999 - val_loss: 5.7617 - val_mae: 1.8145 - lr: 1.3278e-05\n",
      "Epoch 432/507\n",
      "70/70 [==============================] - 0s 5ms/step - loss: 3.6326 - mae: 1.4955 - val_loss: 5.7601 - val_mae: 1.8145 - lr: 1.3145e-05\n",
      "Epoch 433/507\n",
      "70/70 [==============================] - 0s 5ms/step - loss: 3.6543 - mae: 1.4968 - val_loss: 5.7568 - val_mae: 1.8133 - lr: 1.3014e-05\n",
      "Epoch 434/507\n",
      "70/70 [==============================] - 0s 5ms/step - loss: 3.6264 - mae: 1.4938 - val_loss: 5.7610 - val_mae: 1.8133 - lr: 1.2884e-05\n",
      "Epoch 435/507\n",
      "70/70 [==============================] - 0s 5ms/step - loss: 3.6082 - mae: 1.4867 - val_loss: 5.7640 - val_mae: 1.8137 - lr: 1.2755e-05\n",
      "Epoch 436/507\n",
      "70/70 [==============================] - 0s 5ms/step - loss: 3.5980 - mae: 1.4862 - val_loss: 5.7582 - val_mae: 1.8134 - lr: 1.2627e-05\n",
      "Epoch 437/507\n",
      "70/70 [==============================] - 0s 5ms/step - loss: 3.6526 - mae: 1.4974 - val_loss: 5.7613 - val_mae: 1.8138 - lr: 1.2501e-05\n",
      "Epoch 438/507\n",
      "70/70 [==============================] - 0s 5ms/step - loss: 3.6083 - mae: 1.4893 - val_loss: 5.7561 - val_mae: 1.8129 - lr: 1.2376e-05\n",
      "Epoch 439/507\n",
      "70/70 [==============================] - 0s 5ms/step - loss: 3.6442 - mae: 1.4980 - val_loss: 5.7595 - val_mae: 1.8132 - lr: 1.2252e-05\n",
      "Epoch 440/507\n",
      "70/70 [==============================] - 0s 5ms/step - loss: 3.6480 - mae: 1.4948 - val_loss: 5.7639 - val_mae: 1.8143 - lr: 1.2130e-05\n",
      "Epoch 441/507\n",
      "70/70 [==============================] - 0s 5ms/step - loss: 3.6240 - mae: 1.4891 - val_loss: 5.7710 - val_mae: 1.8151 - lr: 1.2008e-05\n",
      "Epoch 442/507\n",
      "70/70 [==============================] - 0s 5ms/step - loss: 3.6019 - mae: 1.4872 - val_loss: 5.7680 - val_mae: 1.8149 - lr: 1.1888e-05\n",
      "Epoch 443/507\n",
      "70/70 [==============================] - 0s 5ms/step - loss: 3.6312 - mae: 1.4936 - val_loss: 5.7717 - val_mae: 1.8148 - lr: 1.1769e-05\n",
      "Epoch 444/507\n",
      "70/70 [==============================] - 0s 5ms/step - loss: 3.6381 - mae: 1.4930 - val_loss: 5.7690 - val_mae: 1.8144 - lr: 1.1652e-05\n"
     ]
    },
    {
     "name": "stdout",
     "output_type": "stream",
     "text": [
      "Epoch 445/507\n",
      "70/70 [==============================] - 0s 5ms/step - loss: 3.6287 - mae: 1.4936 - val_loss: 5.7655 - val_mae: 1.8139 - lr: 1.1535e-05\n",
      "Epoch 446/507\n",
      "70/70 [==============================] - 0s 5ms/step - loss: 3.6266 - mae: 1.4920 - val_loss: 5.7644 - val_mae: 1.8134 - lr: 1.1420e-05\n",
      "Epoch 447/507\n",
      "70/70 [==============================] - 0s 5ms/step - loss: 3.6619 - mae: 1.4989 - val_loss: 5.7611 - val_mae: 1.8130 - lr: 1.1306e-05\n",
      "Epoch 448/507\n",
      "70/70 [==============================] - 0s 5ms/step - loss: 3.6573 - mae: 1.4991 - val_loss: 5.7693 - val_mae: 1.8144 - lr: 1.1193e-05\n",
      "Epoch 449/507\n",
      "70/70 [==============================] - 0s 5ms/step - loss: 3.6410 - mae: 1.4959 - val_loss: 5.7677 - val_mae: 1.8131 - lr: 1.1081e-05\n",
      "Epoch 450/507\n",
      "70/70 [==============================] - 0s 5ms/step - loss: 3.6778 - mae: 1.5061 - val_loss: 5.7692 - val_mae: 1.8142 - lr: 1.0970e-05\n",
      "Epoch 451/507\n",
      "70/70 [==============================] - 0s 5ms/step - loss: 3.6121 - mae: 1.4919 - val_loss: 5.7629 - val_mae: 1.8135 - lr: 1.0860e-05\n",
      "Epoch 452/507\n",
      "70/70 [==============================] - 0s 5ms/step - loss: 3.6409 - mae: 1.4946 - val_loss: 5.7658 - val_mae: 1.8134 - lr: 1.0752e-05\n",
      "Epoch 453/507\n",
      "70/70 [==============================] - 0s 5ms/step - loss: 3.6459 - mae: 1.4968 - val_loss: 5.7618 - val_mae: 1.8130 - lr: 1.0644e-05\n",
      "Epoch 454/507\n",
      "70/70 [==============================] - 0s 5ms/step - loss: 3.6189 - mae: 1.4908 - val_loss: 5.7609 - val_mae: 1.8135 - lr: 1.0538e-05\n",
      "Epoch 455/507\n",
      "70/70 [==============================] - 0s 5ms/step - loss: 3.6474 - mae: 1.4968 - val_loss: 5.7614 - val_mae: 1.8139 - lr: 1.0432e-05\n",
      "Epoch 456/507\n",
      "70/70 [==============================] - 0s 5ms/step - loss: 3.6100 - mae: 1.4858 - val_loss: 5.7579 - val_mae: 1.8131 - lr: 1.0328e-05\n",
      "Epoch 457/507\n",
      "70/70 [==============================] - 0s 5ms/step - loss: 3.6152 - mae: 1.4898 - val_loss: 5.7591 - val_mae: 1.8129 - lr: 1.0225e-05\n",
      "Epoch 458/507\n",
      "70/70 [==============================] - 0s 5ms/step - loss: 3.6390 - mae: 1.4948 - val_loss: 5.7650 - val_mae: 1.8139 - lr: 1.0122e-05\n",
      "Epoch 459/507\n",
      "70/70 [==============================] - 0s 5ms/step - loss: 3.6220 - mae: 1.4929 - val_loss: 5.7597 - val_mae: 1.8130 - lr: 1.0021e-05\n",
      "Epoch 460/507\n",
      "70/70 [==============================] - 0s 5ms/step - loss: 3.6652 - mae: 1.5024 - val_loss: 5.7636 - val_mae: 1.8140 - lr: 9.9210e-06\n",
      "Epoch 461/507\n",
      "70/70 [==============================] - 0s 5ms/step - loss: 3.5907 - mae: 1.4830 - val_loss: 5.7659 - val_mae: 1.8135 - lr: 9.8218e-06\n",
      "Epoch 462/507\n",
      "70/70 [==============================] - 0s 5ms/step - loss: 3.6175 - mae: 1.4884 - val_loss: 5.7702 - val_mae: 1.8135 - lr: 9.7235e-06\n",
      "Epoch 463/507\n",
      "70/70 [==============================] - 0s 5ms/step - loss: 3.6190 - mae: 1.4913 - val_loss: 5.7670 - val_mae: 1.8130 - lr: 9.6263e-06\n",
      "Epoch 464/507\n",
      "70/70 [==============================] - 0s 5ms/step - loss: 3.6016 - mae: 1.4855 - val_loss: 5.7644 - val_mae: 1.8132 - lr: 9.5300e-06\n",
      "Epoch 465/507\n",
      "70/70 [==============================] - 0s 5ms/step - loss: 3.5728 - mae: 1.4776 - val_loss: 5.7688 - val_mae: 1.8141 - lr: 9.4347e-06\n",
      "Epoch 466/507\n",
      "70/70 [==============================] - 0s 5ms/step - loss: 3.6000 - mae: 1.4891 - val_loss: 5.7690 - val_mae: 1.8137 - lr: 9.3404e-06\n",
      "Epoch 467/507\n",
      "70/70 [==============================] - 0s 5ms/step - loss: 3.6053 - mae: 1.4882 - val_loss: 5.7702 - val_mae: 1.8140 - lr: 9.2470e-06\n",
      "Epoch 468/507\n",
      "70/70 [==============================] - 0s 5ms/step - loss: 3.6597 - mae: 1.4984 - val_loss: 5.7735 - val_mae: 1.8146 - lr: 9.1545e-06\n",
      "Epoch 469/507\n",
      "70/70 [==============================] - 0s 5ms/step - loss: 3.6444 - mae: 1.4962 - val_loss: 5.7730 - val_mae: 1.8147 - lr: 9.0630e-06\n",
      "Epoch 470/507\n",
      "70/70 [==============================] - 0s 5ms/step - loss: 3.6165 - mae: 1.4872 - val_loss: 5.7762 - val_mae: 1.8147 - lr: 8.9724e-06\n",
      "Epoch 471/507\n",
      "70/70 [==============================] - 0s 5ms/step - loss: 3.6520 - mae: 1.4981 - val_loss: 5.7723 - val_mae: 1.8152 - lr: 8.8826e-06\n",
      "Epoch 472/507\n",
      "70/70 [==============================] - 0s 5ms/step - loss: 3.6288 - mae: 1.4944 - val_loss: 5.7685 - val_mae: 1.8149 - lr: 8.7938e-06\n",
      "Epoch 473/507\n",
      "70/70 [==============================] - 0s 5ms/step - loss: 3.6164 - mae: 1.4864 - val_loss: 5.7692 - val_mae: 1.8148 - lr: 8.7059e-06\n",
      "Epoch 474/507\n",
      "70/70 [==============================] - 0s 5ms/step - loss: 3.5611 - mae: 1.4790 - val_loss: 5.7709 - val_mae: 1.8140 - lr: 8.6188e-06\n",
      "Epoch 475/507\n",
      "70/70 [==============================] - 0s 5ms/step - loss: 3.6283 - mae: 1.4960 - val_loss: 5.7689 - val_mae: 1.8143 - lr: 8.5326e-06\n",
      "Epoch 476/507\n",
      "70/70 [==============================] - 0s 5ms/step - loss: 3.6831 - mae: 1.5031 - val_loss: 5.7737 - val_mae: 1.8143 - lr: 8.4473e-06\n",
      "Epoch 477/507\n",
      "70/70 [==============================] - 0s 5ms/step - loss: 3.6562 - mae: 1.4965 - val_loss: 5.7755 - val_mae: 1.8152 - lr: 8.3628e-06\n",
      "Epoch 478/507\n",
      "70/70 [==============================] - 0s 6ms/step - loss: 3.6499 - mae: 1.4977 - val_loss: 5.7682 - val_mae: 1.8147 - lr: 8.2792e-06\n",
      "Epoch 479/507\n",
      "70/70 [==============================] - 0s 5ms/step - loss: 3.6122 - mae: 1.4883 - val_loss: 5.7647 - val_mae: 1.8141 - lr: 8.1964e-06\n",
      "Epoch 480/507\n",
      "70/70 [==============================] - 0s 5ms/step - loss: 3.6287 - mae: 1.4970 - val_loss: 5.7699 - val_mae: 1.8143 - lr: 8.1144e-06\n",
      "Epoch 481/507\n",
      "70/70 [==============================] - 0s 5ms/step - loss: 3.6698 - mae: 1.5003 - val_loss: 5.7739 - val_mae: 1.8165 - lr: 8.0333e-06\n",
      "Epoch 482/507\n",
      "70/70 [==============================] - 0s 5ms/step - loss: 3.6134 - mae: 1.4917 - val_loss: 5.7739 - val_mae: 1.8160 - lr: 7.9530e-06\n",
      "Epoch 483/507\n",
      "70/70 [==============================] - 0s 5ms/step - loss: 3.5914 - mae: 1.4840 - val_loss: 5.7741 - val_mae: 1.8152 - lr: 7.8734e-06\n",
      "Epoch 484/507\n",
      "70/70 [==============================] - 0s 5ms/step - loss: 3.5914 - mae: 1.4830 - val_loss: 5.7745 - val_mae: 1.8155 - lr: 7.7947e-06\n",
      "Epoch 485/507\n",
      "70/70 [==============================] - 0s 5ms/step - loss: 3.6258 - mae: 1.4929 - val_loss: 5.7750 - val_mae: 1.8155 - lr: 7.7167e-06\n",
      "Epoch 486/507\n",
      "70/70 [==============================] - 0s 5ms/step - loss: 3.6158 - mae: 1.4907 - val_loss: 5.7735 - val_mae: 1.8153 - lr: 7.6396e-06\n",
      "Epoch 487/507\n",
      "70/70 [==============================] - 0s 5ms/step - loss: 3.6114 - mae: 1.4925 - val_loss: 5.7752 - val_mae: 1.8156 - lr: 7.5632e-06\n",
      "Epoch 488/507\n",
      "70/70 [==============================] - 0s 5ms/step - loss: 3.6144 - mae: 1.4864 - val_loss: 5.7829 - val_mae: 1.8164 - lr: 7.4876e-06\n",
      "Epoch 489/507\n",
      "70/70 [==============================] - 0s 5ms/step - loss: 3.6471 - mae: 1.4979 - val_loss: 5.7768 - val_mae: 1.8154 - lr: 7.4127e-06\n",
      "Epoch 490/507\n",
      "70/70 [==============================] - 0s 5ms/step - loss: 3.6751 - mae: 1.5018 - val_loss: 5.7777 - val_mae: 1.8156 - lr: 7.3385e-06\n",
      "Epoch 491/507\n",
      "70/70 [==============================] - 0s 5ms/step - loss: 3.6429 - mae: 1.4957 - val_loss: 5.7779 - val_mae: 1.8160 - lr: 7.2652e-06\n",
      "Epoch 492/507\n",
      "70/70 [==============================] - 0s 5ms/step - loss: 3.6480 - mae: 1.4968 - val_loss: 5.7756 - val_mae: 1.8158 - lr: 7.1925e-06\n",
      "Epoch 493/507\n",
      "70/70 [==============================] - 0s 5ms/step - loss: 3.6316 - mae: 1.4915 - val_loss: 5.7774 - val_mae: 1.8156 - lr: 7.1206e-06\n",
      "Epoch 494/507\n",
      "70/70 [==============================] - 0s 5ms/step - loss: 3.6149 - mae: 1.4890 - val_loss: 5.7741 - val_mae: 1.8153 - lr: 7.0494e-06\n",
      "Epoch 495/507\n",
      "70/70 [==============================] - 0s 5ms/step - loss: 3.6147 - mae: 1.4921 - val_loss: 5.7730 - val_mae: 1.8150 - lr: 6.9789e-06\n",
      "Epoch 496/507\n",
      "70/70 [==============================] - 0s 5ms/step - loss: 3.6163 - mae: 1.4881 - val_loss: 5.7743 - val_mae: 1.8147 - lr: 6.9091e-06\n",
      "Epoch 497/507\n",
      "70/70 [==============================] - 0s 5ms/step - loss: 3.6033 - mae: 1.4891 - val_loss: 5.7747 - val_mae: 1.8150 - lr: 6.8400e-06\n",
      "Epoch 498/507\n",
      "70/70 [==============================] - 0s 5ms/step - loss: 3.5922 - mae: 1.4815 - val_loss: 5.7702 - val_mae: 1.8150 - lr: 6.7716e-06\n",
      "Epoch 499/507\n",
      "70/70 [==============================] - 0s 5ms/step - loss: 3.6324 - mae: 1.4954 - val_loss: 5.7687 - val_mae: 1.8147 - lr: 6.7039e-06\n"
     ]
    },
    {
     "name": "stdout",
     "output_type": "stream",
     "text": [
      "Epoch 500/507\n",
      "70/70 [==============================] - 0s 5ms/step - loss: 3.5839 - mae: 1.4843 - val_loss: 5.7672 - val_mae: 1.8139 - lr: 6.6369e-06\n",
      "Epoch 501/507\n",
      "70/70 [==============================] - 0s 5ms/step - loss: 3.6201 - mae: 1.4930 - val_loss: 5.7632 - val_mae: 1.8131 - lr: 6.5705e-06\n",
      "Epoch 502/507\n",
      "70/70 [==============================] - 0s 5ms/step - loss: 3.5933 - mae: 1.4864 - val_loss: 5.7621 - val_mae: 1.8131 - lr: 6.5048e-06\n",
      "Epoch 503/507\n",
      "70/70 [==============================] - 0s 5ms/step - loss: 3.6187 - mae: 1.4918 - val_loss: 5.7626 - val_mae: 1.8135 - lr: 6.4397e-06\n",
      "Epoch 504/507\n",
      "70/70 [==============================] - 0s 5ms/step - loss: 3.6242 - mae: 1.4925 - val_loss: 5.7721 - val_mae: 1.8142 - lr: 6.3753e-06\n",
      "Epoch 505/507\n",
      "70/70 [==============================] - 0s 5ms/step - loss: 3.6383 - mae: 1.4935 - val_loss: 5.7731 - val_mae: 1.8152 - lr: 6.3116e-06\n",
      "Epoch 506/507\n",
      "70/70 [==============================] - 0s 5ms/step - loss: 3.6093 - mae: 1.4885 - val_loss: 5.7748 - val_mae: 1.8153 - lr: 6.2485e-06\n",
      "Epoch 507/507\n",
      "70/70 [==============================] - 0s 5ms/step - loss: 3.6466 - mae: 1.4977 - val_loss: 5.7709 - val_mae: 1.8145 - lr: 6.1860e-06\n"
     ]
    }
   ],
   "source": [
    "val_epochs = 507\n",
    "tf.compat.v1.global_variables_initializer()\n",
    "\n",
    "early_stop = tf.keras.callbacks.EarlyStopping( monitor = 'val_loss', patience = 500,verbose = 1, \n",
    "                                              restore_best_weights = True)\n",
    "\n",
    "reduce_lr = tf.keras.callbacks.LearningRateScheduler(scheduler)\n",
    "history = model.fit(train_dataset, validation_data=val_dataset, epochs= val_epochs, callbacks=[reduce_lr, early_stop])"
   ]
  },
  {
   "cell_type": "markdown",
   "id": "7b9d5d5d",
   "metadata": {},
   "source": [
    "# Analizamos accuracy y loss"
   ]
  },
  {
   "cell_type": "code",
   "execution_count": 26,
   "id": "c2c35f5e",
   "metadata": {
    "ExecuteTime": {
     "end_time": "2023-03-30T07:07:32.404463Z",
     "start_time": "2023-03-30T07:07:32.260433Z"
    }
   },
   "outputs": [
    {
     "data": {
      "image/png": "[encoded data removed]",
      "text/plain": [
       "<Figure size 800x800 with 2 Axes>"
      ]
     },
     "metadata": {},
     "output_type": "display_data"
    }
   ],
   "source": [
    "acc = history.history['mae']\n",
    "val_acc = history.history['val_mae']\n",
    "\n",
    "loss = history.history['loss']\n",
    "val_loss = history.history['val_loss']\n",
    "\n",
    "epochs_range = range(507)\n",
    "\n",
    "plt.figure(figsize=(8, 8))\n",
    "plt.subplot(1, 2, 1)\n",
    "plt.plot(epochs_range, acc, label='Training Accuracy')\n",
    "plt.plot(epochs_range, val_acc, label='Validation Accuracy')\n",
    "plt.legend(loc='lower right')\n",
    "plt.title('Training and Validation Accuracy')\n",
    "\n",
    "plt.subplot(1, 2, 2)\n",
    "plt.plot(epochs_range, loss, label='Training Loss')\n",
    "plt.plot(epochs_range, val_loss, label='Validation Loss')\n",
    "plt.legend(loc='upper right')\n",
    "plt.title('Training and Validation Loss')\n",
    "plt.show()"
   ]
  },
  {
   "cell_type": "markdown",
   "id": "9f52efa2",
   "metadata": {},
   "source": [
    "# Guardamos los datos Accuracy y Loss"
   ]
  },
  {
   "cell_type": "code",
   "execution_count": 27,
   "id": "23a31b15",
   "metadata": {
    "ExecuteTime": {
     "end_time": "2023-03-30T07:07:36.869795Z",
     "start_time": "2023-03-30T07:07:36.847466Z"
    }
   },
   "outputs": [],
   "source": [
    "df = pd.DataFrame.from_dict(history.history)\n",
    "df.to_csv('../../Gráficas finales/historytrayec50.csv', index=False)"
   ]
  },
  {
   "cell_type": "markdown",
   "id": "e1af1d19",
   "metadata": {},
   "source": [
    "# Guardamos el modelo"
   ]
  },
  {
   "cell_type": "code",
   "execution_count": 28,
   "id": "3a346828",
   "metadata": {
    "ExecuteTime": {
     "end_time": "2023-03-30T07:07:37.523448Z",
     "start_time": "2023-03-30T07:07:37.512455Z"
    }
   },
   "outputs": [],
   "source": [
    "path_to_save = 'D:/Documentos de trabajo/Maestría/Tesis Maestría/Trabajo Python Tesis/Github Tesis/Modelos/Modelos 20,50'"
   ]
  },
  {
   "cell_type": "code",
   "execution_count": 29,
   "id": "8e86a52a",
   "metadata": {
    "ExecuteTime": {
     "end_time": "2023-03-30T07:07:37.848772Z",
     "start_time": "2023-03-30T07:07:37.812010Z"
    }
   },
   "outputs": [],
   "source": [
    "model.save(path_to_save + '/trayectorias50.h5')"
   ]
  },
  {
   "cell_type": "markdown",
   "id": "efc9d48d",
   "metadata": {},
   "source": [
    "# Importamos el modelo"
   ]
  },
  {
   "cell_type": "code",
   "execution_count": 30,
   "id": "d1d4a1a9",
   "metadata": {
    "ExecuteTime": {
     "end_time": "2023-03-30T07:07:38.523598Z",
     "start_time": "2023-03-30T07:07:38.421821Z"
    }
   },
   "outputs": [],
   "source": [
    "new_model = keras.models.load_model('../../Modelos/Modelos 20,50/trayectorias50.h5')"
   ]
  },
  {
   "cell_type": "markdown",
   "id": "7f6d0ea9",
   "metadata": {},
   "source": [
    "# Probamos el modelo con datos nuevos"
   ]
  },
  {
   "cell_type": "markdown",
   "id": "6ad7f37d",
   "metadata": {},
   "source": [
    "## Creamos nuevos datos"
   ]
  },
  {
   "cell_type": "code",
   "execution_count": 31,
   "id": "b664f200",
   "metadata": {
    "ExecuteTime": {
     "end_time": "2023-03-30T07:07:39.460163Z",
     "start_time": "2023-03-30T07:07:39.316169Z"
    }
   },
   "outputs": [
    {
     "name": "stdout",
     "output_type": "stream",
     "text": [
      "--------------------------------------------\n",
      "[5, 10, 3, 2, 9, 6, 2]\n",
      "(10, 2, 50)\n",
      "1\n"
     ]
    }
   ],
   "source": [
    "import random\n",
    "from scipy.integrate import solve_ivp\n",
    "\n",
    "varf = []\n",
    "coef = []\n",
    "contador = 0\n",
    "for i in range(0, 1):\n",
    "    # constantes\n",
    "    a1 = random.randint(0, 10)\n",
    "    a2 = random.randint(0, 10)\n",
    "    b1 = random.randint(0, 10)\n",
    "    b2 = random.randint(0, 10)\n",
    "    d1 = random.randint(0, 10)\n",
    "    d2 = random.randint(0, 10)\n",
    "    n = random.randint(0, 5)\n",
    "\n",
    "    coef1 = [a1, a2, b1, b2, d1, d2, n]\n",
    "    coef.append(coef1)\n",
    "\n",
    "    def f(t, y):\n",
    "\n",
    "        # asignar a cada ODE a un elemento de vector\n",
    "        X = y[0]\n",
    "        Y = y[1]\n",
    "\n",
    "        # definimos cada ODE\n",
    "        # dX_dt=a1/(1+Y**n)-d1*X+b1\n",
    "        # dY_dt=a2/(1+X**n)-d2*Y+b2\n",
    "        dX_dt = a1/(1+Y**n)-d1*X+b1\n",
    "        dY_dt = a2/(1+X**n)-d2*Y+b1\n",
    "\n",
    "        return [dX_dt, dY_dt]\n",
    "\n",
    "    # Declaramos el vector de tiempo\n",
    "    t_span = [0, 5]\n",
    "    times = np.linspace(t_span[0], t_span[1], 50)\n",
    "\n",
    "    varfci2 = []\n",
    "    for i_ci in range(0, 10):\n",
    "        # Definimos las condiciones iniciales\n",
    "        y0 = np.array([random.randint(0, 10), random.randint(0, 10)])\n",
    "\n",
    "        # Resolvemos\n",
    "        # Modificar manualmente el intervalo de tiempo\n",
    "        sol = solve_ivp(f, t_span, y0, t_eval=times)\n",
    "        # sol=solve_ivp(f, t_span, y0) #Dejar que la librería elija el mejor intervalo\n",
    "        tiempo = sol.t\n",
    "        var1 = sol.y[0]\n",
    "        var2 = sol.y[1]\n",
    "\n",
    "        varfci = np.append([var1], [var2], axis=0)\n",
    "        varfci2.append(varfci)\n",
    "\n",
    "       \n",
    "\n",
    "    varf= varfci2\n",
    "    print('--------------------------------------------')\n",
    "    print(coef1)\n",
    "    print(np.shape(varf))\n",
    "    contador = contador+1\n",
    "    print(contador)\n",
    "\n",
    "varf = np.array(varf)\n",
    "coef = np.array(coef)"
   ]
  },
  {
   "cell_type": "code",
   "execution_count": 32,
   "id": "ffbe4d61",
   "metadata": {
    "ExecuteTime": {
     "end_time": "2023-03-30T07:07:40.135897Z",
     "start_time": "2023-03-30T07:07:40.130913Z"
    }
   },
   "outputs": [],
   "source": [
    "varfnone = varf[None, :]"
   ]
  },
  {
   "cell_type": "markdown",
   "id": "4ea4942b",
   "metadata": {},
   "source": [
    "## Predecimos con los datos nuevos"
   ]
  },
  {
   "cell_type": "code",
   "execution_count": 33,
   "id": "37dce68f",
   "metadata": {
    "ExecuteTime": {
     "end_time": "2023-03-30T07:07:40.698655Z",
     "start_time": "2023-03-30T07:07:40.603460Z"
    }
   },
   "outputs": [
    {
     "name": "stdout",
     "output_type": "stream",
     "text": [
      "1/1 [==============================] - 0s 65ms/step\n",
      "[[2.595283  5.060239  3.3074863 4.5584464 7.590531  3.9408405 2.5181975]]\n"
     ]
    }
   ],
   "source": [
    "new_predictions = new_model.predict(campvecnone)\n",
    "new_predictions = np.round(new_predictions)\n",
    "new_predictions = np.clip(new_predictions, 0, None)\n",
    "print(new_predictions)"
   ]
  },
  {
   "cell_type": "markdown",
   "id": "06c64a67",
   "metadata": {},
   "source": [
    "## Graficamos con los coeficientes reales"
   ]
  },
  {
   "cell_type": "code",
   "execution_count": 34,
   "id": "930a1b59",
   "metadata": {
    "ExecuteTime": {
     "end_time": "2023-03-30T07:07:45.095294Z",
     "start_time": "2023-03-30T07:07:45.021515Z"
    }
   },
   "outputs": [
    {
     "data": {
      "image/png": "[encoded data removed]",
      "text/plain": [
       "<Figure size 500x500 with 1 Axes>"
      ]
     },
     "metadata": {},
     "output_type": "display_data"
    }
   ],
   "source": [
    "t_span = [0, 5]\n",
    "times = np.linspace(t_span[0], t_span[1], 50)\n",
    "plt.figure(figsize=(5,5))\n",
    "plt.plot(times,np.array(varf)[0,0,:], label=\" Concentración X\")\n",
    "plt.plot(times,np.array(varf)[0,1,:], label=\"Concentración Y\")\n",
    "plt.xlabel('Tiempo')\n",
    "plt.ylabel('Concentración de genes')\n",
    "plt.title('Simulación Toggle Swich', fontsize=20)\n",
    "plt.legend()\n",
    "plt.show()"
   ]
  },
  {
   "cell_type": "code",
   "execution_count": 35,
   "id": "be8f3283",
   "metadata": {
    "ExecuteTime": {
     "end_time": "2023-03-30T07:07:45.405504Z",
     "start_time": "2023-03-30T07:07:45.397531Z"
    }
   },
   "outputs": [
    {
     "data": {
      "text/plain": [
       "(1, 7)"
      ]
     },
     "execution_count": 35,
     "metadata": {},
     "output_type": "execute_result"
    }
   ],
   "source": [
    "np.shape(new_predictions)"
   ]
  },
  {
   "cell_type": "markdown",
   "id": "beb6126d",
   "metadata": {},
   "source": [
    "## Graficamos con los coeficientes predecidos"
   ]
  },
  {
   "cell_type": "code",
   "execution_count": 36,
   "id": "84ae10b1",
   "metadata": {
    "ExecuteTime": {
     "end_time": "2023-03-30T07:07:46.526183Z",
     "start_time": "2023-03-30T07:07:46.447517Z"
    }
   },
   "outputs": [
    {
     "data": {
      "image/png": "[encoded data removed]",
      "text/plain": [
       "<Figure size 500x500 with 1 Axes>"
      ]
     },
     "metadata": {},
     "output_type": "display_data"
    }
   ],
   "source": [
    "a1 = new_predictions[0,0]\n",
    "a2 = new_predictions[0,1]\n",
    "b1 = new_predictions[0,2]\n",
    "b2 = new_predictions[0,3]\n",
    "d1 = new_predictions[0,4]\n",
    "d2 = new_predictions[0,5]\n",
    "n = new_predictions[0,6]\n",
    " \n",
    "def f(t, y):\n",
    "\n",
    "    # asignar a cada ODE a un elemento de vector\n",
    "    X = y[0]\n",
    "    Y = y[1]\n",
    "\n",
    "    # definimos cada ODE\n",
    "    dX_dt = a1/(1+Y**n)-d1*X+b1\n",
    "    dY_dt = a2/(1+X**n)-d2*Y+b1\n",
    "\n",
    "    return [dX_dt, dY_dt]\n",
    "\n",
    "# Declaramos el vector de tiempo\n",
    "t_span = [0, 5]\n",
    "times = np.linspace(t_span[0], t_span[1], 50)\n",
    "\n",
    "# Definimos las condiciones iniciales\n",
    "y0 = np.array([10,10])\n",
    "\n",
    "# Resolvemos\n",
    "# Modificar manualmente el intervalo de tiempo\n",
    "sol = solve_ivp(f, t_span, y0, t_eval=times)\n",
    "# sol=solve_ivp(f, t_span, y0) #Dejar que la librería elija el mejor intervalo\n",
    "tiempo = sol.t\n",
    "var1 = sol.y[0]\n",
    "var2 = sol.y[1]\n",
    "\n",
    "# Graficamos\n",
    "plt.figure(figsize=(5, 5))\n",
    "plt.plot(tiempo, var1, label=\" Concentración X\")\n",
    "plt.plot(tiempo, var2, label=\"Concentración Y\")\n",
    "plt.xlabel('Tiempo')\n",
    "plt.ylabel('Concentración de genes')\n",
    "plt.title('Simulación Toggle Swich', fontsize=20)\n",
    "plt.legend()\n",
    "plt.show()"
   ]
  }
 ],
 "metadata": {
  "hide_input": false,
  "kernelspec": {
   "display_name": "Python 3 (ipykernel)",
   "language": "python",
   "name": "python3"
  },
  "language_info": {
   "codemirror_mode": {
    "name": "ipython",
    "version": 3
   },
   "file_extension": ".py",
   "mimetype": "text/x-python",
   "name": "python",
   "nbconvert_exporter": "python",
   "pygments_lexer": "ipython3",
   "version": "3.10.11"
  },
  "toc": {
   "base_numbering": 1,
   "nav_menu": {},
   "number_sections": true,
   "sideBar": true,
   "skip_h1_title": false,
   "title_cell": "Table of Contents",
   "title_sidebar": "Contents",
   "toc_cell": false,
   "toc_position": {},
   "toc_section_display": true,
   "toc_window_display": false
  },
  "varInspector": {
   "cols": {
    "lenName": 16,
    "lenType": 16,
    "lenVar": 40
   },
   "kernels_config": {
    "python": {
     "delete_cmd_postfix": "",
     "delete_cmd_prefix": "del ",
     "library": "var_list.py",
     "varRefreshCmd": "print(var_dic_list())"
    },
    "r": {
     "delete_cmd_postfix": ") ",
     "delete_cmd_prefix": "rm(",
     "library": "var_list.r",
     "varRefreshCmd": "cat(var_dic_list()) "
    }
   },
   "types_to_exclude": [
    "module",
    "function",
    "builtin_function_or_method",
    "instance",
    "_Feature"
   ],
   "window_display": false
  }
 },
 "nbformat": 4,
 "nbformat_minor": 5
}
