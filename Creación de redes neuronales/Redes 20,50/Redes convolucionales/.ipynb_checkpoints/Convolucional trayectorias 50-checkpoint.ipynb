{
 "cells": [
  {
   "cell_type": "markdown",
   "id": "0067cad0",
   "metadata": {},
   "source": [
    "# Importamos librerías"
   ]
  },
  {
   "cell_type": "code",
   "execution_count": 1,
   "id": "b2d4f30f",
   "metadata": {
    "ExecuteTime": {
     "end_time": "2023-05-02T05:38:40.081439Z",
     "start_time": "2023-05-02T05:38:38.466455Z"
    }
   },
   "outputs": [],
   "source": [
    "import tensorflow as tf\n",
    "import pathlib\n",
    "import os\n",
    "import matplotlib.pyplot as plt\n",
    "import pandas as pd\n",
    "import numpy as np\n",
    "import keras"
   ]
  },
  {
   "cell_type": "code",
   "execution_count": 2,
   "id": "20fccfc6",
   "metadata": {
    "ExecuteTime": {
     "end_time": "2023-05-02T05:38:40.112448Z",
     "start_time": "2023-05-02T05:38:40.098439Z"
    }
   },
   "outputs": [],
   "source": [
    "from tensorflow.keras import Sequential\n",
    "from tensorflow.keras.layers import Conv2D\n",
    "from tensorflow.keras.layers import MaxPooling2D\n",
    "from tensorflow.keras.layers import AveragePooling2D\n",
    "from tensorflow.keras.layers import Dense\n",
    "from tensorflow.keras.layers import Flatten\n",
    "from tensorflow.keras.layers import Dropout, BatchNormalization\n",
    "from tensorflow.keras.initializers import HeNormal\n",
    "from keras.regularizers import l1, l2"
   ]
  },
  {
   "cell_type": "code",
   "execution_count": 3,
   "id": "1c769735",
   "metadata": {
    "ExecuteTime": {
     "end_time": "2023-05-02T05:38:40.191449Z",
     "start_time": "2023-05-02T05:38:40.129342Z"
    }
   },
   "outputs": [
    {
     "name": "stdout",
     "output_type": "stream",
     "text": [
      "WARNING:tensorflow:From C:\\Users\\rafae\\AppData\\Local\\Temp\\ipykernel_16628\\337460670.py:1: is_gpu_available (from tensorflow.python.framework.test_util) is deprecated and will be removed in a future version.\n",
      "Instructions for updating:\n",
      "Use `tf.config.list_physical_devices('GPU')` instead.\n"
     ]
    },
    {
     "data": {
      "text/plain": [
       "True"
      ]
     },
     "execution_count": 3,
     "metadata": {},
     "output_type": "execute_result"
    }
   ],
   "source": [
    "tf.test.is_gpu_available()"
   ]
  },
  {
   "cell_type": "markdown",
   "id": "d94b2fbd",
   "metadata": {},
   "source": [
    "# Importamos los datos"
   ]
  },
  {
   "cell_type": "code",
   "execution_count": 4,
   "id": "2cdd79aa",
   "metadata": {
    "ExecuteTime": {
     "end_time": "2023-05-02T05:38:40.807557Z",
     "start_time": "2023-05-02T05:38:40.799487Z"
    }
   },
   "outputs": [],
   "source": [
    "path = '../../../Base de datos/Trayectorias 50 eval'"
   ]
  },
  {
   "cell_type": "markdown",
   "id": "39beab0c",
   "metadata": {},
   "source": [
    "## Datos de entrenamiento"
   ]
  },
  {
   "cell_type": "markdown",
   "id": "ca636b58",
   "metadata": {},
   "source": [
    "### Datos"
   ]
  },
  {
   "cell_type": "code",
   "execution_count": 5,
   "id": "ac8ee3cc",
   "metadata": {
    "ExecuteTime": {
     "end_time": "2023-05-02T05:38:41.755572Z",
     "start_time": "2023-05-02T05:38:41.701852Z"
    }
   },
   "outputs": [],
   "source": [
    "varftrain = np.load(path + '/varftrain.npy')\n",
    "varftrain = np.transpose(varftrain, (0,3,1,2))"
   ]
  },
  {
   "cell_type": "code",
   "execution_count": 6,
   "id": "a2977931",
   "metadata": {
    "ExecuteTime": {
     "end_time": "2023-05-02T05:38:42.132177Z",
     "start_time": "2023-05-02T05:38:42.124451Z"
    }
   },
   "outputs": [
    {
     "data": {
      "text/plain": [
       "(7000, 50, 10, 2)"
      ]
     },
     "execution_count": 6,
     "metadata": {},
     "output_type": "execute_result"
    }
   ],
   "source": [
    "np.shape(varftrain)"
   ]
  },
  {
   "cell_type": "markdown",
   "id": "4a0e5fa2",
   "metadata": {},
   "source": [
    "### Coeficientes"
   ]
  },
  {
   "cell_type": "code",
   "execution_count": 7,
   "id": "45e5d25a",
   "metadata": {
    "ExecuteTime": {
     "end_time": "2023-05-02T05:38:42.819025Z",
     "start_time": "2023-05-02T05:38:42.813449Z"
    }
   },
   "outputs": [],
   "source": [
    "coefvarftrain = np.load(path + '/coefvarftrain.npy')"
   ]
  },
  {
   "cell_type": "code",
   "execution_count": 8,
   "id": "88f0323d",
   "metadata": {
    "ExecuteTime": {
     "end_time": "2023-05-02T05:38:43.036962Z",
     "start_time": "2023-05-02T05:38:43.023967Z"
    }
   },
   "outputs": [
    {
     "data": {
      "text/plain": [
       "(7000, 7)"
      ]
     },
     "execution_count": 8,
     "metadata": {},
     "output_type": "execute_result"
    }
   ],
   "source": [
    "np.shape(coefvarftrain)"
   ]
  },
  {
   "cell_type": "markdown",
   "id": "c89d3216",
   "metadata": {},
   "source": [
    "## Datos de prueba"
   ]
  },
  {
   "cell_type": "markdown",
   "id": "df843cea",
   "metadata": {},
   "source": [
    "### Datos"
   ]
  },
  {
   "cell_type": "code",
   "execution_count": 9,
   "id": "74030537",
   "metadata": {
    "ExecuteTime": {
     "end_time": "2023-05-02T05:38:44.260592Z",
     "start_time": "2023-05-02T05:38:44.229700Z"
    }
   },
   "outputs": [],
   "source": [
    "varftest = np.load(path + '/varftest.npy')\n",
    "varftest = np.transpose(varftest, (0,3,1,2))"
   ]
  },
  {
   "cell_type": "code",
   "execution_count": 10,
   "id": "d6196850",
   "metadata": {
    "ExecuteTime": {
     "end_time": "2023-05-02T05:38:44.559711Z",
     "start_time": "2023-05-02T05:38:44.542711Z"
    }
   },
   "outputs": [
    {
     "data": {
      "text/plain": [
       "(2000, 50, 10, 2)"
      ]
     },
     "execution_count": 10,
     "metadata": {},
     "output_type": "execute_result"
    }
   ],
   "source": [
    "np.shape(varftest)"
   ]
  },
  {
   "cell_type": "markdown",
   "id": "46a3e36d",
   "metadata": {},
   "source": [
    "### Coeficientes"
   ]
  },
  {
   "cell_type": "code",
   "execution_count": 11,
   "id": "cf22c486",
   "metadata": {
    "ExecuteTime": {
     "end_time": "2023-05-02T05:38:45.551487Z",
     "start_time": "2023-05-02T05:38:45.545487Z"
    }
   },
   "outputs": [],
   "source": [
    "coefvarftest = np.load(path + '/coefvarftest.npy')"
   ]
  },
  {
   "cell_type": "code",
   "execution_count": 12,
   "id": "545559ea",
   "metadata": {
    "ExecuteTime": {
     "end_time": "2023-05-02T05:38:45.850719Z",
     "start_time": "2023-05-02T05:38:45.841449Z"
    }
   },
   "outputs": [
    {
     "data": {
      "text/plain": [
       "(2000, 7)"
      ]
     },
     "execution_count": 12,
     "metadata": {},
     "output_type": "execute_result"
    }
   ],
   "source": [
    "np.shape(coefvarftest)"
   ]
  },
  {
   "cell_type": "markdown",
   "id": "63024745",
   "metadata": {},
   "source": [
    "## Datos de validación"
   ]
  },
  {
   "cell_type": "markdown",
   "id": "9e38f1d7",
   "metadata": {},
   "source": [
    "### Datos"
   ]
  },
  {
   "cell_type": "code",
   "execution_count": 13,
   "id": "6e5768b7",
   "metadata": {
    "ExecuteTime": {
     "end_time": "2023-05-02T05:38:46.976046Z",
     "start_time": "2023-05-02T05:38:46.950538Z"
    }
   },
   "outputs": [],
   "source": [
    "varfval = np.load(path + '/varfval.npy')\n",
    "varfval = np.transpose(varfval, (0,3,1,2))"
   ]
  },
  {
   "cell_type": "code",
   "execution_count": 14,
   "id": "a29f5ec0",
   "metadata": {
    "ExecuteTime": {
     "end_time": "2023-05-02T05:38:47.147787Z",
     "start_time": "2023-05-02T05:38:47.135787Z"
    }
   },
   "outputs": [
    {
     "data": {
      "text/plain": [
       "(1000, 50, 10, 2)"
      ]
     },
     "execution_count": 14,
     "metadata": {},
     "output_type": "execute_result"
    }
   ],
   "source": [
    "np.shape(varfval)"
   ]
  },
  {
   "cell_type": "markdown",
   "id": "ffc618a2",
   "metadata": {},
   "source": [
    "### Coeficienes"
   ]
  },
  {
   "cell_type": "code",
   "execution_count": 15,
   "id": "b323751c",
   "metadata": {
    "ExecuteTime": {
     "end_time": "2023-05-02T05:38:47.729232Z",
     "start_time": "2023-05-02T05:38:47.710451Z"
    }
   },
   "outputs": [],
   "source": [
    "coefvarfval = np.load(path + '/coefvarfval.npy')"
   ]
  },
  {
   "cell_type": "code",
   "execution_count": 16,
   "id": "60df7d7d",
   "metadata": {
    "ExecuteTime": {
     "end_time": "2023-05-02T05:38:47.918449Z",
     "start_time": "2023-05-02T05:38:47.906449Z"
    }
   },
   "outputs": [
    {
     "data": {
      "text/plain": [
       "(1000, 7)"
      ]
     },
     "execution_count": 16,
     "metadata": {},
     "output_type": "execute_result"
    }
   ],
   "source": [
    "np.shape(coefvarfval)"
   ]
  },
  {
   "cell_type": "markdown",
   "id": "e069562d",
   "metadata": {},
   "source": [
    "# Unimos coeficientes con los datos"
   ]
  },
  {
   "cell_type": "code",
   "execution_count": 17,
   "id": "a973df40",
   "metadata": {
    "ExecuteTime": {
     "end_time": "2023-05-02T05:38:48.310485Z",
     "start_time": "2023-05-02T05:38:48.205454Z"
    }
   },
   "outputs": [],
   "source": [
    "train_dataset = tf.data.Dataset.from_tensor_slices((varftrain, coefvarftrain))\n",
    "test_dataset = tf.data.Dataset.from_tensor_slices((varftest, coefvarftest))\n",
    "val_dataset = tf.data.Dataset.from_tensor_slices((varfval, coefvarfval))"
   ]
  },
  {
   "cell_type": "code",
   "execution_count": 18,
   "id": "bc7ee207",
   "metadata": {
    "ExecuteTime": {
     "end_time": "2023-05-02T05:38:48.591856Z",
     "start_time": "2023-05-02T05:38:48.584450Z"
    }
   },
   "outputs": [
    {
     "data": {
      "text/plain": [
       "<TensorSliceDataset element_spec=(TensorSpec(shape=(50, 10, 2), dtype=tf.float64, name=None), TensorSpec(shape=(7,), dtype=tf.int32, name=None))>"
      ]
     },
     "execution_count": 18,
     "metadata": {},
     "output_type": "execute_result"
    }
   ],
   "source": [
    "train_dataset"
   ]
  },
  {
   "cell_type": "markdown",
   "id": "05ebcd40",
   "metadata": {
    "ExecuteTime": {
     "end_time": "2023-02-07T19:36:45.065835Z",
     "start_time": "2023-02-07T19:36:45.042683Z"
    }
   },
   "source": [
    "# Mezclar y procesar por lotes los conjuntos de datos"
   ]
  },
  {
   "cell_type": "code",
   "execution_count": 19,
   "id": "eca4c6bc",
   "metadata": {
    "ExecuteTime": {
     "end_time": "2023-05-02T05:38:49.247555Z",
     "start_time": "2023-05-02T05:38:49.227550Z"
    }
   },
   "outputs": [],
   "source": [
    "BATCH_SIZE = 10\n",
    "SHUFFLE_BUFFER_SIZE = 10\n",
    "\n",
    "train_dataset = train_dataset.shuffle(SHUFFLE_BUFFER_SIZE).batch(BATCH_SIZE)\n",
    "test_dataset = test_dataset.batch(BATCH_SIZE)\n",
    "val_dataset = val_dataset.batch(BATCH_SIZE)"
   ]
  },
  {
   "cell_type": "markdown",
   "id": "76914f6c",
   "metadata": {},
   "source": [
    "# Creación del modelo"
   ]
  },
  {
   "cell_type": "code",
   "execution_count": 20,
   "id": "7b273805",
   "metadata": {
    "ExecuteTime": {
     "end_time": "2023-05-02T05:38:50.289279Z",
     "start_time": "2023-05-02T05:38:50.271352Z"
    }
   },
   "outputs": [],
   "source": [
    "def custom_activation(x):\n",
    "    return 10 * tf.nn.sigmoid(x)"
   ]
  },
  {
   "cell_type": "code",
   "execution_count": 28,
   "id": "4e125f35",
   "metadata": {
    "ExecuteTime": {
     "end_time": "2023-05-02T05:39:01.360449Z",
     "start_time": "2023-05-02T05:39:01.302453Z"
    }
   },
   "outputs": [],
   "source": [
    "model = Sequential()\n",
    "# Primera capa convolucional\n",
    "model.add(Conv2D(32, (3, 3), activation='tanh', input_shape=(50, 10, 2),kernel_initializer=HeNormal(), kernel_regularizer=l1(0.001)))\n",
    "model.add(MaxPooling2D(pool_size=(2, 2)))\n",
    "\n",
    "# Segunda capa convolucional\n",
    "model.add(Conv2D(64, (3, 3), activation='tanh',kernel_initializer=HeNormal(), kernel_regularizer=l1(0.001) ))\n",
    "model.add(MaxPooling2D(pool_size=(2, 2)))\n",
    "\n",
    "# Tercera capa convolucional\n",
    "#model.add(Conv2D(64, (3, 3), activation='tanh',kernel_initializer=HeNormal(), kernel_regularizer=l1(0.001)))\n",
    "\n",
    "model.add(Flatten())\n",
    "model.add(Dense(128, activation='tanh',kernel_initializer=HeNormal(), kernel_regularizer=l1(0.001)))\n",
    "model.add(Dense(64, activation='tanh',kernel_initializer=HeNormal(), kernel_regularizer=l1(0.001)))\n",
    "model.add(Dense(64,activation = 'relu',kernel_initializer=HeNormal(), kernel_regularizer=l1(0.001)))\n",
    "model.add(Dropout(0.3))\n",
    "model.add(Dense(7, activation= custom_activation))\n",
    "\n"
   ]
  },
  {
   "cell_type": "code",
   "execution_count": 29,
   "id": "45fd641f",
   "metadata": {
    "ExecuteTime": {
     "end_time": "2023-05-02T05:39:01.656512Z",
     "start_time": "2023-05-02T05:39:01.639453Z"
    }
   },
   "outputs": [
    {
     "name": "stdout",
     "output_type": "stream",
     "text": [
      "Model: \"sequential_1\"\n",
      "_________________________________________________________________\n",
      " Layer (type)                Output Shape              Param #   \n",
      "=================================================================\n",
      " conv2d_2 (Conv2D)           (None, 48, 8, 32)         608       \n",
      "                                                                 \n",
      " max_pooling2d_2 (MaxPooling  (None, 24, 4, 32)        0         \n",
      " 2D)                                                             \n",
      "                                                                 \n",
      " conv2d_3 (Conv2D)           (None, 22, 2, 64)         18496     \n",
      "                                                                 \n",
      " max_pooling2d_3 (MaxPooling  (None, 11, 1, 64)        0         \n",
      " 2D)                                                             \n",
      "                                                                 \n",
      " flatten_1 (Flatten)         (None, 704)               0         \n",
      "                                                                 \n",
      " dense_4 (Dense)             (None, 128)               90240     \n",
      "                                                                 \n",
      " dense_5 (Dense)             (None, 64)                8256      \n",
      "                                                                 \n",
      " dense_6 (Dense)             (None, 64)                4160      \n",
      "                                                                 \n",
      " dropout_1 (Dropout)         (None, 64)                0         \n",
      "                                                                 \n",
      " dense_7 (Dense)             (None, 7)                 455       \n",
      "                                                                 \n",
      "=================================================================\n",
      "Total params: 122,215\n",
      "Trainable params: 122,215\n",
      "Non-trainable params: 0\n",
      "_________________________________________________________________\n"
     ]
    }
   ],
   "source": [
    "model.summary()"
   ]
  },
  {
   "cell_type": "code",
   "execution_count": 30,
   "id": "78ca1c7f",
   "metadata": {
    "ExecuteTime": {
     "end_time": "2023-05-02T05:39:01.918979Z",
     "start_time": "2023-05-02T05:39:01.906447Z"
    }
   },
   "outputs": [
    {
     "name": "stdout",
     "output_type": "stream",
     "text": [
      "You must install pydot (`pip install pydot`) and install graphviz (see instructions at https://graphviz.gitlab.io/download/) for plot_model to work.\n"
     ]
    }
   ],
   "source": [
    "keras.utils.plot_model(model,show_shapes=True)"
   ]
  },
  {
   "cell_type": "markdown",
   "id": "b761554a",
   "metadata": {},
   "source": [
    "# Entrenamos el modelo"
   ]
  },
  {
   "cell_type": "code",
   "execution_count": 31,
   "id": "a8d0852b",
   "metadata": {
    "ExecuteTime": {
     "end_time": "2023-05-02T05:39:02.345256Z",
     "start_time": "2023-05-02T05:39:02.337256Z"
    }
   },
   "outputs": [],
   "source": [
    "from keras.optimizers import Adam\n",
    "optimizer = Adam(learning_rate=0.001,clipvalue=10.0)"
   ]
  },
  {
   "cell_type": "code",
   "execution_count": 32,
   "id": "4316785f",
   "metadata": {
    "ExecuteTime": {
     "end_time": "2023-05-02T05:39:02.550058Z",
     "start_time": "2023-05-02T05:39:02.540058Z"
    }
   },
   "outputs": [],
   "source": [
    "model.compile(optimizer= optimizer,\n",
    "              loss= 'mse',\n",
    "              metrics=['accuracy'])\n"
   ]
  },
  {
   "cell_type": "code",
   "execution_count": 33,
   "id": "d1303e8d",
   "metadata": {
    "ExecuteTime": {
     "end_time": "2023-05-02T05:39:02.754437Z",
     "start_time": "2023-05-02T05:39:02.744437Z"
    }
   },
   "outputs": [],
   "source": [
    "def scheduler(epoch, lr):\n",
    "  if epoch < 100:\n",
    "    return lr\n",
    "  else:\n",
    "    return 1e-3 -  2e-8* epoch"
   ]
  },
  {
   "cell_type": "code",
   "execution_count": 34,
   "id": "88d710c6",
   "metadata": {
    "ExecuteTime": {
     "end_time": "2023-05-02T05:40:00.113826Z",
     "start_time": "2023-05-02T05:39:02.933442Z"
    }
   },
   "outputs": [
    {
     "name": "stdout",
     "output_type": "stream",
     "text": [
      "Epoch 1/20\n",
      "700/700 [==============================] - 3s 4ms/step - loss: 12.6480 - accuracy: 0.3097 - val_loss: 10.5780 - val_accuracy: 0.3170 - lr: 0.0010\n",
      "Epoch 2/20\n",
      "700/700 [==============================] - 3s 4ms/step - loss: 9.8734 - accuracy: 0.3377 - val_loss: 8.8906 - val_accuracy: 0.3540 - lr: 0.0010\n",
      "Epoch 3/20\n",
      "700/700 [==============================] - 3s 4ms/step - loss: 8.6043 - accuracy: 0.3429 - val_loss: 7.8986 - val_accuracy: 0.3720 - lr: 0.0010\n",
      "Epoch 4/20\n",
      "700/700 [==============================] - 3s 4ms/step - loss: 7.9836 - accuracy: 0.3499 - val_loss: 7.4801 - val_accuracy: 0.3670 - lr: 0.0010\n",
      "Epoch 5/20\n",
      "700/700 [==============================] - 3s 4ms/step - loss: 7.5036 - accuracy: 0.3450 - val_loss: 7.0803 - val_accuracy: 0.3510 - lr: 0.0010\n",
      "Epoch 6/20\n",
      "700/700 [==============================] - 3s 4ms/step - loss: 7.1505 - accuracy: 0.3496 - val_loss: 6.9753 - val_accuracy: 0.3670 - lr: 0.0010\n",
      "Epoch 7/20\n",
      "700/700 [==============================] - 3s 4ms/step - loss: 6.8044 - accuracy: 0.3541 - val_loss: 6.4701 - val_accuracy: 0.3560 - lr: 0.0010\n",
      "Epoch 8/20\n",
      "700/700 [==============================] - 3s 4ms/step - loss: 6.5865 - accuracy: 0.3597 - val_loss: 6.1750 - val_accuracy: 0.3690 - lr: 0.0010\n",
      "Epoch 9/20\n",
      "700/700 [==============================] - 3s 4ms/step - loss: 6.3794 - accuracy: 0.3686 - val_loss: 6.1366 - val_accuracy: 0.3840 - lr: 0.0010\n",
      "Epoch 10/20\n",
      "700/700 [==============================] - 3s 4ms/step - loss: 6.2453 - accuracy: 0.3701 - val_loss: 5.9389 - val_accuracy: 0.3900 - lr: 0.0010\n",
      "Epoch 11/20\n",
      "700/700 [==============================] - 3s 4ms/step - loss: 6.1830 - accuracy: 0.3637 - val_loss: 5.9861 - val_accuracy: 0.3720 - lr: 0.0010\n",
      "Epoch 12/20\n",
      "700/700 [==============================] - 3s 4ms/step - loss: 6.0634 - accuracy: 0.3683 - val_loss: 5.7818 - val_accuracy: 0.3760 - lr: 0.0010\n",
      "Epoch 13/20\n",
      "700/700 [==============================] - 3s 4ms/step - loss: 5.9920 - accuracy: 0.3721 - val_loss: 5.7486 - val_accuracy: 0.3890 - lr: 0.0010\n",
      "Epoch 14/20\n",
      "700/700 [==============================] - 3s 4ms/step - loss: 5.9387 - accuracy: 0.3749 - val_loss: 5.6927 - val_accuracy: 0.3730 - lr: 0.0010\n",
      "Epoch 15/20\n",
      "700/700 [==============================] - 3s 4ms/step - loss: 5.8845 - accuracy: 0.3736 - val_loss: 5.6926 - val_accuracy: 0.3900 - lr: 0.0010\n",
      "Epoch 16/20\n",
      "700/700 [==============================] - 3s 4ms/step - loss: 5.8885 - accuracy: 0.3743 - val_loss: 5.7915 - val_accuracy: 0.3900 - lr: 0.0010\n",
      "Epoch 17/20\n",
      "700/700 [==============================] - 3s 4ms/step - loss: 5.8168 - accuracy: 0.3794 - val_loss: 6.0049 - val_accuracy: 0.3650 - lr: 0.0010\n",
      "Epoch 18/20\n",
      "700/700 [==============================] - 3s 4ms/step - loss: 5.8600 - accuracy: 0.3789 - val_loss: 5.6875 - val_accuracy: 0.3720 - lr: 0.0010\n",
      "Epoch 19/20\n",
      "700/700 [==============================] - 3s 4ms/step - loss: 5.7324 - accuracy: 0.3851 - val_loss: 5.5627 - val_accuracy: 0.3830 - lr: 0.0010\n",
      "Epoch 20/20\n",
      "700/700 [==============================] - 3s 4ms/step - loss: 5.7237 - accuracy: 0.3766 - val_loss: 5.6234 - val_accuracy: 0.3800 - lr: 0.0010\n"
     ]
    }
   ],
   "source": [
    "val_epochs = 20\n",
    "\n",
    "early_stop = tf.keras.callbacks.EarlyStopping( monitor = 'val_loss', patience = 800,verbose = 1, \n",
    "                                              restore_best_weights = True)\n",
    "\n",
    "reduce_lr = tf.keras.callbacks.LearningRateScheduler(scheduler)\n",
    "history = model.fit(train_dataset, validation_data=val_dataset, epochs= val_epochs, callbacks=[reduce_lr, early_stop])"
   ]
  },
  {
   "cell_type": "markdown",
   "id": "7b9d5d5d",
   "metadata": {},
   "source": [
    "# Analizamos accuracy y loss"
   ]
  },
  {
   "cell_type": "code",
   "execution_count": 35,
   "id": "c2c35f5e",
   "metadata": {
    "ExecuteTime": {
     "end_time": "2023-05-02T05:40:03.155599Z",
     "start_time": "2023-05-02T05:40:02.999452Z"
    }
   },
   "outputs": [
    {
     "data": {
      "image/png": "[encoded data removed]",
      "text/plain": [
       "<Figure size 800x800 with 2 Axes>"
      ]
     },
     "metadata": {},
     "output_type": "display_data"
    }
   ],
   "source": [
    "acc = history.history['accuracy']\n",
    "val_acc = history.history['val_accuracy']\n",
    "\n",
    "loss = history.history['loss']\n",
    "val_loss = history.history['val_loss']\n",
    "\n",
    "epochs_range = range(val_epochs)\n",
    "\n",
    "plt.figure(figsize=(8, 8))\n",
    "plt.subplot(1, 2, 1)\n",
    "plt.plot(epochs_range, acc, label='Training Accuracy')\n",
    "plt.plot(epochs_range, val_acc, label='Validation Accuracy')\n",
    "plt.legend(loc='lower right')\n",
    "plt.title('Training and Validation Accuracy')\n",
    "\n",
    "plt.subplot(1, 2, 2)\n",
    "plt.plot(epochs_range, loss, label='Training Loss')\n",
    "plt.plot(epochs_range, val_loss, label='Validation Loss')\n",
    "plt.legend(loc='upper right')\n",
    "plt.title('Training and Validation Loss')\n",
    "plt.show()"
   ]
  },
  {
   "cell_type": "markdown",
   "id": "e4a46d74",
   "metadata": {},
   "source": [
    "# Guardamos los datos de Accuracy y Loss"
   ]
  },
  {
   "cell_type": "code",
   "execution_count": 36,
   "id": "6be459ef",
   "metadata": {
    "ExecuteTime": {
     "end_time": "2023-05-02T05:40:12.835054Z",
     "start_time": "2023-05-02T05:40:12.821449Z"
    }
   },
   "outputs": [],
   "source": [
    "df = pd.DataFrame.from_dict(history.history)\n",
    "df.to_csv('../../../Gráficas finales/History 20,50/historyconvtrayec.csv', index=False)"
   ]
  },
  {
   "cell_type": "markdown",
   "id": "e1af1d19",
   "metadata": {},
   "source": [
    "# Guardamos el modelo"
   ]
  },
  {
   "cell_type": "code",
   "execution_count": 37,
   "id": "3a346828",
   "metadata": {
    "ExecuteTime": {
     "end_time": "2023-05-02T05:40:15.145243Z",
     "start_time": "2023-05-02T05:40:15.129242Z"
    }
   },
   "outputs": [],
   "source": [
    "path_to_save = '../../../Modelos/Modelos 20,50/'"
   ]
  },
  {
   "cell_type": "code",
   "execution_count": 38,
   "id": "8e86a52a",
   "metadata": {
    "ExecuteTime": {
     "end_time": "2023-05-02T05:40:16.099520Z",
     "start_time": "2023-05-02T05:40:16.064832Z"
    }
   },
   "outputs": [],
   "source": [
    "model.save(path_to_save + '/convolucionaltr.h5')"
   ]
  },
  {
   "cell_type": "markdown",
   "id": "efc9d48d",
   "metadata": {},
   "source": [
    "# Importamos el modelo"
   ]
  },
  {
   "cell_type": "code",
   "execution_count": 39,
   "id": "d1d4a1a9",
   "metadata": {
    "ExecuteTime": {
     "end_time": "2023-05-02T05:40:17.631449Z",
     "start_time": "2023-05-02T05:40:17.542493Z"
    }
   },
   "outputs": [],
   "source": [
    "custom_objects = {'custom_activation': custom_activation}\n",
    "new_model = keras.models.load_model('../../../Modelos/Modelos 20,50/convolucionaltr.h5', custom_objects=custom_objects)"
   ]
  },
  {
   "cell_type": "markdown",
   "id": "7f6d0ea9",
   "metadata": {},
   "source": [
    "# Probamos el modelo con datos nuevos"
   ]
  },
  {
   "cell_type": "markdown",
   "id": "6ad7f37d",
   "metadata": {},
   "source": [
    "## Creamos nuevos datos"
   ]
  },
  {
   "cell_type": "code",
   "execution_count": 46,
   "id": "b664f200",
   "metadata": {
    "ExecuteTime": {
     "end_time": "2023-05-02T05:40:46.903452Z",
     "start_time": "2023-05-02T05:40:46.818451Z"
    }
   },
   "outputs": [
    {
     "name": "stdout",
     "output_type": "stream",
     "text": [
      "--------------------------------------------\n",
      "[7, 9, 5, 5, 7, 10, 1]\n",
      "(10, 2, 50)\n",
      "1\n"
     ]
    }
   ],
   "source": [
    "import random\n",
    "from scipy.integrate import solve_ivp\n",
    "\n",
    "varf = []\n",
    "coef = []\n",
    "contador = 0\n",
    "for i in range(0, 1):\n",
    "    # constantes\n",
    "    a1 = random.randint(0, 10)\n",
    "    a2 = random.randint(0, 10)\n",
    "    b1 = random.randint(0, 10)\n",
    "    b2 = random.randint(0, 10)\n",
    "    d1 = random.randint(0, 10)\n",
    "    d2 = random.randint(0, 10)\n",
    "    n = random.randint(0, 5)\n",
    "\n",
    "    coef1 = [a1, a2, b1, b2, d1, d2, n]\n",
    "    coef.append(coef1)\n",
    "\n",
    "    def f(t, y):\n",
    "\n",
    "        # asignar a cada ODE a un elemento de vector\n",
    "        X = y[0]\n",
    "        Y = y[1]\n",
    "\n",
    "        # definimos cada ODE\n",
    "        # dX_dt=a1/(1+Y**n)-d1*X+b1\n",
    "        # dY_dt=a2/(1+X**n)-d2*Y+b2\n",
    "        dX_dt = a1/(1+Y**n)-d1*X+b1\n",
    "        dY_dt = a2/(1+X**n)-d2*Y+b1\n",
    "\n",
    "        return [dX_dt, dY_dt]\n",
    "\n",
    "    # Declaramos el vector de tiempo\n",
    "    t_span = [0, 5]\n",
    "    times = np.linspace(t_span[0], t_span[1], 50)\n",
    "\n",
    "    varfci2 = []\n",
    "    for i_ci in range(0, 10):\n",
    "        # Definimos las condiciones iniciales\n",
    "        y0 = np.array([random.randint(0, 10), random.randint(0, 10)])\n",
    "\n",
    "        # Resolvemos\n",
    "        # Modificar manualmente el intervalo de tiempo\n",
    "        sol = solve_ivp(f, t_span, y0, t_eval=times)\n",
    "        # sol=solve_ivp(f, t_span, y0) #Dejar que la librería elija el mejor intervalo\n",
    "        tiempo = sol.t\n",
    "        var1 = sol.y[0]\n",
    "        var2 = sol.y[1]\n",
    "\n",
    "        varfci = np.append([var1], [var2], axis=0)\n",
    "        varfci2.append(varfci)\n",
    "\n",
    "       \n",
    "\n",
    "    varf= varfci2\n",
    "    print('--------------------------------------------')\n",
    "    print(coef1)\n",
    "    print(np.shape(varf))\n",
    "    contador = contador+1\n",
    "    print(contador)\n",
    "\n",
    "varf = np.array(varf)\n",
    "coef = np.array(coef)"
   ]
  },
  {
   "cell_type": "code",
   "execution_count": 47,
   "id": "ffbe4d61",
   "metadata": {
    "ExecuteTime": {
     "end_time": "2023-05-02T05:40:47.091415Z",
     "start_time": "2023-05-02T05:40:47.082554Z"
    }
   },
   "outputs": [],
   "source": [
    "varfnone = varf[None, :]\n",
    "varfnone = np.transpose(varfnone, (0,3,1,2))"
   ]
  },
  {
   "cell_type": "markdown",
   "id": "4ea4942b",
   "metadata": {},
   "source": [
    "## Predecimos con los datos nuevos"
   ]
  },
  {
   "cell_type": "code",
   "execution_count": 48,
   "id": "37dce68f",
   "metadata": {
    "ExecuteTime": {
     "end_time": "2023-05-02T05:40:48.034143Z",
     "start_time": "2023-05-02T05:40:47.981532Z"
    }
   },
   "outputs": [
    {
     "name": "stdout",
     "output_type": "stream",
     "text": [
      "1/1 [==============================] - 0s 12ms/step\n",
      "[[6. 3. 5. 5. 7. 9. 2.]]\n"
     ]
    }
   ],
   "source": [
    "new_predictions = new_model.predict(varfnone)\n",
    "new_predictions = np.round(new_predictions)\n",
    "new_predictions = np.clip(new_predictions, 0, None)\n",
    "print(new_predictions)"
   ]
  },
  {
   "cell_type": "markdown",
   "id": "06c64a67",
   "metadata": {},
   "source": [
    "## Graficamos con los coeficientes reales"
   ]
  },
  {
   "cell_type": "code",
   "execution_count": 50,
   "id": "930a1b59",
   "metadata": {
    "ExecuteTime": {
     "end_time": "2023-05-02T05:41:01.890492Z",
     "start_time": "2023-05-02T05:41:01.804493Z"
    }
   },
   "outputs": [
    {
     "data": {
      "image/png": "[encoded data removed]",
      "text/plain": [
       "<Figure size 500x500 with 1 Axes>"
      ]
     },
     "metadata": {},
     "output_type": "display_data"
    }
   ],
   "source": [
    "t_span = [0, 5]\n",
    "times = np.linspace(t_span[0], t_span[1], 50)\n",
    "plt.figure(figsize=(5,5))\n",
    "plt.plot(times,np.array(varf)[0,0,:], label=\" Concentración X\")\n",
    "plt.plot(times,np.array(varf)[0,1,:], label=\"Concentración Y\")\n",
    "plt.xlabel('Tiempo')\n",
    "plt.ylabel('Concentración de genes')\n",
    "plt.title('Simulación Toggle Swich', fontsize=20)\n",
    "plt.legend()\n",
    "plt.show()"
   ]
  },
  {
   "cell_type": "code",
   "execution_count": 51,
   "id": "be8f3283",
   "metadata": {
    "ExecuteTime": {
     "end_time": "2023-05-02T05:41:05.776449Z",
     "start_time": "2023-05-02T05:41:05.758450Z"
    }
   },
   "outputs": [
    {
     "data": {
      "text/plain": [
       "(1, 7)"
      ]
     },
     "execution_count": 51,
     "metadata": {},
     "output_type": "execute_result"
    }
   ],
   "source": [
    "np.shape(new_predictions)"
   ]
  },
  {
   "cell_type": "markdown",
   "id": "beb6126d",
   "metadata": {},
   "source": [
    "## Graficamos con los coeficientes predecidos"
   ]
  },
  {
   "cell_type": "code",
   "execution_count": 52,
   "id": "84ae10b1",
   "metadata": {
    "ExecuteTime": {
     "end_time": "2023-05-02T05:41:19.308949Z",
     "start_time": "2023-05-02T05:41:19.215540Z"
    }
   },
   "outputs": [
    {
     "data": {
      "image/png": "[encoded data removed]",
      "text/plain": [
       "<Figure size 500x500 with 1 Axes>"
      ]
     },
     "metadata": {},
     "output_type": "display_data"
    }
   ],
   "source": [
    "a1 = new_predictions[0,0]\n",
    "a2 = new_predictions[0,1]\n",
    "b1 = new_predictions[0,2]\n",
    "b2 = new_predictions[0,3]\n",
    "d1 = new_predictions[0,4]\n",
    "d2 = new_predictions[0,5]\n",
    "n = new_predictions[0,6]\n",
    " \n",
    "def f(t, y):\n",
    "\n",
    "    # asignar a cada ODE a un elemento de vector\n",
    "    X = y[0]\n",
    "    Y = y[1]\n",
    "\n",
    "    # definimos cada ODE\n",
    "    dX_dt = a1/(1+Y**n)-d1*X+b1\n",
    "    dY_dt = a2/(1+X**n)-d2*Y+b1\n",
    "\n",
    "    return [dX_dt, dY_dt]\n",
    "\n",
    "# Declaramos el vector de tiempo\n",
    "t_span = [0, 5]\n",
    "times = np.linspace(t_span[0], t_span[1], 50)\n",
    "\n",
    "# Definimos las condiciones iniciales\n",
    "y0 = np.array([10,5])\n",
    "\n",
    "# Resolvemos\n",
    "# Modificar manualmente el intervalo de tiempo\n",
    "sol = solve_ivp(f, t_span, y0, t_eval=times)\n",
    "# sol=solve_ivp(f, t_span, y0) #Dejar que la librería elija el mejor intervalo\n",
    "tiempo = sol.t\n",
    "var1 = sol.y[0]\n",
    "var2 = sol.y[1]\n",
    "\n",
    "# Graficamos\n",
    "plt.figure(figsize=(5, 5))\n",
    "plt.plot(tiempo, var1, label=\" Concentración X\")\n",
    "plt.plot(tiempo, var2, label=\"Concentración Y\")\n",
    "plt.xlabel('Tiempo')\n",
    "plt.ylabel('Concentración de genes')\n",
    "plt.title('Simulación Toggle Swich', fontsize=20)\n",
    "plt.legend()\n",
    "plt.show()"
   ]
  }
 ],
 "metadata": {
  "hide_input": false,
  "kernelspec": {
   "display_name": "Python 3 (ipykernel)",
   "language": "python",
   "name": "python3"
  },
  "language_info": {
   "codemirror_mode": {
    "name": "ipython",
    "version": 3
   },
   "file_extension": ".py",
   "mimetype": "text/x-python",
   "name": "python",
   "nbconvert_exporter": "python",
   "pygments_lexer": "ipython3",
   "version": "3.10.11"
  },
  "latex_envs": {
   "LaTeX_envs_menu_present": true,
   "autoclose": true,
   "autocomplete": true,
   "bibliofile": "biblio.bib",
   "cite_by": "apalike",
   "current_citInitial": 1,
   "eqLabelWithNumbers": true,
   "eqNumInitial": 1,
   "hotkeys": {
    "equation": "Ctrl-E",
    "itemize": "Ctrl-I"
   },
   "labels_anchors": false,
   "latex_user_defs": false,
   "report_style_numbering": true,
   "user_envs_cfg": false
  },
  "toc": {
   "base_numbering": 1,
   "nav_menu": {},
   "number_sections": true,
   "sideBar": true,
   "skip_h1_title": false,
   "title_cell": "Table of Contents",
   "title_sidebar": "Contents",
   "toc_cell": false,
   "toc_position": {},
   "toc_section_display": true,
   "toc_window_display": false
  },
  "varInspector": {
   "cols": {
    "lenName": 16,
    "lenType": 16,
    "lenVar": 40
   },
   "kernels_config": {
    "python": {
     "delete_cmd_postfix": "",
     "delete_cmd_prefix": "del ",
     "library": "var_list.py",
     "varRefreshCmd": "print(var_dic_list())"
    },
    "r": {
     "delete_cmd_postfix": ") ",
     "delete_cmd_prefix": "rm(",
     "library": "var_list.r",
     "varRefreshCmd": "cat(var_dic_list()) "
    }
   },
   "types_to_exclude": [
    "module",
    "function",
    "builtin_function_or_method",
    "instance",
    "_Feature"
   ],
   "window_display": false
  }
 },
 "nbformat": 4,
 "nbformat_minor": 5
}
