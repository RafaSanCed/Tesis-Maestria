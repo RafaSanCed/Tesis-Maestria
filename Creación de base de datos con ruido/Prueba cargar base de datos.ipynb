{
 "cells": [
  {
   "cell_type": "code",
   "execution_count": 7,
   "id": "923907dc",
   "metadata": {
    "ExecuteTime": {
     "end_time": "2023-01-31T18:09:57.760484Z",
     "start_time": "2023-01-31T18:09:57.743971Z"
    }
   },
   "outputs": [],
   "source": [
    "import numpy as np"
   ]
  },
  {
   "cell_type": "code",
   "execution_count": 6,
   "id": "04e0fd4d",
   "metadata": {
    "ExecuteTime": {
     "end_time": "2023-01-31T17:39:17.777235Z",
     "start_time": "2023-01-31T17:39:17.766149Z"
    }
   },
   "outputs": [
    {
     "data": {
      "text/plain": [
       "array([[[10.        ,  9.8816125 ,  9.76504305, ...,  2.56214446,\n",
       "          2.56214154,  2.56213881],\n",
       "        [ 9.        ,  8.40265914,  7.84652306, ...,  0.41252117,\n",
       "          0.4125055 ,  0.41249084]]])"
      ]
     },
     "execution_count": 6,
     "metadata": {},
     "output_type": "execute_result"
    }
   ],
   "source": [
    "a = np.load('varf.plk.npy')\n",
    "a[1,:,:,:]"
   ]
  },
  {
   "cell_type": "code",
   "execution_count": 11,
   "id": "c59b715e",
   "metadata": {
    "ExecuteTime": {
     "end_time": "2023-01-31T18:11:51.703250Z",
     "start_time": "2023-01-31T18:11:51.600147Z"
    }
   },
   "outputs": [
    {
     "data": {
      "text/plain": [
       "(100, 2, 500, 500)"
      ]
     },
     "execution_count": 11,
     "metadata": {},
     "output_type": "execute_result"
    }
   ],
   "source": [
    "a = np.load('campvec.npy')\n",
    "np.shape(a)"
   ]
  },
  {
   "cell_type": "code",
   "execution_count": null,
   "id": "92334c7e",
   "metadata": {},
   "outputs": [],
   "source": []
  }
 ],
 "metadata": {
  "hide_input": false,
  "kernelspec": {
   "display_name": "Python 3 (ipykernel)",
   "language": "python",
   "name": "python3"
  },
  "language_info": {
   "codemirror_mode": {
    "name": "ipython",
    "version": 3
   },
   "file_extension": ".py",
   "mimetype": "text/x-python",
   "name": "python",
   "nbconvert_exporter": "python",
   "pygments_lexer": "ipython3",
   "version": "3.9.13"
  },
  "toc": {
   "base_numbering": 1,
   "nav_menu": {},
   "number_sections": true,
   "sideBar": true,
   "skip_h1_title": false,
   "title_cell": "Table of Contents",
   "title_sidebar": "Contents",
   "toc_cell": false,
   "toc_position": {},
   "toc_section_display": true,
   "toc_window_display": false
  },
  "varInspector": {
   "cols": {
    "lenName": 16,
    "lenType": 16,
    "lenVar": 40
   },
   "kernels_config": {
    "python": {
     "delete_cmd_postfix": "",
     "delete_cmd_prefix": "del ",
     "library": "var_list.py",
     "varRefreshCmd": "print(var_dic_list())"
    },
    "r": {
     "delete_cmd_postfix": ") ",
     "delete_cmd_prefix": "rm(",
     "library": "var_list.r",
     "varRefreshCmd": "cat(var_dic_list()) "
    }
   },
   "types_to_exclude": [
    "module",
    "function",
    "builtin_function_or_method",
    "instance",
    "_Feature"
   ],
   "window_display": false
  }
 },
 "nbformat": 4,
 "nbformat_minor": 5
}
