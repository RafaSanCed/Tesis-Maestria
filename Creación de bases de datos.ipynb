{
 "cells": [
  {
   "cell_type": "markdown",
   "id": "6838b4a7",
   "metadata": {},
   "source": [
    "# Primera forma\n",
    "\n",
    "Para este caso vamos a resolver un sistema de ecuaciones diferenciales de dos variables, $x$, $y$ tomando en cuenta que las ecuaciones difernciales pueden ser de la siguiente forma: \n",
    "\\begin{equation}\n",
    "\\begin{split}\n",
    "&\\frac{dx}{dt}=ax+by+cxy+d\\\\\n",
    "&\\frac{dy}{dt}=ex+fy+gxy+h\n",
    "\\end{split}\n",
    "\\end{equation}"
   ]
  },
  {
   "cell_type": "code",
   "execution_count": 8,
   "id": "69babe5f",
   "metadata": {
    "ExecuteTime": {
     "end_time": "2022-08-25T06:15:26.016268Z",
     "start_time": "2022-08-25T06:15:26.009290Z"
    }
   },
   "outputs": [],
   "source": [
    "from scipy.integrate import odeint\n",
    "import numpy as np\n",
    "import matplotlib.pyplot as plt\n",
    "import random"
   ]
  },
  {
   "cell_type": "code",
   "execution_count": 50,
   "id": "52f04111",
   "metadata": {
    "ExecuteTime": {
     "end_time": "2022-08-25T06:34:51.363827Z",
     "start_time": "2022-08-25T06:34:51.311032Z"
    }
   },
   "outputs": [
    {
     "name": "stderr",
     "output_type": "stream",
     "text": [
      "C:\\Users\\rafae\\anaconda3\\lib\\site-packages\\scipy\\integrate\\odepack.py:247: ODEintWarning: Excess work done on this call (perhaps wrong Dfun type). Run with full_output = 1 to get quantitative information.\n",
      "  warnings.warn(warning_msg, ODEintWarning)\n"
     ]
    },
    {
     "data": {
      "image/png": "[encoded data removed]",
      "text/plain": [
       "<Figure size 432x288 with 1 Axes>"
      ]
     },
     "metadata": {
      "needs_background": "light"
     },
     "output_type": "display_data"
    }
   ],
   "source": [
    "def odes(sol,t):\n",
    "    #constantes\n",
    "    a=random.uniform(0,100)\n",
    "    b=random.uniform(0,100)\n",
    "    c=random.uniform(0,100)\n",
    "    d=random.uniform(0,100)\n",
    "    e=random.uniform(0,100)\n",
    "    f=random.uniform(0,100)\n",
    "    g=random.uniform(0,100)\n",
    "    h=random.uniform(0,100)\n",
    "    \n",
    "    #asignar a cada ODE a un elemento de vector\n",
    "    x=sol[0]\n",
    "    y=sol[1]\n",
    "    \n",
    "    #definimos cada ODE\n",
    "    dxdt=a*x+b*y+c*x*y+d\n",
    "    dydt=e*x+f*y+g*x*y+h\n",
    "    \n",
    "    return [dxdt,dydt]\n",
    "\n",
    "#Definimos las condiciones iniciales\n",
    "\n",
    "ic=[random.uniform(0,10),random.uniform(0,10)]\n",
    "\n",
    "#Declaramos el vector de tiempo\n",
    "t=np.linspace(0,10,3)\n",
    "sol=odeint(odes,ic,t)\n",
    "\n",
    "x=sol[:,0]\n",
    "y=sol[:,1]\n",
    "\n",
    "#Graficamos\n",
    "plt.plot(t,x)\n",
    "plt.plot(t,y)\n",
    "plt.show()"
   ]
  },
  {
   "cell_type": "code",
   "execution_count": 44,
   "id": "1e1028d6",
   "metadata": {
    "ExecuteTime": {
     "end_time": "2022-08-25T06:32:19.437118Z",
     "start_time": "2022-08-25T06:32:19.421057Z"
    }
   },
   "outputs": [
    {
     "name": "stdout",
     "output_type": "stream",
     "text": [
      "[1524.680240418359, 1249.6523883780883]\n"
     ]
    }
   ],
   "source": [
    "def odes(sol,t):\n",
    "    #constantes\n",
    "    a=random.uniform(0,100)\n",
    "    b=random.uniform(0,100)\n",
    "    c=random.uniform(0,100)\n",
    "    d=random.uniform(0,100)\n",
    "    e=random.uniform(0,100)\n",
    "    f=random.uniform(0,100)\n",
    "    g=random.uniform(0,100)\n",
    "    h=random.uniform(0,100)\n",
    "    \n",
    "    #asignar a cada ODE a un elemento de vector\n",
    "    x=sol[0]\n",
    "    y=sol[1]\n",
    "    \n",
    "    #definimos cada ODE\n",
    "    dxdt=a*x+b*y+c*x*y+d\n",
    "    dydt=e*x+f*y+g*x*y+h\n",
    "    \n",
    "    return [dxdt,dydt]\n",
    "\n",
    "#Definimos las condiciones iniciales\n",
    "\n",
    "ic=[random.uniform(0,10),random.uniform(0,10)]\n",
    "print(odes(ic,0))"
   ]
  },
  {
   "cell_type": "code",
   "execution_count": 51,
   "id": "14a3036e",
   "metadata": {
    "ExecuteTime": {
     "end_time": "2022-08-25T06:36:53.444069Z",
     "start_time": "2022-08-25T06:36:53.382276Z"
    }
   },
   "outputs": [
    {
     "name": "stderr",
     "output_type": "stream",
     "text": [
      "C:\\Users\\rafae\\anaconda3\\lib\\site-packages\\scipy\\integrate\\odepack.py:247: ODEintWarning: Excess work done on this call (perhaps wrong Dfun type). Run with full_output = 1 to get quantitative information.\n",
      "  warnings.warn(warning_msg, ODEintWarning)\n"
     ]
    },
    {
     "data": {
      "image/png": "[encoded data removed]",
      "text/plain": [
       "<Figure size 432x288 with 1 Axes>"
      ]
     },
     "metadata": {
      "needs_background": "light"
     },
     "output_type": "display_data"
    }
   ],
   "source": [
    "def odes(sol,t):\n",
    "    #constantes\n",
    "    a=random.uniform(0,100)\n",
    "    b=random.uniform(0,100)\n",
    "    c=random.uniform(0,100)\n",
    "    d=random.uniform(0,100)\n",
    "    e=random.uniform(0,100)\n",
    "    f=random.uniform(0,100)\n",
    "    g=random.uniform(0,100)\n",
    "    h=random.uniform(0,100)\n",
    "    \n",
    "    #asignar a cada ODE a un elemento de vector\n",
    "    x=sol[0]\n",
    "    y=sol[1]\n",
    "    \n",
    "    #definimos cada ODE\n",
    "    dxdt=a*x+b*y+d\n",
    "    dydt=e*x+f*y+h\n",
    "    \n",
    "    return [dxdt,dydt]\n",
    "\n",
    "#Definimos las condiciones iniciales\n",
    "\n",
    "ic=[random.uniform(0,10),random.uniform(0,10)]\n",
    "\n",
    "#Declaramos el vector de tiempo\n",
    "t=np.linspace(0,10,3)\n",
    "sol=odeint(odes,ic,t)\n",
    "\n",
    "x=sol[:,0]\n",
    "y=sol[:,1]\n",
    "\n",
    "#Graficamos\n",
    "plt.plot(t,x)\n",
    "plt.plot(t,y)\n",
    "plt.show()"
   ]
  },
  {
   "cell_type": "code",
   "execution_count": 46,
   "id": "e767413a",
   "metadata": {
    "ExecuteTime": {
     "end_time": "2022-08-25T06:32:20.761026Z",
     "start_time": "2022-08-25T06:32:20.751060Z"
    }
   },
   "outputs": [
    {
     "data": {
      "text/plain": [
       "array([ 0.        ,  1.11111111,  2.22222222,  3.33333333,  4.44444444,\n",
       "        5.55555556,  6.66666667,  7.77777778,  8.88888889, 10.        ])"
      ]
     },
     "execution_count": 46,
     "metadata": {},
     "output_type": "execute_result"
    }
   ],
   "source": [
    "t"
   ]
  },
  {
   "cell_type": "code",
   "execution_count": 47,
   "id": "72f12e0c",
   "metadata": {
    "ExecuteTime": {
     "end_time": "2022-08-25T06:32:23.191195Z",
     "start_time": "2022-08-25T06:32:23.173993Z"
    }
   },
   "outputs": [
    {
     "data": {
      "text/plain": [
       "array([6.60271888, 6.60273985, 0.        , 1.        , 1.        ,\n",
       "       1.        , 1.        , 0.        , 0.5       , 0.        ])"
      ]
     },
     "execution_count": 47,
     "metadata": {},
     "output_type": "execute_result"
    }
   ],
   "source": [
    "x"
   ]
  },
  {
   "cell_type": "code",
   "execution_count": null,
   "id": "f6cc4fbf",
   "metadata": {},
   "outputs": [],
   "source": []
  }
 ],
 "metadata": {
  "hide_input": false,
  "kernelspec": {
   "display_name": "Python 3 (ipykernel)",
   "language": "python",
   "name": "python3"
  },
  "language_info": {
   "codemirror_mode": {
    "name": "ipython",
    "version": 3
   },
   "file_extension": ".py",
   "mimetype": "text/x-python",
   "name": "python",
   "nbconvert_exporter": "python",
   "pygments_lexer": "ipython3",
   "version": "3.9.12"
  },
  "latex_envs": {
   "LaTeX_envs_menu_present": true,
   "autoclose": true,
   "autocomplete": true,
   "bibliofile": "biblio.bib",
   "cite_by": "apalike",
   "current_citInitial": 1,
   "eqLabelWithNumbers": true,
   "eqNumInitial": 1,
   "hotkeys": {
    "equation": "Ctrl-E",
    "itemize": "Ctrl-I"
   },
   "labels_anchors": false,
   "latex_user_defs": false,
   "report_style_numbering": false,
   "user_envs_cfg": false
  },
  "varInspector": {
   "cols": {
    "lenName": 16,
    "lenType": 16,
    "lenVar": 40
   },
   "kernels_config": {
    "python": {
     "delete_cmd_postfix": "",
     "delete_cmd_prefix": "del ",
     "library": "var_list.py",
     "varRefreshCmd": "print(var_dic_list())"
    },
    "r": {
     "delete_cmd_postfix": ") ",
     "delete_cmd_prefix": "rm(",
     "library": "var_list.r",
     "varRefreshCmd": "cat(var_dic_list()) "
    }
   },
   "types_to_exclude": [
    "module",
    "function",
    "builtin_function_or_method",
    "instance",
    "_Feature"
   ],
   "window_display": false
  }
 },
 "nbformat": 4,
 "nbformat_minor": 5
}
