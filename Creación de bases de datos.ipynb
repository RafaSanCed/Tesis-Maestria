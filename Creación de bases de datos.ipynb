{
 "cells": [
  {
   "cell_type": "markdown",
   "id": "89fcd115",
   "metadata": {},
   "source": [
    "# Primera forma\n",
    "\n",
    "Para este caso vamos a resolver un sistema de ecuaciones diferenciales de dos variables, $x$, $y$ tomando en cuenta que las ecuaciones difernciales pueden ser de la siguiente forma: \n",
    "\\begin{equation}\n",
    "\\begin{split}\n",
    "&\\frac{dX}{dt}=aX+bY+cXY+d\\\\\n",
    "&\\frac{dY}{dt}=eX+fY+gXY+h\n",
    "\\end{split}\n",
    "\\end{equation}"
   ]
  },
  {
   "cell_type": "code",
   "execution_count": 19,
   "id": "65b490da",
   "metadata": {
    "ExecuteTime": {
     "end_time": "2022-08-26T04:49:16.949788Z",
     "start_time": "2022-08-26T04:49:16.933831Z"
    }
   },
   "outputs": [],
   "source": [
    "from scipy.integrate import odeint\n",
    "import numpy as np\n",
    "import matplotlib.pyplot as plt\n",
    "import random\n",
    "from scipy.integrate import solve_ivp"
   ]
  },
  {
   "cell_type": "code",
   "execution_count": 94,
   "id": "6a84f6cb",
   "metadata": {
    "ExecuteTime": {
     "end_time": "2022-08-26T06:10:26.576835Z",
     "start_time": "2022-08-26T06:10:26.430996Z"
    }
   },
   "outputs": [
    {
     "name": "stderr",
     "output_type": "stream",
     "text": [
      "C:\\Users\\Rafa\\Anaconda3\\lib\\site-packages\\scipy\\integrate\\odepack.py:247: ODEintWarning: Excess work done on this call (perhaps wrong Dfun type). Run with full_output = 1 to get quantitative information.\n",
      "  warnings.warn(warning_msg, ODEintWarning)\n"
     ]
    },
    {
     "data": {
      "image/png": "[encoded data removed]",
      "text/plain": [
       "<Figure size 432x288 with 1 Axes>"
      ]
     },
     "metadata": {
      "needs_background": "light"
     },
     "output_type": "display_data"
    }
   ],
   "source": [
    "def odes(sol,t):\n",
    "    #constantes\n",
    "    a=random.uniform(0,100)\n",
    "    b=random.uniform(0,100)\n",
    "    c=random.uniform(0,100)\n",
    "    d=random.uniform(0,100)\n",
    "    e=random.uniform(0,100)\n",
    "    f=random.uniform(0,100)\n",
    "    g=random.uniform(0,100)\n",
    "    h=random.uniform(0,100)\n",
    "    \n",
    "    #asignar a cada ODE a un elemento de vector\n",
    "    x=sol[0]\n",
    "    y=sol[1]\n",
    "    \n",
    "    #definimos cada ODE\n",
    "    dxdt=a*x+b*y+c*x*y+d\n",
    "    dydt=e*x+f*y+g*x*y+h\n",
    "    \n",
    "    return [dxdt,dydt]\n",
    "\n",
    "#Definimos las condiciones iniciales\n",
    "\n",
    "ic=[3.,2.]\n",
    "\n",
    "#Declaramos el vector de tiempo\n",
    "t=np.linspace(0,0.1,100)\n",
    "sol=odeint(odes,ic,t)\n",
    "\n",
    "x=sol[:,0]\n",
    "y=sol[:,1]\n",
    "\n",
    "#Graficamos\n",
    "plt.plot(t,x)\n",
    "plt.plot(t,y)\n",
    "plt.show()"
   ]
  },
  {
   "cell_type": "code",
   "execution_count": 44,
   "id": "1249123c",
   "metadata": {
    "ExecuteTime": {
     "end_time": "2022-08-25T06:32:19.437118Z",
     "start_time": "2022-08-25T06:32:19.421057Z"
    }
   },
   "outputs": [
    {
     "name": "stdout",
     "output_type": "stream",
     "text": [
      "[1524.680240418359, 1249.6523883780883]\n"
     ]
    }
   ],
   "source": [
    "def odes(sol,t):\n",
    "    #constantes\n",
    "    a=random.uniform(0,100)\n",
    "    b=random.uniform(0,100)\n",
    "    c=random.uniform(0,100)\n",
    "    d=random.uniform(0,100)\n",
    "    e=random.uniform(0,100)\n",
    "    f=random.uniform(0,100)\n",
    "    g=random.uniform(0,100)\n",
    "    h=random.uniform(0,100)\n",
    "    \n",
    "    #asignar a cada ODE a un elemento de vector\n",
    "    x=sol[0]\n",
    "    y=sol[1]\n",
    "    \n",
    "    #definimos cada ODE\n",
    "    dxdt=a*x+b*y+c*x*y+d\n",
    "    dydt=e*x+f*y+g*x*y+h\n",
    "    \n",
    "    return [dxdt,dydt]\n",
    "\n",
    "#Definimos las condiciones iniciales\n",
    "\n",
    "ic=[random.uniform(0,10),random.uniform(0,10)]\n",
    "print(odes(ic,0))"
   ]
  },
  {
   "cell_type": "code",
   "execution_count": 135,
   "id": "d1b9cbba",
   "metadata": {
    "ExecuteTime": {
     "end_time": "2022-08-26T06:15:41.932782Z",
     "start_time": "2022-08-26T06:15:41.789162Z"
    }
   },
   "outputs": [
    {
     "data": {
      "image/png": "[encoded data removed]",
      "text/plain": [
       "<Figure size 432x288 with 1 Axes>"
      ]
     },
     "metadata": {
      "needs_background": "light"
     },
     "output_type": "display_data"
    }
   ],
   "source": [
    "def f(t,y):\n",
    "    #constantes\n",
    "    a=random.uniform(0,10)\n",
    "    b=random.uniform(0,10)\n",
    "    c=random.uniform(0,10)\n",
    "    d=random.uniform(0,10)\n",
    "    e=random.uniform(0,10)\n",
    "    f=random.uniform(0,10)\n",
    "    g=random.uniform(0,10)\n",
    "    h=random.uniform(0,10)\n",
    "    \n",
    "    #asignar a cada ODE a un elemento de vector\n",
    "    X=y[0]\n",
    "    Y=y[1]\n",
    "    \n",
    "    #definimos cada ODE\n",
    "    dX_dt=a*X+b*Y+c*X*Y+d\n",
    "    dY_dt=e*X+f*Y+g*X*Y+h\n",
    "    \n",
    "    return [dX_dt,dY_dt]\n",
    "\n",
    "#Declaramos el vector de tiempo\n",
    "t_span=[0,0.02]\n",
    "times=np.linspace(t_span[0], t_span[1], 101)\n",
    "\n",
    "#Definimos las condiciones iniciales\n",
    "y0=np.array([random.uniform(0,10),random.uniform(0,10)])\n",
    "\n",
    "\n",
    "#Resolvemos\n",
    "sol=solve_ivp(f, t_span, y0)\n",
    "tiempo= sol.t\n",
    "var1= sol.y[0]\n",
    "var2= sol.y[1]\n",
    "\n",
    "#Graficamos\n",
    "plt.plot(tiempo,var1)\n",
    "plt.plot(tiempo,var2)\n",
    "plt.show()"
   ]
  },
  {
   "cell_type": "code",
   "execution_count": 136,
   "id": "223e49fe",
   "metadata": {
    "ExecuteTime": {
     "end_time": "2022-08-26T06:15:42.681420Z",
     "start_time": "2022-08-26T06:15:42.662562Z"
    }
   },
   "outputs": [
    {
     "data": {
      "text/plain": [
       "(100,)"
      ]
     },
     "execution_count": 136,
     "metadata": {},
     "output_type": "execute_result"
    }
   ],
   "source": [
    "t.shape"
   ]
  },
  {
   "cell_type": "code",
   "execution_count": 68,
   "id": "3353299e",
   "metadata": {
    "ExecuteTime": {
     "end_time": "2022-08-26T05:58:35.974158Z",
     "start_time": "2022-08-26T05:58:35.957231Z"
    }
   },
   "outputs": [
    {
     "data": {
      "text/plain": [
       "array([2.2501146])"
      ]
     },
     "execution_count": 68,
     "metadata": {},
     "output_type": "execute_result"
    }
   ],
   "source": [
    "Y"
   ]
  },
  {
   "cell_type": "code",
   "execution_count": 58,
   "id": "bc5d469c",
   "metadata": {
    "ExecuteTime": {
     "end_time": "2022-08-26T05:55:58.407747Z",
     "start_time": "2022-08-26T05:55:58.396777Z"
    }
   },
   "outputs": [
    {
     "data": {
      "text/plain": [
       "(1818,)"
      ]
     },
     "execution_count": 58,
     "metadata": {},
     "output_type": "execute_result"
    }
   ],
   "source": [
    "Y.shape"
   ]
  },
  {
   "cell_type": "code",
   "execution_count": 39,
   "id": "8c8aaaa7",
   "metadata": {
    "ExecuteTime": {
     "end_time": "2022-08-26T05:45:38.397311Z",
     "start_time": "2022-08-26T05:45:38.385342Z"
    }
   },
   "outputs": [
    {
     "data": {
      "text/plain": [
       "array([0.])"
      ]
     },
     "execution_count": 39,
     "metadata": {},
     "output_type": "execute_result"
    }
   ],
   "source": [
    "t"
   ]
  },
  {
   "cell_type": "code",
   "execution_count": 45,
   "id": "0d96db5f",
   "metadata": {
    "ExecuteTime": {
     "end_time": "2022-08-26T05:49:19.771695Z",
     "start_time": "2022-08-26T05:49:19.751749Z"
    }
   },
   "outputs": [
    {
     "data": {
      "text/plain": [
       "array([ 0. ,  0.5,  1. ,  1.5,  2. ,  2.5,  3. ,  3.5,  4. ,  4.5,  5. ,\n",
       "        5.5,  6. ,  6.5,  7. ,  7.5,  8. ,  8.5,  9. ,  9.5, 10. , 10.5,\n",
       "       11. , 11.5, 12. , 12.5, 13. , 13.5, 14. , 14.5, 15. , 15.5, 16. ,\n",
       "       16.5, 17. , 17.5, 18. , 18.5, 19. , 19.5, 20. , 20.5, 21. , 21.5,\n",
       "       22. , 22.5, 23. , 23.5, 24. , 24.5, 25. , 25.5, 26. , 26.5, 27. ,\n",
       "       27.5, 28. , 28.5, 29. , 29.5, 30. , 30.5, 31. , 31.5, 32. , 32.5,\n",
       "       33. , 33.5, 34. , 34.5, 35. , 35.5, 36. , 36.5, 37. , 37.5, 38. ,\n",
       "       38.5, 39. , 39.5, 40. , 40.5, 41. , 41.5, 42. , 42.5, 43. , 43.5,\n",
       "       44. , 44.5, 45. , 45.5, 46. , 46.5, 47. , 47.5, 48. , 48.5, 49. ,\n",
       "       49.5, 50. ])"
      ]
     },
     "execution_count": 45,
     "metadata": {},
     "output_type": "execute_result"
    }
   ],
   "source": [
    "times"
   ]
  },
  {
   "cell_type": "code",
   "execution_count": 48,
   "id": "fcdad067",
   "metadata": {
    "ExecuteTime": {
     "end_time": "2022-08-26T05:52:26.266940Z",
     "start_time": "2022-08-26T05:52:26.258964Z"
    }
   },
   "outputs": [
    {
     "data": {
      "text/plain": [
       "array([9.21643008])"
      ]
     },
     "execution_count": 48,
     "metadata": {},
     "output_type": "execute_result"
    }
   ],
   "source": [
    "y"
   ]
  },
  {
   "cell_type": "code",
   "execution_count": 70,
   "id": "99eeeab8",
   "metadata": {
    "ExecuteTime": {
     "end_time": "2022-08-26T05:58:58.343259Z",
     "start_time": "2022-08-26T05:58:58.323318Z"
    }
   },
   "outputs": [
    {
     "data": {
      "text/plain": [
       "50"
      ]
     },
     "execution_count": 70,
     "metadata": {},
     "output_type": "execute_result"
    }
   ],
   "source": [
    "t_span[1]"
   ]
  },
  {
   "cell_type": "code",
   "execution_count": 71,
   "id": "45b9a151",
   "metadata": {
    "ExecuteTime": {
     "end_time": "2022-08-26T05:59:08.056595Z",
     "start_time": "2022-08-26T05:59:08.044628Z"
    }
   },
   "outputs": [
    {
     "data": {
      "text/plain": [
       "array([ 0. ,  0.5,  1. ,  1.5,  2. ,  2.5,  3. ,  3.5,  4. ,  4.5,  5. ,\n",
       "        5.5,  6. ,  6.5,  7. ,  7.5,  8. ,  8.5,  9. ,  9.5, 10. , 10.5,\n",
       "       11. , 11.5, 12. , 12.5, 13. , 13.5, 14. , 14.5, 15. , 15.5, 16. ,\n",
       "       16.5, 17. , 17.5, 18. , 18.5, 19. , 19.5, 20. , 20.5, 21. , 21.5,\n",
       "       22. , 22.5, 23. , 23.5, 24. , 24.5, 25. , 25.5, 26. , 26.5, 27. ,\n",
       "       27.5, 28. , 28.5, 29. , 29.5, 30. , 30.5, 31. , 31.5, 32. , 32.5,\n",
       "       33. , 33.5, 34. , 34.5, 35. , 35.5, 36. , 36.5, 37. , 37.5, 38. ,\n",
       "       38.5, 39. , 39.5, 40. , 40.5, 41. , 41.5, 42. , 42.5, 43. , 43.5,\n",
       "       44. , 44.5, 45. , 45.5, 46. , 46.5, 47. , 47.5, 48. , 48.5, 49. ,\n",
       "       49.5, 50. ])"
      ]
     },
     "execution_count": 71,
     "metadata": {},
     "output_type": "execute_result"
    }
   ],
   "source": [
    "times"
   ]
  },
  {
   "cell_type": "code",
   "execution_count": null,
   "id": "e43af4bd",
   "metadata": {},
   "outputs": [],
   "source": []
  }
 ],
 "metadata": {
  "hide_input": false,
  "kernelspec": {
   "display_name": "Python 3 (ipykernel)",
   "language": "python",
   "name": "python3"
  },
  "language_info": {
   "codemirror_mode": {
    "name": "ipython",
    "version": 3
   },
   "file_extension": ".py",
   "mimetype": "text/x-python",
   "name": "python",
   "nbconvert_exporter": "python",
   "pygments_lexer": "ipython3",
   "version": "3.7.10"
  },
  "latex_envs": {
   "LaTeX_envs_menu_present": true,
   "autoclose": true,
   "autocomplete": true,
   "bibliofile": "biblio.bib",
   "cite_by": "apalike",
   "current_citInitial": 1,
   "eqLabelWithNumbers": true,
   "eqNumInitial": 1,
   "hotkeys": {
    "equation": "Ctrl-E",
    "itemize": "Ctrl-I"
   },
   "labels_anchors": false,
   "latex_user_defs": false,
   "report_style_numbering": false,
   "user_envs_cfg": false
  },
  "varInspector": {
   "cols": {
    "lenName": 16,
    "lenType": 16,
    "lenVar": 40
   },
   "kernels_config": {
    "python": {
     "delete_cmd_postfix": "",
     "delete_cmd_prefix": "del ",
     "library": "var_list.py",
     "varRefreshCmd": "print(var_dic_list())"
    },
    "r": {
     "delete_cmd_postfix": ") ",
     "delete_cmd_prefix": "rm(",
     "library": "var_list.r",
     "varRefreshCmd": "cat(var_dic_list()) "
    }
   },
   "types_to_exclude": [
    "module",
    "function",
    "builtin_function_or_method",
    "instance",
    "_Feature"
   ],
   "window_display": false
  }
 },
 "nbformat": 4,
 "nbformat_minor": 5
}
