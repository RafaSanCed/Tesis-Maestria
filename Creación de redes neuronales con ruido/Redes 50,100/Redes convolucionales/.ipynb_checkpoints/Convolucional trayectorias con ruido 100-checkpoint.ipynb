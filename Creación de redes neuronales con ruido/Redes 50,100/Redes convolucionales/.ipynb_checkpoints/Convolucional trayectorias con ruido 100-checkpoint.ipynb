{
 "cells": [
  {
   "cell_type": "markdown",
   "id": "0067cad0",
   "metadata": {},
   "source": [
    "# Importamos librerías"
   ]
  },
  {
   "cell_type": "code",
   "execution_count": 1,
   "id": "b2d4f30f",
   "metadata": {
    "ExecuteTime": {
     "end_time": "2023-05-02T05:30:27.313449Z",
     "start_time": "2023-05-02T05:30:25.546454Z"
    }
   },
   "outputs": [],
   "source": [
    "import tensorflow as tf\n",
    "import pathlib\n",
    "import os\n",
    "import matplotlib.pyplot as plt\n",
    "import pandas as pd\n",
    "import numpy as np\n",
    "import keras"
   ]
  },
  {
   "cell_type": "code",
   "execution_count": 2,
   "id": "20fccfc6",
   "metadata": {
    "ExecuteTime": {
     "end_time": "2023-05-02T05:30:27.360790Z",
     "start_time": "2023-05-02T05:30:27.345449Z"
    }
   },
   "outputs": [],
   "source": [
    "from tensorflow.keras import Sequential\n",
    "from tensorflow.keras.layers import Conv2D\n",
    "from tensorflow.keras.layers import MaxPooling2D\n",
    "from tensorflow.keras.layers import AveragePooling2D\n",
    "from tensorflow.keras.layers import Dense\n",
    "from tensorflow.keras.layers import Flatten\n",
    "from tensorflow.keras.layers import Dropout, BatchNormalization\n",
    "from tensorflow.keras.initializers import HeNormal\n",
    "from keras.regularizers import l1, l2"
   ]
  },
  {
   "cell_type": "code",
   "execution_count": 3,
   "id": "1c769735",
   "metadata": {
    "ExecuteTime": {
     "end_time": "2023-05-02T05:30:27.469948Z",
     "start_time": "2023-05-02T05:30:27.394432Z"
    }
   },
   "outputs": [
    {
     "name": "stdout",
     "output_type": "stream",
     "text": [
      "WARNING:tensorflow:From C:\\Users\\rafae\\AppData\\Local\\Temp\\ipykernel_30388\\337460670.py:1: is_gpu_available (from tensorflow.python.framework.test_util) is deprecated and will be removed in a future version.\n",
      "Instructions for updating:\n",
      "Use `tf.config.list_physical_devices('GPU')` instead.\n"
     ]
    },
    {
     "data": {
      "text/plain": [
       "True"
      ]
     },
     "execution_count": 3,
     "metadata": {},
     "output_type": "execute_result"
    }
   ],
   "source": [
    "tf.test.is_gpu_available()"
   ]
  },
  {
   "cell_type": "markdown",
   "id": "d94b2fbd",
   "metadata": {},
   "source": [
    "# Importamos los datos"
   ]
  },
  {
   "cell_type": "code",
   "execution_count": 4,
   "id": "2cdd79aa",
   "metadata": {
    "ExecuteTime": {
     "end_time": "2023-05-02T05:30:27.658557Z",
     "start_time": "2023-05-02T05:30:27.654557Z"
    }
   },
   "outputs": [],
   "source": [
    "path = '../../../Base de datos/Trayectorias 100 eval'"
   ]
  },
  {
   "cell_type": "markdown",
   "id": "39beab0c",
   "metadata": {},
   "source": [
    "## Datos de entrenamiento"
   ]
  },
  {
   "cell_type": "markdown",
   "id": "ca636b58",
   "metadata": {},
   "source": [
    "### Datos"
   ]
  },
  {
   "cell_type": "code",
   "execution_count": 5,
   "id": "ac8ee3cc",
   "metadata": {
    "ExecuteTime": {
     "end_time": "2023-05-02T05:30:28.893826Z",
     "start_time": "2023-05-02T05:30:28.757334Z"
    }
   },
   "outputs": [],
   "source": [
    "varftrain = np.load(path + '/varftrain.npy')\n",
    "varftrain = np.transpose(varftrain, (0,3,1,2))"
   ]
  },
  {
   "cell_type": "code",
   "execution_count": 6,
   "id": "a2977931",
   "metadata": {
    "ExecuteTime": {
     "end_time": "2023-05-02T05:30:29.280964Z",
     "start_time": "2023-05-02T05:30:29.265966Z"
    }
   },
   "outputs": [
    {
     "data": {
      "text/plain": [
       "(7000, 100, 10, 2)"
      ]
     },
     "execution_count": 6,
     "metadata": {},
     "output_type": "execute_result"
    }
   ],
   "source": [
    "np.shape(varftrain)"
   ]
  },
  {
   "cell_type": "markdown",
   "id": "4a0e5fa2",
   "metadata": {},
   "source": [
    "### Coeficientes"
   ]
  },
  {
   "cell_type": "code",
   "execution_count": 7,
   "id": "45e5d25a",
   "metadata": {
    "ExecuteTime": {
     "end_time": "2023-05-02T05:30:30.848498Z",
     "start_time": "2023-05-02T05:30:30.829497Z"
    }
   },
   "outputs": [],
   "source": [
    "coefvarftrain = np.load(path + '/coefvarftrain.npy')"
   ]
  },
  {
   "cell_type": "code",
   "execution_count": 8,
   "id": "88f0323d",
   "metadata": {
    "ExecuteTime": {
     "end_time": "2023-05-02T05:30:31.439450Z",
     "start_time": "2023-05-02T05:30:31.421450Z"
    }
   },
   "outputs": [
    {
     "data": {
      "text/plain": [
       "(7000, 7)"
      ]
     },
     "execution_count": 8,
     "metadata": {},
     "output_type": "execute_result"
    }
   ],
   "source": [
    "np.shape(coefvarftrain)"
   ]
  },
  {
   "cell_type": "markdown",
   "id": "c89d3216",
   "metadata": {},
   "source": [
    "## Datos de prueba"
   ]
  },
  {
   "cell_type": "markdown",
   "id": "df843cea",
   "metadata": {},
   "source": [
    "### Datos"
   ]
  },
  {
   "cell_type": "code",
   "execution_count": 9,
   "id": "74030537",
   "metadata": {
    "ExecuteTime": {
     "end_time": "2023-05-02T05:30:32.412074Z",
     "start_time": "2023-05-02T05:30:32.375452Z"
    }
   },
   "outputs": [],
   "source": [
    "varftest = np.load(path + '/varftest.npy')\n",
    "varftest = np.transpose(varftest, (0,3,1,2))"
   ]
  },
  {
   "cell_type": "code",
   "execution_count": 10,
   "id": "d6196850",
   "metadata": {
    "ExecuteTime": {
     "end_time": "2023-05-02T05:30:32.662304Z",
     "start_time": "2023-05-02T05:30:32.654462Z"
    }
   },
   "outputs": [
    {
     "data": {
      "text/plain": [
       "(2000, 100, 10, 2)"
      ]
     },
     "execution_count": 10,
     "metadata": {},
     "output_type": "execute_result"
    }
   ],
   "source": [
    "np.shape(varftest)"
   ]
  },
  {
   "cell_type": "markdown",
   "id": "46a3e36d",
   "metadata": {},
   "source": [
    "### Coeficientes"
   ]
  },
  {
   "cell_type": "code",
   "execution_count": 11,
   "id": "cf22c486",
   "metadata": {
    "ExecuteTime": {
     "end_time": "2023-05-02T05:30:33.132450Z",
     "start_time": "2023-05-02T05:30:33.112563Z"
    }
   },
   "outputs": [],
   "source": [
    "coefvarftest = np.load(path + '/coefvarftest.npy')"
   ]
  },
  {
   "cell_type": "code",
   "execution_count": 12,
   "id": "545559ea",
   "metadata": {
    "ExecuteTime": {
     "end_time": "2023-05-02T05:30:33.320449Z",
     "start_time": "2023-05-02T05:30:33.313449Z"
    }
   },
   "outputs": [
    {
     "data": {
      "text/plain": [
       "(2000, 7)"
      ]
     },
     "execution_count": 12,
     "metadata": {},
     "output_type": "execute_result"
    }
   ],
   "source": [
    "np.shape(coefvarftest)"
   ]
  },
  {
   "cell_type": "markdown",
   "id": "63024745",
   "metadata": {},
   "source": [
    "## Datos de validación"
   ]
  },
  {
   "cell_type": "markdown",
   "id": "9e38f1d7",
   "metadata": {},
   "source": [
    "### Datos"
   ]
  },
  {
   "cell_type": "code",
   "execution_count": 13,
   "id": "6e5768b7",
   "metadata": {
    "ExecuteTime": {
     "end_time": "2023-05-02T05:30:33.990953Z",
     "start_time": "2023-05-02T05:30:33.968954Z"
    }
   },
   "outputs": [],
   "source": [
    "varfval = np.load(path + '/varfval.npy')\n",
    "varfval = np.transpose(varfval, (0,3,1,2))"
   ]
  },
  {
   "cell_type": "code",
   "execution_count": 14,
   "id": "a29f5ec0",
   "metadata": {
    "ExecuteTime": {
     "end_time": "2023-05-02T05:30:34.162454Z",
     "start_time": "2023-05-02T05:30:34.146453Z"
    }
   },
   "outputs": [
    {
     "data": {
      "text/plain": [
       "(1000, 100, 10, 2)"
      ]
     },
     "execution_count": 14,
     "metadata": {},
     "output_type": "execute_result"
    }
   ],
   "source": [
    "np.shape(varfval)"
   ]
  },
  {
   "cell_type": "markdown",
   "id": "ffc618a2",
   "metadata": {},
   "source": [
    "### Coeficienes"
   ]
  },
  {
   "cell_type": "code",
   "execution_count": 15,
   "id": "b323751c",
   "metadata": {
    "ExecuteTime": {
     "end_time": "2023-05-02T05:30:34.489247Z",
     "start_time": "2023-05-02T05:30:34.474450Z"
    }
   },
   "outputs": [],
   "source": [
    "coefvarfval = np.load(path + '/coefvarfval.npy')"
   ]
  },
  {
   "cell_type": "code",
   "execution_count": 16,
   "id": "60df7d7d",
   "metadata": {
    "ExecuteTime": {
     "end_time": "2023-05-02T05:30:34.627994Z",
     "start_time": "2023-05-02T05:30:34.624994Z"
    }
   },
   "outputs": [
    {
     "data": {
      "text/plain": [
       "(1000, 7)"
      ]
     },
     "execution_count": 16,
     "metadata": {},
     "output_type": "execute_result"
    }
   ],
   "source": [
    "np.shape(coefvarfval)"
   ]
  },
  {
   "cell_type": "markdown",
   "id": "e069562d",
   "metadata": {},
   "source": [
    "# Unimos coeficientes con los datos"
   ]
  },
  {
   "cell_type": "code",
   "execution_count": 17,
   "id": "a973df40",
   "metadata": {
    "ExecuteTime": {
     "end_time": "2023-05-02T05:30:35.237977Z",
     "start_time": "2023-05-02T05:30:34.978449Z"
    }
   },
   "outputs": [],
   "source": [
    "train_dataset = tf.data.Dataset.from_tensor_slices((varftrain, coefvarftrain))\n",
    "test_dataset = tf.data.Dataset.from_tensor_slices((varftest, coefvarftest))\n",
    "val_dataset = tf.data.Dataset.from_tensor_slices((varfval, coefvarfval))"
   ]
  },
  {
   "cell_type": "code",
   "execution_count": 18,
   "id": "bc7ee207",
   "metadata": {
    "ExecuteTime": {
     "end_time": "2023-05-02T05:30:35.285483Z",
     "start_time": "2023-05-02T05:30:35.270989Z"
    }
   },
   "outputs": [
    {
     "data": {
      "text/plain": [
       "<TensorSliceDataset element_spec=(TensorSpec(shape=(100, 10, 2), dtype=tf.float64, name=None), TensorSpec(shape=(7,), dtype=tf.int32, name=None))>"
      ]
     },
     "execution_count": 18,
     "metadata": {},
     "output_type": "execute_result"
    }
   ],
   "source": [
    "train_dataset"
   ]
  },
  {
   "cell_type": "markdown",
   "id": "05ebcd40",
   "metadata": {
    "ExecuteTime": {
     "end_time": "2023-02-07T19:36:45.065835Z",
     "start_time": "2023-02-07T19:36:45.042683Z"
    }
   },
   "source": [
    "# Mezclar y procesar por lotes los conjuntos de datos"
   ]
  },
  {
   "cell_type": "code",
   "execution_count": 19,
   "id": "eca4c6bc",
   "metadata": {
    "ExecuteTime": {
     "end_time": "2023-05-02T05:30:36.157490Z",
     "start_time": "2023-05-02T05:30:36.128490Z"
    }
   },
   "outputs": [],
   "source": [
    "BATCH_SIZE = 10\n",
    "SHUFFLE_BUFFER_SIZE = 10\n",
    "\n",
    "train_dataset = train_dataset.shuffle(SHUFFLE_BUFFER_SIZE).batch(BATCH_SIZE)\n",
    "test_dataset = test_dataset.batch(BATCH_SIZE)\n",
    "val_dataset = val_dataset.batch(BATCH_SIZE)"
   ]
  },
  {
   "cell_type": "markdown",
   "id": "76914f6c",
   "metadata": {},
   "source": [
    "# Creación del modelo"
   ]
  },
  {
   "cell_type": "code",
   "execution_count": 20,
   "id": "7b273805",
   "metadata": {
    "ExecuteTime": {
     "end_time": "2023-05-02T05:30:36.772741Z",
     "start_time": "2023-05-02T05:30:36.765739Z"
    }
   },
   "outputs": [],
   "source": [
    "def custom_activation(x):\n",
    "    return 10 * tf.nn.sigmoid(x)"
   ]
  },
  {
   "cell_type": "code",
   "execution_count": 21,
   "id": "4e125f35",
   "metadata": {
    "ExecuteTime": {
     "end_time": "2023-05-02T05:30:41.844542Z",
     "start_time": "2023-05-02T05:30:41.762450Z"
    }
   },
   "outputs": [],
   "source": [
    "model = Sequential()\n",
    "# Primera capa convolucional\n",
    "model.add(Conv2D(32, (3, 3), activation='tanh', input_shape=(100, 10, 2),kernel_initializer=HeNormal(), kernel_regularizer=l1(0.001)))\n",
    "model.add(MaxPooling2D(pool_size=(2, 2)))\n",
    "\n",
    "# Segunda capa convolucional\n",
    "model.add(Conv2D(64, (3, 3), activation='tanh',kernel_initializer=HeNormal(), kernel_regularizer=l1(0.001) ))\n",
    "model.add(MaxPooling2D(pool_size=(2, 2)))\n",
    "\n",
    "# Tercera capa convolucional\n",
    "#model.add(Conv2D(64, (3, 3), activation='tanh',kernel_initializer=HeNormal(), kernel_regularizer=l1(0.001)))\n",
    "\n",
    "model.add(Flatten())\n",
    "model.add(Dense(128, activation='tanh',kernel_initializer=HeNormal(), kernel_regularizer=l1(0.001)))\n",
    "model.add(Dense(64, activation='tanh',kernel_initializer=HeNormal(), kernel_regularizer=l1(0.001)))\n",
    "model.add(Dense(64,activation = 'relu',kernel_initializer=HeNormal(), kernel_regularizer=l1(0.001)))\n",
    "model.add(Dropout(0.3))\n",
    "model.add(Dense(7, activation= custom_activation))\n",
    "\n"
   ]
  },
  {
   "cell_type": "code",
   "execution_count": 22,
   "id": "45fd641f",
   "metadata": {
    "ExecuteTime": {
     "end_time": "2023-05-02T05:30:42.380323Z",
     "start_time": "2023-05-02T05:30:42.362284Z"
    }
   },
   "outputs": [
    {
     "name": "stdout",
     "output_type": "stream",
     "text": [
      "Model: \"sequential\"\n",
      "_________________________________________________________________\n",
      " Layer (type)                Output Shape              Param #   \n",
      "=================================================================\n",
      " conv2d (Conv2D)             (None, 98, 8, 32)         608       \n",
      "                                                                 \n",
      " max_pooling2d (MaxPooling2D  (None, 49, 4, 32)        0         \n",
      " )                                                               \n",
      "                                                                 \n",
      " conv2d_1 (Conv2D)           (None, 47, 2, 64)         18496     \n",
      "                                                                 \n",
      " max_pooling2d_1 (MaxPooling  (None, 23, 1, 64)        0         \n",
      " 2D)                                                             \n",
      "                                                                 \n",
      " flatten (Flatten)           (None, 1472)              0         \n",
      "                                                                 \n",
      " dense (Dense)               (None, 128)               188544    \n",
      "                                                                 \n",
      " dense_1 (Dense)             (None, 64)                8256      \n",
      "                                                                 \n",
      " dense_2 (Dense)             (None, 64)                4160      \n",
      "                                                                 \n",
      " dropout (Dropout)           (None, 64)                0         \n",
      "                                                                 \n",
      " dense_3 (Dense)             (None, 7)                 455       \n",
      "                                                                 \n",
      "=================================================================\n",
      "Total params: 220,519\n",
      "Trainable params: 220,519\n",
      "Non-trainable params: 0\n",
      "_________________________________________________________________\n"
     ]
    }
   ],
   "source": [
    "model.summary()"
   ]
  },
  {
   "cell_type": "code",
   "execution_count": 23,
   "id": "78ca1c7f",
   "metadata": {
    "ExecuteTime": {
     "end_time": "2023-05-02T05:30:42.676037Z",
     "start_time": "2023-05-02T05:30:42.672276Z"
    }
   },
   "outputs": [
    {
     "name": "stdout",
     "output_type": "stream",
     "text": [
      "You must install pydot (`pip install pydot`) and install graphviz (see instructions at https://graphviz.gitlab.io/download/) for plot_model to work.\n"
     ]
    }
   ],
   "source": [
    "keras.utils.plot_model(model,show_shapes=True)"
   ]
  },
  {
   "cell_type": "markdown",
   "id": "b761554a",
   "metadata": {},
   "source": [
    "# Entrenamos el modelo"
   ]
  },
  {
   "cell_type": "code",
   "execution_count": 24,
   "id": "a8d0852b",
   "metadata": {
    "ExecuteTime": {
     "end_time": "2023-05-02T05:30:43.522751Z",
     "start_time": "2023-05-02T05:30:43.519935Z"
    }
   },
   "outputs": [],
   "source": [
    "from keras.optimizers import Adam\n",
    "optimizer = Adam(learning_rate=0.001,clipvalue=10.0)"
   ]
  },
  {
   "cell_type": "code",
   "execution_count": 25,
   "id": "4316785f",
   "metadata": {
    "ExecuteTime": {
     "end_time": "2023-05-02T05:30:44.071019Z",
     "start_time": "2023-05-02T05:30:44.061312Z"
    }
   },
   "outputs": [],
   "source": [
    "model.compile(optimizer= optimizer,\n",
    "              loss= 'MSE',\n",
    "              metrics=['mae'])\n"
   ]
  },
  {
   "cell_type": "code",
   "execution_count": 26,
   "id": "d1303e8d",
   "metadata": {
    "ExecuteTime": {
     "end_time": "2023-05-02T05:30:44.413764Z",
     "start_time": "2023-05-02T05:30:44.405453Z"
    }
   },
   "outputs": [],
   "source": [
    "def scheduler(epoch, lr):\n",
    "  if epoch < 100:\n",
    "    return lr\n",
    "  else:\n",
    "    return 1e-3 -  2e-8* epoch"
   ]
  },
  {
   "cell_type": "code",
   "execution_count": 28,
   "id": "88d710c6",
   "metadata": {
    "ExecuteTime": {
     "end_time": "2023-05-02T05:31:57.073451Z",
     "start_time": "2023-05-02T05:31:01.330453Z"
    }
   },
   "outputs": [
    {
     "name": "stdout",
     "output_type": "stream",
     "text": [
      "Epoch 1/20\n",
      "700/700 [==============================] - 3s 4ms/step - loss: 6.8699 - accuracy: 0.3507 - val_loss: 6.5447 - val_accuracy: 0.3950 - lr: 0.0010\n",
      "Epoch 2/20\n",
      "700/700 [==============================] - 3s 4ms/step - loss: 6.6101 - accuracy: 0.3546 - val_loss: 6.1257 - val_accuracy: 0.4000 - lr: 0.0010\n",
      "Epoch 3/20\n",
      "700/700 [==============================] - 3s 4ms/step - loss: 6.2998 - accuracy: 0.3597 - val_loss: 6.0072 - val_accuracy: 0.4040 - lr: 0.0010\n",
      "Epoch 4/20\n",
      "700/700 [==============================] - 3s 4ms/step - loss: 6.1733 - accuracy: 0.3620 - val_loss: 5.8728 - val_accuracy: 0.4050 - lr: 0.0010\n",
      "Epoch 5/20\n",
      "700/700 [==============================] - 3s 4ms/step - loss: 6.0264 - accuracy: 0.3651 - val_loss: 5.7072 - val_accuracy: 0.4060 - lr: 0.0010\n",
      "Epoch 6/20\n",
      "700/700 [==============================] - 3s 4ms/step - loss: 5.8615 - accuracy: 0.3707 - val_loss: 5.7703 - val_accuracy: 0.4130 - lr: 0.0010\n",
      "Epoch 7/20\n",
      "700/700 [==============================] - 3s 4ms/step - loss: 5.9051 - accuracy: 0.3713 - val_loss: 5.6668 - val_accuracy: 0.4090 - lr: 0.0010\n",
      "Epoch 8/20\n",
      "700/700 [==============================] - 3s 4ms/step - loss: 5.7091 - accuracy: 0.3821 - val_loss: 5.4523 - val_accuracy: 0.4210 - lr: 0.0010\n",
      "Epoch 9/20\n",
      "700/700 [==============================] - 3s 4ms/step - loss: 5.6559 - accuracy: 0.3791 - val_loss: 5.4298 - val_accuracy: 0.4030 - lr: 0.0010\n",
      "Epoch 10/20\n",
      "700/700 [==============================] - 3s 4ms/step - loss: 5.6295 - accuracy: 0.3841 - val_loss: 5.4370 - val_accuracy: 0.4330 - lr: 0.0010\n",
      "Epoch 11/20\n",
      "700/700 [==============================] - 3s 4ms/step - loss: 5.5780 - accuracy: 0.4003 - val_loss: 5.5003 - val_accuracy: 0.4310 - lr: 0.0010\n",
      "Epoch 12/20\n",
      "700/700 [==============================] - 3s 4ms/step - loss: 5.5631 - accuracy: 0.4023 - val_loss: 5.2877 - val_accuracy: 0.4240 - lr: 0.0010\n",
      "Epoch 13/20\n",
      "700/700 [==============================] - 3s 4ms/step - loss: 5.4706 - accuracy: 0.4060 - val_loss: 5.5001 - val_accuracy: 0.4520 - lr: 0.0010\n",
      "Epoch 14/20\n",
      "700/700 [==============================] - 3s 4ms/step - loss: 5.4498 - accuracy: 0.4153 - val_loss: 5.1518 - val_accuracy: 0.4370 - lr: 0.0010\n",
      "Epoch 15/20\n",
      "700/700 [==============================] - 3s 4ms/step - loss: 5.3785 - accuracy: 0.4197 - val_loss: 5.2832 - val_accuracy: 0.4320 - lr: 0.0010\n",
      "Epoch 16/20\n",
      "700/700 [==============================] - 3s 4ms/step - loss: 5.3435 - accuracy: 0.4226 - val_loss: 5.2049 - val_accuracy: 0.4650 - lr: 0.0010\n",
      "Epoch 17/20\n",
      "700/700 [==============================] - 3s 4ms/step - loss: 5.3295 - accuracy: 0.4333 - val_loss: 5.1675 - val_accuracy: 0.4510 - lr: 0.0010\n",
      "Epoch 18/20\n",
      "700/700 [==============================] - 3s 4ms/step - loss: 5.3624 - accuracy: 0.4276 - val_loss: 5.1210 - val_accuracy: 0.4500 - lr: 0.0010\n",
      "Epoch 19/20\n",
      "700/700 [==============================] - 3s 4ms/step - loss: 5.3368 - accuracy: 0.4313 - val_loss: 5.2836 - val_accuracy: 0.4350 - lr: 0.0010\n",
      "Epoch 20/20\n",
      "700/700 [==============================] - 3s 4ms/step - loss: 5.2206 - accuracy: 0.4361 - val_loss: 5.0377 - val_accuracy: 0.4750 - lr: 0.0010\n"
     ]
    }
   ],
   "source": [
    "val_epochs = 1000\n",
    "\n",
    "early_stop = tf.keras.callbacks.EarlyStopping( monitor = 'val_loss', patience = 800,verbose = 1, \n",
    "                                              restore_best_weights = True)\n",
    "\n",
    "reduce_lr = tf.keras.callbacks.LearningRateScheduler(scheduler)\n",
    "history = model.fit(train_dataset, validation_data=val_dataset, epochs= val_epochs, callbacks=[reduce_lr, early_stop])"
   ]
  },
  {
   "cell_type": "markdown",
   "id": "7b9d5d5d",
   "metadata": {},
   "source": [
    "# Analizamos accuracy y loss"
   ]
  },
  {
   "cell_type": "code",
   "execution_count": 29,
   "id": "c2c35f5e",
   "metadata": {
    "ExecuteTime": {
     "end_time": "2023-05-02T05:33:02.082181Z",
     "start_time": "2023-05-02T05:33:01.933672Z"
    }
   },
   "outputs": [
    {
     "data": {
      "image/png": "[encoded data removed]",
      "text/plain": [
       "<Figure size 800x800 with 2 Axes>"
      ]
     },
     "metadata": {},
     "output_type": "display_data"
    }
   ],
   "source": [
    "acc = history.history['mae']\n",
    "val_acc = history.history['val_mae']\n",
    "\n",
    "loss = history.history['loss']\n",
    "val_loss = history.history['val_loss']\n",
    "\n",
    "epochs_range = range(val_epochs)\n",
    "\n",
    "plt.figure(figsize=(8, 8))\n",
    "plt.subplot(1, 2, 1)\n",
    "plt.plot(epochs_range, acc, label='Training Accuracy')\n",
    "plt.plot(epochs_range, val_acc, label='Validation Accuracy')\n",
    "plt.legend(loc='lower right')\n",
    "plt.title('Training and Validation Accuracy')\n",
    "\n",
    "plt.subplot(1, 2, 2)\n",
    "plt.plot(epochs_range, loss, label='Training Loss')\n",
    "plt.plot(epochs_range, val_loss, label='Validation Loss')\n",
    "plt.legend(loc='upper right')\n",
    "plt.title('Training and Validation Loss')\n",
    "plt.show()"
   ]
  },
  {
   "cell_type": "markdown",
   "id": "e4a46d74",
   "metadata": {},
   "source": [
    "# Guardamos los datos de Accuracy y Loss"
   ]
  },
  {
   "cell_type": "code",
   "execution_count": 30,
   "id": "6be459ef",
   "metadata": {
    "ExecuteTime": {
     "end_time": "2023-05-02T05:33:11.229031Z",
     "start_time": "2023-05-02T05:33:11.220757Z"
    }
   },
   "outputs": [],
   "source": [
    "df = pd.DataFrame.from_dict(history.history)\n",
    "df.to_csv('../../../Gráficas finales con ruido/History 50,100/historyconvtrayec.csv', index=False)"
   ]
  },
  {
   "cell_type": "markdown",
   "id": "e1af1d19",
   "metadata": {},
   "source": [
    "# Guardamos el modelo"
   ]
  },
  {
   "cell_type": "code",
   "execution_count": 31,
   "id": "3a346828",
   "metadata": {
    "ExecuteTime": {
     "end_time": "2023-05-02T05:33:12.744450Z",
     "start_time": "2023-05-02T05:33:12.731450Z"
    }
   },
   "outputs": [],
   "source": [
    "path_to_save = '../../../Modelos/Modelos 50,100/'"
   ]
  },
  {
   "cell_type": "code",
   "execution_count": 32,
   "id": "8e86a52a",
   "metadata": {
    "ExecuteTime": {
     "end_time": "2023-05-02T05:33:13.041745Z",
     "start_time": "2023-05-02T05:33:13.013655Z"
    }
   },
   "outputs": [],
   "source": [
    "model.save(path_to_save + '/convolucionaltr.h5')"
   ]
  },
  {
   "cell_type": "markdown",
   "id": "efc9d48d",
   "metadata": {},
   "source": [
    "# Importamos el modelo"
   ]
  },
  {
   "cell_type": "code",
   "execution_count": 33,
   "id": "d1d4a1a9",
   "metadata": {
    "ExecuteTime": {
     "end_time": "2023-05-02T05:33:15.336543Z",
     "start_time": "2023-05-02T05:33:15.245857Z"
    }
   },
   "outputs": [],
   "source": [
    "custom_objects = {'custom_activation': custom_activation}\n",
    "new_model = keras.models.load_model('../../../Modelos con ruido/Modelos 50,100/convolucionaltr.h5', custom_objects=custom_objects)"
   ]
  },
  {
   "cell_type": "markdown",
   "id": "7f6d0ea9",
   "metadata": {},
   "source": [
    "# Probamos el modelo con datos nuevos"
   ]
  },
  {
   "cell_type": "markdown",
   "id": "6ad7f37d",
   "metadata": {},
   "source": [
    "## Creamos nuevos datos"
   ]
  },
  {
   "cell_type": "code",
   "execution_count": 34,
   "id": "b664f200",
   "metadata": {
    "ExecuteTime": {
     "end_time": "2023-05-02T05:33:22.029518Z",
     "start_time": "2023-05-02T05:33:21.901455Z"
    }
   },
   "outputs": [
    {
     "name": "stdout",
     "output_type": "stream",
     "text": [
      "--------------------------------------------\n",
      "[8, 2, 0, 10, 7, 6, 4]\n",
      "(10, 2, 100)\n",
      "1\n"
     ]
    }
   ],
   "source": [
    "import random\n",
    "from scipy.integrate import solve_ivp\n",
    "\n",
    "varf = []\n",
    "coef = []\n",
    "contador = 0\n",
    "for i in range(0, 1):\n",
    "    # constantes\n",
    "    a1 = random.randint(0, 10)\n",
    "    a2 = random.randint(0, 10)\n",
    "    b1 = random.randint(0, 10)\n",
    "    b2 = random.randint(0, 10)\n",
    "    d1 = random.randint(0, 10)\n",
    "    d2 = random.randint(0, 10)\n",
    "    n = random.randint(0, 5)\n",
    "\n",
    "    coef1 = [a1, a2, b1, b2, d1, d2, n]\n",
    "    coef.append(coef1)\n",
    "\n",
    "    def f(t, y):\n",
    "\n",
    "        # asignar a cada ODE a un elemento de vector\n",
    "        X = y[0]\n",
    "        Y = y[1]\n",
    "\n",
    "        # definimos cada ODE\n",
    "        # dX_dt=a1/(1+Y**n)-d1*X+b1\n",
    "        # dY_dt=a2/(1+X**n)-d2*Y+b2\n",
    "        dX_dt = a1/(1+Y**n)-d1*X+b1\n",
    "        dY_dt = a2/(1+X**n)-d2*Y+b1\n",
    "\n",
    "        return [dX_dt, dY_dt]\n",
    "\n",
    "    # Declaramos el vector de tiempo\n",
    "    t_span = [0, 5]\n",
    "    times = np.linspace(t_span[0], t_span[1], 100)\n",
    "\n",
    "    varfci2 = []\n",
    "    for i_ci in range(0, 10):\n",
    "        # Definimos las condiciones iniciales\n",
    "        y0 = np.array([random.randint(0, 10), random.randint(0, 10)])\n",
    "\n",
    "        # Resolvemos\n",
    "        # Modificar manualmente el intervalo de tiempo\n",
    "        sol = solve_ivp(f, t_span, y0, t_eval=times)\n",
    "        # sol=solve_ivp(f, t_span, y0) #Dejar que la librería elija el mejor intervalo\n",
    "        tiempo = sol.t\n",
    "        var1 = sol.y[0]\n",
    "        var2 = sol.y[1]\n",
    "\n",
    "        varfci = np.append([var1], [var2], axis=0)\n",
    "        varfci2.append(varfci)\n",
    "\n",
    "       \n",
    "\n",
    "    varf= varfci2\n",
    "    print('--------------------------------------------')\n",
    "    print(coef1)\n",
    "    print(np.shape(varf))\n",
    "    contador = contador+1\n",
    "    print(contador)\n",
    "\n",
    "varf = np.array(varf)\n",
    "coef = np.array(coef)"
   ]
  },
  {
   "cell_type": "code",
   "execution_count": 35,
   "id": "ffbe4d61",
   "metadata": {
    "ExecuteTime": {
     "end_time": "2023-05-02T05:33:27.446032Z",
     "start_time": "2023-05-02T05:33:27.431958Z"
    }
   },
   "outputs": [],
   "source": [
    "varfnone = varf[None, :]\n",
    "varfnone = np.transpose(varfnone, (0,3,1,2))"
   ]
  },
  {
   "cell_type": "markdown",
   "id": "4ea4942b",
   "metadata": {},
   "source": [
    "## Predecimos con los datos nuevos"
   ]
  },
  {
   "cell_type": "code",
   "execution_count": 36,
   "id": "37dce68f",
   "metadata": {
    "ExecuteTime": {
     "end_time": "2023-05-02T05:33:29.865198Z",
     "start_time": "2023-05-02T05:33:29.767219Z"
    }
   },
   "outputs": [
    {
     "name": "stdout",
     "output_type": "stream",
     "text": [
      "1/1 [==============================] - 0s 67ms/step\n",
      "[[8.129093   2.3271677  0.42919415 4.925248   6.156442   7.401237\n",
      "  2.8857615 ]]\n",
      "[[8. 2. 0. 5. 6. 7. 3.]]\n"
     ]
    }
   ],
   "source": [
    "new_predictions = new_model.predict(varfnone)\n",
    "new_predictions = np.round(new_predictions)\n",
    "new_predictions = np.clip(new_predictions, 0, None)\n",
    "print(new_predictions)"
   ]
  },
  {
   "cell_type": "markdown",
   "id": "06c64a67",
   "metadata": {},
   "source": [
    "## Graficamos con los coeficientes reales"
   ]
  },
  {
   "cell_type": "code",
   "execution_count": 38,
   "id": "930a1b59",
   "metadata": {
    "ExecuteTime": {
     "end_time": "2023-05-02T05:33:53.433718Z",
     "start_time": "2023-05-02T05:33:53.352450Z"
    }
   },
   "outputs": [
    {
     "data": {
      "image/png": "[encoded data removed]",
      "text/plain": [
       "<Figure size 500x500 with 1 Axes>"
      ]
     },
     "metadata": {},
     "output_type": "display_data"
    }
   ],
   "source": [
    "t_span = [0, 5]\n",
    "times = np.linspace(t_span[0], t_span[1], 100)\n",
    "plt.figure(figsize=(5,5))\n",
    "plt.plot(times,np.array(varf)[0,0,:], label=\" Concentración X\")\n",
    "plt.plot(times,np.array(varf)[0,1,:], label=\"Concentración Y\")\n",
    "plt.xlabel('Tiempo')\n",
    "plt.ylabel('Concentración de genes')\n",
    "plt.title('Simulación Toggle Swich', fontsize=20)\n",
    "plt.legend()\n",
    "plt.show()"
   ]
  },
  {
   "cell_type": "code",
   "execution_count": 92,
   "id": "be8f3283",
   "metadata": {
    "ExecuteTime": {
     "end_time": "2023-05-02T03:03:51.300120Z",
     "start_time": "2023-05-02T03:03:51.287299Z"
    }
   },
   "outputs": [
    {
     "data": {
      "text/plain": [
       "(1, 7)"
      ]
     },
     "execution_count": 92,
     "metadata": {},
     "output_type": "execute_result"
    }
   ],
   "source": [
    "np.shape(new_predictions)"
   ]
  },
  {
   "cell_type": "markdown",
   "id": "beb6126d",
   "metadata": {},
   "source": [
    "## Graficamos con los coeficientes predecidos"
   ]
  },
  {
   "cell_type": "code",
   "execution_count": 40,
   "id": "84ae10b1",
   "metadata": {
    "ExecuteTime": {
     "end_time": "2023-05-02T05:35:20.159871Z",
     "start_time": "2023-05-02T05:35:20.070136Z"
    }
   },
   "outputs": [
    {
     "data": {
      "image/png": "[encoded data removed]",
      "text/plain": [
       "<Figure size 500x500 with 1 Axes>"
      ]
     },
     "metadata": {},
     "output_type": "display_data"
    }
   ],
   "source": [
    "a1 = new_predictions[0,0]\n",
    "a2 = new_predictions[0,1]\n",
    "b1 = new_predictions[0,2]\n",
    "b2 = new_predictions[0,3]\n",
    "d1 = new_predictions[0,4]\n",
    "d2 = new_predictions[0,5]\n",
    "n = new_predictions[0,6]\n",
    " \n",
    "def f(t, y):\n",
    "\n",
    "    # asignar a cada ODE a un elemento de vector\n",
    "    X = y[0]\n",
    "    Y = y[1]\n",
    "\n",
    "    # definimos cada ODE\n",
    "    dX_dt = a1/(1+Y**n)-d1*X+b1\n",
    "    dY_dt = a2/(1+X**n)-d2*Y+b1\n",
    "\n",
    "    return [dX_dt, dY_dt]\n",
    "\n",
    "# Declaramos el vector de tiempo\n",
    "t_span = [0, 5]\n",
    "times = np.linspace(t_span[0], t_span[1], 100)\n",
    "\n",
    "# Definimos las condiciones iniciales\n",
    "y0 = np.array([5,2])\n",
    "\n",
    "# Resolvemos\n",
    "# Modificar manualmente el intervalo de tiempo\n",
    "sol = solve_ivp(f, t_span, y0, t_eval=times)\n",
    "# sol=solve_ivp(f, t_span, y0) #Dejar que la librería elija el mejor intervalo\n",
    "tiempo = sol.t\n",
    "var1 = sol.y[0]\n",
    "var2 = sol.y[1]\n",
    "\n",
    "# Graficamos\n",
    "plt.figure(figsize=(5, 5))\n",
    "plt.plot(tiempo, var1, label=\" Concentración X\")\n",
    "plt.plot(tiempo, var2, label=\"Concentración Y\")\n",
    "plt.xlabel('Tiempo')\n",
    "plt.ylabel('Concentración de genes')\n",
    "plt.title('Simulación Toggle Swich', fontsize=20)\n",
    "plt.legend()\n",
    "plt.show()"
   ]
  }
 ],
 "metadata": {
  "hide_input": false,
  "kernelspec": {
   "display_name": "Python 3 (ipykernel)",
   "language": "python",
   "name": "python3"
  },
  "language_info": {
   "codemirror_mode": {
    "name": "ipython",
    "version": 3
   },
   "file_extension": ".py",
   "mimetype": "text/x-python",
   "name": "python",
   "nbconvert_exporter": "python",
   "pygments_lexer": "ipython3",
   "version": "3.10.11"
  },
  "latex_envs": {
   "LaTeX_envs_menu_present": true,
   "autoclose": true,
   "autocomplete": true,
   "bibliofile": "biblio.bib",
   "cite_by": "apalike",
   "current_citInitial": 1,
   "eqLabelWithNumbers": true,
   "eqNumInitial": 1,
   "hotkeys": {
    "equation": "Ctrl-E",
    "itemize": "Ctrl-I"
   },
   "labels_anchors": false,
   "latex_user_defs": false,
   "report_style_numbering": true,
   "user_envs_cfg": false
  },
  "toc": {
   "base_numbering": 1,
   "nav_menu": {},
   "number_sections": true,
   "sideBar": true,
   "skip_h1_title": false,
   "title_cell": "Table of Contents",
   "title_sidebar": "Contents",
   "toc_cell": false,
   "toc_position": {},
   "toc_section_display": true,
   "toc_window_display": false
  },
  "varInspector": {
   "cols": {
    "lenName": 16,
    "lenType": 16,
    "lenVar": 40
   },
   "kernels_config": {
    "python": {
     "delete_cmd_postfix": "",
     "delete_cmd_prefix": "del ",
     "library": "var_list.py",
     "varRefreshCmd": "print(var_dic_list())"
    },
    "r": {
     "delete_cmd_postfix": ") ",
     "delete_cmd_prefix": "rm(",
     "library": "var_list.r",
     "varRefreshCmd": "cat(var_dic_list()) "
    }
   },
   "types_to_exclude": [
    "module",
    "function",
    "builtin_function_or_method",
    "instance",
    "_Feature"
   ],
   "window_display": false
  }
 },
 "nbformat": 4,
 "nbformat_minor": 5
}
